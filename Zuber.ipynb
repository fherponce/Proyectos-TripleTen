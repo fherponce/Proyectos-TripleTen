{
 "cells": [
  {
   "cell_type": "markdown",
   "metadata": {},
   "source": [
    "# Proyecto de análisis de la empresa Zuber "
   ]
  },
  {
   "cell_type": "markdown",
   "metadata": {},
   "source": [
    "En el siguiente análisis, presentaremos información de la empresa Zuber, una nueva empresa de viajes compartidos. Los datos que tenemos a continuación son de Noviembre del 2017 de la ciudad de Chicago, los viajes hechos por las diferentes compañías de taxis, así como la información del viaje como el destino y la duración. \n",
    "\n",
    "El objetivo de nuestro análisis es determinar si hay patrones de acuerdo a las preferencias de los pasajeros y el impacto de los factores externos como el clima. \n",
    "\n",
    "Analizaremos nuestros datos según los barrios, duración y compañías."
   ]
  },
  {
   "cell_type": "markdown",
   "metadata": {},
   "source": [
    "## Preparación de los datos"
   ]
  },
  {
   "cell_type": "markdown",
   "metadata": {},
   "source": [
    "Vamos a realizar nuestro análisis, primero preparando y limpiando nuestros datos, identificando duplicados y ausentes, así como conviertiendo datos al tipo de datos más útil para nuestro análisis."
   ]
  },
  {
   "cell_type": "markdown",
   "metadata": {},
   "source": [
    "### Cargar datos "
   ]
  },
  {
   "cell_type": "code",
   "execution_count": 1,
   "metadata": {},
   "outputs": [],
   "source": [
    "# Cargamos todas las librerías\n",
    "from scipy import stats as st\n",
    "import numpy as np\n",
    "import pandas as pd\n",
    "from matplotlib import pyplot as plt \n",
    "import seaborn as sns"
   ]
  },
  {
   "cell_type": "code",
   "execution_count": 6,
   "metadata": {},
   "outputs": [],
   "source": [
    "# Cargamos los dataset\n",
    "df_companies = pd.read_csv('/datasets/project_sql_result_01.csv', header='infer')\n",
    "df_location = pd.read_csv('/datasets/project_sql_result_04.csv', header='infer')\n",
    "df_loop = pd.read_csv('/datasets/project_sql_result_07.csv', header='infer')"
   ]
  },
  {
   "cell_type": "markdown",
   "metadata": {},
   "source": [
    "#### Descripción de los datos "
   ]
  },
  {
   "cell_type": "markdown",
   "metadata": {},
   "source": [
    "**df_companies:**\n",
    "* *company_name*: nombre de la empresa de taxis\n",
    "* *trips_amount*: el número de viajes de cada compañía de taxis el 15 y 16 de noviembre de 2017.\n",
    "\n",
    "**df_location:**\n",
    "* *dropoff_location_name*: barrios de Chicago donde finalizaron los viajes\n",
    "* *average_trips*: el promedio de viajes que terminaron en cada barrio en noviembre de 2017.\n",
    "\n",
    "**df_loop:**\n",
    "* *start_ts*: fecha y hora de la recogida del Loop hacia el Aeropuerto Internacional O'Hare\n",
    "* *weather_conditions*: condiciones climáticas en el momento en el que comenzó el viaje\n",
    "* *duration_seconds*: duración del viaje en segundos"
   ]
  },
  {
   "cell_type": "markdown",
   "metadata": {},
   "source": [
    "#### df_companies"
   ]
  },
  {
   "cell_type": "code",
   "execution_count": 3,
   "metadata": {},
   "outputs": [
    {
     "name": "stdout",
     "output_type": "stream",
     "text": [
      "<class 'pandas.core.frame.DataFrame'>\n",
      "RangeIndex: 64 entries, 0 to 63\n",
      "Data columns (total 2 columns):\n",
      " #   Column        Non-Null Count  Dtype \n",
      "---  ------        --------------  ----- \n",
      " 0   company_name  64 non-null     object\n",
      " 1   trips_amount  64 non-null     int64 \n",
      "dtypes: int64(1), object(1)\n",
      "memory usage: 1.1+ KB\n",
      "0\n"
     ]
    }
   ],
   "source": [
    "# Imprimimos información general de df_companies y verificamos si hay filas duplicadas\n",
    "df_companies.info()\n",
    "print(df_companies.duplicated().sum())"
   ]
  },
  {
   "cell_type": "code",
   "execution_count": 5,
   "metadata": {},
   "outputs": [
    {
     "name": "stdout",
     "output_type": "stream",
     "text": [
      "                       company_name  trips_amount\n",
      "0                         Flash Cab         19558\n",
      "1         Taxi Affiliation Services         11422\n",
      "2                 Medallion Leasing         10367\n",
      "3                        Yellow Cab          9888\n",
      "4   Taxi Affiliation Service Yellow          9299\n",
      "..                              ...           ...\n",
      "59     4053 - 40193 Adwar H. Nikola             7\n",
      "60          2733 - 74600 Benny Jona             7\n",
      "61    5874 - 73628 Sergey Cab Corp.             5\n",
      "62       2241 - 44667 - Felman Corp             3\n",
      "63      3556 - 36214 RC Andrews Cab             2\n",
      "\n",
      "[64 rows x 2 columns]\n"
     ]
    }
   ],
   "source": [
    "#Mostramos el DataFrame \n",
    "print(df_companies)"
   ]
  },
  {
   "cell_type": "markdown",
   "metadata": {},
   "source": [
    "#### df_location"
   ]
  },
  {
   "cell_type": "code",
   "execution_count": 4,
   "metadata": {},
   "outputs": [
    {
     "name": "stdout",
     "output_type": "stream",
     "text": [
      "<class 'pandas.core.frame.DataFrame'>\n",
      "RangeIndex: 94 entries, 0 to 93\n",
      "Data columns (total 2 columns):\n",
      " #   Column                 Non-Null Count  Dtype  \n",
      "---  ------                 --------------  -----  \n",
      " 0   dropoff_location_name  94 non-null     object \n",
      " 1   average_trips          94 non-null     float64\n",
      "dtypes: float64(1), object(1)\n",
      "memory usage: 1.6+ KB\n",
      "0\n"
     ]
    }
   ],
   "source": [
    "# Imprimimos información general de df_location y verificamos si hay filas duplicadas\n",
    "df_location.info()\n",
    "print(df_location.duplicated().sum())"
   ]
  },
  {
   "cell_type": "code",
   "execution_count": 8,
   "metadata": {},
   "outputs": [
    {
     "name": "stdout",
     "output_type": "stream",
     "text": [
      "   dropoff_location_name  average_trips\n",
      "0                   Loop   10727.466667\n",
      "1            River North    9523.666667\n",
      "2          Streeterville    6664.666667\n",
      "3              West Loop    5163.666667\n",
      "4                 O'Hare    2546.900000\n",
      "..                   ...            ...\n",
      "89       Mount Greenwood       3.137931\n",
      "90             Hegewisch       3.117647\n",
      "91              Burnside       2.333333\n",
      "92             East Side       1.961538\n",
      "93             Riverdale       1.800000\n",
      "\n",
      "[94 rows x 2 columns]\n"
     ]
    }
   ],
   "source": [
    "# Mostramos los datos\n",
    "print(df_location)"
   ]
  },
  {
   "cell_type": "markdown",
   "metadata": {},
   "source": [
    "#### df_loop"
   ]
  },
  {
   "cell_type": "code",
   "execution_count": 7,
   "metadata": {},
   "outputs": [
    {
     "name": "stdout",
     "output_type": "stream",
     "text": [
      "<class 'pandas.core.frame.DataFrame'>\n",
      "RangeIndex: 1068 entries, 0 to 1067\n",
      "Data columns (total 3 columns):\n",
      " #   Column              Non-Null Count  Dtype  \n",
      "---  ------              --------------  -----  \n",
      " 0   start_ts            1068 non-null   object \n",
      " 1   weather_conditions  1068 non-null   object \n",
      " 2   duration_seconds    1068 non-null   float64\n",
      "dtypes: float64(1), object(2)\n",
      "memory usage: 25.2+ KB\n",
      "197\n"
     ]
    }
   ],
   "source": [
    "# Imprimimos información general de df_loop y verificamos si hay filas duplicadas\n",
    "df_loop.info()\n",
    "print(df_loop.duplicated().sum())"
   ]
  },
  {
   "cell_type": "code",
   "execution_count": 10,
   "metadata": {},
   "outputs": [
    {
     "name": "stdout",
     "output_type": "stream",
     "text": [
      "                 start_ts weather_conditions  duration_seconds\n",
      "0     2017-11-25 16:00:00               Good            2410.0\n",
      "1     2017-11-25 14:00:00               Good            1920.0\n",
      "2     2017-11-25 12:00:00               Good            1543.0\n",
      "3     2017-11-04 10:00:00               Good            2512.0\n",
      "4     2017-11-11 07:00:00               Good            1440.0\n",
      "...                   ...                ...               ...\n",
      "1063  2017-11-25 11:00:00               Good               0.0\n",
      "1064  2017-11-11 10:00:00               Good            1318.0\n",
      "1065  2017-11-11 13:00:00               Good            2100.0\n",
      "1066  2017-11-11 08:00:00               Good            1380.0\n",
      "1067  2017-11-04 16:00:00                Bad            2834.0\n",
      "\n",
      "[1068 rows x 3 columns]\n"
     ]
    }
   ],
   "source": [
    "# Mostramos los datos\n",
    "print(df_loop)"
   ]
  },
  {
   "cell_type": "markdown",
   "metadata": {},
   "source": [
    "#### Observaciones\n",
    "* Notamos que en df_companies y df_location no tenemos filas duplicadas. Sin embargo, en df_loop tenemos 197 filas completamente duplicadas. \n",
    "* En ninguno de los DataFrames tenemos datos ausentes\n",
    "* Los nombres de las columnas ya se encuentran en el estilo adecuado. \n",
    "* El tipo de dato de start_ts en df_loop se cambiará a datetime y evaluaremos si duration_seconds se puede cambiar a int\n"
   ]
  },
  {
   "cell_type": "markdown",
   "metadata": {},
   "source": [
    "### Limpieza de datos "
   ]
  },
  {
   "cell_type": "markdown",
   "metadata": {},
   "source": [
    "#### df_loop"
   ]
  },
  {
   "cell_type": "code",
   "execution_count": 15,
   "metadata": {},
   "outputs": [
    {
     "name": "stdout",
     "output_type": "stream",
     "text": [
      "0\n"
     ]
    }
   ],
   "source": [
    "# ELiminamos las filas completamente duplicadas de df_loop\n",
    "df_loop = df_loop.drop_duplicates()\n",
    "print(df_loop.duplicated().sum())"
   ]
  },
  {
   "cell_type": "code",
   "execution_count": 44,
   "metadata": {},
   "outputs": [
    {
     "name": "stdout",
     "output_type": "stream",
     "text": [
      "0      2017-11-25 16:00:00\n",
      "1      2017-11-25 14:00:00\n",
      "2      2017-11-25 12:00:00\n",
      "3      2017-11-04 10:00:00\n",
      "4      2017-11-11 07:00:00\n",
      "               ...        \n",
      "1060   2017-11-04 14:00:00\n",
      "1061   2017-11-18 16:00:00\n",
      "1063   2017-11-25 11:00:00\n",
      "1064   2017-11-11 10:00:00\n",
      "1067   2017-11-04 16:00:00\n",
      "Name: start_ts, Length: 871, dtype: datetime64[ns]\n"
     ]
    }
   ],
   "source": [
    "# Cambiamos el tipo de datos de start_ts\n",
    "df_loop['start_ts'] = pd.to_datetime(df_loop['start_ts'], format= '%Y-%m-%dT%H:%M:%S')\n",
    "print(df_loop['start_ts'])"
   ]
  },
  {
   "cell_type": "code",
   "execution_count": 18,
   "metadata": {},
   "outputs": [
    {
     "data": {
      "text/plain": [
       "True"
      ]
     },
     "execution_count": 18,
     "metadata": {},
     "output_type": "execute_result"
    }
   ],
   "source": [
    "#Comprobamos que no tengamos decimales en duration_seconds para convertir a int\n",
    "np.array_equal(df_loop['duration_seconds'], df_loop['duration_seconds'].astype('int'))"
   ]
  },
  {
   "cell_type": "code",
   "execution_count": 19,
   "metadata": {},
   "outputs": [
    {
     "name": "stdout",
     "output_type": "stream",
     "text": [
      "             start_ts weather_conditions  duration_seconds\n",
      "0 2017-11-25 16:00:00               Good              2410\n",
      "1 2017-11-25 14:00:00               Good              1920\n",
      "2 2017-11-25 12:00:00               Good              1543\n",
      "3 2017-11-04 10:00:00               Good              2512\n",
      "4 2017-11-11 07:00:00               Good              1440\n"
     ]
    }
   ],
   "source": [
    "# Convertimos a entero duration_seconds\n",
    "df_loop['duration_seconds'] = df_loop['duration_seconds'].astype('int')\n",
    "print(df_loop.head())"
   ]
  },
  {
   "cell_type": "markdown",
   "metadata": {},
   "source": [
    "#### df_companies"
   ]
  },
  {
   "cell_type": "code",
   "execution_count": 20,
   "metadata": {},
   "outputs": [
    {
     "name": "stdout",
     "output_type": "stream",
     "text": [
      "0\n"
     ]
    }
   ],
   "source": [
    "# Verificamos que no tengamos compañías duplicadas\n",
    "print(df_companies['company_name'].duplicated().sum())"
   ]
  },
  {
   "cell_type": "markdown",
   "metadata": {},
   "source": [
    "#### df_location"
   ]
  },
  {
   "cell_type": "code",
   "execution_count": 21,
   "metadata": {},
   "outputs": [
    {
     "name": "stdout",
     "output_type": "stream",
     "text": [
      "0\n"
     ]
    }
   ],
   "source": [
    "# Verificamos que no tengamos ubicaciones duplicadas\n",
    "print(df_location['dropoff_location_name'].duplicated().sum())"
   ]
  },
  {
   "cell_type": "markdown",
   "metadata": {},
   "source": [
    "## Análisis de datos"
   ]
  },
  {
   "cell_type": "markdown",
   "metadata": {},
   "source": [
    "### Barrios principales"
   ]
  },
  {
   "cell_type": "markdown",
   "metadata": {},
   "source": [
    "Identificamos los 10 barrios con el mayor promedio de viajes siendo el destino del viaje durante el mes de Noviembre."
   ]
  },
  {
   "cell_type": "code",
   "execution_count": 22,
   "metadata": {},
   "outputs": [
    {
     "name": "stdout",
     "output_type": "stream",
     "text": [
      "  dropoff_location_name  average_trips\n",
      "0                  Loop   10727.466667\n",
      "1           River North    9523.666667\n",
      "2         Streeterville    6664.666667\n",
      "3             West Loop    5163.666667\n",
      "4                O'Hare    2546.900000\n",
      "5             Lake View    2420.966667\n",
      "6            Grant Park    2068.533333\n",
      "7         Museum Campus    1510.000000\n",
      "8            Gold Coast    1364.233333\n",
      "9    Sheffield & DePaul    1259.766667\n"
     ]
    }
   ],
   "source": [
    "main_neighborhood = df_location.sort_values(by='average_trips', ascending = False).head(10)\n",
    "print(main_neighborhood)"
   ]
  },
  {
   "cell_type": "code",
   "execution_count": 53,
   "metadata": {},
   "outputs": [
    {
     "name": "stdout",
     "output_type": "stream",
     "text": [
      "56395.65044988819\n"
     ]
    }
   ],
   "source": [
    "print(df_location['average_trips'].sum())"
   ]
  },
  {
   "cell_type": "code",
   "execution_count": 25,
   "metadata": {},
   "outputs": [
    {
     "data": {
      "image/png": "[encoded data removed]",
      "text/plain": [
       "<Figure size 640x480 with 1 Axes>"
      ]
     },
     "metadata": {},
     "output_type": "display_data"
    }
   ],
   "source": [
    "# Realizamos gráfico de barras para visualizar los datos\n",
    "main_neighborhood.plot(y= 'average_trips',\n",
    "                       x='dropoff_location_name',\n",
    "                       title= 'Destinos con el mayor promedio de viajes',\n",
    "                       xlabel= 'Barrio',\n",
    "                       ylabel= 'Promedio de viajes', \n",
    "                       kind= 'bar',\n",
    "                       legend= False)\n",
    "plt.show()\n"
   ]
  },
  {
   "cell_type": "markdown",
   "metadata": {},
   "source": [
    "#### Observaciones"
   ]
  },
  {
   "cell_type": "markdown",
   "metadata": {},
   "source": [
    "* Notamos que el destino más popular es *Loop*, siendo que es la central del distrito financiero, sede del gobierno y la principal zona del centro de Chicago. \n",
    "* Seguido de *River North*, conocida por sus tiendas de lujo, galerias, restaurantes y bares. \n",
    "* En tercer lugar, está el destino *Streeterville*, donde se pueden encontrar hoteles, restaurantes, museos y un parque de diversiones. \n",
    "* A partir de *O'Hare* vemos que su promedio es a penas un 20% del promedio de *Loop*, probablemente no son destinos tan populares entre los turistas y locales. \n"
   ]
  },
  {
   "cell_type": "markdown",
   "metadata": {},
   "source": [
    "### Compañías populares"
   ]
  },
  {
   "cell_type": "markdown",
   "metadata": {},
   "source": [
    "Identificamos las 10 compañías con el mayor número de viajes el 15 y 16 de Noviembre."
   ]
  },
  {
   "cell_type": "code",
   "execution_count": 28,
   "metadata": {},
   "outputs": [
    {
     "name": "stdout",
     "output_type": "stream",
     "text": [
      "                        company_name  trips_amount\n",
      "0                          Flash Cab         19558\n",
      "1          Taxi Affiliation Services         11422\n",
      "2                  Medallion Leasing         10367\n",
      "3                         Yellow Cab          9888\n",
      "4    Taxi Affiliation Service Yellow          9299\n",
      "5          Chicago Carriage Cab Corp          9181\n",
      "6                       City Service          8448\n",
      "7                           Sun Taxi          7701\n",
      "8          Star North Management LLC          7455\n",
      "9  Blue Ribbon Taxi Association Inc.          5953\n",
      "\n",
      "El promedio de viajes de las compañías populares es: 9927.2\n"
     ]
    }
   ],
   "source": [
    "main_companies = df_companies.sort_values(by='trips_amount', ascending = False).head(10)\n",
    "print(main_companies)\n",
    "print()\n",
    "print('El promedio de viajes de las compañías populares es:', main_companies['trips_amount'].mean())"
   ]
  },
  {
   "cell_type": "code",
   "execution_count": 27,
   "metadata": {},
   "outputs": [
    {
     "data": {
      "image/png": "[encoded data removed]",
      "text/plain": [
       "<Figure size 640x480 with 1 Axes>"
      ]
     },
     "metadata": {},
     "output_type": "display_data"
    }
   ],
   "source": [
    "# Realizamos gráfico de barras para visualizar los datos\n",
    "main_companies.plot(y= 'trips_amount',\n",
    "                       x='company_name',\n",
    "                       title= 'Compañías con el mayor número de viajes',\n",
    "                       xlabel= 'Compañía',\n",
    "                       ylabel= 'Cantidad de viajes', \n",
    "                       kind= 'bar',\n",
    "                       legend= False)\n",
    "plt.show()"
   ]
  },
  {
   "cell_type": "code",
   "execution_count": 34,
   "metadata": {},
   "outputs": [
    {
     "name": "stdout",
     "output_type": "stream",
     "text": [
      "                          company_name  trips_amount\n",
      "63         3556 - 36214 RC Andrews Cab             2\n",
      "62          2241 - 44667 - Felman Corp             3\n",
      "61       5874 - 73628 Sergey Cab Corp.             5\n",
      "60             2733 - 74600 Benny Jona             7\n",
      "59        4053 - 40193 Adwar H. Nikola             7\n",
      "58             5062 - 34841 Sam Mestas             8\n",
      "57                         Metro Group            11\n",
      "56       5997 - 65283 AW Services Inc.            12\n",
      "55           6057 - 24657 Richard Addo            13\n",
      "54           2192 - 73487 Zeymane Corp            14\n",
      "53            5006 - 39261 Salifu Bawa            14\n",
      "52           3721 - Santamaria Express            14\n",
      "51                4623 - 27290 Jay Kim            15\n",
      "50        2823 - 73307 Lee Express Inc            15\n",
      "49              5074 - 54002 Ahzmi Inc            16\n",
      "48  3623 - 72222 Arrington Enterprises            20\n",
      "46     3620 - 52292 David K. Cab Corp.            21\n",
      "47       4615 - 83503 Tyrone Henderson            21\n",
      "45           3011 - 66308 JBL Cab Inc.            25\n",
      "44          2092 - 61288 Sbeih Company            27\n",
      "43      2809 - 95474 C & D Cab Co Inc.            29\n",
      "42         1085 - 72312 N and W Cab Co            29\n",
      "41                Chicago Star Taxicab            29\n",
      "40         6574 - Babylon Express Inc.            31\n",
      "39        0118 - 42111 Godfrey S. Awir            33\n",
      "38             6743 - 78771 Luhak Corp            33\n",
      "37              1469 - 64126 Omar Jada            36\n",
      "36              3591 - 63480 Chuks Cab            37\n",
      "35         6742 - 83735 Tasha Ride Inc            39\n",
      "34                        Norshore Cab           127\n"
     ]
    }
   ],
   "source": [
    "# Observamos las compañías menos populares\n",
    "minor_company = df_companies.sort_values(by='trips_amount', ascending = True).head(30)\n",
    "print(minor_company)"
   ]
  },
  {
   "cell_type": "code",
   "execution_count": 37,
   "metadata": {},
   "outputs": [
    {
     "name": "stdout",
     "output_type": "stream",
     "text": [
      "El promedio de viajes de todas las compañías es: 2145.484375\n"
     ]
    },
    {
     "data": {
      "image/png": "[encoded data removed]",
      "text/plain": [
       "<Figure size 640x480 with 1 Axes>"
      ]
     },
     "metadata": {},
     "output_type": "display_data"
    }
   ],
   "source": [
    "# Creamos un diagrama de caja para todas las compañía\n",
    "sns.boxplot(y= 'trips_amount',\n",
    "            data= df_companies)\n",
    "print('El promedio de viajes de todas las compañías es:', df_companies['trips_amount'].mean())"
   ]
  },
  {
   "cell_type": "markdown",
   "metadata": {},
   "source": [
    "#### Observaciones "
   ]
  },
  {
   "cell_type": "markdown",
   "metadata": {},
   "source": [
    "* La compañía más popular es *Flash Cab*, la cual casi duplica el valor de las dos compañías que le siguen. Su nombre supone que sea por el servicio rápido. \n",
    "* Seguido de *Taxi Affiliation Services* y *Medallion Leasing* las cuales a penas superan el promedio que obtuvimos de las 10 compañías, 9927 viajes. \n",
    "* De las 64 compañías, casi 30 son compañías que tuvieron menos de 100 viajes en los 2 días que se analizaron. \n",
    "* Gracias al diagrama de caja, podemos notar que hay un sesgo muy grande a la derecha. \n"
   ]
  },
  {
   "cell_type": "markdown",
   "metadata": {},
   "source": [
    "## Prueba de hipótesis"
   ]
  },
  {
   "cell_type": "markdown",
   "metadata": {},
   "source": [
    "**\"La duración promedio de los viajes desde el Loop hasta el Aeropuerto Internacional O'Hare cambia los sábados lluviosos\".**"
   ]
  },
  {
   "cell_type": "code",
   "execution_count": 43,
   "metadata": {
    "scrolled": true
   },
   "outputs": [
    {
     "name": "stdout",
     "output_type": "stream",
     "text": [
      "                start_ts weather_conditions  duration_seconds  weekday\n",
      "0    2017-11-25 16:00:00               Good              2410        5\n",
      "1    2017-11-25 14:00:00               Good              1920        5\n",
      "2    2017-11-25 12:00:00               Good              1543        5\n",
      "3    2017-11-04 10:00:00               Good              2512        5\n",
      "4    2017-11-11 07:00:00               Good              1440        5\n",
      "...                  ...                ...               ...      ...\n",
      "1060 2017-11-04 14:00:00               Good              2700        5\n",
      "1061 2017-11-18 16:00:00                Bad              2186        5\n",
      "1063 2017-11-25 11:00:00               Good                 0        5\n",
      "1064 2017-11-11 10:00:00               Good              1318        5\n",
      "1067 2017-11-04 16:00:00                Bad              2834        5\n",
      "\n",
      "[871 rows x 4 columns]\n"
     ]
    }
   ],
   "source": [
    "# Verificamos que las fechas que tenemos en el DataFrame son sábado (5)\n",
    "df_loop['weekday'] = df_loop['start_ts'].dt.weekday\n",
    "print(df_loop[df_loop['weekday'] == 5])"
   ]
  },
  {
   "cell_type": "code",
   "execution_count": 51,
   "metadata": {},
   "outputs": [
    {
     "name": "stdout",
     "output_type": "stream",
     "text": [
      "0       2410\n",
      "1       1920\n",
      "2       1543\n",
      "3       2512\n",
      "4       1440\n",
      "        ... \n",
      "1057    2492\n",
      "1059    1303\n",
      "1060    2700\n",
      "1063       0\n",
      "1064    1318\n",
      "Name: duration_seconds, Length: 723, dtype: int64\n",
      "\n",
      "6       2969\n",
      "30      1980\n",
      "34      2460\n",
      "51      2760\n",
      "52      2460\n",
      "        ... \n",
      "1031    2560\n",
      "1032    1908\n",
      "1053    2400\n",
      "1061    2186\n",
      "1067    2834\n",
      "Name: duration_seconds, Length: 148, dtype: int64\n",
      "La duración promedio en segundos en buen clima es: 2032.253112033195\n",
      "La duración promedio en segundos en mal clima es: 2409.2297297297296\n",
      "\n",
      "El total de viajes en buen clima en sábado es: 723\n",
      "El total de viajes en mal clima en sábado es: 148\n"
     ]
    }
   ],
   "source": [
    "# Generamos nuestras variables por cada plataforma para poder aplicar la hipótesis\n",
    "dfloop_good = df_loop.query(\"weather_conditions == 'Good'\")['duration_seconds']\n",
    "print(dfloop_good)\n",
    "print()\n",
    "dfloop_bad = df_loop.query(\"weather_conditions == 'Bad'\")['duration_seconds']\n",
    "print(dfloop_bad)\n",
    "dfloop_good_avg = dfloop_good.mean()\n",
    "dfloop_bad_avg = dfloop_bad.mean()\n",
    "dfloop_good_cnt = dfloop_good.count()\n",
    "dfloop_bad_cnt = dfloop_bad.count()\n",
    "print('La duración promedio en segundos en buen clima es:', dfloop_good_avg)\n",
    "print('La duración promedio en segundos en mal clima es:', dfloop_bad_avg)\n",
    "print()\n",
    "print('El total de viajes en buen clima en sábado es:', dfloop_good_cnt)\n",
    "print('El total de viajes en mal clima en sábado es:', dfloop_bad_cnt)"
   ]
  },
  {
   "cell_type": "code",
   "execution_count": 48,
   "metadata": {},
   "outputs": [
    {
     "name": "stdout",
     "output_type": "stream",
     "text": [
      "La varianza de la duración en buen clima es: 597389.5417434273\n",
      "La varianza de la duración en mal clima es: 561003.0958728999\n",
      "\n",
      "La desviación estándar de la duración en buen clima es: 772.9097888779953\n",
      "La desviación estándar de la duración en mal clima es: 749.0013991127786\n"
     ]
    }
   ],
   "source": [
    "# Sacamos la varianza y desviación estándar\n",
    "var_good = np.var(dfloop_good)\n",
    "print('La varianza de la duración en buen clima es:', var_good)\n",
    "var_bad = np.var(dfloop_bad)\n",
    "print('La varianza de la duración en mal clima es:', var_bad)\n",
    "print()\n",
    "dev_good =np.sqrt(var_good)\n",
    "print('La desviación estándar de la duración en buen clima es:', dev_good)\n",
    "dev_bad =np.sqrt(var_bad)\n",
    "print('La desviación estándar de la duración en mal clima es:', dev_bad)"
   ]
  },
  {
   "cell_type": "code",
   "execution_count": 50,
   "metadata": {},
   "outputs": [
    {
     "name": "stdout",
     "output_type": "stream",
     "text": [
      "valor p:  9.126383933880083e-08\n",
      "Rechazamos la hipótesis nula\n"
     ]
    }
   ],
   "source": [
    "# Probamos la hipótesis\n",
    "alpha = 0.05\n",
    "results = st.ttest_ind(dfloop_good, dfloop_bad, equal_var=False) \n",
    "print('valor p: ', results.pvalue)\n",
    "\n",
    "if results.pvalue < alpha:\n",
    "    print(\"Rechazamos la hipótesis nula\") \n",
    "else:\n",
    "    print(\"No podemos rechazar la hipótesis nula\")"
   ]
  },
  {
   "cell_type": "markdown",
   "metadata": {},
   "source": [
    "#### Observaciones"
   ]
  },
  {
   "cell_type": "markdown",
   "metadata": {},
   "source": [
    "**Nuestra hipótesis nula: La duración de los viajes en buen clima y mal clima es igual.**\n",
    "\n",
    "**Nuestra hipótesis alternativa: La duración de los viajes en mal clima es mayor**\n",
    "\n",
    "* Hemos comprobado que se rechaza la hipótesis nula, ya que existe menos de 0.001% que la duración de de un viaje sea igual durante los días lluviosos y soleados. \n",
    "* Hemos decidido plantear la hipótesis nula como igualdad, ya que al final se espera saber si hay cambio. \n",
    "* Hemos hecho la hipótesis alternativa con la duración mayor en mal clima, ya que en un escenario común cuando hay lluvia, el tráfico empeora, en consecuencia se toma más tiempo. Se comprueba que la duración en días lluviosos es mayor. \n",
    "    * La duración promedio en días de mal clima fue de 2409.23 segundos, aproximadamente 40min.\n",
    "    * La duración promedio en días de buen clima fue de 2032.25 segundos, aproximadamente 33min.\n",
    "* Es importante mencionar que a pesar que la duración en días lluviosos es mayor, del total de los 871 viajes a analizar en los días sábados, sólo el 17% fueron en días lluviosos, comparado con el 83% en días de buen clima. Esto puede significar que los sábados que se evaluaron fueron sábados de buen clima. \n",
    " \n"
   ]
  },
  {
   "cell_type": "markdown",
   "metadata": {},
   "source": [
    "## Conclusiones"
   ]
  },
  {
   "cell_type": "markdown",
   "metadata": {},
   "source": [
    "* Los barrios más populares como destino de viaje son *Loop, River North* y *Streeterville*, los cuales representan el 48% del total de viajes analizados, teniendo en cuenta lo que se puede encontrar en cada barrio, es de esperar que los turistas y locales viajen a esos barrios. \n",
    "* Las compañías *Flash Cab, Taxi Affiliation Services* y *Medallion Leasing* son las más populares, el número de sus viajes representan el 30% del total de los viajes en los 2 días analizados.\n",
    "* Si tomamos en cuenta que analizamos 64 compañías de las cuales, 61 compañías representan 70% y sólo 3 el 30%, es una diferencia enorme, y nos hace identificar a nuestros principales oponentes. \n",
    "* Hemos comprobado que el clima **sí** afecta la duración de los viajes, por lo que si se identifica un diagnostico de mal clima, se recomienda contar con más vehículos y conductores. "
   ]
  }
 ],
 "metadata": {
  "ExecuteTimeLog": [
   {
    "duration": 5034,
    "start_time": "2024-08-16T23:55:16.588Z"
   },
   {
    "duration": 19,
    "start_time": "2024-08-17T00:00:38.509Z"
   },
   {
    "duration": 16,
    "start_time": "2024-08-17T00:00:40.282Z"
   },
   {
    "duration": 15,
    "start_time": "2024-08-17T00:01:55.241Z"
   },
   {
    "duration": 10,
    "start_time": "2024-08-17T00:05:28.056Z"
   },
   {
    "duration": 25,
    "start_time": "2024-08-17T00:07:29.692Z"
   },
   {
    "duration": 16,
    "start_time": "2024-08-17T00:08:04.546Z"
   },
   {
    "duration": 8,
    "start_time": "2024-08-17T00:20:39.361Z"
   },
   {
    "duration": 11,
    "start_time": "2024-08-17T00:21:24.832Z"
   },
   {
    "duration": 13,
    "start_time": "2024-08-17T00:27:28.268Z"
   },
   {
    "duration": 7,
    "start_time": "2024-08-17T00:30:10.756Z"
   },
   {
    "duration": 830,
    "start_time": "2024-08-17T00:31:16.796Z"
   },
   {
    "duration": 38,
    "start_time": "2024-08-17T00:31:23.586Z"
   },
   {
    "duration": 25,
    "start_time": "2024-08-17T00:33:08.692Z"
   },
   {
    "duration": 10,
    "start_time": "2024-08-17T00:33:16.664Z"
   },
   {
    "duration": 11,
    "start_time": "2024-08-17T00:37:49.416Z"
   },
   {
    "duration": 31,
    "start_time": "2024-08-17T00:41:35.249Z"
   },
   {
    "duration": 8,
    "start_time": "2024-08-17T00:46:05.034Z"
   },
   {
    "duration": 8,
    "start_time": "2024-08-17T00:48:14.817Z"
   },
   {
    "duration": 6,
    "start_time": "2024-08-17T00:53:03.621Z"
   },
   {
    "duration": 5,
    "start_time": "2024-08-17T00:54:23.106Z"
   },
   {
    "duration": 7,
    "start_time": "2024-08-17T00:58:46.149Z"
   },
   {
    "duration": 7,
    "start_time": "2024-08-17T01:02:32.083Z"
   },
   {
    "duration": 272,
    "start_time": "2024-08-17T01:02:50.960Z"
   },
   {
    "duration": 244,
    "start_time": "2024-08-17T01:03:50.915Z"
   },
   {
    "duration": 9,
    "start_time": "2024-08-17T01:20:45.949Z"
   },
   {
    "duration": 287,
    "start_time": "2024-08-17T01:24:20.662Z"
   },
   {
    "duration": 8,
    "start_time": "2024-08-17T01:29:43.970Z"
   },
   {
    "duration": 9,
    "start_time": "2024-08-17T01:32:56.076Z"
   },
   {
    "duration": 8,
    "start_time": "2024-08-17T01:33:29.093Z"
   },
   {
    "duration": 8,
    "start_time": "2024-08-17T01:33:39.937Z"
   },
   {
    "duration": 8,
    "start_time": "2024-08-17T01:33:46.603Z"
   },
   {
    "duration": 8,
    "start_time": "2024-08-17T01:34:01.987Z"
   },
   {
    "duration": 8,
    "start_time": "2024-08-17T01:34:27.546Z"
   },
   {
    "duration": 2568,
    "start_time": "2024-08-17T01:38:28.982Z"
   },
   {
    "duration": 156,
    "start_time": "2024-08-17T01:38:46.996Z"
   },
   {
    "duration": 155,
    "start_time": "2024-08-17T01:40:41.680Z"
   },
   {
    "duration": 28,
    "start_time": "2024-08-17T01:53:53.320Z"
   },
   {
    "duration": 7,
    "start_time": "2024-08-17T01:56:03.154Z"
   },
   {
    "duration": 10,
    "start_time": "2024-08-17T01:56:58.387Z"
   },
   {
    "duration": 34,
    "start_time": "2024-08-17T01:57:45.091Z"
   },
   {
    "duration": 10,
    "start_time": "2024-08-17T01:58:02.775Z"
   },
   {
    "duration": 14,
    "start_time": "2024-08-17T02:00:00.355Z"
   },
   {
    "duration": 10,
    "start_time": "2024-08-17T02:00:26.713Z"
   },
   {
    "duration": 14,
    "start_time": "2024-08-17T02:08:24.890Z"
   },
   {
    "duration": 14,
    "start_time": "2024-08-17T02:09:28.386Z"
   },
   {
    "duration": 7,
    "start_time": "2024-08-17T02:12:59.235Z"
   },
   {
    "duration": 11,
    "start_time": "2024-08-17T02:13:19.682Z"
   },
   {
    "duration": 7,
    "start_time": "2024-08-17T02:16:30.421Z"
   },
   {
    "duration": 6,
    "start_time": "2024-08-17T02:16:39.494Z"
   },
   {
    "duration": 14,
    "start_time": "2024-08-17T02:19:28.533Z"
   },
   {
    "duration": 4,
    "start_time": "2024-08-17T02:40:37.471Z"
   },
   {
    "duration": 4,
    "start_time": "2024-08-17T02:46:09.635Z"
   }
  ],
  "kernelspec": {
   "display_name": "Python 3 (ipykernel)",
   "language": "python",
   "name": "python3"
  },
  "language_info": {
   "codemirror_mode": {
    "name": "ipython",
    "version": 3
   },
   "file_extension": ".py",
   "mimetype": "text/x-python",
   "name": "python",
   "nbconvert_exporter": "python",
   "pygments_lexer": "ipython3",
   "version": "3.9.19"
  },
  "toc": {
   "base_numbering": 1,
   "nav_menu": {},
   "number_sections": true,
   "sideBar": true,
   "skip_h1_title": true,
   "title_cell": "Table of Contents",
   "title_sidebar": "Contents",
   "toc_cell": false,
   "toc_position": {
    "height": "calc(100% - 180px)",
    "left": "10px",
    "top": "150px",
    "width": "229.188px"
   },
   "toc_section_display": true,
   "toc_window_display": true
  }
 },
 "nbformat": 4,
 "nbformat_minor": 2
}
