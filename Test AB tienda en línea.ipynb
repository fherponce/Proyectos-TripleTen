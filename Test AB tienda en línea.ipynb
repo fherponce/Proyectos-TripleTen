{
 "cells": [
  {
   "cell_type": "markdown",
   "metadata": {},
   "source": [
    "# Proyecto Sprint 9"
   ]
  },
  {
   "cell_type": "markdown",
   "metadata": {},
   "source": [
    "Analizaremos una tienda en línea junto con el equipo de marketing para encontrar las mejores hipótesis que puedan ayudar a mejorar los ingresos. \n",
    "\n",
    "Realizaremos un test A/B y analizaremos los resultados obtenidos. "
   ]
  },
  {
   "cell_type": "markdown",
   "metadata": {},
   "source": [
    "## Preparación de los datos"
   ]
  },
  {
   "cell_type": "markdown",
   "metadata": {},
   "source": [
    "Vamos a preparar y limpiar nuestros datos, identificando duplicados y ausentes, así como conviertiendo datos al tipo de datos más útil para nuestro análisis."
   ]
  },
  {
   "cell_type": "markdown",
   "metadata": {},
   "source": [
    "### Cargar datos"
   ]
  },
  {
   "cell_type": "code",
   "execution_count": 1,
   "metadata": {},
   "outputs": [],
   "source": [
    "# Cargamos todas las librerías\n",
    "from scipy import stats as st\n",
    "import numpy as np\n",
    "import pandas as pd\n",
    "from matplotlib import pyplot as plt \n",
    "import seaborn as sns\n",
    "import math"
   ]
  },
  {
   "cell_type": "code",
   "execution_count": 2,
   "metadata": {},
   "outputs": [],
   "source": [
    "# Cargamos los dataset\n",
    "df_hypothesis = pd.read_csv('/datasets/hypotheses_us.csv', sep=';', header='infer')\n",
    "df_orders = pd.read_csv('/datasets/orders_us.csv', header='infer')\n",
    "df_visits = pd.read_csv('/datasets/visits_us.csv', header='infer')"
   ]
  },
  {
   "cell_type": "markdown",
   "metadata": {},
   "source": [
    "### Descripción de los datos"
   ]
  },
  {
   "cell_type": "markdown",
   "metadata": {},
   "source": [
    "**df_hypotheses**\n",
    "* *Hypotheses*: breves descripciones de las hipótesis\n",
    "* *Reach*: alcance del usuario, en una escala del uno a diez\n",
    "* *Impact*: impacto en los usuarios, en una escala del uno al diez\n",
    "* *Confidence*: confianza en la hipótesis, en una escala del uno al diez\n",
    "* *Effort*: los recursos necesarios para probar una hipótesis, en una escala del uno al diez. \n",
    "\n",
    "**df_orders**\n",
    "* *transactionId*: identificador de pedido\n",
    "* *visitorId*: identificador del usuario que realizó el pedido\n",
    "* *date*: fecha del pedido\n",
    "* *revenue*: ingresos del pedido\n",
    "* *group*: el grupo del test A/B al que pertenece el usuario\n",
    "\n",
    "**df_visits**\n",
    "* *date*: la fecha\n",
    "* *group*: grupo del test A/B\n",
    "* *visits*: el número de visitas en la fecha especificada para el grupo de test A/B especificado"
   ]
  },
  {
   "cell_type": "markdown",
   "metadata": {},
   "source": [
    "#### df_hypothesis"
   ]
  },
  {
   "cell_type": "code",
   "execution_count": 3,
   "metadata": {},
   "outputs": [
    {
     "name": "stdout",
     "output_type": "stream",
     "text": [
      "<class 'pandas.core.frame.DataFrame'>\n",
      "RangeIndex: 9 entries, 0 to 8\n",
      "Data columns (total 5 columns):\n",
      " #   Column      Non-Null Count  Dtype \n",
      "---  ------      --------------  ----- \n",
      " 0   Hypothesis  9 non-null      object\n",
      " 1   Reach       9 non-null      int64 \n",
      " 2   Impact      9 non-null      int64 \n",
      " 3   Confidence  9 non-null      int64 \n",
      " 4   Effort      9 non-null      int64 \n",
      "dtypes: int64(4), object(1)\n",
      "memory usage: 488.0+ bytes\n",
      "0\n"
     ]
    }
   ],
   "source": [
    "# Imprimimos información general de df_hypothesis y verificamos si hay filas duplicadas\n",
    "df_hypothesis.info()\n",
    "print(df_hypothesis.duplicated().sum())"
   ]
  },
  {
   "cell_type": "code",
   "execution_count": 4,
   "metadata": {},
   "outputs": [
    {
     "data": {
      "text/html": [
       "<div>\n",
       "<style scoped>\n",
       "    .dataframe tbody tr th:only-of-type {\n",
       "        vertical-align: middle;\n",
       "    }\n",
       "\n",
       "    .dataframe tbody tr th {\n",
       "        vertical-align: top;\n",
       "    }\n",
       "\n",
       "    .dataframe thead th {\n",
       "        text-align: right;\n",
       "    }\n",
       "</style>\n",
       "<table border=\"1\" class=\"dataframe\">\n",
       "  <thead>\n",
       "    <tr style=\"text-align: right;\">\n",
       "      <th></th>\n",
       "      <th>Hypothesis</th>\n",
       "      <th>Reach</th>\n",
       "      <th>Impact</th>\n",
       "      <th>Confidence</th>\n",
       "      <th>Effort</th>\n",
       "    </tr>\n",
       "  </thead>\n",
       "  <tbody>\n",
       "    <tr>\n",
       "      <th>0</th>\n",
       "      <td>Add two new channels for attracting traffic. T...</td>\n",
       "      <td>3</td>\n",
       "      <td>10</td>\n",
       "      <td>8</td>\n",
       "      <td>6</td>\n",
       "    </tr>\n",
       "    <tr>\n",
       "      <th>1</th>\n",
       "      <td>Launch your own delivery service. This will sh...</td>\n",
       "      <td>2</td>\n",
       "      <td>5</td>\n",
       "      <td>4</td>\n",
       "      <td>10</td>\n",
       "    </tr>\n",
       "    <tr>\n",
       "      <th>2</th>\n",
       "      <td>Add product recommendation blocks to the store...</td>\n",
       "      <td>8</td>\n",
       "      <td>3</td>\n",
       "      <td>7</td>\n",
       "      <td>3</td>\n",
       "    </tr>\n",
       "    <tr>\n",
       "      <th>3</th>\n",
       "      <td>Change the category structure. This will incre...</td>\n",
       "      <td>8</td>\n",
       "      <td>3</td>\n",
       "      <td>3</td>\n",
       "      <td>8</td>\n",
       "    </tr>\n",
       "    <tr>\n",
       "      <th>4</th>\n",
       "      <td>Change the background color on the main page. ...</td>\n",
       "      <td>3</td>\n",
       "      <td>1</td>\n",
       "      <td>1</td>\n",
       "      <td>1</td>\n",
       "    </tr>\n",
       "    <tr>\n",
       "      <th>5</th>\n",
       "      <td>Add a customer review page. This will increase...</td>\n",
       "      <td>3</td>\n",
       "      <td>2</td>\n",
       "      <td>2</td>\n",
       "      <td>3</td>\n",
       "    </tr>\n",
       "    <tr>\n",
       "      <th>6</th>\n",
       "      <td>Show banners with current offers and sales on ...</td>\n",
       "      <td>5</td>\n",
       "      <td>3</td>\n",
       "      <td>8</td>\n",
       "      <td>3</td>\n",
       "    </tr>\n",
       "    <tr>\n",
       "      <th>7</th>\n",
       "      <td>Add a subscription form to all the main pages....</td>\n",
       "      <td>10</td>\n",
       "      <td>7</td>\n",
       "      <td>8</td>\n",
       "      <td>5</td>\n",
       "    </tr>\n",
       "    <tr>\n",
       "      <th>8</th>\n",
       "      <td>Launch a promotion that gives users discounts ...</td>\n",
       "      <td>1</td>\n",
       "      <td>9</td>\n",
       "      <td>9</td>\n",
       "      <td>5</td>\n",
       "    </tr>\n",
       "  </tbody>\n",
       "</table>\n",
       "</div>"
      ],
      "text/plain": [
       "                                          Hypothesis  Reach  Impact  \\\n",
       "0  Add two new channels for attracting traffic. T...      3      10   \n",
       "1  Launch your own delivery service. This will sh...      2       5   \n",
       "2  Add product recommendation blocks to the store...      8       3   \n",
       "3  Change the category structure. This will incre...      8       3   \n",
       "4  Change the background color on the main page. ...      3       1   \n",
       "5  Add a customer review page. This will increase...      3       2   \n",
       "6  Show banners with current offers and sales on ...      5       3   \n",
       "7  Add a subscription form to all the main pages....     10       7   \n",
       "8  Launch a promotion that gives users discounts ...      1       9   \n",
       "\n",
       "   Confidence  Effort  \n",
       "0           8       6  \n",
       "1           4      10  \n",
       "2           7       3  \n",
       "3           3       8  \n",
       "4           1       1  \n",
       "5           2       3  \n",
       "6           8       3  \n",
       "7           8       5  \n",
       "8           9       5  "
      ]
     },
     "metadata": {},
     "output_type": "display_data"
    }
   ],
   "source": [
    "#Mostramos el DataFrame\n",
    "display(df_hypothesis)"
   ]
  },
  {
   "cell_type": "markdown",
   "metadata": {},
   "source": [
    "#### df_orders"
   ]
  },
  {
   "cell_type": "code",
   "execution_count": 5,
   "metadata": {},
   "outputs": [
    {
     "name": "stdout",
     "output_type": "stream",
     "text": [
      "<class 'pandas.core.frame.DataFrame'>\n",
      "RangeIndex: 1197 entries, 0 to 1196\n",
      "Data columns (total 5 columns):\n",
      " #   Column         Non-Null Count  Dtype  \n",
      "---  ------         --------------  -----  \n",
      " 0   transactionId  1197 non-null   int64  \n",
      " 1   visitorId      1197 non-null   int64  \n",
      " 2   date           1197 non-null   object \n",
      " 3   revenue        1197 non-null   float64\n",
      " 4   group          1197 non-null   object \n",
      "dtypes: float64(1), int64(2), object(2)\n",
      "memory usage: 46.9+ KB\n",
      "0\n"
     ]
    }
   ],
   "source": [
    "# Imprimimos información general de df_orders y verificamos si hay filas duplicadas\n",
    "df_orders.info()\n",
    "print(df_orders.duplicated().sum())"
   ]
  },
  {
   "cell_type": "code",
   "execution_count": 6,
   "metadata": {},
   "outputs": [
    {
     "data": {
      "text/html": [
       "<div>\n",
       "<style scoped>\n",
       "    .dataframe tbody tr th:only-of-type {\n",
       "        vertical-align: middle;\n",
       "    }\n",
       "\n",
       "    .dataframe tbody tr th {\n",
       "        vertical-align: top;\n",
       "    }\n",
       "\n",
       "    .dataframe thead th {\n",
       "        text-align: right;\n",
       "    }\n",
       "</style>\n",
       "<table border=\"1\" class=\"dataframe\">\n",
       "  <thead>\n",
       "    <tr style=\"text-align: right;\">\n",
       "      <th></th>\n",
       "      <th>transactionId</th>\n",
       "      <th>visitorId</th>\n",
       "      <th>revenue</th>\n",
       "    </tr>\n",
       "  </thead>\n",
       "  <tbody>\n",
       "    <tr>\n",
       "      <th>count</th>\n",
       "      <td>1.197000e+03</td>\n",
       "      <td>1.197000e+03</td>\n",
       "      <td>1197.000000</td>\n",
       "    </tr>\n",
       "    <tr>\n",
       "      <th>mean</th>\n",
       "      <td>2.155621e+09</td>\n",
       "      <td>2.165960e+09</td>\n",
       "      <td>131.491646</td>\n",
       "    </tr>\n",
       "    <tr>\n",
       "      <th>std</th>\n",
       "      <td>1.229085e+09</td>\n",
       "      <td>1.236014e+09</td>\n",
       "      <td>603.004729</td>\n",
       "    </tr>\n",
       "    <tr>\n",
       "      <th>min</th>\n",
       "      <td>1.062393e+06</td>\n",
       "      <td>5.114589e+06</td>\n",
       "      <td>5.000000</td>\n",
       "    </tr>\n",
       "    <tr>\n",
       "      <th>25%</th>\n",
       "      <td>1.166776e+09</td>\n",
       "      <td>1.111826e+09</td>\n",
       "      <td>20.800000</td>\n",
       "    </tr>\n",
       "    <tr>\n",
       "      <th>50%</th>\n",
       "      <td>2.145194e+09</td>\n",
       "      <td>2.217985e+09</td>\n",
       "      <td>50.200000</td>\n",
       "    </tr>\n",
       "    <tr>\n",
       "      <th>75%</th>\n",
       "      <td>3.237740e+09</td>\n",
       "      <td>3.177606e+09</td>\n",
       "      <td>130.400000</td>\n",
       "    </tr>\n",
       "    <tr>\n",
       "      <th>max</th>\n",
       "      <td>4.293856e+09</td>\n",
       "      <td>4.283872e+09</td>\n",
       "      <td>19920.400000</td>\n",
       "    </tr>\n",
       "  </tbody>\n",
       "</table>\n",
       "</div>"
      ],
      "text/plain": [
       "       transactionId     visitorId       revenue\n",
       "count   1.197000e+03  1.197000e+03   1197.000000\n",
       "mean    2.155621e+09  2.165960e+09    131.491646\n",
       "std     1.229085e+09  1.236014e+09    603.004729\n",
       "min     1.062393e+06  5.114589e+06      5.000000\n",
       "25%     1.166776e+09  1.111826e+09     20.800000\n",
       "50%     2.145194e+09  2.217985e+09     50.200000\n",
       "75%     3.237740e+09  3.177606e+09    130.400000\n",
       "max     4.293856e+09  4.283872e+09  19920.400000"
      ]
     },
     "execution_count": 6,
     "metadata": {},
     "output_type": "execute_result"
    }
   ],
   "source": [
    "# Mostramos los detalles del DataFrame\n",
    "df_orders.describe()"
   ]
  },
  {
   "cell_type": "code",
   "execution_count": 7,
   "metadata": {},
   "outputs": [
    {
     "data": {
      "text/html": [
       "<div>\n",
       "<style scoped>\n",
       "    .dataframe tbody tr th:only-of-type {\n",
       "        vertical-align: middle;\n",
       "    }\n",
       "\n",
       "    .dataframe tbody tr th {\n",
       "        vertical-align: top;\n",
       "    }\n",
       "\n",
       "    .dataframe thead th {\n",
       "        text-align: right;\n",
       "    }\n",
       "</style>\n",
       "<table border=\"1\" class=\"dataframe\">\n",
       "  <thead>\n",
       "    <tr style=\"text-align: right;\">\n",
       "      <th></th>\n",
       "      <th>transactionId</th>\n",
       "      <th>visitorId</th>\n",
       "      <th>date</th>\n",
       "      <th>revenue</th>\n",
       "      <th>group</th>\n",
       "    </tr>\n",
       "  </thead>\n",
       "  <tbody>\n",
       "    <tr>\n",
       "      <th>0</th>\n",
       "      <td>3667963787</td>\n",
       "      <td>3312258926</td>\n",
       "      <td>2019-08-15</td>\n",
       "      <td>30.4</td>\n",
       "      <td>B</td>\n",
       "    </tr>\n",
       "    <tr>\n",
       "      <th>1</th>\n",
       "      <td>2804400009</td>\n",
       "      <td>3642806036</td>\n",
       "      <td>2019-08-15</td>\n",
       "      <td>15.2</td>\n",
       "      <td>B</td>\n",
       "    </tr>\n",
       "    <tr>\n",
       "      <th>2</th>\n",
       "      <td>2961555356</td>\n",
       "      <td>4069496402</td>\n",
       "      <td>2019-08-15</td>\n",
       "      <td>10.2</td>\n",
       "      <td>A</td>\n",
       "    </tr>\n",
       "    <tr>\n",
       "      <th>3</th>\n",
       "      <td>3797467345</td>\n",
       "      <td>1196621759</td>\n",
       "      <td>2019-08-15</td>\n",
       "      <td>155.1</td>\n",
       "      <td>B</td>\n",
       "    </tr>\n",
       "    <tr>\n",
       "      <th>4</th>\n",
       "      <td>2282983706</td>\n",
       "      <td>2322279887</td>\n",
       "      <td>2019-08-15</td>\n",
       "      <td>40.5</td>\n",
       "      <td>B</td>\n",
       "    </tr>\n",
       "  </tbody>\n",
       "</table>\n",
       "</div>"
      ],
      "text/plain": [
       "   transactionId   visitorId        date  revenue group\n",
       "0     3667963787  3312258926  2019-08-15     30.4     B\n",
       "1     2804400009  3642806036  2019-08-15     15.2     B\n",
       "2     2961555356  4069496402  2019-08-15     10.2     A\n",
       "3     3797467345  1196621759  2019-08-15    155.1     B\n",
       "4     2282983706  2322279887  2019-08-15     40.5     B"
      ]
     },
     "metadata": {},
     "output_type": "display_data"
    }
   ],
   "source": [
    "#Mostramos el DataFrame\n",
    "display(df_orders.head())"
   ]
  },
  {
   "cell_type": "markdown",
   "metadata": {},
   "source": [
    "#### df_visits"
   ]
  },
  {
   "cell_type": "code",
   "execution_count": 8,
   "metadata": {},
   "outputs": [
    {
     "name": "stdout",
     "output_type": "stream",
     "text": [
      "<class 'pandas.core.frame.DataFrame'>\n",
      "RangeIndex: 62 entries, 0 to 61\n",
      "Data columns (total 3 columns):\n",
      " #   Column  Non-Null Count  Dtype \n",
      "---  ------  --------------  ----- \n",
      " 0   date    62 non-null     object\n",
      " 1   group   62 non-null     object\n",
      " 2   visits  62 non-null     int64 \n",
      "dtypes: int64(1), object(2)\n",
      "memory usage: 1.6+ KB\n",
      "0\n"
     ]
    }
   ],
   "source": [
    "# Imprimimos información general de df_visits y verificamos si hay filas duplicadas\n",
    "df_visits.info()\n",
    "print(df_visits.duplicated().sum())"
   ]
  },
  {
   "cell_type": "code",
   "execution_count": 9,
   "metadata": {},
   "outputs": [
    {
     "data": {
      "text/html": [
       "<div>\n",
       "<style scoped>\n",
       "    .dataframe tbody tr th:only-of-type {\n",
       "        vertical-align: middle;\n",
       "    }\n",
       "\n",
       "    .dataframe tbody tr th {\n",
       "        vertical-align: top;\n",
       "    }\n",
       "\n",
       "    .dataframe thead th {\n",
       "        text-align: right;\n",
       "    }\n",
       "</style>\n",
       "<table border=\"1\" class=\"dataframe\">\n",
       "  <thead>\n",
       "    <tr style=\"text-align: right;\">\n",
       "      <th></th>\n",
       "      <th>visits</th>\n",
       "    </tr>\n",
       "  </thead>\n",
       "  <tbody>\n",
       "    <tr>\n",
       "      <th>count</th>\n",
       "      <td>62.000000</td>\n",
       "    </tr>\n",
       "    <tr>\n",
       "      <th>mean</th>\n",
       "      <td>607.290323</td>\n",
       "    </tr>\n",
       "    <tr>\n",
       "      <th>std</th>\n",
       "      <td>114.400560</td>\n",
       "    </tr>\n",
       "    <tr>\n",
       "      <th>min</th>\n",
       "      <td>361.000000</td>\n",
       "    </tr>\n",
       "    <tr>\n",
       "      <th>25%</th>\n",
       "      <td>534.000000</td>\n",
       "    </tr>\n",
       "    <tr>\n",
       "      <th>50%</th>\n",
       "      <td>624.500000</td>\n",
       "    </tr>\n",
       "    <tr>\n",
       "      <th>75%</th>\n",
       "      <td>710.500000</td>\n",
       "    </tr>\n",
       "    <tr>\n",
       "      <th>max</th>\n",
       "      <td>770.000000</td>\n",
       "    </tr>\n",
       "  </tbody>\n",
       "</table>\n",
       "</div>"
      ],
      "text/plain": [
       "           visits\n",
       "count   62.000000\n",
       "mean   607.290323\n",
       "std    114.400560\n",
       "min    361.000000\n",
       "25%    534.000000\n",
       "50%    624.500000\n",
       "75%    710.500000\n",
       "max    770.000000"
      ]
     },
     "execution_count": 9,
     "metadata": {},
     "output_type": "execute_result"
    }
   ],
   "source": [
    "# Mostramos los detalles del DataFrame\n",
    "df_visits.describe()"
   ]
  },
  {
   "cell_type": "code",
   "execution_count": 10,
   "metadata": {},
   "outputs": [
    {
     "data": {
      "text/html": [
       "<div>\n",
       "<style scoped>\n",
       "    .dataframe tbody tr th:only-of-type {\n",
       "        vertical-align: middle;\n",
       "    }\n",
       "\n",
       "    .dataframe tbody tr th {\n",
       "        vertical-align: top;\n",
       "    }\n",
       "\n",
       "    .dataframe thead th {\n",
       "        text-align: right;\n",
       "    }\n",
       "</style>\n",
       "<table border=\"1\" class=\"dataframe\">\n",
       "  <thead>\n",
       "    <tr style=\"text-align: right;\">\n",
       "      <th></th>\n",
       "      <th>date</th>\n",
       "      <th>group</th>\n",
       "      <th>visits</th>\n",
       "    </tr>\n",
       "  </thead>\n",
       "  <tbody>\n",
       "    <tr>\n",
       "      <th>0</th>\n",
       "      <td>2019-08-01</td>\n",
       "      <td>A</td>\n",
       "      <td>719</td>\n",
       "    </tr>\n",
       "    <tr>\n",
       "      <th>1</th>\n",
       "      <td>2019-08-02</td>\n",
       "      <td>A</td>\n",
       "      <td>619</td>\n",
       "    </tr>\n",
       "    <tr>\n",
       "      <th>2</th>\n",
       "      <td>2019-08-03</td>\n",
       "      <td>A</td>\n",
       "      <td>507</td>\n",
       "    </tr>\n",
       "    <tr>\n",
       "      <th>3</th>\n",
       "      <td>2019-08-04</td>\n",
       "      <td>A</td>\n",
       "      <td>717</td>\n",
       "    </tr>\n",
       "    <tr>\n",
       "      <th>4</th>\n",
       "      <td>2019-08-05</td>\n",
       "      <td>A</td>\n",
       "      <td>756</td>\n",
       "    </tr>\n",
       "  </tbody>\n",
       "</table>\n",
       "</div>"
      ],
      "text/plain": [
       "         date group  visits\n",
       "0  2019-08-01     A     719\n",
       "1  2019-08-02     A     619\n",
       "2  2019-08-03     A     507\n",
       "3  2019-08-04     A     717\n",
       "4  2019-08-05     A     756"
      ]
     },
     "metadata": {},
     "output_type": "display_data"
    }
   ],
   "source": [
    "#Mostramos el DataFrame\n",
    "display(df_visits.head())"
   ]
  },
  {
   "cell_type": "markdown",
   "metadata": {},
   "source": [
    "**Observaciones**\n",
    "* En ninguno de los 3 DataFrames tenemos datos ausentes ni filas completamente duplicadas \n",
    "* Vamos a cambiar el tipo de datos a datetime de *date* en **df_orders** y **df_visits**\n",
    "* Cambiaremos el nombre a snake case en **df_orders**"
   ]
  },
  {
   "cell_type": "markdown",
   "metadata": {},
   "source": [
    "### Limpieza de datos"
   ]
  },
  {
   "cell_type": "code",
   "execution_count": 11,
   "metadata": {},
   "outputs": [
    {
     "name": "stdout",
     "output_type": "stream",
     "text": [
      "   transaction_id  visitor_id        date  revenue group\n",
      "0      3667963787  3312258926  2019-08-15     30.4     B\n",
      "1      2804400009  3642806036  2019-08-15     15.2     B\n",
      "2      2961555356  4069496402  2019-08-15     10.2     A\n",
      "3      3797467345  1196621759  2019-08-15    155.1     B\n",
      "4      2282983706  2322279887  2019-08-15     40.5     B\n"
     ]
    }
   ],
   "source": [
    "# Cambiamos el nombre de las columnas a snake_case\n",
    "columns_new = {\n",
    "    \"transactionId\": \"transaction_id\",\n",
    "    \"visitorId\": \"visitor_id\"\n",
    "}\n",
    "df_orders = df_orders.rename(columns = columns_new)\n",
    "print(df_orders.head())"
   ]
  },
  {
   "cell_type": "code",
   "execution_count": 12,
   "metadata": {},
   "outputs": [],
   "source": [
    "# Cambiamos el tipo de datos a datetime\n",
    "df_orders['date'] = pd.to_datetime(df_orders['date'], format=\"%Y-%m-%d\")\n",
    "df_visits['date'] = pd.to_datetime(df_visits['date'], format=\"%Y-%m-%d\")"
   ]
  },
  {
   "cell_type": "markdown",
   "metadata": {},
   "source": [
    "## Priorizar hipótesis"
   ]
  },
  {
   "cell_type": "markdown",
   "metadata": {},
   "source": [
    "### Recursos requeridos"
   ]
  },
  {
   "cell_type": "code",
   "execution_count": 13,
   "metadata": {},
   "outputs": [
    {
     "data": {
      "text/html": [
       "<style  type=\"text/css\" >\n",
       "#T_134a6_row0_col0,#T_134a6_row0_col1,#T_134a6_row0_col2,#T_134a6_row1_col0,#T_134a6_row1_col1,#T_134a6_row1_col2,#T_134a6_row2_col0,#T_134a6_row2_col1,#T_134a6_row2_col2,#T_134a6_row3_col0,#T_134a6_row3_col1,#T_134a6_row3_col2,#T_134a6_row4_col0,#T_134a6_row4_col1,#T_134a6_row4_col2,#T_134a6_row5_col0,#T_134a6_row5_col1,#T_134a6_row5_col2,#T_134a6_row6_col0,#T_134a6_row6_col1,#T_134a6_row6_col2,#T_134a6_row7_col0,#T_134a6_row7_col1,#T_134a6_row7_col2,#T_134a6_row8_col0,#T_134a6_row8_col1,#T_134a6_row8_col2{\n",
       "            white-space:  pre-wrap;\n",
       "        }</style><table id=\"T_134a6_\" ><thead>    <tr>        <th class=\"blank level0\" ></th>        <th class=\"col_heading level0 col0\" >Hypothesis</th>        <th class=\"col_heading level0 col1\" >Effort</th>        <th class=\"col_heading level0 col2\" >Reach</th>    </tr></thead><tbody>\n",
       "                <tr>\n",
       "                        <th id=\"T_134a6_level0_row0\" class=\"row_heading level0 row0\" >1</th>\n",
       "                        <td id=\"T_134a6_row0_col0\" class=\"data row0 col0\" >Launch your own delivery service. This will shorten delivery time</td>\n",
       "                        <td id=\"T_134a6_row0_col1\" class=\"data row0 col1\" >10</td>\n",
       "                        <td id=\"T_134a6_row0_col2\" class=\"data row0 col2\" >2</td>\n",
       "            </tr>\n",
       "            <tr>\n",
       "                        <th id=\"T_134a6_level0_row1\" class=\"row_heading level0 row1\" >3</th>\n",
       "                        <td id=\"T_134a6_row1_col0\" class=\"data row1 col0\" >Change the category structure. This will increase conversion since users will find the products they want more quickly</td>\n",
       "                        <td id=\"T_134a6_row1_col1\" class=\"data row1 col1\" >8</td>\n",
       "                        <td id=\"T_134a6_row1_col2\" class=\"data row1 col2\" >8</td>\n",
       "            </tr>\n",
       "            <tr>\n",
       "                        <th id=\"T_134a6_level0_row2\" class=\"row_heading level0 row2\" >0</th>\n",
       "                        <td id=\"T_134a6_row2_col0\" class=\"data row2 col0\" >Add two new channels for attracting traffic. This will bring 30% more users</td>\n",
       "                        <td id=\"T_134a6_row2_col1\" class=\"data row2 col1\" >6</td>\n",
       "                        <td id=\"T_134a6_row2_col2\" class=\"data row2 col2\" >3</td>\n",
       "            </tr>\n",
       "            <tr>\n",
       "                        <th id=\"T_134a6_level0_row3\" class=\"row_heading level0 row3\" >7</th>\n",
       "                        <td id=\"T_134a6_row3_col0\" class=\"data row3 col0\" >Add a subscription form to all the main pages. This will help you compile a mailing list</td>\n",
       "                        <td id=\"T_134a6_row3_col1\" class=\"data row3 col1\" >5</td>\n",
       "                        <td id=\"T_134a6_row3_col2\" class=\"data row3 col2\" >10</td>\n",
       "            </tr>\n",
       "            <tr>\n",
       "                        <th id=\"T_134a6_level0_row4\" class=\"row_heading level0 row4\" >8</th>\n",
       "                        <td id=\"T_134a6_row4_col0\" class=\"data row4 col0\" >Launch a promotion that gives users discounts on their birthdays</td>\n",
       "                        <td id=\"T_134a6_row4_col1\" class=\"data row4 col1\" >5</td>\n",
       "                        <td id=\"T_134a6_row4_col2\" class=\"data row4 col2\" >1</td>\n",
       "            </tr>\n",
       "            <tr>\n",
       "                        <th id=\"T_134a6_level0_row5\" class=\"row_heading level0 row5\" >2</th>\n",
       "                        <td id=\"T_134a6_row5_col0\" class=\"data row5 col0\" >Add product recommendation blocks to the store's site. This will increase conversion and average purchase size</td>\n",
       "                        <td id=\"T_134a6_row5_col1\" class=\"data row5 col1\" >3</td>\n",
       "                        <td id=\"T_134a6_row5_col2\" class=\"data row5 col2\" >8</td>\n",
       "            </tr>\n",
       "            <tr>\n",
       "                        <th id=\"T_134a6_level0_row6\" class=\"row_heading level0 row6\" >5</th>\n",
       "                        <td id=\"T_134a6_row6_col0\" class=\"data row6 col0\" >Add a customer review page. This will increase the number of orders</td>\n",
       "                        <td id=\"T_134a6_row6_col1\" class=\"data row6 col1\" >3</td>\n",
       "                        <td id=\"T_134a6_row6_col2\" class=\"data row6 col2\" >3</td>\n",
       "            </tr>\n",
       "            <tr>\n",
       "                        <th id=\"T_134a6_level0_row7\" class=\"row_heading level0 row7\" >6</th>\n",
       "                        <td id=\"T_134a6_row7_col0\" class=\"data row7 col0\" >Show banners with current offers and sales on the main page. This will boost conversion</td>\n",
       "                        <td id=\"T_134a6_row7_col1\" class=\"data row7 col1\" >3</td>\n",
       "                        <td id=\"T_134a6_row7_col2\" class=\"data row7 col2\" >5</td>\n",
       "            </tr>\n",
       "            <tr>\n",
       "                        <th id=\"T_134a6_level0_row8\" class=\"row_heading level0 row8\" >4</th>\n",
       "                        <td id=\"T_134a6_row8_col0\" class=\"data row8 col0\" >Change the background color on the main page. This will increase user engagement</td>\n",
       "                        <td id=\"T_134a6_row8_col1\" class=\"data row8 col1\" >1</td>\n",
       "                        <td id=\"T_134a6_row8_col2\" class=\"data row8 col2\" >3</td>\n",
       "            </tr>\n",
       "    </tbody></table>"
      ],
      "text/plain": [
       "<pandas.io.formats.style.Styler at 0x7fec7e8aa520>"
      ]
     },
     "metadata": {},
     "output_type": "display_data"
    }
   ],
   "source": [
    "# Cuanto mayor sea el valor Effort, más recursos requiere la prueba.\n",
    "display(df_hypothesis[['Hypothesis','Effort','Reach']].sort_values(by='Effort', ascending=False).style.set_properties(**{'white-space': 'pre-wrap'}))\n"
   ]
  },
  {
   "cell_type": "markdown",
   "metadata": {},
   "source": [
    "### ICE (Impacto, Confianza y Esfuerzo)"
   ]
  },
  {
   "cell_type": "code",
   "execution_count": 14,
   "metadata": {
    "scrolled": true
   },
   "outputs": [
    {
     "data": {
      "text/html": [
       "<style  type=\"text/css\" >\n",
       "#T_52391_row0_col0,#T_52391_row0_col1,#T_52391_row1_col0,#T_52391_row1_col1,#T_52391_row2_col0,#T_52391_row2_col1,#T_52391_row3_col0,#T_52391_row3_col1,#T_52391_row4_col0,#T_52391_row4_col1,#T_52391_row5_col0,#T_52391_row5_col1,#T_52391_row6_col0,#T_52391_row6_col1,#T_52391_row7_col0,#T_52391_row7_col1,#T_52391_row8_col0,#T_52391_row8_col1{\n",
       "            white-space:  pre-wrap;\n",
       "        }</style><table id=\"T_52391_\" ><thead>    <tr>        <th class=\"blank level0\" ></th>        <th class=\"col_heading level0 col0\" >Hypothesis</th>        <th class=\"col_heading level0 col1\" >ICE</th>    </tr></thead><tbody>\n",
       "                <tr>\n",
       "                        <th id=\"T_52391_level0_row0\" class=\"row_heading level0 row0\" >8</th>\n",
       "                        <td id=\"T_52391_row0_col0\" class=\"data row0 col0\" >Launch a promotion that gives users discounts on their birthdays</td>\n",
       "                        <td id=\"T_52391_row0_col1\" class=\"data row0 col1\" >16.200000</td>\n",
       "            </tr>\n",
       "            <tr>\n",
       "                        <th id=\"T_52391_level0_row1\" class=\"row_heading level0 row1\" >0</th>\n",
       "                        <td id=\"T_52391_row1_col0\" class=\"data row1 col0\" >Add two new channels for attracting traffic. This will bring 30% more users</td>\n",
       "                        <td id=\"T_52391_row1_col1\" class=\"data row1 col1\" >13.333333</td>\n",
       "            </tr>\n",
       "            <tr>\n",
       "                        <th id=\"T_52391_level0_row2\" class=\"row_heading level0 row2\" >7</th>\n",
       "                        <td id=\"T_52391_row2_col0\" class=\"data row2 col0\" >Add a subscription form to all the main pages. This will help you compile a mailing list</td>\n",
       "                        <td id=\"T_52391_row2_col1\" class=\"data row2 col1\" >11.200000</td>\n",
       "            </tr>\n",
       "            <tr>\n",
       "                        <th id=\"T_52391_level0_row3\" class=\"row_heading level0 row3\" >6</th>\n",
       "                        <td id=\"T_52391_row3_col0\" class=\"data row3 col0\" >Show banners with current offers and sales on the main page. This will boost conversion</td>\n",
       "                        <td id=\"T_52391_row3_col1\" class=\"data row3 col1\" >8.000000</td>\n",
       "            </tr>\n",
       "            <tr>\n",
       "                        <th id=\"T_52391_level0_row4\" class=\"row_heading level0 row4\" >2</th>\n",
       "                        <td id=\"T_52391_row4_col0\" class=\"data row4 col0\" >Add product recommendation blocks to the store's site. This will increase conversion and average purchase size</td>\n",
       "                        <td id=\"T_52391_row4_col1\" class=\"data row4 col1\" >7.000000</td>\n",
       "            </tr>\n",
       "            <tr>\n",
       "                        <th id=\"T_52391_level0_row5\" class=\"row_heading level0 row5\" >1</th>\n",
       "                        <td id=\"T_52391_row5_col0\" class=\"data row5 col0\" >Launch your own delivery service. This will shorten delivery time</td>\n",
       "                        <td id=\"T_52391_row5_col1\" class=\"data row5 col1\" >2.000000</td>\n",
       "            </tr>\n",
       "            <tr>\n",
       "                        <th id=\"T_52391_level0_row6\" class=\"row_heading level0 row6\" >5</th>\n",
       "                        <td id=\"T_52391_row6_col0\" class=\"data row6 col0\" >Add a customer review page. This will increase the number of orders</td>\n",
       "                        <td id=\"T_52391_row6_col1\" class=\"data row6 col1\" >1.333333</td>\n",
       "            </tr>\n",
       "            <tr>\n",
       "                        <th id=\"T_52391_level0_row7\" class=\"row_heading level0 row7\" >3</th>\n",
       "                        <td id=\"T_52391_row7_col0\" class=\"data row7 col0\" >Change the category structure. This will increase conversion since users will find the products they want more quickly</td>\n",
       "                        <td id=\"T_52391_row7_col1\" class=\"data row7 col1\" >1.125000</td>\n",
       "            </tr>\n",
       "            <tr>\n",
       "                        <th id=\"T_52391_level0_row8\" class=\"row_heading level0 row8\" >4</th>\n",
       "                        <td id=\"T_52391_row8_col0\" class=\"data row8 col0\" >Change the background color on the main page. This will increase user engagement</td>\n",
       "                        <td id=\"T_52391_row8_col1\" class=\"data row8 col1\" >1.000000</td>\n",
       "            </tr>\n",
       "    </tbody></table>"
      ],
      "text/plain": [
       "<pandas.io.formats.style.Styler at 0x7fecc405d130>"
      ]
     },
     "metadata": {},
     "output_type": "display_data"
    }
   ],
   "source": [
    "# Obtenemos ICE\n",
    "df_hypothesis['ICE']= (df_hypothesis['Impact'] * df_hypothesis['Confidence']) / df_hypothesis['Effort']\n",
    "display(df_hypothesis[['Hypothesis','ICE']].sort_values(by='ICE', ascending=False).style.set_properties(**{'white-space': 'pre-wrap'}))\n"
   ]
  },
  {
   "cell_type": "markdown",
   "metadata": {},
   "source": [
    "### RICE (Alcance, Impacto, Confianza y Esfuerzo)"
   ]
  },
  {
   "cell_type": "code",
   "execution_count": 15,
   "metadata": {},
   "outputs": [
    {
     "data": {
      "text/html": [
       "<style  type=\"text/css\" >\n",
       "#T_f753e_row0_col0,#T_f753e_row0_col1,#T_f753e_row1_col0,#T_f753e_row1_col1,#T_f753e_row2_col0,#T_f753e_row2_col1,#T_f753e_row3_col0,#T_f753e_row3_col1,#T_f753e_row4_col0,#T_f753e_row4_col1,#T_f753e_row5_col0,#T_f753e_row5_col1,#T_f753e_row6_col0,#T_f753e_row6_col1,#T_f753e_row7_col0,#T_f753e_row7_col1,#T_f753e_row8_col0,#T_f753e_row8_col1{\n",
       "            white-space:  pre-wrap;\n",
       "        }</style><table id=\"T_f753e_\" ><thead>    <tr>        <th class=\"blank level0\" ></th>        <th class=\"col_heading level0 col0\" >Hypothesis</th>        <th class=\"col_heading level0 col1\" >RICE</th>    </tr></thead><tbody>\n",
       "                <tr>\n",
       "                        <th id=\"T_f753e_level0_row0\" class=\"row_heading level0 row0\" >7</th>\n",
       "                        <td id=\"T_f753e_row0_col0\" class=\"data row0 col0\" >Add a subscription form to all the main pages. This will help you compile a mailing list</td>\n",
       "                        <td id=\"T_f753e_row0_col1\" class=\"data row0 col1\" >112.000000</td>\n",
       "            </tr>\n",
       "            <tr>\n",
       "                        <th id=\"T_f753e_level0_row1\" class=\"row_heading level0 row1\" >2</th>\n",
       "                        <td id=\"T_f753e_row1_col0\" class=\"data row1 col0\" >Add product recommendation blocks to the store's site. This will increase conversion and average purchase size</td>\n",
       "                        <td id=\"T_f753e_row1_col1\" class=\"data row1 col1\" >56.000000</td>\n",
       "            </tr>\n",
       "            <tr>\n",
       "                        <th id=\"T_f753e_level0_row2\" class=\"row_heading level0 row2\" >0</th>\n",
       "                        <td id=\"T_f753e_row2_col0\" class=\"data row2 col0\" >Add two new channels for attracting traffic. This will bring 30% more users</td>\n",
       "                        <td id=\"T_f753e_row2_col1\" class=\"data row2 col1\" >40.000000</td>\n",
       "            </tr>\n",
       "            <tr>\n",
       "                        <th id=\"T_f753e_level0_row3\" class=\"row_heading level0 row3\" >6</th>\n",
       "                        <td id=\"T_f753e_row3_col0\" class=\"data row3 col0\" >Show banners with current offers and sales on the main page. This will boost conversion</td>\n",
       "                        <td id=\"T_f753e_row3_col1\" class=\"data row3 col1\" >40.000000</td>\n",
       "            </tr>\n",
       "            <tr>\n",
       "                        <th id=\"T_f753e_level0_row4\" class=\"row_heading level0 row4\" >8</th>\n",
       "                        <td id=\"T_f753e_row4_col0\" class=\"data row4 col0\" >Launch a promotion that gives users discounts on their birthdays</td>\n",
       "                        <td id=\"T_f753e_row4_col1\" class=\"data row4 col1\" >16.200000</td>\n",
       "            </tr>\n",
       "            <tr>\n",
       "                        <th id=\"T_f753e_level0_row5\" class=\"row_heading level0 row5\" >3</th>\n",
       "                        <td id=\"T_f753e_row5_col0\" class=\"data row5 col0\" >Change the category structure. This will increase conversion since users will find the products they want more quickly</td>\n",
       "                        <td id=\"T_f753e_row5_col1\" class=\"data row5 col1\" >9.000000</td>\n",
       "            </tr>\n",
       "            <tr>\n",
       "                        <th id=\"T_f753e_level0_row6\" class=\"row_heading level0 row6\" >1</th>\n",
       "                        <td id=\"T_f753e_row6_col0\" class=\"data row6 col0\" >Launch your own delivery service. This will shorten delivery time</td>\n",
       "                        <td id=\"T_f753e_row6_col1\" class=\"data row6 col1\" >4.000000</td>\n",
       "            </tr>\n",
       "            <tr>\n",
       "                        <th id=\"T_f753e_level0_row7\" class=\"row_heading level0 row7\" >5</th>\n",
       "                        <td id=\"T_f753e_row7_col0\" class=\"data row7 col0\" >Add a customer review page. This will increase the number of orders</td>\n",
       "                        <td id=\"T_f753e_row7_col1\" class=\"data row7 col1\" >4.000000</td>\n",
       "            </tr>\n",
       "            <tr>\n",
       "                        <th id=\"T_f753e_level0_row8\" class=\"row_heading level0 row8\" >4</th>\n",
       "                        <td id=\"T_f753e_row8_col0\" class=\"data row8 col0\" >Change the background color on the main page. This will increase user engagement</td>\n",
       "                        <td id=\"T_f753e_row8_col1\" class=\"data row8 col1\" >3.000000</td>\n",
       "            </tr>\n",
       "    </tbody></table>"
      ],
      "text/plain": [
       "<pandas.io.formats.style.Styler at 0x7fec80b07340>"
      ]
     },
     "metadata": {},
     "output_type": "display_data"
    }
   ],
   "source": [
    "df_hypothesis['RICE'] = (df_hypothesis['Reach'] * df_hypothesis['Impact']* df_hypothesis['Confidence']) / df_hypothesis['Effort']\n",
    "display(df_hypothesis[['Hypothesis','RICE']].sort_values(by='RICE', ascending=False).style.set_properties(**{'white-space': 'pre-wrap'}))\n"
   ]
  },
  {
   "cell_type": "code",
   "execution_count": 16,
   "metadata": {},
   "outputs": [
    {
     "data": {
      "image/png": "[encoded data removed]",
      "text/plain": [
       "<Figure size 640x480 with 1 Axes>"
      ]
     },
     "metadata": {},
     "output_type": "display_data"
    }
   ],
   "source": [
    "df_hypothesis.plot(y= ['ICE','RICE'])\n",
    "plt.show()"
   ]
  },
  {
   "cell_type": "markdown",
   "metadata": {},
   "source": [
    "**Observaciones**\n",
    "* Teniendo en cuenta solo el ICE, podemos ver que las hipótesis 8, 0 y 7 son las más prometedoras, con valores por encima de 10. \n",
    "* Sin embargo al evaluar el RICE, la hipótesis 7 se duplica por encima de las demás hipótesis, esto debido a que tiene 10 de alcance. \n",
    "* La hipótesis 8 es la número 5 al medir RICE, a pesar de ser la #1 al medir ICE. Sucede de igual forma la hipótesis 2 ocupa el #2 en RICE pero el #5 en ICE.\n",
    "* Gracias a lo anterior, podemos afirmar que las hipótesis más prometedoras son la **7** y la **0**:\n",
    "    * 7: *Add a subscription form to all the main pages. This will help you compile a mailing list*  (Agrega un formulario de suscripción a todas las páginas principales. Esto nos ayudará a recopilar una lista de correos) \n",
    "    * 0: *Add two new channels for attracting traffic. This will bring 30% more users* (Agrega 2 canales nuevos para atraer tráfico. Esto traerá un 30% de más usuarios)"
   ]
  },
  {
   "cell_type": "markdown",
   "metadata": {},
   "source": [
    "## Análisis de la prueba A/B"
   ]
  },
  {
   "cell_type": "code",
   "execution_count": 17,
   "metadata": {},
   "outputs": [
    {
     "name": "stdout",
     "output_type": "stream",
     "text": [
      "visitor_id    58\n",
      "group         58\n",
      "dtype: int64\n"
     ]
    }
   ],
   "source": [
    "# Verificamos que no tengamos usuarios duplicados en los 2 grupos \n",
    "duplicates_id = df_orders.groupby('visitor_id')['group'].nunique().reset_index()\n",
    "duplicates_id = duplicates_id[duplicates_id['group'] > 1]\n",
    "print(duplicates_id.count())"
   ]
  },
  {
   "cell_type": "code",
   "execution_count": 18,
   "metadata": {},
   "outputs": [
    {
     "name": "stdout",
     "output_type": "stream",
     "text": [
      "181\n",
      "                  revenue  group\n",
      "visitor_id group                \n",
      "8300375    A         30.5      1\n",
      "           B        165.7      1\n",
      "199603092  A        311.9      4\n",
      "           B         55.7      1\n",
      "232979603  A          5.9      1\n",
      "...                   ...    ...\n",
      "4186807279 B        505.9      2\n",
      "4256040402 A        773.7      7\n",
      "           B       1977.5      4\n",
      "4266935830 A       1220.2      1\n",
      "           B       1220.2      1\n",
      "\n",
      "[116 rows x 2 columns]\n"
     ]
    }
   ],
   "source": [
    "#Identificamos el revenue por grupo y número de transacciones por grupo\n",
    "dup_orders = df_orders[df_orders['visitor_id'].isin(duplicates_id['visitor_id'])]\n",
    "dup_orders1 = dup_orders.groupby(['visitor_id','group']).agg({'revenue':'sum','group':'count'})\n",
    "print(dup_orders['visitor_id'].count())\n",
    "print(dup_orders1)"
   ]
  },
  {
   "cell_type": "code",
   "execution_count": 19,
   "metadata": {},
   "outputs": [
    {
     "name": "stdout",
     "output_type": "stream",
     "text": [
      "      transaction_id  visitor_id       date  revenue group\n",
      "0         3667963787  3312258926 2019-08-15     30.4     B\n",
      "1         2804400009  3642806036 2019-08-15     15.2     B\n",
      "3         3797467345  1196621759 2019-08-15    155.1     B\n",
      "4         2282983706  2322279887 2019-08-15     40.5     B\n",
      "5          182168103   935554773 2019-08-15     35.0     B\n",
      "...              ...         ...        ...      ...   ...\n",
      "1191      3592955527   608641596 2019-08-14    255.7     B\n",
      "1192      2662137336  3733762160 2019-08-14    100.8     B\n",
      "1193      2203539145   370388673 2019-08-14     50.1     A\n",
      "1194      1807773912   573423106 2019-08-14    165.3     A\n",
      "1196      3936777065  2108080724 2019-08-15   3120.1     B\n",
      "\n",
      "[1016 rows x 5 columns]\n"
     ]
    }
   ],
   "source": [
    "df_orders2 = df_orders[np.logical_not(df_orders['visitor_id'].isin(duplicates_id['visitor_id']))]\n",
    "print(df_orders2)"
   ]
  },
  {
   "cell_type": "markdown",
   "metadata": {},
   "source": [
    "**Observaciones**\n",
    "* Después de evaluar que los usuarios habían accedido más de 1 vez a las diferentes versiones, se decidió eliminar a los usuarios que formaron parte de ambos grupos ya que no quedará claro qué versión influyó en sus decisiones por lo que la fiabilidad de los resultados se verá comprometida.\n",
    "* En total se eliminaron 181 transacciones de los 58 usuarios que formaron parte de ambos grupos \n",
    "\n"
   ]
  },
  {
   "cell_type": "markdown",
   "metadata": {},
   "source": [
    "### Ingreso acumulado"
   ]
  },
  {
   "cell_type": "code",
   "execution_count": 20,
   "metadata": {},
   "outputs": [],
   "source": [
    "#Creamos una matriz con valores únicos de fecha-grupo \n",
    "dates_groups = df_orders2[['date','group']].drop_duplicates()\n"
   ]
  },
  {
   "cell_type": "code",
   "execution_count": 21,
   "metadata": {},
   "outputs": [
    {
     "name": "stdout",
     "output_type": "stream",
     "text": [
      "          date group  transaction_id  visitor_id  revenue\n",
      "55  2019-08-01     A              23          19   2266.6\n",
      "66  2019-08-01     B              17          17    967.2\n",
      "175 2019-08-02     A              42          36   3734.9\n",
      "173 2019-08-02     B              40          39   3535.3\n",
      "291 2019-08-03     A              66          60   5550.1\n"
     ]
    }
   ],
   "source": [
    "#Obtenemos los datos diarios acumulados agregados sobre los pedidos\n",
    "orders_aggregated = dates_groups.apply(lambda x: df_orders2[np.logical_and(df_orders2['date'] <= x['date'], df_orders2['group'] == x['group'])].agg({'date' : 'max', 'group' : 'max', 'transaction_id' : pd.Series.nunique, 'visitor_id' : pd.Series.nunique, 'revenue' : 'sum'}), axis=1).sort_values(by=['date','group'])\n",
    "print(orders_aggregated.head())"
   ]
  },
  {
   "cell_type": "code",
   "execution_count": 22,
   "metadata": {},
   "outputs": [
    {
     "name": "stdout",
     "output_type": "stream",
     "text": [
      "          date group  visits\n",
      "55  2019-08-01     A     719\n",
      "66  2019-08-01     B     713\n",
      "175 2019-08-02     A    1338\n",
      "173 2019-08-02     B    1294\n",
      "291 2019-08-03     A    1845\n"
     ]
    }
   ],
   "source": [
    "#Obtenemos los datos diarios acumulados agregados sobre los visitantes\n",
    "visits_aggregated = dates_groups.apply(lambda x: df_visits[np.logical_and(df_visits['date'] <= x['date'], df_visits['group'] == x['group'])].agg({'date' : 'max', 'group' : 'max', 'visits' : 'sum'}), axis=1).sort_values(by=['date','group'])\n",
    "print(visits_aggregated.head())"
   ]
  },
  {
   "cell_type": "code",
   "execution_count": 23,
   "metadata": {},
   "outputs": [
    {
     "name": "stdout",
     "output_type": "stream",
     "text": [
      "         date group  transactions  visitors  revenue  visits\n",
      "0  2019-08-01     A            23        19   2266.6     719\n",
      "1  2019-08-01     B            17        17    967.2     713\n",
      "2  2019-08-02     A            42        36   3734.9    1338\n",
      "3  2019-08-02     B            40        39   3535.3    1294\n",
      "4  2019-08-03     A            66        60   5550.1    1845\n",
      "..        ...   ...           ...       ...      ...     ...\n",
      "57 2019-08-29     B           510       490  74576.7   17708\n",
      "58 2019-08-30     A           460       437  52363.7   18037\n",
      "59 2019-08-30     B           531       511  77863.5   18198\n",
      "60 2019-08-31     A           468       445  53212.0   18736\n",
      "61 2019-08-31     B           548       528  79651.2   18916\n",
      "\n",
      "[62 rows x 6 columns]\n"
     ]
    }
   ],
   "source": [
    "#Unimos los datos agregados en un solo DataFrame\n",
    "cumulative_data = orders_aggregated.merge(visits_aggregated, left_on=['date', 'group'], right_on=['date', 'group'])\n",
    "cumulative_data.columns = ['date', 'group', 'transactions', 'visitors', 'revenue', 'visits']\n",
    "print(cumulative_data)"
   ]
  },
  {
   "cell_type": "code",
   "execution_count": 24,
   "metadata": {},
   "outputs": [
    {
     "data": {
      "text/plain": [
       "<matplotlib.legend.Legend at 0x7fec7c675700>"
      ]
     },
     "execution_count": 24,
     "metadata": {},
     "output_type": "execute_result"
    },
    {
     "data": {
      "image/png": "[encoded data removed]",
      "text/plain": [
       "<Figure size 640x480 with 1 Axes>"
      ]
     },
     "metadata": {},
     "output_type": "display_data"
    }
   ],
   "source": [
    "#Obtenemos datos por grupo\n",
    "cumulative_revenueA = cumulative_data[cumulative_data['group']=='A'][['date','revenue', 'transactions']]\n",
    "cumulative_revenueB = cumulative_data[cumulative_data['group']=='B'][['date','revenue', 'transactions']]\n",
    "\n",
    "#Hacemos el gráfico\n",
    "plt.plot(cumulative_revenueA['date'], cumulative_revenueA['revenue'], label='A')\n",
    "plt.plot(cumulative_revenueB['date'], cumulative_revenueB['revenue'], label='B')\n",
    "\n",
    "plt.xticks(rotation=45)\n",
    "plt.legend()"
   ]
  },
  {
   "cell_type": "markdown",
   "metadata": {},
   "source": [
    "**Observaciones**\n",
    "* Las transacciones de ambos grupos aumentan durante la prueba\n",
    "* Al inicio de la prueba, el grupo A inició con mayores transacciones, sin embargo se mantuvo en segundo lugar excepto el 13 de Agosto de 2019 \n",
    "* El grupo B tuvo un mayor ingreso acumulado en la mayoría de la prueba"
   ]
  },
  {
   "cell_type": "markdown",
   "metadata": {},
   "source": [
    "### Tamaño de pedido promedio acumulado por grupo"
   ]
  },
  {
   "cell_type": "code",
   "execution_count": 25,
   "metadata": {},
   "outputs": [
    {
     "data": {
      "text/plain": [
       "<matplotlib.legend.Legend at 0x7fec7c5910d0>"
      ]
     },
     "execution_count": 25,
     "metadata": {},
     "output_type": "execute_result"
    },
    {
     "data": {
      "image/png": "[encoded data removed]",
      "text/plain": [
       "<Figure size 640x480 with 1 Axes>"
      ]
     },
     "metadata": {},
     "output_type": "display_data"
    }
   ],
   "source": [
    "# Hacemos el gráfico\n",
    "plt.plot(cumulative_revenueA['date'], cumulative_revenueA['revenue']/cumulative_revenueA['transactions'], label='A')\n",
    "\n",
    "plt.plot(cumulative_revenueB['date'], cumulative_revenueB['revenue']/cumulative_revenueB['transactions'], label='B')\n",
    "\n",
    "plt.xticks(rotation=45)\n",
    "plt.legend()"
   ]
  },
  {
   "cell_type": "markdown",
   "metadata": {},
   "source": [
    "**Observaciones**\n",
    "* El grupo A inició con mayor promedio de pedidos, sin embargo para los siguientes 5 días el promedio bajó casi un 50%, el promedio subió y llegó a su máximo para el 13 de Agosto, para después bajar y mantener un promedio por encima de 100 \n",
    "* El grupo B tuvo una elevación de más de 20 pedidos en los primeros días, antes del día 9 el promedio subió más de 20 pedidos nuevamente. Alrededor del 13 bajó su promedio, pero para el 17 de Agosto subió nuevamente llegando al máximo de 160 pedidos en promedio, para comenzar a bajar a 140 pedidos. \n",
    "* Podemos suponer que al día 13 hubo un cambio en el grupo A para que superará al grupo B\n",
    "* El Grupo B tuvo mayor promedio acumulado "
   ]
  },
  {
   "cell_type": "markdown",
   "metadata": {},
   "source": [
    "### Diferencia relativa en el tamaño de pedido promedio acumulado "
   ]
  },
  {
   "cell_type": "code",
   "execution_count": 26,
   "metadata": {},
   "outputs": [
    {
     "data": {
      "text/plain": [
       "<matplotlib.lines.Line2D at 0x7fec7c4fffa0>"
      ]
     },
     "execution_count": 26,
     "metadata": {},
     "output_type": "execute_result"
    },
    {
     "data": {
      "image/png": "[encoded data removed]",
      "text/plain": [
       "<Figure size 640x480 with 1 Axes>"
      ]
     },
     "metadata": {},
     "output_type": "display_data"
    }
   ],
   "source": [
    "# Unimos los datos de los 2 grupos en un solo DataFrame \n",
    "merged_cumulative_revenue = cumulative_revenueA.merge(cumulative_revenueB, left_on='date', right_on='date', how='left', suffixes=['A', 'B'])\n",
    "\n",
    "# Trazamos un gráfico de diferencia relativa para los tamaños de compra promedio\n",
    "plt.plot(merged_cumulative_revenue['date'], (merged_cumulative_revenue['revenueB']/merged_cumulative_revenue['transactionsB'])/(merged_cumulative_revenue['revenueA']/merged_cumulative_revenue['transactionsA'])-1)\n",
    "\n",
    "plt.xticks(rotation=45)\n",
    "plt.axhline(y=0, color='black', linestyle='--')"
   ]
  },
  {
   "cell_type": "markdown",
   "metadata": {},
   "source": [
    "**Observaciones**\n",
    "* Podemos notar que al inicio de la prueba y al final el grupo B tiene mejores métricas\n",
    "* Sin embargo para el 13 de Agosto, el grupo A tuvo mejor resultado, como habíamos observado en el tamaño promedio acumulado. "
   ]
  },
  {
   "cell_type": "markdown",
   "metadata": {},
   "source": [
    "### Tasa de conversión"
   ]
  },
  {
   "cell_type": "code",
   "execution_count": 27,
   "metadata": {},
   "outputs": [
    {
     "name": "stdout",
     "output_type": "stream",
     "text": [
      "        date group  transactions  visitors  revenue  visits  conversion\n",
      "0 2019-08-01     A            23        19   2266.6     719    1.210526\n",
      "2 2019-08-02     A            42        36   3734.9    1338    1.166667\n",
      "4 2019-08-03     A            66        60   5550.1    1845    1.100000\n",
      "6 2019-08-04     A            77        71   6225.6    2562    1.084507\n",
      "8 2019-08-05     A            99        92   7623.6    3318    1.076087\n",
      "\n",
      "        date group  transactions  visitors  revenue  visits  conversion\n",
      "0 2019-08-01     A            23        19   2266.6     719    1.210526\n",
      "2 2019-08-02     A            42        36   3734.9    1338    1.166667\n",
      "4 2019-08-03     A            66        60   5550.1    1845    1.100000\n",
      "6 2019-08-04     A            77        71   6225.6    2562    1.084507\n",
      "8 2019-08-05     A            99        92   7623.6    3318    1.076087\n"
     ]
    },
    {
     "data": {
      "text/plain": [
       "(18109.0, 18140.0, 0.8, 1.4)"
      ]
     },
     "execution_count": 27,
     "metadata": {},
     "output_type": "execute_result"
    },
    {
     "data": {
      "image/png": "[encoded data removed]",
      "text/plain": [
       "<Figure size 640x480 with 1 Axes>"
      ]
     },
     "metadata": {},
     "output_type": "display_data"
    }
   ],
   "source": [
    "# Calculamos la tasa de conversión de cada grupo\n",
    "cumulative_data['conversion'] = cumulative_data['transactions']/cumulative_data['visitors']\n",
    "\n",
    "cumulative_dataA = cumulative_data[cumulative_data['group']=='A']\n",
    "cumulative_dataB = cumulative_data[cumulative_data['group']=='B']\n",
    "print(cumulative_dataA.head())\n",
    "print()\n",
    "print(cumulative_dataA.head())\n",
    "\n",
    "# Trazamos los gráficos\n",
    "plt.plot(cumulative_dataA['date'], cumulative_dataA['conversion'], label='A')\n",
    "plt.plot(cumulative_dataB['date'], cumulative_dataB['conversion'], label='B')\n",
    "plt.legend()\n",
    "plt.xticks(rotation=45)\n",
    "plt.axis([pd.to_datetime('2019-08-01'), pd.to_datetime('2019-09-01'), 0.8, 1.4])"
   ]
  },
  {
   "cell_type": "markdown",
   "metadata": {},
   "source": [
    "**Observaciones**\n",
    "* Notamos que al inicio el grupo A inició con una mejor conversión, sin embargo antes de los primeros 5 días tuvo un declive para después mantenerse entre 1 y 1.1\n",
    "* Para el grupo B tuvo un pequeño aumento elos primeros 5 días, sin embargo se mantuvo con una tasa menor que el grupo A\n",
    "* Debido a las métricas anteriores el grupo B llevaba mejores resultados, sin embargo mirando esta gráfica el grupo tiene mayor tasa de conversión y apesar de que bajó los primeros días se mantuvo con un tasa mayor que el grupo B. "
   ]
  },
  {
   "cell_type": "markdown",
   "metadata": {},
   "source": [
    "### Pedidos por usuario"
   ]
  },
  {
   "cell_type": "code",
   "execution_count": 28,
   "metadata": {},
   "outputs": [
    {
     "name": "stdout",
     "output_type": "stream",
     "text": [
      "     visitor_id  transactions\n",
      "908  3967698036             3\n",
      "55    249864742             3\n",
      "478  2108163459             3\n",
      "687  2988190573             3\n",
      "890  3908431265             3\n",
      "..          ...           ...\n",
      "331  1438226485             1\n",
      "332  1452540367             1\n",
      "333  1455323168             1\n",
      "334  1455861274             1\n",
      "972  4283872382             1\n",
      "\n",
      "[973 rows x 2 columns]\n"
     ]
    }
   ],
   "source": [
    "#df_orders2 es el DataFrame sin los visitantes que formaban parte de los 2 grupos\n",
    "order_per_user = df_orders2.groupby('visitor_id').agg({'transaction_id':'nunique'}).reset_index()\n",
    "order_per_user.columns = ['visitor_id','transactions']\n",
    "print(order_per_user.sort_values(by='transactions', ascending=False))"
   ]
  },
  {
   "cell_type": "markdown",
   "metadata": {},
   "source": [
    "#### Gráfico de dispersión"
   ]
  },
  {
   "cell_type": "code",
   "execution_count": 29,
   "metadata": {},
   "outputs": [
    {
     "data": {
      "text/plain": [
       "<matplotlib.collections.PathCollection at 0x7fec7c401430>"
      ]
     },
     "execution_count": 29,
     "metadata": {},
     "output_type": "execute_result"
    },
    {
     "data": {
      "image/png": "[encoded data removed]",
      "text/plain": [
       "<Figure size 640x480 with 1 Axes>"
      ]
     },
     "metadata": {},
     "output_type": "display_data"
    }
   ],
   "source": [
    "# Hacemos el gráfico de dispersión\n",
    "dispersion_graph = pd.Series(range(0,len(order_per_user['transactions'])))\n",
    "\n",
    "plt.scatter(dispersion_graph ,order_per_user['transactions'])\n"
   ]
  },
  {
   "cell_type": "markdown",
   "metadata": {},
   "source": [
    "**Observaciones**\n",
    "* Notamos que el máximo número de pedidos por usuario es de 3 pedidos, y son pocos los visitantes que hacen ese número de pedidos \n",
    "* La mayor parte de los viistantes sólo hacen 1 pedido y no es tan atípico que hagan 2 pedidos. "
   ]
  },
  {
   "cell_type": "markdown",
   "metadata": {},
   "source": [
    "#### Percentiles"
   ]
  },
  {
   "cell_type": "code",
   "execution_count": 30,
   "metadata": {},
   "outputs": [
    {
     "name": "stdout",
     "output_type": "stream",
     "text": [
      "[1. 2.]\n"
     ]
    }
   ],
   "source": [
    "# Calculamos los percentiles 95 y 99\n",
    "percentile_order = np.percentile(order_per_user['transactions'], [95, 99])\n",
    "print(percentile_order)"
   ]
  },
  {
   "cell_type": "markdown",
   "metadata": {},
   "source": [
    "**Observaciones**\n",
    "* No más del 5% de los visitantes hicieron más de 1 pedido\n",
    "* Sólo el 1% hicieron más de 2 pedidos\n",
    "* Gracias al gráfico de dispersión y los percentiles podemos fijar el umbral como normal de 1 a 2 pedidos y como anomalía 3 pedidos. "
   ]
  },
  {
   "cell_type": "markdown",
   "metadata": {},
   "source": [
    "### Precio por pedido"
   ]
  },
  {
   "cell_type": "markdown",
   "metadata": {},
   "source": [
    "#### Gráfico de dispersión"
   ]
  },
  {
   "cell_type": "code",
   "execution_count": 31,
   "metadata": {},
   "outputs": [
    {
     "data": {
      "text/plain": [
       "<matplotlib.collections.PathCollection at 0x7fec7c3701c0>"
      ]
     },
     "execution_count": 31,
     "metadata": {},
     "output_type": "execute_result"
    },
    {
     "data": {
      "image/png": "[encoded data removed]",
      "text/plain": [
       "<Figure size 640x480 with 1 Axes>"
      ]
     },
     "metadata": {},
     "output_type": "display_data"
    }
   ],
   "source": [
    "price_per_transaction = pd.Series(range(0,len(df_orders2['revenue'])))\n",
    "\n",
    "plt.scatter(price_per_transaction, df_orders2['revenue'])\n"
   ]
  },
  {
   "cell_type": "markdown",
   "metadata": {},
   "source": [
    "**Observaciones**\n",
    "* Notamos que tenemos pedidos de más de 20000 lo cual parece ser una anomalía\n",
    "* La mayoría de los pedidos son menores de 1000\n",
    "* Tenemos pedidos mayor de 2000, lo cual parecen ser pedidos atípicos"
   ]
  },
  {
   "cell_type": "markdown",
   "metadata": {},
   "source": [
    "#### Percentiles"
   ]
  },
  {
   "cell_type": "code",
   "execution_count": 32,
   "metadata": {},
   "outputs": [
    {
     "name": "stdout",
     "output_type": "stream",
     "text": [
      "[414.275 830.3  ]\n"
     ]
    }
   ],
   "source": [
    "percentile_rev = np.percentile(df_orders2['revenue'], [95, 99])\n",
    "print(percentile_rev)\n"
   ]
  },
  {
   "cell_type": "markdown",
   "metadata": {},
   "source": [
    "**Observaciones**\n",
    "* No más del 5% de los visitantes hicieron más de 414.275\n",
    "* Sólo el 1% hicieron más de 830.2\n",
    "* Gracias al gráfico de dispersión y los percentiles podemos fijar que el precio de un pedido normal es menor de 414"
   ]
  },
  {
   "cell_type": "markdown",
   "metadata": {},
   "source": [
    "### Significancia estadística de la diferencia en la conversión en datos brutos"
   ]
  },
  {
   "cell_type": "code",
   "execution_count": 33,
   "metadata": {},
   "outputs": [
    {
     "name": "stdout",
     "output_type": "stream",
     "text": [
      "   visitor_id  orders\n",
      "0    11685486       1\n",
      "1    54447517       1\n",
      "2    66685450       1\n",
      "3    78758296       1\n",
      "4    85103373       1\n",
      "\n",
      "   visitor_id  orders\n",
      "0     5114589       1\n",
      "1     6958315       1\n",
      "2    39475350       1\n",
      "3    47206413       1\n",
      "4    48147722       1\n"
     ]
    }
   ],
   "source": [
    "# Obtenemos significancia estadística de la diferencia en la conversión entre los grupos sin eliminar las anomalías\n",
    "orders_usersA = df_orders2[df_orders2['group']=='A'].groupby('visitor_id', as_index=False).agg({'transaction_id' : pd.Series.nunique})\n",
    "orders_usersA.columns = ['visitor_id', 'orders']\n",
    "\n",
    "orders_usersB = df_orders2[df_orders2['group']=='B'].groupby('visitor_id', as_index=False).agg({'transaction_id' : pd.Series.nunique})\n",
    "orders_usersB.columns = ['visitor_id', 'orders']\n",
    "print(orders_usersA.head())\n",
    "print()\n",
    "print(orders_usersB.head())"
   ]
  },
  {
   "cell_type": "code",
   "execution_count": 34,
   "metadata": {},
   "outputs": [
    {
     "name": "stdout",
     "output_type": "stream",
     "text": [
      "0        1\n",
      "1        1\n",
      "2        1\n",
      "3        1\n",
      "4        1\n",
      "        ..\n",
      "18286    0\n",
      "18287    0\n",
      "18288    0\n",
      "18289    0\n",
      "18290    0\n",
      "Name: orders, Length: 18736, dtype: int64\n",
      "\n",
      "0        1\n",
      "1        1\n",
      "2        1\n",
      "3        1\n",
      "4        1\n",
      "        ..\n",
      "18383    0\n",
      "18384    0\n",
      "18385    0\n",
      "18386    0\n",
      "18387    0\n",
      "Name: orders, Length: 18916, dtype: int64\n"
     ]
    }
   ],
   "source": [
    "# Obtenemos las variables con usuarios de diferentes grupos y números de pedidos correspondientes\n",
    "sampleA = pd.concat([orders_usersA['orders'],\n",
    "pd.Series(0, index=np.arange(df_visits[df_visits['group']=='A']['visits'].sum() - len(orders_usersA['orders'])), name='orders')],axis=0)\n",
    "\n",
    "sampleB = pd.concat([orders_usersB['orders'],\n",
    "pd.Series(0, index=np.arange(df_visits[df_visits['group']=='B']['visits'].sum() - len(orders_usersB['orders'])), name='orders')],axis=0)\n",
    "\n",
    "print(sampleA)\n",
    "print()\n",
    "print(sampleB)"
   ]
  },
  {
   "cell_type": "code",
   "execution_count": 35,
   "metadata": {},
   "outputs": [
    {
     "name": "stdout",
     "output_type": "stream",
     "text": [
      "El valor p es: 0.011\n",
      "La diferencia relativa es: 0.160\n"
     ]
    }
   ],
   "source": [
    "#  Aplicamos la prueba de Mann-Whitney, y mostramos el valor p para comparar la conversión de los grupos\n",
    "print(\"El valor p es: {0:.3f}\".format(st.mannwhitneyu(sampleA, sampleB)[1]))\n",
    "\n",
    "# Mostramos la diferencia relativa en la conversión entre los grupos\n",
    "print(\"La diferencia relativa es: {0:.3f}\".format(sampleB.mean()/sampleA.mean()-1))\n"
   ]
  },
  {
   "cell_type": "markdown",
   "metadata": {},
   "source": [
    "**Observaciones**\n",
    "* El valor P es menor que 0.5 por lo que rechazaríamos la hipótesis nula \n",
    "* La ganancia de conversión relativa del grupo B en comparación con el grupo A es del 16%."
   ]
  },
  {
   "cell_type": "markdown",
   "metadata": {},
   "source": [
    "### Significancia estadística de la diferencia en el tamaño promedio de pedido con datos brutos"
   ]
  },
  {
   "cell_type": "code",
   "execution_count": 36,
   "metadata": {},
   "outputs": [
    {
     "name": "stdout",
     "output_type": "stream",
     "text": [
      "El valor p es: 0.862\n",
      "La ganancia relativa es: 0.278\n"
     ]
    }
   ],
   "source": [
    "# Mostramos el valor p para comparar los tamaños de pedido promedio de los grupos.\n",
    "print('El valor p es: {0:.3f}'.format(st.mannwhitneyu(df_orders2[df_orders2['group']=='A']['revenue'], df_orders2[df_orders2['group']=='B']['revenue'])[1]))\n",
    "\n",
    "# Mostramos la ganancia relativa para el grupo B\n",
    "print('La ganancia relativa es: {0:.3f}'.format(df_orders2[df_orders2['group']=='B']['revenue'].mean()/df_orders2[df_orders2['group']=='A']['revenue'].mean()-1))\n"
   ]
  },
  {
   "cell_type": "markdown",
   "metadata": {},
   "source": [
    "**Observaciones**\n",
    "* El valor p es mucho mayor que 0.05 por lo que no existen diferencias estadísticamente significativas entre los tamaños de pedido promedio de los grupos.\n",
    "* El tamaño del pedido promedio del grupo B es un 27.8% mayor que el del grupo A"
   ]
  },
  {
   "cell_type": "markdown",
   "metadata": {},
   "source": [
    "### Significancia estadística de la diferencia en la conversión en datos filtrados"
   ]
  },
  {
   "cell_type": "code",
   "execution_count": 37,
   "metadata": {},
   "outputs": [
    {
     "name": "stdout",
     "output_type": "stream",
     "text": [
      "568     113298937\n",
      "1099    148427295\n",
      "928     204675465\n",
      "33      249864742\n",
      "684     358944393\n",
      "Name: visitor_id, dtype: int64\n"
     ]
    }
   ],
   "source": [
    "# Obtenemos 2 variables, una de usuarios con más de 2 pedidos y una con pedidos mayores de 414\n",
    "users_high_orders = pd.concat([orders_usersA[orders_usersA['orders'] > 2]['visitor_id'], orders_usersB[orders_usersB['orders'] > 2]['visitor_id']], axis = 0)\n",
    "\n",
    "users_high_spend = df_orders2[df_orders2['revenue'] > 414]['visitor_id']\n",
    "\n",
    "abnormal_users = pd.concat([users_high_orders, users_high_spend], axis =0).drop_duplicates().sort_values()\n",
    "\n",
    "print(abnormal_users.head())\n"
   ]
  },
  {
   "cell_type": "code",
   "execution_count": 38,
   "metadata": {},
   "outputs": [
    {
     "name": "stdout",
     "output_type": "stream",
     "text": [
      "0        1\n",
      "1        1\n",
      "2        1\n",
      "3        1\n",
      "4        1\n",
      "        ..\n",
      "18286    0\n",
      "18287    0\n",
      "18288    0\n",
      "18289    0\n",
      "18290    0\n",
      "Name: orders, Length: 18709, dtype: int64\n",
      "\n",
      "0        1\n",
      "1        1\n",
      "2        1\n",
      "3        1\n",
      "4        1\n",
      "        ..\n",
      "18383    0\n",
      "18384    0\n",
      "18385    0\n",
      "18386    0\n",
      "18387    0\n",
      "Name: orders, Length: 18885, dtype: int64\n"
     ]
    }
   ],
   "source": [
    "# Hacemos las variables por grupo filtrando los usuarios con más de 2 pedidos y de pedidos mayores de 414 \n",
    "sampleA_filtered = pd.concat([orders_usersA[np.logical_not(orders_usersA['visitor_id'].isin(abnormal_users))]['orders']\n",
    "                              ,pd.Series(0, index=np.arange(df_visits[df_visits['group']=='A']['visits'].sum() - len(orders_usersA['orders'])),name='orders')],axis=0)\n",
    "\n",
    "sampleB_filtered = pd.concat([orders_usersB[np.logical_not(orders_usersB['visitor_id'].isin(abnormal_users))]['orders']\n",
    "                              ,pd.Series(0, index=np.arange(df_visits[df_visits['group']=='B']['visits'].sum() - len(orders_usersB['orders'])),name='orders')],axis=0)\n",
    "print(sampleA_filtered)\n",
    "print()\n",
    "print(sampleB_filtered)"
   ]
  },
  {
   "cell_type": "code",
   "execution_count": 39,
   "metadata": {},
   "outputs": [
    {
     "name": "stdout",
     "output_type": "stream",
     "text": [
      "El valor p en datos filtrados es: 0.012\n",
      "La diferencia relativa en datos filtrados es: 0.182\n"
     ]
    }
   ],
   "source": [
    "#  Aplicamos la prueba de Mann-Whitney, y mostramos el valor p para comparar la conversión de los grupos filtrados \n",
    "p_value_conversion_filt = st.mannwhitneyu(sampleA_filtered, sampleB_filtered)[1].round(3)\n",
    "print('El valor p en datos filtrados es:',p_value_conversion_filt)\n",
    "\n",
    "# Mostramos la diferencia relativa en la conversión entre los grupos filtrados \n",
    "dif_relative_filt = (sampleB_filtered.mean()/sampleA_filtered.mean()-1).round(3)\n",
    "print('La diferencia relativa en datos filtrados es:',dif_relative_filt)\n"
   ]
  },
  {
   "cell_type": "markdown",
   "metadata": {},
   "source": [
    "**Observaciones**\n",
    "* Aun con los datos filtrados, el valor P sigue siendo menor que 0.5 por lo que rechazaríamos la hipótesis nula \n",
    "* La ganancia de conversión relativa del grupo B en comparación con el grupo A es del 18%, en comparación con los datos sin filtrar subió un 2%"
   ]
  },
  {
   "cell_type": "markdown",
   "metadata": {},
   "source": [
    "### Significancia estadística de la diferencia en el tamaño promedio de pedido con datos filtrados"
   ]
  },
  {
   "cell_type": "code",
   "execution_count": 40,
   "metadata": {},
   "outputs": [
    {
     "name": "stdout",
     "output_type": "stream",
     "text": [
      "El valor p en datos filtrados es: 0.68\n",
      "La ganancia relativa en datos filtrados es: -0.047\n"
     ]
    }
   ],
   "source": [
    "#Mostramos el valor p para comparar los tamaños de pedido promedio de los grupos filtrados.\n",
    "\n",
    "p_valueA_filt = df_orders2[np.logical_and(df_orders2['group']=='A', \n",
    "                              np.logical_not(df_orders2['visitor_id'].isin(abnormal_users)))]['revenue']\n",
    "p_valueB_filt = df_orders2[np.logical_and(df_orders2['group']=='B',\n",
    "                              np.logical_not(df_orders2['visitor_id'].isin(abnormal_users)))]['revenue']\n",
    "\n",
    "p_value_order_filt = st.mannwhitneyu(p_valueA_filt,p_valueB_filt)[1].round(3) \n",
    "print('El valor p en datos filtrados es:',p_value_order_filt)\n",
    "\n",
    "#Mostramos la ganancia relativa del grupo B\n",
    "relative_revA_filt = df_orders2[np.logical_and(df_orders2['group']=='A',\n",
    "        np.logical_not(df_orders2['visitor_id'].isin(abnormal_users)))]['revenue'].mean()\n",
    "relative_revB_filt = df_orders2[np.logical_and(df_orders2['group']=='B',\n",
    "        np.logical_not(df_orders2['visitor_id'].isin(abnormal_users)))]['revenue'].mean()\n",
    "\n",
    "relative_revenue_filt = (relative_revB_filt / relative_revA_filt - 1).round(3)\n",
    "print('La ganancia relativa en datos filtrados es:',relative_revenue_filt)"
   ]
  },
  {
   "cell_type": "markdown",
   "metadata": {},
   "source": [
    "**Observaciones**\n",
    "* Aun eliminando las anomalías y datos atípicos, el valor p es mucho mayor que 0.05 por lo que no existen diferencias estadísticamente significativas entre los tamaños de pedido promedio de los grupos.\n",
    "* Sin embargo los datos filtrados sí afectaron el tamaño promedio, ya que tenemos una diferencia de 4% siendo el grupo A mayor que el grupo B\n",
    "* Teniendo en cuenta que sin filtrar los datos, el grupo B tenía un tamaño promedio de 27% mayor que el A, podemos suponer que el grupo B tenía muchos datos atípicos "
   ]
  },
  {
   "cell_type": "markdown",
   "metadata": {},
   "source": [
    "## Conclusiones"
   ]
  },
  {
   "cell_type": "markdown",
   "metadata": {},
   "source": [
    "* Al analizar los datos sin procesar, el grupo B llevaba la delantera tanto en conversión como en tamaño promedio\n",
    "* Al analizar los datos ya filtrados, el grupo B imcrementó la diferencia relativa en conversión, sin embargo resultó ser menor su tamaño promedio por sólo 4%\n",
    "* Al revisar tanto el ingreso acumulado, el tamaño promedio acumulado, el grupo B llevó la delantera \n",
    "* La mayoría de los usuarios hace 1 pedido, esta prueba duró 1 mes, por lo que asumimos que nuestra tienda en línea es de compras mensuales \n",
    "* Por todo lo anterior, concluimos que a pesar que el grupo B va liderando como el ganador, queremos extender la prueba 1 mes más, debido al ciclo de compra de nuestra tienda en línea \n",
    "\n",
    "*Nota adicional: revisar si alrededor del 13 de Agosto hubo alguna eventualidad, ya que se vió un cambio en el ingreso y el tamaño de pedido.*\n"
   ]
  }
 ],
 "metadata": {
  "ExecuteTimeLog": [
   {
    "duration": 2509,
    "start_time": "2024-09-27T00:10:41.575Z"
   },
   {
    "duration": 3,
    "start_time": "2024-09-27T00:15:16.299Z"
   },
   {
    "duration": 22,
    "start_time": "2024-09-27T00:15:17.250Z"
   },
   {
    "duration": 11,
    "start_time": "2024-09-27T00:19:33.717Z"
   },
   {
    "duration": 9,
    "start_time": "2024-09-27T00:19:57.411Z"
   },
   {
    "duration": 8,
    "start_time": "2024-09-27T00:21:44.550Z"
   },
   {
    "duration": 10,
    "start_time": "2024-09-27T00:21:53.357Z"
   },
   {
    "duration": 16,
    "start_time": "2024-09-27T00:22:05.638Z"
   },
   {
    "duration": 9,
    "start_time": "2024-09-27T00:22:20.490Z"
   },
   {
    "duration": 10,
    "start_time": "2024-09-27T00:22:53.256Z"
   },
   {
    "duration": 9,
    "start_time": "2024-09-27T00:23:31.282Z"
   },
   {
    "duration": 9,
    "start_time": "2024-09-27T00:23:53.078Z"
   },
   {
    "duration": 6,
    "start_time": "2024-09-27T00:24:04.535Z"
   },
   {
    "duration": 216,
    "start_time": "2024-09-27T00:33:32.902Z"
   },
   {
    "duration": 5,
    "start_time": "2024-09-27T00:33:39.258Z"
   },
   {
    "duration": 5,
    "start_time": "2024-09-27T00:36:16.159Z"
   },
   {
    "duration": 4,
    "start_time": "2024-09-27T00:40:50.603Z"
   },
   {
    "duration": 4,
    "start_time": "2024-09-27T00:40:59.833Z"
   },
   {
    "duration": 381,
    "start_time": "2024-09-27T01:02:28.193Z"
   },
   {
    "duration": 42,
    "start_time": "2024-09-27T01:02:46.306Z"
   },
   {
    "duration": 6,
    "start_time": "2024-09-27T01:03:06.069Z"
   },
   {
    "duration": 5,
    "start_time": "2024-09-27T01:03:25.259Z"
   },
   {
    "duration": 5,
    "start_time": "2024-09-27T01:03:46.951Z"
   },
   {
    "duration": 6,
    "start_time": "2024-09-27T01:03:50.839Z"
   },
   {
    "duration": 6,
    "start_time": "2024-09-27T01:03:52.602Z"
   },
   {
    "duration": 7,
    "start_time": "2024-09-27T01:04:52.044Z"
   },
   {
    "duration": 13,
    "start_time": "2024-09-27T01:05:49.939Z"
   },
   {
    "duration": 8,
    "start_time": "2024-09-27T01:06:00.183Z"
   },
   {
    "duration": 15,
    "start_time": "2024-09-27T01:06:40.382Z"
   },
   {
    "duration": 7,
    "start_time": "2024-09-27T01:06:46.467Z"
   },
   {
    "duration": 12,
    "start_time": "2024-09-27T01:07:34.135Z"
   },
   {
    "duration": 9,
    "start_time": "2024-09-27T01:07:57.742Z"
   },
   {
    "duration": 4,
    "start_time": "2024-09-27T01:08:20.666Z"
   },
   {
    "duration": 6,
    "start_time": "2024-09-27T01:25:57.511Z"
   },
   {
    "duration": 6,
    "start_time": "2024-09-27T01:26:10.447Z"
   },
   {
    "duration": 803,
    "start_time": "2024-09-27T01:26:22.263Z"
   },
   {
    "duration": 17,
    "start_time": "2024-09-27T01:26:23.068Z"
   },
   {
    "duration": 9,
    "start_time": "2024-09-27T01:26:23.086Z"
   },
   {
    "duration": 17,
    "start_time": "2024-09-27T01:26:23.096Z"
   },
   {
    "duration": 10,
    "start_time": "2024-09-27T01:26:23.115Z"
   },
   {
    "duration": 14,
    "start_time": "2024-09-27T01:26:23.127Z"
   },
   {
    "duration": 6,
    "start_time": "2024-09-27T01:26:23.144Z"
   },
   {
    "duration": 9,
    "start_time": "2024-09-27T01:26:23.153Z"
   },
   {
    "duration": 9,
    "start_time": "2024-09-27T01:26:23.163Z"
   },
   {
    "duration": 40,
    "start_time": "2024-09-27T01:26:23.173Z"
   },
   {
    "duration": 5,
    "start_time": "2024-09-27T01:26:23.215Z"
   },
   {
    "duration": 5,
    "start_time": "2024-09-27T01:26:23.222Z"
   },
   {
    "duration": 6,
    "start_time": "2024-09-27T01:26:23.229Z"
   },
   {
    "duration": 5,
    "start_time": "2024-09-27T01:26:23.239Z"
   },
   {
    "duration": 9,
    "start_time": "2024-09-27T01:26:29.488Z"
   },
   {
    "duration": 7,
    "start_time": "2024-09-27T01:27:26.673Z"
   },
   {
    "duration": 47,
    "start_time": "2024-09-27T01:27:47.185Z"
   },
   {
    "duration": 8,
    "start_time": "2024-09-27T01:28:24.061Z"
   },
   {
    "duration": 9,
    "start_time": "2024-09-27T01:28:50.398Z"
   },
   {
    "duration": 10,
    "start_time": "2024-09-27T01:32:28.681Z"
   },
   {
    "duration": 8,
    "start_time": "2024-09-27T01:35:08.565Z"
   },
   {
    "duration": 102,
    "start_time": "2024-09-27T01:40:15.138Z"
   },
   {
    "duration": 261,
    "start_time": "2024-09-27T01:41:10.536Z"
   },
   {
    "duration": 13,
    "start_time": "2024-09-27T01:41:17.847Z"
   },
   {
    "duration": 16,
    "start_time": "2024-09-27T01:41:28.663Z"
   },
   {
    "duration": 49,
    "start_time": "2024-09-27T01:41:50.242Z"
   },
   {
    "duration": 419,
    "start_time": "2024-09-27T01:42:34.177Z"
   },
   {
    "duration": 174,
    "start_time": "2024-09-27T01:42:46.125Z"
   },
   {
    "duration": 129,
    "start_time": "2024-09-27T01:43:02.077Z"
   },
   {
    "duration": 9,
    "start_time": "2024-09-27T01:46:46.083Z"
   },
   {
    "duration": 6,
    "start_time": "2024-09-27T01:55:06.993Z"
   },
   {
    "duration": 8,
    "start_time": "2024-09-27T01:58:52.169Z"
   },
   {
    "duration": 308,
    "start_time": "2024-09-27T02:03:20.112Z"
   },
   {
    "duration": 5,
    "start_time": "2024-09-27T02:04:07.310Z"
   },
   {
    "duration": 3,
    "start_time": "2024-09-27T02:04:38.689Z"
   },
   {
    "duration": 5,
    "start_time": "2024-09-27T02:04:52.390Z"
   },
   {
    "duration": 7,
    "start_time": "2024-09-27T02:05:08.040Z"
   },
   {
    "duration": 9,
    "start_time": "2024-09-27T02:09:25.897Z"
   },
   {
    "duration": 8,
    "start_time": "2024-09-27T02:09:47.088Z"
   },
   {
    "duration": 8,
    "start_time": "2024-09-27T02:10:02.228Z"
   },
   {
    "duration": 9,
    "start_time": "2024-09-27T02:10:47.481Z"
   },
   {
    "duration": 12,
    "start_time": "2024-09-27T02:12:06.679Z"
   },
   {
    "duration": 13,
    "start_time": "2024-09-27T02:20:23.161Z"
   },
   {
    "duration": 11,
    "start_time": "2024-09-27T02:20:34.770Z"
   },
   {
    "duration": 8,
    "start_time": "2024-09-27T02:22:08.346Z"
   },
   {
    "duration": 5,
    "start_time": "2024-09-27T02:33:30.569Z"
   },
   {
    "duration": 138,
    "start_time": "2024-09-27T02:38:05.878Z"
   },
   {
    "duration": 93,
    "start_time": "2024-09-27T02:38:12.170Z"
   },
   {
    "duration": 134,
    "start_time": "2024-09-27T02:38:30.254Z"
   },
   {
    "duration": 85,
    "start_time": "2024-09-27T02:38:35.793Z"
   },
   {
    "duration": 10,
    "start_time": "2024-09-27T02:40:00.046Z"
   },
   {
    "duration": 11,
    "start_time": "2024-09-27T02:43:07.089Z"
   },
   {
    "duration": 146,
    "start_time": "2024-09-27T02:45:22.389Z"
   },
   {
    "duration": 147,
    "start_time": "2024-09-27T02:47:56.664Z"
   },
   {
    "duration": 149,
    "start_time": "2024-09-27T02:48:17.939Z"
   },
   {
    "duration": 154,
    "start_time": "2024-09-27T02:50:37.314Z"
   },
   {
    "duration": 5,
    "start_time": "2024-09-27T02:53:37.349Z"
   },
   {
    "duration": 155,
    "start_time": "2024-09-30T23:31:46.404Z"
   },
   {
    "duration": 2511,
    "start_time": "2024-09-30T23:32:00.986Z"
   },
   {
    "duration": 23,
    "start_time": "2024-09-30T23:32:03.499Z"
   },
   {
    "duration": 9,
    "start_time": "2024-09-30T23:32:03.523Z"
   },
   {
    "duration": 8,
    "start_time": "2024-09-30T23:32:03.535Z"
   },
   {
    "duration": 9,
    "start_time": "2024-09-30T23:32:03.545Z"
   },
   {
    "duration": 12,
    "start_time": "2024-09-30T23:32:03.556Z"
   },
   {
    "duration": 6,
    "start_time": "2024-09-30T23:32:03.570Z"
   },
   {
    "duration": 9,
    "start_time": "2024-09-30T23:32:03.577Z"
   },
   {
    "duration": 43,
    "start_time": "2024-09-30T23:32:03.588Z"
   },
   {
    "duration": 5,
    "start_time": "2024-09-30T23:32:03.634Z"
   },
   {
    "duration": 5,
    "start_time": "2024-09-30T23:32:03.641Z"
   },
   {
    "duration": 4,
    "start_time": "2024-09-30T23:32:03.648Z"
   },
   {
    "duration": 36,
    "start_time": "2024-09-30T23:32:03.654Z"
   },
   {
    "duration": 39,
    "start_time": "2024-09-30T23:32:03.692Z"
   },
   {
    "duration": 9,
    "start_time": "2024-09-30T23:32:03.732Z"
   },
   {
    "duration": 146,
    "start_time": "2024-09-30T23:32:03.742Z"
   },
   {
    "duration": 9,
    "start_time": "2024-09-30T23:32:03.890Z"
   },
   {
    "duration": 26,
    "start_time": "2024-09-30T23:32:03.901Z"
   },
   {
    "duration": 7,
    "start_time": "2024-09-30T23:32:03.928Z"
   },
   {
    "duration": 5,
    "start_time": "2024-09-30T23:32:03.937Z"
   },
   {
    "duration": 157,
    "start_time": "2024-09-30T23:32:03.943Z"
   },
   {
    "duration": 92,
    "start_time": "2024-09-30T23:32:04.102Z"
   },
   {
    "duration": 9,
    "start_time": "2024-09-30T23:32:04.196Z"
   },
   {
    "duration": 168,
    "start_time": "2024-09-30T23:32:04.207Z"
   },
   {
    "duration": 140,
    "start_time": "2024-09-30T23:32:04.377Z"
   },
   {
    "duration": 160,
    "start_time": "2024-09-30T23:32:17.445Z"
   },
   {
    "duration": 3,
    "start_time": "2024-09-30T23:46:52.750Z"
   },
   {
    "duration": 215,
    "start_time": "2024-09-30T23:47:00.168Z"
   },
   {
    "duration": 269,
    "start_time": "2024-09-30T23:47:13.502Z"
   },
   {
    "duration": 10,
    "start_time": "2024-09-30T23:58:17.555Z"
   },
   {
    "duration": 138,
    "start_time": "2024-10-01T00:00:50.169Z"
   },
   {
    "duration": 134,
    "start_time": "2024-10-01T00:01:00.059Z"
   },
   {
    "duration": 901,
    "start_time": "2024-10-01T00:01:38.702Z"
   },
   {
    "duration": 289,
    "start_time": "2024-10-01T00:02:08.571Z"
   },
   {
    "duration": 142,
    "start_time": "2024-10-01T00:03:02.909Z"
   },
   {
    "duration": 139,
    "start_time": "2024-10-01T00:03:13.886Z"
   },
   {
    "duration": 125,
    "start_time": "2024-10-01T00:04:08.052Z"
   },
   {
    "duration": 130,
    "start_time": "2024-10-01T00:04:21.390Z"
   },
   {
    "duration": 142,
    "start_time": "2024-10-01T00:04:40.619Z"
   },
   {
    "duration": 159,
    "start_time": "2024-10-01T23:09:40.979Z"
   },
   {
    "duration": 2522,
    "start_time": "2024-10-01T23:09:48.647Z"
   },
   {
    "duration": 23,
    "start_time": "2024-10-01T23:09:51.171Z"
   },
   {
    "duration": 10,
    "start_time": "2024-10-01T23:09:51.196Z"
   },
   {
    "duration": 8,
    "start_time": "2024-10-01T23:09:51.208Z"
   },
   {
    "duration": 10,
    "start_time": "2024-10-01T23:09:51.218Z"
   },
   {
    "duration": 13,
    "start_time": "2024-10-01T23:09:51.229Z"
   },
   {
    "duration": 6,
    "start_time": "2024-10-01T23:09:51.243Z"
   },
   {
    "duration": 9,
    "start_time": "2024-10-01T23:09:51.270Z"
   },
   {
    "duration": 9,
    "start_time": "2024-10-01T23:09:51.281Z"
   },
   {
    "duration": 7,
    "start_time": "2024-10-01T23:09:51.292Z"
   },
   {
    "duration": 6,
    "start_time": "2024-10-01T23:09:51.300Z"
   },
   {
    "duration": 5,
    "start_time": "2024-10-01T23:09:51.308Z"
   },
   {
    "duration": 75,
    "start_time": "2024-10-01T23:09:51.315Z"
   },
   {
    "duration": 9,
    "start_time": "2024-10-01T23:09:51.394Z"
   },
   {
    "duration": 9,
    "start_time": "2024-10-01T23:09:51.405Z"
   },
   {
    "duration": 146,
    "start_time": "2024-10-01T23:09:51.416Z"
   },
   {
    "duration": 9,
    "start_time": "2024-10-01T23:09:51.570Z"
   },
   {
    "duration": 17,
    "start_time": "2024-10-01T23:09:51.583Z"
   },
   {
    "duration": 10,
    "start_time": "2024-10-01T23:09:51.602Z"
   },
   {
    "duration": 9,
    "start_time": "2024-10-01T23:09:51.614Z"
   },
   {
    "duration": 151,
    "start_time": "2024-10-01T23:09:51.625Z"
   },
   {
    "duration": 103,
    "start_time": "2024-10-01T23:09:51.778Z"
   },
   {
    "duration": 10,
    "start_time": "2024-10-01T23:09:51.883Z"
   },
   {
    "duration": 166,
    "start_time": "2024-10-01T23:09:51.896Z"
   },
   {
    "duration": 144,
    "start_time": "2024-10-01T23:09:52.064Z"
   },
   {
    "duration": 234,
    "start_time": "2024-10-01T23:09:52.210Z"
   },
   {
    "duration": 155,
    "start_time": "2024-10-01T23:09:52.446Z"
   },
   {
    "duration": 115,
    "start_time": "2024-10-01T23:09:52.603Z"
   },
   {
    "duration": 205,
    "start_time": "2024-10-01T23:14:56.704Z"
   },
   {
    "duration": 218,
    "start_time": "2024-10-01T23:22:26.606Z"
   },
   {
    "duration": 144,
    "start_time": "2024-10-01T23:22:39.666Z"
   },
   {
    "duration": 151,
    "start_time": "2024-10-01T23:22:48.893Z"
   },
   {
    "duration": 4,
    "start_time": "2024-10-01T23:29:57.921Z"
   },
   {
    "duration": 3,
    "start_time": "2024-10-01T23:30:10.705Z"
   },
   {
    "duration": 6,
    "start_time": "2024-10-01T23:30:56.332Z"
   },
   {
    "duration": 365,
    "start_time": "2024-10-01T23:36:46.505Z"
   },
   {
    "duration": 7,
    "start_time": "2024-10-01T23:37:03.622Z"
   },
   {
    "duration": 7,
    "start_time": "2024-10-01T23:38:16.942Z"
   },
   {
    "duration": 7,
    "start_time": "2024-10-01T23:39:18.077Z"
   },
   {
    "duration": 102,
    "start_time": "2024-10-01T23:40:24.539Z"
   },
   {
    "duration": 88,
    "start_time": "2024-10-01T23:40:47.422Z"
   },
   {
    "duration": 101,
    "start_time": "2024-10-01T23:40:57.425Z"
   },
   {
    "duration": 4,
    "start_time": "2024-10-01T23:44:09.675Z"
   },
   {
    "duration": 7,
    "start_time": "2024-10-01T23:49:41.721Z"
   },
   {
    "duration": 308,
    "start_time": "2024-10-01T23:54:55.114Z"
   },
   {
    "duration": 7,
    "start_time": "2024-10-01T23:56:06.356Z"
   },
   {
    "duration": 425,
    "start_time": "2024-10-01T23:56:29.697Z"
   },
   {
    "duration": 105,
    "start_time": "2024-10-01T23:56:42.375Z"
   },
   {
    "duration": 4,
    "start_time": "2024-10-01T23:56:50.291Z"
   },
   {
    "duration": 227,
    "start_time": "2024-10-02T00:03:59.513Z"
   },
   {
    "duration": 4,
    "start_time": "2024-10-02T00:08:35.905Z"
   },
   {
    "duration": 3,
    "start_time": "2024-10-02T00:09:19.022Z"
   },
   {
    "duration": 4,
    "start_time": "2024-10-02T00:11:26.555Z"
   },
   {
    "duration": 4,
    "start_time": "2024-10-02T00:11:44.723Z"
   },
   {
    "duration": 243,
    "start_time": "2024-10-02T00:23:17.599Z"
   },
   {
    "duration": 112,
    "start_time": "2024-10-02T00:23:32.334Z"
   },
   {
    "duration": 141,
    "start_time": "2024-10-02T00:24:23.656Z"
   },
   {
    "duration": 11,
    "start_time": "2024-10-02T00:27:21.803Z"
   },
   {
    "duration": 9,
    "start_time": "2024-10-02T00:30:20.023Z"
   },
   {
    "duration": 14,
    "start_time": "2024-10-02T00:35:00.874Z"
   },
   {
    "duration": 16,
    "start_time": "2024-10-02T00:35:07.471Z"
   },
   {
    "duration": 9,
    "start_time": "2024-10-02T00:42:40.575Z"
   },
   {
    "duration": 7,
    "start_time": "2024-10-02T00:51:52.388Z"
   },
   {
    "duration": 7,
    "start_time": "2024-10-02T00:52:04.004Z"
   },
   {
    "duration": 7,
    "start_time": "2024-10-02T00:52:09.557Z"
   },
   {
    "duration": 7,
    "start_time": "2024-10-02T00:52:20.782Z"
   },
   {
    "duration": 7,
    "start_time": "2024-10-02T00:52:51.615Z"
   },
   {
    "duration": 8,
    "start_time": "2024-10-02T00:52:59.468Z"
   },
   {
    "duration": 8,
    "start_time": "2024-10-02T00:53:06.357Z"
   },
   {
    "duration": 7,
    "start_time": "2024-10-02T00:54:09.262Z"
   },
   {
    "duration": 7,
    "start_time": "2024-10-02T00:54:14.337Z"
   },
   {
    "duration": 7,
    "start_time": "2024-10-02T00:54:19.174Z"
   },
   {
    "duration": 64,
    "start_time": "2024-10-02T00:59:08.693Z"
   },
   {
    "duration": 21,
    "start_time": "2024-10-02T00:59:21.358Z"
   },
   {
    "duration": 12,
    "start_time": "2024-10-02T00:59:36.566Z"
   },
   {
    "duration": 16,
    "start_time": "2024-10-02T01:00:55.837Z"
   },
   {
    "duration": 50,
    "start_time": "2024-10-02T01:09:52.946Z"
   },
   {
    "duration": 11,
    "start_time": "2024-10-02T01:09:59.861Z"
   },
   {
    "duration": 6,
    "start_time": "2024-10-02T01:25:27.884Z"
   },
   {
    "duration": 9,
    "start_time": "2024-10-02T01:25:32.121Z"
   },
   {
    "duration": 14,
    "start_time": "2024-10-02T01:25:36.120Z"
   },
   {
    "duration": 11,
    "start_time": "2024-10-02T01:26:24.695Z"
   },
   {
    "duration": 7,
    "start_time": "2024-10-02T01:27:41.792Z"
   },
   {
    "duration": 888,
    "start_time": "2024-10-02T01:27:45.907Z"
   },
   {
    "duration": 13,
    "start_time": "2024-10-02T01:27:46.797Z"
   },
   {
    "duration": 9,
    "start_time": "2024-10-02T01:27:46.811Z"
   },
   {
    "duration": 8,
    "start_time": "2024-10-02T01:27:46.822Z"
   },
   {
    "duration": 9,
    "start_time": "2024-10-02T01:27:46.833Z"
   },
   {
    "duration": 38,
    "start_time": "2024-10-02T01:27:46.844Z"
   },
   {
    "duration": 7,
    "start_time": "2024-10-02T01:27:46.884Z"
   },
   {
    "duration": 8,
    "start_time": "2024-10-02T01:27:46.893Z"
   },
   {
    "duration": 8,
    "start_time": "2024-10-02T01:27:46.903Z"
   },
   {
    "duration": 6,
    "start_time": "2024-10-02T01:27:46.912Z"
   },
   {
    "duration": 5,
    "start_time": "2024-10-02T01:27:46.920Z"
   },
   {
    "duration": 43,
    "start_time": "2024-10-02T01:27:46.927Z"
   },
   {
    "duration": 40,
    "start_time": "2024-10-02T01:27:46.972Z"
   },
   {
    "duration": 10,
    "start_time": "2024-10-02T01:27:47.016Z"
   },
   {
    "duration": 9,
    "start_time": "2024-10-02T01:27:47.027Z"
   },
   {
    "duration": 157,
    "start_time": "2024-10-02T01:27:47.038Z"
   },
   {
    "duration": 7,
    "start_time": "2024-10-02T01:27:47.197Z"
   },
   {
    "duration": 12,
    "start_time": "2024-10-02T01:27:47.206Z"
   },
   {
    "duration": 86,
    "start_time": "2024-10-02T01:27:47.219Z"
   },
   {
    "duration": 5,
    "start_time": "2024-10-02T01:27:47.307Z"
   },
   {
    "duration": 161,
    "start_time": "2024-10-02T01:27:47.314Z"
   },
   {
    "duration": 104,
    "start_time": "2024-10-02T01:27:47.477Z"
   },
   {
    "duration": 10,
    "start_time": "2024-10-02T01:27:47.583Z"
   },
   {
    "duration": 165,
    "start_time": "2024-10-02T01:27:47.595Z"
   },
   {
    "duration": 149,
    "start_time": "2024-10-02T01:27:47.762Z"
   },
   {
    "duration": 216,
    "start_time": "2024-10-02T01:27:47.913Z"
   },
   {
    "duration": 162,
    "start_time": "2024-10-02T01:27:48.131Z"
   },
   {
    "duration": 7,
    "start_time": "2024-10-02T01:27:48.295Z"
   },
   {
    "duration": 126,
    "start_time": "2024-10-02T01:27:48.304Z"
   },
   {
    "duration": 228,
    "start_time": "2024-10-02T01:27:48.432Z"
   },
   {
    "duration": 0,
    "start_time": "2024-10-02T01:27:48.661Z"
   },
   {
    "duration": 0,
    "start_time": "2024-10-02T01:27:48.670Z"
   },
   {
    "duration": 0,
    "start_time": "2024-10-02T01:27:48.671Z"
   },
   {
    "duration": 0,
    "start_time": "2024-10-02T01:27:48.673Z"
   },
   {
    "duration": 0,
    "start_time": "2024-10-02T01:27:48.675Z"
   },
   {
    "duration": 0,
    "start_time": "2024-10-02T01:27:48.676Z"
   },
   {
    "duration": 0,
    "start_time": "2024-10-02T01:27:48.678Z"
   },
   {
    "duration": 0,
    "start_time": "2024-10-02T01:27:48.679Z"
   },
   {
    "duration": 0,
    "start_time": "2024-10-02T01:27:48.681Z"
   },
   {
    "duration": 0,
    "start_time": "2024-10-02T01:27:48.682Z"
   },
   {
    "duration": 4,
    "start_time": "2024-10-02T01:28:04.099Z"
   },
   {
    "duration": 838,
    "start_time": "2024-10-02T01:28:14.279Z"
   },
   {
    "duration": 12,
    "start_time": "2024-10-02T01:28:15.119Z"
   },
   {
    "duration": 12,
    "start_time": "2024-10-02T01:28:15.133Z"
   },
   {
    "duration": 24,
    "start_time": "2024-10-02T01:28:15.147Z"
   },
   {
    "duration": 10,
    "start_time": "2024-10-02T01:28:15.173Z"
   },
   {
    "duration": 14,
    "start_time": "2024-10-02T01:28:15.184Z"
   },
   {
    "duration": 6,
    "start_time": "2024-10-02T01:28:15.199Z"
   },
   {
    "duration": 8,
    "start_time": "2024-10-02T01:28:15.208Z"
   },
   {
    "duration": 9,
    "start_time": "2024-10-02T01:28:15.218Z"
   },
   {
    "duration": 42,
    "start_time": "2024-10-02T01:28:15.230Z"
   },
   {
    "duration": 5,
    "start_time": "2024-10-02T01:28:15.274Z"
   },
   {
    "duration": 5,
    "start_time": "2024-10-02T01:28:15.281Z"
   },
   {
    "duration": 37,
    "start_time": "2024-10-02T01:28:15.287Z"
   },
   {
    "duration": 10,
    "start_time": "2024-10-02T01:28:15.326Z"
   },
   {
    "duration": 40,
    "start_time": "2024-10-02T01:28:15.337Z"
   },
   {
    "duration": 133,
    "start_time": "2024-10-02T01:28:15.379Z"
   },
   {
    "duration": 8,
    "start_time": "2024-10-02T01:28:15.513Z"
   },
   {
    "duration": 14,
    "start_time": "2024-10-02T01:28:15.523Z"
   },
   {
    "duration": 80,
    "start_time": "2024-10-02T01:28:15.539Z"
   },
   {
    "duration": 5,
    "start_time": "2024-10-02T01:28:15.620Z"
   },
   {
    "duration": 153,
    "start_time": "2024-10-02T01:28:15.626Z"
   },
   {
    "duration": 101,
    "start_time": "2024-10-02T01:28:15.781Z"
   },
   {
    "duration": 9,
    "start_time": "2024-10-02T01:28:15.884Z"
   },
   {
    "duration": 166,
    "start_time": "2024-10-02T01:28:15.895Z"
   },
   {
    "duration": 156,
    "start_time": "2024-10-02T01:28:16.064Z"
   },
   {
    "duration": 212,
    "start_time": "2024-10-02T01:28:16.222Z"
   },
   {
    "duration": 173,
    "start_time": "2024-10-02T01:28:16.436Z"
   },
   {
    "duration": 9,
    "start_time": "2024-10-02T01:28:16.613Z"
   },
   {
    "duration": 120,
    "start_time": "2024-10-02T01:28:16.624Z"
   },
   {
    "duration": 4,
    "start_time": "2024-10-02T01:28:16.746Z"
   },
   {
    "duration": 125,
    "start_time": "2024-10-02T01:28:16.752Z"
   },
   {
    "duration": 3,
    "start_time": "2024-10-02T01:28:16.879Z"
   },
   {
    "duration": 133,
    "start_time": "2024-10-02T01:28:16.885Z"
   },
   {
    "duration": 9,
    "start_time": "2024-10-02T01:28:17.020Z"
   },
   {
    "duration": 17,
    "start_time": "2024-10-02T01:28:17.030Z"
   },
   {
    "duration": 27,
    "start_time": "2024-10-02T01:28:17.049Z"
   },
   {
    "duration": 7,
    "start_time": "2024-10-02T01:28:17.077Z"
   },
   {
    "duration": 9,
    "start_time": "2024-10-02T01:28:17.087Z"
   },
   {
    "duration": 15,
    "start_time": "2024-10-02T01:28:17.098Z"
   },
   {
    "duration": 11,
    "start_time": "2024-10-02T01:28:17.115Z"
   },
   {
    "duration": 834,
    "start_time": "2024-10-02T01:39:33.402Z"
   },
   {
    "duration": 14,
    "start_time": "2024-10-02T01:39:34.239Z"
   },
   {
    "duration": 11,
    "start_time": "2024-10-02T01:39:34.254Z"
   },
   {
    "duration": 8,
    "start_time": "2024-10-02T01:39:34.271Z"
   },
   {
    "duration": 10,
    "start_time": "2024-10-02T01:39:34.280Z"
   },
   {
    "duration": 14,
    "start_time": "2024-10-02T01:39:34.291Z"
   },
   {
    "duration": 6,
    "start_time": "2024-10-02T01:39:34.306Z"
   },
   {
    "duration": 9,
    "start_time": "2024-10-02T01:39:34.314Z"
   },
   {
    "duration": 46,
    "start_time": "2024-10-02T01:39:34.325Z"
   },
   {
    "duration": 6,
    "start_time": "2024-10-02T01:39:34.376Z"
   },
   {
    "duration": 6,
    "start_time": "2024-10-02T01:39:34.384Z"
   },
   {
    "duration": 6,
    "start_time": "2024-10-02T01:39:34.392Z"
   },
   {
    "duration": 37,
    "start_time": "2024-10-02T01:39:34.401Z"
   },
   {
    "duration": 33,
    "start_time": "2024-10-02T01:39:34.440Z"
   },
   {
    "duration": 9,
    "start_time": "2024-10-02T01:39:34.475Z"
   },
   {
    "duration": 141,
    "start_time": "2024-10-02T01:39:34.486Z"
   },
   {
    "duration": 7,
    "start_time": "2024-10-02T01:39:34.629Z"
   },
   {
    "duration": 71,
    "start_time": "2024-10-02T01:39:34.638Z"
   },
   {
    "duration": 7,
    "start_time": "2024-10-02T01:39:34.711Z"
   },
   {
    "duration": 4,
    "start_time": "2024-10-02T01:39:34.719Z"
   },
   {
    "duration": 173,
    "start_time": "2024-10-02T01:39:34.725Z"
   },
   {
    "duration": 100,
    "start_time": "2024-10-02T01:39:34.900Z"
   },
   {
    "duration": 10,
    "start_time": "2024-10-02T01:39:35.003Z"
   },
   {
    "duration": 170,
    "start_time": "2024-10-02T01:39:35.014Z"
   },
   {
    "duration": 149,
    "start_time": "2024-10-02T01:39:35.186Z"
   },
   {
    "duration": 204,
    "start_time": "2024-10-02T01:39:35.337Z"
   },
   {
    "duration": 163,
    "start_time": "2024-10-02T01:39:35.543Z"
   },
   {
    "duration": 9,
    "start_time": "2024-10-02T01:39:35.709Z"
   },
   {
    "duration": 122,
    "start_time": "2024-10-02T01:39:35.720Z"
   },
   {
    "duration": 4,
    "start_time": "2024-10-02T01:39:35.844Z"
   },
   {
    "duration": 132,
    "start_time": "2024-10-02T01:39:35.849Z"
   },
   {
    "duration": 4,
    "start_time": "2024-10-02T01:39:35.983Z"
   },
   {
    "duration": 128,
    "start_time": "2024-10-02T01:39:35.989Z"
   },
   {
    "duration": 7,
    "start_time": "2024-10-02T01:39:36.119Z"
   },
   {
    "duration": 19,
    "start_time": "2024-10-02T01:39:36.129Z"
   },
   {
    "duration": 27,
    "start_time": "2024-10-02T01:39:36.149Z"
   },
   {
    "duration": 7,
    "start_time": "2024-10-02T01:39:36.178Z"
   },
   {
    "duration": 9,
    "start_time": "2024-10-02T01:39:36.186Z"
   },
   {
    "duration": 16,
    "start_time": "2024-10-02T01:39:36.197Z"
   },
   {
    "duration": 11,
    "start_time": "2024-10-02T01:39:36.214Z"
   },
   {
    "duration": 835,
    "start_time": "2024-10-02T03:37:06.478Z"
   },
   {
    "duration": 22,
    "start_time": "2024-10-02T03:37:07.315Z"
   },
   {
    "duration": 9,
    "start_time": "2024-10-02T03:37:07.339Z"
   },
   {
    "duration": 7,
    "start_time": "2024-10-02T03:37:07.351Z"
   },
   {
    "duration": 9,
    "start_time": "2024-10-02T03:37:07.360Z"
   },
   {
    "duration": 14,
    "start_time": "2024-10-02T03:37:07.372Z"
   },
   {
    "duration": 7,
    "start_time": "2024-10-02T03:37:07.387Z"
   },
   {
    "duration": 8,
    "start_time": "2024-10-02T03:37:07.395Z"
   },
   {
    "duration": 40,
    "start_time": "2024-10-02T03:37:07.405Z"
   },
   {
    "duration": 5,
    "start_time": "2024-10-02T03:37:07.449Z"
   },
   {
    "duration": 5,
    "start_time": "2024-10-02T03:37:07.456Z"
   },
   {
    "duration": 4,
    "start_time": "2024-10-02T03:37:07.463Z"
   },
   {
    "duration": 36,
    "start_time": "2024-10-02T03:37:07.469Z"
   },
   {
    "duration": 40,
    "start_time": "2024-10-02T03:37:07.507Z"
   },
   {
    "duration": 9,
    "start_time": "2024-10-02T03:37:07.549Z"
   },
   {
    "duration": 141,
    "start_time": "2024-10-02T03:37:07.560Z"
   },
   {
    "duration": 7,
    "start_time": "2024-10-02T03:37:07.703Z"
   },
   {
    "duration": 10,
    "start_time": "2024-10-02T03:37:07.713Z"
   },
   {
    "duration": 66,
    "start_time": "2024-10-02T03:37:07.725Z"
   },
   {
    "duration": 4,
    "start_time": "2024-10-02T03:37:07.793Z"
   },
   {
    "duration": 160,
    "start_time": "2024-10-02T03:37:07.799Z"
   },
   {
    "duration": 99,
    "start_time": "2024-10-02T03:37:07.961Z"
   },
   {
    "duration": 10,
    "start_time": "2024-10-02T03:37:08.062Z"
   },
   {
    "duration": 162,
    "start_time": "2024-10-02T03:37:08.074Z"
   },
   {
    "duration": 154,
    "start_time": "2024-10-02T03:37:08.238Z"
   },
   {
    "duration": 208,
    "start_time": "2024-10-02T03:37:08.394Z"
   },
   {
    "duration": 172,
    "start_time": "2024-10-02T03:37:08.606Z"
   },
   {
    "duration": 8,
    "start_time": "2024-10-02T03:37:08.782Z"
   },
   {
    "duration": 129,
    "start_time": "2024-10-02T03:37:08.791Z"
   },
   {
    "duration": 3,
    "start_time": "2024-10-02T03:37:08.922Z"
   },
   {
    "duration": 119,
    "start_time": "2024-10-02T03:37:08.928Z"
   },
   {
    "duration": 4,
    "start_time": "2024-10-02T03:37:09.049Z"
   },
   {
    "duration": 122,
    "start_time": "2024-10-02T03:37:09.055Z"
   },
   {
    "duration": 7,
    "start_time": "2024-10-02T03:37:09.179Z"
   },
   {
    "duration": 16,
    "start_time": "2024-10-02T03:37:09.189Z"
   },
   {
    "duration": 7,
    "start_time": "2024-10-02T03:37:09.207Z"
   },
   {
    "duration": 32,
    "start_time": "2024-10-02T03:37:09.216Z"
   },
   {
    "duration": 9,
    "start_time": "2024-10-02T03:37:09.250Z"
   },
   {
    "duration": 16,
    "start_time": "2024-10-02T03:37:09.261Z"
   },
   {
    "duration": 10,
    "start_time": "2024-10-02T03:37:09.279Z"
   },
   {
    "duration": 157,
    "start_time": "2024-10-02T22:21:47.297Z"
   },
   {
    "duration": 2522,
    "start_time": "2024-10-02T22:21:54.317Z"
   },
   {
    "duration": 22,
    "start_time": "2024-10-02T22:21:56.844Z"
   },
   {
    "duration": 10,
    "start_time": "2024-10-02T22:21:56.868Z"
   },
   {
    "duration": 9,
    "start_time": "2024-10-02T22:21:56.880Z"
   },
   {
    "duration": 9,
    "start_time": "2024-10-02T22:21:56.892Z"
   },
   {
    "duration": 14,
    "start_time": "2024-10-02T22:21:56.902Z"
   },
   {
    "duration": 6,
    "start_time": "2024-10-02T22:21:56.918Z"
   },
   {
    "duration": 8,
    "start_time": "2024-10-02T22:21:56.942Z"
   },
   {
    "duration": 8,
    "start_time": "2024-10-02T22:21:56.952Z"
   },
   {
    "duration": 5,
    "start_time": "2024-10-02T22:21:56.964Z"
   },
   {
    "duration": 5,
    "start_time": "2024-10-02T22:21:56.971Z"
   },
   {
    "duration": 5,
    "start_time": "2024-10-02T22:21:56.977Z"
   },
   {
    "duration": 78,
    "start_time": "2024-10-02T22:21:56.984Z"
   },
   {
    "duration": 11,
    "start_time": "2024-10-02T22:21:57.064Z"
   },
   {
    "duration": 11,
    "start_time": "2024-10-02T22:21:57.077Z"
   },
   {
    "duration": 147,
    "start_time": "2024-10-02T22:21:57.090Z"
   },
   {
    "duration": 7,
    "start_time": "2024-10-02T22:21:57.242Z"
   },
   {
    "duration": 11,
    "start_time": "2024-10-02T22:21:57.250Z"
   },
   {
    "duration": 6,
    "start_time": "2024-10-02T22:21:57.263Z"
   },
   {
    "duration": 4,
    "start_time": "2024-10-02T22:21:57.272Z"
   },
   {
    "duration": 166,
    "start_time": "2024-10-02T22:21:57.278Z"
   },
   {
    "duration": 84,
    "start_time": "2024-10-02T22:21:57.446Z"
   },
   {
    "duration": 18,
    "start_time": "2024-10-02T22:21:57.532Z"
   },
   {
    "duration": 161,
    "start_time": "2024-10-02T22:21:57.552Z"
   },
   {
    "duration": 146,
    "start_time": "2024-10-02T22:21:57.715Z"
   },
   {
    "duration": 240,
    "start_time": "2024-10-02T22:21:57.864Z"
   },
   {
    "duration": 156,
    "start_time": "2024-10-02T22:21:58.106Z"
   },
   {
    "duration": 7,
    "start_time": "2024-10-02T22:21:58.266Z"
   },
   {
    "duration": 175,
    "start_time": "2024-10-02T22:21:58.275Z"
   },
   {
    "duration": 4,
    "start_time": "2024-10-02T22:21:58.451Z"
   },
   {
    "duration": 119,
    "start_time": "2024-10-02T22:21:58.457Z"
   },
   {
    "duration": 3,
    "start_time": "2024-10-02T22:21:58.578Z"
   },
   {
    "duration": 129,
    "start_time": "2024-10-02T22:21:58.583Z"
   },
   {
    "duration": 8,
    "start_time": "2024-10-02T22:21:58.714Z"
   },
   {
    "duration": 34,
    "start_time": "2024-10-02T22:21:58.723Z"
   },
   {
    "duration": 9,
    "start_time": "2024-10-02T22:21:58.758Z"
   },
   {
    "duration": 7,
    "start_time": "2024-10-02T22:21:58.768Z"
   },
   {
    "duration": 9,
    "start_time": "2024-10-02T22:21:58.776Z"
   },
   {
    "duration": 17,
    "start_time": "2024-10-02T22:21:58.786Z"
   },
   {
    "duration": 46,
    "start_time": "2024-10-02T22:21:58.804Z"
   },
   {
    "duration": 15,
    "start_time": "2024-10-02T22:23:10.687Z"
   },
   {
    "duration": 12,
    "start_time": "2024-10-02T22:24:09.626Z"
   },
   {
    "duration": 17,
    "start_time": "2024-10-02T22:26:30.282Z"
   },
   {
    "duration": 21,
    "start_time": "2024-10-02T22:27:12.104Z"
   },
   {
    "duration": 16,
    "start_time": "2024-10-02T22:27:26.818Z"
   },
   {
    "duration": 17,
    "start_time": "2024-10-02T22:27:30.688Z"
   },
   {
    "duration": 11,
    "start_time": "2024-10-02T22:30:42.877Z"
   },
   {
    "duration": 16,
    "start_time": "2024-10-02T22:33:19.328Z"
   },
   {
    "duration": 12,
    "start_time": "2024-10-02T22:33:21.514Z"
   },
   {
    "duration": 9,
    "start_time": "2024-10-02T22:34:20.413Z"
   },
   {
    "duration": 10,
    "start_time": "2024-10-02T22:35:04.655Z"
   },
   {
    "duration": 9,
    "start_time": "2024-10-02T22:35:10.326Z"
   },
   {
    "duration": 15,
    "start_time": "2024-10-02T22:35:26.811Z"
   },
   {
    "duration": 11,
    "start_time": "2024-10-02T22:45:47.315Z"
   },
   {
    "duration": 14,
    "start_time": "2024-10-02T22:48:46.457Z"
   },
   {
    "duration": 16,
    "start_time": "2024-10-02T22:49:12.583Z"
   },
   {
    "duration": 12,
    "start_time": "2024-10-02T22:49:25.514Z"
   },
   {
    "duration": 12,
    "start_time": "2024-10-02T22:49:32.004Z"
   },
   {
    "duration": 792,
    "start_time": "2024-10-03T02:37:25.321Z"
   },
   {
    "duration": 15,
    "start_time": "2024-10-03T02:37:26.116Z"
   },
   {
    "duration": 11,
    "start_time": "2024-10-03T02:37:26.133Z"
   },
   {
    "duration": 8,
    "start_time": "2024-10-03T02:37:26.146Z"
   },
   {
    "duration": 8,
    "start_time": "2024-10-03T02:37:26.157Z"
   },
   {
    "duration": 12,
    "start_time": "2024-10-03T02:37:26.166Z"
   },
   {
    "duration": 6,
    "start_time": "2024-10-03T02:37:26.180Z"
   },
   {
    "duration": 8,
    "start_time": "2024-10-03T02:37:26.188Z"
   },
   {
    "duration": 46,
    "start_time": "2024-10-03T02:37:26.197Z"
   },
   {
    "duration": 6,
    "start_time": "2024-10-03T02:37:26.245Z"
   },
   {
    "duration": 5,
    "start_time": "2024-10-03T02:37:26.253Z"
   },
   {
    "duration": 5,
    "start_time": "2024-10-03T02:37:26.260Z"
   },
   {
    "duration": 36,
    "start_time": "2024-10-03T02:37:26.266Z"
   },
   {
    "duration": 38,
    "start_time": "2024-10-03T02:37:26.306Z"
   },
   {
    "duration": 10,
    "start_time": "2024-10-03T02:37:26.346Z"
   },
   {
    "duration": 139,
    "start_time": "2024-10-03T02:37:26.358Z"
   },
   {
    "duration": 7,
    "start_time": "2024-10-03T02:37:26.499Z"
   },
   {
    "duration": 10,
    "start_time": "2024-10-03T02:37:26.508Z"
   },
   {
    "duration": 70,
    "start_time": "2024-10-03T02:37:26.520Z"
   },
   {
    "duration": 5,
    "start_time": "2024-10-03T02:37:26.592Z"
   },
   {
    "duration": 160,
    "start_time": "2024-10-03T02:37:26.599Z"
   },
   {
    "duration": 103,
    "start_time": "2024-10-03T02:37:26.761Z"
   },
   {
    "duration": 9,
    "start_time": "2024-10-03T02:37:26.866Z"
   },
   {
    "duration": 167,
    "start_time": "2024-10-03T02:37:26.877Z"
   },
   {
    "duration": 146,
    "start_time": "2024-10-03T02:37:27.046Z"
   },
   {
    "duration": 210,
    "start_time": "2024-10-03T02:37:27.193Z"
   },
   {
    "duration": 158,
    "start_time": "2024-10-03T02:37:27.404Z"
   },
   {
    "duration": 7,
    "start_time": "2024-10-03T02:37:27.564Z"
   },
   {
    "duration": 119,
    "start_time": "2024-10-03T02:37:27.573Z"
   },
   {
    "duration": 3,
    "start_time": "2024-10-03T02:37:27.694Z"
   },
   {
    "duration": 119,
    "start_time": "2024-10-03T02:37:27.699Z"
   },
   {
    "duration": 4,
    "start_time": "2024-10-03T02:37:27.819Z"
   },
   {
    "duration": 127,
    "start_time": "2024-10-03T02:37:27.824Z"
   },
   {
    "duration": 9,
    "start_time": "2024-10-03T02:37:27.953Z"
   },
   {
    "duration": 16,
    "start_time": "2024-10-03T02:37:27.964Z"
   },
   {
    "duration": 7,
    "start_time": "2024-10-03T02:37:27.981Z"
   },
   {
    "duration": 6,
    "start_time": "2024-10-03T02:37:27.990Z"
   },
   {
    "duration": 9,
    "start_time": "2024-10-03T02:37:27.998Z"
   },
   {
    "duration": 48,
    "start_time": "2024-10-03T02:37:28.009Z"
   },
   {
    "duration": 12,
    "start_time": "2024-10-03T02:37:28.059Z"
   }
  ],
  "kernelspec": {
   "display_name": "Python 3 (ipykernel)",
   "language": "python",
   "name": "python3"
  },
  "language_info": {
   "codemirror_mode": {
    "name": "ipython",
    "version": 3
   },
   "file_extension": ".py",
   "mimetype": "text/x-python",
   "name": "python",
   "nbconvert_exporter": "python",
   "pygments_lexer": "ipython3",
   "version": "3.9.19"
  },
  "toc": {
   "base_numbering": 1,
   "nav_menu": {},
   "number_sections": true,
   "sideBar": true,
   "skip_h1_title": true,
   "title_cell": "Table of Contents",
   "title_sidebar": "Contents",
   "toc_cell": false,
   "toc_position": {
    "height": "calc(100% - 180px)",
    "left": "10px",
    "top": "150px",
    "width": "192.188px"
   },
   "toc_section_display": true,
   "toc_window_display": true
  }
 },
 "nbformat": 4,
 "nbformat_minor": 2
}
