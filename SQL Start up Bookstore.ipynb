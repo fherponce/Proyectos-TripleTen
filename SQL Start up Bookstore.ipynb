{
 "cells": [
  {
   "cell_type": "markdown",
   "metadata": {},
   "source": [
    "# Proyecto SQL"
   ]
  },
  {
   "cell_type": "markdown",
   "metadata": {},
   "source": [
    "# Start up de libros"
   ]
  },
  {
   "cell_type": "markdown",
   "metadata": {},
   "source": [
    "## Objetivo"
   ]
  },
  {
   "cell_type": "markdown",
   "metadata": {},
   "source": [
    "Analizaremos una base de datos de una de las aplicaciones para los amantes de los libros. Contiene datos sobre libros, editoriales, autores y calificaciones de clientes y reseñas de libros. \n",
    "Esta análisis se utilizará para generar una propuesta para un nuevo producto.\n"
   ]
  },
  {
   "cell_type": "markdown",
   "metadata": {},
   "source": [
    "## Preparación de los datos"
   ]
  },
  {
   "cell_type": "markdown",
   "metadata": {},
   "source": [
    "### Cargar datos"
   ]
  },
  {
   "cell_type": "code",
   "execution_count": 1,
   "metadata": {},
   "outputs": [],
   "source": [
    "# Cargamos todas las librerías\n",
    "import pandas as pd\n",
    "from sqlalchemy import create_engine"
   ]
  },
  {
   "cell_type": "code",
   "execution_count": 2,
   "metadata": {},
   "outputs": [],
   "source": [
    "# Conexión a la base datos\n",
    "db_config = {'user': 'practicum_student',         # nombre de usuario\n",
    "             'pwd': 's65BlTKV3faNIGhmvJVzOqhs', # contraseña\n",
    "             'host': 'rc1b-wcoijxj3yxfsf3fs.mdb.yandexcloud.net',\n",
    "             'port': 6432,              # puerto de conexión\n",
    "             'db': 'data-analyst-final-project-db'}          # nombre de la base de datos\n",
    "\n",
    "connection_string = 'postgresql://{}:{}@{}:{}/{}'.format(db_config['user'],\n",
    "                                                                     db_config['pwd'],\n",
    "                                                                       db_config['host'],\n",
    "                                                                       db_config['port'],\n",
    "                                                                       db_config['db'])\n",
    "\n",
    "engine = create_engine(connection_string, connect_args={'sslmode':'require'})"
   ]
  },
  {
   "cell_type": "code",
   "execution_count": 3,
   "metadata": {},
   "outputs": [],
   "source": [
    "# Creamos las consultas para cargar los datos  \n",
    "consult_books = 'select * from books'\n",
    "consult_authors = 'select * from authors'\n",
    "consult_publishers = 'select * from publishers'\n",
    "consult_ratings = 'select * from ratings'\n",
    "consult_reviews = 'select * from reviews'"
   ]
  },
  {
   "cell_type": "code",
   "execution_count": 4,
   "metadata": {},
   "outputs": [],
   "source": [
    "# Cargamos los datasets\n",
    "books = pd.io.sql.read_sql(consult_books, con = engine)\n",
    "authors = pd.io.sql.read_sql(consult_authors, con = engine)\n",
    "publishers = pd.io.sql.read_sql(consult_publishers, con = engine)\n",
    "ratings = pd.io.sql.read_sql(consult_ratings, con = engine)\n",
    "reviews = pd.io.sql.read_sql(consult_reviews, con = engine)"
   ]
  },
  {
   "cell_type": "markdown",
   "metadata": {},
   "source": [
    "### Descripción de los datos"
   ]
  },
  {
   "cell_type": "markdown",
   "metadata": {},
   "source": [
    "**books**\n",
    "\n",
    "Contiene datos sobre libros:\n",
    "* *book_id*: identificación del libro\n",
    "* *author_id*: identificación del autor o autora\n",
    "* *title*: título\n",
    "* *num_pages*: número de páginas\n",
    "* *publication_date*: fecha de la publicación\n",
    "* *publisher_id*: identificación de la editorial\n",
    "\n",
    "**authors**\n",
    "\n",
    "Contiene datos sobre autores:\n",
    "* *author_id*: identificación del autor o autora\n",
    "* *author*: el autor o la autora\n",
    "\n",
    "**publishers**\n",
    "\n",
    "Contiene datos sobre editoriales:\n",
    "* *publisher_id*: identificación de la editorial\n",
    "* *publisher*: la editorial\n",
    "\n",
    "**ratings**\n",
    "\n",
    "Contiene datos sobre las calificaciones de usuarios:\n",
    "* *rating_id*: identificación de la calificación\n",
    "* *book_id*: identificación del libro\n",
    "* *username*: el nombre del usuario que revisó el libro\n",
    "* *rating*: calificación\n",
    "\n",
    "**reviews**\n",
    "\n",
    "Contiene datos sobre las reseñas de los y las clientes:\n",
    "* *review_id*: identificación de la reseña\n",
    "* *book_id*: identificación del libro\n",
    "* *username*: el nombre del usuario que revisó el libro\n",
    "* *text*: el texto de la reseña\n"
   ]
  },
  {
   "cell_type": "markdown",
   "metadata": {},
   "source": [
    "#### books"
   ]
  },
  {
   "cell_type": "code",
   "execution_count": 5,
   "metadata": {},
   "outputs": [
    {
     "data": {
      "text/html": [
       "<div>\n",
       "<style scoped>\n",
       "    .dataframe tbody tr th:only-of-type {\n",
       "        vertical-align: middle;\n",
       "    }\n",
       "\n",
       "    .dataframe tbody tr th {\n",
       "        vertical-align: top;\n",
       "    }\n",
       "\n",
       "    .dataframe thead th {\n",
       "        text-align: right;\n",
       "    }\n",
       "</style>\n",
       "<table border=\"1\" class=\"dataframe\">\n",
       "  <thead>\n",
       "    <tr style=\"text-align: right;\">\n",
       "      <th></th>\n",
       "      <th>book_id</th>\n",
       "      <th>author_id</th>\n",
       "      <th>title</th>\n",
       "      <th>num_pages</th>\n",
       "      <th>publication_date</th>\n",
       "      <th>publisher_id</th>\n",
       "    </tr>\n",
       "  </thead>\n",
       "  <tbody>\n",
       "    <tr>\n",
       "      <th>0</th>\n",
       "      <td>1</td>\n",
       "      <td>546</td>\n",
       "      <td>'Salem's Lot</td>\n",
       "      <td>594</td>\n",
       "      <td>2005-11-01</td>\n",
       "      <td>93</td>\n",
       "    </tr>\n",
       "    <tr>\n",
       "      <th>1</th>\n",
       "      <td>2</td>\n",
       "      <td>465</td>\n",
       "      <td>1 000 Places to See Before You Die</td>\n",
       "      <td>992</td>\n",
       "      <td>2003-05-22</td>\n",
       "      <td>336</td>\n",
       "    </tr>\n",
       "    <tr>\n",
       "      <th>2</th>\n",
       "      <td>3</td>\n",
       "      <td>407</td>\n",
       "      <td>13 Little Blue Envelopes (Little Blue Envelope...</td>\n",
       "      <td>322</td>\n",
       "      <td>2010-12-21</td>\n",
       "      <td>135</td>\n",
       "    </tr>\n",
       "    <tr>\n",
       "      <th>3</th>\n",
       "      <td>4</td>\n",
       "      <td>82</td>\n",
       "      <td>1491: New Revelations of the Americas Before C...</td>\n",
       "      <td>541</td>\n",
       "      <td>2006-10-10</td>\n",
       "      <td>309</td>\n",
       "    </tr>\n",
       "    <tr>\n",
       "      <th>4</th>\n",
       "      <td>5</td>\n",
       "      <td>125</td>\n",
       "      <td>1776</td>\n",
       "      <td>386</td>\n",
       "      <td>2006-07-04</td>\n",
       "      <td>268</td>\n",
       "    </tr>\n",
       "  </tbody>\n",
       "</table>\n",
       "</div>"
      ],
      "text/plain": [
       "   book_id  author_id                                              title  \\\n",
       "0        1        546                                       'Salem's Lot   \n",
       "1        2        465                 1 000 Places to See Before You Die   \n",
       "2        3        407  13 Little Blue Envelopes (Little Blue Envelope...   \n",
       "3        4         82  1491: New Revelations of the Americas Before C...   \n",
       "4        5        125                                               1776   \n",
       "\n",
       "   num_pages publication_date  publisher_id  \n",
       "0        594       2005-11-01            93  \n",
       "1        992       2003-05-22           336  \n",
       "2        322       2010-12-21           135  \n",
       "3        541       2006-10-10           309  \n",
       "4        386       2006-07-04           268  "
      ]
     },
     "metadata": {},
     "output_type": "display_data"
    }
   ],
   "source": [
    "# Mostramos el DataFrame\n",
    "display(books.head())"
   ]
  },
  {
   "cell_type": "markdown",
   "metadata": {},
   "source": [
    "#### authors"
   ]
  },
  {
   "cell_type": "code",
   "execution_count": 6,
   "metadata": {},
   "outputs": [
    {
     "data": {
      "text/html": [
       "<div>\n",
       "<style scoped>\n",
       "    .dataframe tbody tr th:only-of-type {\n",
       "        vertical-align: middle;\n",
       "    }\n",
       "\n",
       "    .dataframe tbody tr th {\n",
       "        vertical-align: top;\n",
       "    }\n",
       "\n",
       "    .dataframe thead th {\n",
       "        text-align: right;\n",
       "    }\n",
       "</style>\n",
       "<table border=\"1\" class=\"dataframe\">\n",
       "  <thead>\n",
       "    <tr style=\"text-align: right;\">\n",
       "      <th></th>\n",
       "      <th>author_id</th>\n",
       "      <th>author</th>\n",
       "    </tr>\n",
       "  </thead>\n",
       "  <tbody>\n",
       "    <tr>\n",
       "      <th>0</th>\n",
       "      <td>1</td>\n",
       "      <td>A.S. Byatt</td>\n",
       "    </tr>\n",
       "    <tr>\n",
       "      <th>1</th>\n",
       "      <td>2</td>\n",
       "      <td>Aesop/Laura Harris/Laura Gibbs</td>\n",
       "    </tr>\n",
       "    <tr>\n",
       "      <th>2</th>\n",
       "      <td>3</td>\n",
       "      <td>Agatha Christie</td>\n",
       "    </tr>\n",
       "    <tr>\n",
       "      <th>3</th>\n",
       "      <td>4</td>\n",
       "      <td>Alan Brennert</td>\n",
       "    </tr>\n",
       "    <tr>\n",
       "      <th>4</th>\n",
       "      <td>5</td>\n",
       "      <td>Alan Moore/David   Lloyd</td>\n",
       "    </tr>\n",
       "  </tbody>\n",
       "</table>\n",
       "</div>"
      ],
      "text/plain": [
       "   author_id                          author\n",
       "0          1                      A.S. Byatt\n",
       "1          2  Aesop/Laura Harris/Laura Gibbs\n",
       "2          3                 Agatha Christie\n",
       "3          4                   Alan Brennert\n",
       "4          5        Alan Moore/David   Lloyd"
      ]
     },
     "metadata": {},
     "output_type": "display_data"
    }
   ],
   "source": [
    "# Mostramos el DataFrame\n",
    "display(authors.head())"
   ]
  },
  {
   "cell_type": "markdown",
   "metadata": {},
   "source": [
    "#### publishers"
   ]
  },
  {
   "cell_type": "code",
   "execution_count": 7,
   "metadata": {},
   "outputs": [
    {
     "data": {
      "text/html": [
       "<div>\n",
       "<style scoped>\n",
       "    .dataframe tbody tr th:only-of-type {\n",
       "        vertical-align: middle;\n",
       "    }\n",
       "\n",
       "    .dataframe tbody tr th {\n",
       "        vertical-align: top;\n",
       "    }\n",
       "\n",
       "    .dataframe thead th {\n",
       "        text-align: right;\n",
       "    }\n",
       "</style>\n",
       "<table border=\"1\" class=\"dataframe\">\n",
       "  <thead>\n",
       "    <tr style=\"text-align: right;\">\n",
       "      <th></th>\n",
       "      <th>publisher_id</th>\n",
       "      <th>publisher</th>\n",
       "    </tr>\n",
       "  </thead>\n",
       "  <tbody>\n",
       "    <tr>\n",
       "      <th>0</th>\n",
       "      <td>1</td>\n",
       "      <td>Ace</td>\n",
       "    </tr>\n",
       "    <tr>\n",
       "      <th>1</th>\n",
       "      <td>2</td>\n",
       "      <td>Ace Book</td>\n",
       "    </tr>\n",
       "    <tr>\n",
       "      <th>2</th>\n",
       "      <td>3</td>\n",
       "      <td>Ace Books</td>\n",
       "    </tr>\n",
       "    <tr>\n",
       "      <th>3</th>\n",
       "      <td>4</td>\n",
       "      <td>Ace Hardcover</td>\n",
       "    </tr>\n",
       "    <tr>\n",
       "      <th>4</th>\n",
       "      <td>5</td>\n",
       "      <td>Addison Wesley Publishing Company</td>\n",
       "    </tr>\n",
       "  </tbody>\n",
       "</table>\n",
       "</div>"
      ],
      "text/plain": [
       "   publisher_id                          publisher\n",
       "0             1                                Ace\n",
       "1             2                           Ace Book\n",
       "2             3                          Ace Books\n",
       "3             4                      Ace Hardcover\n",
       "4             5  Addison Wesley Publishing Company"
      ]
     },
     "metadata": {},
     "output_type": "display_data"
    }
   ],
   "source": [
    "# Mostramos el DataFrame\n",
    "display(publishers.head())"
   ]
  },
  {
   "cell_type": "markdown",
   "metadata": {},
   "source": [
    "#### ratings"
   ]
  },
  {
   "cell_type": "code",
   "execution_count": 8,
   "metadata": {},
   "outputs": [
    {
     "data": {
      "text/html": [
       "<div>\n",
       "<style scoped>\n",
       "    .dataframe tbody tr th:only-of-type {\n",
       "        vertical-align: middle;\n",
       "    }\n",
       "\n",
       "    .dataframe tbody tr th {\n",
       "        vertical-align: top;\n",
       "    }\n",
       "\n",
       "    .dataframe thead th {\n",
       "        text-align: right;\n",
       "    }\n",
       "</style>\n",
       "<table border=\"1\" class=\"dataframe\">\n",
       "  <thead>\n",
       "    <tr style=\"text-align: right;\">\n",
       "      <th></th>\n",
       "      <th>rating_id</th>\n",
       "      <th>book_id</th>\n",
       "      <th>username</th>\n",
       "      <th>rating</th>\n",
       "    </tr>\n",
       "  </thead>\n",
       "  <tbody>\n",
       "    <tr>\n",
       "      <th>0</th>\n",
       "      <td>1</td>\n",
       "      <td>1</td>\n",
       "      <td>ryanfranco</td>\n",
       "      <td>4</td>\n",
       "    </tr>\n",
       "    <tr>\n",
       "      <th>1</th>\n",
       "      <td>2</td>\n",
       "      <td>1</td>\n",
       "      <td>grantpatricia</td>\n",
       "      <td>2</td>\n",
       "    </tr>\n",
       "    <tr>\n",
       "      <th>2</th>\n",
       "      <td>3</td>\n",
       "      <td>1</td>\n",
       "      <td>brandtandrea</td>\n",
       "      <td>5</td>\n",
       "    </tr>\n",
       "    <tr>\n",
       "      <th>3</th>\n",
       "      <td>4</td>\n",
       "      <td>2</td>\n",
       "      <td>lorichen</td>\n",
       "      <td>3</td>\n",
       "    </tr>\n",
       "    <tr>\n",
       "      <th>4</th>\n",
       "      <td>5</td>\n",
       "      <td>2</td>\n",
       "      <td>mariokeller</td>\n",
       "      <td>2</td>\n",
       "    </tr>\n",
       "  </tbody>\n",
       "</table>\n",
       "</div>"
      ],
      "text/plain": [
       "   rating_id  book_id       username  rating\n",
       "0          1        1     ryanfranco       4\n",
       "1          2        1  grantpatricia       2\n",
       "2          3        1   brandtandrea       5\n",
       "3          4        2       lorichen       3\n",
       "4          5        2    mariokeller       2"
      ]
     },
     "metadata": {},
     "output_type": "display_data"
    }
   ],
   "source": [
    "# Mostramos el DataFrame\n",
    "display(ratings.head())"
   ]
  },
  {
   "cell_type": "markdown",
   "metadata": {},
   "source": [
    "#### reviews"
   ]
  },
  {
   "cell_type": "code",
   "execution_count": 9,
   "metadata": {},
   "outputs": [
    {
     "data": {
      "text/html": [
       "<div>\n",
       "<style scoped>\n",
       "    .dataframe tbody tr th:only-of-type {\n",
       "        vertical-align: middle;\n",
       "    }\n",
       "\n",
       "    .dataframe tbody tr th {\n",
       "        vertical-align: top;\n",
       "    }\n",
       "\n",
       "    .dataframe thead th {\n",
       "        text-align: right;\n",
       "    }\n",
       "</style>\n",
       "<table border=\"1\" class=\"dataframe\">\n",
       "  <thead>\n",
       "    <tr style=\"text-align: right;\">\n",
       "      <th></th>\n",
       "      <th>review_id</th>\n",
       "      <th>book_id</th>\n",
       "      <th>username</th>\n",
       "      <th>text</th>\n",
       "    </tr>\n",
       "  </thead>\n",
       "  <tbody>\n",
       "    <tr>\n",
       "      <th>0</th>\n",
       "      <td>1</td>\n",
       "      <td>1</td>\n",
       "      <td>brandtandrea</td>\n",
       "      <td>Mention society tell send professor analysis. ...</td>\n",
       "    </tr>\n",
       "    <tr>\n",
       "      <th>1</th>\n",
       "      <td>2</td>\n",
       "      <td>1</td>\n",
       "      <td>ryanfranco</td>\n",
       "      <td>Foot glass pretty audience hit themselves. Amo...</td>\n",
       "    </tr>\n",
       "    <tr>\n",
       "      <th>2</th>\n",
       "      <td>3</td>\n",
       "      <td>2</td>\n",
       "      <td>lorichen</td>\n",
       "      <td>Listen treat keep worry. Miss husband tax but ...</td>\n",
       "    </tr>\n",
       "    <tr>\n",
       "      <th>3</th>\n",
       "      <td>4</td>\n",
       "      <td>3</td>\n",
       "      <td>johnsonamanda</td>\n",
       "      <td>Finally month interesting blue could nature cu...</td>\n",
       "    </tr>\n",
       "    <tr>\n",
       "      <th>4</th>\n",
       "      <td>5</td>\n",
       "      <td>3</td>\n",
       "      <td>scotttamara</td>\n",
       "      <td>Nation purpose heavy give wait song will. List...</td>\n",
       "    </tr>\n",
       "  </tbody>\n",
       "</table>\n",
       "</div>"
      ],
      "text/plain": [
       "   review_id  book_id       username  \\\n",
       "0          1        1   brandtandrea   \n",
       "1          2        1     ryanfranco   \n",
       "2          3        2       lorichen   \n",
       "3          4        3  johnsonamanda   \n",
       "4          5        3    scotttamara   \n",
       "\n",
       "                                                text  \n",
       "0  Mention society tell send professor analysis. ...  \n",
       "1  Foot glass pretty audience hit themselves. Amo...  \n",
       "2  Listen treat keep worry. Miss husband tax but ...  \n",
       "3  Finally month interesting blue could nature cu...  \n",
       "4  Nation purpose heavy give wait song will. List...  "
      ]
     },
     "metadata": {},
     "output_type": "display_data"
    }
   ],
   "source": [
    "# Mostramos el DataFrame\n",
    "display(reviews.head())"
   ]
  },
  {
   "cell_type": "markdown",
   "metadata": {},
   "source": [
    "## Consulta de datos"
   ]
  },
  {
   "cell_type": "markdown",
   "metadata": {},
   "source": [
    "### Encuentra el número de libros publicados después del 1 de enero de 2000.\n"
   ]
  },
  {
   "cell_type": "code",
   "execution_count": 10,
   "metadata": {},
   "outputs": [
    {
     "name": "stdout",
     "output_type": "stream",
     "text": [
      "El número de libros publicados después del 1 de enero de 2000: 819\n"
     ]
    }
   ],
   "source": [
    "with engine.connect() as connection: \n",
    "    query1= (\"\"\"\n",
    "    \n",
    "        SELECT\n",
    "            COUNT(books.book_id) as book_count\n",
    "        FROM\n",
    "            books\n",
    "        WHERE\n",
    "            books.publication_date > '2000-01-01'\n",
    "            \n",
    "        \"\"\"     \n",
    "    )\n",
    "    result1 = connection.execute(query1)\n",
    "    for row in result1:\n",
    "        print('El número de libros publicados después del 1 de enero de 2000: {}'.format(row['book_count']))"
   ]
  },
  {
   "cell_type": "markdown",
   "metadata": {},
   "source": [
    "**Observaciones** \n",
    "\n",
    "Para 20 años, me parece que son pocos libros publicados, pero es probable que la aplicación sólo tenga los libros más populares del 2000. "
   ]
  },
  {
   "cell_type": "markdown",
   "metadata": {},
   "source": [
    "### Encuentra el número de reseñas de usuarios y la calificación promedio para cada libro."
   ]
  },
  {
   "cell_type": "code",
   "execution_count": 11,
   "metadata": {},
   "outputs": [],
   "source": [
    "# Obtenemos el número de reseñas de usuarios\n",
    "with engine.connect() as connection: \n",
    "    query2= (\"\"\"\n",
    "    \n",
    "        SELECT\n",
    "            username,\n",
    "            COUNT(review_id) as review_count\n",
    "        FROM\n",
    "            reviews \n",
    "        GROUP BY\n",
    "            username\n",
    "        ORDER By\n",
    "            review_count DESC;\n",
    "        \"\"\"     \n",
    "    )"
   ]
  },
  {
   "cell_type": "code",
   "execution_count": 12,
   "metadata": {},
   "outputs": [
    {
     "name": "stdout",
     "output_type": "stream",
     "text": [
      "           username  review_count\n",
      "0           susan85            29\n",
      "1       sfitzgerald            28\n",
      "2        martinadam            27\n",
      "3       lesliegibbs            26\n",
      "4            eallen            26\n",
      "..              ...           ...\n",
      "155          todd65            10\n",
      "156        joseph14            10\n",
      "157        dwayne09            10\n",
      "158        robert00             9\n",
      "159  millernicholas             5\n",
      "\n",
      "[160 rows x 2 columns]\n"
     ]
    }
   ],
   "source": [
    "count_review = pd.io.sql.read_sql(query2, con = engine)\n",
    "print(count_review)"
   ]
  },
  {
   "cell_type": "markdown",
   "metadata": {},
   "source": [
    "**Observaciones**\n",
    "\n",
    "El usuario con mayor reseñas es susan85 con 29, y el que hizo menos fue millernicholas con 5. "
   ]
  },
  {
   "cell_type": "code",
   "execution_count": 13,
   "metadata": {},
   "outputs": [],
   "source": [
    "# Obtenemos la calificación promedio de cada libro\n",
    "with engine.connect() as connection: \n",
    "    query3= (\"\"\"\n",
    "    \n",
    "        SELECT\n",
    "            book_id,\n",
    "            AVG(rating) as avg_rating\n",
    "        FROM\n",
    "            ratings \n",
    "        GROUP BY\n",
    "            book_id\n",
    "        ORDER BY\n",
    "            avg_rating DESC;\n",
    "        \"\"\"     \n",
    "    )"
   ]
  },
  {
   "cell_type": "code",
   "execution_count": 14,
   "metadata": {},
   "outputs": [
    {
     "name": "stdout",
     "output_type": "stream",
     "text": [
      "     book_id  avg_rating\n",
      "0        518        5.00\n",
      "1        732        5.00\n",
      "2        347        5.00\n",
      "3        610        5.00\n",
      "4        330        5.00\n",
      "..       ...         ...\n",
      "995      915        2.25\n",
      "996      371        2.00\n",
      "997      316        2.00\n",
      "998      202        2.00\n",
      "999      303        1.50\n",
      "\n",
      "[1000 rows x 2 columns]\n"
     ]
    }
   ],
   "source": [
    "avg_rating = pd.io.sql.read_sql(query3, con = engine)\n",
    "print(avg_rating)"
   ]
  },
  {
   "cell_type": "markdown",
   "metadata": {},
   "source": [
    "**Observaciones** \n",
    "\n",
    "* Sólo 1 libro tuvo una calificación de 1.5. \n",
    "* Más de la mitad tiene calificación por arriba de 4, y más de 40 libros tienen calificación de 5. "
   ]
  },
  {
   "cell_type": "markdown",
   "metadata": {},
   "source": [
    "### Identifica la editorial que ha publicado el mayor número de libros con más de 50 páginas"
   ]
  },
  {
   "cell_type": "code",
   "execution_count": 15,
   "metadata": {},
   "outputs": [
    {
     "name": "stdout",
     "output_type": "stream",
     "text": [
      "La editorial que ha publicado más libros de 50 páginas es Penguin Books con 42 libros publicados\n"
     ]
    }
   ],
   "source": [
    "with engine.connect() as connection: \n",
    "    query4= (\"\"\"\n",
    "    \n",
    "        SELECT\n",
    "            books.publisher_id,\n",
    "            publishers.publisher,\n",
    "            COUNT(book_id) as books_published\n",
    "        FROM\n",
    "            books\n",
    "            LEFT JOIN publishers ON publishers.publisher_id = books.publisher_id\n",
    "        WHERE\n",
    "            num_pages > 50\n",
    "        GROUP BY\n",
    "            books.publisher_id,\n",
    "            publishers.publisher\n",
    "        ORDER BY\n",
    "            COUNT(book_id) DESC\n",
    "        LIMIT\n",
    "            1;\n",
    "        \"\"\"     \n",
    "    )\n",
    "    result4 = connection.execute(query4)\n",
    "    for row in result4:\n",
    "        print('La editorial que ha publicado más libros de 50 páginas es {} con {} libros publicados'.format(row['publisher'],row['books_published']))"
   ]
  },
  {
   "cell_type": "markdown",
   "metadata": {},
   "source": [
    "**Observaciones** \n",
    "\n",
    "Tiene lógica que Penguin Books sea la editorial resultante, siendo que es la editorial líder en publicar literatura clásica por más de 75 años. "
   ]
  },
  {
   "cell_type": "markdown",
   "metadata": {},
   "source": [
    "### Identifica al autor que tiene la más alta calificación promedio del libro\n"
   ]
  },
  {
   "cell_type": "code",
   "execution_count": 16,
   "metadata": {},
   "outputs": [
    {
     "name": "stdout",
     "output_type": "stream",
     "text": [
      "El autor con más alta calificación promedio es Diana Gabaldon\n"
     ]
    }
   ],
   "source": [
    "# Mira solo los libros con al menos 50 calificaciones.\n",
    "with engine.connect() as connection: \n",
    "    query5= (\"\"\"\n",
    "    \n",
    "        SELECT\n",
    "            books.author_id AS author_id,\n",
    "            AVG(ratings.rating) AS average_rating,\n",
    "            COUNT(ratings.book_id) AS rated_books,\n",
    "            authors.author AS author\n",
    "        FROM\n",
    "            books\n",
    "            INNER JOIN ratings ON ratings.book_id = books.book_id\n",
    "            INNER JOIN authors ON authors.author_id = books.author_id\n",
    "        GROUP BY\n",
    "            books.author_id,\n",
    "            authors.author\n",
    "        HAVING \n",
    "            COUNT(ratings.book_id) >= 50\n",
    "        ORDER BY\n",
    "            average_rating DESC\n",
    "        LIMIT\n",
    "            1\n",
    "        \"\"\"     \n",
    "    )\n",
    "    result5 = connection.execute(query5)\n",
    "    for row in result5:\n",
    "        print('El autor con más alta calificación promedio es {}'.format(row['author']))\n"
   ]
  },
  {
   "cell_type": "markdown",
   "metadata": {},
   "source": [
    "**Observaciones**\n",
    "\n",
    "Con libros como Outlander que se han hecho series de televisión, Diana Gabaldon es la autora cuyo(s) libro(s) tienen la calificación promedio más alta."
   ]
  },
  {
   "cell_type": "markdown",
   "metadata": {},
   "source": [
    "### Encuentra el número promedio de reseñas de texto entre los usuarios que calificaron más de 50 libros."
   ]
  },
  {
   "cell_type": "code",
   "execution_count": 19,
   "metadata": {},
   "outputs": [
    {
     "name": "stdout",
     "output_type": "stream",
     "text": [
      "El número promedio de reseñas de texto es 24.3333333333333333\n"
     ]
    }
   ],
   "source": [
    "# Sacamos el promedio\n",
    "with engine.connect() as connection: \n",
    "    query8= (\"\"\"\n",
    "    \n",
    "        SELECT\n",
    "            AVG(sub2.review_count) AS avg_review_count\n",
    "        FROM(\n",
    "            SELECT\n",
    "                COUNT(reviews.review_id) AS review_count,\n",
    "                sub1.username\n",
    "            FROM\n",
    "                (\n",
    "                SELECT \n",
    "                    ratings.username, \n",
    "                    COUNT(rating_id) AS count_rating \n",
    "                FROM \n",
    "                    ratings\n",
    "                GROUP BY \n",
    "                    ratings.username\n",
    "                HAVING \n",
    "                    COUNT(ratings.rating_id) >50\n",
    "                )AS sub1\n",
    "            INNER JOIN reviews ON reviews.username = sub1.username\n",
    "            GROUP BY\n",
    "                sub1.username\n",
    "\n",
    "        )AS sub2;       \n",
    "        \"\"\"\n",
    "    )\n",
    "    result8 = connection.execute(query8)\n",
    "    for row in result8:\n",
    "        print('El número promedio de reseñas de texto es {}'.format(row['avg_review_count']))"
   ]
  },
  {
   "cell_type": "markdown",
   "metadata": {},
   "source": [
    "**Observaciones**\n",
    "\n",
    "Los usuarios son bastante activos, dedicaron tiempo para dejar un promedio de 211 reseñas."
   ]
  },
  {
   "cell_type": "markdown",
   "metadata": {},
   "source": [
    "## Conclusiones"
   ]
  },
  {
   "cell_type": "markdown",
   "metadata": {},
   "source": [
    "* Podemos en enfocarnos en libros contemporaneos y que tengan altas calificaciones para atraer a los usuarios\n",
    "* Penguin Books sería una de las principales editoriales con las cuales habría que contar en nuestro servicio. \n",
    "* De igual forma autoras como Diana Gabaldon.\n",
    "* Podemos implementar algun tipo de recompensa para los usuarios por dejar una reseña, de esta forma podríamos atraer a más usuarios.  "
   ]
  }
 ],
 "metadata": {
  "ExecuteTimeLog": [
   {
    "duration": 9,
    "start_time": "2025-01-03T03:59:30.883Z"
   },
   {
    "duration": 403,
    "start_time": "2025-01-03T04:00:38.675Z"
   },
   {
    "duration": 34,
    "start_time": "2025-01-03T04:02:40.065Z"
   },
   {
    "duration": 9,
    "start_time": "2025-01-03T04:02:54.329Z"
   },
   {
    "duration": 5,
    "start_time": "2025-01-03T04:05:55.736Z"
   },
   {
    "duration": 6511,
    "start_time": "2025-01-03T04:07:28.182Z"
   },
   {
    "duration": 8,
    "start_time": "2025-01-03T04:07:46.343Z"
   },
   {
    "duration": 3,
    "start_time": "2025-01-03T04:14:12.394Z"
   },
   {
    "duration": 4,
    "start_time": "2025-01-03T04:14:12.399Z"
   },
   {
    "duration": 4,
    "start_time": "2025-01-03T04:14:12.405Z"
   },
   {
    "duration": 6307,
    "start_time": "2025-01-03T04:14:12.410Z"
   },
   {
    "duration": 9,
    "start_time": "2025-01-03T04:14:39.842Z"
   },
   {
    "duration": 8,
    "start_time": "2025-01-03T04:15:21.240Z"
   },
   {
    "duration": 6,
    "start_time": "2025-01-03T04:16:07.244Z"
   },
   {
    "duration": 7,
    "start_time": "2025-01-03T04:16:28.474Z"
   },
   {
    "duration": 6,
    "start_time": "2025-01-03T04:16:51.826Z"
   },
   {
    "duration": 8,
    "start_time": "2025-01-03T04:17:13.429Z"
   },
   {
    "duration": 2,
    "start_time": "2025-01-03T04:19:32.483Z"
   },
   {
    "duration": 1115,
    "start_time": "2025-01-03T04:34:31.540Z"
   },
   {
    "duration": 460,
    "start_time": "2025-01-03T04:36:20.909Z"
   },
   {
    "duration": 463,
    "start_time": "2025-01-03T04:44:55.763Z"
   },
   {
    "duration": 443,
    "start_time": "2025-01-03T04:45:48.348Z"
   },
   {
    "duration": 445,
    "start_time": "2025-01-03T04:46:10.145Z"
   },
   {
    "duration": 446,
    "start_time": "2025-01-03T04:48:38.941Z"
   },
   {
    "duration": 370,
    "start_time": "2025-01-03T04:48:51.194Z"
   },
   {
    "duration": 3,
    "start_time": "2025-01-03T04:49:24.415Z"
   },
   {
    "duration": 3,
    "start_time": "2025-01-03T04:49:30.930Z"
   },
   {
    "duration": 369,
    "start_time": "2025-01-03T04:51:49.712Z"
   },
   {
    "duration": 369,
    "start_time": "2025-01-03T04:52:12.868Z"
   },
   {
    "duration": 370,
    "start_time": "2025-01-03T04:52:16.877Z"
   },
   {
    "duration": 369,
    "start_time": "2025-01-03T04:53:06.914Z"
   },
   {
    "duration": 369,
    "start_time": "2025-01-03T04:53:14.797Z"
   },
   {
    "duration": 3,
    "start_time": "2025-01-03T04:53:30.626Z"
   },
   {
    "duration": 369,
    "start_time": "2025-01-03T04:53:53.003Z"
   },
   {
    "duration": 370,
    "start_time": "2025-01-03T04:54:07.879Z"
   },
   {
    "duration": 3,
    "start_time": "2025-01-03T04:54:15.255Z"
   },
   {
    "duration": 12,
    "start_time": "2025-01-03T04:54:19.039Z"
   },
   {
    "duration": 3,
    "start_time": "2025-01-03T04:54:22.389Z"
   },
   {
    "duration": 391,
    "start_time": "2025-01-04T00:39:31.839Z"
   },
   {
    "duration": 25,
    "start_time": "2025-01-04T00:39:32.232Z"
   },
   {
    "duration": 3,
    "start_time": "2025-01-04T00:39:32.259Z"
   },
   {
    "duration": 6377,
    "start_time": "2025-01-04T00:39:32.265Z"
   },
   {
    "duration": 13,
    "start_time": "2025-01-04T00:39:38.645Z"
   },
   {
    "duration": 5,
    "start_time": "2025-01-04T00:39:38.660Z"
   },
   {
    "duration": 5,
    "start_time": "2025-01-04T00:39:38.667Z"
   },
   {
    "duration": 6,
    "start_time": "2025-01-04T00:39:38.674Z"
   },
   {
    "duration": 7,
    "start_time": "2025-01-04T00:39:38.682Z"
   },
   {
    "duration": 375,
    "start_time": "2025-01-04T00:39:38.691Z"
   },
   {
    "duration": 373,
    "start_time": "2025-01-04T00:39:39.068Z"
   },
   {
    "duration": 2,
    "start_time": "2025-01-04T00:39:39.443Z"
   },
   {
    "duration": 376,
    "start_time": "2025-01-04T01:21:51.219Z"
   },
   {
    "duration": 917,
    "start_time": "2025-01-04T01:23:58.226Z"
   },
   {
    "duration": 897,
    "start_time": "2025-01-04T01:24:16.133Z"
   },
   {
    "duration": 502,
    "start_time": "2025-01-04T01:24:36.912Z"
   },
   {
    "duration": 503,
    "start_time": "2025-01-04T01:25:23.032Z"
   },
   {
    "duration": 667,
    "start_time": "2025-01-04T01:25:50.229Z"
   },
   {
    "duration": 376,
    "start_time": "2025-01-04T01:26:19.623Z"
   },
   {
    "duration": 386,
    "start_time": "2025-01-04T01:27:48.736Z"
   },
   {
    "duration": 378,
    "start_time": "2025-01-04T01:28:33.350Z"
   },
   {
    "duration": 376,
    "start_time": "2025-01-04T01:28:59.699Z"
   },
   {
    "duration": 936,
    "start_time": "2025-01-04T01:29:23.992Z"
   },
   {
    "duration": 376,
    "start_time": "2025-01-04T01:29:36.841Z"
   },
   {
    "duration": 378,
    "start_time": "2025-01-04T01:29:50.634Z"
   },
   {
    "duration": 377,
    "start_time": "2025-01-04T01:30:07.575Z"
   },
   {
    "duration": 378,
    "start_time": "2025-01-04T01:30:16.083Z"
   },
   {
    "duration": 377,
    "start_time": "2025-01-04T01:31:04.829Z"
   },
   {
    "duration": 377,
    "start_time": "2025-01-04T01:31:13.708Z"
   },
   {
    "duration": 504,
    "start_time": "2025-01-04T01:32:24.008Z"
   },
   {
    "duration": 508,
    "start_time": "2025-01-04T01:33:17.827Z"
   },
   {
    "duration": 505,
    "start_time": "2025-01-04T01:33:36.672Z"
   },
   {
    "duration": 3,
    "start_time": "2025-01-04T01:35:54.275Z"
   },
   {
    "duration": 3,
    "start_time": "2025-01-04T01:36:16.948Z"
   },
   {
    "duration": 386,
    "start_time": "2025-01-04T01:36:45.322Z"
   },
   {
    "duration": 379,
    "start_time": "2025-01-04T01:36:52.041Z"
   },
   {
    "duration": 505,
    "start_time": "2025-01-04T01:47:38.550Z"
   },
   {
    "duration": 376,
    "start_time": "2025-01-04T01:49:34.933Z"
   },
   {
    "duration": 378,
    "start_time": "2025-01-04T01:53:20.050Z"
   },
   {
    "duration": 383,
    "start_time": "2025-01-04T01:53:47.925Z"
   },
   {
    "duration": 665,
    "start_time": "2025-01-04T02:11:24.014Z"
   },
   {
    "duration": 650,
    "start_time": "2025-01-04T02:11:39.835Z"
   },
   {
    "duration": 4,
    "start_time": "2025-01-04T02:12:02.007Z"
   },
   {
    "duration": 629,
    "start_time": "2025-01-04T02:12:08.798Z"
   },
   {
    "duration": 633,
    "start_time": "2025-01-04T02:12:18.283Z"
   },
   {
    "duration": 378,
    "start_time": "2025-01-04T02:21:57.102Z"
   },
   {
    "duration": 378,
    "start_time": "2025-01-04T02:22:53.607Z"
   },
   {
    "duration": 378,
    "start_time": "2025-01-04T02:23:04.764Z"
   },
   {
    "duration": 379,
    "start_time": "2025-01-04T02:23:25.682Z"
   },
   {
    "duration": 378,
    "start_time": "2025-01-04T02:26:32.942Z"
   },
   {
    "duration": 377,
    "start_time": "2025-01-04T02:27:21.206Z"
   },
   {
    "duration": 378,
    "start_time": "2025-01-04T02:30:24.108Z"
   },
   {
    "duration": 7,
    "start_time": "2025-01-04T02:34:34.638Z"
   },
   {
    "duration": 3,
    "start_time": "2025-01-04T02:34:38.098Z"
   },
   {
    "duration": 4,
    "start_time": "2025-01-04T02:34:47.597Z"
   },
   {
    "duration": 375,
    "start_time": "2025-01-04T02:37:40.110Z"
   },
   {
    "duration": 375,
    "start_time": "2025-01-04T02:37:49.001Z"
   },
   {
    "duration": 504,
    "start_time": "2025-01-04T02:39:33.647Z"
   },
   {
    "duration": 504,
    "start_time": "2025-01-04T02:39:42.356Z"
   },
   {
    "duration": 9,
    "start_time": "2025-01-04T02:50:46.958Z"
   },
   {
    "duration": 6,
    "start_time": "2025-01-04T02:51:09.775Z"
   },
   {
    "duration": 450,
    "start_time": "2025-01-04T03:19:27.050Z"
   },
   {
    "duration": 452,
    "start_time": "2025-01-04T03:20:01.395Z"
   },
   {
    "duration": 450,
    "start_time": "2025-01-04T03:22:20.440Z"
   },
   {
    "duration": 449,
    "start_time": "2025-01-04T03:22:37.099Z"
   },
   {
    "duration": 449,
    "start_time": "2025-01-04T03:22:49.576Z"
   },
   {
    "duration": 387,
    "start_time": "2025-01-04T03:32:03.664Z"
   },
   {
    "duration": 388,
    "start_time": "2025-01-04T03:32:32.219Z"
   },
   {
    "duration": 388,
    "start_time": "2025-01-04T03:32:43.566Z"
   },
   {
    "duration": 389,
    "start_time": "2025-01-04T03:35:55.580Z"
   },
   {
    "duration": 388,
    "start_time": "2025-01-04T03:36:11.619Z"
   },
   {
    "duration": 388,
    "start_time": "2025-01-04T03:36:52.664Z"
   },
   {
    "duration": 389,
    "start_time": "2025-01-04T03:37:03.826Z"
   },
   {
    "duration": 12,
    "start_time": "2025-01-04T03:41:40.115Z"
   },
   {
    "duration": 4,
    "start_time": "2025-01-04T03:41:42.842Z"
   },
   {
    "duration": 5,
    "start_time": "2025-01-04T03:41:53.576Z"
   },
   {
    "duration": 4,
    "start_time": "2025-01-04T03:42:01.916Z"
   },
   {
    "duration": 4,
    "start_time": "2025-01-04T03:42:05.715Z"
   },
   {
    "duration": 26,
    "start_time": "2025-01-04T03:42:33.285Z"
   },
   {
    "duration": 4,
    "start_time": "2025-01-04T03:42:40.516Z"
   },
   {
    "duration": 5,
    "start_time": "2025-01-04T03:42:51.011Z"
   },
   {
    "duration": 374,
    "start_time": "2025-01-04T03:43:02.353Z"
   },
   {
    "duration": 7,
    "start_time": "2025-01-04T03:45:16.003Z"
   },
   {
    "duration": 3,
    "start_time": "2025-01-04T03:45:29.542Z"
   },
   {
    "duration": 5,
    "start_time": "2025-01-04T03:45:37.503Z"
   },
   {
    "duration": 3,
    "start_time": "2025-01-04T03:45:48.858Z"
   },
   {
    "duration": 12,
    "start_time": "2025-01-04T03:45:53.603Z"
   },
   {
    "duration": 460,
    "start_time": "2025-01-04T03:50:52.539Z"
   },
   {
    "duration": 380,
    "start_time": "2025-01-04T03:51:06.817Z"
   },
   {
    "duration": 376,
    "start_time": "2025-01-04T03:51:53.732Z"
   },
   {
    "duration": 749,
    "start_time": "2025-01-04T03:59:09.995Z"
   },
   {
    "duration": 751,
    "start_time": "2025-01-04T03:59:19.883Z"
   },
   {
    "duration": 3,
    "start_time": "2025-01-04T03:59:54.780Z"
   },
   {
    "duration": 875,
    "start_time": "2025-01-04T04:01:05.286Z"
   },
   {
    "duration": 3,
    "start_time": "2025-01-04T04:01:17.081Z"
   },
   {
    "duration": 8,
    "start_time": "2025-01-04T21:34:56.876Z"
   },
   {
    "duration": 497,
    "start_time": "2025-01-04T21:38:40.545Z"
   },
   {
    "duration": 26,
    "start_time": "2025-01-04T21:38:41.045Z"
   },
   {
    "duration": 3,
    "start_time": "2025-01-04T21:38:41.073Z"
   },
   {
    "duration": 6320,
    "start_time": "2025-01-04T21:38:41.078Z"
   },
   {
    "duration": 12,
    "start_time": "2025-01-04T21:38:47.400Z"
   },
   {
    "duration": 5,
    "start_time": "2025-01-04T21:38:47.413Z"
   },
   {
    "duration": 6,
    "start_time": "2025-01-04T21:38:47.420Z"
   },
   {
    "duration": 6,
    "start_time": "2025-01-04T21:38:47.427Z"
   },
   {
    "duration": 5,
    "start_time": "2025-01-04T21:38:47.435Z"
   },
   {
    "duration": 374,
    "start_time": "2025-01-04T21:38:47.442Z"
   },
   {
    "duration": 5,
    "start_time": "2025-01-04T21:38:47.818Z"
   },
   {
    "duration": 746,
    "start_time": "2025-01-04T21:38:47.824Z"
   },
   {
    "duration": 3,
    "start_time": "2025-01-04T21:38:48.571Z"
   },
   {
    "duration": 747,
    "start_time": "2025-01-04T21:38:48.577Z"
   },
   {
    "duration": 374,
    "start_time": "2025-01-04T21:38:49.326Z"
   },
   {
    "duration": 376,
    "start_time": "2025-01-04T21:38:49.702Z"
   },
   {
    "duration": 386,
    "start_time": "2025-01-04T21:38:50.080Z"
   },
   {
    "duration": 342,
    "start_time": "2025-01-05T03:07:20.192Z"
   },
   {
    "duration": 24,
    "start_time": "2025-01-05T03:07:20.536Z"
   },
   {
    "duration": 2,
    "start_time": "2025-01-05T03:07:20.562Z"
   },
   {
    "duration": 6156,
    "start_time": "2025-01-05T03:07:20.567Z"
   },
   {
    "duration": 10,
    "start_time": "2025-01-05T03:07:26.725Z"
   },
   {
    "duration": 5,
    "start_time": "2025-01-05T03:07:26.736Z"
   },
   {
    "duration": 6,
    "start_time": "2025-01-05T03:07:26.742Z"
   },
   {
    "duration": 6,
    "start_time": "2025-01-05T03:07:26.750Z"
   },
   {
    "duration": 6,
    "start_time": "2025-01-05T03:07:26.757Z"
   },
   {
    "duration": 362,
    "start_time": "2025-01-05T03:07:26.766Z"
   },
   {
    "duration": 3,
    "start_time": "2025-01-05T03:07:27.130Z"
   },
   {
    "duration": 726,
    "start_time": "2025-01-05T03:07:27.135Z"
   },
   {
    "duration": 3,
    "start_time": "2025-01-05T03:07:27.862Z"
   },
   {
    "duration": 728,
    "start_time": "2025-01-05T03:07:27.867Z"
   },
   {
    "duration": 363,
    "start_time": "2025-01-05T03:07:28.597Z"
   },
   {
    "duration": 367,
    "start_time": "2025-01-05T03:07:28.962Z"
   },
   {
    "duration": 377,
    "start_time": "2025-01-05T03:07:29.331Z"
   },
   {
    "duration": 395,
    "start_time": "2025-01-05T03:08:29.619Z"
   },
   {
    "duration": 5,
    "start_time": "2025-01-05T03:22:10.527Z"
   },
   {
    "duration": 4,
    "start_time": "2025-01-05T03:22:39.747Z"
   },
   {
    "duration": 833,
    "start_time": "2025-01-05T03:23:07.059Z"
   },
   {
    "duration": 450,
    "start_time": "2025-01-05T03:23:32.025Z"
   },
   {
    "duration": 391,
    "start_time": "2025-01-05T03:23:43.812Z"
   },
   {
    "duration": 391,
    "start_time": "2025-01-05T03:23:55.075Z"
   },
   {
    "duration": 330,
    "start_time": "2025-01-05T03:25:00.190Z"
   },
   {
    "duration": 22,
    "start_time": "2025-01-05T03:25:00.522Z"
   },
   {
    "duration": 3,
    "start_time": "2025-01-05T03:25:00.545Z"
   },
   {
    "duration": 6119,
    "start_time": "2025-01-05T03:25:00.550Z"
   },
   {
    "duration": 12,
    "start_time": "2025-01-05T03:25:06.670Z"
   },
   {
    "duration": 5,
    "start_time": "2025-01-05T03:25:06.683Z"
   },
   {
    "duration": 5,
    "start_time": "2025-01-05T03:25:06.690Z"
   },
   {
    "duration": 6,
    "start_time": "2025-01-05T03:25:06.697Z"
   },
   {
    "duration": 7,
    "start_time": "2025-01-05T03:25:06.705Z"
   },
   {
    "duration": 360,
    "start_time": "2025-01-05T03:25:06.715Z"
   },
   {
    "duration": 2,
    "start_time": "2025-01-05T03:25:07.077Z"
   },
   {
    "duration": 721,
    "start_time": "2025-01-05T03:25:07.081Z"
   },
   {
    "duration": 3,
    "start_time": "2025-01-05T03:25:07.803Z"
   },
   {
    "duration": 723,
    "start_time": "2025-01-05T03:25:07.808Z"
   },
   {
    "duration": 360,
    "start_time": "2025-01-05T03:25:08.533Z"
   },
   {
    "duration": 364,
    "start_time": "2025-01-05T03:25:08.896Z"
   },
   {
    "duration": 390,
    "start_time": "2025-01-05T03:25:09.262Z"
   },
   {
    "duration": 387,
    "start_time": "2025-01-05T03:25:09.654Z"
   },
   {
    "duration": 4,
    "start_time": "2025-01-05T03:25:10.043Z"
   },
   {
    "duration": 389,
    "start_time": "2025-01-05T03:26:14.937Z"
   },
   {
    "duration": 389,
    "start_time": "2025-01-05T03:26:41.317Z"
   },
   {
    "duration": 389,
    "start_time": "2025-01-05T03:27:06.658Z"
   },
   {
    "duration": 750,
    "start_time": "2025-01-05T03:28:56.896Z"
   },
   {
    "duration": 862,
    "start_time": "2025-01-05T03:36:51.158Z"
   },
   {
    "duration": 5,
    "start_time": "2025-01-05T03:37:27.877Z"
   },
   {
    "duration": 4,
    "start_time": "2025-01-05T03:37:36.344Z"
   },
   {
    "duration": 361,
    "start_time": "2025-01-05T03:37:42.112Z"
   },
   {
    "duration": 435,
    "start_time": "2025-01-05T03:38:19.030Z"
   },
   {
    "duration": 435,
    "start_time": "2025-01-05T03:38:30.976Z"
   },
   {
    "duration": 362,
    "start_time": "2025-01-05T03:39:12.421Z"
   },
   {
    "duration": 440,
    "start_time": "2025-01-05T03:44:21.993Z"
   },
   {
    "duration": 441,
    "start_time": "2025-01-05T03:45:49.376Z"
   },
   {
    "duration": 439,
    "start_time": "2025-01-05T03:48:02.611Z"
   },
   {
    "duration": 384,
    "start_time": "2025-01-05T03:48:10.244Z"
   },
   {
    "duration": 367,
    "start_time": "2025-01-05T03:48:17.611Z"
   },
   {
    "duration": 384,
    "start_time": "2025-01-05T03:48:24.207Z"
   },
   {
    "duration": 384,
    "start_time": "2025-01-05T03:52:24.217Z"
   },
   {
    "duration": 386,
    "start_time": "2025-01-05T03:53:39.995Z"
   },
   {
    "duration": 435,
    "start_time": "2025-01-06T00:29:41.929Z"
   },
   {
    "duration": 25,
    "start_time": "2025-01-06T00:29:42.367Z"
   },
   {
    "duration": 2,
    "start_time": "2025-01-06T00:29:42.394Z"
   },
   {
    "duration": 6199,
    "start_time": "2025-01-06T00:29:42.398Z"
   },
   {
    "duration": 21,
    "start_time": "2025-01-06T00:29:48.599Z"
   },
   {
    "duration": 10,
    "start_time": "2025-01-06T00:29:48.622Z"
   },
   {
    "duration": 5,
    "start_time": "2025-01-06T00:29:48.634Z"
   },
   {
    "duration": 6,
    "start_time": "2025-01-06T00:29:48.641Z"
   },
   {
    "duration": 6,
    "start_time": "2025-01-06T00:29:48.648Z"
   },
   {
    "duration": 372,
    "start_time": "2025-01-06T00:29:48.657Z"
   },
   {
    "duration": 3,
    "start_time": "2025-01-06T00:29:49.032Z"
   },
   {
    "duration": 746,
    "start_time": "2025-01-06T00:29:49.036Z"
   },
   {
    "duration": 3,
    "start_time": "2025-01-06T00:29:49.783Z"
   },
   {
    "duration": 754,
    "start_time": "2025-01-06T00:29:49.788Z"
   },
   {
    "duration": 382,
    "start_time": "2025-01-06T00:29:50.544Z"
   },
   {
    "duration": 376,
    "start_time": "2025-01-06T00:29:50.928Z"
   },
   {
    "duration": 406,
    "start_time": "2025-01-06T00:29:51.306Z"
   },
   {
    "duration": 399,
    "start_time": "2025-01-06T00:29:52.132Z"
   },
   {
    "duration": 1215,
    "start_time": "2025-01-06T00:30:16.343Z"
   },
   {
    "duration": 867,
    "start_time": "2025-01-06T00:30:44.245Z"
   },
   {
    "duration": 863,
    "start_time": "2025-01-06T00:30:50.435Z"
   },
   {
    "duration": 921,
    "start_time": "2025-01-06T00:33:42.636Z"
   },
   {
    "duration": 1245,
    "start_time": "2025-01-06T00:34:34.545Z"
   },
   {
    "duration": 1213,
    "start_time": "2025-01-06T00:35:40.226Z"
   },
   {
    "duration": 747,
    "start_time": "2025-01-06T00:35:47.837Z"
   },
   {
    "duration": 745,
    "start_time": "2025-01-06T00:36:05.442Z"
   },
   {
    "duration": 864,
    "start_time": "2025-01-06T00:36:48.393Z"
   },
   {
    "duration": 865,
    "start_time": "2025-01-06T00:37:13.671Z"
   },
   {
    "duration": 1242,
    "start_time": "2025-01-06T00:37:23.546Z"
   },
   {
    "duration": 866,
    "start_time": "2025-01-06T00:38:08.642Z"
   },
   {
    "duration": 745,
    "start_time": "2025-01-06T00:38:17.191Z"
   },
   {
    "duration": 845,
    "start_time": "2025-01-06T00:39:05.854Z"
   },
   {
    "duration": 189,
    "start_time": "2025-01-06T01:35:25.904Z"
   },
   {
    "duration": 352,
    "start_time": "2025-01-06T01:35:31.919Z"
   },
   {
    "duration": 24,
    "start_time": "2025-01-06T01:35:32.273Z"
   },
   {
    "duration": 4,
    "start_time": "2025-01-06T01:35:32.298Z"
   },
   {
    "duration": 6504,
    "start_time": "2025-01-06T01:35:32.305Z"
   },
   {
    "duration": 10,
    "start_time": "2025-01-06T01:35:38.811Z"
   },
   {
    "duration": 5,
    "start_time": "2025-01-06T01:35:38.822Z"
   },
   {
    "duration": 6,
    "start_time": "2025-01-06T01:35:38.829Z"
   },
   {
    "duration": 5,
    "start_time": "2025-01-06T01:35:38.837Z"
   },
   {
    "duration": 5,
    "start_time": "2025-01-06T01:35:38.844Z"
   },
   {
    "duration": 385,
    "start_time": "2025-01-06T01:35:38.852Z"
   },
   {
    "duration": 3,
    "start_time": "2025-01-06T01:35:39.238Z"
   },
   {
    "duration": 768,
    "start_time": "2025-01-06T01:35:39.243Z"
   },
   {
    "duration": 3,
    "start_time": "2025-01-06T01:35:40.012Z"
   },
   {
    "duration": 771,
    "start_time": "2025-01-06T01:35:40.017Z"
   },
   {
    "duration": 383,
    "start_time": "2025-01-06T01:35:40.790Z"
   },
   {
    "duration": 386,
    "start_time": "2025-01-06T01:35:41.177Z"
   },
   {
    "duration": 408,
    "start_time": "2025-01-06T01:35:41.566Z"
   },
   {
    "duration": 872,
    "start_time": "2025-01-06T01:35:41.977Z"
   },
   {
    "duration": 0,
    "start_time": "2025-01-06T01:35:42.851Z"
   },
   {
    "duration": 386,
    "start_time": "2025-01-06T01:36:01.431Z"
   }
  ],
  "kernelspec": {
   "display_name": "Python 3 (ipykernel)",
   "language": "python",
   "name": "python3"
  },
  "language_info": {
   "codemirror_mode": {
    "name": "ipython",
    "version": 3
   },
   "file_extension": ".py",
   "mimetype": "text/x-python",
   "name": "python",
   "nbconvert_exporter": "python",
   "pygments_lexer": "ipython3",
   "version": "3.9.19"
  },
  "toc": {
   "base_numbering": 1,
   "nav_menu": {},
   "number_sections": true,
   "sideBar": true,
   "skip_h1_title": true,
   "title_cell": "Table of Contents",
   "title_sidebar": "Contents",
   "toc_cell": false,
   "toc_position": {
    "height": "calc(100% - 180px)",
    "left": "10px",
    "top": "150px",
    "width": "286.475px"
   },
   "toc_section_display": true,
   "toc_window_display": true
  }
 },
 "nbformat": 4,
 "nbformat_minor": 2
}
