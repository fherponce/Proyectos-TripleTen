{
 "cells": [
  {
   "cell_type": "markdown",
   "id": "3Xg_RQfnafXz",
   "metadata": {
    "id": "3Xg_RQfnafXz"
   },
   "source": [
    "# ¡Llena ese carrito!"
   ]
  },
  {
   "cell_type": "markdown",
   "id": "mhIvmmkW414q",
   "metadata": {
    "id": "mhIvmmkW414q"
   },
   "source": [
    "# Introducción\n",
    "\n",
    "Instacart es una plataforma de entregas de comestibles donde la clientela puede registrar un pedido y hacer que se lo entreguen, similar a Uber Eats y Door Dash.\n",
    "El conjunto de datos que te hemos proporcionado tiene modificaciones del original. Redujimos el tamaño del conjunto para que tus cálculos se hicieran más rápido e introdujimos valores ausentes y duplicados. Tuvimos cuidado de conservar las distribuciones de los datos originales cuando hicimos los cambios.\n",
    "\n",
    "Debes completar tres pasos. Para cada uno de ellos, escribe una breve introducción que refleje con claridad cómo pretendes resolver cada paso, y escribe párrafos explicatorios que justifiquen tus decisiones al tiempo que avanzas en tu solución.  También escribe una conclusión que resuma tus hallazgos y elecciones.\n"
   ]
  },
  {
   "cell_type": "markdown",
   "id": "3MbyzpOQZ5Or",
   "metadata": {
    "id": "3MbyzpOQZ5Or"
   },
   "source": [
    "## Diccionario de datos\n",
    "\n",
    "Hay cinco tablas en el conjunto de datos, y tendrás que usarlas todas para hacer el preprocesamiento de datos y el análisis exploratorio de datos. A continuación se muestra un diccionario de datos que enumera las columnas de cada tabla y describe los datos que contienen.\n",
    "\n",
    "- `instacart_orders.csv`: cada fila corresponde a un pedido en la aplicación Instacart.\n",
    "    - `'order_id'`: número de ID que identifica de manera única cada pedido.\n",
    "    - `'user_id'`: número de ID que identifica de manera única la cuenta de cada cliente.\n",
    "    - `'order_number'`: el número de veces que este cliente ha hecho un pedido.\n",
    "    - `'order_dow'`: día de la semana en que se hizo el pedido (0 si es domingo).\n",
    "    - `'order_hour_of_day'`: hora del día en que se hizo el pedido.\n",
    "    - `'days_since_prior_order'`: número de días transcurridos desde que este cliente hizo su pedido anterior.\n",
    "- `products.csv`: cada fila corresponde a un producto único que pueden comprar los clientes.\n",
    "    - `'product_id'`: número ID que identifica de manera única cada producto.\n",
    "    - `'product_name'`: nombre del producto.\n",
    "    - `'aisle_id'`: número ID que identifica de manera única cada categoría de pasillo de víveres.\n",
    "    - `'department_id'`: número ID que identifica de manera única cada departamento de víveres.\n",
    "- `order_products.csv`: cada fila corresponde a un artículo pedido en un pedido.\n",
    "    - `'order_id'`: número de ID que identifica de manera única cada pedido.\n",
    "    - `'product_id'`: número ID que identifica de manera única cada producto.\n",
    "    - `'add_to_cart_order'`: el orden secuencial en el que se añadió cada artículo en el carrito.\n",
    "    - `'reordered'`: 0 si el cliente nunca ha pedido este producto antes, 1 si lo ha pedido.\n",
    "- `aisles.csv`\n",
    "    - `'aisle_id'`: número ID que identifica de manera única cada categoría de pasillo de víveres.\n",
    "    - `'aisle'`: nombre del pasillo.\n",
    "- `departments.csv`\n",
    "    - `'department_id'`: número ID que identifica de manera única cada departamento de víveres.\n",
    "    - `'department'`: nombre del departamento."
   ]
  },
  {
   "cell_type": "markdown",
   "id": "n3Ha_cNSZ8lK",
   "metadata": {
    "id": "n3Ha_cNSZ8lK"
   },
   "source": [
    "# Paso 1. Descripción de los datos\n",
    "\n",
    "Lee los archivos de datos (`/datasets/instacart_orders.csv`, `/datasets/products.csv`, `/datasets/aisles.csv`, `/datasets/departments.csv` y `/datasets/order_products.csv`) con `pd.read_csv()` usando los parámetros adecuados para leer los datos correctamente. Verifica la información para cada DataFrame creado.\n"
   ]
  },
  {
   "cell_type": "markdown",
   "id": "OmlQPLlyaAfR",
   "metadata": {
    "id": "OmlQPLlyaAfR"
   },
   "source": [
    "## Plan de solución\n",
    "\n",
    "Escribe aquí tu plan de solución para el Paso 1. Descripción de los datos.\n",
    "\n",
    "**Al abrir los archivos en un editor de texto, se nota que los valores se separan por ';', por lo que es necesario agregar el parámetro sep=. \n",
    "Para que pandas identifique el encabezado como la primera línea con ayuda del parámetro header=. \n",
    "Por medio de info() mostraremos la informacion de cada DataFrame** "
   ]
  },
  {
   "cell_type": "code",
   "execution_count": 1,
   "id": "fbf1adab",
   "metadata": {
    "id": "fbf1adab"
   },
   "outputs": [],
   "source": [
    "import pandas as pd \n",
    "from matplotlib import pyplot as plt\n",
    "# importar librerías"
   ]
  },
  {
   "cell_type": "code",
   "execution_count": 2,
   "id": "ad36396d",
   "metadata": {
    "id": "ad36396d"
   },
   "outputs": [],
   "source": [
    "orders = pd.read_csv('/datasets/instacart_orders.csv', sep=';',header='infer')\n",
    "products = pd.read_csv('/datasets/products.csv', sep=';',header='infer')\n",
    "aisles = pd.read_csv('/datasets/aisles.csv', sep=';',header='infer')\n",
    "departments = pd.read_csv('/datasets/departments.csv', sep= ';', header='infer')\n",
    "order_products = pd.read_csv('/datasets/order_products.csv', sep=';', header='infer')# leer conjuntos de datos en los DataFrames"
   ]
  },
  {
   "cell_type": "code",
   "execution_count": 3,
   "id": "ad6a1efa",
   "metadata": {
    "id": "ad6a1efa"
   },
   "outputs": [
    {
     "name": "stdout",
     "output_type": "stream",
     "text": [
      "<class 'pandas.core.frame.DataFrame'>\n",
      "RangeIndex: 478967 entries, 0 to 478966\n",
      "Data columns (total 6 columns):\n",
      " #   Column                  Non-Null Count   Dtype  \n",
      "---  ------                  --------------   -----  \n",
      " 0   order_id                478967 non-null  int64  \n",
      " 1   user_id                 478967 non-null  int64  \n",
      " 2   order_number            478967 non-null  int64  \n",
      " 3   order_dow               478967 non-null  int64  \n",
      " 4   order_hour_of_day       478967 non-null  int64  \n",
      " 5   days_since_prior_order  450148 non-null  float64\n",
      "dtypes: float64(1), int64(5)\n",
      "memory usage: 21.9 MB\n",
      "\n",
      "15\n"
     ]
    }
   ],
   "source": [
    "orders.info()\n",
    "print()\n",
    "print(orders.duplicated().sum())# mostrar información del DataFrame"
   ]
  },
  {
   "cell_type": "code",
   "execution_count": 4,
   "id": "5130e05e",
   "metadata": {
    "id": "5130e05e"
   },
   "outputs": [
    {
     "name": "stdout",
     "output_type": "stream",
     "text": [
      "<class 'pandas.core.frame.DataFrame'>\n",
      "RangeIndex: 49694 entries, 0 to 49693\n",
      "Data columns (total 4 columns):\n",
      " #   Column         Non-Null Count  Dtype \n",
      "---  ------         --------------  ----- \n",
      " 0   product_id     49694 non-null  int64 \n",
      " 1   product_name   48436 non-null  object\n",
      " 2   aisle_id       49694 non-null  int64 \n",
      " 3   department_id  49694 non-null  int64 \n",
      "dtypes: int64(3), object(1)\n",
      "memory usage: 1.5+ MB\n",
      "\n",
      "0\n"
     ]
    }
   ],
   "source": [
    "products.info()\n",
    "print()\n",
    "print(products.duplicated().sum())# mostrar información del DataFrame"
   ]
  },
  {
   "cell_type": "code",
   "execution_count": 5,
   "id": "d8370c05",
   "metadata": {
    "id": "d8370c05"
   },
   "outputs": [
    {
     "name": "stdout",
     "output_type": "stream",
     "text": [
      "<class 'pandas.core.frame.DataFrame'>\n",
      "RangeIndex: 134 entries, 0 to 133\n",
      "Data columns (total 2 columns):\n",
      " #   Column    Non-Null Count  Dtype \n",
      "---  ------    --------------  ----- \n",
      " 0   aisle_id  134 non-null    int64 \n",
      " 1   aisle     134 non-null    object\n",
      "dtypes: int64(1), object(1)\n",
      "memory usage: 2.2+ KB\n",
      "\n",
      "0\n"
     ]
    }
   ],
   "source": [
    "aisles.info()\n",
    "print()\n",
    "print(aisles.duplicated().sum())# mostrar información del DataFrame"
   ]
  },
  {
   "cell_type": "code",
   "execution_count": 6,
   "id": "59e2090f",
   "metadata": {
    "id": "59e2090f"
   },
   "outputs": [
    {
     "name": "stdout",
     "output_type": "stream",
     "text": [
      "<class 'pandas.core.frame.DataFrame'>\n",
      "RangeIndex: 21 entries, 0 to 20\n",
      "Data columns (total 2 columns):\n",
      " #   Column         Non-Null Count  Dtype \n",
      "---  ------         --------------  ----- \n",
      " 0   department_id  21 non-null     int64 \n",
      " 1   department     21 non-null     object\n",
      "dtypes: int64(1), object(1)\n",
      "memory usage: 464.0+ bytes\n",
      "\n",
      "0\n"
     ]
    }
   ],
   "source": [
    "departments.info()\n",
    "print()\n",
    "print(departments.duplicated().sum())# mostrar información del DataFrame"
   ]
  },
  {
   "cell_type": "code",
   "execution_count": 7,
   "id": "6fc81694",
   "metadata": {
    "id": "6fc81694"
   },
   "outputs": [
    {
     "name": "stdout",
     "output_type": "stream",
     "text": [
      "<class 'pandas.core.frame.DataFrame'>\n",
      "RangeIndex: 4545007 entries, 0 to 4545006\n",
      "Data columns (total 4 columns):\n",
      " #   Column             Non-Null Count    Dtype  \n",
      "---  ------             --------------    -----  \n",
      " 0   order_id           4545007 non-null  int64  \n",
      " 1   product_id         4545007 non-null  int64  \n",
      " 2   add_to_cart_order  4544171 non-null  float64\n",
      " 3   reordered          4545007 non-null  int64  \n",
      "dtypes: float64(1), int64(3)\n",
      "memory usage: 138.7 MB\n",
      "\n",
      "0\n"
     ]
    }
   ],
   "source": [
    "order_products.info(show_counts=True)\n",
    "print()\n",
    "print(order_products.duplicated().sum())# mostrar información del DataFrame"
   ]
  },
  {
   "cell_type": "markdown",
   "id": "t75BD19oaR5f",
   "metadata": {
    "id": "t75BD19oaR5f"
   },
   "source": [
    "## Conclusiones\n",
    "\n",
    "\n",
    "**En el caso del DataFrame instacart_orders, solo tenemos valores ausentes en la columna de days_since_prior_order.**\n",
    "\n",
    "**Para el caso del DataFrame products, solo tenemos valores ausentes en la columna de product_name.**\n",
    "\n",
    "**En el caso de aisles y departments no tenemos valores ausentes.**\n",
    "\n",
    "**Y en el caso de order_products, solo la columna de add_to_cart_order tiene valores ausentes.**\n",
    "\n",
    "**Realizamos un primer vistazo para saber si tenemos filas completamente duplicadas.**\n"
   ]
  },
  {
   "cell_type": "markdown",
   "id": "8RJHqxVmaVsF",
   "metadata": {
    "id": "8RJHqxVmaVsF"
   },
   "source": [
    "# Paso 2. Preprocesamiento de los datos\n",
    "\n",
    "Preprocesa los datos de la siguiente manera:\n",
    "\n",
    "- Verifica y corrige los tipos de datos (por ejemplo, asegúrate de que las columnas de ID sean números enteros).\n",
    "- Identifica y completa los valores ausentes.\n",
    "- Identifica y elimina los valores duplicados.\n",
    "\n",
    "Asegúrate de explicar qué tipos de valores ausentes y duplicados encontraste, cómo los completaste o eliminaste y por qué usaste esos métodos. ¿Por qué crees que estos valores ausentes y duplicados pueden haber estado presentes en el conjunto de datos?"
   ]
  },
  {
   "cell_type": "markdown",
   "id": "p6poABZQaZYb",
   "metadata": {
    "id": "p6poABZQaZYb"
   },
   "source": [
    "## Plan de solución\n",
    "\n",
    "\n",
    "\n",
    "### Duplicados\n",
    "- **Para cualquiera de los DataFrames, primero usaremos el método duplicated().sum() para identificar filas completas duplicadas.**\n",
    "- **Segun sea el caso, será necesario verificar con el mismo método pero en una columna particular y significativa como las de valores ID que identifican de manera única a los valores, con la ayuda de subset=.**\n",
    "- **Dependiendo si es necesario, llamaremos a value_counts() para evaluar si hay valores mal escritos y que signifiquen algun valor duplicado**\n",
    "\n",
    "### Valores ausentes \n"
   ]
  },
  {
   "cell_type": "markdown",
   "id": "07357848-dc64-4156-9cc3-01ff4365226d",
   "metadata": {
    "id": "07357848-dc64-4156-9cc3-01ff4365226d"
   },
   "source": [
    "## Encuentra y elimina los valores duplicados (y describe cómo tomaste tus decisiones)."
   ]
  },
  {
   "cell_type": "markdown",
   "id": "f179f0a9",
   "metadata": {
    "id": "f179f0a9"
   },
   "source": [
    "### `orders` data frame"
   ]
  },
  {
   "cell_type": "code",
   "execution_count": 8,
   "id": "b99297a5-405a-463d-8535-9adc3da4ad74",
   "metadata": {
    "id": "b99297a5-405a-463d-8535-9adc3da4ad74"
   },
   "outputs": [
    {
     "name": "stdout",
     "output_type": "stream",
     "text": [
      "15\n"
     ]
    }
   ],
   "source": [
    "print(orders.duplicated().sum())# Revisa si hay pedidos duplicados\n"
   ]
  },
  {
   "cell_type": "code",
   "execution_count": 9,
   "id": "f2f0d499",
   "metadata": {},
   "outputs": [
    {
     "name": "stdout",
     "output_type": "stream",
     "text": [
      "15\n"
     ]
    }
   ],
   "source": [
    "print(orders.duplicated(subset=['order_id']).sum())"
   ]
  },
  {
   "cell_type": "markdown",
   "id": "PEkwUX_gvt5A",
   "metadata": {
    "id": "PEkwUX_gvt5A"
   },
   "source": [
    "¿Tienes líneas duplicadas? Si sí, ¿qué tienen en común?\n",
    "\n",
    "**Verificamos solo en la columna order_id ya que es la única que representa un error si hay dusplicados, ya que se pueden repetir los valores en las otras filas, y eso no significa que sea un duplicado a eliminar**"
   ]
  },
  {
   "cell_type": "code",
   "execution_count": 10,
   "id": "0d44de5d",
   "metadata": {
    "id": "0d44de5d"
   },
   "outputs": [
    {
     "name": "stdout",
     "output_type": "stream",
     "text": [
      "        order_id  user_id  order_number  order_dow  order_hour_of_day  \\\n",
      "4838     2766110   162084            41          3                  2   \n",
      "5156     2190225   138285            18          3                  2   \n",
      "15506     553049    58599            13          3                  2   \n",
      "18420     382357   120200            19          3                  2   \n",
      "24691     690242    77357             2          3                  2   \n",
      "...          ...      ...           ...        ...                ...   \n",
      "457013   3384021    14881             6          3                  2   \n",
      "458816    910166   164782            18          3                  2   \n",
      "459635   1680532   106435             6          3                  2   \n",
      "468324    222962    54979            59          3                  2   \n",
      "477526   2592344    46860            38          3                  2   \n",
      "\n",
      "        days_since_prior_order  \n",
      "4838                      16.0  \n",
      "5156                      11.0  \n",
      "15506                      7.0  \n",
      "18420                     11.0  \n",
      "24691                      9.0  \n",
      "...                        ...  \n",
      "457013                    30.0  \n",
      "458816                     4.0  \n",
      "459635                    21.0  \n",
      "468324                     3.0  \n",
      "477526                     3.0  \n",
      "\n",
      "[121 rows x 6 columns]\n"
     ]
    }
   ],
   "source": [
    "# Basándote en tus hallazgos,\n",
    "wednesday_orders_two_am = orders[(orders['order_dow'] == 3) & (orders['order_hour_of_day'] == 2)]\n",
    "print(wednesday_orders_two_am)# Verifica todos los pedidos que se hicieron el miércoles a las 2:00 a.m.\n"
   ]
  },
  {
   "cell_type": "markdown",
   "id": "vu2OWyoqwOx5",
   "metadata": {
    "id": "vu2OWyoqwOx5"
   },
   "source": [
    "¿Qué sugiere este resultado?"
   ]
  },
  {
   "cell_type": "code",
   "execution_count": 11,
   "id": "480563c7",
   "metadata": {
    "id": "480563c7"
   },
   "outputs": [],
   "source": [
    "orders = orders.drop_duplicates().reset_index(drop=True)\n",
    "# Elimina los pedidos duplicados"
   ]
  },
  {
   "cell_type": "code",
   "execution_count": 12,
   "id": "0b2396a2",
   "metadata": {
    "id": "0b2396a2"
   },
   "outputs": [
    {
     "name": "stdout",
     "output_type": "stream",
     "text": [
      "0\n"
     ]
    }
   ],
   "source": [
    "print(orders.duplicated().sum())# Vuelve a verificar si hay filas duplicadas\n"
   ]
  },
  {
   "cell_type": "code",
   "execution_count": 13,
   "id": "f6113ef1",
   "metadata": {
    "id": "f6113ef1"
   },
   "outputs": [
    {
     "name": "stdout",
     "output_type": "stream",
     "text": [
      "0\n"
     ]
    }
   ],
   "source": [
    "print(orders.duplicated(subset=['order_id']).sum())# Vuelve a verificar únicamente si hay IDs duplicados de pedidos\n"
   ]
  },
  {
   "cell_type": "markdown",
   "id": "5e8905ae",
   "metadata": {
    "id": "5e8905ae"
   },
   "source": [
    "Describe brevemente tus hallazgos y lo que hiciste con ellos\n",
    "\n",
    "**Se eliminaron las 15 filas duplicadas por completo, y volvimos a verificar si había duplicados en la columna de order_id, y ya se eliminaron por completo.** "
   ]
  },
  {
   "cell_type": "markdown",
   "id": "45e6bc46",
   "metadata": {
    "id": "45e6bc46"
   },
   "source": [
    "### `products` data frame"
   ]
  },
  {
   "cell_type": "code",
   "execution_count": 14,
   "id": "5f526b5b-8175-46fa-a0fd-441767d50e64",
   "metadata": {
    "id": "5f526b5b-8175-46fa-a0fd-441767d50e64"
   },
   "outputs": [
    {
     "name": "stdout",
     "output_type": "stream",
     "text": [
      "0\n"
     ]
    }
   ],
   "source": [
    "print(products.duplicated().sum())# Verifica si hay filas totalmente duplicadas"
   ]
  },
  {
   "cell_type": "code",
   "execution_count": 15,
   "id": "88daa4f4",
   "metadata": {
    "id": "88daa4f4"
   },
   "outputs": [
    {
     "name": "stdout",
     "output_type": "stream",
     "text": [
      "1     4008\n",
      "2      548\n",
      "3     1516\n",
      "4     1684\n",
      "5     1054\n",
      "6     1139\n",
      "7     4366\n",
      "8      972\n",
      "9     1858\n",
      "10      38\n",
      "11    6564\n",
      "12     907\n",
      "13    5372\n",
      "14    1117\n",
      "15    2092\n",
      "16    3449\n",
      "17    3085\n",
      "18    1081\n",
      "19    6264\n",
      "20    1322\n",
      "21    1258\n",
      "Name: department_id, dtype: int64\n",
      "\n",
      "49673\n"
     ]
    }
   ],
   "source": [
    "print(products['department_id'].value_counts(dropna=False).sort_index())\n",
    "print()\n",
    "print(products.duplicated(subset=['department_id']).sum())# Revisa únicamente si hay ID de departamentos duplicados"
   ]
  },
  {
   "cell_type": "code",
   "execution_count": 16,
   "id": "c773f0bf",
   "metadata": {
    "id": "c773f0bf"
   },
   "outputs": [
    {
     "name": "stdout",
     "output_type": "stream",
     "text": [
      "1361\n",
      "\n",
      "#2 COFFEE FILTERS                                                                             1\n",
      "#2 CONE WHITE COFFEE FILTERS                                                                  1\n",
      "#2 MECHANICAL PENCILS                                                                         1\n",
      "#4 NATURAL BROWN COFFEE FILTERS                                                               1\n",
      "& GO! HAZELNUT SPREAD + PRETZEL STICKS                                                        1\n",
      "                                                                                           ... \n",
      "\\\"IM PEI-NUT BUTTER\\\" DOUBLE CHOCOLATE COOKIE & PEANUT BUTTER ICE CREAM                       1\n",
      "\\\"LOUIS BA-KAHN\\\" CHOCOLATE CHIP COOKIE & BROWN BUTTER CANDIED BACON ICE CREAM SANDWICH       1\n",
      "\\\"MIES VANILLA ROHE\\\" ICE CREAM BARS                                                          1\n",
      "\\\"MOKACCINO\\\" MILK + BLUE BOTTLE COFFEE CHOCOLATE                                             1\n",
      "NaN                                                                                        1258\n",
      "Name: product_name, Length: 48333, dtype: int64\n"
     ]
    }
   ],
   "source": [
    "products['product_name'] = products['product_name'].str.upper()\n",
    "print(products.duplicated(subset=['product_name']).sum())\n",
    "print()\n",
    "print(products['product_name'].value_counts(dropna=False).sort_index())# Revisa únicamente si hay nombres duplicados de productos (convierte los nombres a letras mayúsculas para compararlos mejor)"
   ]
  },
  {
   "cell_type": "code",
   "execution_count": 17,
   "id": "01efd02e",
   "metadata": {
    "id": "01efd02e"
   },
   "outputs": [
    {
     "name": "stdout",
     "output_type": "stream",
     "text": [
      "0\n"
     ]
    }
   ],
   "source": [
    "print(products.duplicated(subset=['product_id']).sum())# Revisa si hay nombres duplicados de productos no faltantes"
   ]
  },
  {
   "cell_type": "code",
   "execution_count": 18,
   "id": "95b10a8c",
   "metadata": {},
   "outputs": [
    {
     "name": "stdout",
     "output_type": "stream",
     "text": [
      "104\n"
     ]
    }
   ],
   "source": [
    "not_missing_products = products[~(products['product_name'].isna())] \n",
    "not_missing_products2 = not_missing_products[not_missing_products['product_name'] != 'Unknown']\n",
    "print(not_missing_products2.duplicated(subset=['product_name']).sum())"
   ]
  },
  {
   "cell_type": "markdown",
   "id": "9da8d293",
   "metadata": {
    "id": "9da8d293"
   },
   "source": [
    "Describe brevemente tus hallazgos y lo que hiciste con ellos.\n",
    "\n",
    "- **Teniendo en cuenta que no hay filas que estén duplicadas por completo, y que en la columna de product_id no hay duplicados, podemos asumir que no hay duplicados en este DataFrame, ya que el product_id es el que identifica de manera única cada producto.**\n",
    "- **En el caso de department_id puede haber duplicados ya que varios productos pueden formar parte de un mismo departamento, y no significa que esté duplicado**\n"
   ]
  },
  {
   "cell_type": "markdown",
   "id": "60f30db1",
   "metadata": {
    "id": "60f30db1"
   },
   "source": [
    "### `departments` data frame"
   ]
  },
  {
   "cell_type": "code",
   "execution_count": 19,
   "id": "fb410ad4-0fbf-4b80-bb09-23fdea79afe3",
   "metadata": {
    "id": "fb410ad4-0fbf-4b80-bb09-23fdea79afe3"
   },
   "outputs": [
    {
     "name": "stdout",
     "output_type": "stream",
     "text": [
      "0\n"
     ]
    }
   ],
   "source": [
    "print(departments.duplicated().sum())# Revisa si hay filas totalmente duplicadas"
   ]
  },
  {
   "cell_type": "code",
   "execution_count": 20,
   "id": "332b12bb",
   "metadata": {
    "id": "332b12bb"
   },
   "outputs": [
    {
     "name": "stdout",
     "output_type": "stream",
     "text": [
      "0\n"
     ]
    }
   ],
   "source": [
    "print(departments.duplicated(subset=['department_id']).sum())# Revisa únicamente si hay IDs duplicadas de productos"
   ]
  },
  {
   "cell_type": "markdown",
   "id": "bd30d78e",
   "metadata": {
    "id": "bd30d78e"
   },
   "source": [
    "Describe brevemente tus hallazgos y lo que hiciste con ellos.\n",
    "\n",
    "- **Teniendo en cuenta que no tenemos filas completas duplicadas, y que el department_id tampoco tiene duplicados, podemos asumir que en este DataFrame no hay duplicados, ya que este número es el que identifica de manera única a cada departamento**\n"
   ]
  },
  {
   "cell_type": "markdown",
   "id": "889349c1",
   "metadata": {
    "id": "889349c1"
   },
   "source": [
    "### `aisles` data frame"
   ]
  },
  {
   "cell_type": "code",
   "execution_count": 21,
   "id": "9da89fb9-4679-40f5-ad0d-c34df753a3f8",
   "metadata": {
    "id": "9da89fb9-4679-40f5-ad0d-c34df753a3f8"
   },
   "outputs": [
    {
     "name": "stdout",
     "output_type": "stream",
     "text": [
      "0\n"
     ]
    }
   ],
   "source": [
    "print(aisles.duplicated().sum())# Revisa si hay filas totalmente duplicadas"
   ]
  },
  {
   "cell_type": "code",
   "execution_count": 22,
   "id": "da7c2822",
   "metadata": {
    "id": "da7c2822"
   },
   "outputs": [
    {
     "name": "stdout",
     "output_type": "stream",
     "text": [
      "0\n"
     ]
    }
   ],
   "source": [
    "print(aisles.duplicated(subset=['aisle_id']).sum())# Revisa únicamente si hay IDs duplicadas de productos"
   ]
  },
  {
   "cell_type": "markdown",
   "id": "ac63826f",
   "metadata": {
    "id": "ac63826f"
   },
   "source": [
    "Describe brevemente tus hallazgos y lo que hiciste con ellos.\n",
    "\n",
    "- **Teniendo en cuenta que no tenemos filas completas duplicadas, y que el aisle_id tampoco tiene duplicados, podemos asumir que en este DataFrame no hay duplicados, ya que este número es el que identifica de manera única a cada categoría de pasillo**\n"
   ]
  },
  {
   "cell_type": "markdown",
   "id": "274cd06a",
   "metadata": {
    "id": "274cd06a"
   },
   "source": [
    "### `order_products` data frame"
   ]
  },
  {
   "cell_type": "code",
   "execution_count": 23,
   "id": "52326689-84a8-4b8f-a881-7c68780f62c9",
   "metadata": {
    "id": "52326689-84a8-4b8f-a881-7c68780f62c9"
   },
   "outputs": [
    {
     "name": "stdout",
     "output_type": "stream",
     "text": [
      "0\n"
     ]
    }
   ],
   "source": [
    "print(order_products.duplicated().sum())# Revisa si hay filas totalmente duplicadas"
   ]
  },
  {
   "cell_type": "code",
   "execution_count": 24,
   "id": "7b861391",
   "metadata": {
    "id": "7b861391"
   },
   "outputs": [
    {
     "name": "stdout",
     "output_type": "stream",
     "text": [
      "4094961\n"
     ]
    }
   ],
   "source": [
    "print(order_products.duplicated(subset=['order_id']).sum())# Vuelve a verificar si hay cualquier otro duplicado engañoso"
   ]
  },
  {
   "cell_type": "code",
   "execution_count": 25,
   "id": "ec760e23",
   "metadata": {},
   "outputs": [
    {
     "name": "stdout",
     "output_type": "stream",
     "text": [
      "         order_id  product_id  add_to_cart_order  reordered\n",
      "2043091         4       34862                8.0          1\n",
      "1420535         4       10054                5.0          1\n",
      "1299531         4       32645               12.0          1\n",
      "311805          4       46842                1.0          0\n",
      "4107072         4       40285                9.0          1\n",
      "3189411         4       25146               11.0          1\n",
      "2834230         4       26434                2.0          1\n",
      "3977678         4       21351                6.0          1\n",
      "1295279         4       39758                3.0          1\n",
      "2507695         4       17616               10.0          1\n",
      "1169276         4       27761                4.0          1\n",
      "2502556         4       41276               13.0          1\n",
      "1172585         4       22598                7.0          1\n",
      "3310901         9       31506                8.0          1\n",
      "2585632         9       34203                6.0          1\n",
      "1094420         9        2014                4.0          1\n",
      "224509          9       11182                3.0          0\n",
      "907975          9        3990               14.0          1\n",
      "511765          9       29193                5.0          1\n",
      "3982278         9       21405                1.0          0\n"
     ]
    }
   ],
   "source": [
    "print(order_products.sort_values(by='order_id').head(20))"
   ]
  },
  {
   "cell_type": "markdown",
   "id": "0b890492",
   "metadata": {
    "id": "0b890492"
   },
   "source": [
    "Describe brevemente tus hallazgos y lo que hiciste con ellos.\n",
    "\n",
    "- **Al utilizar el método duplicated() a la columna de order_id, nos da un resultado que hace suponer que el 90% de los valores son duplicados, lo cual no tiene sentido.**\n",
    "- **Al llamar a sort_values, nos damos cuenta que el order_id se repite por cada producto que se ha ordenado.**\n",
    "- **Teniendo en cuenta que múltiples clientes pueden ordenar un mismo producto, no tiene sentido verificar si hay duplicados en la columna de product_id.**\n",
    "- **Y al verificar que no hay filas completamente duplicadas, podemos asumir que no hay duplicados en este DataFrame**"
   ]
  },
  {
   "cell_type": "markdown",
   "id": "1e46de76",
   "metadata": {
    "id": "1e46de76"
   },
   "source": [
    "## Encuentra y elimina los valores ausentes\n",
    "\n",
    "Al trabajar con valores duplicados, pudimos observar que también nos falta investigar valores ausentes:\n",
    "\n",
    "* La columna `'product_name'` de la tabla products.\n",
    "* La columna `'days_since_prior_order'` de la tabla orders.\n",
    "* La columna `'add_to_cart_order'` de la tabla order_productos."
   ]
  },
  {
   "cell_type": "markdown",
   "id": "c0aebd78",
   "metadata": {
    "id": "c0aebd78"
   },
   "source": [
    "### `products` data frame"
   ]
  },
  {
   "cell_type": "code",
   "execution_count": 26,
   "id": "fe4a8b0f",
   "metadata": {
    "id": "fe4a8b0f"
   },
   "outputs": [
    {
     "name": "stdout",
     "output_type": "stream",
     "text": [
      "       product_id product_name  aisle_id  department_id\n",
      "37             38          NaN       100             21\n",
      "71             72          NaN       100             21\n",
      "109           110          NaN       100             21\n",
      "296           297          NaN       100             21\n",
      "416           417          NaN       100             21\n",
      "...           ...          ...       ...            ...\n",
      "49552       49553          NaN       100             21\n",
      "49574       49575          NaN       100             21\n",
      "49640       49641          NaN       100             21\n",
      "49663       49664          NaN       100             21\n",
      "49668       49669          NaN       100             21\n",
      "\n",
      "[1258 rows x 4 columns]\n"
     ]
    }
   ],
   "source": [
    "print(products[products['product_name'].isna()]) # Encuentra los valores ausentes en la columna 'product_name'"
   ]
  },
  {
   "cell_type": "markdown",
   "id": "-A6x1AbJhjkp",
   "metadata": {
    "id": "-A6x1AbJhjkp"
   },
   "source": [
    "Describe brevemente cuáles son tus hallazgos.\n",
    "\n",
    "**Con la muestra que tenemos, podemos ver que los valores ausentes están en el pasillo 100 y pertenecen al departamento 21**"
   ]
  },
  {
   "cell_type": "code",
   "execution_count": 27,
   "id": "e96167bc",
   "metadata": {
    "id": "e96167bc"
   },
   "outputs": [
    {
     "name": "stdout",
     "output_type": "stream",
     "text": [
      "Empty DataFrame\n",
      "Columns: [product_id, product_name, aisle_id, department_id]\n",
      "Index: []\n"
     ]
    }
   ],
   "source": [
    "print(products[(products['product_name'].isna()) & (products['aisle_id'] != 100)])\n",
    "\n",
    "#  ¿Todos los nombres de productos ausentes están relacionados con el pasillo con ID 100?\n"
   ]
  },
  {
   "cell_type": "markdown",
   "id": "WRpIfXRphpSL",
   "metadata": {
    "id": "WRpIfXRphpSL"
   },
   "source": [
    "Describe brevemente cuáles son tus hallazgos.\n",
    "\n",
    "**Usando múltiples condiciones de filtrado, con la ayuda de isna() e identificando especificamente cualquier pasillo que sea desigual a 100, podemos deducir que todos los ausentes son del pasillo 100**"
   ]
  },
  {
   "cell_type": "code",
   "execution_count": 28,
   "id": "8fd0a541",
   "metadata": {
    "id": "8fd0a541"
   },
   "outputs": [
    {
     "name": "stdout",
     "output_type": "stream",
     "text": [
      "Empty DataFrame\n",
      "Columns: [product_id, product_name, aisle_id, department_id]\n",
      "Index: []\n"
     ]
    }
   ],
   "source": [
    "print(products[(products['product_name'].isna()) & (products['department_id'] != 21)])\n",
    "# ¿Todos los nombres de productos ausentes están relacionados con el departamento con ID 21?\n"
   ]
  },
  {
   "cell_type": "markdown",
   "id": "qDpdYn1Fht_I",
   "metadata": {
    "id": "qDpdYn1Fht_I"
   },
   "source": [
    "Describe brevemente cuáles son tus hallazgos.\n",
    "\n",
    "**Usando múltiples condiciones de filtrado, con la ayuda de isna() e identificando especificamente cualquier departamento que sea desigual a 21, podemos deducir que todos los ausentes son del departamento 21**"
   ]
  },
  {
   "cell_type": "code",
   "execution_count": 29,
   "id": "325c3464",
   "metadata": {
    "id": "325c3464"
   },
   "outputs": [
    {
     "name": "stdout",
     "output_type": "stream",
     "text": [
      "Empty DataFrame\n",
      "Columns: [product_id, product_name, aisle_id, department_id]\n",
      "Index: []\n"
     ]
    }
   ],
   "source": [
    "print(products[(products['aisle_id'] == 100) & (products['department_id'] == 21) & (~products['product_name'].isna())])\n",
    "# Usa las tablas department y aisle para revisar los datos del pasillo con ID 100 y el departamento con ID 21.\n"
   ]
  },
  {
   "cell_type": "markdown",
   "id": "nqhSTUPhhvEJ",
   "metadata": {
    "id": "nqhSTUPhhvEJ"
   },
   "source": [
    "Describe brevemente cuáles son tus hallazgos.\n",
    "\n",
    "**Verificando con el filtro de los valores del pasillo 100, del departamento 21 y buscando obtener si hay valores que NO sean ausentes, vemos que no los hay. Por lo que podemos deducir que todos los valores del departamento 21 en el pasillo 100 son valores ausentes** "
   ]
  },
  {
   "cell_type": "code",
   "execution_count": 30,
   "id": "6b295120",
   "metadata": {
    "id": "6b295120"
   },
   "outputs": [
    {
     "name": "stdout",
     "output_type": "stream",
     "text": [
      "       product_id product_name  aisle_id  department_id\n",
      "37             38      Unknown       100             21\n",
      "71             72      Unknown       100             21\n",
      "109           110      Unknown       100             21\n",
      "296           297      Unknown       100             21\n",
      "416           417      Unknown       100             21\n",
      "...           ...          ...       ...            ...\n",
      "49552       49553      Unknown       100             21\n",
      "49574       49575      Unknown       100             21\n",
      "49640       49641      Unknown       100             21\n",
      "49663       49664      Unknown       100             21\n",
      "49668       49669      Unknown       100             21\n",
      "\n",
      "[1258 rows x 4 columns]\n"
     ]
    }
   ],
   "source": [
    "products['product_name'] = products['product_name'].fillna('Unknown')\n",
    "print(products[(products['aisle_id'] == 100) & (products['department_id'] == 21)])\n",
    "# Completa los nombres de productos ausentes con 'Unknown'\n"
   ]
  },
  {
   "cell_type": "markdown",
   "id": "fc70e5ad",
   "metadata": {
    "id": "fc70e5ad"
   },
   "source": [
    "Describe brevemente tus hallazgos y lo que hiciste con ellos.\n",
    "\n",
    "**Con la ayuda del método fillna() sustituimos NaN por Unknown, y despues verificamos con los mismos filtros de pasillo 100 y departamento 21 para verificar el cambio.**"
   ]
  },
  {
   "cell_type": "markdown",
   "id": "7eb45c86",
   "metadata": {
    "id": "7eb45c86"
   },
   "source": [
    "### `orders` data frame"
   ]
  },
  {
   "cell_type": "code",
   "execution_count": 31,
   "id": "93e41d96",
   "metadata": {
    "id": "93e41d96"
   },
   "outputs": [
    {
     "name": "stdout",
     "output_type": "stream",
     "text": [
      "        order_id  user_id  order_number  order_dow  order_hour_of_day  \\\n",
      "28        133707   182261             1          3                 10   \n",
      "96        787445    25685             1          6                 18   \n",
      "100       294410   111449             1          0                 19   \n",
      "103      2869915   123958             1          4                 16   \n",
      "104      2521921    42286             1          3                 18   \n",
      "...          ...      ...           ...        ...                ...   \n",
      "478880   2589657   205028             1          0                 16   \n",
      "478881   2222353   141211             1          2                 13   \n",
      "478907   2272807   204154             1          1                 15   \n",
      "478911   2499542    68810             1          4                 19   \n",
      "478930   1387033    22496             1          5                 14   \n",
      "\n",
      "        days_since_prior_order  \n",
      "28                         NaN  \n",
      "96                         NaN  \n",
      "100                        NaN  \n",
      "103                        NaN  \n",
      "104                        NaN  \n",
      "...                        ...  \n",
      "478880                     NaN  \n",
      "478881                     NaN  \n",
      "478907                     NaN  \n",
      "478911                     NaN  \n",
      "478930                     NaN  \n",
      "\n",
      "[28817 rows x 6 columns]\n"
     ]
    }
   ],
   "source": [
    "print(orders[orders['days_since_prior_order'].isna()]) # Encuentra los valores ausentes"
   ]
  },
  {
   "cell_type": "code",
   "execution_count": 32,
   "id": "166e5a86",
   "metadata": {
    "id": "166e5a86"
   },
   "outputs": [
    {
     "name": "stdout",
     "output_type": "stream",
     "text": [
      "Empty DataFrame\n",
      "Columns: [order_id, user_id, order_number, order_dow, order_hour_of_day, days_since_prior_order]\n",
      "Index: []\n"
     ]
    }
   ],
   "source": [
    "print(orders[(orders['days_since_prior_order'].isna()) & (orders['order_number'] != 1)])# ¿Hay algún valor ausente que no sea el primer pedido del cliente?\n"
   ]
  },
  {
   "cell_type": "code",
   "execution_count": 33,
   "id": "bfdf7975",
   "metadata": {},
   "outputs": [
    {
     "name": "stdout",
     "output_type": "stream",
     "text": [
      "        order_id  user_id  order_number  order_dow  order_hour_of_day  \\\n",
      "28        133707   182261             1          3                 10   \n",
      "96        787445    25685             1          6                 18   \n",
      "100       294410   111449             1          0                 19   \n",
      "103      2869915   123958             1          4                 16   \n",
      "104      2521921    42286             1          3                 18   \n",
      "...          ...      ...           ...        ...                ...   \n",
      "478880   2589657   205028             1          0                 16   \n",
      "478881   2222353   141211             1          2                 13   \n",
      "478907   2272807   204154             1          1                 15   \n",
      "478911   2499542    68810             1          4                 19   \n",
      "478930   1387033    22496             1          5                 14   \n",
      "\n",
      "        days_since_prior_order  \n",
      "28                         NaN  \n",
      "96                         NaN  \n",
      "100                        NaN  \n",
      "103                        NaN  \n",
      "104                        NaN  \n",
      "...                        ...  \n",
      "478880                     NaN  \n",
      "478881                     NaN  \n",
      "478907                     NaN  \n",
      "478911                     NaN  \n",
      "478930                     NaN  \n",
      "\n",
      "[28817 rows x 6 columns]\n"
     ]
    }
   ],
   "source": [
    "print(orders[orders['order_number'] == 1])"
   ]
  },
  {
   "cell_type": "code",
   "execution_count": 34,
   "id": "c0f131e5",
   "metadata": {},
   "outputs": [
    {
     "name": "stdout",
     "output_type": "stream",
     "text": [
      "0.0      9589\n",
      "1.0     20179\n",
      "2.0     27138\n",
      "3.0     30224\n",
      "4.0     31006\n",
      "5.0     30096\n",
      "6.0     33930\n",
      "7.0     44577\n",
      "8.0     25361\n",
      "9.0     16753\n",
      "10.0    13309\n",
      "11.0    11467\n",
      "12.0    10658\n",
      "13.0    11737\n",
      "14.0    13992\n",
      "15.0     9416\n",
      "16.0     6587\n",
      "17.0     5498\n",
      "18.0     4971\n",
      "19.0     4939\n",
      "20.0     5302\n",
      "21.0     6448\n",
      "22.0     4514\n",
      "23.0     3337\n",
      "24.0     3015\n",
      "25.0     2711\n",
      "26.0     2640\n",
      "27.0     2986\n",
      "28.0     3745\n",
      "29.0     2673\n",
      "30.0    51337\n",
      "NaN     28817\n",
      "Name: days_since_prior_order, dtype: int64\n"
     ]
    }
   ],
   "source": [
    "print(orders['days_since_prior_order'].value_counts(dropna=False).sort_index())\n",
    "#verificamos si algun valor tiene decimales"
   ]
  },
  {
   "cell_type": "code",
   "execution_count": 35,
   "id": "6e7c3c31",
   "metadata": {},
   "outputs": [
    {
     "name": "stdout",
     "output_type": "stream",
     "text": [
      "0     38406\n",
      "1     20179\n",
      "2     27138\n",
      "3     30224\n",
      "4     31006\n",
      "5     30096\n",
      "6     33930\n",
      "7     44577\n",
      "8     25361\n",
      "9     16753\n",
      "10    13309\n",
      "11    11467\n",
      "12    10658\n",
      "13    11737\n",
      "14    13992\n",
      "15     9416\n",
      "16     6587\n",
      "17     5498\n",
      "18     4971\n",
      "19     4939\n",
      "20     5302\n",
      "21     6448\n",
      "22     4514\n",
      "23     3337\n",
      "24     3015\n",
      "25     2711\n",
      "26     2640\n",
      "27     2986\n",
      "28     3745\n",
      "29     2673\n",
      "30    51337\n",
      "Name: days_since_prior_order, dtype: int64\n"
     ]
    }
   ],
   "source": [
    "# cambiamos el valor de días en lugar de flotantes a enteros\n",
    "orders['days_since_prior_order'] = orders['days_since_prior_order'].fillna(0).astype('int')\n",
    "#verificamos el resultado\n",
    "print(orders['days_since_prior_order'].value_counts(dropna=False).sort_index())"
   ]
  },
  {
   "cell_type": "markdown",
   "id": "4e23d089",
   "metadata": {
    "id": "4e23d089"
   },
   "source": [
    "Describe brevemente tus hallazgos y lo que hiciste con ellos.\n",
    "\n",
    "- **Después de verificar si hay valores ausentes que no fueran el primer pedido del cliente, podemos deducir que todos los valores ausentes son porque eran el primer pedido del cliente y por eso no habían transcurrido días desde la última compra**\n",
    "- **Al generar un segundo filtro, para verificar cuál era el valor para cuando era la primera vez que hacían un pedido, vemos que no hay valores, por lo que lo ideal sería sustituir por 0 en los días transcurridos desde la primera orden**\n",
    "- **Finalmente verificamos si es seguro cambiar el tipo de valor a entero sin afectar los valores, con la ayuda de value_counts comprobamos que no tienen decimales.**\n",
    "- **El valor total de 0 ahora aumenta sumandose todos los valores ausentes**\n"
   ]
  },
  {
   "cell_type": "markdown",
   "id": "69dc9ca4",
   "metadata": {
    "id": "69dc9ca4"
   },
   "source": [
    "### `order_products` data frame"
   ]
  },
  {
   "cell_type": "code",
   "execution_count": 36,
   "id": "b8240253",
   "metadata": {
    "id": "b8240253"
   },
   "outputs": [
    {
     "name": "stdout",
     "output_type": "stream",
     "text": [
      "         order_id  product_id  add_to_cart_order  reordered\n",
      "737       2449164        5068                NaN          0\n",
      "9926      1968313       43867                NaN          0\n",
      "14394     2926893       11688                NaN          0\n",
      "16418     1717990        4142                NaN          0\n",
      "30114     1959075       42828                NaN          1\n",
      "...           ...         ...                ...        ...\n",
      "4505662   1800005        7411                NaN          0\n",
      "4511400   1633337         260                NaN          0\n",
      "4517562    404157        9517                NaN          0\n",
      "4534112   1673227       17835                NaN          0\n",
      "4535739   1832957       17949                NaN          1\n",
      "\n",
      "[836 rows x 4 columns]\n"
     ]
    }
   ],
   "source": [
    "print(order_products[order_products['add_to_cart_order'].isna()])# Encuentra los valores ausentes"
   ]
  },
  {
   "cell_type": "code",
   "execution_count": 37,
   "id": "9a78e5ee",
   "metadata": {
    "id": "9a78e5ee"
   },
   "outputs": [
    {
     "name": "stdout",
     "output_type": "stream",
     "text": [
      "1.0\n",
      "64.0\n"
     ]
    }
   ],
   "source": [
    "print(order_products['add_to_cart_order'].min())\n",
    "print(order_products['add_to_cart_order'].max())# ¿Cuáles son los valores mínimos y máximos en esta columna?\n"
   ]
  },
  {
   "cell_type": "markdown",
   "id": "-Z2Ja215jW78",
   "metadata": {
    "id": "-Z2Ja215jW78"
   },
   "source": [
    "Describe brevemente cuáles son tus hallazgos.\n",
    "\n",
    "**Comparado con los DataFrames anteriores, no podemos tener una idea clara que estos valores solo se presenten en alguna situación, ya que a pesar que vemos que en la columna reordered se repite el hecho que el cliente nunca ha pedido este producto antes, si hay valores que significan que sí lo ha pedido antes.**\n"
   ]
  },
  {
   "cell_type": "code",
   "execution_count": 38,
   "id": "ab9d0c2b",
   "metadata": {
    "id": "ab9d0c2b"
   },
   "outputs": [
    {
     "name": "stdout",
     "output_type": "stream",
     "text": [
      "737        2449164\n",
      "9926       1968313\n",
      "14394      2926893\n",
      "16418      1717990\n",
      "30114      1959075\n",
      "            ...   \n",
      "4505662    1800005\n",
      "4511400    1633337\n",
      "4517562     404157\n",
      "4534112    1673227\n",
      "4535739    1832957\n",
      "Name: order_id, Length: 836, dtype: int64\n"
     ]
    }
   ],
   "source": [
    "missing_cart_id = order_products[order_products['add_to_cart_order'].isna()]['order_id']\n",
    "print(missing_cart_id)\n",
    "# Guarda todas las IDs de pedidos que tengan un valor ausente en 'add_to_cart_order'"
   ]
  },
  {
   "cell_type": "code",
   "execution_count": 39,
   "id": "54c31695",
   "metadata": {
    "id": "54c31695"
   },
   "outputs": [
    {
     "name": "stdout",
     "output_type": "stream",
     "text": [
      "Empty DataFrame\n",
      "Columns: [order_id, product_id, add_to_cart_order, reordered]\n",
      "Index: []\n",
      "\n",
      "61355      63\n",
      "3308010    51\n",
      "2136777    44\n",
      "171934     40\n",
      "1959075    34\n",
      "           ..\n",
      "2652650     1\n",
      "2729254     1\n",
      "2621907     1\n",
      "888470      1\n",
      "1677118     1\n",
      "Name: order_id, Length: 70, dtype: int64\n",
      "\n",
      "1\n"
     ]
    }
   ],
   "source": [
    "more_products = order_products[(order_products['add_to_cart_order'] > 64) & (order_products['add_to_cart_order'] != 999) ]\n",
    "print(more_products)\n",
    "print()\n",
    "print(missing_cart_id.value_counts(dropna=False))\n",
    "print()\n",
    "# ¿Todos los pedidos con valores ausentes tienen más de 64 productos?\n",
    "# Agrupa todos los pedidos con datos ausentes por su ID de pedido.\n",
    "missing_orders = order_products.groupby('order_id')['product_id'].count()\n",
    "print(missing_orders.min())\n",
    "# Cuenta el número de 'product_id' en cada pedido y revisa el valor mínimo del conteo.\n"
   ]
  },
  {
   "cell_type": "markdown",
   "id": "p9V6pddtjglj",
   "metadata": {
    "id": "p9V6pddtjglj"
   },
   "source": [
    "Describe brevemente cuáles son tus hallazgos.\n",
    "\n",
    "- **Son 70 las ID de pedidos que tienen valores ausentes, las cuales tiene menos de 64 productos.**\n",
    "- **El valor mínimo de pedidos es 1**"
   ]
  },
  {
   "cell_type": "code",
   "execution_count": 40,
   "id": "7a987d08",
   "metadata": {
    "id": "7a987d08"
   },
   "outputs": [
    {
     "name": "stdout",
     "output_type": "stream",
     "text": [
      "1      450046\n",
      "2      428199\n",
      "3      401907\n",
      "4      372861\n",
      "5      341807\n",
      "        ...  \n",
      "61        114\n",
      "62         98\n",
      "63         87\n",
      "64         75\n",
      "999       836\n",
      "Name: add_to_cart_order, Length: 65, dtype: int64\n"
     ]
    }
   ],
   "source": [
    "order_products['add_to_cart_order'] = order_products['add_to_cart_order'].fillna(999).astype('int')\n",
    "print(order_products['add_to_cart_order'].value_counts(dropna=False).sort_index())\n",
    "# Remplaza los valores ausentes en la columna 'add_to_cart? con 999 y convierte la columna al tipo entero.\n"
   ]
  },
  {
   "cell_type": "markdown",
   "id": "fea4bcc7",
   "metadata": {
    "id": "fea4bcc7"
   },
   "source": [
    "Describe brevemente tus hallazgos y lo que hiciste con ellos.\n",
    "\n",
    "- **Para simplificar la verificación que los valores flotantes de add_to_cart_order no tuvieran decimales, imprimimos la lista, para poder ver todos los valores, usamos head() y tail().**\n",
    "- **Ahora hemos sustituido los valores ausentes por 999 y convertido en un valor entero para poder identificarlos manualmente**"
   ]
  },
  {
   "cell_type": "markdown",
   "id": "RnplPFY1gSrb",
   "metadata": {
    "id": "RnplPFY1gSrb"
   },
   "source": [
    "## Conclusiones\n",
    "\n",
    "Escribe aquí tus conclusiones intermedias sobre el Paso 2. Preprocesamiento de los datos\n",
    "\n",
    "- **Pudimos notar en el caso de 2 DataFrames que los valores ausentes tenían una razón particular, la cual nos fue de ayuda para poder sustituirlos.**\n",
    "- **Es de gran ayuda para identificar duplicados contar con al menos 1 columna de valores únicos que identifican un objeto específico.**\n",
    "- **Con ayuda de diferentes métodos como sort_values(), value_counts(), groupby(), entre otros, podemos filtrar, categorizar e identificar estos patrones.**\n",
    "\n"
   ]
  },
  {
   "cell_type": "markdown",
   "id": "UjrOIwTcz3ri",
   "metadata": {
    "id": "UjrOIwTcz3ri"
   },
   "source": [
    "# Paso 3. Análisis de los datos\n",
    "\n",
    "Una vez los datos estén procesados y listos, haz el siguiente análisis:"
   ]
  },
  {
   "cell_type": "markdown",
   "id": "turkish-kidney",
   "metadata": {
    "id": "turkish-kidney"
   },
   "source": [
    "# [A] Fácil (deben completarse todos para aprobar)\n",
    "\n",
    "1. Verifica que los valores en las columnas `'order_hour_of_day'` y `'order_dow'` en la tabla orders sean razonables (es decir, `'order_hour_of_day'` oscile entre 0 y 23 y `'order_dow'` oscile entre 0 y 6).\n",
    "2. Crea un gráfico que muestre el número de personas que hacen pedidos dependiendo de la hora del día.\n",
    "3. Crea un gráfico que muestre qué día de la semana la gente hace sus compras.\n",
    "4. Crea un gráfico que muestre el tiempo que la gente espera hasta hacer su siguiente pedido, y comenta sobre los valores mínimos y máximos."
   ]
  },
  {
   "cell_type": "markdown",
   "id": "short-capability",
   "metadata": {
    "id": "short-capability"
   },
   "source": [
    "### [A1] Verifica que los valores sean sensibles"
   ]
  },
  {
   "cell_type": "code",
   "execution_count": 41,
   "id": "growing-fruit",
   "metadata": {
    "id": "growing-fruit"
   },
   "outputs": [
    {
     "name": "stdout",
     "output_type": "stream",
     "text": [
      "0      3180\n",
      "1      1763\n",
      "2       989\n",
      "3       770\n",
      "4       765\n",
      "5      1371\n",
      "6      4215\n",
      "7     13043\n",
      "8     25024\n",
      "9     35896\n",
      "10    40578\n",
      "11    40032\n",
      "12    38034\n",
      "13    39007\n",
      "14    39631\n",
      "15    39789\n",
      "16    38112\n",
      "17    31930\n",
      "18    25510\n",
      "19    19547\n",
      "20    14624\n",
      "21    11019\n",
      "22     8512\n",
      "23     5611\n",
      "Name: order_hour_of_day, dtype: int64\n"
     ]
    }
   ],
   "source": [
    "print(orders['order_hour_of_day'].value_counts().sort_index())"
   ]
  },
  {
   "cell_type": "code",
   "execution_count": 42,
   "id": "accessory-malaysia",
   "metadata": {
    "id": "accessory-malaysia"
   },
   "outputs": [
    {
     "name": "stdout",
     "output_type": "stream",
     "text": [
      "[6 5 0 4 3 1 2]\n"
     ]
    }
   ],
   "source": [
    "print(orders['order_dow'].unique())"
   ]
  },
  {
   "cell_type": "markdown",
   "id": "hmR2GNQ6lCsX",
   "metadata": {
    "id": "hmR2GNQ6lCsX"
   },
   "source": [
    "Escribe aquí tus conclusiones\n",
    "\n",
    "**Tanto los valores de hora del día y del día de la semana corresponden con el valor esperado**"
   ]
  },
  {
   "cell_type": "markdown",
   "id": "a6743a70",
   "metadata": {
    "id": "a6743a70"
   },
   "source": [
    "### [A2] Para cada hora del día, ¿cuántas personas hacen órdenes?"
   ]
  },
  {
   "cell_type": "code",
   "execution_count": 43,
   "id": "a36cca27",
   "metadata": {
    "id": "a36cca27"
   },
   "outputs": [
    {
     "name": "stdout",
     "output_type": "stream",
     "text": [
      "order_hour_of_day\n",
      "0      3180\n",
      "1      1763\n",
      "2       989\n",
      "3       770\n",
      "4       765\n",
      "5      1371\n",
      "6      4215\n",
      "7     13043\n",
      "8     25024\n",
      "9     35896\n",
      "10    40578\n",
      "11    40032\n",
      "12    38034\n",
      "13    39007\n",
      "14    39631\n",
      "15    39789\n",
      "16    38112\n",
      "17    31930\n",
      "18    25510\n",
      "19    19547\n",
      "20    14624\n",
      "21    11019\n",
      "22     8512\n",
      "23     5611\n",
      "Name: user_id, dtype: int64\n"
     ]
    },
    {
     "data": {
      "image/png": "[encoded data removed]",
      "text/plain": [
       "<Figure size 640x480 with 1 Axes>"
      ]
     },
     "metadata": {},
     "output_type": "display_data"
    }
   ],
   "source": [
    "graph_orders_hour = orders.groupby('order_hour_of_day')['user_id'].count()\n",
    "print(graph_orders_hour)\n",
    "\n",
    "graph_orders_hour.plot(x= 'order_hour_of_day',\n",
    "            y= 'user_id',\n",
    "            title = 'Amount of orders depending on the hour',\n",
    "            xlabel= 'Hour of the day (24hrs)',\n",
    "            ylabel= 'Amount of orders',\n",
    "            kind= 'bar',\n",
    "            ylim = [0,50000],\n",
    "            xlim= [-1,24]\n",
    "           )\n",
    "plt.show()"
   ]
  },
  {
   "cell_type": "markdown",
   "id": "11270eed",
   "metadata": {
    "id": "11270eed"
   },
   "source": [
    "###### Escribe aquí tus conclusiones\n",
    "\n",
    "- **La hora en la que más se hacen pedidos es a las 10am**\n",
    "- **En el rango de las 9am a las 4pm los pedidos son mayores de 35,000**\n",
    "- **La hora con menos pedidos es a las 4am**"
   ]
  },
  {
   "cell_type": "markdown",
   "id": "documented-command",
   "metadata": {
    "id": "documented-command"
   },
   "source": [
    "### [A3] ¿Qué día de la semana compran víveres las personas?"
   ]
  },
  {
   "cell_type": "code",
   "execution_count": 44,
   "id": "7d3dfcd5",
   "metadata": {},
   "outputs": [
    {
     "name": "stdout",
     "output_type": "stream",
     "text": [
      "order_dow\n",
      "0    84090\n",
      "1    82185\n",
      "2    65833\n",
      "3    60897\n",
      "4    59810\n",
      "5    63488\n",
      "6    62649\n",
      "Name: user_id, dtype: int64\n"
     ]
    },
    {
     "data": {
      "image/png": "[encoded data removed]",
      "text/plain": [
       "<Figure size 640x480 with 1 Axes>"
      ]
     },
     "metadata": {},
     "output_type": "display_data"
    }
   ],
   "source": [
    "weekday_orders = orders.groupby('order_dow')['user_id'].count()\n",
    "print(weekday_orders)\n",
    "\n",
    "weekday_orders.plot(x= 'order_dow',\n",
    "            y= 'order_id',\n",
    "            title = 'Amount of buyers depending on the day of the week',\n",
    "            xlabel= 'Weekday (0 is sunday)',\n",
    "            ylabel= 'Amount of buyers',\n",
    "            kind= 'bar',\n",
    "            ylim = [0,90000],\n",
    "            xlim= [-1,7]\n",
    "           )\n",
    "plt.show()"
   ]
  },
  {
   "cell_type": "markdown",
   "id": "dominant-lightning",
   "metadata": {
    "id": "dominant-lightning"
   },
   "source": [
    "Escribe aquí tus conclusiones\n",
    "\n",
    "- **El día en el que se hacen más pedidos es en domingo.**\n",
    "- **El día en el que se hacen menos pedidos es el jueves.**"
   ]
  },
  {
   "cell_type": "markdown",
   "id": "cutting-concert",
   "metadata": {
    "id": "cutting-concert"
   },
   "source": [
    "### [A4] ¿Cuánto tiempo esperan las personas hasta hacer otro pedido? Comenta sobre los valores mínimos y máximos."
   ]
  },
  {
   "cell_type": "code",
   "execution_count": 45,
   "id": "c231f523",
   "metadata": {
    "id": "c231f523"
   },
   "outputs": [
    {
     "name": "stdout",
     "output_type": "stream",
     "text": [
      "days_since_prior_order\n",
      "0     38406\n",
      "1     20179\n",
      "2     27138\n",
      "3     30224\n",
      "4     31006\n",
      "5     30096\n",
      "6     33930\n",
      "7     44577\n",
      "8     25361\n",
      "9     16753\n",
      "10    13309\n",
      "11    11467\n",
      "12    10658\n",
      "13    11737\n",
      "14    13992\n",
      "15     9416\n",
      "16     6587\n",
      "17     5498\n",
      "18     4971\n",
      "19     4939\n",
      "20     5302\n",
      "21     6448\n",
      "22     4514\n",
      "23     3337\n",
      "24     3015\n",
      "25     2711\n",
      "26     2640\n",
      "27     2986\n",
      "28     3745\n",
      "29     2673\n",
      "30    51337\n",
      "Name: user_id, dtype: int64\n",
      "\n",
      "El tiempo mínimo es: 2640\n",
      "El tiempo máximo es: 51337\n"
     ]
    },
    {
     "data": {
      "image/png": "[encoded data removed]",
      "text/plain": [
       "<Figure size 640x480 with 1 Axes>"
      ]
     },
     "metadata": {},
     "output_type": "display_data"
    }
   ],
   "source": [
    "wait_time_bet_orders = orders.groupby('days_since_prior_order')['user_id'].count()\n",
    "print(wait_time_bet_orders)\n",
    "print()\n",
    "print(\"El tiempo mínimo es:\", wait_time_bet_orders.min())\n",
    "print(\"El tiempo máximo es:\", wait_time_bet_orders.max())\n",
    "\n",
    "wait_time_bet_orders.plot(x= 'days_since_prior_order',\n",
    "            y= 'user_id',\n",
    "            title = 'Amount of days clients wait to make another order',\n",
    "            xlabel= 'Number of days ',\n",
    "            ylabel= 'Amount of clients',\n",
    "            kind= 'bar',\n",
    "            ylim = [0,55000],\n",
    "            xlim= [-1,31]\n",
    "           )\n",
    "plt.show()"
   ]
  },
  {
   "cell_type": "markdown",
   "id": "discrete-vertex",
   "metadata": {
    "id": "discrete-vertex"
   },
   "source": [
    "Escribe aquí tus conclusiones\n",
    "\n",
    "- **El número máximo de días que esperan los clientes es de 30 días**\n",
    "- **El número mínimo que muestra que menos clientes han esperado es de 26 días**\n",
    "- **En este caso, el hecho que 0 tenga un valor alto hace suponer que el cliente no esperó para realizar una siguiente compra, sin embargo como habíamos analizado previamente, muchos de los clientes que era la primera vez que habían comprado aparecerían bajo el 0, por lo que a menos que generemos un filtro en cuanto a la primera vez de compra, no podemos asumir** \n",
    "- **La mayoría de los clientes espera 30 días para realizar su siguiente pedido, podemos deducir que realizan sus compras mensuales, en lugar de semanales o quincenales.**"
   ]
  },
  {
   "cell_type": "markdown",
   "id": "tight-staff",
   "metadata": {
    "id": "tight-staff"
   },
   "source": [
    "# [B] Intermedio (deben completarse todos para aprobar)\n",
    "\n",
    "1. ¿Existe alguna diferencia entre las distribuciones `'order_hour_of_day'` de los miércoles y los sábados? Traza gráficos de barra de `'order_hour_of_day'` para ambos días en la misma figura y describe las diferencias que observes.\n",
    "2. Grafica la distribución para el número de órdenes que hacen los clientes (es decir, cuántos clientes hicieron solo 1 pedido, cuántos hicieron 2, cuántos 3, y así sucesivamente...).\n",
    "3. ¿Cuáles son los 20 principales productos que se piden con más frecuencia (muestra su identificación y nombre)?"
   ]
  },
  {
   "cell_type": "markdown",
   "id": "packed-classic",
   "metadata": {
    "id": "packed-classic"
   },
   "source": [
    "### [B1] Diferencia entre miércoles y sábados para  `'order_hour_of_day'`. Traza gráficos de barra para los dos días y describe las diferencias que veas."
   ]
  },
  {
   "cell_type": "code",
   "execution_count": 46,
   "id": "d89b8403",
   "metadata": {
    "id": "d89b8403"
   },
   "outputs": [
    {
     "name": "stdout",
     "output_type": "stream",
     "text": [
      "    wednesday_orders  saturday_orders\n",
      "0                373              464\n",
      "1                215              254\n",
      "2                106              177\n",
      "3                101              125\n",
      "4                108              118\n",
      "5                170              161\n",
      "6                643              451\n",
      "7               1732             1619\n",
      "8               3125             3246\n",
      "9               4490             4311\n",
      "10              5026             4919\n",
      "11              5004             5116\n",
      "12              4688             5132\n",
      "13              4674             5323\n",
      "14              4774             5375\n",
      "15              5163             5188\n",
      "16              4976             5029\n",
      "17              4175             4295\n",
      "18              3463             3338\n",
      "19              2652             2610\n",
      "20              1917             1847\n",
      "21              1450             1473\n",
      "22              1154             1185\n",
      "23               718              893\n",
      "60897 62649\n"
     ]
    },
    {
     "data": {
      "image/png": "[encoded data removed]",
      "text/plain": [
       "<Figure size 640x480 with 1 Axes>"
      ]
     },
     "metadata": {},
     "output_type": "display_data"
    }
   ],
   "source": [
    "wednesday_orders = orders[orders['order_dow'] == 3]['order_hour_of_day']\n",
    "wednesday_orders = wednesday_orders.value_counts().sort_index()\n",
    "\n",
    "saturday_orders = orders[orders['order_dow'] == 6]['order_hour_of_day']\n",
    "saturday_orders = saturday_orders.value_counts().sort_index()\n",
    "\n",
    "wed_and_sat_orders = pd.concat([wednesday_orders, saturday_orders], axis='columns')\n",
    "wed_and_sat_orders.columns = ['wednesday_orders','saturday_orders']\n",
    "print(wed_and_sat_orders)\n",
    "print(wed_and_sat_orders['wednesday_orders'].sum(), wed_and_sat_orders['saturday_orders'].sum())\n",
    "\n",
    "wed_and_sat_orders.plot(\n",
    "                       y= ['wednesday_orders', 'saturday_orders'],\n",
    "                       title= 'Difference in orders between wednesday and saturday',\n",
    "                       xlabel= 'Hour of the day',\n",
    "                       ylabel= 'Amount of orders',\n",
    "                       kind='bar',\n",
    "                       )\n",
    "plt.legend(['Wednesday', 'Saturday'])\n",
    "plt.show()\n"
   ]
  },
  {
   "cell_type": "markdown",
   "id": "charitable-congo",
   "metadata": {
    "id": "charitable-congo"
   },
   "source": [
    "Escribe aquí tus conclusiones\n",
    "\n",
    "- **El valor más alto de ordenes fue en día Sábado a las 14hrs**\n",
    "- **La hora con más ordenes del día miércoles fue a las 15hrs**\n",
    "- **El sábado tiene más ordenes que el miércoles**\n",
    "- **Las horas con mayor monto de compra son de las 9am a las 17hrs en ambos días**\n",
    "- **Las horas con menor monto de compra son de las 12am a las 5am en ambos días**\n"
   ]
  },
  {
   "cell_type": "markdown",
   "id": "e3891143",
   "metadata": {
    "id": "e3891143"
   },
   "source": [
    "### [B2] ¿Cuál es la distribución para el número de pedidos por cliente?"
   ]
  },
  {
   "cell_type": "code",
   "execution_count": 47,
   "id": "94e54e8a",
   "metadata": {
    "id": "94e54e8a"
   },
   "outputs": [
    {
     "name": "stdout",
     "output_type": "stream",
     "text": [
      "order_number\n",
      "1      28817\n",
      "2      28633\n",
      "3      28685\n",
      "4      28703\n",
      "5      25661\n",
      "       ...  \n",
      "96       220\n",
      "97       221\n",
      "98       191\n",
      "99       169\n",
      "100      194\n",
      "Name: user_id, Length: 100, dtype: int64\n"
     ]
    },
    {
     "data": {
      "image/png": "[encoded data removed]",
      "text/plain": [
       "<Figure size 640x480 with 1 Axes>"
      ]
     },
     "metadata": {},
     "output_type": "display_data"
    }
   ],
   "source": [
    "distribution_orders = orders.groupby('order_number')['user_id'].count()\n",
    "print(distribution_orders)\n",
    "\n",
    "distribution_orders.plot( x= 'order_number',\n",
    "                       title= 'Number of orders the clients have made',\n",
    "                       xlabel= 'Number of orders',\n",
    "                       ylabel= 'Amount of clients',\n",
    "                       kind='line',\n",
    "                       xlim=[0,101])\n",
    "plt.show()\n",
    "\n"
   ]
  },
  {
   "cell_type": "markdown",
   "id": "d2eff7d5",
   "metadata": {
    "id": "d2eff7d5"
   },
   "source": [
    "Escribe aquí tus conclusiones\n",
    "\n",
    "- **El número mayor de clientes han hecho compras por primera vez**\n",
    "- **El rango de clientes que han hecho una segunda, tercera compra aumenta a los que han hecho una cuarta compra**\n",
    "- **EL número mínimo de clientes que han vuelto a hacer compras es de 99 compras, ya que incluso de 100 veces es mayor que de 99 veces.**"
   ]
  },
  {
   "cell_type": "markdown",
   "id": "54a0319c",
   "metadata": {
    "id": "54a0319c"
   },
   "source": [
    "### [B3] ¿Cuáles son los 20 productos más populares (muestra su ID y nombre)?"
   ]
  },
  {
   "cell_type": "code",
   "execution_count": 48,
   "id": "exterior-arizona",
   "metadata": {
    "id": "exterior-arizona",
    "scrolled": true
   },
   "outputs": [
    {
     "name": "stdout",
     "output_type": "stream",
     "text": [
      "product_id  product_name            \n",
      "24852       BANANA                      66050\n",
      "13176       BAG OF ORGANIC BANANAS      53297\n",
      "21137       ORGANIC STRAWBERRIES        37039\n",
      "21903       ORGANIC BABY SPINACH        33971\n",
      "47209       ORGANIC HASS AVOCADO        29773\n",
      "47766       ORGANIC AVOCADO             24689\n",
      "47626       LARGE LEMON                 21495\n",
      "16797       STRAWBERRIES                20018\n",
      "26209       LIMES                       19690\n",
      "27845       ORGANIC WHOLE MILK          19600\n",
      "27966       ORGANIC RASPBERRIES         19197\n",
      "22935       ORGANIC YELLOW ONION        15898\n",
      "24964       ORGANIC GARLIC              15292\n",
      "45007       ORGANIC ZUCCHINI            14584\n",
      "39275       ORGANIC BLUEBERRIES         13879\n",
      "49683       CUCUMBER KIRBY              13675\n",
      "28204       ORGANIC FUJI APPLE          12544\n",
      "5876        ORGANIC LEMON               12232\n",
      "8277        APPLE HONEYCRISP ORGANIC    11993\n",
      "40706       ORGANIC GRAPE TOMATOES      11781\n",
      "Name: order_id, dtype: int64\n"
     ]
    }
   ],
   "source": [
    "products_merged = order_products.merge(products, on='product_id') \n",
    "#unimos los DataFrames de products ya que ahí tenemos el nombre de los productos con order_products\n",
    "\n",
    "sorted_products = products_merged.groupby(['product_id','product_name'])['order_id'].count()\n",
    "#filtramos las dos columnas que nos interesan y contamos los valores de las ordenes\n",
    "\n",
    "popular_products = sorted_products.sort_values(ascending=False)\n",
    "#identificamos los 20 productos más populares\n",
    "\n",
    "print(popular_products.head(20))\n"
   ]
  },
  {
   "cell_type": "markdown",
   "id": "7df00f47",
   "metadata": {
    "id": "7df00f47"
   },
   "source": [
    "Escribe aquí tus conclusiones\n",
    "\n",
    "- **Los plátanos son los productos más ordenados**\n",
    "- **Podemos confirmar que los 20 productos más populares son frutas y vegetales**\n",
    "- **El 65% de los productos más populares son orgánicos**"
   ]
  },
  {
   "cell_type": "markdown",
   "id": "gross-theme",
   "metadata": {
    "id": "gross-theme"
   },
   "source": [
    "# [C] Difícil (deben completarse todos para aprobar)\n",
    "\n",
    "1. ¿Cuántos artículos suelen comprar las personas en un pedido? ¿Cómo es la distribución?\n",
    "2. ¿Cuáles son los 20 principales artículos que vuelven a pedirse con mayor frecuencia (muestra sus nombres e IDs de los productos)?\n",
    "3. Para cada producto, ¿cuál es la tasa de repetición del pedido (número de repeticiones de pedido/total de pedidos?\n",
    "4. Para cada cliente, ¿qué proporción de los productos que pidió ya los había pedido? Calcula la tasa de repetición de pedido para cada usuario en lugar de para cada producto.\n",
    "5. ¿Cuáles son los 20 principales artículos que la gente pone primero en sus carritos (muestra las IDs de los productos, sus nombres, y el número de veces en que fueron el primer artículo en añadirse al carrito)?"
   ]
  },
  {
   "cell_type": "markdown",
   "id": "romantic-deposit",
   "metadata": {
    "id": "romantic-deposit"
   },
   "source": [
    "### [C1] ¿Cuántos artículos compran normalmente las personas en un pedido? ¿Cómo es la distribución?"
   ]
  },
  {
   "cell_type": "code",
   "execution_count": 49,
   "id": "virtual-punch",
   "metadata": {
    "id": "virtual-punch"
   },
   "outputs": [
    {
     "name": "stdout",
     "output_type": "stream",
     "text": [
      "Las personas compran normalmente 6.011580110711614 artículos en un pedido\n"
     ]
    }
   ],
   "source": [
    "articles_merged = order_products.merge(orders, on= 'order_id')\n",
    "#unimos los DataFrames para obtener la columna de user_id\n",
    "\n",
    "articles_buyer = articles_merged.groupby(['user_id'])['add_to_cart_order'].mean()\n",
    "#organizamos por medio de usuario y sacamos el promedio de cada usuario para saber cuántos productos lleva en cada carrito  \n",
    "\n",
    "articles_buyer_mean = articles_buyer.mean()\n",
    "#sacamos el promedio de todos los clientes \n",
    "print('Las personas compran normalmente {} artículos en un pedido'.format(articles_buyer_mean))"
   ]
  },
  {
   "cell_type": "code",
   "execution_count": 50,
   "id": "sensitive-breathing",
   "metadata": {
    "id": "sensitive-breathing"
   },
   "outputs": [
    {
     "name": "stdout",
     "output_type": "stream",
     "text": [
      "14.0\n",
      "\n",
      "user_id\n",
      "206203    14.000000\n",
      "206206     2.285714\n",
      "206207     5.695652\n",
      "206208     8.464000\n",
      "206209     7.240000\n",
      "Name: add_to_cart_order, dtype: float64\n"
     ]
    }
   ],
   "source": [
    "example = articles_merged[articles_merged['user_id'] == 206203]['add_to_cart_order'].mean()\n",
    "print(example)\n",
    "print()\n",
    "print(articles_buyer.tail())#hacer una prueba que el código si está generando el promedio por persona \n"
   ]
  },
  {
   "cell_type": "code",
   "execution_count": 51,
   "id": "completed-frank",
   "metadata": {
    "id": "completed-frank"
   },
   "outputs": [
    {
     "data": {
      "image/png": "[encoded data removed]",
      "text/plain": [
       "<Figure size 640x480 with 1 Axes>"
      ]
     },
     "metadata": {},
     "output_type": "display_data"
    }
   ],
   "source": [
    "articles_buyer.plot(title= 'Amount of articles the clients buy in one order',\n",
    "                       xlabel= 'Clients',\n",
    "                       ylabel= 'Amount of articles',\n",
    "                       kind='line',\n",
    "                       xlim=[0,500],\n",
    "                       ylim=[0,25])\n",
    "plt.show()\n",
    "\n"
   ]
  },
  {
   "cell_type": "markdown",
   "id": "designed-mortality",
   "metadata": {
    "id": "designed-mortality"
   },
   "source": [
    "Escribe aquí tus conclusiones\n",
    "\n",
    "- **Podemos ver que el promedio de clientes ordenan 6 artículos en cada pedido.**\n",
    "- **Al graficar vemos que el rango va principalmente entre 3 hasta 10 artículos**"
   ]
  },
  {
   "cell_type": "markdown",
   "id": "5e6b5537",
   "metadata": {
    "id": "5e6b5537"
   },
   "source": [
    "### [C2] ¿Cuáles son los 20 principales artículos que vuelven a pedirse con mayor frecuencia (muestra sus nombres e IDs de los productos)?"
   ]
  },
  {
   "cell_type": "code",
   "execution_count": 52,
   "id": "9374e55a",
   "metadata": {
    "id": "9374e55a"
   },
   "outputs": [
    {
     "name": "stdout",
     "output_type": "stream",
     "text": [
      "product_id  product_name            \n",
      "24852       BANANA                      55763\n",
      "13176       BAG OF ORGANIC BANANAS      44450\n",
      "21137       ORGANIC STRAWBERRIES        28639\n",
      "21903       ORGANIC BABY SPINACH        26233\n",
      "47209       ORGANIC HASS AVOCADO        23629\n",
      "47766       ORGANIC AVOCADO             18743\n",
      "27845       ORGANIC WHOLE MILK          16251\n",
      "47626       LARGE LEMON                 15044\n",
      "27966       ORGANIC RASPBERRIES         14748\n",
      "16797       STRAWBERRIES                13945\n",
      "26209       LIMES                       13327\n",
      "22935       ORGANIC YELLOW ONION        11145\n",
      "24964       ORGANIC GARLIC              10411\n",
      "45007       ORGANIC ZUCCHINI            10076\n",
      "49683       CUCUMBER KIRBY               9538\n",
      "28204       ORGANIC FUJI APPLE           8989\n",
      "8277        APPLE HONEYCRISP ORGANIC     8836\n",
      "39275       ORGANIC BLUEBERRIES          8799\n",
      "5876        ORGANIC LEMON                8412\n",
      "49235       ORGANIC HALF & HALF          8389\n",
      "dtype: int64\n"
     ]
    }
   ],
   "source": [
    "#products_merged = union de products y order_products\n",
    "frequent_products = products_merged.query(\"reordered == 1\")[['product_id','product_name']]\n",
    "most_frequent_products = frequent_products.value_counts()\n",
    "print(most_frequent_products.head(20))\n"
   ]
  },
  {
   "cell_type": "markdown",
   "id": "80e70c74",
   "metadata": {
    "id": "80e70c74"
   },
   "source": [
    "Escribe aquí tus conclusiones\n",
    "\n",
    "- **Vemos nuevamente al plátano como el artículo que se reordena más veces**\n",
    "- **A pesar que el 95% de la lista se repite con respecto a los artículos más populares, el producto *ORGANIC HALF & HALF* no estaba en la lista de los 20 más populares, sin embargo si es uno de los que más se reordena.**\n",
    "- **La cantidad entre los plátanos y la bolsa de plátanos orgánicos comparado con los demás productos, practicamente es la cantidad de los productos en las posiciones 10 a 20**"
   ]
  },
  {
   "cell_type": "markdown",
   "id": "9d312b14",
   "metadata": {
    "id": "9d312b14"
   },
   "source": [
    "### [C3] Para cada producto, ¿cuál es la proporción de las veces que se pide y que se vuelve a pedir?"
   ]
  },
  {
   "cell_type": "code",
   "execution_count": 53,
   "id": "8ae9f4b1",
   "metadata": {
    "id": "8ae9f4b1"
   },
   "outputs": [
    {
     "name": "stdout",
     "output_type": "stream",
     "text": [
      "0 Si el cliente nunca ha pedido este producto antes, 1 si lo ha pedido.\n",
      "\n",
      "reordered                                              0      1\n",
      "product_name                                                   \n",
      "VEGGIE WASH                                         25.0   15.0\n",
      "LITTLESNUG SZ                                        1.0    NaN\n",
      "HEMP SEED OIL                                        2.0    NaN\n",
      "SUGAR FREE  CLASSIC CARAMEL FLAVORING SYRUP          2.0    2.0\n",
      "T BONE STEAK                                         1.0    NaN\n",
      "NATURAL PEANUT BUTTER CRUNCHY AND FLAXSEED          44.0   49.0\n",
      "CHOCOLATE CHEERIOS CEREAL                           46.0   36.0\n",
      "BODY AND BATH OIL - LEMON & VITAMIN E                3.0    NaN\n",
      "RAVIOLI- FIVE CHEESE- VALUE PACK                     8.0    NaN\n",
      "MISO RAMEN                                           1.0    NaN\n",
      "ORGANIC CAESAR SALAD                                 3.0    1.0\n",
      "GARLIC MINI LOAF                                     4.0    5.0\n",
      "FIG & CARDAMON CANDLE                                1.0    NaN\n",
      "ORGANIC UNBLEACHED BREAD FLOUR                      88.0   75.0\n",
      "ARUGULA- KALE- APPLE- ROMAINE- CELERY- CUCUMBER...  67.0  122.0\n",
      "DOG FOOD- ADULT- GRAIN-FREE- BEEF TRIPE & CHICK...   NaN    2.0\n",
      "FLAT ANCHOVIES IN OLIVE OIL                          5.0    NaN\n",
      "WOOD CLOTHESPINS                                     4.0    NaN\n",
      "SWEET SPIRULINA SPROUTED BAR                        13.0   19.0\n",
      "100% WHOLE GROUND ORGANIC GOLDEN FLAXSEED MEAL      53.0   10.0\n"
     ]
    }
   ],
   "source": [
    "#products_merged = union de products y order_products\n",
    "pivot_products = products_merged.pivot_table(index='product_name',\n",
    "                            columns='reordered',\n",
    "                            values='order_id',\n",
    "                            aggfunc='count'\n",
    "                           )\n",
    "print('0 Si el cliente nunca ha pedido este producto antes, 1 si lo ha pedido.')\n",
    "print()\n",
    "print(pivot_products.sample(20))"
   ]
  },
  {
   "cell_type": "markdown",
   "id": "I10dEIAyldcO",
   "metadata": {
    "id": "I10dEIAyldcO"
   },
   "source": [
    "Escribe aquí tus conclusiones\n",
    "\n",
    "- **Vemos en la tabla dinámica algunos valores ausentes, ya sea en el caso de haber comprado antes o no**\n",
    "- **Los artículos que aparecen con datos ausentes en si lo volvieron a comprar, podemos suponer que no fueron de su agrado, pues su número de ordenes no exceden las 10 ordenes.**"
   ]
  },
  {
   "cell_type": "markdown",
   "id": "subject-boxing",
   "metadata": {
    "id": "subject-boxing"
   },
   "source": [
    "### [C4] Para cada cliente, ¿qué proporción de sus productos ya los había pedido?"
   ]
  },
  {
   "cell_type": "code",
   "execution_count": 54,
   "id": "medical-couple",
   "metadata": {
    "id": "medical-couple",
    "scrolled": true
   },
   "outputs": [
    {
     "name": "stdout",
     "output_type": "stream",
     "text": [
      "user_id\n",
      "2         0.038462\n",
      "4              NaN\n",
      "5         0.666667\n",
      "6              NaN\n",
      "7         0.928571\n",
      "            ...   \n",
      "206203    0.222222\n",
      "206206    0.714286\n",
      "206207    0.891304\n",
      "206208    0.696000\n",
      "206209    0.320000\n",
      "Name: product_id, Length: 149626, dtype: float64\n",
      "\n",
      "El promedio de la tasa de repetición es 0.556751215911923\n"
     ]
    }
   ],
   "source": [
    "# articles_merged = union de orders y order_products\n",
    "clients_orders = articles_merged[['reordered','user_id','product_id']]\n",
    "\n",
    "client_orders2 = clients_orders.groupby('user_id')['product_id'].count()\n",
    "client_repeated = clients_orders.query(\"reordered == 1\").groupby('user_id')['product_id'].count()\n",
    "\n",
    "clients_proportion = client_repeated / client_orders2\n",
    "print(clients_proportion)\n",
    "print()\n",
    "print('El promedio de la tasa de repetición es',clients_proportion.mean())"
   ]
  },
  {
   "cell_type": "code",
   "execution_count": 55,
   "id": "44553750",
   "metadata": {},
   "outputs": [
    {
     "data": {
      "image/png": "[encoded data removed]",
      "text/plain": [
       "<Figure size 640x480 with 1 Axes>"
      ]
     },
     "metadata": {},
     "output_type": "display_data"
    }
   ],
   "source": [
    "clients_proportion.plot(title= 'Proportion of clients that repeat a product',\n",
    "                       xlabel= 'Clients',\n",
    "                       ylabel= 'Proportion',\n",
    "                       kind='line',\n",
    "                       xlim=[0,500],\n",
    "                       ylim=[0,1.2])\n",
    "plt.show()\n"
   ]
  },
  {
   "cell_type": "markdown",
   "id": "BgJSvXDsleXz",
   "metadata": {
    "id": "BgJSvXDsleXz"
   },
   "source": [
    "Escribe aquí tus conclusiones\n",
    "\n",
    "- **El promedio de la tasa de repetición es 0.55, lo que significa que del total de los pedidos que hace un cliente, la mitad ya la ha ordenado antes**"
   ]
  },
  {
   "cell_type": "markdown",
   "id": "92d35137",
   "metadata": {
    "id": "92d35137"
   },
   "source": [
    "### [C5] ¿Cuáles son los 20 principales artículos que las personas ponen primero en sus carritos?"
   ]
  },
  {
   "cell_type": "code",
   "execution_count": 56,
   "id": "0ae57274",
   "metadata": {
    "id": "0ae57274",
    "scrolled": false
   },
   "outputs": [
    {
     "name": "stdout",
     "output_type": "stream",
     "text": [
      "product_name\n",
      "BANANA                         15562\n",
      "BAG OF ORGANIC BANANAS         11026\n",
      "ORGANIC WHOLE MILK              4363\n",
      "ORGANIC STRAWBERRIES            3946\n",
      "ORGANIC HASS AVOCADO            3390\n",
      "ORGANIC BABY SPINACH            3336\n",
      "ORGANIC AVOCADO                 3044\n",
      "SPRING WATER                    2336\n",
      "STRAWBERRIES                    2308\n",
      "ORGANIC RASPBERRIES             2024\n",
      "SPARKLING WATER GRAPEFRUIT      1914\n",
      "ORGANIC HALF & HALF             1797\n",
      "LARGE LEMON                     1737\n",
      "SODA                            1733\n",
      "ORGANIC REDUCED FAT MILK        1397\n",
      "LIMES                           1370\n",
      "HASS AVOCADOS                   1340\n",
      "ORGANIC REDUCED FAT 2% MILK     1310\n",
      "HALF & HALF                     1309\n",
      "ORGANIC YELLOW ONION            1246\n",
      "Name: order_id, dtype: int64\n"
     ]
    }
   ],
   "source": [
    "#products_merged = union de products y order_products\n",
    "first_article = products_merged.query(\"add_to_cart_order == 1\").groupby('product_name')['order_id'].count()\n",
    "print(first_article.sort_values(ascending=False).head(20))"
   ]
  },
  {
   "cell_type": "markdown",
   "id": "28ce9872",
   "metadata": {
    "id": "28ce9872"
   },
   "source": [
    "Escribe aquí tus conclusiones\n",
    "\n",
    "- **Nuevamente vemos en primer lugar a plátano como el producto que los clientes ponen en primer lugar en su carrito**\n",
    "- **Sin embargo, comparando con los 20 productos más populares y con los que se vuelven a pedir, tenemos ahora entre los primeros 20 a las bebidas, las cuales representan el 40%, un cambio bastante notable**"
   ]
  },
  {
   "cell_type": "markdown",
   "id": "uITbFCEoDosC",
   "metadata": {
    "id": "uITbFCEoDosC"
   },
   "source": [
    "### Conclusion general del proyecto:"
   ]
  },
  {
   "cell_type": "markdown",
   "id": "1c4c7bbc",
   "metadata": {
    "id": "Nk-4GS7mDwqY"
   },
   "source": [
    "- **La hora del día y el día influye en el monto de compras, lo cual puede ser determinante al momento de generar publicidad y/o descuentos**\n",
    "- **Teniendo en cuenta que los clientes vuelven a comprar hasta 4 veces, talvez se puede implementar una promoción para una quinta compra**\n",
    "- **Los plátanos y las bolsas de plátanos orgánicos son los productos más populares, que se repiten con mayor frecuencia y que los clientes colocan en primer lugar en su carrito, habría que evaluar el por qué, para poder replicar en otros artículos**\n",
    "- **Sabemos que la mayoría de los clientes realizan sus compras mensuales, por lo que podemos especular varias cosas, los clientes mayormente compran víveres duraderos, y/o la fecha de vencimiento de algunos perecederos es más duradera que en otros comercios.**\n",
    "- **Los clientes prefieren productos organicos**\n",
    "\n"
   ]
  },
  {
   "cell_type": "code",
   "execution_count": null,
   "id": "9d1fc685",
   "metadata": {},
   "outputs": [],
   "source": []
  }
 ],
 "metadata": {
  "ExecuteTimeLog": [
   {
    "duration": 479,
    "start_time": "2024-05-20T01:12:21.321Z"
   },
   {
    "duration": 6,
    "start_time": "2024-05-20T01:22:56.184Z"
   },
   {
    "duration": 8,
    "start_time": "2024-05-20T01:23:27.846Z"
   },
   {
    "duration": 6,
    "start_time": "2024-05-20T01:23:50.629Z"
   },
   {
    "duration": 1720,
    "start_time": "2024-05-20T01:24:24.717Z"
   },
   {
    "duration": 7,
    "start_time": "2024-05-20T01:26:22.589Z"
   },
   {
    "duration": 1670,
    "start_time": "2024-05-20T01:31:34.414Z"
   },
   {
    "duration": 19,
    "start_time": "2024-05-20T01:31:37.970Z"
   },
   {
    "duration": 14,
    "start_time": "2024-05-20T01:31:49.651Z"
   },
   {
    "duration": 16,
    "start_time": "2024-05-20T01:31:55.368Z"
   },
   {
    "duration": 16,
    "start_time": "2024-05-20T01:32:01.984Z"
   },
   {
    "duration": 14,
    "start_time": "2024-05-20T01:32:05.622Z"
   },
   {
    "duration": 1479,
    "start_time": "2024-05-20T01:33:16.548Z"
   },
   {
    "duration": 16,
    "start_time": "2024-05-20T01:33:21.308Z"
   },
   {
    "duration": 16,
    "start_time": "2024-05-20T01:33:23.375Z"
   },
   {
    "duration": 16,
    "start_time": "2024-05-20T01:33:25.519Z"
   },
   {
    "duration": 16,
    "start_time": "2024-05-20T01:33:27.307Z"
   },
   {
    "duration": 19,
    "start_time": "2024-05-20T01:33:29.334Z"
   },
   {
    "duration": 12,
    "start_time": "2024-05-20T01:33:42.730Z"
   },
   {
    "duration": 35,
    "start_time": "2024-05-20T01:37:12.242Z"
   },
   {
    "duration": 1495,
    "start_time": "2024-05-20T01:45:10.928Z"
   },
   {
    "duration": 19,
    "start_time": "2024-05-20T01:45:13.597Z"
   },
   {
    "duration": 23,
    "start_time": "2024-05-20T01:45:16.398Z"
   },
   {
    "duration": 16,
    "start_time": "2024-05-20T01:45:18.697Z"
   },
   {
    "duration": 14,
    "start_time": "2024-05-20T01:45:21.745Z"
   },
   {
    "duration": 49,
    "start_time": "2024-05-20T01:45:23.986Z"
   },
   {
    "duration": 150,
    "start_time": "2024-05-20T01:50:40.563Z"
   },
   {
    "duration": 79,
    "start_time": "2024-05-20T01:56:35.442Z"
   },
   {
    "duration": 35,
    "start_time": "2024-05-20T01:56:55.498Z"
   },
   {
    "duration": 90,
    "start_time": "2024-05-20T01:57:57.682Z"
   },
   {
    "duration": 340,
    "start_time": "2024-05-20T02:03:11.051Z"
   },
   {
    "duration": 24,
    "start_time": "2024-05-20T02:03:36.595Z"
   },
   {
    "duration": 24,
    "start_time": "2024-05-20T02:03:46.292Z"
   },
   {
    "duration": 24,
    "start_time": "2024-05-20T02:04:42.117Z"
   },
   {
    "duration": 24,
    "start_time": "2024-05-20T02:04:49.154Z"
   },
   {
    "duration": 15,
    "start_time": "2024-05-20T02:07:41.202Z"
   },
   {
    "duration": 22,
    "start_time": "2024-05-20T02:12:22.805Z"
   },
   {
    "duration": 128,
    "start_time": "2024-05-20T02:12:32.829Z"
   },
   {
    "duration": 147,
    "start_time": "2024-05-20T02:12:39.447Z"
   },
   {
    "duration": 158,
    "start_time": "2024-05-20T02:19:31.023Z"
   },
   {
    "duration": 144,
    "start_time": "2024-05-20T02:19:31.185Z"
   },
   {
    "duration": 67,
    "start_time": "2024-05-20T02:21:34.843Z"
   },
   {
    "duration": 20,
    "start_time": "2024-05-20T02:25:16.166Z"
   },
   {
    "duration": 23,
    "start_time": "2024-05-20T02:29:13.354Z"
   },
   {
    "duration": 21,
    "start_time": "2024-05-20T02:29:18.064Z"
   },
   {
    "duration": 5,
    "start_time": "2024-05-20T02:29:26.762Z"
   },
   {
    "duration": 5,
    "start_time": "2024-05-20T02:29:32.714Z"
   },
   {
    "duration": 22,
    "start_time": "2024-05-20T02:31:05.524Z"
   },
   {
    "duration": 23,
    "start_time": "2024-05-20T02:31:10.676Z"
   },
   {
    "duration": 6,
    "start_time": "2024-05-20T02:31:19.974Z"
   },
   {
    "duration": 6,
    "start_time": "2024-05-20T02:32:01.016Z"
   },
   {
    "duration": 8,
    "start_time": "2024-05-20T02:33:35.114Z"
   },
   {
    "duration": 8,
    "start_time": "2024-05-20T02:34:43.588Z"
   },
   {
    "duration": 7,
    "start_time": "2024-05-20T02:35:26.615Z"
   },
   {
    "duration": 26,
    "start_time": "2024-05-20T02:37:30.458Z"
   },
   {
    "duration": 10,
    "start_time": "2024-05-20T02:37:42.361Z"
   },
   {
    "duration": 48,
    "start_time": "2024-05-20T02:42:06.346Z"
   },
   {
    "duration": 129,
    "start_time": "2024-05-20T02:45:20.218Z"
   },
   {
    "duration": 9,
    "start_time": "2024-05-20T02:50:09.485Z"
   },
   {
    "duration": 161,
    "start_time": "2024-05-20T02:53:13.865Z"
   },
   {
    "duration": 5,
    "start_time": "2024-05-20T03:04:19.653Z"
   },
   {
    "duration": 8,
    "start_time": "2024-05-20T03:05:02.925Z"
   },
   {
    "duration": 5,
    "start_time": "2024-05-20T03:08:01.099Z"
   },
   {
    "duration": 5,
    "start_time": "2024-05-20T03:08:06.894Z"
   },
   {
    "duration": 6,
    "start_time": "2024-05-20T03:08:10.111Z"
   },
   {
    "duration": 1263,
    "start_time": "2024-05-20T03:09:28.831Z"
   },
   {
    "duration": 359,
    "start_time": "2024-05-20T03:10:36.014Z"
   },
   {
    "duration": 1024,
    "start_time": "2024-05-20T03:17:19.934Z"
   },
   {
    "duration": 1354,
    "start_time": "2024-05-20T03:18:56.553Z"
   },
   {
    "duration": 14,
    "start_time": "2024-05-20T03:42:21.464Z"
   },
   {
    "duration": 27,
    "start_time": "2024-05-20T03:44:57.923Z"
   },
   {
    "duration": 10,
    "start_time": "2024-05-20T03:45:04.177Z"
   },
   {
    "duration": 9,
    "start_time": "2024-05-20T03:45:21.250Z"
   },
   {
    "duration": 14,
    "start_time": "2024-05-20T03:45:28.735Z"
   },
   {
    "duration": 9,
    "start_time": "2024-05-20T03:45:34.079Z"
   },
   {
    "duration": 9,
    "start_time": "2024-05-20T03:47:20.127Z"
   },
   {
    "duration": 12,
    "start_time": "2024-05-20T03:51:41.951Z"
   },
   {
    "duration": 17,
    "start_time": "2024-05-20T03:52:44.959Z"
   },
   {
    "duration": 9,
    "start_time": "2024-05-20T03:53:01.247Z"
   },
   {
    "duration": 14,
    "start_time": "2024-05-20T03:53:12.964Z"
   },
   {
    "duration": 9,
    "start_time": "2024-05-20T03:53:16.857Z"
   },
   {
    "duration": 10,
    "start_time": "2024-05-20T03:54:25.473Z"
   },
   {
    "duration": 11,
    "start_time": "2024-05-20T03:56:09.120Z"
   },
   {
    "duration": 10,
    "start_time": "2024-05-20T03:56:17.525Z"
   },
   {
    "duration": 16,
    "start_time": "2024-05-20T04:01:28.628Z"
   },
   {
    "duration": 13,
    "start_time": "2024-05-20T04:02:53.894Z"
   },
   {
    "duration": 7,
    "start_time": "2024-05-20T04:05:16.666Z"
   },
   {
    "duration": 12,
    "start_time": "2024-05-20T04:09:32.660Z"
   },
   {
    "duration": 8,
    "start_time": "2024-05-20T04:10:26.259Z"
   },
   {
    "duration": 446,
    "start_time": "2024-05-20T04:13:41.757Z"
   },
   {
    "duration": 14,
    "start_time": "2024-05-20T04:13:56.440Z"
   },
   {
    "duration": 8,
    "start_time": "2024-05-20T04:14:22.762Z"
   },
   {
    "duration": 14,
    "start_time": "2024-05-20T04:14:47.823Z"
   },
   {
    "duration": 14,
    "start_time": "2024-05-20T04:17:36.229Z"
   },
   {
    "duration": 13,
    "start_time": "2024-05-20T04:17:42.117Z"
   },
   {
    "duration": 31,
    "start_time": "2024-05-20T04:21:22.545Z"
   },
   {
    "duration": 1210,
    "start_time": "2024-05-20T04:21:31.067Z"
   },
   {
    "duration": 277,
    "start_time": "2024-05-20T04:23:04.380Z"
   },
   {
    "duration": 16,
    "start_time": "2024-05-20T04:26:25.774Z"
   },
   {
    "duration": 100,
    "start_time": "2024-05-20T04:27:51.309Z"
   },
   {
    "duration": 16,
    "start_time": "2024-05-20T04:31:42.118Z"
   },
   {
    "duration": 14,
    "start_time": "2024-05-20T04:35:43.131Z"
   },
   {
    "duration": 45,
    "start_time": "2024-05-20T04:36:43.802Z"
   },
   {
    "duration": 5,
    "start_time": "2024-05-20T04:48:28.714Z"
   },
   {
    "duration": 5,
    "start_time": "2024-05-20T04:48:52.569Z"
   },
   {
    "duration": 26,
    "start_time": "2024-05-20T04:49:19.592Z"
   },
   {
    "duration": 176,
    "start_time": "2024-05-20T04:52:05.099Z"
   },
   {
    "duration": 23,
    "start_time": "2024-05-20T05:01:41.389Z"
   },
   {
    "duration": 5,
    "start_time": "2024-05-20T05:06:18.647Z"
   },
   {
    "duration": 13,
    "start_time": "2024-05-20T05:07:11.257Z"
   },
   {
    "duration": 11,
    "start_time": "2024-05-20T05:07:15.928Z"
   },
   {
    "duration": 95,
    "start_time": "2024-05-20T05:11:04.944Z"
   },
   {
    "duration": 118,
    "start_time": "2024-05-20T05:16:06.100Z"
   },
   {
    "duration": 529,
    "start_time": "2024-05-20T05:16:30.601Z"
   },
   {
    "duration": 537,
    "start_time": "2024-05-20T05:16:48.222Z"
   },
   {
    "duration": 1509,
    "start_time": "2024-05-20T05:19:28.605Z"
   },
   {
    "duration": 11,
    "start_time": "2024-05-20T05:19:37.723Z"
   },
   {
    "duration": 282,
    "start_time": "2024-05-20T05:21:28.094Z"
   },
   {
    "duration": 551,
    "start_time": "2024-05-20T05:24:30.998Z"
   },
   {
    "duration": 23,
    "start_time": "2024-05-20T05:27:02.357Z"
   },
   {
    "duration": 369,
    "start_time": "2024-05-20T05:27:13.528Z"
   },
   {
    "duration": 332,
    "start_time": "2024-05-20T05:27:51.346Z"
   },
   {
    "duration": 3,
    "start_time": "2024-05-20T05:34:45.501Z"
   },
   {
    "duration": 5,
    "start_time": "2024-05-20T05:36:42.121Z"
   },
   {
    "duration": 5,
    "start_time": "2024-05-20T05:36:45.943Z"
   },
   {
    "duration": 6,
    "start_time": "2024-05-20T05:37:02.667Z"
   },
   {
    "duration": 6,
    "start_time": "2024-05-20T05:37:22.784Z"
   },
   {
    "duration": 5,
    "start_time": "2024-05-20T05:37:50.001Z"
   },
   {
    "duration": 121,
    "start_time": "2024-05-20T05:38:04.947Z"
   },
   {
    "duration": 72,
    "start_time": "2024-05-20T05:38:25.926Z"
   },
   {
    "duration": 11,
    "start_time": "2024-05-20T05:38:39.846Z"
   },
   {
    "duration": 215,
    "start_time": "2024-05-20T05:39:20.138Z"
   },
   {
    "duration": 125,
    "start_time": "2024-05-20T05:40:49.492Z"
   },
   {
    "duration": 16,
    "start_time": "2024-05-20T05:44:45.166Z"
   },
   {
    "duration": 81,
    "start_time": "2024-05-20T05:45:15.638Z"
   },
   {
    "duration": 24,
    "start_time": "2024-05-20T05:45:33.901Z"
   },
   {
    "duration": 596,
    "start_time": "2024-05-20T05:46:07.496Z"
   },
   {
    "duration": 252,
    "start_time": "2024-05-20T05:47:48.064Z"
   },
   {
    "duration": 588,
    "start_time": "2024-05-20T05:49:55.593Z"
   },
   {
    "duration": 744,
    "start_time": "2024-05-20T05:51:57.322Z"
   },
   {
    "duration": 1569,
    "start_time": "2024-05-20T05:53:27.626Z"
   },
   {
    "duration": 1204,
    "start_time": "2024-05-20T05:55:15.486Z"
   },
   {
    "duration": 725,
    "start_time": "2024-05-20T05:56:45.198Z"
   },
   {
    "duration": 865,
    "start_time": "2024-05-20T05:57:03.193Z"
   },
   {
    "duration": 853,
    "start_time": "2024-05-20T05:57:20.207Z"
   },
   {
    "duration": 846,
    "start_time": "2024-05-20T05:58:58.706Z"
   },
   {
    "duration": 360,
    "start_time": "2024-05-20T23:18:09.656Z"
   },
   {
    "duration": 441,
    "start_time": "2024-05-20T23:18:33.448Z"
   },
   {
    "duration": 1680,
    "start_time": "2024-05-20T23:18:33.893Z"
   },
   {
    "duration": 20,
    "start_time": "2024-05-20T23:18:35.575Z"
   },
   {
    "duration": 25,
    "start_time": "2024-05-20T23:18:35.620Z"
   },
   {
    "duration": 14,
    "start_time": "2024-05-20T23:18:35.650Z"
   },
   {
    "duration": 13,
    "start_time": "2024-05-20T23:18:35.667Z"
   },
   {
    "duration": 77,
    "start_time": "2024-05-20T23:18:35.683Z"
   },
   {
    "duration": 177,
    "start_time": "2024-05-20T23:18:35.764Z"
   },
   {
    "duration": 84,
    "start_time": "2024-05-20T23:18:35.944Z"
   },
   {
    "duration": 14,
    "start_time": "2024-05-20T23:18:36.042Z"
   },
   {
    "duration": 184,
    "start_time": "2024-05-20T23:18:36.059Z"
   },
   {
    "duration": 156,
    "start_time": "2024-05-20T23:18:36.246Z"
   },
   {
    "duration": 107,
    "start_time": "2024-05-20T23:18:36.416Z"
   },
   {
    "duration": 25,
    "start_time": "2024-05-20T23:18:36.529Z"
   },
   {
    "duration": 10,
    "start_time": "2024-05-20T23:18:36.557Z"
   },
   {
    "duration": 161,
    "start_time": "2024-05-20T23:18:36.570Z"
   },
   {
    "duration": 13,
    "start_time": "2024-05-20T23:18:36.734Z"
   },
   {
    "duration": 6,
    "start_time": "2024-05-20T23:18:36.750Z"
   },
   {
    "duration": 20,
    "start_time": "2024-05-20T23:18:36.759Z"
   },
   {
    "duration": 6,
    "start_time": "2024-05-20T23:18:36.782Z"
   },
   {
    "duration": 7,
    "start_time": "2024-05-20T23:18:36.812Z"
   },
   {
    "duration": 1316,
    "start_time": "2024-05-20T23:18:36.822Z"
   },
   {
    "duration": 434,
    "start_time": "2024-05-20T23:18:38.144Z"
   },
   {
    "duration": 1367,
    "start_time": "2024-05-20T23:18:38.581Z"
   },
   {
    "duration": 14,
    "start_time": "2024-05-20T23:18:39.951Z"
   },
   {
    "duration": 9,
    "start_time": "2024-05-20T23:18:39.968Z"
   },
   {
    "duration": 40,
    "start_time": "2024-05-20T23:18:39.980Z"
   },
   {
    "duration": 11,
    "start_time": "2024-05-20T23:18:40.036Z"
   },
   {
    "duration": 16,
    "start_time": "2024-05-20T23:18:40.050Z"
   },
   {
    "duration": 13,
    "start_time": "2024-05-20T23:18:40.069Z"
   },
   {
    "duration": 41,
    "start_time": "2024-05-20T23:18:40.085Z"
   },
   {
    "duration": 15,
    "start_time": "2024-05-20T23:18:40.132Z"
   },
   {
    "duration": 16,
    "start_time": "2024-05-20T23:18:40.149Z"
   },
   {
    "duration": 15,
    "start_time": "2024-05-20T23:18:40.168Z"
   },
   {
    "duration": 40,
    "start_time": "2024-05-20T23:18:40.185Z"
   },
   {
    "duration": 53,
    "start_time": "2024-05-20T23:18:40.227Z"
   },
   {
    "duration": 32,
    "start_time": "2024-05-20T23:18:40.282Z"
   },
   {
    "duration": 1170,
    "start_time": "2024-05-20T23:18:40.327Z"
   },
   {
    "duration": 0,
    "start_time": "2024-05-20T23:18:41.502Z"
   },
   {
    "duration": 94,
    "start_time": "2024-05-20T23:21:18.497Z"
   },
   {
    "duration": 150,
    "start_time": "2024-05-20T23:21:47.421Z"
   },
   {
    "duration": 9,
    "start_time": "2024-05-20T23:25:23.616Z"
   },
   {
    "duration": 243,
    "start_time": "2024-05-20T23:26:44.040Z"
   },
   {
    "duration": 494,
    "start_time": "2024-05-20T23:29:31.897Z"
   },
   {
    "duration": 448,
    "start_time": "2024-05-20T23:30:43.154Z"
   },
   {
    "duration": 1603,
    "start_time": "2024-05-20T23:31:01.834Z"
   },
   {
    "duration": 1331,
    "start_time": "2024-05-20T23:31:18.712Z"
   },
   {
    "duration": 13,
    "start_time": "2024-05-20T23:31:30.898Z"
   },
   {
    "duration": 154,
    "start_time": "2024-05-20T23:32:31.983Z"
   },
   {
    "duration": 10,
    "start_time": "2024-05-20T23:33:52.943Z"
   },
   {
    "duration": 7,
    "start_time": "2024-05-20T23:34:07.255Z"
   },
   {
    "duration": 7,
    "start_time": "2024-05-20T23:34:14.299Z"
   },
   {
    "duration": 6,
    "start_time": "2024-05-21T00:13:13.560Z"
   },
   {
    "duration": 614,
    "start_time": "2024-05-21T00:13:18.835Z"
   },
   {
    "duration": 526,
    "start_time": "2024-05-21T00:14:12.770Z"
   },
   {
    "duration": 86,
    "start_time": "2024-05-21T00:14:50.779Z"
   },
   {
    "duration": 6,
    "start_time": "2024-05-21T00:15:33.288Z"
   },
   {
    "duration": 454,
    "start_time": "2024-05-21T00:15:53.046Z"
   },
   {
    "duration": 1738,
    "start_time": "2024-05-21T00:15:53.504Z"
   },
   {
    "duration": 20,
    "start_time": "2024-05-21T00:15:55.245Z"
   },
   {
    "duration": 16,
    "start_time": "2024-05-21T00:15:55.269Z"
   },
   {
    "duration": 13,
    "start_time": "2024-05-21T00:15:55.314Z"
   },
   {
    "duration": 14,
    "start_time": "2024-05-21T00:15:55.330Z"
   },
   {
    "duration": 73,
    "start_time": "2024-05-21T00:15:55.346Z"
   },
   {
    "duration": 169,
    "start_time": "2024-05-21T00:15:55.422Z"
   },
   {
    "duration": 87,
    "start_time": "2024-05-21T00:15:55.594Z"
   },
   {
    "duration": 29,
    "start_time": "2024-05-21T00:15:55.689Z"
   },
   {
    "duration": 196,
    "start_time": "2024-05-21T00:15:55.721Z"
   },
   {
    "duration": 161,
    "start_time": "2024-05-21T00:15:55.919Z"
   },
   {
    "duration": 96,
    "start_time": "2024-05-21T00:15:56.083Z"
   },
   {
    "duration": 29,
    "start_time": "2024-05-21T00:15:56.184Z"
   },
   {
    "duration": 9,
    "start_time": "2024-05-21T00:15:56.216Z"
   },
   {
    "duration": 157,
    "start_time": "2024-05-21T00:15:56.228Z"
   },
   {
    "duration": 9,
    "start_time": "2024-05-21T00:15:56.388Z"
   },
   {
    "duration": 6,
    "start_time": "2024-05-21T00:15:56.413Z"
   },
   {
    "duration": 6,
    "start_time": "2024-05-21T00:15:56.423Z"
   },
   {
    "duration": 6,
    "start_time": "2024-05-21T00:15:56.432Z"
   },
   {
    "duration": 6,
    "start_time": "2024-05-21T00:15:56.442Z"
   },
   {
    "duration": 1361,
    "start_time": "2024-05-21T00:15:56.451Z"
   },
   {
    "duration": 436,
    "start_time": "2024-05-21T00:15:57.815Z"
   },
   {
    "duration": 1405,
    "start_time": "2024-05-21T00:15:58.254Z"
   },
   {
    "duration": 14,
    "start_time": "2024-05-21T00:15:59.662Z"
   },
   {
    "duration": 33,
    "start_time": "2024-05-21T00:15:59.679Z"
   },
   {
    "duration": 9,
    "start_time": "2024-05-21T00:15:59.715Z"
   },
   {
    "duration": 10,
    "start_time": "2024-05-21T00:15:59.734Z"
   },
   {
    "duration": 17,
    "start_time": "2024-05-21T00:15:59.747Z"
   },
   {
    "duration": 57,
    "start_time": "2024-05-21T00:15:59.766Z"
   },
   {
    "duration": 8,
    "start_time": "2024-05-21T00:15:59.825Z"
   },
   {
    "duration": 13,
    "start_time": "2024-05-21T00:15:59.836Z"
   },
   {
    "duration": 15,
    "start_time": "2024-05-21T00:15:59.852Z"
   },
   {
    "duration": 16,
    "start_time": "2024-05-21T00:15:59.912Z"
   },
   {
    "duration": 13,
    "start_time": "2024-05-21T00:15:59.931Z"
   },
   {
    "duration": 92,
    "start_time": "2024-05-21T00:15:59.947Z"
   },
   {
    "duration": 10,
    "start_time": "2024-05-21T00:16:00.042Z"
   },
   {
    "duration": 538,
    "start_time": "2024-05-21T00:16:00.055Z"
   },
   {
    "duration": 103,
    "start_time": "2024-05-21T00:16:00.596Z"
   },
   {
    "duration": 14,
    "start_time": "2024-05-21T00:16:00.702Z"
   },
   {
    "duration": 8,
    "start_time": "2024-05-21T00:17:01.879Z"
   },
   {
    "duration": 341,
    "start_time": "2024-05-21T00:18:42.668Z"
   },
   {
    "duration": 24,
    "start_time": "2024-05-21T00:18:55.327Z"
   },
   {
    "duration": 8,
    "start_time": "2024-05-21T00:19:35.521Z"
   },
   {
    "duration": 23,
    "start_time": "2024-05-21T00:22:52.932Z"
   },
   {
    "duration": 26,
    "start_time": "2024-05-21T00:23:23.917Z"
   },
   {
    "duration": 9,
    "start_time": "2024-05-21T00:23:33.682Z"
   },
   {
    "duration": 8,
    "start_time": "2024-05-21T00:24:18.419Z"
   },
   {
    "duration": 11,
    "start_time": "2024-05-21T00:24:53.755Z"
   },
   {
    "duration": 8,
    "start_time": "2024-05-21T00:34:00.824Z"
   },
   {
    "duration": 5926,
    "start_time": "2024-05-21T00:38:15.046Z"
   },
   {
    "duration": 2171,
    "start_time": "2024-05-21T00:39:43.042Z"
   },
   {
    "duration": 2088,
    "start_time": "2024-05-21T00:40:42.668Z"
   },
   {
    "duration": 2054,
    "start_time": "2024-05-21T00:41:48.159Z"
   },
   {
    "duration": 8,
    "start_time": "2024-05-21T00:45:16.020Z"
   },
   {
    "duration": 2117,
    "start_time": "2024-05-21T00:45:21.950Z"
   },
   {
    "duration": 2127,
    "start_time": "2024-05-21T00:45:43.088Z"
   },
   {
    "duration": 7,
    "start_time": "2024-05-21T00:47:24.983Z"
   },
   {
    "duration": 13,
    "start_time": "2024-05-21T00:47:30.105Z"
   },
   {
    "duration": 6,
    "start_time": "2024-05-21T00:50:37.573Z"
   },
   {
    "duration": 392,
    "start_time": "2024-05-21T00:50:44.228Z"
   },
   {
    "duration": 402,
    "start_time": "2024-05-21T00:51:10.051Z"
   },
   {
    "duration": 470,
    "start_time": "2024-05-21T00:57:28.016Z"
   },
   {
    "duration": 1656,
    "start_time": "2024-05-21T00:57:28.490Z"
   },
   {
    "duration": 20,
    "start_time": "2024-05-21T00:57:30.148Z"
   },
   {
    "duration": 40,
    "start_time": "2024-05-21T00:57:30.173Z"
   },
   {
    "duration": 15,
    "start_time": "2024-05-21T00:57:30.216Z"
   },
   {
    "duration": 14,
    "start_time": "2024-05-21T00:57:30.233Z"
   },
   {
    "duration": 80,
    "start_time": "2024-05-21T00:57:30.250Z"
   },
   {
    "duration": 176,
    "start_time": "2024-05-21T00:57:30.333Z"
   },
   {
    "duration": 80,
    "start_time": "2024-05-21T00:57:30.515Z"
   },
   {
    "duration": 15,
    "start_time": "2024-05-21T00:57:30.613Z"
   },
   {
    "duration": 187,
    "start_time": "2024-05-21T00:57:30.631Z"
   },
   {
    "duration": 170,
    "start_time": "2024-05-21T00:57:30.821Z"
   },
   {
    "duration": 93,
    "start_time": "2024-05-21T00:57:30.994Z"
   },
   {
    "duration": 36,
    "start_time": "2024-05-21T00:57:31.089Z"
   },
   {
    "duration": 9,
    "start_time": "2024-05-21T00:57:31.128Z"
   },
   {
    "duration": 158,
    "start_time": "2024-05-21T00:57:31.140Z"
   },
   {
    "duration": 16,
    "start_time": "2024-05-21T00:57:31.301Z"
   },
   {
    "duration": 6,
    "start_time": "2024-05-21T00:57:31.320Z"
   },
   {
    "duration": 6,
    "start_time": "2024-05-21T00:57:31.329Z"
   },
   {
    "duration": 6,
    "start_time": "2024-05-21T00:57:31.338Z"
   },
   {
    "duration": 7,
    "start_time": "2024-05-21T00:57:31.346Z"
   },
   {
    "duration": 1377,
    "start_time": "2024-05-21T00:57:31.356Z"
   },
   {
    "duration": 462,
    "start_time": "2024-05-21T00:57:32.735Z"
   },
   {
    "duration": 1372,
    "start_time": "2024-05-21T00:57:33.200Z"
   },
   {
    "duration": 12,
    "start_time": "2024-05-21T00:57:34.575Z"
   },
   {
    "duration": 26,
    "start_time": "2024-05-21T00:57:34.590Z"
   },
   {
    "duration": 11,
    "start_time": "2024-05-21T00:57:34.618Z"
   },
   {
    "duration": 11,
    "start_time": "2024-05-21T00:57:34.638Z"
   },
   {
    "duration": 62,
    "start_time": "2024-05-21T00:57:34.652Z"
   },
   {
    "duration": 15,
    "start_time": "2024-05-21T00:57:34.717Z"
   },
   {
    "duration": 8,
    "start_time": "2024-05-21T00:57:34.736Z"
   },
   {
    "duration": 14,
    "start_time": "2024-05-21T00:57:34.748Z"
   },
   {
    "duration": 56,
    "start_time": "2024-05-21T00:57:34.765Z"
   },
   {
    "duration": 16,
    "start_time": "2024-05-21T00:57:34.824Z"
   },
   {
    "duration": 14,
    "start_time": "2024-05-21T00:57:34.843Z"
   },
   {
    "duration": 88,
    "start_time": "2024-05-21T00:57:34.860Z"
   },
   {
    "duration": 11,
    "start_time": "2024-05-21T00:57:34.951Z"
   },
   {
    "duration": 531,
    "start_time": "2024-05-21T00:57:34.965Z"
   },
   {
    "duration": 101,
    "start_time": "2024-05-21T00:57:35.500Z"
   },
   {
    "duration": 12,
    "start_time": "2024-05-21T00:57:35.611Z"
   },
   {
    "duration": 9,
    "start_time": "2024-05-21T00:57:35.626Z"
   },
   {
    "duration": 13,
    "start_time": "2024-05-21T00:57:35.637Z"
   },
   {
    "duration": 742,
    "start_time": "2024-05-21T00:57:35.652Z"
   },
   {
    "duration": 46,
    "start_time": "2024-05-21T00:58:10.767Z"
   },
   {
    "duration": 48,
    "start_time": "2024-05-21T00:58:58.394Z"
   },
   {
    "duration": 3851,
    "start_time": "2024-05-21T00:59:25.474Z"
   },
   {
    "duration": 2376,
    "start_time": "2024-05-21T00:59:50.536Z"
   },
   {
    "duration": 8,
    "start_time": "2024-05-21T01:02:57.252Z"
   },
   {
    "duration": 2110,
    "start_time": "2024-05-21T01:03:06.991Z"
   },
   {
    "duration": 779,
    "start_time": "2024-05-21T01:08:19.858Z"
   },
   {
    "duration": 23,
    "start_time": "2024-05-21T01:08:30.582Z"
   },
   {
    "duration": 506,
    "start_time": "2024-05-21T01:08:41.300Z"
   },
   {
    "duration": 1767,
    "start_time": "2024-05-21T01:08:41.810Z"
   },
   {
    "duration": 36,
    "start_time": "2024-05-21T01:08:43.580Z"
   },
   {
    "duration": 18,
    "start_time": "2024-05-21T01:08:43.620Z"
   },
   {
    "duration": 15,
    "start_time": "2024-05-21T01:08:43.643Z"
   },
   {
    "duration": 15,
    "start_time": "2024-05-21T01:08:43.662Z"
   },
   {
    "duration": 79,
    "start_time": "2024-05-21T01:08:43.679Z"
   },
   {
    "duration": 226,
    "start_time": "2024-05-21T01:08:43.761Z"
   },
   {
    "duration": 106,
    "start_time": "2024-05-21T01:08:43.990Z"
   },
   {
    "duration": 28,
    "start_time": "2024-05-21T01:08:44.099Z"
   },
   {
    "duration": 229,
    "start_time": "2024-05-21T01:08:44.130Z"
   },
   {
    "duration": 200,
    "start_time": "2024-05-21T01:08:44.362Z"
   },
   {
    "duration": 97,
    "start_time": "2024-05-21T01:08:44.565Z"
   },
   {
    "duration": 22,
    "start_time": "2024-05-21T01:08:44.669Z"
   },
   {
    "duration": 23,
    "start_time": "2024-05-21T01:08:44.694Z"
   },
   {
    "duration": 153,
    "start_time": "2024-05-21T01:08:44.720Z"
   },
   {
    "duration": 9,
    "start_time": "2024-05-21T01:08:44.875Z"
   },
   {
    "duration": 28,
    "start_time": "2024-05-21T01:08:44.887Z"
   },
   {
    "duration": 6,
    "start_time": "2024-05-21T01:08:44.919Z"
   },
   {
    "duration": 6,
    "start_time": "2024-05-21T01:08:44.928Z"
   },
   {
    "duration": 6,
    "start_time": "2024-05-21T01:08:44.937Z"
   },
   {
    "duration": 1344,
    "start_time": "2024-05-21T01:08:44.946Z"
   },
   {
    "duration": 453,
    "start_time": "2024-05-21T01:08:46.293Z"
   },
   {
    "duration": 1349,
    "start_time": "2024-05-21T01:08:46.749Z"
   },
   {
    "duration": 20,
    "start_time": "2024-05-21T01:08:48.101Z"
   },
   {
    "duration": 10,
    "start_time": "2024-05-21T01:08:48.124Z"
   },
   {
    "duration": 9,
    "start_time": "2024-05-21T01:08:48.137Z"
   },
   {
    "duration": 11,
    "start_time": "2024-05-21T01:08:48.149Z"
   },
   {
    "duration": 57,
    "start_time": "2024-05-21T01:08:48.163Z"
   },
   {
    "duration": 14,
    "start_time": "2024-05-21T01:08:48.222Z"
   },
   {
    "duration": 8,
    "start_time": "2024-05-21T01:08:48.239Z"
   },
   {
    "duration": 13,
    "start_time": "2024-05-21T01:08:48.250Z"
   },
   {
    "duration": 16,
    "start_time": "2024-05-21T01:08:48.311Z"
   },
   {
    "duration": 15,
    "start_time": "2024-05-21T01:08:48.330Z"
   },
   {
    "duration": 14,
    "start_time": "2024-05-21T01:08:48.348Z"
   },
   {
    "duration": 85,
    "start_time": "2024-05-21T01:08:48.365Z"
   },
   {
    "duration": 10,
    "start_time": "2024-05-21T01:08:48.453Z"
   },
   {
    "duration": 551,
    "start_time": "2024-05-21T01:08:48.467Z"
   },
   {
    "duration": 104,
    "start_time": "2024-05-21T01:08:49.021Z"
   },
   {
    "duration": 11,
    "start_time": "2024-05-21T01:08:49.128Z"
   },
   {
    "duration": 8,
    "start_time": "2024-05-21T01:08:49.148Z"
   },
   {
    "duration": 14,
    "start_time": "2024-05-21T01:08:49.159Z"
   },
   {
    "duration": 2414,
    "start_time": "2024-05-21T01:08:49.213Z"
   },
   {
    "duration": 361,
    "start_time": "2024-05-21T01:09:49.280Z"
   },
   {
    "duration": 406,
    "start_time": "2024-05-21T01:10:50.132Z"
   },
   {
    "duration": 456,
    "start_time": "2024-05-21T01:11:16.748Z"
   },
   {
    "duration": 370,
    "start_time": "2024-05-21T01:11:25.080Z"
   },
   {
    "duration": 12,
    "start_time": "2024-05-21T01:13:10.498Z"
   },
   {
    "duration": 22,
    "start_time": "2024-05-21T01:19:45.818Z"
   },
   {
    "duration": 438,
    "start_time": "2024-05-21T01:19:57.436Z"
   },
   {
    "duration": 1673,
    "start_time": "2024-05-21T01:19:57.877Z"
   },
   {
    "duration": 22,
    "start_time": "2024-05-21T01:19:59.553Z"
   },
   {
    "duration": 37,
    "start_time": "2024-05-21T01:19:59.579Z"
   },
   {
    "duration": 15,
    "start_time": "2024-05-21T01:19:59.619Z"
   },
   {
    "duration": 14,
    "start_time": "2024-05-21T01:19:59.638Z"
   },
   {
    "duration": 80,
    "start_time": "2024-05-21T01:19:59.655Z"
   },
   {
    "duration": 173,
    "start_time": "2024-05-21T01:19:59.739Z"
   },
   {
    "duration": 80,
    "start_time": "2024-05-21T01:19:59.915Z"
   },
   {
    "duration": 14,
    "start_time": "2024-05-21T01:20:00.016Z"
   },
   {
    "duration": 192,
    "start_time": "2024-05-21T01:20:00.033Z"
   },
   {
    "duration": 169,
    "start_time": "2024-05-21T01:20:00.228Z"
   },
   {
    "duration": 102,
    "start_time": "2024-05-21T01:20:00.401Z"
   },
   {
    "duration": 22,
    "start_time": "2024-05-21T01:20:00.513Z"
   },
   {
    "duration": 10,
    "start_time": "2024-05-21T01:20:00.537Z"
   },
   {
    "duration": 174,
    "start_time": "2024-05-21T01:20:00.550Z"
   },
   {
    "duration": 9,
    "start_time": "2024-05-21T01:20:00.726Z"
   },
   {
    "duration": 5,
    "start_time": "2024-05-21T01:20:00.738Z"
   },
   {
    "duration": 6,
    "start_time": "2024-05-21T01:20:00.746Z"
   },
   {
    "duration": 10,
    "start_time": "2024-05-21T01:20:00.756Z"
   },
   {
    "duration": 46,
    "start_time": "2024-05-21T01:20:00.769Z"
   },
   {
    "duration": 1327,
    "start_time": "2024-05-21T01:20:00.818Z"
   },
   {
    "duration": 452,
    "start_time": "2024-05-21T01:20:02.148Z"
   },
   {
    "duration": 1402,
    "start_time": "2024-05-21T01:20:02.611Z"
   },
   {
    "duration": 15,
    "start_time": "2024-05-21T01:20:04.017Z"
   },
   {
    "duration": 15,
    "start_time": "2024-05-21T01:20:04.036Z"
   },
   {
    "duration": 16,
    "start_time": "2024-05-21T01:20:04.056Z"
   },
   {
    "duration": 14,
    "start_time": "2024-05-21T01:20:04.118Z"
   },
   {
    "duration": 19,
    "start_time": "2024-05-21T01:20:04.137Z"
   },
   {
    "duration": 16,
    "start_time": "2024-05-21T01:20:04.160Z"
   },
   {
    "duration": 9,
    "start_time": "2024-05-21T01:20:04.216Z"
   },
   {
    "duration": 16,
    "start_time": "2024-05-21T01:20:04.229Z"
   },
   {
    "duration": 21,
    "start_time": "2024-05-21T01:20:04.250Z"
   },
   {
    "duration": 20,
    "start_time": "2024-05-21T01:20:04.313Z"
   },
   {
    "duration": 16,
    "start_time": "2024-05-21T01:20:04.336Z"
   },
   {
    "duration": 95,
    "start_time": "2024-05-21T01:20:04.355Z"
   },
   {
    "duration": 13,
    "start_time": "2024-05-21T01:20:04.453Z"
   },
   {
    "duration": 558,
    "start_time": "2024-05-21T01:20:04.469Z"
   },
   {
    "duration": 108,
    "start_time": "2024-05-21T01:20:05.030Z"
   },
   {
    "duration": 11,
    "start_time": "2024-05-21T01:20:05.141Z"
   },
   {
    "duration": 9,
    "start_time": "2024-05-21T01:20:05.154Z"
   },
   {
    "duration": 47,
    "start_time": "2024-05-21T01:20:05.165Z"
   },
   {
    "duration": 702,
    "start_time": "2024-05-21T01:20:05.215Z"
   },
   {
    "duration": 15,
    "start_time": "2024-05-21T01:20:05.920Z"
   },
   {
    "duration": 382,
    "start_time": "2024-05-21T01:20:05.939Z"
   },
   {
    "duration": 13,
    "start_time": "2024-05-21T01:20:20.625Z"
   },
   {
    "duration": 2934,
    "start_time": "2024-05-21T01:20:37.177Z"
   },
   {
    "duration": 491,
    "start_time": "2024-05-21T01:24:50.400Z"
   },
   {
    "duration": 1686,
    "start_time": "2024-05-21T01:24:50.895Z"
   },
   {
    "duration": 32,
    "start_time": "2024-05-21T01:24:52.584Z"
   },
   {
    "duration": 15,
    "start_time": "2024-05-21T01:24:52.621Z"
   },
   {
    "duration": 14,
    "start_time": "2024-05-21T01:24:52.639Z"
   },
   {
    "duration": 15,
    "start_time": "2024-05-21T01:24:52.656Z"
   },
   {
    "duration": 40,
    "start_time": "2024-05-21T01:24:52.713Z"
   },
   {
    "duration": 201,
    "start_time": "2024-05-21T01:24:52.756Z"
   },
   {
    "duration": 99,
    "start_time": "2024-05-21T01:24:52.960Z"
   },
   {
    "duration": 15,
    "start_time": "2024-05-21T01:24:53.066Z"
   },
   {
    "duration": 202,
    "start_time": "2024-05-21T01:24:53.083Z"
   },
   {
    "duration": 175,
    "start_time": "2024-05-21T01:24:53.287Z"
   },
   {
    "duration": 98,
    "start_time": "2024-05-21T01:24:53.465Z"
   },
   {
    "duration": 24,
    "start_time": "2024-05-21T01:24:53.566Z"
   },
   {
    "duration": 29,
    "start_time": "2024-05-21T01:24:53.593Z"
   },
   {
    "duration": 163,
    "start_time": "2024-05-21T01:24:53.625Z"
   },
   {
    "duration": 21,
    "start_time": "2024-05-21T01:24:53.791Z"
   },
   {
    "duration": 7,
    "start_time": "2024-05-21T01:24:53.815Z"
   },
   {
    "duration": 6,
    "start_time": "2024-05-21T01:24:53.825Z"
   },
   {
    "duration": 7,
    "start_time": "2024-05-21T01:24:53.835Z"
   },
   {
    "duration": 7,
    "start_time": "2024-05-21T01:24:53.845Z"
   },
   {
    "duration": 1364,
    "start_time": "2024-05-21T01:24:53.855Z"
   },
   {
    "duration": 442,
    "start_time": "2024-05-21T01:24:55.221Z"
   },
   {
    "duration": 1346,
    "start_time": "2024-05-21T01:24:55.666Z"
   },
   {
    "duration": 12,
    "start_time": "2024-05-21T01:24:57.015Z"
   },
   {
    "duration": 9,
    "start_time": "2024-05-21T01:24:57.030Z"
   },
   {
    "duration": 11,
    "start_time": "2024-05-21T01:24:57.043Z"
   },
   {
    "duration": 52,
    "start_time": "2024-05-21T01:24:57.063Z"
   },
   {
    "duration": 15,
    "start_time": "2024-05-21T01:24:57.118Z"
   },
   {
    "duration": 13,
    "start_time": "2024-05-21T01:24:57.136Z"
   },
   {
    "duration": 9,
    "start_time": "2024-05-21T01:24:57.151Z"
   },
   {
    "duration": 59,
    "start_time": "2024-05-21T01:24:57.163Z"
   },
   {
    "duration": 16,
    "start_time": "2024-05-21T01:24:57.225Z"
   },
   {
    "duration": 17,
    "start_time": "2024-05-21T01:24:57.244Z"
   },
   {
    "duration": 55,
    "start_time": "2024-05-21T01:24:57.265Z"
   },
   {
    "duration": 52,
    "start_time": "2024-05-21T01:24:57.323Z"
   },
   {
    "duration": 40,
    "start_time": "2024-05-21T01:24:57.378Z"
   },
   {
    "duration": 555,
    "start_time": "2024-05-21T01:24:57.421Z"
   },
   {
    "duration": 106,
    "start_time": "2024-05-21T01:24:57.979Z"
   },
   {
    "duration": 24,
    "start_time": "2024-05-21T01:24:58.088Z"
   },
   {
    "duration": 7,
    "start_time": "2024-05-21T01:24:58.115Z"
   },
   {
    "duration": 14,
    "start_time": "2024-05-21T01:24:58.125Z"
   },
   {
    "duration": 795,
    "start_time": "2024-05-21T01:24:58.142Z"
   },
   {
    "duration": 20,
    "start_time": "2024-05-21T01:24:58.942Z"
   },
   {
    "duration": 10,
    "start_time": "2024-05-21T01:24:58.966Z"
   },
   {
    "duration": 1731,
    "start_time": "2024-05-21T01:25:09.562Z"
   },
   {
    "duration": 2032,
    "start_time": "2024-05-21T01:29:13.138Z"
   },
   {
    "duration": 2048,
    "start_time": "2024-05-21T01:29:30.466Z"
   },
   {
    "duration": 14,
    "start_time": "2024-05-21T01:37:18.618Z"
   },
   {
    "duration": 352,
    "start_time": "2024-05-21T01:39:15.961Z"
   },
   {
    "duration": 13,
    "start_time": "2024-05-21T01:39:23.066Z"
   },
   {
    "duration": 97,
    "start_time": "2024-05-21T01:39:35.636Z"
   },
   {
    "duration": 336,
    "start_time": "2024-05-21T01:39:57.302Z"
   },
   {
    "duration": 221,
    "start_time": "2024-05-21T01:43:45.033Z"
   },
   {
    "duration": 291,
    "start_time": "2024-05-21T01:44:02.696Z"
   },
   {
    "duration": 225,
    "start_time": "2024-05-21T01:44:15.766Z"
   },
   {
    "duration": 244,
    "start_time": "2024-05-21T01:44:41.407Z"
   },
   {
    "duration": 40,
    "start_time": "2024-05-21T01:46:17.684Z"
   },
   {
    "duration": 13,
    "start_time": "2024-05-21T01:46:22.499Z"
   },
   {
    "duration": 223,
    "start_time": "2024-05-21T01:49:35.799Z"
   },
   {
    "duration": 200,
    "start_time": "2024-05-21T01:50:15.922Z"
   },
   {
    "duration": 205,
    "start_time": "2024-05-21T01:50:48.416Z"
   },
   {
    "duration": 368,
    "start_time": "2024-05-21T01:51:16.218Z"
   },
   {
    "duration": 365,
    "start_time": "2024-05-21T01:51:26.836Z"
   },
   {
    "duration": 7,
    "start_time": "2024-05-21T01:54:17.380Z"
   },
   {
    "duration": 10,
    "start_time": "2024-05-21T01:54:39.531Z"
   },
   {
    "duration": 369,
    "start_time": "2024-05-21T01:55:44.598Z"
   },
   {
    "duration": 17,
    "start_time": "2024-05-21T02:06:54.153Z"
   },
   {
    "duration": 96,
    "start_time": "2024-05-21T02:08:41.923Z"
   },
   {
    "duration": 12,
    "start_time": "2024-05-21T02:10:06.518Z"
   },
   {
    "duration": 16,
    "start_time": "2024-05-21T02:10:35.132Z"
   },
   {
    "duration": 11,
    "start_time": "2024-05-21T02:10:48.402Z"
   },
   {
    "duration": 12,
    "start_time": "2024-05-21T02:10:55.510Z"
   },
   {
    "duration": 11,
    "start_time": "2024-05-21T02:11:50.010Z"
   },
   {
    "duration": 13,
    "start_time": "2024-05-21T02:12:43.767Z"
   },
   {
    "duration": 8,
    "start_time": "2024-05-21T02:20:26.647Z"
   },
   {
    "duration": 45,
    "start_time": "2024-05-21T02:20:36.260Z"
   },
   {
    "duration": 25,
    "start_time": "2024-05-21T02:21:33.920Z"
   },
   {
    "duration": 41,
    "start_time": "2024-05-21T02:23:25.758Z"
   },
   {
    "duration": 27,
    "start_time": "2024-05-21T02:24:03.308Z"
   },
   {
    "duration": 20,
    "start_time": "2024-05-21T02:24:12.845Z"
   },
   {
    "duration": 19,
    "start_time": "2024-05-21T02:24:30.874Z"
   },
   {
    "duration": 20,
    "start_time": "2024-05-21T02:25:16.866Z"
   },
   {
    "duration": 23,
    "start_time": "2024-05-21T02:26:31.488Z"
   },
   {
    "duration": 22,
    "start_time": "2024-05-21T02:27:36.064Z"
   },
   {
    "duration": 24,
    "start_time": "2024-05-21T02:28:49.916Z"
   },
   {
    "duration": 923,
    "start_time": "2024-05-21T02:34:11.202Z"
   },
   {
    "duration": 460,
    "start_time": "2024-05-21T02:34:59.166Z"
   },
   {
    "duration": 30,
    "start_time": "2024-05-21T02:43:21.357Z"
   },
   {
    "duration": 60,
    "start_time": "2024-05-21T02:48:02.087Z"
   },
   {
    "duration": 78,
    "start_time": "2024-05-21T02:48:46.607Z"
   },
   {
    "duration": 58,
    "start_time": "2024-05-21T02:49:14.866Z"
   },
   {
    "duration": 64,
    "start_time": "2024-05-21T02:49:32.607Z"
   },
   {
    "duration": 77,
    "start_time": "2024-05-21T02:49:43.256Z"
   },
   {
    "duration": 66,
    "start_time": "2024-05-21T02:50:08.269Z"
   },
   {
    "duration": 7,
    "start_time": "2024-05-21T02:51:26.769Z"
   },
   {
    "duration": 34,
    "start_time": "2024-05-21T02:51:29.891Z"
   },
   {
    "duration": 6,
    "start_time": "2024-05-21T02:51:34.082Z"
   },
   {
    "duration": 67,
    "start_time": "2024-05-21T02:52:46.445Z"
   },
   {
    "duration": 17,
    "start_time": "2024-05-21T02:53:33.703Z"
   },
   {
    "duration": 17,
    "start_time": "2024-05-21T02:56:02.230Z"
   },
   {
    "duration": 17,
    "start_time": "2024-05-21T02:56:18.409Z"
   },
   {
    "duration": 14,
    "start_time": "2024-05-21T02:56:32.758Z"
   },
   {
    "duration": 16,
    "start_time": "2024-05-21T02:57:40.991Z"
   },
   {
    "duration": 13,
    "start_time": "2024-05-21T02:57:48.097Z"
   },
   {
    "duration": 8,
    "start_time": "2024-05-21T02:58:59.088Z"
   },
   {
    "duration": 21,
    "start_time": "2024-05-21T02:59:04.454Z"
   },
   {
    "duration": 17,
    "start_time": "2024-05-21T02:59:15.199Z"
   },
   {
    "duration": 13,
    "start_time": "2024-05-21T02:59:50.373Z"
   },
   {
    "duration": 15,
    "start_time": "2024-05-21T03:00:42.308Z"
   },
   {
    "duration": 14,
    "start_time": "2024-05-21T03:00:58.897Z"
   },
   {
    "duration": 1652,
    "start_time": "2024-05-21T03:06:31.701Z"
   },
   {
    "duration": 208,
    "start_time": "2024-05-21T03:07:19.012Z"
   },
   {
    "duration": 197,
    "start_time": "2024-05-21T03:07:55.049Z"
   },
   {
    "duration": 57,
    "start_time": "2024-05-21T03:08:27.004Z"
   },
   {
    "duration": 207,
    "start_time": "2024-05-21T03:08:32.637Z"
   },
   {
    "duration": 205,
    "start_time": "2024-05-21T03:08:46.710Z"
   },
   {
    "duration": 200,
    "start_time": "2024-05-21T03:09:21.027Z"
   },
   {
    "duration": 214,
    "start_time": "2024-05-21T03:09:34.599Z"
   },
   {
    "duration": 435,
    "start_time": "2024-05-21T03:15:53.831Z"
   },
   {
    "duration": 101,
    "start_time": "2024-05-21T03:23:49.938Z"
   },
   {
    "duration": 189,
    "start_time": "2024-05-21T03:24:43.769Z"
   },
   {
    "duration": 1028,
    "start_time": "2024-05-21T03:31:50.985Z"
   },
   {
    "duration": 1483,
    "start_time": "2024-05-21T03:34:16.434Z"
   },
   {
    "duration": 1526,
    "start_time": "2024-05-21T03:34:30.826Z"
   },
   {
    "duration": 1395,
    "start_time": "2024-05-21T03:35:00.461Z"
   },
   {
    "duration": 1438,
    "start_time": "2024-05-21T03:38:19.458Z"
   },
   {
    "duration": 1756,
    "start_time": "2024-05-21T03:40:54.844Z"
   },
   {
    "duration": 1760,
    "start_time": "2024-05-21T03:41:21.863Z"
   },
   {
    "duration": 8,
    "start_time": "2024-05-21T03:44:40.204Z"
   },
   {
    "duration": 2061,
    "start_time": "2024-05-21T03:45:04.713Z"
   },
   {
    "duration": 1485,
    "start_time": "2024-05-21T03:45:58.708Z"
   },
   {
    "duration": 1411,
    "start_time": "2024-05-21T03:47:24.848Z"
   },
   {
    "duration": 1063,
    "start_time": "2024-05-21T03:50:25.469Z"
   },
   {
    "duration": 1063,
    "start_time": "2024-05-21T03:50:33.644Z"
   },
   {
    "duration": 1742,
    "start_time": "2024-05-21T03:50:42.774Z"
   },
   {
    "duration": 2485,
    "start_time": "2024-05-21T03:51:19.695Z"
   },
   {
    "duration": 2488,
    "start_time": "2024-05-21T03:52:06.870Z"
   },
   {
    "duration": 2065,
    "start_time": "2024-05-21T03:52:29.452Z"
   },
   {
    "duration": 2188,
    "start_time": "2024-05-21T03:56:08.564Z"
   },
   {
    "duration": 2159,
    "start_time": "2024-05-21T03:56:34.942Z"
   },
   {
    "duration": 2156,
    "start_time": "2024-05-21T03:57:20.183Z"
   },
   {
    "duration": 2170,
    "start_time": "2024-05-21T03:57:35.080Z"
   },
   {
    "duration": 1778,
    "start_time": "2024-05-21T03:58:17.074Z"
   },
   {
    "duration": 306,
    "start_time": "2024-05-21T23:07:40.593Z"
   },
   {
    "duration": 21,
    "start_time": "2024-05-21T23:07:51.074Z"
   },
   {
    "duration": 471,
    "start_time": "2024-05-21T23:08:05.482Z"
   },
   {
    "duration": 1949,
    "start_time": "2024-05-21T23:08:05.957Z"
   },
   {
    "duration": 31,
    "start_time": "2024-05-21T23:08:07.909Z"
   },
   {
    "duration": 18,
    "start_time": "2024-05-21T23:08:07.942Z"
   },
   {
    "duration": 14,
    "start_time": "2024-05-21T23:08:07.964Z"
   },
   {
    "duration": 50,
    "start_time": "2024-05-21T23:08:07.980Z"
   },
   {
    "duration": 40,
    "start_time": "2024-05-21T23:08:08.033Z"
   },
   {
    "duration": 192,
    "start_time": "2024-05-21T23:08:08.077Z"
   },
   {
    "duration": 101,
    "start_time": "2024-05-21T23:08:08.272Z"
   },
   {
    "duration": 17,
    "start_time": "2024-05-21T23:08:08.376Z"
   },
   {
    "duration": 199,
    "start_time": "2024-05-21T23:08:08.397Z"
   },
   {
    "duration": 161,
    "start_time": "2024-05-21T23:08:08.598Z"
   },
   {
    "duration": 106,
    "start_time": "2024-05-21T23:08:08.762Z"
   },
   {
    "duration": 23,
    "start_time": "2024-05-21T23:08:08.877Z"
   },
   {
    "duration": 29,
    "start_time": "2024-05-21T23:08:08.903Z"
   },
   {
    "duration": 175,
    "start_time": "2024-05-21T23:08:08.935Z"
   },
   {
    "duration": 20,
    "start_time": "2024-05-21T23:08:09.114Z"
   },
   {
    "duration": 6,
    "start_time": "2024-05-21T23:08:09.137Z"
   },
   {
    "duration": 6,
    "start_time": "2024-05-21T23:08:09.147Z"
   },
   {
    "duration": 7,
    "start_time": "2024-05-21T23:08:09.156Z"
   },
   {
    "duration": 6,
    "start_time": "2024-05-21T23:08:09.166Z"
   },
   {
    "duration": 1500,
    "start_time": "2024-05-21T23:08:09.175Z"
   },
   {
    "duration": 456,
    "start_time": "2024-05-21T23:08:10.678Z"
   },
   {
    "duration": 1454,
    "start_time": "2024-05-21T23:08:11.137Z"
   },
   {
    "duration": 14,
    "start_time": "2024-05-21T23:08:12.594Z"
   },
   {
    "duration": 28,
    "start_time": "2024-05-21T23:08:12.611Z"
   },
   {
    "duration": 9,
    "start_time": "2024-05-21T23:08:12.643Z"
   },
   {
    "duration": 10,
    "start_time": "2024-05-21T23:08:12.655Z"
   },
   {
    "duration": 22,
    "start_time": "2024-05-21T23:08:12.668Z"
   },
   {
    "duration": 54,
    "start_time": "2024-05-21T23:08:12.693Z"
   },
   {
    "duration": 9,
    "start_time": "2024-05-21T23:08:12.751Z"
   },
   {
    "duration": 15,
    "start_time": "2024-05-21T23:08:12.764Z"
   },
   {
    "duration": 59,
    "start_time": "2024-05-21T23:08:12.782Z"
   },
   {
    "duration": 18,
    "start_time": "2024-05-21T23:08:12.845Z"
   },
   {
    "duration": 14,
    "start_time": "2024-05-21T23:08:12.866Z"
   },
   {
    "duration": 87,
    "start_time": "2024-05-21T23:08:12.883Z"
   },
   {
    "duration": 12,
    "start_time": "2024-05-21T23:08:12.973Z"
   },
   {
    "duration": 538,
    "start_time": "2024-05-21T23:08:12.988Z"
   },
   {
    "duration": 111,
    "start_time": "2024-05-21T23:08:13.529Z"
   },
   {
    "duration": 10,
    "start_time": "2024-05-21T23:08:13.644Z"
   },
   {
    "duration": 8,
    "start_time": "2024-05-21T23:08:13.662Z"
   },
   {
    "duration": 4298,
    "start_time": "2024-05-21T23:08:13.674Z"
   },
   {
    "duration": 7,
    "start_time": "2024-05-21T23:08:17.975Z"
   },
   {
    "duration": 0,
    "start_time": "2024-05-21T23:08:17.985Z"
   },
   {
    "duration": 0,
    "start_time": "2024-05-21T23:08:17.987Z"
   },
   {
    "duration": 0,
    "start_time": "2024-05-21T23:08:17.989Z"
   },
   {
    "duration": 0,
    "start_time": "2024-05-21T23:08:17.991Z"
   },
   {
    "duration": 0,
    "start_time": "2024-05-21T23:08:17.992Z"
   },
   {
    "duration": 0,
    "start_time": "2024-05-21T23:08:17.995Z"
   },
   {
    "duration": 224,
    "start_time": "2024-05-21T23:08:59.882Z"
   },
   {
    "duration": 378,
    "start_time": "2024-05-21T23:09:04.129Z"
   },
   {
    "duration": 441,
    "start_time": "2024-05-21T23:09:10.260Z"
   },
   {
    "duration": 273,
    "start_time": "2024-05-21T23:09:15.172Z"
   },
   {
    "duration": 2228,
    "start_time": "2024-05-21T23:09:18.905Z"
   },
   {
    "duration": 55,
    "start_time": "2024-05-21T23:09:27.384Z"
   },
   {
    "duration": 1081,
    "start_time": "2024-05-21T23:10:58.714Z"
   },
   {
    "duration": 1818,
    "start_time": "2024-05-21T23:14:16.008Z"
   },
   {
    "duration": 2454,
    "start_time": "2024-05-21T23:17:14.743Z"
   },
   {
    "duration": 2250,
    "start_time": "2024-05-21T23:17:43.038Z"
   },
   {
    "duration": 4347,
    "start_time": "2024-05-21T23:30:07.376Z"
   },
   {
    "duration": 1905,
    "start_time": "2024-05-21T23:32:16.175Z"
   },
   {
    "duration": 2150,
    "start_time": "2024-05-21T23:33:58.873Z"
   },
   {
    "duration": 1976,
    "start_time": "2024-05-21T23:36:38.236Z"
   },
   {
    "duration": 3412,
    "start_time": "2024-05-21T23:37:02.118Z"
   },
   {
    "duration": 3702,
    "start_time": "2024-05-21T23:37:29.060Z"
   },
   {
    "duration": 2906,
    "start_time": "2024-05-21T23:37:53.123Z"
   },
   {
    "duration": 1835,
    "start_time": "2024-05-21T23:38:17.052Z"
   },
   {
    "duration": 1850,
    "start_time": "2024-05-21T23:39:02.315Z"
   },
   {
    "duration": 2537,
    "start_time": "2024-05-21T23:40:00.647Z"
   },
   {
    "duration": 2519,
    "start_time": "2024-05-21T23:41:12.288Z"
   },
   {
    "duration": 2555,
    "start_time": "2024-05-21T23:41:26.829Z"
   },
   {
    "duration": 7,
    "start_time": "2024-05-21T23:43:08.217Z"
   },
   {
    "duration": 2108,
    "start_time": "2024-05-21T23:44:51.098Z"
   },
   {
    "duration": 2177,
    "start_time": "2024-05-21T23:45:40.716Z"
   },
   {
    "duration": 2327,
    "start_time": "2024-05-21T23:46:18.202Z"
   },
   {
    "duration": 2060,
    "start_time": "2024-05-21T23:52:16.654Z"
   },
   {
    "duration": 1896,
    "start_time": "2024-05-21T23:52:32.301Z"
   },
   {
    "duration": 11,
    "start_time": "2024-05-21T23:52:43.318Z"
   },
   {
    "duration": 1636,
    "start_time": "2024-05-21T23:53:22.943Z"
   },
   {
    "duration": 1843,
    "start_time": "2024-05-21T23:56:51.097Z"
   },
   {
    "duration": 1650,
    "start_time": "2024-05-21T23:56:59.625Z"
   },
   {
    "duration": 1970,
    "start_time": "2024-05-21T23:57:09.963Z"
   },
   {
    "duration": 1618,
    "start_time": "2024-05-21T23:58:08.774Z"
   },
   {
    "duration": 325,
    "start_time": "2024-05-21T23:58:51.774Z"
   },
   {
    "duration": 12,
    "start_time": "2024-05-21T23:59:03.103Z"
   },
   {
    "duration": 13,
    "start_time": "2024-05-21T23:59:17.083Z"
   },
   {
    "duration": 88,
    "start_time": "2024-05-22T00:03:57.193Z"
   },
   {
    "duration": 206,
    "start_time": "2024-05-22T00:04:08.047Z"
   },
   {
    "duration": 210,
    "start_time": "2024-05-22T00:04:41.703Z"
   },
   {
    "duration": 251,
    "start_time": "2024-05-22T00:04:51.741Z"
   },
   {
    "duration": 226,
    "start_time": "2024-05-22T00:05:21.102Z"
   },
   {
    "duration": 259,
    "start_time": "2024-05-22T00:05:35.448Z"
   },
   {
    "duration": 212,
    "start_time": "2024-05-22T00:05:53.484Z"
   },
   {
    "duration": 256,
    "start_time": "2024-05-22T00:07:16.632Z"
   },
   {
    "duration": 221,
    "start_time": "2024-05-22T00:07:32.941Z"
   },
   {
    "duration": 237,
    "start_time": "2024-05-22T00:07:47.236Z"
   },
   {
    "duration": 213,
    "start_time": "2024-05-22T00:08:14.558Z"
   },
   {
    "duration": 270,
    "start_time": "2024-05-22T00:08:26.863Z"
   },
   {
    "duration": 590,
    "start_time": "2024-05-22T00:15:01.152Z"
   },
   {
    "duration": 246,
    "start_time": "2024-05-22T00:15:20.374Z"
   },
   {
    "duration": 255,
    "start_time": "2024-05-22T00:15:26.001Z"
   },
   {
    "duration": 230,
    "start_time": "2024-05-22T00:15:29.444Z"
   },
   {
    "duration": 757,
    "start_time": "2024-05-22T00:16:57.661Z"
   },
   {
    "duration": 771,
    "start_time": "2024-05-22T00:17:08.426Z"
   },
   {
    "duration": 790,
    "start_time": "2024-05-22T00:17:48.941Z"
   },
   {
    "duration": 11,
    "start_time": "2024-05-22T00:36:48.813Z"
   },
   {
    "duration": 437,
    "start_time": "2024-05-22T00:37:39.493Z"
   },
   {
    "duration": 44,
    "start_time": "2024-05-22T00:38:29.318Z"
   },
   {
    "duration": 277,
    "start_time": "2024-05-22T00:42:30.677Z"
   },
   {
    "duration": 1863,
    "start_time": "2024-05-22T00:43:22.310Z"
   },
   {
    "duration": 1320,
    "start_time": "2024-05-22T00:44:06.515Z"
   },
   {
    "duration": 1276,
    "start_time": "2024-05-22T00:44:57.040Z"
   },
   {
    "duration": 1405,
    "start_time": "2024-05-22T00:45:28.102Z"
   },
   {
    "duration": 7,
    "start_time": "2024-05-22T00:46:43.891Z"
   },
   {
    "duration": 1280,
    "start_time": "2024-05-22T00:46:51.829Z"
   },
   {
    "duration": 1399,
    "start_time": "2024-05-22T00:51:28.069Z"
   },
   {
    "duration": 7,
    "start_time": "2024-05-22T00:52:34.607Z"
   },
   {
    "duration": 1210,
    "start_time": "2024-05-22T00:52:42.738Z"
   },
   {
    "duration": 1437,
    "start_time": "2024-05-22T00:53:06.119Z"
   },
   {
    "duration": 1417,
    "start_time": "2024-05-22T00:54:21.924Z"
   },
   {
    "duration": 2198,
    "start_time": "2024-05-22T00:54:33.669Z"
   },
   {
    "duration": 1189,
    "start_time": "2024-05-22T00:54:44.932Z"
   },
   {
    "duration": 1186,
    "start_time": "2024-05-22T00:54:50.109Z"
   },
   {
    "duration": 1001,
    "start_time": "2024-05-22T00:55:37.615Z"
   },
   {
    "duration": 861,
    "start_time": "2024-05-22T00:55:53.538Z"
   },
   {
    "duration": 860,
    "start_time": "2024-05-22T00:56:19.153Z"
   },
   {
    "duration": 854,
    "start_time": "2024-05-22T00:57:40.724Z"
   },
   {
    "duration": 899,
    "start_time": "2024-05-22T01:00:46.279Z"
   },
   {
    "duration": 6488,
    "start_time": "2024-05-22T01:06:33.835Z"
   },
   {
    "duration": 1322,
    "start_time": "2024-05-22T01:07:55.885Z"
   },
   {
    "duration": 2218,
    "start_time": "2024-05-22T01:08:13.028Z"
   },
   {
    "duration": 1703,
    "start_time": "2024-05-22T01:08:31.078Z"
   },
   {
    "duration": 855,
    "start_time": "2024-05-22T01:08:55.488Z"
   },
   {
    "duration": 148,
    "start_time": "2024-05-22T01:37:29.314Z"
   },
   {
    "duration": 73,
    "start_time": "2024-05-22T01:37:55.045Z"
   },
   {
    "duration": 26,
    "start_time": "2024-05-22T01:38:11.737Z"
   },
   {
    "duration": 9,
    "start_time": "2024-05-22T01:38:38.727Z"
   },
   {
    "duration": 23,
    "start_time": "2024-05-22T01:39:16.999Z"
   },
   {
    "duration": 10,
    "start_time": "2024-05-22T01:39:23.576Z"
   },
   {
    "duration": 74,
    "start_time": "2024-05-22T01:39:57.173Z"
   },
   {
    "duration": 75,
    "start_time": "2024-05-22T01:40:25.592Z"
   },
   {
    "duration": 9,
    "start_time": "2024-05-22T01:41:25.282Z"
   },
   {
    "duration": 127,
    "start_time": "2024-05-22T01:41:47.126Z"
   },
   {
    "duration": 9,
    "start_time": "2024-05-22T01:42:03.804Z"
   },
   {
    "duration": 195,
    "start_time": "2024-05-22T01:42:29.568Z"
   },
   {
    "duration": 6,
    "start_time": "2024-05-22T01:42:41.619Z"
   },
   {
    "duration": 75,
    "start_time": "2024-05-22T01:42:56.793Z"
   },
   {
    "duration": 329,
    "start_time": "2024-05-22T01:43:20.335Z"
   },
   {
    "duration": 15,
    "start_time": "2024-05-22T01:43:25.427Z"
   },
   {
    "duration": 9,
    "start_time": "2024-05-22T01:43:33.360Z"
   },
   {
    "duration": 9,
    "start_time": "2024-05-22T01:43:50.251Z"
   },
   {
    "duration": 23,
    "start_time": "2024-05-22T01:44:21.238Z"
   },
   {
    "duration": 10,
    "start_time": "2024-05-22T01:44:26.173Z"
   },
   {
    "duration": 237,
    "start_time": "2024-05-22T01:46:17.266Z"
   },
   {
    "duration": 224,
    "start_time": "2024-05-22T01:46:20.063Z"
   },
   {
    "duration": 200,
    "start_time": "2024-05-22T01:47:23.376Z"
   },
   {
    "duration": 196,
    "start_time": "2024-05-22T01:47:57.254Z"
   },
   {
    "duration": 285,
    "start_time": "2024-05-22T01:53:04.041Z"
   },
   {
    "duration": 207,
    "start_time": "2024-05-22T01:54:02.285Z"
   },
   {
    "duration": 184,
    "start_time": "2024-05-22T01:54:22.196Z"
   },
   {
    "duration": 502,
    "start_time": "2024-05-22T01:59:59.196Z"
   },
   {
    "duration": 41,
    "start_time": "2024-05-22T02:00:54.220Z"
   },
   {
    "duration": 43,
    "start_time": "2024-05-22T02:01:05.856Z"
   },
   {
    "duration": 6,
    "start_time": "2024-05-22T02:01:25.069Z"
   },
   {
    "duration": 506,
    "start_time": "2024-05-22T02:01:41.253Z"
   },
   {
    "duration": 292,
    "start_time": "2024-05-22T02:07:14.247Z"
   },
   {
    "duration": 7,
    "start_time": "2024-05-22T02:09:14.962Z"
   },
   {
    "duration": 138,
    "start_time": "2024-05-22T02:14:17.562Z"
   },
   {
    "duration": 139,
    "start_time": "2024-05-22T02:14:42.767Z"
   },
   {
    "duration": 130,
    "start_time": "2024-05-22T02:14:53.583Z"
   },
   {
    "duration": 54,
    "start_time": "2024-05-22T02:20:21.047Z"
   },
   {
    "duration": 54,
    "start_time": "2024-05-22T02:20:29.010Z"
   },
   {
    "duration": 52,
    "start_time": "2024-05-22T02:20:32.517Z"
   },
   {
    "duration": 114,
    "start_time": "2024-05-22T02:20:37.123Z"
   },
   {
    "duration": 49,
    "start_time": "2024-05-22T02:23:06.138Z"
   },
   {
    "duration": 195,
    "start_time": "2024-05-22T02:23:11.150Z"
   },
   {
    "duration": 310,
    "start_time": "2024-05-22T02:23:58.826Z"
   },
   {
    "duration": 181,
    "start_time": "2024-05-22T02:29:45.589Z"
   },
   {
    "duration": 7,
    "start_time": "2024-05-22T02:31:59.899Z"
   },
   {
    "duration": 381,
    "start_time": "2024-05-22T02:32:06.094Z"
   },
   {
    "duration": 426,
    "start_time": "2024-05-22T02:33:02.055Z"
   },
   {
    "duration": 417,
    "start_time": "2024-05-22T02:33:09.791Z"
   },
   {
    "duration": 24,
    "start_time": "2024-05-22T02:34:11.809Z"
   },
   {
    "duration": 15,
    "start_time": "2024-05-22T02:34:35.487Z"
   },
   {
    "duration": 240,
    "start_time": "2024-05-22T02:40:07.609Z"
   },
   {
    "duration": 210,
    "start_time": "2024-05-22T02:40:17.835Z"
   },
   {
    "duration": 44,
    "start_time": "2024-05-22T02:40:24.465Z"
   },
   {
    "duration": 0,
    "start_time": "2024-05-22T02:41:58.740Z"
   },
   {
    "duration": 411,
    "start_time": "2024-05-22T02:42:02.151Z"
   },
   {
    "duration": 396,
    "start_time": "2024-05-22T02:42:19.901Z"
   },
   {
    "duration": 394,
    "start_time": "2024-05-22T02:42:27.416Z"
   },
   {
    "duration": 2031,
    "start_time": "2024-05-22T02:42:33.762Z"
   },
   {
    "duration": 227,
    "start_time": "2024-05-22T02:42:45.754Z"
   },
   {
    "duration": 8,
    "start_time": "2024-05-22T02:43:48.240Z"
   },
   {
    "duration": 406,
    "start_time": "2024-05-22T02:43:57.735Z"
   },
   {
    "duration": 377,
    "start_time": "2024-05-22T02:45:23.778Z"
   },
   {
    "duration": 36,
    "start_time": "2024-05-22T02:48:05.491Z"
   },
   {
    "duration": 139,
    "start_time": "2024-05-22T02:48:17.317Z"
   },
   {
    "duration": 157,
    "start_time": "2024-05-22T02:48:58.409Z"
   },
   {
    "duration": 156,
    "start_time": "2024-05-22T02:49:36.598Z"
   },
   {
    "duration": 171,
    "start_time": "2024-05-22T02:49:48.866Z"
   },
   {
    "duration": 502,
    "start_time": "2024-05-22T03:11:39.855Z"
   },
   {
    "duration": 2216,
    "start_time": "2024-05-22T03:11:40.360Z"
   },
   {
    "duration": 23,
    "start_time": "2024-05-22T03:11:42.580Z"
   },
   {
    "duration": 39,
    "start_time": "2024-05-22T03:11:42.607Z"
   },
   {
    "duration": 16,
    "start_time": "2024-05-22T03:11:42.653Z"
   },
   {
    "duration": 17,
    "start_time": "2024-05-22T03:11:42.673Z"
   },
   {
    "duration": 78,
    "start_time": "2024-05-22T03:11:42.694Z"
   },
   {
    "duration": 203,
    "start_time": "2024-05-22T03:11:42.779Z"
   },
   {
    "duration": 115,
    "start_time": "2024-05-22T03:11:42.984Z"
   },
   {
    "duration": 36,
    "start_time": "2024-05-22T03:11:43.103Z"
   },
   {
    "duration": 210,
    "start_time": "2024-05-22T03:11:43.143Z"
   },
   {
    "duration": 184,
    "start_time": "2024-05-22T03:11:43.356Z"
   },
   {
    "duration": 105,
    "start_time": "2024-05-22T03:11:43.543Z"
   },
   {
    "duration": 25,
    "start_time": "2024-05-22T03:11:43.656Z"
   },
   {
    "duration": 11,
    "start_time": "2024-05-22T03:11:43.684Z"
   },
   {
    "duration": 167,
    "start_time": "2024-05-22T03:11:43.730Z"
   },
   {
    "duration": 10,
    "start_time": "2024-05-22T03:11:43.901Z"
   },
   {
    "duration": 8,
    "start_time": "2024-05-22T03:11:43.932Z"
   },
   {
    "duration": 7,
    "start_time": "2024-05-22T03:11:43.944Z"
   },
   {
    "duration": 6,
    "start_time": "2024-05-22T03:11:43.955Z"
   },
   {
    "duration": 10,
    "start_time": "2024-05-22T03:11:43.965Z"
   },
   {
    "duration": 1452,
    "start_time": "2024-05-22T03:11:43.979Z"
   },
   {
    "duration": 541,
    "start_time": "2024-05-22T03:11:45.435Z"
   },
   {
    "duration": 1411,
    "start_time": "2024-05-22T03:11:45.979Z"
   },
   {
    "duration": 16,
    "start_time": "2024-05-22T03:11:47.393Z"
   },
   {
    "duration": 28,
    "start_time": "2024-05-22T03:11:47.412Z"
   },
   {
    "duration": 11,
    "start_time": "2024-05-22T03:11:47.443Z"
   },
   {
    "duration": 11,
    "start_time": "2024-05-22T03:11:47.457Z"
   },
   {
    "duration": 58,
    "start_time": "2024-05-22T03:11:47.475Z"
   },
   {
    "duration": 14,
    "start_time": "2024-05-22T03:11:47.536Z"
   },
   {
    "duration": 9,
    "start_time": "2024-05-22T03:11:47.553Z"
   },
   {
    "duration": 16,
    "start_time": "2024-05-22T03:11:47.566Z"
   },
   {
    "duration": 59,
    "start_time": "2024-05-22T03:11:47.586Z"
   },
   {
    "duration": 15,
    "start_time": "2024-05-22T03:11:47.648Z"
   },
   {
    "duration": 15,
    "start_time": "2024-05-22T03:11:47.666Z"
   },
   {
    "duration": 102,
    "start_time": "2024-05-22T03:11:47.685Z"
   },
   {
    "duration": 40,
    "start_time": "2024-05-22T03:11:47.791Z"
   },
   {
    "duration": 574,
    "start_time": "2024-05-22T03:11:47.834Z"
   },
   {
    "duration": 127,
    "start_time": "2024-05-22T03:11:48.412Z"
   },
   {
    "duration": 13,
    "start_time": "2024-05-22T03:11:48.543Z"
   },
   {
    "duration": 8,
    "start_time": "2024-05-22T03:11:48.565Z"
   },
   {
    "duration": 729,
    "start_time": "2024-05-22T03:11:48.576Z"
   },
   {
    "duration": 247,
    "start_time": "2024-05-22T03:11:49.308Z"
   },
   {
    "duration": 414,
    "start_time": "2024-05-22T03:11:49.558Z"
   },
   {
    "duration": 597,
    "start_time": "2024-05-22T03:11:49.989Z"
   },
   {
    "duration": 219,
    "start_time": "2024-05-22T03:11:50.591Z"
   },
   {
    "duration": 52,
    "start_time": "2024-05-22T21:42:31.517Z"
   },
   {
    "duration": 501,
    "start_time": "2024-05-22T21:44:38.551Z"
   },
   {
    "duration": 1804,
    "start_time": "2024-05-22T21:44:39.056Z"
   },
   {
    "duration": 24,
    "start_time": "2024-05-22T21:44:40.863Z"
   },
   {
    "duration": 44,
    "start_time": "2024-05-22T21:44:40.890Z"
   },
   {
    "duration": 16,
    "start_time": "2024-05-22T21:44:40.939Z"
   },
   {
    "duration": 16,
    "start_time": "2024-05-22T21:44:40.959Z"
   },
   {
    "duration": 94,
    "start_time": "2024-05-22T21:44:40.979Z"
   },
   {
    "duration": 198,
    "start_time": "2024-05-22T21:44:41.077Z"
   },
   {
    "duration": 122,
    "start_time": "2024-05-22T21:44:41.279Z"
   },
   {
    "duration": 24,
    "start_time": "2024-05-22T21:44:41.409Z"
   },
   {
    "duration": 262,
    "start_time": "2024-05-22T21:44:41.440Z"
   },
   {
    "duration": 194,
    "start_time": "2024-05-22T21:44:41.705Z"
   },
   {
    "duration": 108,
    "start_time": "2024-05-22T21:44:41.904Z"
   },
   {
    "duration": 41,
    "start_time": "2024-05-22T21:44:42.020Z"
   },
   {
    "duration": 11,
    "start_time": "2024-05-22T21:44:42.064Z"
   },
   {
    "duration": 272,
    "start_time": "2024-05-22T21:44:42.077Z"
   },
   {
    "duration": 10,
    "start_time": "2024-05-22T21:44:42.352Z"
   },
   {
    "duration": 10,
    "start_time": "2024-05-22T21:44:42.365Z"
   },
   {
    "duration": 7,
    "start_time": "2024-05-22T21:44:42.379Z"
   },
   {
    "duration": 49,
    "start_time": "2024-05-22T21:44:42.388Z"
   },
   {
    "duration": 7,
    "start_time": "2024-05-22T21:44:42.440Z"
   },
   {
    "duration": 1520,
    "start_time": "2024-05-22T21:44:42.451Z"
   },
   {
    "duration": 601,
    "start_time": "2024-05-22T21:44:43.974Z"
   },
   {
    "duration": 1444,
    "start_time": "2024-05-22T21:44:44.579Z"
   },
   {
    "duration": 19,
    "start_time": "2024-05-22T21:44:46.026Z"
   },
   {
    "duration": 12,
    "start_time": "2024-05-22T21:44:46.049Z"
   },
   {
    "duration": 13,
    "start_time": "2024-05-22T21:44:46.065Z"
   },
   {
    "duration": 52,
    "start_time": "2024-05-22T21:44:46.082Z"
   },
   {
    "duration": 18,
    "start_time": "2024-05-22T21:44:46.138Z"
   },
   {
    "duration": 15,
    "start_time": "2024-05-22T21:44:46.159Z"
   },
   {
    "duration": 10,
    "start_time": "2024-05-22T21:44:46.177Z"
   },
   {
    "duration": 14,
    "start_time": "2024-05-22T21:44:46.234Z"
   },
   {
    "duration": 17,
    "start_time": "2024-05-22T21:44:46.252Z"
   },
   {
    "duration": 22,
    "start_time": "2024-05-22T21:44:46.273Z"
   },
   {
    "duration": 15,
    "start_time": "2024-05-22T21:44:46.335Z"
   },
   {
    "duration": 85,
    "start_time": "2024-05-22T21:44:46.354Z"
   },
   {
    "duration": 11,
    "start_time": "2024-05-22T21:44:46.442Z"
   },
   {
    "duration": 610,
    "start_time": "2024-05-22T21:44:46.456Z"
   },
   {
    "duration": 123,
    "start_time": "2024-05-22T21:44:47.073Z"
   },
   {
    "duration": 13,
    "start_time": "2024-05-22T21:44:47.200Z"
   },
   {
    "duration": 11,
    "start_time": "2024-05-22T21:44:47.235Z"
   },
   {
    "duration": 4639,
    "start_time": "2024-05-22T21:44:47.249Z"
   },
   {
    "duration": 264,
    "start_time": "2024-05-22T21:44:51.891Z"
   },
   {
    "duration": 446,
    "start_time": "2024-05-22T21:44:52.159Z"
   },
   {
    "duration": 543,
    "start_time": "2024-05-22T21:44:52.610Z"
   },
   {
    "duration": 284,
    "start_time": "2024-05-22T21:44:53.156Z"
   },
   {
    "duration": 1961,
    "start_time": "2024-05-22T21:44:53.443Z"
   },
   {
    "duration": 2177,
    "start_time": "2024-05-22T21:44:55.410Z"
   },
   {
    "duration": 306,
    "start_time": "2024-05-22T21:44:57.590Z"
   },
   {
    "duration": 263,
    "start_time": "2024-05-22T21:44:57.899Z"
   },
   {
    "duration": 843,
    "start_time": "2024-05-22T21:44:58.165Z"
   },
   {
    "duration": 964,
    "start_time": "2024-05-22T21:44:59.012Z"
   },
   {
    "duration": 485,
    "start_time": "2024-05-22T21:44:59.981Z"
   },
   {
    "duration": 257,
    "start_time": "2024-05-22T21:45:00.472Z"
   },
   {
    "duration": 203,
    "start_time": "2024-05-22T21:45:00.736Z"
   },
   {
    "duration": 7,
    "start_time": "2024-05-22T21:48:49.645Z"
   },
   {
    "duration": 5,
    "start_time": "2024-05-22T21:52:48.920Z"
   },
   {
    "duration": 350,
    "start_time": "2024-05-22T21:54:34.851Z"
   },
   {
    "duration": 284,
    "start_time": "2024-05-22T21:54:42.847Z"
   },
   {
    "duration": 406,
    "start_time": "2024-05-22T21:54:48.392Z"
   },
   {
    "duration": 491,
    "start_time": "2024-05-22T21:54:57.120Z"
   },
   {
    "duration": 343,
    "start_time": "2024-05-22T21:55:04.259Z"
   },
   {
    "duration": 241,
    "start_time": "2024-05-22T21:55:19.232Z"
   },
   {
    "duration": 328,
    "start_time": "2024-05-22T21:55:29.728Z"
   },
   {
    "duration": 211,
    "start_time": "2024-05-22T21:57:29.606Z"
   },
   {
    "duration": 40,
    "start_time": "2024-05-22T21:57:45.112Z"
   },
   {
    "duration": 17,
    "start_time": "2024-05-22T21:57:58.247Z"
   },
   {
    "duration": 16,
    "start_time": "2024-05-22T21:58:14.878Z"
   },
   {
    "duration": 1336,
    "start_time": "2024-05-22T21:58:25.679Z"
   },
   {
    "duration": 16,
    "start_time": "2024-05-22T22:08:34.906Z"
   },
   {
    "duration": 29,
    "start_time": "2024-05-22T22:09:37.654Z"
   },
   {
    "duration": 34,
    "start_time": "2024-05-22T22:15:13.348Z"
   },
   {
    "duration": 1127,
    "start_time": "2024-05-22T22:27:26.744Z"
   },
   {
    "duration": 492,
    "start_time": "2024-05-22T22:28:41.651Z"
   },
   {
    "duration": 569,
    "start_time": "2024-05-22T22:29:02.621Z"
   },
   {
    "duration": 516,
    "start_time": "2024-05-22T22:29:30.597Z"
   },
   {
    "duration": 8,
    "start_time": "2024-05-22T22:42:20.755Z"
   },
   {
    "duration": 4,
    "start_time": "2024-05-22T22:44:21.641Z"
   },
   {
    "duration": 718,
    "start_time": "2024-05-22T22:44:29.772Z"
   },
   {
    "duration": 1706,
    "start_time": "2024-05-22T22:44:30.494Z"
   },
   {
    "duration": 210,
    "start_time": "2024-05-22T22:44:32.203Z"
   },
   {
    "duration": 48,
    "start_time": "2024-05-22T22:44:32.417Z"
   },
   {
    "duration": 17,
    "start_time": "2024-05-22T22:44:32.468Z"
   },
   {
    "duration": 17,
    "start_time": "2024-05-22T22:44:32.489Z"
   },
   {
    "duration": 1447,
    "start_time": "2024-05-22T22:44:32.534Z"
   },
   {
    "duration": 173,
    "start_time": "2024-05-22T22:44:33.985Z"
   },
   {
    "duration": 99,
    "start_time": "2024-05-22T22:44:34.162Z"
   },
   {
    "duration": 16,
    "start_time": "2024-05-22T22:44:34.268Z"
   },
   {
    "duration": 206,
    "start_time": "2024-05-22T22:44:34.287Z"
   },
   {
    "duration": 171,
    "start_time": "2024-05-22T22:44:34.496Z"
   },
   {
    "duration": 99,
    "start_time": "2024-05-22T22:44:34.669Z"
   },
   {
    "duration": 22,
    "start_time": "2024-05-22T22:44:34.771Z"
   },
   {
    "duration": 12,
    "start_time": "2024-05-22T22:44:34.796Z"
   },
   {
    "duration": 185,
    "start_time": "2024-05-22T22:44:34.834Z"
   },
   {
    "duration": 9,
    "start_time": "2024-05-22T22:44:35.034Z"
   },
   {
    "duration": 31,
    "start_time": "2024-05-22T22:44:35.047Z"
   },
   {
    "duration": 7,
    "start_time": "2024-05-22T22:44:35.082Z"
   },
   {
    "duration": 41,
    "start_time": "2024-05-22T22:44:35.092Z"
   },
   {
    "duration": 5,
    "start_time": "2024-05-22T22:44:35.140Z"
   },
   {
    "duration": 6,
    "start_time": "2024-05-22T22:44:35.148Z"
   },
   {
    "duration": 1368,
    "start_time": "2024-05-22T22:44:35.156Z"
   },
   {
    "duration": 480,
    "start_time": "2024-05-22T22:44:36.527Z"
   },
   {
    "duration": 1412,
    "start_time": "2024-05-22T22:44:37.010Z"
   },
   {
    "duration": 17,
    "start_time": "2024-05-22T22:44:38.425Z"
   },
   {
    "duration": 18,
    "start_time": "2024-05-22T22:44:38.446Z"
   },
   {
    "duration": 11,
    "start_time": "2024-05-22T22:44:38.472Z"
   },
   {
    "duration": 10,
    "start_time": "2024-05-22T22:44:38.489Z"
   },
   {
    "duration": 17,
    "start_time": "2024-05-22T22:44:38.534Z"
   },
   {
    "duration": 14,
    "start_time": "2024-05-22T22:44:38.554Z"
   },
   {
    "duration": 9,
    "start_time": "2024-05-22T22:44:38.571Z"
   },
   {
    "duration": 56,
    "start_time": "2024-05-22T22:44:38.583Z"
   },
   {
    "duration": 15,
    "start_time": "2024-05-22T22:44:38.642Z"
   },
   {
    "duration": 16,
    "start_time": "2024-05-22T22:44:38.661Z"
   },
   {
    "duration": 58,
    "start_time": "2024-05-22T22:44:38.680Z"
   },
   {
    "duration": 50,
    "start_time": "2024-05-22T22:44:38.745Z"
   },
   {
    "duration": 36,
    "start_time": "2024-05-22T22:44:38.798Z"
   },
   {
    "duration": 519,
    "start_time": "2024-05-22T22:44:38.840Z"
   },
   {
    "duration": 109,
    "start_time": "2024-05-22T22:44:39.362Z"
   },
   {
    "duration": 11,
    "start_time": "2024-05-22T22:44:39.474Z"
   },
   {
    "duration": 9,
    "start_time": "2024-05-22T22:44:39.489Z"
   },
   {
    "duration": 395,
    "start_time": "2024-05-22T22:44:39.501Z"
   },
   {
    "duration": 237,
    "start_time": "2024-05-22T22:44:39.900Z"
   },
   {
    "duration": 387,
    "start_time": "2024-05-22T22:44:40.139Z"
   },
   {
    "duration": 465,
    "start_time": "2024-05-22T22:44:40.533Z"
   },
   {
    "duration": 215,
    "start_time": "2024-05-22T22:44:41.001Z"
   },
   {
    "duration": 1879,
    "start_time": "2024-05-22T22:44:41.219Z"
   },
   {
    "duration": 1822,
    "start_time": "2024-05-22T22:44:43.101Z"
   },
   {
    "duration": 147,
    "start_time": "2024-05-22T22:44:44.933Z"
   },
   {
    "duration": 252,
    "start_time": "2024-05-22T22:44:45.083Z"
   },
   {
    "duration": 786,
    "start_time": "2024-05-22T22:44:45.338Z"
   },
   {
    "duration": 893,
    "start_time": "2024-05-22T22:44:46.133Z"
   },
   {
    "duration": 457,
    "start_time": "2024-05-22T22:44:47.028Z"
   },
   {
    "duration": 236,
    "start_time": "2024-05-22T22:44:47.487Z"
   },
   {
    "duration": 185,
    "start_time": "2024-05-22T22:44:47.726Z"
   }
  ],
  "colab": {
   "provenance": []
  },
  "kernelspec": {
   "display_name": "Python 3 (ipykernel)",
   "language": "python",
   "name": "python3"
  },
  "language_info": {
   "codemirror_mode": {
    "name": "ipython",
    "version": 3
   },
   "file_extension": ".py",
   "mimetype": "text/x-python",
   "name": "python",
   "nbconvert_exporter": "python",
   "pygments_lexer": "ipython3",
   "version": "3.9.19"
  },
  "toc": {
   "base_numbering": 1,
   "nav_menu": {},
   "number_sections": true,
   "sideBar": true,
   "skip_h1_title": true,
   "title_cell": "Table of Contents",
   "title_sidebar": "Contents",
   "toc_cell": false,
   "toc_position": {},
   "toc_section_display": true,
   "toc_window_display": false
  },
  "vscode": {
   "interpreter": {
    "hash": "01a7be9ec63e704a62cefc5fe7a4756944464ee731be31632bdf42a4cb4688cf"
   }
  }
 },
 "nbformat": 4,
 "nbformat_minor": 5
}
