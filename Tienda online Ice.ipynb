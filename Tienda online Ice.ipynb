{
 "cells": [
  {
   "cell_type": "markdown",
   "metadata": {
    "tags": [
     "e5c1f0c2-db9f-43a0-99b9-4875c52427e8"
    ]
   },
   "source": [
    "# Proyecto de Análisis de la empresa ICE del año 2016"
   ]
  },
  {
   "cell_type": "markdown",
   "metadata": {},
   "source": [
    "En el siguiente análisis, presentaremos información de la tienda online Ice que vende videojuegos por todo el mundo. \n",
    "Los datos se centran en las reseñas de usuarios y expertos, los géneros, las plataformas y los datos históricos sobre las ventas de juegos. \n",
    "\n",
    "El objetivo de nuestro análisis es determinar el mejor enfoque para la campaña publicitaria para el año 2017. \n",
    "\n",
    "Vamos a realizar nuestro análisis, primero preparando y limpiando nuestros datos, identificando duplicados, ausentes y sustituyendo cuando creamos conveniente. \n",
    "\n",
    "Analizaremos nuestros datos por año, plataforma y en un periodo relevante, según ventas por regiones, géneros y reseñas. "
   ]
  },
  {
   "cell_type": "markdown",
   "metadata": {},
   "source": [
    "## Preparación de los datos "
   ]
  },
  {
   "cell_type": "markdown",
   "metadata": {},
   "source": [
    "### Cargar datos"
   ]
  },
  {
   "cell_type": "code",
   "execution_count": 1,
   "metadata": {},
   "outputs": [],
   "source": [
    "# Cargamos todas las librerías\n",
    "from scipy import stats as st\n",
    "import numpy as np\n",
    "import pandas as pd\n",
    "from matplotlib import pyplot as plt \n",
    "import seaborn as sns"
   ]
  },
  {
   "cell_type": "code",
   "execution_count": 2,
   "metadata": {},
   "outputs": [],
   "source": [
    "# Cargamos el dataset\n",
    "df_games = pd.read_csv('/datasets/games.csv', header='infer')"
   ]
  },
  {
   "cell_type": "markdown",
   "metadata": {},
   "source": [
    "La descripción de nuestros datos:\n",
    "* Name (Nombre)\n",
    "* Platform (Plataforma)\n",
    "* Year_of_Release (Año de lanzamiento)\n",
    "* Genre (Género)\n",
    "* NA_sales (ventas en Norteamérica en millones de dólares estadounidenses)\n",
    "* EU_sales (ventas en Europa en millones de dólares estadounidenses)\n",
    "* JP_sales (ventas en Japón en millones de dólares estadounidenses)\n",
    "* Other_sales (ventas en otros países en millones de dólares estadounidenses)\n",
    "* Critic_Score (máximo de 100)\n",
    "* User_Score (máximo de 10)\n",
    "* Rating (ESRB)\n"
   ]
  },
  {
   "cell_type": "code",
   "execution_count": 3,
   "metadata": {},
   "outputs": [
    {
     "name": "stdout",
     "output_type": "stream",
     "text": [
      "<class 'pandas.core.frame.DataFrame'>\n",
      "RangeIndex: 16715 entries, 0 to 16714\n",
      "Data columns (total 11 columns):\n",
      " #   Column           Non-Null Count  Dtype  \n",
      "---  ------           --------------  -----  \n",
      " 0   Name             16713 non-null  object \n",
      " 1   Platform         16715 non-null  object \n",
      " 2   Year_of_Release  16446 non-null  float64\n",
      " 3   Genre            16713 non-null  object \n",
      " 4   NA_sales         16715 non-null  float64\n",
      " 5   EU_sales         16715 non-null  float64\n",
      " 6   JP_sales         16715 non-null  float64\n",
      " 7   Other_sales      16715 non-null  float64\n",
      " 8   Critic_Score     8137 non-null   float64\n",
      " 9   User_Score       10014 non-null  object \n",
      " 10  Rating           9949 non-null   object \n",
      "dtypes: float64(6), object(5)\n",
      "memory usage: 1.4+ MB\n",
      "0\n"
     ]
    }
   ],
   "source": [
    "# Imprimimos información general del DataFrame y verificamos por filas duplicadas\n",
    "df_games.info()\n",
    "print(df_games.duplicated().sum())"
   ]
  },
  {
   "cell_type": "markdown",
   "metadata": {},
   "source": [
    "#### Observaciones\n",
    "* Notamos que no tenemos filas completamente duplicadas\n",
    "* Contamos con 6 columnas con valores ausentes, **Name, Year_of_Release, Genre, Critic_Score, User_Score, Rating**\n",
    "* Cambiaremos los nombres de las columnas a minúsculas para evitar errores futuros de referencia. \n",
    "* Cambiaremos el tipo de valor de **Year_of_Release, User_Score y Rating**"
   ]
  },
  {
   "cell_type": "code",
   "execution_count": 4,
   "metadata": {},
   "outputs": [
    {
     "name": "stdout",
     "output_type": "stream",
     "text": [
      "                       name platform  year_of_release         genre  na_sales  \\\n",
      "0                Wii Sports      Wii           2006.0        Sports     41.36   \n",
      "1         Super Mario Bros.      NES           1985.0      Platform     29.08   \n",
      "2            Mario Kart Wii      Wii           2008.0        Racing     15.68   \n",
      "3         Wii Sports Resort      Wii           2009.0        Sports     15.61   \n",
      "4  Pokemon Red/Pokemon Blue       GB           1996.0  Role-Playing     11.27   \n",
      "\n",
      "   eu_sales  jp_sales  other_sales  critic_score user_score rating  \n",
      "0     28.96      3.77         8.45          76.0          8      E  \n",
      "1      3.58      6.81         0.77           NaN        NaN    NaN  \n",
      "2     12.76      3.79         3.29          82.0        8.3      E  \n",
      "3     10.93      3.28         2.95          80.0          8      E  \n",
      "4      8.89     10.22         1.00           NaN        NaN    NaN  \n"
     ]
    }
   ],
   "source": [
    "# Cambiamos los nombres de las columnas a minúsculas \n",
    "new_col_names = []\n",
    "for old_name in df_games.columns:\n",
    "    name_lowered = old_name.lower()\n",
    "    new_col_names.append(name_lowered)\n",
    "df_games.columns = new_col_names\n",
    "print(df_games.head())"
   ]
  },
  {
   "cell_type": "markdown",
   "metadata": {},
   "source": [
    "### Valores Duplicados"
   ]
  },
  {
   "cell_type": "code",
   "execution_count": 5,
   "metadata": {},
   "outputs": [
    {
     "name": "stdout",
     "output_type": "stream",
     "text": [
      "5155\n"
     ]
    }
   ],
   "source": [
    "# Buscamos que no haya duplicados en la columna de name, sería la única a verificar\n",
    "print(df_games.duplicated(subset=['name']).sum()) "
   ]
  },
  {
   "cell_type": "code",
   "execution_count": 6,
   "metadata": {},
   "outputs": [
    {
     "name": "stdout",
     "output_type": "stream",
     "text": [
      "Need for Speed: Most Wanted                 12\n",
      "Madden NFL 07                                9\n",
      "LEGO Marvel Super Heroes                     9\n",
      "FIFA 14                                      9\n",
      "Ratatouille                                  9\n",
      "                                            ..\n",
      "Warcraft III: Reign of Chaos                 1\n",
      "Etrian Mystery Dungeon                       1\n",
      "Fullmetal Alchemist and the Broken Angel     1\n",
      "Namco Museum Vol.5                           1\n",
      "Driving Simulator 2011                       1\n",
      "Name: name, Length: 11560, dtype: int64\n"
     ]
    }
   ],
   "source": [
    "# Eliminamos los espacios al inicio de los nombres y buscamos duplicados\n",
    "df_games['name'] = df_games['name'].str.strip()\n",
    "print(df_games['name'].value_counts(dropna=False))"
   ]
  },
  {
   "cell_type": "code",
   "execution_count": 7,
   "metadata": {},
   "outputs": [
    {
     "name": "stdout",
     "output_type": "stream",
     "text": [
      "                              name platform  year_of_release   genre  \\\n",
      "253    Need for Speed: Most Wanted      PS2           2005.0  Racing   \n",
      "523    Need for Speed: Most Wanted      PS3           2012.0  Racing   \n",
      "1190   Need for Speed: Most Wanted     X360           2012.0  Racing   \n",
      "1591   Need for Speed: Most Wanted     X360           2005.0  Racing   \n",
      "1998   Need for Speed: Most Wanted       XB           2005.0  Racing   \n",
      "2048   Need for Speed: Most Wanted      PSV           2012.0  Racing   \n",
      "3581   Need for Speed: Most Wanted       GC           2005.0  Racing   \n",
      "5972   Need for Speed: Most Wanted       PC           2005.0  Racing   \n",
      "6273   Need for Speed: Most Wanted     WiiU           2013.0  Racing   \n",
      "6410   Need for Speed: Most Wanted       DS           2005.0  Racing   \n",
      "6473   Need for Speed: Most Wanted      GBA           2005.0  Racing   \n",
      "11715  Need for Speed: Most Wanted       PC           2012.0  Racing   \n",
      "\n",
      "       na_sales  eu_sales  jp_sales  other_sales  critic_score user_score  \\\n",
      "253        2.03      1.79      0.08         0.47          82.0        9.1   \n",
      "523        0.71      1.46      0.06         0.58           NaN        NaN   \n",
      "1190       0.62      0.78      0.01         0.15          83.0        8.5   \n",
      "1591       1.00      0.13      0.02         0.10          83.0        8.5   \n",
      "1998       0.53      0.46      0.00         0.05          83.0        8.8   \n",
      "2048       0.33      0.45      0.01         0.22           NaN        NaN   \n",
      "3581       0.43      0.11      0.00         0.02          80.0        9.1   \n",
      "5972       0.02      0.23      0.00         0.04          82.0        8.5   \n",
      "6273       0.13      0.12      0.00         0.02           NaN        NaN   \n",
      "6410       0.24      0.01      0.00         0.02          45.0        6.1   \n",
      "6473       0.19      0.07      0.00         0.00           NaN        8.3   \n",
      "11715      0.00      0.06      0.00         0.02          82.0        8.5   \n",
      "\n",
      "      rating  \n",
      "253        T  \n",
      "523      NaN  \n",
      "1190       T  \n",
      "1591       T  \n",
      "1998       T  \n",
      "2048     NaN  \n",
      "3581       T  \n",
      "5972       T  \n",
      "6273     NaN  \n",
      "6410       E  \n",
      "6473       E  \n",
      "11715      T  \n"
     ]
    }
   ],
   "source": [
    "# Hacemos la prueba con el juego que más se repite\n",
    "print(df_games[df_games['name'] == 'Need for Speed: Most Wanted'])"
   ]
  },
  {
   "cell_type": "markdown",
   "metadata": {},
   "source": [
    "#### Observaciones\n",
    "* Notamos que a pesar de tener 5155 duplicados en los nombres, es debido a que se presentan en diferentes plataformas y diferentes años, por lo que por el momento no eliminaremos filas"
   ]
  },
  {
   "cell_type": "markdown",
   "metadata": {},
   "source": [
    "### Valores Ausentes"
   ]
  },
  {
   "cell_type": "markdown",
   "metadata": {},
   "source": [
    "#### Columna 'name'"
   ]
  },
  {
   "cell_type": "code",
   "execution_count": 8,
   "metadata": {},
   "outputs": [
    {
     "name": "stdout",
     "output_type": "stream",
     "text": [
      "      name platform  year_of_release genre  na_sales  eu_sales  jp_sales  \\\n",
      "659    NaN      GEN           1993.0   NaN      1.78      0.53      0.00   \n",
      "14244  NaN      GEN           1993.0   NaN      0.00      0.00      0.03   \n",
      "\n",
      "       other_sales  critic_score user_score rating  \n",
      "659           0.08           NaN        NaN    NaN  \n",
      "14244         0.00           NaN        NaN    NaN  \n"
     ]
    }
   ],
   "source": [
    "# Verificamos los valores ausentes por columna\n",
    "print(df_games[df_games['name'].isna()])"
   ]
  },
  {
   "cell_type": "code",
   "execution_count": 9,
   "metadata": {},
   "outputs": [
    {
     "name": "stdout",
     "output_type": "stream",
     "text": [
      "Empty DataFrame\n",
      "Columns: [name, platform, year_of_release, genre, na_sales, eu_sales, jp_sales, other_sales, critic_score, user_score, rating]\n",
      "Index: []\n"
     ]
    }
   ],
   "source": [
    "# Sustituimos los valores ausentes en 'name' por cadenas vacías\n",
    "df_games['name'] = df_games['name'].fillna('')\n",
    "print(df_games[df_games['name'].isna()])"
   ]
  },
  {
   "cell_type": "markdown",
   "metadata": {},
   "source": [
    "#### Columna 'genre'"
   ]
  },
  {
   "cell_type": "code",
   "execution_count": 10,
   "metadata": {},
   "outputs": [
    {
     "name": "stdout",
     "output_type": "stream",
     "text": [
      "      name platform  year_of_release genre  na_sales  eu_sales  jp_sales  \\\n",
      "659             GEN           1993.0   NaN      1.78      0.53      0.00   \n",
      "14244           GEN           1993.0   NaN      0.00      0.00      0.03   \n",
      "\n",
      "       other_sales  critic_score user_score rating  \n",
      "659           0.08           NaN        NaN    NaN  \n",
      "14244         0.00           NaN        NaN    NaN  \n"
     ]
    }
   ],
   "source": [
    "# Verificamos los valores ausentes por columna\n",
    "print(df_games[df_games['genre'].isna()])"
   ]
  },
  {
   "cell_type": "code",
   "execution_count": 11,
   "metadata": {},
   "outputs": [
    {
     "name": "stdout",
     "output_type": "stream",
     "text": [
      "Empty DataFrame\n",
      "Columns: [name, platform, year_of_release, genre, na_sales, eu_sales, jp_sales, other_sales, critic_score, user_score, rating]\n",
      "Index: []\n"
     ]
    }
   ],
   "source": [
    "# Sustituimos los valores ausentes en 'genre' por cadenas vacías\n",
    "df_games['genre'] = df_games['genre'].fillna('')\n",
    "print(df_games[df_games['genre'].isna()])"
   ]
  },
  {
   "cell_type": "markdown",
   "metadata": {},
   "source": [
    "#### Columna 'rating'"
   ]
  },
  {
   "cell_type": "code",
   "execution_count": 12,
   "metadata": {},
   "outputs": [
    {
     "name": "stdout",
     "output_type": "stream",
     "text": [
      "['E' nan 'M' 'T' 'E10+' 'K-A' 'AO' 'EC' 'RP']\n"
     ]
    }
   ],
   "source": [
    "# Verificamos los valores ausentes por columna\n",
    "print(df_games['rating'].unique())"
   ]
  },
  {
   "cell_type": "code",
   "execution_count": 13,
   "metadata": {},
   "outputs": [
    {
     "name": "stdout",
     "output_type": "stream",
     "text": [
      "['E' '' 'M' 'T' 'E10+' 'K-A' 'AO' 'EC' 'RP']\n"
     ]
    }
   ],
   "source": [
    "# Sustituimos los valores ausentes por cadenas vacías\n",
    "df_games['rating'] = df_games['rating'].fillna('')\n",
    "print(df_games['rating'].unique())"
   ]
  },
  {
   "cell_type": "markdown",
   "metadata": {},
   "source": [
    "#### Columna 'year_of_release'"
   ]
  },
  {
   "cell_type": "code",
   "execution_count": 14,
   "metadata": {},
   "outputs": [
    {
     "name": "stdout",
     "output_type": "stream",
     "text": [
      "0        2006.0\n",
      "1        1985.0\n",
      "2        2008.0\n",
      "3        2009.0\n",
      "4        1996.0\n",
      "          ...  \n",
      "16710    2016.0\n",
      "16711    2006.0\n",
      "16712    2016.0\n",
      "16713    2003.0\n",
      "16714    2016.0\n",
      "Name: year_of_release, Length: 16715, dtype: float64\n"
     ]
    }
   ],
   "source": [
    "# Convertimos la columna de 'year_of_release' al tipo datetime\n",
    "df_games['year_of_release'] = pd.to_datetime(df_games['year_of_release'], format = '%Y')\n",
    "df_games['year_of_release'] = pd.DatetimeIndex(df_games['year_of_release']).year\n",
    "print(df_games['year_of_release'])"
   ]
  },
  {
   "cell_type": "code",
   "execution_count": 15,
   "metadata": {},
   "outputs": [
    {
     "name": "stdout",
     "output_type": "stream",
     "text": [
      "                         name platform  year_of_release    genre  na_sales  \\\n",
      "32    Call of Duty: Black Ops     X360           2010.0  Shooter      9.70   \n",
      "41    Call of Duty: Black Ops      PS3           2010.0  Shooter      5.99   \n",
      "1131  Call of Duty: Black Ops       PC              NaN  Shooter      0.58   \n",
      "1412  Call of Duty: Black Ops      Wii           2010.0  Shooter      0.80   \n",
      "3439  Call of Duty: Black Ops       DS           2010.0  Shooter      0.50   \n",
      "\n",
      "      eu_sales  jp_sales  other_sales  critic_score user_score rating  \n",
      "32        3.68      0.11         1.13          87.0        6.3      M  \n",
      "41        4.37      0.48         1.79          88.0        6.4      M  \n",
      "1131      0.81      0.00         0.23          81.0        5.2      M  \n",
      "1412      0.45      0.00         0.12          80.0        5.8      M  \n",
      "3439      0.04      0.00         0.04          74.0          6      T  \n"
     ]
    }
   ],
   "source": [
    "# Identificamos que de los valores ausentes en los años, corresponden al mismo juego\n",
    "print(df_games[df_games['name'] == 'Call of Duty: Black Ops'])"
   ]
  },
  {
   "cell_type": "code",
   "execution_count": 16,
   "metadata": {},
   "outputs": [
    {
     "name": "stdout",
     "output_type": "stream",
     "text": [
      "                                           name platform  year_of_release  \\\n",
      "475                  wwe Smackdown vs. Raw 2006      PS2              NaN   \n",
      "627                                   Rock Band     X360              NaN   \n",
      "657    Frogger's Adventures: Temple of the Frog      GBA              NaN   \n",
      "805                                   Rock Band      Wii              NaN   \n",
      "1142                                  Rock Band      PS3              NaN   \n",
      "...                                         ...      ...              ...   \n",
      "16277           Homeworld Remastered Collection       PC              NaN   \n",
      "16288                                    Shorts       DS              NaN   \n",
      "16348              Agarest Senki: Re-appearance      PS3              NaN   \n",
      "16458               Hakuouki: Shinsengumi Kitan      PS3              NaN   \n",
      "16522                              Virtua Quest       GC              NaN   \n",
      "\n",
      "              genre  na_sales  eu_sales  jp_sales  other_sales  critic_score  \\\n",
      "475        Fighting      1.57      1.02      0.00         0.41           NaN   \n",
      "627            Misc      1.93      0.33      0.00         0.21          92.0   \n",
      "657       Adventure      2.15      0.18      0.00         0.07          73.0   \n",
      "805            Misc      1.33      0.56      0.00         0.20          80.0   \n",
      "1142           Misc      0.99      0.41      0.00         0.22          92.0   \n",
      "...             ...       ...       ...       ...          ...           ...   \n",
      "16277      Strategy      0.00      0.01      0.00         0.00          86.0   \n",
      "16288      Platform      0.01      0.00      0.00         0.00           NaN   \n",
      "16348  Role-Playing      0.00      0.00      0.01         0.00           NaN   \n",
      "16458     Adventure      0.01      0.00      0.00         0.00           NaN   \n",
      "16522  Role-Playing      0.01      0.00      0.00         0.00          55.0   \n",
      "\n",
      "      user_score rating  \n",
      "475          NaN         \n",
      "627          8.2      T  \n",
      "657          tbd      E  \n",
      "805          6.3      T  \n",
      "1142         8.4      T  \n",
      "...          ...    ...  \n",
      "16277        8.2   E10+  \n",
      "16288        tbd   E10+  \n",
      "16348        NaN         \n",
      "16458        NaN         \n",
      "16522        5.5      T  \n",
      "\n",
      "[146 rows x 11 columns]\n"
     ]
    }
   ],
   "source": [
    "# Reemplazamos todos los valores ausentes con el mismo año con el que correspondia al mismo videojuego\n",
    "df_games['year_of_release'] = df_games.groupby('name')['year_of_release'].transform(lambda x: x.fillna(method='ffill').fillna(method='bfill'))\n",
    "print(df_games[df_games['year_of_release'].isna()])"
   ]
  },
  {
   "cell_type": "code",
   "execution_count": 17,
   "metadata": {},
   "outputs": [
    {
     "name": "stdout",
     "output_type": "stream",
     "text": [
      "           name platform  year_of_release genre  na_sales  eu_sales  jp_sales  \\\n",
      "627   Rock Band     X360              NaN  Misc      1.93      0.33       0.0   \n",
      "805   Rock Band      Wii              NaN  Misc      1.33      0.56       0.0   \n",
      "1142  Rock Band      PS3              NaN  Misc      0.99      0.41       0.0   \n",
      "1840  Rock Band      PS2              NaN  Misc      0.71      0.06       0.0   \n",
      "\n",
      "      other_sales  critic_score user_score rating  \n",
      "627          0.21          92.0        8.2      T  \n",
      "805          0.20          80.0        6.3      T  \n",
      "1142         0.22          92.0        8.4      T  \n",
      "1840         0.35          82.0        6.8      T  \n"
     ]
    }
   ],
   "source": [
    "# Comprobamos con uno de los nombres con valor ausente que en ninguna plataforma contamos con el año\n",
    "print(df_games[df_games['name'] == 'Rock Band'])"
   ]
  },
  {
   "cell_type": "code",
   "execution_count": 18,
   "metadata": {},
   "outputs": [
    {
     "name": "stdout",
     "output_type": "stream",
     "text": [
      "2008.0    1441\n",
      "2009.0    1430\n",
      "2010.0    1271\n",
      "2007.0    1202\n",
      "2011.0    1153\n",
      "2006.0    1020\n",
      "2005.0     947\n",
      "2002.0     845\n",
      "2003.0     784\n",
      "2004.0     764\n",
      "2012.0     662\n",
      "2015.0     606\n",
      "2014.0     582\n",
      "2013.0     547\n",
      "2016.0     502\n",
      "2001.0     485\n",
      "1998.0     379\n",
      "2000.0     350\n",
      "1999.0     339\n",
      "1997.0     289\n",
      "1996.0     263\n",
      "1995.0     219\n",
      "NaN        146\n",
      "1994.0     122\n",
      "1993.0      62\n",
      "1981.0      46\n",
      "1992.0      43\n",
      "1991.0      41\n",
      "1982.0      36\n",
      "1986.0      21\n",
      "1983.0      17\n",
      "1989.0      17\n",
      "1990.0      16\n",
      "1987.0      16\n",
      "1988.0      15\n",
      "1984.0      14\n",
      "1985.0      14\n",
      "1980.0       9\n",
      "Name: year_of_release, dtype: int64\n",
      "\n",
      "El promedio es: 2006.489468284145\n",
      "La mediana es: 2007.0\n",
      "El año mínimo es: 1980.0\n",
      "El año máximo es: 2016.0\n"
     ]
    }
   ],
   "source": [
    "# Sacamos la media y la mediana del año, el valor mínimo, máximo y contamos los valores de cada año\n",
    "year_avg = df_games['year_of_release'].mean()\n",
    "year_median = df_games['year_of_release'].median()\n",
    "year_min = df_games['year_of_release'].min()\n",
    "year_max = df_games['year_of_release'].max()\n",
    "print(df_games['year_of_release'].value_counts(dropna=False))\n",
    "print()\n",
    "print('El promedio es:', year_avg)\n",
    "print('La mediana es:', year_median)\n",
    "print('El año mínimo es:', year_min)\n",
    "print('El año máximo es:', year_max)"
   ]
  },
  {
   "cell_type": "markdown",
   "metadata": {},
   "source": [
    "Gracias a los datos anteriores, decidimos en sustituir los datos ausentes restantes con el valor de la media 2006, teniendo en cuenta que no afecta en gran porcentaje el cambio de cantidad del año 2006:\n",
    "* Valores actuales: representan un 6.1%\n",
    "* Al agregar 146 valores: representaría un 6.9%"
   ]
  },
  {
   "cell_type": "code",
   "execution_count": 19,
   "metadata": {},
   "outputs": [
    {
     "name": "stdout",
     "output_type": "stream",
     "text": [
      "2008.0    1441\n",
      "2009.0    1430\n",
      "2010.0    1271\n",
      "2007.0    1202\n",
      "2006.0    1166\n",
      "2011.0    1153\n",
      "2005.0     947\n",
      "2002.0     845\n",
      "2003.0     784\n",
      "2004.0     764\n",
      "2012.0     662\n",
      "2015.0     606\n",
      "2014.0     582\n",
      "2013.0     547\n",
      "2016.0     502\n",
      "2001.0     485\n",
      "1998.0     379\n",
      "2000.0     350\n",
      "1999.0     339\n",
      "1997.0     289\n",
      "1996.0     263\n",
      "1995.0     219\n",
      "1994.0     122\n",
      "1993.0      62\n",
      "1981.0      46\n",
      "1992.0      43\n",
      "1991.0      41\n",
      "1982.0      36\n",
      "1986.0      21\n",
      "1989.0      17\n",
      "1983.0      17\n",
      "1987.0      16\n",
      "1990.0      16\n",
      "1988.0      15\n",
      "1984.0      14\n",
      "1985.0      14\n",
      "1980.0       9\n",
      "Name: year_of_release, dtype: int64\n"
     ]
    }
   ],
   "source": [
    "# Reemplazamos los valores ausentes\n",
    "df_games['year_of_release'] = df_games['year_of_release'].fillna(2006)\n",
    "print(df_games['year_of_release'].value_counts(dropna=False))"
   ]
  },
  {
   "cell_type": "markdown",
   "metadata": {},
   "source": [
    "#### Columna 'critic_score'"
   ]
  },
  {
   "cell_type": "code",
   "execution_count": 20,
   "metadata": {},
   "outputs": [
    {
     "name": "stdout",
     "output_type": "stream",
     "text": [
      "NaN     8578\n",
      "70.0     256\n",
      "71.0     254\n",
      "75.0     245\n",
      "78.0     240\n",
      "73.0     238\n",
      "80.0     237\n",
      "76.0     235\n",
      "72.0     226\n",
      "74.0     226\n",
      "77.0     225\n",
      "68.0     219\n",
      "79.0     218\n",
      "81.0     218\n",
      "69.0     215\n",
      "82.0     208\n",
      "83.0     206\n",
      "66.0     203\n",
      "65.0     192\n",
      "84.0     183\n",
      "Name: critic_score, dtype: int64\n",
      "\n",
      "El promedio es: 68.96767850559173\n",
      "La mediana es: 71.0\n",
      "El mínimo es: 13.0\n",
      "El máximo es: 98.0\n"
     ]
    }
   ],
   "source": [
    "# Sacamos la media y la mediana del año, el valor mínimo, máximo y contamos los valores \n",
    "critic_avg = df_games['critic_score'].mean()\n",
    "critic_median = df_games['critic_score'].median()\n",
    "critic_min = df_games['critic_score'].min()\n",
    "critic_max = df_games['critic_score'].max()\n",
    "print(df_games['critic_score'].value_counts(dropna=False).head(20))\n",
    "print()\n",
    "print('El promedio es:', critic_avg)\n",
    "print('La mediana es:', critic_median)\n",
    "print('El mínimo es:', critic_min)\n",
    "print('El máximo es:', critic_max)"
   ]
  },
  {
   "cell_type": "code",
   "execution_count": 21,
   "metadata": {},
   "outputs": [
    {
     "name": "stdout",
     "output_type": "stream",
     "text": [
      "        8578\n",
      "70.0     256\n",
      "71.0     254\n",
      "75.0     245\n",
      "78.0     240\n",
      "        ... \n",
      "29.0       3\n",
      "17.0       1\n",
      "21.0       1\n",
      "22.0       1\n",
      "13.0       1\n",
      "Name: critic_score, Length: 83, dtype: int64\n"
     ]
    }
   ],
   "source": [
    "# Reemplazamos los valores ausentes \n",
    "df_games['critic_score'] = df_games['critic_score'].fillna('')\n",
    "print(df_games['critic_score'].value_counts(dropna=False))"
   ]
  },
  {
   "cell_type": "markdown",
   "metadata": {},
   "source": [
    "#### Columna 'user_score'"
   ]
  },
  {
   "cell_type": "code",
   "execution_count": 22,
   "metadata": {},
   "outputs": [
    {
     "name": "stdout",
     "output_type": "stream",
     "text": [
      "                                           name platform  year_of_release  \\\n",
      "119                               Zumba Fitness      Wii           2010.0   \n",
      "301              Namco Museum: 50th Anniversary      PS2           2005.0   \n",
      "520                             Zumba Fitness 2      Wii           2011.0   \n",
      "645                                uDraw Studio      Wii           2010.0   \n",
      "657    Frogger's Adventures: Temple of the Frog      GBA           2006.0   \n",
      "...                                         ...      ...              ...   \n",
      "16695                           Planet Monsters      GBA           2001.0   \n",
      "16697                          Bust-A-Move 3000       GC           2003.0   \n",
      "16698                          Mega Brain Boost       DS           2008.0   \n",
      "16704                                  Plushees       DS           2008.0   \n",
      "16706             Men in Black II: Alien Escape       GC           2003.0   \n",
      "\n",
      "            genre  na_sales  eu_sales  jp_sales  other_sales critic_score  \\\n",
      "119        Sports      3.45      2.59       0.0         0.66                \n",
      "301          Misc      2.08      1.35       0.0         0.54         61.0   \n",
      "520        Sports      1.51      1.03       0.0         0.27                \n",
      "645          Misc      1.65      0.57       0.0         0.20         71.0   \n",
      "657     Adventure      2.15      0.18       0.0         0.07         73.0   \n",
      "...           ...       ...       ...       ...          ...          ...   \n",
      "16695      Action      0.01      0.00       0.0         0.00         67.0   \n",
      "16697      Puzzle      0.01      0.00       0.0         0.00         53.0   \n",
      "16698      Puzzle      0.01      0.00       0.0         0.00         48.0   \n",
      "16704  Simulation      0.01      0.00       0.0         0.00                \n",
      "16706     Shooter      0.01      0.00       0.0         0.00                \n",
      "\n",
      "      user_score rating  \n",
      "119          tbd      E  \n",
      "301          tbd   E10+  \n",
      "520          tbd      T  \n",
      "645          tbd      E  \n",
      "657          tbd      E  \n",
      "...          ...    ...  \n",
      "16695        tbd      E  \n",
      "16697        tbd      E  \n",
      "16698        tbd      E  \n",
      "16704        tbd      E  \n",
      "16706        tbd      T  \n",
      "\n",
      "[2424 rows x 11 columns]\n"
     ]
    }
   ],
   "source": [
    "# Identificamos los valores TBD\n",
    "print(df_games[df_games['user_score'] == 'tbd'])"
   ]
  },
  {
   "cell_type": "code",
   "execution_count": 23,
   "metadata": {},
   "outputs": [
    {
     "name": "stdout",
     "output_type": "stream",
     "text": [
      "NaN    9125\n",
      "7.8     324\n",
      "8.0     290\n",
      "8.2     282\n",
      "8.3     254\n",
      "8.5     253\n",
      "7.5     251\n",
      "7.9     249\n",
      "8.1     244\n",
      "7.7     240\n",
      "7.3     236\n",
      "8.4     223\n",
      "7.6     220\n",
      "7.0     220\n",
      "7.4     215\n",
      "8.6     211\n",
      "6.8     197\n",
      "8.7     188\n",
      "8.8     186\n",
      "7.1     180\n",
      "Name: user_score, dtype: int64\n",
      "\n",
      "El promedio es: 7.125046113306982\n",
      "La mediana es: 7.5\n",
      "El mínimo es: 0.0\n",
      "El máximo es: 9.7\n"
     ]
    }
   ],
   "source": [
    "# Hacemos los calculos en un DataFrame de prueba para sustituir los ausentes\n",
    "df_games2 = df_games.copy()\n",
    "df_games2['user_score'] = df_games2['user_score'].fillna('')\n",
    "df_games2['user_score'] = pd.to_numeric(df_games2['user_score'], errors='coerce')\n",
    "user_avg2 = df_games2['user_score'].mean()\n",
    "user_median2 = df_games2['user_score'].median()\n",
    "user_min2 = df_games2['user_score'].min()\n",
    "user_max2 = df_games2['user_score'].max()\n",
    "print(df_games2['user_score'].value_counts(dropna=False).head(20))\n",
    "print()\n",
    "print('El promedio es:', user_avg2)\n",
    "print('La mediana es:', user_median2)\n",
    "print('El mínimo es:', user_min2)\n",
    "print('El máximo es:', user_max2)"
   ]
  },
  {
   "cell_type": "code",
   "execution_count": 24,
   "metadata": {},
   "outputs": [
    {
     "name": "stdout",
     "output_type": "stream",
     "text": [
      "7.5    6952\n",
      "tbd    2424\n",
      "7.8     324\n",
      "8       290\n",
      "8.2     282\n",
      "8.3     254\n",
      "8.5     253\n",
      "7.9     249\n",
      "8.1     244\n",
      "7.7     240\n",
      "7.3     236\n",
      "8.4     223\n",
      "7       220\n",
      "7.6     220\n",
      "7.4     215\n",
      "8.6     211\n",
      "6.8     197\n",
      "8.7     188\n",
      "8.8     186\n",
      "7.1     180\n",
      "Name: user_score, dtype: int64\n"
     ]
    }
   ],
   "source": [
    "#Sustituimos los valores ausentes por la media \n",
    "df_games['user_score'] = df_games['user_score'].fillna('7.5')\n",
    "print(df_games['user_score'].value_counts(dropna=False).head(20))"
   ]
  },
  {
   "cell_type": "markdown",
   "metadata": {},
   "source": [
    "#### Observaciones\n",
    "* En la columna **'name'** sustituimos los valores ausentes por cadenas vacías ya que desconocemos el nombre de los juegos, al ser las mimas filas, de igual forma, desconcemos el género. Probablemente es un juego no muy popular y conocido solo en Japón por lo que el nombre no se pudo traducir. \n",
    "* En la columna de **'rating'** también lo hicimos por cadenas vacías, ya que desconocemos a qué categoría pertenecen, probablemente es una clasificación que no fue otorgada según la plataforma.\n",
    "* En la columna de **'year_of_release'**, identificamos que algunos de los valores ausentes el mismo videojuego, se podían reemplazar con el mismo año pero de otra plataforma. Gracias a los datos estadísticos, decidimos en sustituir los datos ausentes restantes con el valor de la media 2006, teniendo en cuenta que no afecta en gran porcentaje el cambio de cantidad del año 2006:\n",
    "    * Valores actuales: representan un 6.1%\n",
    "    * Al agregar 146 valores: representaría un 6.9%\n",
    "* En la columna de **'critic_score'** hemos decidido dejar en cadenas vacías, ya que los ausentes representan el 51% por lo que podría representar un cambio significativo en el análisis. \n",
    "* Finalmente en la columna de **'user_score'** al tener valores TBD (to be determined) no cambiamos los valores a enteros, sino que creamos un DataFrame de prueba para sacar el promedio, hemos decidido sustituir los valores por la mediana para los 6701 valores ausentes debido a que tebemos una distribución sesgada. Asumimos que los valores TBD es porque la reseña está en proceso de verificación. \n",
    "* Tanto para **'critic_score'** como para **'user_score'** basándonos en el ejemplo del juego 'Need for Speed: Most Wanted' Probablemente sólo se evualuó en ciertas plataformas o no todas las plataformas tienen la opción de dar reseñas."
   ]
  },
  {
   "cell_type": "markdown",
   "metadata": {},
   "source": [
    "### Ventas Totales"
   ]
  },
  {
   "cell_type": "code",
   "execution_count": 25,
   "metadata": {},
   "outputs": [
    {
     "name": "stdout",
     "output_type": "stream",
     "text": [
      "                        name platform  year_of_release         genre  \\\n",
      "0                 Wii Sports      Wii           2006.0        Sports   \n",
      "1          Super Mario Bros.      NES           1985.0      Platform   \n",
      "2             Mario Kart Wii      Wii           2008.0        Racing   \n",
      "3          Wii Sports Resort      Wii           2009.0        Sports   \n",
      "4   Pokemon Red/Pokemon Blue       GB           1996.0  Role-Playing   \n",
      "5                     Tetris       GB           1989.0        Puzzle   \n",
      "6      New Super Mario Bros.       DS           2006.0      Platform   \n",
      "7                   Wii Play      Wii           2006.0          Misc   \n",
      "8  New Super Mario Bros. Wii      Wii           2009.0      Platform   \n",
      "9                  Duck Hunt      NES           1984.0       Shooter   \n",
      "\n",
      "   na_sales  eu_sales  jp_sales  other_sales critic_score user_score rating  \\\n",
      "0     41.36     28.96      3.77         8.45         76.0          8      E   \n",
      "1     29.08      3.58      6.81         0.77                     7.5          \n",
      "2     15.68     12.76      3.79         3.29         82.0        8.3      E   \n",
      "3     15.61     10.93      3.28         2.95         80.0          8      E   \n",
      "4     11.27      8.89     10.22         1.00                     7.5          \n",
      "5     23.20      2.26      4.22         0.58                     7.5          \n",
      "6     11.28      9.14      6.50         2.88         89.0        8.5      E   \n",
      "7     13.96      9.18      2.93         2.84         58.0        6.6      E   \n",
      "8     14.44      6.94      4.70         2.24         87.0        8.4      E   \n",
      "9     26.93      0.63      0.28         0.47                     7.5          \n",
      "\n",
      "   total_sales  \n",
      "0        82.54  \n",
      "1        40.24  \n",
      "2        35.52  \n",
      "3        32.77  \n",
      "4        31.38  \n",
      "5        30.26  \n",
      "6        29.80  \n",
      "7        28.91  \n",
      "8        28.32  \n",
      "9        28.31  \n"
     ]
    }
   ],
   "source": [
    "# Creamos una nueva columna 'total_sales' donde sumamos todas las ventas por juego \n",
    "df_games['total_sales'] = df_games['na_sales'] + df_games['eu_sales'] + df_games['jp_sales'] + df_games['other_sales']\n",
    "print(df_games.head(10))"
   ]
  },
  {
   "cell_type": "markdown",
   "metadata": {},
   "source": [
    "## Análisis de Datos "
   ]
  },
  {
   "cell_type": "markdown",
   "metadata": {},
   "source": [
    "### Análisis por año"
   ]
  },
  {
   "cell_type": "code",
   "execution_count": 26,
   "metadata": {},
   "outputs": [
    {
     "name": "stdout",
     "output_type": "stream",
     "text": [
      "                 name\n",
      "year_of_release      \n",
      "1980.0              9\n",
      "1981.0             46\n",
      "1982.0             36\n",
      "1983.0             17\n",
      "1984.0             14\n",
      "1985.0             14\n",
      "1986.0             21\n",
      "1987.0             16\n",
      "1988.0             15\n",
      "1989.0             17\n",
      "1990.0             16\n",
      "1991.0             41\n",
      "1992.0             43\n",
      "1993.0             62\n",
      "1994.0            122\n",
      "1995.0            219\n",
      "1996.0            263\n",
      "1997.0            289\n",
      "1998.0            379\n",
      "1999.0            339\n",
      "2000.0            350\n",
      "2001.0            485\n",
      "2002.0            845\n",
      "2003.0            784\n",
      "2004.0            764\n",
      "2005.0            947\n",
      "2006.0           1166\n",
      "2007.0           1202\n",
      "2008.0           1441\n",
      "2009.0           1430\n",
      "2010.0           1271\n",
      "2011.0           1153\n",
      "2012.0            662\n",
      "2013.0            547\n",
      "2014.0            582\n",
      "2015.0            606\n",
      "2016.0            502\n",
      "name    451.756757\n",
      "dtype: float64\n"
     ]
    }
   ],
   "source": [
    "# Contamos los juegos lanzados por año\n",
    "games_by_year = df_games.groupby('year_of_release')[['name']].count()\n",
    "print(games_by_year)\n",
    "print(games_by_year.mean())"
   ]
  },
  {
   "cell_type": "code",
   "execution_count": 27,
   "metadata": {},
   "outputs": [
    {
     "data": {
      "image/png": "[encoded data removed]",
      "text/plain": [
       "<Figure size 640x480 with 1 Axes>"
      ]
     },
     "metadata": {},
     "output_type": "display_data"
    }
   ],
   "source": [
    "# Realizamos gráfico de barras para visualizar los datos \n",
    "games_by_year.plot(y= 'name',\n",
    "                   title= 'Juegos lanzados por año',\n",
    "                   xlabel= 'Año',\n",
    "                   ylabel= 'Número de juegos',\n",
    "                   kind= 'bar',\n",
    "                   legend= False)\n",
    "plt.show()\n",
    "                   "
   ]
  },
  {
   "cell_type": "markdown",
   "metadata": {},
   "source": [
    "**Observaciones**\n",
    "\n",
    "* Notamos que de los años 80s al 93 se lanzaron menos de 100 juegos al año. \n",
    "* Los años en los que se lanzaron más juegos nuevos fue del 2006 al 2011, siendo en 2008 en el que se lanzaron un total de 1441. \n",
    "* El promedio de juegos lanzados por año es de 451 juegos."
   ]
  },
  {
   "cell_type": "markdown",
   "metadata": {},
   "source": [
    "### Análisis por plataforma"
   ]
  },
  {
   "cell_type": "code",
   "execution_count": 28,
   "metadata": {},
   "outputs": [
    {
     "name": "stdout",
     "output_type": "stream",
     "text": [
      "   platform  total_sales\n",
      "16      PS2      1255.77\n",
      "28     X360       971.42\n",
      "17      PS3       939.65\n",
      "26      Wii       907.51\n",
      "4        DS       806.12\n",
      "15       PS       730.86\n",
      "6       GBA       317.85\n",
      "18      PS4       314.14\n",
      "19      PSP       294.05\n",
      "13       PC       259.52\n",
      "2       3DS       259.00\n",
      "29       XB       257.74\n",
      "5        GB       255.46\n",
      "11      NES       251.05\n",
      "10      N64       218.68\n",
      "23     SNES       200.04\n",
      "7        GC       198.93\n",
      "30     XOne       159.32\n",
      "0      2600        96.98\n",
      "27     WiiU        82.19\n",
      "20      PSV        54.07\n",
      "21      SAT        33.59\n",
      "8       GEN        30.77\n",
      "3        DC        15.95\n",
      "22      SCD         1.86\n",
      "12       NG         1.44\n",
      "25       WS         1.42\n",
      "24     TG16         0.16\n",
      "1       3DO         0.10\n",
      "9        GG         0.04\n",
      "14     PCFX         0.03\n",
      "total_sales    287.603548\n",
      "dtype: float64\n"
     ]
    }
   ],
   "source": [
    "# Obtenemos las ventas totales por plataforma\n",
    "platform_games = df_games.groupby('platform')[['total_sales']].sum()\n",
    "platform_games = platform_games.reset_index()\n",
    "print(platform_games.sort_values(by='total_sales', ascending=False))\n",
    "print(platform_games.mean())"
   ]
  },
  {
   "cell_type": "code",
   "execution_count": 29,
   "metadata": {},
   "outputs": [
    {
     "data": {
      "image/png": "[encoded data removed]",
      "text/plain": [
       "<Figure size 640x480 with 1 Axes>"
      ]
     },
     "metadata": {},
     "output_type": "display_data"
    }
   ],
   "source": [
    "# Realizamos gráfico de barras para visualizar los datos \n",
    "platform_games.plot(y= 'total_sales',\n",
    "                    x= 'platform',\n",
    "                   title= 'Ventas totales por plataforma',\n",
    "                   ylabel= 'Ventas en millones de dólares',\n",
    "                   xlabel= 'Plataforma',\n",
    "                   kind= 'bar',\n",
    "                   legend= False)\n",
    "plt.show()\n",
    "                   "
   ]
  },
  {
   "cell_type": "markdown",
   "metadata": {},
   "source": [
    "**Observaciones**\n",
    "\n",
    "* La plataforma con mayores ventas fue PS2, seguido de X360, PS3, Wii y DS.\n",
    "* Las plataformas que no llegaron al millón de doláres entre todas las regiones fueron TG16, 3DO, GG y PCFX\n",
    "* El promedio de ventas por plataforma fue de 287 millones de dólares"
   ]
  },
  {
   "cell_type": "markdown",
   "metadata": {},
   "source": [
    "### Análisis por plataforma y año"
   ]
  },
  {
   "cell_type": "code",
   "execution_count": 30,
   "metadata": {},
   "outputs": [
    {
     "name": "stdout",
     "output_type": "stream",
     "text": [
      "platform            DS   PS2     PS3     PS4    PSP    Wii    X360\n",
      "year_of_release                                                   \n",
      "2011.0           26.33  0.45  157.98     NaN  17.82  59.79  145.23\n",
      "2012.0           11.67   NaN  108.28     NaN   7.95  22.94  100.72\n",
      "2013.0            1.54   NaN  113.25   25.99   3.38   8.59   88.58\n",
      "2014.0             NaN   NaN   47.76  100.00   0.24   3.75   34.74\n",
      "2015.0             NaN   NaN   16.82  118.90   0.12   1.14   11.96\n",
      "2016.0             NaN   NaN    3.60   69.25    NaN   0.18    1.52\n"
     ]
    }
   ],
   "source": [
    "# Filtramos las 9 plataformas con ventas mayores al promedio de 287 millones de dólares y de los últumos 6 años\n",
    "main_platform = ['DS', 'GBA', 'PS', 'PS2', 'PS3', 'PS4', 'PSP', 'Wii', 'X360']\n",
    "game_year_plat = df_games[df_games['platform'].isin(main_platform)][['platform','total_sales', 'year_of_release']]\n",
    "game_year_plat = game_year_plat[game_year_plat['year_of_release'] >= 2011] \n",
    "pivot_year = game_year_plat.pivot_table(index='year_of_release',\n",
    "                            columns='platform',\n",
    "                            values='total_sales',\n",
    "                            aggfunc='sum'\n",
    "                           )\n",
    "print(pivot_year)"
   ]
  },
  {
   "cell_type": "code",
   "execution_count": 31,
   "metadata": {},
   "outputs": [
    {
     "data": {
      "image/png": "[encoded data removed]",
      "text/plain": [
       "<Figure size 640x480 with 1 Axes>"
      ]
     },
     "metadata": {},
     "output_type": "display_data"
    }
   ],
   "source": [
    "# Realizamos un gráfico para mayor visualización\n",
    "pivot_year.plot(title= 'Ventas totales por plataforma y año',\n",
    "                ylabel= 'Ventas en millones de dólares',\n",
    "                xlabel= 'Plataforma',\n",
    "                kind= 'bar')\n",
    "plt.show()\n",
    "               "
   ]
  },
  {
   "cell_type": "markdown",
   "metadata": {},
   "source": [
    "**Observaciones**\n",
    "\n",
    "* Hemos delimitado el análisis de sólo 9 plataformas, las cuales sobrepasaron el promedio de ventas totales, de igual forma analizando sólo los últimos 5 años además de 2016. \n",
    "* Podemos notar que durante 2011, 2012 y 2013 **PS3** fue líder en ventas, pero a partir de 2014 su nueva versión **PS4** lo sustituye. \n",
    "* En el caso de **X360** en 2011, 2012 y 2013 estaba muy cerca en ventas con **PS3** sin embargo, después de la aparición de **PS4** en 2014 sus ventas redujeron. "
   ]
  },
  {
   "cell_type": "code",
   "execution_count": 32,
   "metadata": {},
   "outputs": [
    {
     "name": "stdout",
     "output_type": "stream",
     "text": [
      "platform          2600   3DO    3DS    DC      DS     GB    GBA     GC    GEN  \\\n",
      "year_of_release                                                                 \n",
      "1980.0           11.38   NaN    NaN   NaN     NaN    NaN    NaN    NaN    NaN   \n",
      "1981.0           35.68   NaN    NaN   NaN     NaN    NaN    NaN    NaN    NaN   \n",
      "1982.0           28.88   NaN    NaN   NaN     NaN    NaN    NaN    NaN    NaN   \n",
      "1983.0            5.84   NaN    NaN   NaN     NaN    NaN    NaN    NaN    NaN   \n",
      "1984.0            0.27   NaN    NaN   NaN     NaN    NaN    NaN    NaN    NaN   \n",
      "1985.0            0.45   NaN    NaN   NaN    0.02    NaN    NaN    NaN    NaN   \n",
      "1986.0            0.67   NaN    NaN   NaN     NaN    NaN    NaN    NaN    NaN   \n",
      "1987.0            1.94   NaN    NaN   NaN     NaN    NaN    NaN    NaN    NaN   \n",
      "1988.0            0.74   NaN    NaN   NaN     NaN   1.43    NaN    NaN    NaN   \n",
      "1989.0            0.63   NaN    NaN   NaN     NaN  64.97    NaN    NaN    NaN   \n",
      "1990.0             NaN   NaN    NaN   NaN     NaN   4.89    NaN    NaN   2.60   \n",
      "1991.0             NaN   NaN    NaN   NaN     NaN   5.57    NaN    NaN   4.33   \n",
      "1992.0             NaN   NaN    NaN   NaN     NaN  25.49    NaN    NaN  12.64   \n",
      "1993.0             NaN   NaN    NaN   NaN     NaN    NaN    NaN    NaN   3.07   \n",
      "1994.0            2.53  0.02    NaN   NaN     NaN  12.18    NaN    NaN   8.13   \n",
      "1995.0             NaN  0.08    NaN   NaN     NaN   3.60    NaN    NaN    NaN   \n",
      "1996.0             NaN   NaN    NaN   NaN     NaN  36.03    NaN    NaN    NaN   \n",
      "1997.0             NaN   NaN    NaN   NaN     NaN   6.37    NaN    NaN    NaN   \n",
      "1998.0             NaN   NaN    NaN  3.38     NaN  26.90    NaN    NaN    NaN   \n",
      "1999.0             NaN   NaN    NaN  5.16     NaN  38.00    NaN    NaN    NaN   \n",
      "2000.0             NaN   NaN    NaN  5.99     NaN  19.76   0.07    NaN    NaN   \n",
      "2001.0             NaN   NaN    NaN  1.07     NaN   9.24  61.53  26.62    NaN   \n",
      "2002.0             NaN   NaN    NaN  0.29     NaN    NaN  74.16  52.29    NaN   \n",
      "2003.0             NaN   NaN    NaN   NaN     NaN    NaN  56.67  51.20    NaN   \n",
      "2004.0             NaN   NaN    NaN   NaN   17.27    NaN  77.91  28.82    NaN   \n",
      "2005.0             NaN   NaN    NaN   NaN  130.14    NaN  34.53  27.91    NaN   \n",
      "2006.0            7.97   NaN   0.47   NaN  121.65   1.03   9.58  11.82    NaN   \n",
      "2007.0             NaN   NaN    NaN  0.02  147.23    NaN   3.40   0.27    NaN   \n",
      "2008.0             NaN   NaN    NaN  0.04  145.36    NaN    NaN    NaN    NaN   \n",
      "2009.0             NaN   NaN    NaN   NaN  119.56    NaN    NaN    NaN    NaN   \n",
      "2010.0             NaN   NaN   0.32   NaN   85.35    NaN    NaN    NaN    NaN   \n",
      "2011.0             NaN   NaN  63.20   NaN   26.33    NaN    NaN    NaN    NaN   \n",
      "2012.0             NaN   NaN  51.76   NaN   11.67    NaN    NaN    NaN    NaN   \n",
      "2013.0             NaN   NaN  56.57   NaN    1.54    NaN    NaN    NaN    NaN   \n",
      "2014.0             NaN   NaN  43.76   NaN     NaN    NaN    NaN    NaN    NaN   \n",
      "2015.0             NaN   NaN  27.78   NaN     NaN    NaN    NaN    NaN    NaN   \n",
      "2016.0             NaN   NaN  15.14   NaN     NaN    NaN    NaN    NaN    NaN   \n",
      "\n",
      "platform           GG    N64    NES    NG     PC  PCFX      PS     PS2  \\\n",
      "year_of_release                                                          \n",
      "1980.0            NaN    NaN    NaN   NaN    NaN   NaN     NaN     NaN   \n",
      "1981.0            NaN    NaN    NaN   NaN    NaN   NaN     NaN     NaN   \n",
      "1982.0            NaN    NaN    NaN   NaN    NaN   NaN     NaN     NaN   \n",
      "1983.0            NaN    NaN  10.96   NaN    NaN   NaN     NaN     NaN   \n",
      "1984.0            NaN    NaN  50.08   NaN    NaN   NaN     NaN     NaN   \n",
      "1985.0            NaN    NaN  53.44   NaN   0.04   NaN     NaN     NaN   \n",
      "1986.0            NaN    NaN  36.41   NaN    NaN   NaN     NaN     NaN   \n",
      "1987.0            NaN    NaN  19.76   NaN    NaN   NaN     NaN     NaN   \n",
      "1988.0            NaN    NaN  45.01   NaN   0.03   NaN     NaN     NaN   \n",
      "1989.0            NaN    NaN   7.85   NaN    NaN   NaN     NaN     NaN   \n",
      "1990.0            NaN    NaN  15.73   NaN    NaN   NaN     NaN     NaN   \n",
      "1991.0            NaN    NaN   6.11   NaN    NaN   NaN     NaN     NaN   \n",
      "1992.0           0.04    NaN   1.98   NaN   3.03   NaN     NaN     NaN   \n",
      "1993.0            NaN    NaN   3.61  0.21    NaN   NaN     NaN     NaN   \n",
      "1994.0            NaN    NaN   0.11  0.80  12.87   NaN    6.03     NaN   \n",
      "1995.0            NaN    NaN    NaN  0.33   4.22   NaN   35.96     NaN   \n",
      "1996.0            NaN  34.10    NaN  0.10  10.58  0.03   94.70     NaN   \n",
      "1997.0            NaN  39.50    NaN   NaN  11.27   NaN  136.17     NaN   \n",
      "1998.0            NaN  49.24    NaN   NaN   3.26   NaN  169.49     NaN   \n",
      "1999.0            NaN  58.01    NaN   NaN   4.74   NaN  144.53     NaN   \n",
      "2000.0            NaN  33.97    NaN   NaN   4.66   NaN   96.37   39.17   \n",
      "2001.0            NaN   3.25    NaN   NaN   5.47   NaN   35.59  166.43   \n",
      "2002.0            NaN   0.08    NaN   NaN   8.57   NaN    6.67  208.36   \n",
      "2003.0            NaN    NaN    NaN   NaN   8.89   NaN    2.07  193.05   \n",
      "2004.0            NaN   0.33    NaN   NaN  10.39   NaN     NaN  211.81   \n",
      "2005.0            NaN    NaN    NaN   NaN   4.38   NaN     NaN  160.66   \n",
      "2006.0            NaN   0.20    NaN   NaN   3.51   NaN    3.28  112.85   \n",
      "2007.0            NaN    NaN    NaN   NaN   9.28   NaN     NaN   76.10   \n",
      "2008.0            NaN    NaN    NaN   NaN  12.46   NaN     NaN   53.90   \n",
      "2009.0            NaN    NaN    NaN   NaN  17.05   NaN     NaN   26.40   \n",
      "2010.0            NaN    NaN    NaN   NaN  26.15   NaN     NaN    6.59   \n",
      "2011.0            NaN    NaN    NaN   NaN  35.16   NaN     NaN    0.45   \n",
      "2012.0            NaN    NaN    NaN   NaN  23.45   NaN     NaN     NaN   \n",
      "2013.0            NaN    NaN    NaN   NaN  12.66   NaN     NaN     NaN   \n",
      "2014.0            NaN    NaN    NaN   NaN  13.63   NaN     NaN     NaN   \n",
      "2015.0            NaN    NaN    NaN   NaN   8.52   NaN     NaN     NaN   \n",
      "2016.0            NaN    NaN    NaN   NaN   5.25   NaN     NaN     NaN   \n",
      "\n",
      "platform            PS3     PS4    PSP    PSV    SAT   SCD   SNES  TG16    WS  \\\n",
      "year_of_release                                                                 \n",
      "1980.0              NaN     NaN    NaN    NaN    NaN   NaN    NaN   NaN   NaN   \n",
      "1981.0              NaN     NaN    NaN    NaN    NaN   NaN    NaN   NaN   NaN   \n",
      "1982.0              NaN     NaN    NaN    NaN    NaN   NaN    NaN   NaN   NaN   \n",
      "1983.0              NaN     NaN    NaN    NaN    NaN   NaN    NaN   NaN   NaN   \n",
      "1984.0              NaN     NaN    NaN    NaN    NaN   NaN    NaN   NaN   NaN   \n",
      "1985.0              NaN     NaN    NaN    NaN    NaN   NaN    NaN   NaN   NaN   \n",
      "1986.0              NaN     NaN    NaN    NaN    NaN   NaN    NaN   NaN   NaN   \n",
      "1987.0              NaN     NaN    NaN    NaN    NaN   NaN    NaN   NaN   NaN   \n",
      "1988.0              NaN     NaN    NaN    NaN    NaN   NaN    NaN   NaN   NaN   \n",
      "1989.0              NaN     NaN    NaN    NaN    NaN   NaN    NaN   NaN   NaN   \n",
      "1990.0              NaN     NaN    NaN    NaN    NaN   NaN  26.15   NaN   NaN   \n",
      "1991.0              NaN     NaN    NaN    NaN    NaN   NaN  16.22   NaN   NaN   \n",
      "1992.0              NaN     NaN    NaN    NaN    NaN   NaN  32.98   NaN   NaN   \n",
      "1993.0              NaN     NaN    NaN    NaN    NaN  1.50  40.02   NaN   NaN   \n",
      "1994.0              NaN     NaN    NaN    NaN   3.65  0.36  35.08   NaN   NaN   \n",
      "1995.0              NaN     NaN    NaN    NaN  11.57   NaN  32.20  0.16   NaN   \n",
      "1996.0              NaN     NaN    NaN    NaN   7.69   NaN  15.92   NaN   NaN   \n",
      "1997.0              NaN     NaN    NaN    NaN   6.77   NaN   0.99   NaN   NaN   \n",
      "1998.0              NaN     NaN    NaN    NaN   3.82   NaN   0.22   NaN   NaN   \n",
      "1999.0              NaN     NaN    NaN    NaN   0.09   NaN   0.26   NaN  0.46   \n",
      "2000.0              NaN     NaN    NaN    NaN    NaN   NaN    NaN   NaN  0.68   \n",
      "2001.0              NaN     NaN    NaN    NaN    NaN   NaN    NaN   NaN  0.28   \n",
      "2002.0              NaN     NaN    NaN    NaN    NaN   NaN    NaN   NaN   NaN   \n",
      "2003.0              NaN     NaN    NaN    NaN    NaN   NaN    NaN   NaN   NaN   \n",
      "2004.0              NaN     NaN   7.06    NaN    NaN   NaN    NaN   NaN   NaN   \n",
      "2005.0             0.19     NaN  43.84    NaN    NaN   NaN    NaN   NaN   NaN   \n",
      "2006.0            25.90     NaN  56.76   0.26    NaN   NaN    NaN   NaN   NaN   \n",
      "2007.0            73.19     NaN  47.30    NaN    NaN   NaN    NaN   NaN   NaN   \n",
      "2008.0           118.79     NaN  36.76    NaN    NaN   NaN    NaN   NaN   NaN   \n",
      "2009.0           130.93     NaN  37.78    NaN    NaN   NaN    NaN   NaN   NaN   \n",
      "2010.0           142.96     NaN  35.04    NaN    NaN   NaN    NaN   NaN   NaN   \n",
      "2011.0           157.98     NaN  17.82   4.63    NaN   NaN    NaN   NaN   NaN   \n",
      "2012.0           108.28     NaN   7.95  16.19    NaN   NaN    NaN   NaN   NaN   \n",
      "2013.0           113.25   25.99   3.38  10.59    NaN   NaN    NaN   NaN   NaN   \n",
      "2014.0            47.76  100.00   0.24  11.90    NaN   NaN    NaN   NaN   NaN   \n",
      "2015.0            16.82  118.90   0.12   6.25    NaN   NaN    NaN   NaN   NaN   \n",
      "2016.0             3.60   69.25    NaN   4.25    NaN   NaN    NaN   NaN   NaN   \n",
      "\n",
      "platform            Wii   WiiU    X360     XB   XOne  \n",
      "year_of_release                                       \n",
      "1980.0              NaN    NaN     NaN    NaN    NaN  \n",
      "1981.0              NaN    NaN     NaN    NaN    NaN  \n",
      "1982.0              NaN    NaN     NaN    NaN    NaN  \n",
      "1983.0              NaN    NaN     NaN    NaN    NaN  \n",
      "1984.0              NaN    NaN     NaN    NaN    NaN  \n",
      "1985.0              NaN    NaN     NaN    NaN    NaN  \n",
      "1986.0              NaN    NaN     NaN    NaN    NaN  \n",
      "1987.0              NaN    NaN     NaN    NaN    NaN  \n",
      "1988.0              NaN    NaN     NaN    NaN    NaN  \n",
      "1989.0              NaN    NaN     NaN    NaN    NaN  \n",
      "1990.0              NaN    NaN     NaN    NaN    NaN  \n",
      "1991.0              NaN    NaN     NaN    NaN    NaN  \n",
      "1992.0              NaN    NaN     NaN    NaN    NaN  \n",
      "1993.0              NaN    NaN     NaN    NaN    NaN  \n",
      "1994.0              NaN    NaN     NaN    NaN    NaN  \n",
      "1995.0              NaN    NaN     NaN    NaN    NaN  \n",
      "1996.0              NaN    NaN     NaN    NaN    NaN  \n",
      "1997.0              NaN    NaN     NaN    NaN    NaN  \n",
      "1998.0              NaN    NaN     NaN    NaN    NaN  \n",
      "1999.0              NaN    NaN     NaN    NaN    NaN  \n",
      "2000.0              NaN    NaN     NaN   0.99    NaN  \n",
      "2001.0              NaN    NaN     NaN  23.76    NaN  \n",
      "2002.0              NaN    NaN     NaN  51.03    NaN  \n",
      "2003.0              NaN    NaN     NaN  55.08    NaN  \n",
      "2004.0              NaN    NaN     NaN  65.97    NaN  \n",
      "2005.0              NaN    NaN    9.22  49.09    NaN  \n",
      "2006.0           144.39    NaN   56.60  11.09    NaN  \n",
      "2007.0           153.41    NaN   95.41   0.55    NaN  \n",
      "2008.0           177.68    NaN  136.07   0.18    NaN  \n",
      "2009.0           206.97    NaN  120.82    NaN    NaN  \n",
      "2010.0           128.67    NaN  170.55    NaN    NaN  \n",
      "2011.0            59.79    NaN  145.23    NaN    NaN  \n",
      "2012.0            22.94  17.56  100.72    NaN    NaN  \n",
      "2013.0             8.59  21.65   88.58    NaN  18.96  \n",
      "2014.0             3.75  22.03   34.74    NaN  54.07  \n",
      "2015.0             1.14  16.35   11.96    NaN  60.14  \n",
      "2016.0             0.18   4.60    1.52    NaN  26.15  \n"
     ]
    }
   ],
   "source": [
    "# De igual forma obtenemos la relación de ventas según la plataforma y el año totales\n",
    "pivot_data = df_games.pivot_table(index='year_of_release',\n",
    "                            columns='platform',\n",
    "                            values='total_sales',\n",
    "                            aggfunc='sum'\n",
    "                           )\n",
    "pd.options.display.max_columns = None\n",
    "print(pivot_data)"
   ]
  },
  {
   "cell_type": "markdown",
   "metadata": {},
   "source": [
    "**Observaciones**\n",
    "\n",
    "* En promedio por plataforma se lanzaron juegos durante 7 años consecutivos y en promedio nacen nuevas plataformas cada 2 años \n",
    "* De las plataformas que generaron ventas antes de los años 2000 y desaparecieron tenemos a 2600, 3DO, GEN, GG, NES, NG, PCFX, SAT, SCD, SNES y TG16. \n",
    "     * Siendo las más populares 2600, NES, y SNES, generaron ventas durante al menos 10 años consecutivos. \n",
    "     * Siendo las menos populares 3DO, GG, NG, PCFX, SCD y TG16 quienes generaron ventas durante menos de 5 años consecutivos. \n",
    "* La plataforma que se ha mantenido generando ventas desde su primer año de lanzamiento en 1985 es PC. \n",
    "* Las plataformas que aparecieron después de 2000 y ya dejaron de generar ventas son DS, GBA,GC, PS, PS2, WS y XB. \n",
    "* Las plataformas que aun siguen generando ventas hasta este año son 3DS, PC, PS3, PS4,PSV, Wii, WiiU, X360, XOne"
   ]
  },
  {
   "cell_type": "markdown",
   "metadata": {},
   "source": [
    "### Análisis de plataformas relevantes "
   ]
  },
  {
   "cell_type": "markdown",
   "metadata": {},
   "source": [
    "* Teniendo en cuenta que en el periodo de 2006 a 2011 fueron los años en los que más se sacaron juegos nuevos, tomaremos en cuenta los años después del 2011, por lo que nuestro análisis será a partir del 2012.\n",
    "* Además descartaremos las plataformas que sus ventas estén por debajo del promedio de ventas (287 millones de dólares) y que ya dejaron de generar más ventas o lanzamientos en este periodo a partir del 2012. \n",
    "* Teniendo en cuenta que las plataformas con mayores ventas son PS2, X360, PS3, Wii y DS:\n",
    "    * Es interesante notar que a pesar que PS2 es la plataforma con mayores ventas, desde el 2012 ya no ha generado más ventas, de igual forma DS desde el 2014 ha dejado de generar ventas. \n",
    "    * Sin embargo las otras 3 plataformas X360, PS3 y Wii hasta este año continuan generando ventas, por lo que son las plataformas más rentables. \n"
   ]
  },
  {
   "cell_type": "code",
   "execution_count": 33,
   "metadata": {},
   "outputs": [
    {
     "name": "stdout",
     "output_type": "stream",
     "text": [
      "Era retro - Platform 2600\n",
      "Era retro - Platform 3DO\n",
      "Era retro - Platform DC\n",
      "Era retro - Platform GB\n",
      "Era retro - Platform GBA\n",
      "Era retro - Platform GEN\n",
      "Era retro - Platform GC\n",
      "Era retro - Platform GG\n",
      "Era retro - Platform N64\n",
      "Era retro - Platform NES\n",
      "Era retro - Platform NG\n",
      "Era retro - Platform PCFX\n",
      "Era retro - Platform PS\n",
      "Era retro - Platform PS2SAT\n",
      "Era retro - Platform SCD\n",
      "Era retro - Platform SNES\n",
      "Era retro - Platform TG16\n",
      "Era retro - Platform WS\n",
      "Era retro - Platform XB\n",
      "Era modern - Platform 3DS\n",
      "Era modern - Platform DS\n",
      "Era modern - Platform PC\n",
      "Era modern - Platform PS3\n",
      "Era modern - Platform PS4\n",
      "Era modern - Platform PSP\n",
      "Era modern - Platform PSV\n",
      "Era modern - Platform Wii\n",
      "Era modern - Platform WiiU\n",
      "Era modern - Platform X360\n",
      "Era modern - Platform XOne\n"
     ]
    }
   ],
   "source": [
    "# Dividimos las plataformas a partir del año 2012\n",
    "platforms_analyzed = {\n",
    "    'retro': ['2600', '3DO', 'DC', 'GB', 'GBA', 'GEN', 'GC', 'GG', 'N64', 'NES', 'NG', 'PCFX', 'PS', 'PS2' 'SAT', 'SCD', 'SNES', 'TG16', 'WS', 'XB'],\n",
    "    'modern': ['3DS', 'DS', 'PC', 'PS3', 'PS4', 'PSP', 'PSV', 'Wii', 'WiiU', 'X360', 'XOne']\n",
    "    }\n",
    "for era, platforms in platforms_analyzed.items():\n",
    "    for platform in platforms:\n",
    "        print(f\"Era {era} - Platform {platform}\")"
   ]
  },
  {
   "cell_type": "code",
   "execution_count": 34,
   "metadata": {},
   "outputs": [
    {
     "name": "stdout",
     "output_type": "stream",
     "text": [
      "                                name platform  total_sales critic_score  \\\n",
      "16                Grand Theft Auto V      PS3        21.05         97.0   \n",
      "23                Grand Theft Auto V     X360        16.27         97.0   \n",
      "31         Call of Duty: Black Ops 3      PS4        14.63                \n",
      "33               Pokemon X/Pokemon Y      3DS        14.60                \n",
      "34        Call of Duty: Black Ops II      PS3        13.79         83.0   \n",
      "...                              ...      ...          ...          ...   \n",
      "16703               Strawberry Nauts      PSV         0.01                \n",
      "16707               Aiyoku no Eustia      PSV         0.01                \n",
      "16710  Samurai Warriors: Sanada Maru      PS3         0.01                \n",
      "16712        Haitaka no Psychedelica      PSV         0.01                \n",
      "16714            Winning Post 8 2016      PSV         0.01                \n",
      "\n",
      "      user_score         genre  na_sales  eu_sales  jp_sales rating  \\\n",
      "16           8.2        Action      7.02      9.09      0.98      M   \n",
      "23           8.1        Action      9.66      5.14      0.06      M   \n",
      "31           7.5       Shooter      6.03      5.86      0.36          \n",
      "33           7.5  Role-Playing      5.28      4.19      4.35          \n",
      "34           5.3       Shooter      4.99      5.73      0.65      M   \n",
      "...          ...           ...       ...       ...       ...    ...   \n",
      "16703        7.5     Adventure      0.00      0.00      0.01          \n",
      "16707        7.5          Misc      0.00      0.00      0.01          \n",
      "16710        7.5        Action      0.00      0.00      0.01          \n",
      "16712        7.5     Adventure      0.00      0.00      0.01          \n",
      "16714        7.5    Simulation      0.00      0.00      0.01          \n",
      "\n",
      "       year_of_release  \n",
      "16              2013.0  \n",
      "23              2013.0  \n",
      "31              2015.0  \n",
      "33              2013.0  \n",
      "34              2012.0  \n",
      "...                ...  \n",
      "16703           2016.0  \n",
      "16707           2014.0  \n",
      "16710           2016.0  \n",
      "16712           2016.0  \n",
      "16714           2016.0  \n",
      "\n",
      "[2899 rows x 11 columns]\n"
     ]
    }
   ],
   "source": [
    "# Creamos el filtro en el DataFrame para trabajar con los datos solo de las plataformas que nos interesan a partir del año 2001\n",
    "modern_platform = ['3DS', 'DS', 'PC', 'PS3', 'PS4', 'PSP', 'PSV', 'Wii', 'WiiU', 'X360', 'XOne']\n",
    "df_games_mod = df_games[df_games['platform'].isin(modern_platform)][['name','platform','total_sales','critic_score','user_score','genre','na_sales','eu_sales','jp_sales','rating', 'year_of_release']]\n",
    "df_games_mod = df_games_mod[df_games_mod['year_of_release'] >= 2012][['name','platform','total_sales','critic_score','user_score','genre','na_sales','eu_sales','jp_sales','rating', 'year_of_release']]\n",
    "print(df_games_mod)"
   ]
  },
  {
   "cell_type": "markdown",
   "metadata": {},
   "source": [
    "#### Ventas globales por plataforma"
   ]
  },
  {
   "cell_type": "code",
   "execution_count": 35,
   "metadata": {},
   "outputs": [
    {
     "name": "stdout",
     "output_type": "stream",
     "text": [
      "platform\n",
      "X360    0.807891\n",
      "PS4     0.801378\n",
      "Wii     0.665455\n",
      "XOne    0.645020\n",
      "PS3     0.586457\n",
      "WiiU    0.559116\n",
      "3DS     0.491209\n",
      "DS      0.412812\n",
      "PC      0.249059\n",
      "PSV     0.119659\n",
      "PSP     0.066800\n",
      "Name: total_sales, dtype: float64\n",
      "\n",
      "platform\n",
      "PS4     314.14\n",
      "PS3     289.71\n",
      "X360    237.52\n",
      "3DS     195.01\n",
      "XOne    159.32\n",
      "WiiU     82.19\n",
      "PC       63.51\n",
      "PSV      49.18\n",
      "Wii      36.60\n",
      "DS       13.21\n",
      "PSP      11.69\n",
      "Name: total_sales, dtype: float64\n"
     ]
    },
    {
     "data": {
      "image/png": "[encoded data removed]",
      "text/plain": [
       "<Figure size 640x480 with 1 Axes>"
      ]
     },
     "metadata": {},
     "output_type": "display_data"
    }
   ],
   "source": [
    "# Creamos un diagrama de caja para las ventas globales de todos los juegos, desglosados por plataforma\n",
    "sns.boxplot(x= 'platform',\n",
    "            y= 'total_sales',\n",
    "            data= df_games_mod)\n",
    "average_sales_plat = df_games_mod.groupby('platform')['total_sales'].mean()\n",
    "print(average_sales_plat.sort_values(ascending=False))\n",
    "print()\n",
    "total_sales_mod = df_games_mod.groupby('platform')['total_sales'].sum()\n",
    "print(total_sales_mod.sort_values(ascending=False))"
   ]
  },
  {
   "cell_type": "markdown",
   "metadata": {},
   "source": [
    "**Comentarios** \n",
    "\n",
    "* Podemos observar que la plataforma **PS3** tiene más valores atípicos, lo que es curioso es que debido a esa venta atípica, pareciera que tiene mayores ventas, sin embargo el líder en ventas es **PS4**\n",
    "* Todos las plataformas presentan un sesgo a la derecha, con más valores por sobre su media. \n",
    "* Vemos que para todas las plataformas sus juegos vendieron en promedio menos de 1 millón de dólares:\n",
    "    * La plataforma X360 tiene el mayor promedio de ventas por juego\n",
    "    * La plataforma PSP tiene el menor promedio de ventas por juego\n"
   ]
  },
  {
   "cell_type": "markdown",
   "metadata": {},
   "source": [
    "#### Plataforma X360"
   ]
  },
  {
   "cell_type": "markdown",
   "metadata": {},
   "source": [
    "**Evaluar cómo afectan las ventas de acuerdo a las reseñas de los usuarios y de los críticos**\n",
    "\n",
    "Elegimos esta plataforma ya que es la segunda con mayor ventas, continua teniendo ventas hasta este año, y lleva 12 años en el mercado, por lo que podemos evaluar un buen rango. "
   ]
  },
  {
   "cell_type": "code",
   "execution_count": 36,
   "metadata": {},
   "outputs": [
    {
     "name": "stdout",
     "output_type": "stream",
     "text": [
      "name                object\n",
      "platform            object\n",
      "total_sales        float64\n",
      "critic_score       float64\n",
      "user_score         float64\n",
      "genre               object\n",
      "na_sales           float64\n",
      "eu_sales           float64\n",
      "jp_sales           float64\n",
      "rating              object\n",
      "year_of_release    float64\n",
      "dtype: object\n"
     ]
    }
   ],
   "source": [
    "# Primero descartamos los valores tbd, para poder sacar estadísticas \n",
    "df_games_mod['user_score'] = df_games_mod['user_score'].where(df_games_mod['user_score'] != 'tbd', '')\n",
    "df_games_mod['user_score'] = pd.to_numeric(df_games_mod['user_score'])\n",
    "df_games_mod['critic_score'] = pd.to_numeric(df_games_mod['critic_score'])\n",
    "print(df_games_mod.dtypes)"
   ]
  },
  {
   "cell_type": "code",
   "execution_count": 37,
   "metadata": {},
   "outputs": [
    {
     "data": {
      "image/png": "[encoded data removed]",
      "text/plain": [
       "<Figure size 640x480 with 1 Axes>"
      ]
     },
     "metadata": {},
     "output_type": "display_data"
    },
    {
     "name": "stdout",
     "output_type": "stream",
     "text": [
      "El coeficiente de relación es: -0.02284542196429197\n"
     ]
    }
   ],
   "source": [
    "# Filtramos con los datos de la plataforma X360\n",
    "df_games_x360 = df_games_mod[df_games_mod['platform'] == 'X360']\n",
    "\n",
    "# Creamos un gráfico de dispersión según las reseñas del usuario\n",
    "df_games_x360.plot(x= 'user_score',\n",
    "        y= 'total_sales',\n",
    "        title='X360 Sales depending on the User score',\n",
    "        alpha= 0.36,\n",
    "        xlabel= 'User score',\n",
    "        ylabel= 'Total Sales in millions of USD',\n",
    "        kind='scatter')\n",
    "plt.show()\n",
    "\n",
    "# Obtenemos el coeficiente de relación:\n",
    "corr_user = df_games_x360['user_score'].corr(df_games_x360['total_sales'])\n",
    "print('El coeficiente de relación es:',corr_user)"
   ]
  },
  {
   "cell_type": "markdown",
   "metadata": {},
   "source": [
    "**Comentarios** \n",
    "\n",
    "* Podemos observar que a pesar que la mayoría de las ventas se centran en calificaciones superiores al 6, desde la calificación 4 podemos notar un aumento y en calificaciones superiores al 8, las ventas reducen.\n",
    "* Por lo que la correlación es negativa, **no** hay una correlación entre las reseñas del usuario y las ventas generadas."
   ]
  },
  {
   "cell_type": "code",
   "execution_count": 38,
   "metadata": {},
   "outputs": [
    {
     "data": {
      "image/png": "[encoded data removed]",
      "text/plain": [
       "<Figure size 640x480 with 1 Axes>"
      ]
     },
     "metadata": {},
     "output_type": "display_data"
    },
    {
     "name": "stdout",
     "output_type": "stream",
     "text": [
      "El coeficiente de relación es: 0.3602659026138049\n"
     ]
    }
   ],
   "source": [
    "# Creamos un gráfico de dispersión según las reseñas del crítico\n",
    "df_games_x360.plot(x= 'critic_score',\n",
    "        y= 'total_sales',\n",
    "        title='X360 Sales depending on the Critic score',\n",
    "        alpha= 0.36,\n",
    "        xlabel= 'Critic score',\n",
    "        ylabel= 'Total Sales in millions of USD',\n",
    "        kind='scatter')\n",
    "plt.show()\n",
    "\n",
    "# Obtenemos el coeficiente de relación:\n",
    "corr_critic = df_games_x360['critic_score'].corr(df_games_x360['total_sales'])\n",
    "print('El coeficiente de relación es:',corr_critic)"
   ]
  },
  {
   "cell_type": "markdown",
   "metadata": {},
   "source": [
    "**Comentarios** \n",
    "\n",
    "* Podemos observar que mientras mayor es la calificación vemos un aumento en las ventas, además que la mayoría de los datos se encuentran después de la calificación 60. \n",
    "* Por lo que la correlación es positiva, sí hay una correlación entre las reseñas del crítico y las ventas generadas.\n",
    "* Incluso podemos ver que las mayores ventas fueron en las calificaciones mayores a 60. "
   ]
  },
  {
   "cell_type": "markdown",
   "metadata": {},
   "source": [
    "#### Ventas de los mismos juegos en otras plataformas"
   ]
  },
  {
   "cell_type": "code",
   "execution_count": 39,
   "metadata": {
    "scrolled": true
   },
   "outputs": [
    {
     "name": "stdout",
     "output_type": "stream",
     "text": [
      "XOne    224\n",
      "X360    164\n",
      "PSV     127\n",
      "PS4      39\n",
      "WiiU     26\n",
      "PSP      11\n",
      "Wii       3\n",
      "DS        3\n",
      "PS3       2\n",
      "Name: platform, dtype: int64\n"
     ]
    }
   ],
   "source": [
    "# Filtramos con los duplicados, y obtenemos el máximo de ventas según cada juego y tomamos el conteo por plataforma\n",
    "same_games = df_games_mod[df_games_mod.duplicated(subset=['name'], keep=False)][['name','platform','total_sales']]\n",
    "same_games_sort = same_games.groupby('name')[['platform','total_sales']].max()\n",
    "print(same_games_sort['platform'].value_counts())"
   ]
  },
  {
   "cell_type": "markdown",
   "metadata": {},
   "source": [
    "**Comentarios** \n",
    "\n",
    "* Podemos ver que dentro de los juegos que se encuentran en diferentes plataformas, el líder en cuanto a ventas es la plataforma **XOne**, seguido por **X360** y en tercer lugar **PSV** \n",
    "* Sin embargo teniendo en cuenta que la plataforma PS3 y DS son líderes en ventas, sorprende ver que sólo tienen 2 y 3 juegos respectivamente con el máximo de ventas. "
   ]
  },
  {
   "cell_type": "markdown",
   "metadata": {},
   "source": [
    "#### Ventas según género"
   ]
  },
  {
   "cell_type": "code",
   "execution_count": 40,
   "metadata": {},
   "outputs": [
    {
     "name": "stdout",
     "output_type": "stream",
     "text": [
      "genre\n",
      "Action          446.41\n",
      "Shooter         304.75\n",
      "Role-Playing    192.80\n",
      "Sports          181.07\n",
      "Misc             85.28\n",
      "Platform         61.00\n",
      "Racing           53.50\n",
      "Fighting         44.49\n",
      "Simulation       35.12\n",
      "Adventure        29.43\n",
      "Strategy         13.34\n",
      "Puzzle            4.89\n",
      "Name: total_sales, dtype: float64\n"
     ]
    },
    {
     "data": {
      "image/png": "[encoded data removed]",
      "text/plain": [
       "<Figure size 640x480 with 1 Axes>"
      ]
     },
     "metadata": {},
     "output_type": "display_data"
    }
   ],
   "source": [
    "# Filtramos por género y sacamos las ventas totales\n",
    "genre_games = df_games_mod.groupby('genre')['total_sales'].sum()\n",
    "print(genre_games.sort_values(ascending=False))\n",
    "\n",
    "genre_games.plot(x='genre',\n",
    "        y= 'total_sales',\n",
    "        title= 'Sales according the genre',\n",
    "        xlabel= 'Genre',\n",
    "        ylabel= 'Total sales in millions of USD',\n",
    "        kind='bar')\n",
    "plt.show()"
   ]
  },
  {
   "cell_type": "markdown",
   "metadata": {},
   "source": [
    "**Observaciones**\n",
    "\n",
    "* El género de *Action* es el que tiene más ventas, representando el 30% del total, seguido por *Shooter*, *Role Playing* y *Sports*\n",
    "* Después de esos 4 géneros, ningun otro género supera los 100 millones de dólares. \n",
    "* Podemos asumir que los usuarios disfrutan más de los juegos en los cuales hay actividad física y violencia que en los que no la hay. "
   ]
  },
  {
   "cell_type": "markdown",
   "metadata": {},
   "source": [
    "### Ventas por regiones "
   ]
  },
  {
   "cell_type": "markdown",
   "metadata": {},
   "source": [
    "#### Según plataforma"
   ]
  },
  {
   "cell_type": "markdown",
   "metadata": {},
   "source": [
    "##### Norteamérica"
   ]
  },
  {
   "cell_type": "code",
   "execution_count": 41,
   "metadata": {},
   "outputs": [
    {
     "name": "stdout",
     "output_type": "stream",
     "text": [
      "platform\n",
      "X360    140.57\n",
      "PS4     108.74\n",
      "PS3     103.74\n",
      "XOne     93.12\n",
      "3DS      55.49\n",
      "WiiU     38.10\n",
      "PC       19.26\n",
      "Wii      18.14\n",
      "PSV      10.98\n",
      "DS        4.93\n",
      "PSP       0.23\n",
      "Name: na_sales, dtype: float64\n",
      "El promedio de ventas en Norteamérica es: 0.20465677819937908\n",
      "El máximo de ventas en Norteamérica es: 9.66\n",
      "El mínimo de ventas en Norteamérica es: 0.0\n",
      "\n",
      "platform\n",
      "X360    140.57\n",
      "PS4     108.74\n",
      "PS3     103.74\n",
      "XOne     93.12\n",
      "3DS      55.49\n",
      "Name: na_sales, dtype: float64\n"
     ]
    }
   ],
   "source": [
    "# Obtenemos las ventas en la región de Norteamérica\n",
    "na_games = df_games_mod[['na_sales','name','platform', 'genre','rating']]\n",
    "na_games_plat = na_games.groupby('platform')['na_sales'].sum()\n",
    "na_games_max = na_games['na_sales'].max()\n",
    "na_games_min = na_games['na_sales'].min()\n",
    "na_games_avg = na_games['na_sales'].mean()\n",
    "print(na_games_plat.sort_values(ascending=False))\n",
    "print('El promedio de ventas en Norteamérica es:', na_games_avg)\n",
    "print('El máximo de ventas en Norteamérica es:', na_games_max)\n",
    "print('El mínimo de ventas en Norteamérica es:', na_games_min)\n",
    "print()\n",
    "main5_na = na_games_plat.sort_values(ascending=False).head()\n",
    "print(main5_na)"
   ]
  },
  {
   "cell_type": "markdown",
   "metadata": {},
   "source": [
    "##### Europa"
   ]
  },
  {
   "cell_type": "code",
   "execution_count": 42,
   "metadata": {},
   "outputs": [
    {
     "name": "stdout",
     "output_type": "stream",
     "text": [
      "platform\n",
      "PS4     141.09\n",
      "PS3     107.27\n",
      "X360     74.89\n",
      "XOne     51.59\n",
      "3DS      42.83\n",
      "PC       38.38\n",
      "WiiU     25.13\n",
      "Wii      12.34\n",
      "PSV      11.36\n",
      "DS        3.78\n",
      "PSP       0.52\n",
      "Name: eu_sales, dtype: float64\n",
      "El promedio de ventas en Europa es: 0.17563987581924803\n",
      "El máximo de ventas en Europa es: 9.09\n",
      "El mínimo de ventas en Europa es: 0.0\n",
      "\n",
      "platform\n",
      "PS4     141.09\n",
      "PS3     107.27\n",
      "X360     74.89\n",
      "XOne     51.59\n",
      "3DS      42.83\n",
      "Name: eu_sales, dtype: float64\n"
     ]
    }
   ],
   "source": [
    "# Obtenemos las ventas en la región de Europa\n",
    "eu_games = df_games_mod[['eu_sales','name','platform', 'genre','rating']]\n",
    "eu_games_plat = eu_games.groupby('platform')['eu_sales'].sum()\n",
    "eu_games_max = eu_games['eu_sales'].max()\n",
    "eu_games_min = eu_games['eu_sales'].min()\n",
    "eu_games_avg = eu_games['eu_sales'].mean()\n",
    "print(eu_games_plat.sort_values(ascending=False))\n",
    "print('El promedio de ventas en Europa es:', eu_games_avg)\n",
    "print('El máximo de ventas en Europa es:', eu_games_max)\n",
    "print('El mínimo de ventas en Europa es:', eu_games_min)\n",
    "print()\n",
    "main5_eu = eu_games_plat.sort_values(ascending=False).head()\n",
    "print(main5_eu)"
   ]
  },
  {
   "cell_type": "markdown",
   "metadata": {},
   "source": [
    "##### Japón"
   ]
  },
  {
   "cell_type": "code",
   "execution_count": 43,
   "metadata": {},
   "outputs": [
    {
     "name": "stdout",
     "output_type": "stream",
     "text": [
      "platform\n",
      "3DS     87.79\n",
      "PS3     35.29\n",
      "PSV     21.04\n",
      "PS4     15.96\n",
      "WiiU    13.01\n",
      "PSP     10.71\n",
      "DS       3.72\n",
      "Wii      3.39\n",
      "X360     1.57\n",
      "XOne     0.34\n",
      "PC       0.00\n",
      "Name: jp_sales, dtype: float64\n",
      "El promedio de ventas en Japón es: 0.06651259054846499\n",
      "El máximo de ventas en Japón es: 4.39\n",
      "El mínimo de ventas en Japón es: 0.0\n",
      "\n",
      "platform\n",
      "3DS     87.79\n",
      "PS3     35.29\n",
      "PSV     21.04\n",
      "PS4     15.96\n",
      "WiiU    13.01\n",
      "Name: jp_sales, dtype: float64\n"
     ]
    }
   ],
   "source": [
    "# Obtenemos las ventas en la región de Japón\n",
    "jp_games = df_games_mod[['jp_sales','name','platform', 'genre','rating']]\n",
    "jp_games_plat = jp_games.groupby('platform')['jp_sales'].sum()\n",
    "jp_games_max = jp_games['jp_sales'].max()\n",
    "jp_games_min = jp_games['jp_sales'].min()\n",
    "jp_games_avg = jp_games['jp_sales'].mean()\n",
    "print(jp_games_plat.sort_values(ascending=False))\n",
    "print('El promedio de ventas en Japón es:', jp_games_avg)\n",
    "print('El máximo de ventas en Japón es:', jp_games_max)\n",
    "print('El mínimo de ventas en Japón es:', jp_games_min)\n",
    "print()\n",
    "main5_jp = jp_games_plat.sort_values(ascending=False).head()\n",
    "print(main5_jp)"
   ]
  },
  {
   "cell_type": "code",
   "execution_count": 44,
   "metadata": {},
   "outputs": [
    {
     "name": "stdout",
     "output_type": "stream",
     "text": [
      "          na_sales  eu_sales  jp_sales  total_sales\n",
      "platform                                           \n",
      "PS4         108.74    141.09     15.96       265.79\n",
      "PS3         103.74    107.27     35.29       246.30\n",
      "X360        140.57     74.89      0.00       215.46\n",
      "3DS          55.49     42.83     87.79       186.11\n",
      "XOne         93.12     51.59      0.00       144.71\n",
      "PSV           0.00      0.00     21.04        21.04\n",
      "WiiU          0.00      0.00     13.01        13.01\n",
      "\n",
      "El total de las 5 plataformas principales de Norteamérica es: 501.66\n",
      "El total de las 5 plataformas principales de Europa es: 417.67\n",
      "El total de las 5 plataformas principales de Japón es: 173.09\n"
     ]
    }
   ],
   "source": [
    "# Obtenemos las 5 plataformas por cada región con las mayores ventas \n",
    "main5_region = pd.concat([main5_na, main5_eu, main5_jp], axis = 'columns')\n",
    "main5_region = main5_region.fillna(0)\n",
    "main5_region['total_sales'] = main5_region['na_sales'] + main5_region['eu_sales'] + main5_region['jp_sales']\n",
    "print(main5_region.sort_values(by='total_sales', ascending=False))\n",
    "print()\n",
    "print('El total de las 5 plataformas principales de Norteamérica es:', main5_region['na_sales'].sum().round(2))\n",
    "print('El total de las 5 plataformas principales de Europa es:', main5_region['eu_sales'].sum().round(2))\n",
    "print('El total de las 5 plataformas principales de Japón es:', main5_region['jp_sales'].sum().round(2))"
   ]
  },
  {
   "cell_type": "markdown",
   "metadata": {},
   "source": [
    "**Comentarios**\n",
    "\n",
    "* En la región de Norteamérica la plataforma con mayores ventas es X360. \n",
    "* En la región de Europa la plataforma con mayores ventas es PS4\n",
    "* En la región de Japón la plataforma con mayores ventas es 3DS. \n",
    "* Podemos ver que en las 3 regiones coinciden las plataformas PS4, PS3 y 3DS:\n",
    "    * Para PS4 sus mayores ventas vienen de Europa comparando con las otras regiones, siendo la plataforma con mayores ventas con 265.79 millones de dólares. \n",
    "    * Para PS3 sus mayores ventas también vienen de Europa, con un total de 246.39 millones de dólares ocupa el segundo lugar. \n",
    "    * Para 3DS sus mayores ventas vienen de Japón, con un total de 186.11 millones de dólares, ocupa el tercer lugar.\n",
    "* Observamos que el terce lugar de ventas lo ocupa X360, sin embargo no entra en los 5 más populares en Japón.\n",
    "* Observamos que en la región de Japón las plataformas de PSV y WiiU estuvieron dentro de las 5 plataformas principales, sin embargo en las otras 2 regiones no figuraron. \n",
    "* En orden de mayores ventas por plataforma:\n",
    "    1. Norteamérica con 501.66 millones de dólares \n",
    "    2. Europa con 417.67 millones de dólares\n",
    "    3. Japón con 173.09 millones de dólares"
   ]
  },
  {
   "cell_type": "markdown",
   "metadata": {},
   "source": [
    "#### Según el género"
   ]
  },
  {
   "cell_type": "markdown",
   "metadata": {},
   "source": [
    "##### Norteamérica"
   ]
  },
  {
   "cell_type": "code",
   "execution_count": 45,
   "metadata": {},
   "outputs": [
    {
     "name": "stdout",
     "output_type": "stream",
     "text": [
      "genre\n",
      "Action          180.15\n",
      "Shooter         144.79\n",
      "Sports           81.53\n",
      "Role-Playing     64.00\n",
      "Misc             38.19\n",
      "Platform         25.38\n",
      "Fighting         19.79\n",
      "Racing           17.22\n",
      "Adventure         8.92\n",
      "Simulation        7.97\n",
      "Strategy          4.23\n",
      "Puzzle            1.13\n",
      "Name: na_sales, dtype: float64\n",
      "\n",
      "genre\n",
      "Action          180.15\n",
      "Shooter         144.79\n",
      "Sports           81.53\n",
      "Role-Playing     64.00\n",
      "Misc             38.19\n",
      "Name: na_sales, dtype: float64\n"
     ]
    }
   ],
   "source": [
    "# Obtenemos las ventas en la región de Norteamérica\n",
    "na_games_genre = na_games.groupby('genre')['na_sales'].sum()\n",
    "print(na_games_genre.sort_values(ascending=False))\n",
    "print()\n",
    "main_genre_na = na_games_genre.sort_values(ascending=False).head()\n",
    "print(main_genre_na)"
   ]
  },
  {
   "cell_type": "markdown",
   "metadata": {},
   "source": [
    "##### Europa"
   ]
  },
  {
   "cell_type": "code",
   "execution_count": 46,
   "metadata": {},
   "outputs": [
    {
     "name": "stdout",
     "output_type": "stream",
     "text": [
      "genre\n",
      "Action          161.70\n",
      "Shooter         113.47\n",
      "Sports           69.09\n",
      "Role-Playing     48.53\n",
      "Racing           27.29\n",
      "Misc             26.32\n",
      "Platform         21.41\n",
      "Simulation       14.55\n",
      "Fighting         10.79\n",
      "Adventure         9.46\n",
      "Strategy          5.17\n",
      "Puzzle            1.40\n",
      "Name: eu_sales, dtype: float64\n",
      "\n",
      "genre\n",
      "Action          161.70\n",
      "Shooter         113.47\n",
      "Sports           69.09\n",
      "Role-Playing     48.53\n",
      "Racing           27.29\n",
      "Name: eu_sales, dtype: float64\n"
     ]
    }
   ],
   "source": [
    "# Obtenemos las ventas en la región de Europa\n",
    "eu_games_genre = eu_games.groupby('genre')['eu_sales'].sum()\n",
    "print(eu_games_genre.sort_values(ascending=False))\n",
    "print()\n",
    "main_genre_eu = eu_games_genre.sort_values(ascending=False).head()\n",
    "print(main_genre_eu)"
   ]
  },
  {
   "cell_type": "markdown",
   "metadata": {},
   "source": [
    "##### Japón"
   ]
  },
  {
   "cell_type": "code",
   "execution_count": 47,
   "metadata": {},
   "outputs": [
    {
     "name": "stdout",
     "output_type": "stream",
     "text": [
      "genre\n",
      "Role-Playing    65.44\n",
      "Action          52.80\n",
      "Misc            13.10\n",
      "Simulation      10.41\n",
      "Fighting         9.44\n",
      "Shooter          9.23\n",
      "Platform         8.63\n",
      "Adventure        8.24\n",
      "Sports           8.01\n",
      "Strategy         2.88\n",
      "Racing           2.50\n",
      "Puzzle           2.14\n",
      "Name: jp_sales, dtype: float64\n",
      "\n",
      "genre\n",
      "Role-Playing    65.44\n",
      "Action          52.80\n",
      "Misc            13.10\n",
      "Simulation      10.41\n",
      "Fighting         9.44\n",
      "Name: jp_sales, dtype: float64\n"
     ]
    }
   ],
   "source": [
    "# Obtenemos las ventas en la región de Japón\n",
    "jp_games_genre = jp_games.groupby('genre')['jp_sales'].sum()\n",
    "print(jp_games_genre.sort_values(ascending=False))\n",
    "print()\n",
    "main_genre_jp = jp_games_genre.sort_values(ascending=False).head()\n",
    "print(main_genre_jp)"
   ]
  },
  {
   "cell_type": "code",
   "execution_count": 48,
   "metadata": {},
   "outputs": [
    {
     "name": "stdout",
     "output_type": "stream",
     "text": [
      "              na_sales  eu_sales  jp_sales  total_sales\n",
      "genre                                                  \n",
      "Action          180.15    161.70     52.80       394.65\n",
      "Shooter         144.79    113.47      0.00       258.26\n",
      "Role-Playing     64.00     48.53     65.44       177.97\n",
      "Sports           81.53     69.09      0.00       150.62\n",
      "Misc             38.19      0.00     13.10        51.29\n",
      "Racing            0.00     27.29      0.00        27.29\n",
      "Simulation        0.00      0.00     10.41        10.41\n",
      "Fighting          0.00      0.00      9.44         9.44\n",
      "\n",
      "El total de los 5 géneros principales de Norteamérica es: 508.66\n",
      "El total de los 5 géneros principales de Europa es: 420.08\n",
      "El total de los 5 géneros principales de Japón es: 151.19\n"
     ]
    }
   ],
   "source": [
    "# Obtenemos los 5 géneros por cada región con las mayores ventas \n",
    "main_genre_region = pd.concat([main_genre_na, main_genre_eu, main_genre_jp], axis = 'columns')\n",
    "main_genre_region = main_genre_region.fillna(0)\n",
    "main_genre_region['total_sales'] = main_genre_region['na_sales'] + main_genre_region['eu_sales'] + main_genre_region['jp_sales']\n",
    "print(main_genre_region.sort_values(by='total_sales', ascending=False))\n",
    "print()\n",
    "print('El total de los 5 géneros principales de Norteamérica es:', main_genre_region['na_sales'].sum().round(2))\n",
    "print('El total de los 5 géneros principales de Europa es:', main_genre_region['eu_sales'].sum().round(2))\n",
    "print('El total de los 5 géneros principales de Japón es:', main_genre_region['jp_sales'].sum().round(2))"
   ]
  },
  {
   "cell_type": "markdown",
   "metadata": {},
   "source": [
    "**Comentarios**\n",
    "\n",
    "* Tanto en Norteamérica como en Europa, el género con mayores ventas es *Action*\n",
    "* En la región de Japón el género con mayores ventas es *Role-Playing*. \n",
    "* Podemos ver que en las 3 regiones coinciden los géneros de *Action* y *Role Playing*:\n",
    "    * Para *Action* sus mayores ventas vienen de Norteamérica comparando con las otras regiones, siendo la plataforma con mayores ventas con 394.65 millones de dólares. \n",
    "    * Para *Role Playing* sus mayores ventas vienen de Japón, con un total de 177.97 millones de dólares ocupa el tercer lugar. \n",
    "* Para el caso de *Shooter* sus mayores ventas también vienen de Norteamérica, con un total de 258.26 millones de dólares, ocupa el segundo lugar, sin embargo en Japón no figura en los 5 más populares.\n",
    "* Observamos que el género *Racing* es de los 5 principales en Europa, pero no lo es en las otras regiones, talvez de deba a la influencia de la Formula 1 en Europa\n",
    "* Observamos que los géneros *Simulation* y *Fighting* son de los 5 principales en Japón, pero no lo son en las otras regiones.\n",
    "* En orden de mayores ventas por género:\n",
    "    1. Norteamérica con 508.66 millones de dólares \n",
    "    2. Europa con 420.08 millones de dólares\n",
    "    3. Japón con 151.19 millones de dólares"
   ]
  },
  {
   "cell_type": "markdown",
   "metadata": {},
   "source": [
    "#### Según rating"
   ]
  },
  {
   "cell_type": "markdown",
   "metadata": {},
   "source": [
    "##### Norteamérica"
   ]
  },
  {
   "cell_type": "code",
   "execution_count": 49,
   "metadata": {},
   "outputs": [
    {
     "name": "stdout",
     "output_type": "stream",
     "text": [
      "rating\n",
      "M       231.67\n",
      "E       114.37\n",
      "        103.31\n",
      "E10+     77.93\n",
      "T        66.02\n",
      "Name: na_sales, dtype: float64\n"
     ]
    }
   ],
   "source": [
    "# Obtenemos las ventas en la región de Norteamérica\n",
    "na_games_rat = na_games.groupby('rating')['na_sales'].sum()\n",
    "print(na_games_rat.sort_values(ascending=False))"
   ]
  },
  {
   "cell_type": "markdown",
   "metadata": {},
   "source": [
    "##### Europa"
   ]
  },
  {
   "cell_type": "code",
   "execution_count": 50,
   "metadata": {},
   "outputs": [
    {
     "name": "stdout",
     "output_type": "stream",
     "text": [
      "rating\n",
      "M       194.44\n",
      "E       113.03\n",
      "         91.50\n",
      "E10+     57.25\n",
      "T        52.96\n",
      "Name: eu_sales, dtype: float64\n"
     ]
    }
   ],
   "source": [
    "# Obtenemos las ventas en la región de Europa\n",
    "eu_games_rat = eu_games.groupby('rating')['eu_sales'].sum()\n",
    "print(eu_games_rat.sort_values(ascending=False))"
   ]
  },
  {
   "cell_type": "markdown",
   "metadata": {},
   "source": [
    "##### Japón"
   ]
  },
  {
   "cell_type": "code",
   "execution_count": 51,
   "metadata": {},
   "outputs": [
    {
     "name": "stdout",
     "output_type": "stream",
     "text": [
      "rating\n",
      "        109.08\n",
      "E        28.33\n",
      "T        26.02\n",
      "M        21.20\n",
      "E10+      8.19\n",
      "Name: jp_sales, dtype: float64\n"
     ]
    }
   ],
   "source": [
    "# Obtenemos las ventas en la región de Japón\n",
    "jp_games_rat = jp_games.groupby('rating')['jp_sales'].sum()\n",
    "print(jp_games_rat.sort_values(ascending=False))"
   ]
  },
  {
   "cell_type": "code",
   "execution_count": 52,
   "metadata": {},
   "outputs": [
    {
     "name": "stdout",
     "output_type": "stream",
     "text": [
      "  rating  na_sales  eu_sales  jp_sales  total_sales\n",
      "3      M    231.67    194.44     21.20       447.31\n",
      "1      E    114.37    113.03     28.33       255.73\n",
      "4      T     66.02     52.96     26.02       145.00\n",
      "2   E10+     77.93     57.25      8.19       143.37\n"
     ]
    }
   ],
   "source": [
    "# Hacemos una comparación de las 3 regiones\n",
    "rating_region = pd.concat([na_games_rat, eu_games_rat, jp_games_rat], axis = 'columns')\n",
    "rating_region['total_sales'] = rating_region['na_sales'] + rating_region['eu_sales'] + rating_region['jp_sales']\n",
    "rating_region = rating_region.reset_index()\n",
    "rating_region = rating_region.drop(0)\n",
    "print(rating_region.sort_values(by='total_sales', ascending=False))"
   ]
  },
  {
   "cell_type": "markdown",
   "metadata": {},
   "source": [
    "**Comentarios**\n",
    "\n",
    "* Teniendo en cuenta los valores del rating: \n",
    "    * E = Apto para todas las edades \n",
    "    * M = Apto para mayores de 17 años\n",
    "    * T = Apto para mayores de 13 años\n",
    "    * E10+ = Apto para mayores de 10 años\n",
    "    * EC = Apto para mayores de 3 años\n",
    "    * RP = Rating pendiente\n",
    "* Podemos observar que en las regiones de Norteamérica y Europa la clasificación apta para mayores de 17 años son las más populares. \n",
    "* En cambio para Japón los juegos que se clasifican para todas las edades son los líderes en ventas\n",
    "* Para el caso de la clasificación *E* ocupan el segundo lugar de mayores ventas tanto Norteamérica y Europa, sin embargo en Japón es la clasificación *T*\n",
    "* Podemos suponer que estas diferencias son debido al rango de edades en las regiones, para lo cual tendríamos que saber las edades de los usuarios.\n",
    "* Podemos generalizar que en volumen de ventas los juegos más populares son los juegos para mayores de 17 años\n",
    "* Los juegos que son para menores de 10 años o que tienen el rating pendiente no figuran en las plataformas analizadas en el periodo después de 2012.  "
   ]
  },
  {
   "cell_type": "markdown",
   "metadata": {},
   "source": [
    "## Hipótesis"
   ]
  },
  {
   "cell_type": "markdown",
   "metadata": {},
   "source": [
    "### Según plataforma"
   ]
  },
  {
   "cell_type": "markdown",
   "metadata": {},
   "source": [
    "**1. Las calificaciones promedio de los usuarios para las plataformas Xbox One y PC son las mismas**"
   ]
  },
  {
   "cell_type": "code",
   "execution_count": 53,
   "metadata": {},
   "outputs": [
    {
     "name": "stdout",
     "output_type": "stream",
     "text": [
      "99       7.5\n",
      "165      7.9\n",
      "179      5.4\n",
      "242      6.4\n",
      "270      6.2\n",
      "        ... \n",
      "16597    6.0\n",
      "16630    8.2\n",
      "16643    6.6\n",
      "16645    7.5\n",
      "16660    6.7\n",
      "Name: user_score, Length: 236, dtype: float64\n",
      "\n",
      "192      4.0\n",
      "458      3.9\n",
      "688      7.9\n",
      "959      4.8\n",
      "1095     7.9\n",
      "        ... \n",
      "16584    7.9\n",
      "16617    7.5\n",
      "16631    7.5\n",
      "16678    7.5\n",
      "16692    7.6\n",
      "Name: user_score, Length: 250, dtype: float64\n",
      "La calificación promedio del usuario de la plataforma Xone es: 6.745338983050848\n",
      "La calificación promedio del usuario de la plataforma PC es: 6.61\n"
     ]
    }
   ],
   "source": [
    "# Generamos nuestras variables por cada plataforma para poder aplicar la hipótesis\n",
    "dfgame_xone = df_games_mod.query(\"platform == 'XOne'\")['user_score']\n",
    "dfgame_xone = dfgame_xone.dropna()\n",
    "print(dfgame_xone)\n",
    "print()\n",
    "dfgame_pc = df_games_mod.query(\"platform == 'PC'\")['user_score']\n",
    "dfgame_pc = dfgame_pc.dropna()\n",
    "print(dfgame_pc)\n",
    "df_xone_avg = dfgame_xone.mean()  \n",
    "df_pc_avg = dfgame_pc.mean() \n",
    "print('La calificación promedio del usuario de la plataforma Xone es:', df_xone_avg)\n",
    "print('La calificación promedio del usuario de la plataforma PC es:', df_pc_avg)"
   ]
  },
  {
   "cell_type": "code",
   "execution_count": 54,
   "metadata": {},
   "outputs": [
    {
     "name": "stdout",
     "output_type": "stream",
     "text": [
      "La varianza de la plataforma Xone según la calificación del usuario es: 1.6315460715311692\n",
      "La varianza de la plataforma PC según la calificación del usuario es: 2.4540199999999994\n",
      "\n",
      "La desviación estándar de la plataforma Xone según la calificación del usuario es: 1.2773198783120732\n",
      "La desviación estándar de la plataforma PC según la calificación del usuario es: 1.5665311998169713\n"
     ]
    }
   ],
   "source": [
    "# Sacamos la varianza y desviación estándar\n",
    "var_xone = np.var(dfgame_xone)\n",
    "print('La varianza de la plataforma Xone según la calificación del usuario es:', var_xone)\n",
    "var_pc = np.var(dfgame_pc)\n",
    "print('La varianza de la plataforma PC según la calificación del usuario es:', var_pc)\n",
    "print()\n",
    "dev_xone =np.sqrt(var_xone)\n",
    "print('La desviación estándar de la plataforma Xone según la calificación del usuario es:', dev_xone)\n",
    "dev_pc =np.sqrt(var_pc)\n",
    "print('La desviación estándar de la plataforma PC según la calificación del usuario es:', dev_pc)"
   ]
  },
  {
   "cell_type": "code",
   "execution_count": 55,
   "metadata": {},
   "outputs": [
    {
     "name": "stdout",
     "output_type": "stream",
     "text": [
      "valor p:  0.2969170114442903\n",
      "No podemos rechazar la hipótesis nula\n"
     ]
    }
   ],
   "source": [
    "# Probamos la hipótesis\n",
    "alpha = 0.05\n",
    "results = st.ttest_ind(dfgame_xone, dfgame_pc, equal_var=False)\n",
    "print('valor p: ', results.pvalue)\n",
    "if results.pvalue < alpha:\n",
    "    print(\"Rechazamos la hipótesis nula\")\n",
    "else:\n",
    "    print(\"No podemos rechazar la hipótesis nula\")"
   ]
  },
  {
   "cell_type": "markdown",
   "metadata": {},
   "source": [
    "**Nuestra hipótesis nula es: La calificación promedio de los usuarios de las plataformas Xone y PC son iguales.**\n",
    "\n",
    "**Nuestra hipótesis alternativa es: La calificación de XOne es mayor que la de PC.**\n",
    "\n",
    "* Después de comprobar nuestra hipótesis podemos confirmar que existe un 29% que la calificación del usuario sea la misma para ambas plataformas, por lo que no podemos rechazar nuestra hipótesis nula. \n",
    "* Confirmamos que la calificación de XOne es menor que la de PC, por lo que confirmamos la hipótesis alternativa. \n",
    "\n",
    "* Hemos decidido plantear la hipótesis nula como igualdad ya que basado en su promedio estaban muy cercanos en valor. \n",
    "* En cuanto a la alternativa, hemos decidido hacerla con valor mayor en Xone, ya que esta plataforma tuvo mayores ventas que PC:\n",
    "    * XOne    159.32\n",
    "    * PC       63.51"
   ]
  },
  {
   "cell_type": "markdown",
   "metadata": {},
   "source": [
    "### Según género"
   ]
  },
  {
   "cell_type": "markdown",
   "metadata": {},
   "source": [
    "**2. Las calificaciones promedio de los usuarios para los géneros de Acción y Deportes son diferentes.**"
   ]
  },
  {
   "cell_type": "code",
   "execution_count": 56,
   "metadata": {},
   "outputs": [
    {
     "name": "stdout",
     "output_type": "stream",
     "text": [
      "16       8.2\n",
      "23       8.1\n",
      "42       8.3\n",
      "81       6.6\n",
      "127      6.9\n",
      "        ... \n",
      "16680    7.5\n",
      "16691    7.5\n",
      "16692    7.6\n",
      "16699    7.5\n",
      "16710    7.5\n",
      "Name: user_score, Length: 991, dtype: float64\n",
      "\n",
      "77       4.3\n",
      "94       5.0\n",
      "126      4.3\n",
      "143      5.7\n",
      "264      4.5\n",
      "        ... \n",
      "16241    7.5\n",
      "16428    7.5\n",
      "16450    4.5\n",
      "16518    1.4\n",
      "16643    6.6\n",
      "Name: user_score, Length: 249, dtype: float64\n",
      "La calificación promedio del usuario del género de Acción es: 7.143289606458123\n",
      "La calificación promedio del usuario del género de Deportes es: 5.899196787148595\n"
     ]
    }
   ],
   "source": [
    "# Generamos nuestras variables por cada género para poder aplicar la hipótesis\n",
    "dfgame_action = df_games_mod.query(\"genre == 'Action'\")['user_score']\n",
    "dfgame_action = dfgame_action.dropna()\n",
    "print(dfgame_action)\n",
    "print()\n",
    "dfgame_sports = df_games_mod.query(\"genre == 'Sports'\")['user_score']\n",
    "dfgame_sports = dfgame_sports.dropna()\n",
    "print(dfgame_sports)\n",
    "df_action_avg = dfgame_action.mean()  \n",
    "df_sports_avg = dfgame_sports.mean() \n",
    "print('La calificación promedio del usuario del género de Acción es:', df_action_avg)\n",
    "print('La calificación promedio del usuario del género de Deportes es:', df_sports_avg)"
   ]
  },
  {
   "cell_type": "code",
   "execution_count": 57,
   "metadata": {},
   "outputs": [
    {
     "name": "stdout",
     "output_type": "stream",
     "text": [
      "La varianza del género Acción según la calificación del usuario es: 1.1167032047254757\n",
      "La varianza del género Deportes según la calificación del usuario es: 3.0648186319575488\n",
      "\n",
      "La desviación estándar del género Acción según la calificación del usuario es: 1.0567417871578069\n",
      "La desviación estándar del género Deportes según la calificación del usuario es: 1.750662340932011\n"
     ]
    }
   ],
   "source": [
    "# Sacamos la varianza y desviación estándar\n",
    "var_action = np.var(dfgame_action)\n",
    "print('La varianza del género Acción según la calificación del usuario es:', var_action)\n",
    "var_sports = np.var(dfgame_sports)\n",
    "print('La varianza del género Deportes según la calificación del usuario es:', var_sports)\n",
    "print()\n",
    "dev_action =np.sqrt(var_action)\n",
    "print('La desviación estándar del género Acción según la calificación del usuario es:', dev_action)\n",
    "dev_sports =np.sqrt(var_sports)\n",
    "print('La desviación estándar del género Deportes según la calificación del usuario es:', dev_sports)"
   ]
  },
  {
   "cell_type": "code",
   "execution_count": 58,
   "metadata": {},
   "outputs": [
    {
     "name": "stdout",
     "output_type": "stream",
     "text": [
      "valor p:  7.794701646310851e-23\n",
      "Rechazamos la hipótesis nula\n"
     ]
    }
   ],
   "source": [
    "# Probamos la hipótesis\n",
    "alpha = 0.05\n",
    "results = st.ttest_ind(dfgame_action, dfgame_sports, equal_var=False)\n",
    "print('valor p: ', results.pvalue)\n",
    "if results.pvalue < alpha:\n",
    "    print(\"Rechazamos la hipótesis nula\")\n",
    "else:\n",
    "    print(\"No podemos rechazar la hipótesis nula\")"
   ]
  },
  {
   "cell_type": "markdown",
   "metadata": {},
   "source": [
    "**Nuestra hipótesis nula es: La calificación promedio de los usuarios de los géneros de Acción y Deportes son iguales.**\n",
    "\n",
    "**Nuestra hipótesis alternativa es: La calificación del género de Acción es mayor que la de Deportes.**\n",
    "\n",
    "* Después de comprobar nuestra hipótesis podemos confirmar que existe menos de 0.001% que la calificación del usuario sea la misma para ambos géneros. \n",
    "* Confirmamos que la calificación de Acción es mayor que la de Deportes, por lo que confirmamos la hipótesis alternativa. \n",
    "\n",
    "* Hemos decidido plantear la hipótesis nula como igualdad \n",
    "* En cuanto a la alternativa, hemos decidido hacerla con valor mayor en Acción, ya que este género tuvo mayores ventas que Deportes:\n",
    "    * Action          446.41\n",
    "    * Sports          181.07"
   ]
  },
  {
   "cell_type": "markdown",
   "metadata": {},
   "source": [
    "## Conclusiones"
   ]
  },
  {
   "cell_type": "markdown",
   "metadata": {},
   "source": [
    "* Después de nuestro análisis podemos concluir que las plataformas más prometedoras para el siguiente año son:\n",
    "    * PS4\n",
    "    * X360\n",
    "    * PS3\n",
    "    * XOne\n",
    "    * 3DS\n",
    "* Hemos tomado en cuenta el número de juegos que lanzaron, sus promedios de ventas, sus ventas totales y la popularidad en las 3 regiones. \n",
    "\n",
    "* Es importante mencionar que omitimos PS2 y Wii a pesar de ser líderes en ventas, abrimos paso a las nuevas geeraciones de plataformas que actualmente son las que generan más ventas. \n",
    "\n",
    "* Podemos confirmar que la región que genera mayores ventas es en Norteamérica, por lo que podemos enfocar la publicidad en esta región. \n",
    "\n",
    "* Podemos confirmar que las calificaciones de los usuarios y críticos afectan las ventas, los usuarios probablemente toman en cuenta las calificaciones para las ventas. En este caso queremos notar que es importante conocer los resultados TBD para poder evaluar si afectan nuestro análisis de forma significativa. \n",
    "\n",
    "* Teniendo en cuenta que este año se lanzaron 502 juegos, y nuestro promedio de lanzamiento es de 451, podemos esperar que en el 2017 se lancen más de 400 juegos. \n",
    "\n",
    "* En las regiones de Norteamérica podemos impulsar la publicidad para los juegos con rating *M* (Apto para mayores de 17 años) y en Japón los juegos con rating *E* (apto para todas las edades). \n",
    "\n",
    "* En las 3 regiones podemos impulsar la publicidad para los juegos del género de Acción.\n"
   ]
  },
  {
   "cell_type": "code",
   "execution_count": null,
   "metadata": {},
   "outputs": [],
   "source": []
  }
 ],
 "metadata": {
  "ExecuteTimeLog": [
   {
    "duration": 5421,
    "start_time": "2024-07-03T22:59:35.002Z"
   },
   {
    "duration": 59,
    "start_time": "2024-07-03T22:59:42.504Z"
   },
   {
    "duration": 36,
    "start_time": "2024-07-03T23:01:03.922Z"
   },
   {
    "duration": 16,
    "start_time": "2024-07-03T23:21:35.918Z"
   },
   {
    "duration": 13,
    "start_time": "2024-07-03T23:31:45.876Z"
   },
   {
    "duration": 27,
    "start_time": "2024-07-03T23:35:06.145Z"
   },
   {
    "duration": 9,
    "start_time": "2024-07-03T23:40:05.339Z"
   },
   {
    "duration": 412,
    "start_time": "2024-07-03T23:41:09.742Z"
   },
   {
    "duration": 5,
    "start_time": "2024-07-03T23:41:43.636Z"
   },
   {
    "duration": 41,
    "start_time": "2024-07-03T23:41:43.645Z"
   },
   {
    "duration": 49,
    "start_time": "2024-07-03T23:41:43.689Z"
   },
   {
    "duration": 27,
    "start_time": "2024-07-03T23:41:43.742Z"
   },
   {
    "duration": 12,
    "start_time": "2024-07-03T23:41:43.773Z"
   },
   {
    "duration": 53,
    "start_time": "2024-07-03T23:41:43.789Z"
   },
   {
    "duration": 27,
    "start_time": "2024-07-03T23:41:43.846Z"
   },
   {
    "duration": 9,
    "start_time": "2024-07-03T23:41:52.173Z"
   },
   {
    "duration": 8,
    "start_time": "2024-07-03T23:43:18.167Z"
   },
   {
    "duration": 13,
    "start_time": "2024-07-03T23:44:02.722Z"
   },
   {
    "duration": 17,
    "start_time": "2024-07-03T23:45:02.764Z"
   },
   {
    "duration": 16,
    "start_time": "2024-07-03T23:45:31.004Z"
   },
   {
    "duration": 16,
    "start_time": "2024-07-03T23:45:58.868Z"
   },
   {
    "duration": 14,
    "start_time": "2024-07-03T23:46:53.692Z"
   },
   {
    "duration": 8,
    "start_time": "2024-07-03T23:47:57.574Z"
   },
   {
    "duration": 8,
    "start_time": "2024-07-03T23:48:02.416Z"
   },
   {
    "duration": 14,
    "start_time": "2024-07-03T23:48:16.541Z"
   },
   {
    "duration": 14,
    "start_time": "2024-07-03T23:48:38.997Z"
   },
   {
    "duration": 16,
    "start_time": "2024-07-03T23:49:35.488Z"
   },
   {
    "duration": 14,
    "start_time": "2024-07-03T23:50:22.372Z"
   },
   {
    "duration": 7,
    "start_time": "2024-07-03T23:51:49.026Z"
   },
   {
    "duration": 30,
    "start_time": "2024-07-03T23:52:35.741Z"
   },
   {
    "duration": 14,
    "start_time": "2024-07-03T23:53:01.233Z"
   },
   {
    "duration": 28,
    "start_time": "2024-07-03T23:55:54.424Z"
   },
   {
    "duration": 35,
    "start_time": "2024-07-03T23:56:14.158Z"
   },
   {
    "duration": 26,
    "start_time": "2024-07-03T23:57:43.157Z"
   },
   {
    "duration": 13,
    "start_time": "2024-07-03T23:58:19.599Z"
   },
   {
    "duration": 22,
    "start_time": "2024-07-03T23:59:58.075Z"
   },
   {
    "duration": 7,
    "start_time": "2024-07-04T00:12:35.956Z"
   },
   {
    "duration": 10,
    "start_time": "2024-07-04T00:12:52.013Z"
   },
   {
    "duration": 1308,
    "start_time": "2024-07-04T00:14:05.406Z"
   },
   {
    "duration": 8,
    "start_time": "2024-07-04T00:14:32.561Z"
   },
   {
    "duration": 5,
    "start_time": "2024-07-04T00:20:35.955Z"
   },
   {
    "duration": 18,
    "start_time": "2024-07-04T00:22:41.569Z"
   },
   {
    "duration": 10,
    "start_time": "2024-07-04T00:26:36.372Z"
   },
   {
    "duration": 11,
    "start_time": "2024-07-04T00:26:48.700Z"
   },
   {
    "duration": 12,
    "start_time": "2024-07-04T00:30:17.259Z"
   },
   {
    "duration": 22,
    "start_time": "2024-07-04T00:31:37.828Z"
   },
   {
    "duration": 12,
    "start_time": "2024-07-04T00:31:46.130Z"
   },
   {
    "duration": 11,
    "start_time": "2024-07-04T00:32:48.158Z"
   },
   {
    "duration": 133,
    "start_time": "2024-07-04T00:34:11.860Z"
   },
   {
    "duration": 11,
    "start_time": "2024-07-04T00:34:45.246Z"
   },
   {
    "duration": 44,
    "start_time": "2024-07-04T00:36:40.447Z"
   },
   {
    "duration": 24,
    "start_time": "2024-07-04T00:36:58.523Z"
   },
   {
    "duration": 5,
    "start_time": "2024-07-04T00:37:08.344Z"
   },
   {
    "duration": 6,
    "start_time": "2024-07-04T00:37:13.341Z"
   },
   {
    "duration": 17,
    "start_time": "2024-07-04T00:37:33.944Z"
   },
   {
    "duration": 471,
    "start_time": "2024-07-04T00:38:01.597Z"
   },
   {
    "duration": 135,
    "start_time": "2024-07-04T00:38:11.927Z"
   },
   {
    "duration": 7,
    "start_time": "2024-07-04T00:38:19.193Z"
   },
   {
    "duration": 19,
    "start_time": "2024-07-04T00:38:51.846Z"
   },
   {
    "duration": 22,
    "start_time": "2024-07-04T00:43:24.720Z"
   },
   {
    "duration": 13,
    "start_time": "2024-07-04T00:50:43.411Z"
   },
   {
    "duration": 27,
    "start_time": "2024-07-04T00:51:17.762Z"
   },
   {
    "duration": 11,
    "start_time": "2024-07-04T00:52:20.856Z"
   },
   {
    "duration": 37,
    "start_time": "2024-07-04T00:54:51.314Z"
   },
   {
    "duration": 21,
    "start_time": "2024-07-04T00:55:13.919Z"
   },
   {
    "duration": 20,
    "start_time": "2024-07-04T00:56:05.754Z"
   },
   {
    "duration": 136,
    "start_time": "2024-07-04T01:02:39.300Z"
   },
   {
    "duration": 5,
    "start_time": "2024-07-04T01:03:49.973Z"
   },
   {
    "duration": 16,
    "start_time": "2024-07-04T01:03:58.778Z"
   },
   {
    "duration": 12,
    "start_time": "2024-07-04T01:05:34.721Z"
   },
   {
    "duration": 13,
    "start_time": "2024-07-04T01:06:35.838Z"
   },
   {
    "duration": 13,
    "start_time": "2024-07-04T01:06:50.290Z"
   },
   {
    "duration": 80,
    "start_time": "2024-07-04T01:10:55.193Z"
   },
   {
    "duration": 14,
    "start_time": "2024-07-04T01:12:43.459Z"
   },
   {
    "duration": 13,
    "start_time": "2024-07-04T01:13:18.703Z"
   },
   {
    "duration": 20,
    "start_time": "2024-07-04T01:14:45.463Z"
   },
   {
    "duration": 24,
    "start_time": "2024-07-04T01:16:27.759Z"
   },
   {
    "duration": 20,
    "start_time": "2024-07-04T01:19:21.479Z"
   },
   {
    "duration": 18,
    "start_time": "2024-07-04T01:21:29.603Z"
   },
   {
    "duration": 19,
    "start_time": "2024-07-04T01:21:57.141Z"
   },
   {
    "duration": 16,
    "start_time": "2024-07-04T01:22:13.890Z"
   },
   {
    "duration": 12,
    "start_time": "2024-07-04T01:22:31.914Z"
   },
   {
    "duration": 11,
    "start_time": "2024-07-04T01:22:44.321Z"
   },
   {
    "duration": 13,
    "start_time": "2024-07-04T01:26:12.530Z"
   },
   {
    "duration": 15,
    "start_time": "2024-07-04T01:26:23.056Z"
   },
   {
    "duration": 134,
    "start_time": "2024-07-04T01:27:27.447Z"
   },
   {
    "duration": 18,
    "start_time": "2024-07-04T01:27:38.180Z"
   },
   {
    "duration": 14,
    "start_time": "2024-07-04T01:28:02.150Z"
   },
   {
    "duration": 14,
    "start_time": "2024-07-04T01:28:08.598Z"
   },
   {
    "duration": 37,
    "start_time": "2024-07-04T01:28:45.803Z"
   },
   {
    "duration": 36,
    "start_time": "2024-07-04T01:28:50.472Z"
   },
   {
    "duration": 18,
    "start_time": "2024-07-04T01:29:16.064Z"
   },
   {
    "duration": 22,
    "start_time": "2024-07-04T01:29:52.855Z"
   },
   {
    "duration": 18,
    "start_time": "2024-07-04T01:30:30.600Z"
   },
   {
    "duration": 14,
    "start_time": "2024-07-04T01:31:09.455Z"
   },
   {
    "duration": 23,
    "start_time": "2024-07-04T01:32:42.476Z"
   },
   {
    "duration": 19,
    "start_time": "2024-07-04T01:33:30.683Z"
   },
   {
    "duration": 16,
    "start_time": "2024-07-04T01:39:41.464Z"
   },
   {
    "duration": 32,
    "start_time": "2024-07-04T01:42:20.749Z"
   },
   {
    "duration": 14,
    "start_time": "2024-07-04T01:42:30.107Z"
   },
   {
    "duration": 17,
    "start_time": "2024-07-04T01:42:57.169Z"
   },
   {
    "duration": 18,
    "start_time": "2024-07-04T01:43:02.990Z"
   },
   {
    "duration": 36,
    "start_time": "2024-07-04T01:48:00.602Z"
   },
   {
    "duration": 15,
    "start_time": "2024-07-04T01:48:08.748Z"
   },
   {
    "duration": 14,
    "start_time": "2024-07-04T01:49:12.413Z"
   },
   {
    "duration": 17,
    "start_time": "2024-07-04T01:49:17.407Z"
   },
   {
    "duration": 33,
    "start_time": "2024-07-04T01:53:21.434Z"
   },
   {
    "duration": 39,
    "start_time": "2024-07-04T01:54:36.800Z"
   },
   {
    "duration": 16,
    "start_time": "2024-07-04T01:57:05.766Z"
   },
   {
    "duration": 14,
    "start_time": "2024-07-04T01:57:23.123Z"
   },
   {
    "duration": 35,
    "start_time": "2024-07-04T01:57:42.034Z"
   },
   {
    "duration": 39,
    "start_time": "2024-07-04T01:59:55.107Z"
   },
   {
    "duration": 40,
    "start_time": "2024-07-04T02:01:58.490Z"
   },
   {
    "duration": 33,
    "start_time": "2024-07-04T02:02:18.264Z"
   },
   {
    "duration": 20,
    "start_time": "2024-07-04T02:11:46.361Z"
   },
   {
    "duration": 17,
    "start_time": "2024-07-04T02:14:03.367Z"
   },
   {
    "duration": 14,
    "start_time": "2024-07-04T02:24:05.303Z"
   },
   {
    "duration": 19,
    "start_time": "2024-07-04T02:24:22.418Z"
   },
   {
    "duration": 21,
    "start_time": "2024-07-04T02:26:13.793Z"
   },
   {
    "duration": 21,
    "start_time": "2024-07-04T02:26:26.200Z"
   },
   {
    "duration": 16,
    "start_time": "2024-07-04T02:29:04.713Z"
   },
   {
    "duration": 20,
    "start_time": "2024-07-04T02:30:04.344Z"
   },
   {
    "duration": 31,
    "start_time": "2024-07-04T02:30:36.867Z"
   },
   {
    "duration": 45,
    "start_time": "2024-07-04T02:35:01.629Z"
   },
   {
    "duration": 51,
    "start_time": "2024-07-04T02:35:10.708Z"
   },
   {
    "duration": 49,
    "start_time": "2024-07-04T02:37:45.735Z"
   },
   {
    "duration": 49,
    "start_time": "2024-07-04T02:38:12.919Z"
   },
   {
    "duration": 35,
    "start_time": "2024-07-04T02:39:35.365Z"
   },
   {
    "duration": 34,
    "start_time": "2024-07-04T02:40:18.660Z"
   },
   {
    "duration": 23,
    "start_time": "2024-07-04T02:42:56.274Z"
   },
   {
    "duration": 39,
    "start_time": "2024-07-04T02:43:27.791Z"
   },
   {
    "duration": 20,
    "start_time": "2024-07-04T02:43:31.728Z"
   },
   {
    "duration": 18,
    "start_time": "2024-07-04T02:43:39.684Z"
   },
   {
    "duration": 3542,
    "start_time": "2024-07-04T02:50:02.207Z"
   },
   {
    "duration": 3692,
    "start_time": "2024-07-04T02:50:29.411Z"
   },
   {
    "duration": 15,
    "start_time": "2024-07-04T02:51:09.088Z"
   },
   {
    "duration": 14,
    "start_time": "2024-07-04T02:51:19.252Z"
   },
   {
    "duration": 4996,
    "start_time": "2024-07-04T02:53:20.477Z"
   },
   {
    "duration": 14,
    "start_time": "2024-07-04T02:53:40.483Z"
   },
   {
    "duration": 12,
    "start_time": "2024-07-04T02:53:53.947Z"
   },
   {
    "duration": 12,
    "start_time": "2024-07-04T02:54:14.047Z"
   },
   {
    "duration": 17,
    "start_time": "2024-07-04T02:54:21.565Z"
   },
   {
    "duration": 13,
    "start_time": "2024-07-04T02:55:36.001Z"
   },
   {
    "duration": 14,
    "start_time": "2024-07-04T02:59:21.869Z"
   },
   {
    "duration": 18,
    "start_time": "2024-07-04T03:00:59.537Z"
   },
   {
    "duration": 1302,
    "start_time": "2024-07-04T03:01:25.255Z"
   },
   {
    "duration": 41,
    "start_time": "2024-07-04T03:01:26.561Z"
   },
   {
    "duration": 47,
    "start_time": "2024-07-04T03:01:26.606Z"
   },
   {
    "duration": 15,
    "start_time": "2024-07-04T03:01:26.656Z"
   },
   {
    "duration": 9,
    "start_time": "2024-07-04T03:01:26.676Z"
   },
   {
    "duration": 23,
    "start_time": "2024-07-04T03:01:26.723Z"
   },
   {
    "duration": 16,
    "start_time": "2024-07-04T03:01:26.749Z"
   },
   {
    "duration": 59,
    "start_time": "2024-07-04T03:01:26.770Z"
   },
   {
    "duration": 12,
    "start_time": "2024-07-04T03:01:26.833Z"
   },
   {
    "duration": 13,
    "start_time": "2024-07-04T03:01:26.849Z"
   },
   {
    "duration": 4781,
    "start_time": "2024-07-04T03:01:26.865Z"
   },
   {
    "duration": 15,
    "start_time": "2024-07-04T03:01:31.650Z"
   },
   {
    "duration": 19,
    "start_time": "2024-07-04T03:01:31.668Z"
   },
   {
    "duration": 50,
    "start_time": "2024-07-04T03:01:31.692Z"
   },
   {
    "duration": 18,
    "start_time": "2024-07-04T03:02:29.122Z"
   },
   {
    "duration": 6,
    "start_time": "2024-07-04T03:11:50.054Z"
   },
   {
    "duration": 8,
    "start_time": "2024-07-04T03:14:59.493Z"
   },
   {
    "duration": 25,
    "start_time": "2024-07-04T03:16:15.032Z"
   },
   {
    "duration": 11,
    "start_time": "2024-07-04T03:17:06.188Z"
   },
   {
    "duration": 15,
    "start_time": "2024-07-04T03:17:56.884Z"
   },
   {
    "duration": 19,
    "start_time": "2024-07-04T03:20:01.739Z"
   },
   {
    "duration": 13,
    "start_time": "2024-07-04T03:20:42.458Z"
   },
   {
    "duration": 8,
    "start_time": "2024-07-04T03:31:19.587Z"
   },
   {
    "duration": 12,
    "start_time": "2024-07-04T03:31:21.133Z"
   },
   {
    "duration": 8,
    "start_time": "2024-07-04T03:31:24.775Z"
   },
   {
    "duration": 5,
    "start_time": "2024-07-04T03:31:29.014Z"
   },
   {
    "duration": 12,
    "start_time": "2024-07-04T03:31:30.842Z"
   },
   {
    "duration": 11,
    "start_time": "2024-07-04T03:31:46.001Z"
   },
   {
    "duration": 4,
    "start_time": "2024-07-04T03:32:10.243Z"
   },
   {
    "duration": 12,
    "start_time": "2024-07-04T03:32:10.845Z"
   },
   {
    "duration": 3,
    "start_time": "2024-07-04T03:33:06.521Z"
   },
   {
    "duration": 30,
    "start_time": "2024-07-04T03:33:14.115Z"
   },
   {
    "duration": 17,
    "start_time": "2024-07-04T03:33:16.528Z"
   },
   {
    "duration": 9,
    "start_time": "2024-07-04T03:34:40.336Z"
   },
   {
    "duration": 10,
    "start_time": "2024-07-04T03:34:55.412Z"
   },
   {
    "duration": 12,
    "start_time": "2024-07-04T03:35:20.064Z"
   },
   {
    "duration": 12,
    "start_time": "2024-07-04T03:35:27.562Z"
   },
   {
    "duration": 5,
    "start_time": "2024-07-04T03:35:45.382Z"
   },
   {
    "duration": 40,
    "start_time": "2024-07-04T03:35:45.392Z"
   },
   {
    "duration": 37,
    "start_time": "2024-07-04T03:35:45.436Z"
   },
   {
    "duration": 15,
    "start_time": "2024-07-04T03:35:45.477Z"
   },
   {
    "duration": 13,
    "start_time": "2024-07-04T03:35:45.527Z"
   },
   {
    "duration": 31,
    "start_time": "2024-07-04T03:35:45.544Z"
   },
   {
    "duration": 54,
    "start_time": "2024-07-04T03:35:45.579Z"
   },
   {
    "duration": 13,
    "start_time": "2024-07-04T03:35:45.636Z"
   },
   {
    "duration": 14,
    "start_time": "2024-07-04T03:35:45.654Z"
   },
   {
    "duration": 53,
    "start_time": "2024-07-04T03:35:45.672Z"
   },
   {
    "duration": 11,
    "start_time": "2024-07-04T03:35:45.728Z"
   },
   {
    "duration": 11,
    "start_time": "2024-07-04T03:35:45.743Z"
   },
   {
    "duration": 14,
    "start_time": "2024-07-04T03:35:45.758Z"
   },
   {
    "duration": 53,
    "start_time": "2024-07-04T03:35:45.778Z"
   },
   {
    "duration": 21,
    "start_time": "2024-07-04T03:35:45.834Z"
   },
   {
    "duration": 5051,
    "start_time": "2024-07-04T03:35:45.859Z"
   },
   {
    "duration": 22,
    "start_time": "2024-07-04T03:35:50.913Z"
   },
   {
    "duration": 16,
    "start_time": "2024-07-04T03:35:50.939Z"
   },
   {
    "duration": 11,
    "start_time": "2024-07-04T03:35:50.959Z"
   },
   {
    "duration": 12,
    "start_time": "2024-07-04T03:36:19.723Z"
   },
   {
    "duration": 16,
    "start_time": "2024-07-04T03:42:32.761Z"
   },
   {
    "duration": 15,
    "start_time": "2024-07-04T03:44:25.156Z"
   },
   {
    "duration": 496,
    "start_time": "2024-07-04T03:47:37.312Z"
   },
   {
    "duration": 8,
    "start_time": "2024-07-04T03:47:44.702Z"
   },
   {
    "duration": 8,
    "start_time": "2024-07-04T03:47:52.188Z"
   },
   {
    "duration": 9,
    "start_time": "2024-07-04T03:48:02.263Z"
   },
   {
    "duration": 8,
    "start_time": "2024-07-04T03:48:07.341Z"
   },
   {
    "duration": 7,
    "start_time": "2024-07-04T03:48:12.866Z"
   },
   {
    "duration": 6,
    "start_time": "2024-07-04T03:48:17.550Z"
   },
   {
    "duration": 6,
    "start_time": "2024-07-04T03:48:23.918Z"
   },
   {
    "duration": 6,
    "start_time": "2024-07-04T03:48:29.449Z"
   },
   {
    "duration": 7,
    "start_time": "2024-07-04T03:48:34.740Z"
   },
   {
    "duration": 7,
    "start_time": "2024-07-04T03:48:39.450Z"
   },
   {
    "duration": 9,
    "start_time": "2024-07-04T03:48:43.663Z"
   },
   {
    "duration": 12,
    "start_time": "2024-07-04T03:50:11.473Z"
   },
   {
    "duration": 13,
    "start_time": "2024-07-04T03:51:09.451Z"
   },
   {
    "duration": 15,
    "start_time": "2024-07-04T03:53:17.468Z"
   },
   {
    "duration": 1536,
    "start_time": "2024-07-04T03:56:18.293Z"
   },
   {
    "duration": 731,
    "start_time": "2024-07-04T03:58:44.618Z"
   },
   {
    "duration": 22,
    "start_time": "2024-07-04T03:59:31.699Z"
   },
   {
    "duration": 10,
    "start_time": "2024-07-04T04:00:07.583Z"
   },
   {
    "duration": 26,
    "start_time": "2024-07-04T04:00:13.470Z"
   },
   {
    "duration": 134,
    "start_time": "2024-07-04T04:00:51.716Z"
   },
   {
    "duration": 4978,
    "start_time": "2024-07-05T23:48:16.469Z"
   },
   {
    "duration": 13,
    "start_time": "2024-07-05T23:49:07.825Z"
   },
   {
    "duration": 10,
    "start_time": "2024-07-05T23:49:22.140Z"
   },
   {
    "duration": 1233,
    "start_time": "2024-07-08T23:10:38.721Z"
   },
   {
    "duration": 38,
    "start_time": "2024-07-08T23:10:39.958Z"
   },
   {
    "duration": 41,
    "start_time": "2024-07-08T23:10:39.998Z"
   },
   {
    "duration": 14,
    "start_time": "2024-07-08T23:10:40.044Z"
   },
   {
    "duration": 9,
    "start_time": "2024-07-08T23:10:40.061Z"
   },
   {
    "duration": 54,
    "start_time": "2024-07-08T23:10:40.072Z"
   },
   {
    "duration": 15,
    "start_time": "2024-07-08T23:10:40.130Z"
   },
   {
    "duration": 12,
    "start_time": "2024-07-08T23:10:40.149Z"
   },
   {
    "duration": 45,
    "start_time": "2024-07-08T23:10:40.164Z"
   },
   {
    "duration": 12,
    "start_time": "2024-07-08T23:10:40.217Z"
   },
   {
    "duration": 10,
    "start_time": "2024-07-08T23:10:40.232Z"
   },
   {
    "duration": 7,
    "start_time": "2024-07-08T23:10:40.245Z"
   },
   {
    "duration": 53,
    "start_time": "2024-07-08T23:10:40.255Z"
   },
   {
    "duration": 13,
    "start_time": "2024-07-08T23:10:40.311Z"
   },
   {
    "duration": 15,
    "start_time": "2024-07-08T23:10:40.328Z"
   },
   {
    "duration": 4612,
    "start_time": "2024-07-08T23:10:40.346Z"
   },
   {
    "duration": 12,
    "start_time": "2024-07-08T23:10:44.961Z"
   },
   {
    "duration": 38,
    "start_time": "2024-07-08T23:10:44.976Z"
   },
   {
    "duration": 9,
    "start_time": "2024-07-08T23:10:45.020Z"
   },
   {
    "duration": 12,
    "start_time": "2024-07-08T23:10:45.032Z"
   },
   {
    "duration": 12,
    "start_time": "2024-07-08T23:10:45.047Z"
   },
   {
    "duration": 1614,
    "start_time": "2024-07-08T23:10:45.062Z"
   },
   {
    "duration": 0,
    "start_time": "2024-07-08T23:10:46.678Z"
   },
   {
    "duration": 0,
    "start_time": "2024-07-08T23:10:46.681Z"
   },
   {
    "duration": 22,
    "start_time": "2024-07-08T23:11:34.049Z"
   },
   {
    "duration": 30,
    "start_time": "2024-07-08T23:11:40.188Z"
   },
   {
    "duration": 28,
    "start_time": "2024-07-08T23:13:03.389Z"
   },
   {
    "duration": 11,
    "start_time": "2024-07-08T23:13:28.790Z"
   },
   {
    "duration": 20,
    "start_time": "2024-07-08T23:33:09.907Z"
   },
   {
    "duration": 178,
    "start_time": "2024-07-08T23:38:44.415Z"
   },
   {
    "duration": 33,
    "start_time": "2024-07-08T23:39:01.084Z"
   },
   {
    "duration": 36,
    "start_time": "2024-07-08T23:39:44.070Z"
   },
   {
    "duration": 13,
    "start_time": "2024-07-08T23:40:10.203Z"
   },
   {
    "duration": 11,
    "start_time": "2024-07-08T23:45:21.283Z"
   },
   {
    "duration": 33,
    "start_time": "2024-07-08T23:46:35.121Z"
   },
   {
    "duration": 26,
    "start_time": "2024-07-08T23:47:41.515Z"
   },
   {
    "duration": 11,
    "start_time": "2024-07-08T23:51:40.405Z"
   },
   {
    "duration": 12,
    "start_time": "2024-07-08T23:52:13.023Z"
   },
   {
    "duration": 15,
    "start_time": "2024-07-08T23:52:27.692Z"
   },
   {
    "duration": 12,
    "start_time": "2024-07-08T23:52:37.266Z"
   },
   {
    "duration": 12,
    "start_time": "2024-07-08T23:53:08.137Z"
   },
   {
    "duration": 24,
    "start_time": "2024-07-08T23:53:51.301Z"
   },
   {
    "duration": 10,
    "start_time": "2024-07-08T23:54:43.717Z"
   },
   {
    "duration": 12,
    "start_time": "2024-07-08T23:54:49.202Z"
   },
   {
    "duration": 12,
    "start_time": "2024-07-08T23:55:16.086Z"
   },
   {
    "duration": 43,
    "start_time": "2024-07-08T23:59:11.721Z"
   },
   {
    "duration": 36,
    "start_time": "2024-07-09T00:01:35.913Z"
   },
   {
    "duration": 48,
    "start_time": "2024-07-09T00:01:42.511Z"
   },
   {
    "duration": 55,
    "start_time": "2024-07-09T00:06:38.034Z"
   },
   {
    "duration": 59,
    "start_time": "2024-07-09T00:10:30.800Z"
   },
   {
    "duration": 30,
    "start_time": "2024-07-09T00:23:49.247Z"
   },
   {
    "duration": 4955,
    "start_time": "2024-07-09T22:08:05.179Z"
   },
   {
    "duration": 54,
    "start_time": "2024-07-09T22:08:10.138Z"
   },
   {
    "duration": 33,
    "start_time": "2024-07-09T22:08:10.195Z"
   },
   {
    "duration": 16,
    "start_time": "2024-07-09T22:08:10.231Z"
   },
   {
    "duration": 9,
    "start_time": "2024-07-09T22:08:10.252Z"
   },
   {
    "duration": 21,
    "start_time": "2024-07-09T22:08:10.292Z"
   },
   {
    "duration": 15,
    "start_time": "2024-07-09T22:08:10.317Z"
   },
   {
    "duration": 11,
    "start_time": "2024-07-09T22:08:10.336Z"
   },
   {
    "duration": 9,
    "start_time": "2024-07-09T22:08:10.392Z"
   },
   {
    "duration": 12,
    "start_time": "2024-07-09T22:08:10.405Z"
   },
   {
    "duration": 10,
    "start_time": "2024-07-09T22:08:10.421Z"
   },
   {
    "duration": 7,
    "start_time": "2024-07-09T22:08:10.434Z"
   },
   {
    "duration": 53,
    "start_time": "2024-07-09T22:08:10.444Z"
   },
   {
    "duration": 14,
    "start_time": "2024-07-09T22:08:10.503Z"
   },
   {
    "duration": 15,
    "start_time": "2024-07-09T22:08:10.521Z"
   },
   {
    "duration": 4760,
    "start_time": "2024-07-09T22:08:10.539Z"
   },
   {
    "duration": 13,
    "start_time": "2024-07-09T22:08:15.303Z"
   },
   {
    "duration": 13,
    "start_time": "2024-07-09T22:08:15.319Z"
   },
   {
    "duration": 10,
    "start_time": "2024-07-09T22:08:15.335Z"
   },
   {
    "duration": 12,
    "start_time": "2024-07-09T22:08:15.390Z"
   },
   {
    "duration": 11,
    "start_time": "2024-07-09T22:08:15.405Z"
   },
   {
    "duration": 19,
    "start_time": "2024-07-09T22:08:15.420Z"
   },
   {
    "duration": 65,
    "start_time": "2024-07-09T22:08:15.443Z"
   },
   {
    "duration": 11,
    "start_time": "2024-07-09T22:08:15.511Z"
   },
   {
    "duration": 18,
    "start_time": "2024-07-09T22:08:15.525Z"
   },
   {
    "duration": 53,
    "start_time": "2024-07-09T22:08:15.547Z"
   },
   {
    "duration": 13,
    "start_time": "2024-07-09T22:08:15.603Z"
   },
   {
    "duration": 95,
    "start_time": "2024-07-09T22:08:15.620Z"
   },
   {
    "duration": 10,
    "start_time": "2024-07-09T22:08:15.718Z"
   },
   {
    "duration": 14,
    "start_time": "2024-07-09T22:23:16.990Z"
   },
   {
    "duration": 8,
    "start_time": "2024-07-09T22:36:07.890Z"
   },
   {
    "duration": 8,
    "start_time": "2024-07-09T22:54:02.774Z"
   },
   {
    "duration": 7,
    "start_time": "2024-07-09T22:54:13.249Z"
   },
   {
    "duration": 9,
    "start_time": "2024-07-09T22:55:22.993Z"
   },
   {
    "duration": 7,
    "start_time": "2024-07-09T22:56:01.723Z"
   },
   {
    "duration": 18,
    "start_time": "2024-07-09T22:57:48.230Z"
   },
   {
    "duration": 1005,
    "start_time": "2024-07-09T23:24:19.166Z"
   },
   {
    "duration": 10,
    "start_time": "2024-07-09T23:24:40.882Z"
   },
   {
    "duration": 15,
    "start_time": "2024-07-09T23:25:36.478Z"
   },
   {
    "duration": 19,
    "start_time": "2024-07-09T23:25:53.383Z"
   },
   {
    "duration": 684,
    "start_time": "2024-07-09T23:34:36.968Z"
   },
   {
    "duration": 599,
    "start_time": "2024-07-09T23:36:56.321Z"
   },
   {
    "duration": 6,
    "start_time": "2024-07-09T23:44:50.521Z"
   },
   {
    "duration": 15,
    "start_time": "2024-07-09T23:45:31.220Z"
   },
   {
    "duration": 491,
    "start_time": "2024-07-09T23:45:39.127Z"
   },
   {
    "duration": 17,
    "start_time": "2024-07-09T23:56:16.038Z"
   },
   {
    "duration": 16,
    "start_time": "2024-07-09T23:56:53.840Z"
   },
   {
    "duration": 20,
    "start_time": "2024-07-09T23:57:32.097Z"
   },
   {
    "duration": 20,
    "start_time": "2024-07-09T23:58:31.880Z"
   },
   {
    "duration": 10,
    "start_time": "2024-07-10T00:01:31.983Z"
   },
   {
    "duration": 20,
    "start_time": "2024-07-10T00:01:50.765Z"
   },
   {
    "duration": 16,
    "start_time": "2024-07-10T00:03:19.218Z"
   },
   {
    "duration": 16,
    "start_time": "2024-07-10T00:05:27.302Z"
   },
   {
    "duration": 1209,
    "start_time": "2024-07-10T00:06:13.144Z"
   },
   {
    "duration": 51,
    "start_time": "2024-07-10T00:06:14.357Z"
   },
   {
    "duration": 40,
    "start_time": "2024-07-10T00:06:14.411Z"
   },
   {
    "duration": 36,
    "start_time": "2024-07-10T00:06:14.455Z"
   },
   {
    "duration": 9,
    "start_time": "2024-07-10T00:06:14.493Z"
   },
   {
    "duration": 21,
    "start_time": "2024-07-10T00:06:14.505Z"
   },
   {
    "duration": 15,
    "start_time": "2024-07-10T00:06:14.529Z"
   },
   {
    "duration": 12,
    "start_time": "2024-07-10T00:06:14.590Z"
   },
   {
    "duration": 9,
    "start_time": "2024-07-10T00:06:14.607Z"
   },
   {
    "duration": 11,
    "start_time": "2024-07-10T00:06:14.624Z"
   },
   {
    "duration": 11,
    "start_time": "2024-07-10T00:06:14.638Z"
   },
   {
    "duration": 7,
    "start_time": "2024-07-10T00:06:14.692Z"
   },
   {
    "duration": 8,
    "start_time": "2024-07-10T00:06:14.702Z"
   },
   {
    "duration": 12,
    "start_time": "2024-07-10T00:06:14.714Z"
   },
   {
    "duration": 64,
    "start_time": "2024-07-10T00:06:14.730Z"
   },
   {
    "duration": 4592,
    "start_time": "2024-07-10T00:06:14.798Z"
   },
   {
    "duration": 14,
    "start_time": "2024-07-10T00:06:19.393Z"
   },
   {
    "duration": 13,
    "start_time": "2024-07-10T00:06:19.411Z"
   },
   {
    "duration": 9,
    "start_time": "2024-07-10T00:06:19.428Z"
   },
   {
    "duration": 55,
    "start_time": "2024-07-10T00:06:19.443Z"
   },
   {
    "duration": 13,
    "start_time": "2024-07-10T00:06:19.501Z"
   },
   {
    "duration": 20,
    "start_time": "2024-07-10T00:06:19.518Z"
   },
   {
    "duration": 60,
    "start_time": "2024-07-10T00:06:19.541Z"
   },
   {
    "duration": 11,
    "start_time": "2024-07-10T00:06:19.605Z"
   },
   {
    "duration": 17,
    "start_time": "2024-07-10T00:06:19.619Z"
   },
   {
    "duration": 56,
    "start_time": "2024-07-10T00:06:19.639Z"
   },
   {
    "duration": 18,
    "start_time": "2024-07-10T00:06:19.699Z"
   },
   {
    "duration": 95,
    "start_time": "2024-07-10T00:06:19.724Z"
   },
   {
    "duration": 7,
    "start_time": "2024-07-10T00:06:19.822Z"
   },
   {
    "duration": 18,
    "start_time": "2024-07-10T00:06:19.834Z"
   },
   {
    "duration": 477,
    "start_time": "2024-07-10T00:06:19.856Z"
   },
   {
    "duration": 3,
    "start_time": "2024-07-10T00:06:20.337Z"
   },
   {
    "duration": 9,
    "start_time": "2024-07-10T00:07:47.819Z"
   },
   {
    "duration": 13,
    "start_time": "2024-07-10T00:14:19.424Z"
   },
   {
    "duration": 10,
    "start_time": "2024-07-10T00:14:31.149Z"
   },
   {
    "duration": 15,
    "start_time": "2024-07-10T00:15:37.116Z"
   },
   {
    "duration": 11,
    "start_time": "2024-07-10T00:16:40.014Z"
   },
   {
    "duration": 7,
    "start_time": "2024-07-10T00:29:57.481Z"
   },
   {
    "duration": 341,
    "start_time": "2024-07-10T00:30:12.720Z"
   },
   {
    "duration": 301,
    "start_time": "2024-07-10T00:31:22.502Z"
   },
   {
    "duration": 261,
    "start_time": "2024-07-10T00:32:29.155Z"
   },
   {
    "duration": 260,
    "start_time": "2024-07-10T00:36:57.708Z"
   },
   {
    "duration": 106,
    "start_time": "2024-07-10T00:44:30.694Z"
   },
   {
    "duration": 9,
    "start_time": "2024-07-10T00:45:40.895Z"
   },
   {
    "duration": 224,
    "start_time": "2024-07-10T00:50:27.910Z"
   },
   {
    "duration": 222,
    "start_time": "2024-07-10T00:50:50.139Z"
   },
   {
    "duration": 6,
    "start_time": "2024-07-10T00:52:39.967Z"
   },
   {
    "duration": 196,
    "start_time": "2024-07-10T00:55:07.710Z"
   },
   {
    "duration": 402,
    "start_time": "2024-07-10T00:57:51.447Z"
   },
   {
    "duration": 404,
    "start_time": "2024-07-10T01:00:15.225Z"
   },
   {
    "duration": 500,
    "start_time": "2024-07-10T01:00:43.430Z"
   },
   {
    "duration": 411,
    "start_time": "2024-07-10T01:03:01.168Z"
   },
   {
    "duration": 409,
    "start_time": "2024-07-10T01:03:17.505Z"
   },
   {
    "duration": 989,
    "start_time": "2024-07-10T01:07:48.132Z"
   },
   {
    "duration": 389,
    "start_time": "2024-07-10T01:08:00.128Z"
   },
   {
    "duration": 407,
    "start_time": "2024-07-10T01:08:31.810Z"
   },
   {
    "duration": 405,
    "start_time": "2024-07-10T01:10:40.860Z"
   },
   {
    "duration": 433,
    "start_time": "2024-07-10T01:11:45.635Z"
   },
   {
    "duration": 537,
    "start_time": "2024-07-10T01:12:00.431Z"
   },
   {
    "duration": 389,
    "start_time": "2024-07-10T01:13:16.838Z"
   },
   {
    "duration": 390,
    "start_time": "2024-07-10T01:13:50.362Z"
   },
   {
    "duration": 27,
    "start_time": "2024-07-10T01:15:06.913Z"
   },
   {
    "duration": 427,
    "start_time": "2024-07-10T01:15:32.506Z"
   },
   {
    "duration": 402,
    "start_time": "2024-07-10T01:17:09.295Z"
   },
   {
    "duration": 418,
    "start_time": "2024-07-10T01:19:03.714Z"
   },
   {
    "duration": 397,
    "start_time": "2024-07-10T01:19:57.031Z"
   },
   {
    "duration": 413,
    "start_time": "2024-07-10T01:20:37.396Z"
   },
   {
    "duration": 556,
    "start_time": "2024-07-10T01:21:05.796Z"
   },
   {
    "duration": 196,
    "start_time": "2024-07-10T01:28:17.910Z"
   },
   {
    "duration": 61,
    "start_time": "2024-07-10T01:33:03.007Z"
   },
   {
    "duration": 194,
    "start_time": "2024-07-10T01:36:35.213Z"
   },
   {
    "duration": 1239,
    "start_time": "2024-07-10T01:37:01.688Z"
   },
   {
    "duration": 191,
    "start_time": "2024-07-10T01:37:15.908Z"
   },
   {
    "duration": 223,
    "start_time": "2024-07-10T01:38:24.675Z"
   },
   {
    "duration": 239,
    "start_time": "2024-07-10T01:38:28.264Z"
   },
   {
    "duration": 195,
    "start_time": "2024-07-10T01:40:35.843Z"
   },
   {
    "duration": 229,
    "start_time": "2024-07-10T01:41:33.231Z"
   },
   {
    "duration": 7440,
    "start_time": "2024-07-10T01:51:31.431Z"
   },
   {
    "duration": 11,
    "start_time": "2024-07-10T01:52:50.186Z"
   },
   {
    "duration": 16,
    "start_time": "2024-07-10T01:53:51.532Z"
   },
   {
    "duration": 16,
    "start_time": "2024-07-10T01:54:01.762Z"
   },
   {
    "duration": 19,
    "start_time": "2024-07-10T01:54:30.394Z"
   },
   {
    "duration": 21,
    "start_time": "2024-07-10T01:54:55.940Z"
   },
   {
    "duration": 13,
    "start_time": "2024-07-10T01:55:58.085Z"
   },
   {
    "duration": 31,
    "start_time": "2024-07-10T01:56:14.389Z"
   },
   {
    "duration": 20,
    "start_time": "2024-07-10T01:56:19.795Z"
   },
   {
    "duration": 12,
    "start_time": "2024-07-10T01:57:46.868Z"
   },
   {
    "duration": 19,
    "start_time": "2024-07-10T01:58:29.823Z"
   },
   {
    "duration": 12,
    "start_time": "2024-07-10T01:58:58.713Z"
   },
   {
    "duration": 1699,
    "start_time": "2024-07-10T02:01:45.084Z"
   },
   {
    "duration": 20,
    "start_time": "2024-07-10T02:07:01.987Z"
   },
   {
    "duration": 20,
    "start_time": "2024-07-10T02:07:18.436Z"
   },
   {
    "duration": 20,
    "start_time": "2024-07-10T02:07:29.996Z"
   },
   {
    "duration": 38,
    "start_time": "2024-07-10T02:07:45.782Z"
   },
   {
    "duration": 13,
    "start_time": "2024-07-10T02:11:25.752Z"
   },
   {
    "duration": 10,
    "start_time": "2024-07-10T02:11:52.977Z"
   },
   {
    "duration": 20,
    "start_time": "2024-07-10T02:12:03.392Z"
   },
   {
    "duration": 18,
    "start_time": "2024-07-10T02:15:15.748Z"
   },
   {
    "duration": 20,
    "start_time": "2024-07-10T02:16:06.342Z"
   },
   {
    "duration": 23,
    "start_time": "2024-07-10T02:16:28.405Z"
   },
   {
    "duration": 8,
    "start_time": "2024-07-10T02:17:17.635Z"
   },
   {
    "duration": 388,
    "start_time": "2024-07-10T02:17:28.304Z"
   },
   {
    "duration": 284,
    "start_time": "2024-07-10T02:18:43.842Z"
   },
   {
    "duration": 10,
    "start_time": "2024-07-10T02:29:46.226Z"
   },
   {
    "duration": 17,
    "start_time": "2024-07-10T02:31:25.182Z"
   },
   {
    "duration": 4,
    "start_time": "2024-07-10T02:31:35.286Z"
   },
   {
    "duration": 37,
    "start_time": "2024-07-10T02:31:35.294Z"
   },
   {
    "duration": 75,
    "start_time": "2024-07-10T02:31:35.334Z"
   },
   {
    "duration": 12,
    "start_time": "2024-07-10T02:31:35.412Z"
   },
   {
    "duration": 9,
    "start_time": "2024-07-10T02:31:35.429Z"
   },
   {
    "duration": 55,
    "start_time": "2024-07-10T02:31:35.443Z"
   },
   {
    "duration": 15,
    "start_time": "2024-07-10T02:31:35.501Z"
   },
   {
    "duration": 13,
    "start_time": "2024-07-10T02:31:35.520Z"
   },
   {
    "duration": 9,
    "start_time": "2024-07-10T02:31:35.537Z"
   },
   {
    "duration": 12,
    "start_time": "2024-07-10T02:31:35.591Z"
   },
   {
    "duration": 9,
    "start_time": "2024-07-10T02:31:35.607Z"
   },
   {
    "duration": 6,
    "start_time": "2024-07-10T02:31:35.620Z"
   },
   {
    "duration": 8,
    "start_time": "2024-07-10T02:31:35.629Z"
   },
   {
    "duration": 53,
    "start_time": "2024-07-10T02:31:35.646Z"
   },
   {
    "duration": 14,
    "start_time": "2024-07-10T02:31:35.702Z"
   },
   {
    "duration": 4720,
    "start_time": "2024-07-10T02:31:35.719Z"
   },
   {
    "duration": 14,
    "start_time": "2024-07-10T02:31:40.444Z"
   },
   {
    "duration": 36,
    "start_time": "2024-07-10T02:31:40.462Z"
   },
   {
    "duration": 10,
    "start_time": "2024-07-10T02:31:40.502Z"
   },
   {
    "duration": 13,
    "start_time": "2024-07-10T02:31:40.515Z"
   },
   {
    "duration": 13,
    "start_time": "2024-07-10T02:31:40.530Z"
   },
   {
    "duration": 19,
    "start_time": "2024-07-10T02:31:40.590Z"
   },
   {
    "duration": 25,
    "start_time": "2024-07-10T02:31:40.612Z"
   },
   {
    "duration": 12,
    "start_time": "2024-07-10T02:31:40.640Z"
   },
   {
    "duration": 19,
    "start_time": "2024-07-10T02:31:40.690Z"
   },
   {
    "duration": 17,
    "start_time": "2024-07-10T02:31:40.713Z"
   },
   {
    "duration": 58,
    "start_time": "2024-07-10T02:31:40.733Z"
   },
   {
    "duration": 61,
    "start_time": "2024-07-10T02:31:40.795Z"
   },
   {
    "duration": 30,
    "start_time": "2024-07-10T02:31:40.859Z"
   },
   {
    "duration": 18,
    "start_time": "2024-07-10T02:31:40.893Z"
   },
   {
    "duration": 444,
    "start_time": "2024-07-10T02:31:40.914Z"
   },
   {
    "duration": 32,
    "start_time": "2024-07-10T02:31:41.361Z"
   },
   {
    "duration": 237,
    "start_time": "2024-07-10T02:31:41.397Z"
   },
   {
    "duration": 241,
    "start_time": "2024-07-10T02:31:41.637Z"
   },
   {
    "duration": 360,
    "start_time": "2024-07-10T02:31:41.882Z"
   },
   {
    "duration": 11,
    "start_time": "2024-07-10T02:31:42.245Z"
   },
   {
    "duration": 733,
    "start_time": "2024-07-10T02:31:42.259Z"
   },
   {
    "duration": 9,
    "start_time": "2024-07-10T02:34:48.982Z"
   },
   {
    "duration": 9,
    "start_time": "2024-07-10T02:34:58.521Z"
   },
   {
    "duration": 9,
    "start_time": "2024-07-10T02:35:07.803Z"
   },
   {
    "duration": 9,
    "start_time": "2024-07-10T02:47:24.438Z"
   },
   {
    "duration": 279,
    "start_time": "2024-07-10T02:47:30.452Z"
   },
   {
    "duration": 25,
    "start_time": "2024-07-10T02:54:35.732Z"
   },
   {
    "duration": 24,
    "start_time": "2024-07-10T02:55:08.103Z"
   },
   {
    "duration": 1373,
    "start_time": "2024-07-10T02:55:19.805Z"
   },
   {
    "duration": 46,
    "start_time": "2024-07-10T02:55:21.182Z"
   },
   {
    "duration": 34,
    "start_time": "2024-07-10T02:55:21.230Z"
   },
   {
    "duration": 34,
    "start_time": "2024-07-10T02:55:21.267Z"
   },
   {
    "duration": 9,
    "start_time": "2024-07-10T02:55:21.307Z"
   },
   {
    "duration": 23,
    "start_time": "2024-07-10T02:55:21.320Z"
   },
   {
    "duration": 51,
    "start_time": "2024-07-10T02:55:21.346Z"
   },
   {
    "duration": 13,
    "start_time": "2024-07-10T02:55:21.401Z"
   },
   {
    "duration": 12,
    "start_time": "2024-07-10T02:55:21.418Z"
   },
   {
    "duration": 58,
    "start_time": "2024-07-10T02:55:21.434Z"
   },
   {
    "duration": 11,
    "start_time": "2024-07-10T02:55:21.496Z"
   },
   {
    "duration": 8,
    "start_time": "2024-07-10T02:55:21.512Z"
   },
   {
    "duration": 12,
    "start_time": "2024-07-10T02:55:21.524Z"
   },
   {
    "duration": 54,
    "start_time": "2024-07-10T02:55:21.545Z"
   },
   {
    "duration": 17,
    "start_time": "2024-07-10T02:55:21.603Z"
   },
   {
    "duration": 4733,
    "start_time": "2024-07-10T02:55:21.626Z"
   },
   {
    "duration": 12,
    "start_time": "2024-07-10T02:55:26.362Z"
   },
   {
    "duration": 14,
    "start_time": "2024-07-10T02:55:26.392Z"
   },
   {
    "duration": 13,
    "start_time": "2024-07-10T02:55:26.409Z"
   },
   {
    "duration": 13,
    "start_time": "2024-07-10T02:55:26.425Z"
   },
   {
    "duration": 52,
    "start_time": "2024-07-10T02:55:26.441Z"
   },
   {
    "duration": 19,
    "start_time": "2024-07-10T02:55:26.496Z"
   },
   {
    "duration": 24,
    "start_time": "2024-07-10T02:55:26.518Z"
   },
   {
    "duration": 46,
    "start_time": "2024-07-10T02:55:26.546Z"
   },
   {
    "duration": 17,
    "start_time": "2024-07-10T02:55:26.595Z"
   },
   {
    "duration": 16,
    "start_time": "2024-07-10T02:55:26.616Z"
   },
   {
    "duration": 62,
    "start_time": "2024-07-10T02:55:26.636Z"
   },
   {
    "duration": 64,
    "start_time": "2024-07-10T02:55:26.700Z"
   },
   {
    "duration": 7,
    "start_time": "2024-07-10T02:55:26.790Z"
   },
   {
    "duration": 21,
    "start_time": "2024-07-10T02:55:26.800Z"
   },
   {
    "duration": 499,
    "start_time": "2024-07-10T02:55:26.824Z"
   },
   {
    "duration": 22,
    "start_time": "2024-07-10T02:55:27.326Z"
   },
   {
    "duration": 317,
    "start_time": "2024-07-10T02:55:27.353Z"
   },
   {
    "duration": 254,
    "start_time": "2024-07-10T02:55:27.673Z"
   },
   {
    "duration": 382,
    "start_time": "2024-07-10T02:55:27.931Z"
   },
   {
    "duration": 16,
    "start_time": "2024-07-10T02:55:28.317Z"
   },
   {
    "duration": 315,
    "start_time": "2024-07-10T02:55:28.337Z"
   },
   {
    "duration": 1055,
    "start_time": "2024-07-10T03:01:00.189Z"
   },
   {
    "duration": 12,
    "start_time": "2024-07-10T03:01:13.729Z"
   },
   {
    "duration": 14,
    "start_time": "2024-07-10T03:01:32.786Z"
   },
   {
    "duration": 12,
    "start_time": "2024-07-10T03:01:54.529Z"
   },
   {
    "duration": 8,
    "start_time": "2024-07-10T03:02:24.843Z"
   },
   {
    "duration": 17,
    "start_time": "2024-07-10T03:05:30.946Z"
   },
   {
    "duration": 20,
    "start_time": "2024-07-10T03:06:35.204Z"
   },
   {
    "duration": 21,
    "start_time": "2024-07-10T03:06:56.001Z"
   },
   {
    "duration": 23,
    "start_time": "2024-07-10T03:07:06.432Z"
   },
   {
    "duration": 9,
    "start_time": "2024-07-10T03:07:21.587Z"
   },
   {
    "duration": 17,
    "start_time": "2024-07-10T03:08:40.324Z"
   },
   {
    "duration": 14,
    "start_time": "2024-07-10T03:10:31.560Z"
   },
   {
    "duration": 16,
    "start_time": "2024-07-10T03:11:58.156Z"
   },
   {
    "duration": 16,
    "start_time": "2024-07-10T03:14:05.935Z"
   },
   {
    "duration": 17,
    "start_time": "2024-07-10T03:14:30.575Z"
   },
   {
    "duration": 17,
    "start_time": "2024-07-10T03:14:49.671Z"
   },
   {
    "duration": 18,
    "start_time": "2024-07-10T03:15:03.328Z"
   },
   {
    "duration": 25,
    "start_time": "2024-07-10T03:16:37.445Z"
   },
   {
    "duration": 12,
    "start_time": "2024-07-10T03:16:44.173Z"
   },
   {
    "duration": 19,
    "start_time": "2024-07-10T03:17:23.083Z"
   },
   {
    "duration": 15,
    "start_time": "2024-07-10T03:17:58.663Z"
   },
   {
    "duration": 16,
    "start_time": "2024-07-10T03:18:01.700Z"
   },
   {
    "duration": 18,
    "start_time": "2024-07-10T03:22:41.881Z"
   },
   {
    "duration": 18,
    "start_time": "2024-07-10T03:23:00.855Z"
   },
   {
    "duration": 17,
    "start_time": "2024-07-10T03:23:21.300Z"
   },
   {
    "duration": 12,
    "start_time": "2024-07-10T03:23:25.889Z"
   },
   {
    "duration": 15,
    "start_time": "2024-07-10T03:24:38.998Z"
   },
   {
    "duration": 14,
    "start_time": "2024-07-10T03:25:33.093Z"
   },
   {
    "duration": 12,
    "start_time": "2024-07-10T03:26:22.942Z"
   },
   {
    "duration": 12,
    "start_time": "2024-07-10T03:27:22.154Z"
   },
   {
    "duration": 5214,
    "start_time": "2024-07-10T22:22:03.599Z"
   },
   {
    "duration": 69,
    "start_time": "2024-07-10T22:22:08.822Z"
   },
   {
    "duration": 44,
    "start_time": "2024-07-10T22:22:08.895Z"
   },
   {
    "duration": 17,
    "start_time": "2024-07-10T22:22:08.941Z"
   },
   {
    "duration": 10,
    "start_time": "2024-07-10T22:22:08.962Z"
   },
   {
    "duration": 57,
    "start_time": "2024-07-10T22:22:08.974Z"
   },
   {
    "duration": 19,
    "start_time": "2024-07-10T22:22:09.034Z"
   },
   {
    "duration": 16,
    "start_time": "2024-07-10T22:22:09.056Z"
   },
   {
    "duration": 50,
    "start_time": "2024-07-10T22:22:09.075Z"
   },
   {
    "duration": 12,
    "start_time": "2024-07-10T22:22:09.129Z"
   },
   {
    "duration": 11,
    "start_time": "2024-07-10T22:22:09.144Z"
   },
   {
    "duration": 8,
    "start_time": "2024-07-10T22:22:09.158Z"
   },
   {
    "duration": 55,
    "start_time": "2024-07-10T22:22:09.168Z"
   },
   {
    "duration": 15,
    "start_time": "2024-07-10T22:22:09.232Z"
   },
   {
    "duration": 17,
    "start_time": "2024-07-10T22:22:09.250Z"
   },
   {
    "duration": 4760,
    "start_time": "2024-07-10T22:22:09.270Z"
   },
   {
    "duration": 20,
    "start_time": "2024-07-10T22:22:14.033Z"
   },
   {
    "duration": 14,
    "start_time": "2024-07-10T22:22:14.060Z"
   },
   {
    "duration": 13,
    "start_time": "2024-07-10T22:22:14.078Z"
   },
   {
    "duration": 15,
    "start_time": "2024-07-10T22:22:14.124Z"
   },
   {
    "duration": 14,
    "start_time": "2024-07-10T22:22:14.143Z"
   },
   {
    "duration": 22,
    "start_time": "2024-07-10T22:22:14.160Z"
   },
   {
    "duration": 25,
    "start_time": "2024-07-10T22:22:14.224Z"
   },
   {
    "duration": 10,
    "start_time": "2024-07-10T22:22:14.252Z"
   },
   {
    "duration": 57,
    "start_time": "2024-07-10T22:22:14.265Z"
   },
   {
    "duration": 16,
    "start_time": "2024-07-10T22:22:14.324Z"
   },
   {
    "duration": 20,
    "start_time": "2024-07-10T22:22:14.344Z"
   },
   {
    "duration": 106,
    "start_time": "2024-07-10T22:22:14.367Z"
   },
   {
    "duration": 7,
    "start_time": "2024-07-10T22:22:14.476Z"
   },
   {
    "duration": 44,
    "start_time": "2024-07-10T22:22:14.488Z"
   },
   {
    "duration": 489,
    "start_time": "2024-07-10T22:22:14.536Z"
   },
   {
    "duration": 22,
    "start_time": "2024-07-10T22:22:15.029Z"
   },
   {
    "duration": 246,
    "start_time": "2024-07-10T22:22:15.055Z"
   },
   {
    "duration": 248,
    "start_time": "2024-07-10T22:22:15.304Z"
   },
   {
    "duration": 341,
    "start_time": "2024-07-10T22:22:15.555Z"
   },
   {
    "duration": 13,
    "start_time": "2024-07-10T22:22:15.899Z"
   },
   {
    "duration": 345,
    "start_time": "2024-07-10T22:22:15.915Z"
   },
   {
    "duration": 18,
    "start_time": "2024-07-10T22:22:16.264Z"
   },
   {
    "duration": 43,
    "start_time": "2024-07-10T22:22:16.287Z"
   },
   {
    "duration": 19,
    "start_time": "2024-07-10T22:22:16.333Z"
   },
   {
    "duration": 14,
    "start_time": "2024-07-10T22:22:16.363Z"
   },
   {
    "duration": 13,
    "start_time": "2024-07-10T22:22:16.381Z"
   },
   {
    "duration": 12,
    "start_time": "2024-07-10T22:22:16.425Z"
   },
   {
    "duration": 14,
    "start_time": "2024-07-10T22:22:16.442Z"
   },
   {
    "duration": 11,
    "start_time": "2024-07-10T22:22:16.463Z"
   },
   {
    "duration": 10,
    "start_time": "2024-07-10T22:24:51.659Z"
   },
   {
    "duration": 791,
    "start_time": "2024-07-10T22:25:20.496Z"
   },
   {
    "duration": 26,
    "start_time": "2024-07-10T22:25:31.555Z"
   },
   {
    "duration": 5,
    "start_time": "2024-07-10T22:25:47.648Z"
   },
   {
    "duration": 38,
    "start_time": "2024-07-10T22:25:47.657Z"
   },
   {
    "duration": 43,
    "start_time": "2024-07-10T22:25:47.698Z"
   },
   {
    "duration": 14,
    "start_time": "2024-07-10T22:25:47.745Z"
   },
   {
    "duration": 10,
    "start_time": "2024-07-10T22:25:47.763Z"
   },
   {
    "duration": 58,
    "start_time": "2024-07-10T22:25:47.777Z"
   },
   {
    "duration": 15,
    "start_time": "2024-07-10T22:25:47.838Z"
   },
   {
    "duration": 16,
    "start_time": "2024-07-10T22:25:47.856Z"
   },
   {
    "duration": 9,
    "start_time": "2024-07-10T22:25:47.876Z"
   },
   {
    "duration": 43,
    "start_time": "2024-07-10T22:25:47.888Z"
   },
   {
    "duration": 11,
    "start_time": "2024-07-10T22:25:47.934Z"
   },
   {
    "duration": 6,
    "start_time": "2024-07-10T22:25:47.948Z"
   },
   {
    "duration": 9,
    "start_time": "2024-07-10T22:25:47.957Z"
   },
   {
    "duration": 13,
    "start_time": "2024-07-10T22:25:48.025Z"
   },
   {
    "duration": 13,
    "start_time": "2024-07-10T22:25:48.041Z"
   },
   {
    "duration": 4681,
    "start_time": "2024-07-10T22:25:48.058Z"
   },
   {
    "duration": 18,
    "start_time": "2024-07-10T22:25:52.742Z"
   },
   {
    "duration": 14,
    "start_time": "2024-07-10T22:25:52.764Z"
   },
   {
    "duration": 37,
    "start_time": "2024-07-10T22:25:52.785Z"
   },
   {
    "duration": 12,
    "start_time": "2024-07-10T22:25:52.825Z"
   },
   {
    "duration": 13,
    "start_time": "2024-07-10T22:25:52.840Z"
   },
   {
    "duration": 19,
    "start_time": "2024-07-10T22:25:52.856Z"
   },
   {
    "duration": 65,
    "start_time": "2024-07-10T22:25:52.878Z"
   },
   {
    "duration": 10,
    "start_time": "2024-07-10T22:25:52.946Z"
   },
   {
    "duration": 15,
    "start_time": "2024-07-10T22:25:52.960Z"
   },
   {
    "duration": 51,
    "start_time": "2024-07-10T22:25:52.978Z"
   },
   {
    "duration": 15,
    "start_time": "2024-07-10T22:25:53.032Z"
   },
   {
    "duration": 89,
    "start_time": "2024-07-10T22:25:53.050Z"
   },
   {
    "duration": 7,
    "start_time": "2024-07-10T22:25:53.142Z"
   },
   {
    "duration": 28,
    "start_time": "2024-07-10T22:25:53.152Z"
   },
   {
    "duration": 441,
    "start_time": "2024-07-10T22:25:53.183Z"
   },
   {
    "duration": 19,
    "start_time": "2024-07-10T22:25:53.628Z"
   },
   {
    "duration": 245,
    "start_time": "2024-07-10T22:25:53.650Z"
   },
   {
    "duration": 249,
    "start_time": "2024-07-10T22:25:53.898Z"
   },
   {
    "duration": 330,
    "start_time": "2024-07-10T22:25:54.150Z"
   },
   {
    "duration": 13,
    "start_time": "2024-07-10T22:25:54.485Z"
   },
   {
    "duration": 268,
    "start_time": "2024-07-10T22:25:54.522Z"
   },
   {
    "duration": 30,
    "start_time": "2024-07-10T22:25:54.795Z"
   },
   {
    "duration": 16,
    "start_time": "2024-07-10T22:25:54.828Z"
   },
   {
    "duration": 15,
    "start_time": "2024-07-10T22:25:54.850Z"
   },
   {
    "duration": 9,
    "start_time": "2024-07-10T22:25:54.875Z"
   },
   {
    "duration": 47,
    "start_time": "2024-07-10T22:25:54.887Z"
   },
   {
    "duration": 12,
    "start_time": "2024-07-10T22:25:54.939Z"
   },
   {
    "duration": 14,
    "start_time": "2024-07-10T22:25:54.954Z"
   },
   {
    "duration": 52,
    "start_time": "2024-07-10T22:25:54.971Z"
   },
   {
    "duration": 278,
    "start_time": "2024-07-10T22:27:43.075Z"
   },
   {
    "duration": 13,
    "start_time": "2024-07-10T22:40:55.330Z"
   },
   {
    "duration": 1032,
    "start_time": "2024-07-10T22:50:11.210Z"
   },
   {
    "duration": 197,
    "start_time": "2024-07-10T22:50:26.117Z"
   },
   {
    "duration": 11,
    "start_time": "2024-07-10T22:51:59.586Z"
   },
   {
    "duration": 11,
    "start_time": "2024-07-10T22:52:12.135Z"
   },
   {
    "duration": 14,
    "start_time": "2024-07-10T22:52:17.025Z"
   },
   {
    "duration": 11,
    "start_time": "2024-07-10T22:53:06.524Z"
   },
   {
    "duration": 15,
    "start_time": "2024-07-10T22:53:26.784Z"
   },
   {
    "duration": 15,
    "start_time": "2024-07-10T22:55:41.607Z"
   },
   {
    "duration": 14,
    "start_time": "2024-07-10T22:56:44.692Z"
   },
   {
    "duration": 15,
    "start_time": "2024-07-10T22:56:49.960Z"
   },
   {
    "duration": 15,
    "start_time": "2024-07-10T22:56:58.107Z"
   },
   {
    "duration": 14,
    "start_time": "2024-07-10T22:57:02.992Z"
   },
   {
    "duration": 16,
    "start_time": "2024-07-10T22:57:46.136Z"
   },
   {
    "duration": 16,
    "start_time": "2024-07-10T22:57:52.695Z"
   },
   {
    "duration": 15,
    "start_time": "2024-07-10T23:02:09.323Z"
   },
   {
    "duration": 10,
    "start_time": "2024-07-10T23:19:26.029Z"
   },
   {
    "duration": 8,
    "start_time": "2024-07-10T23:20:41.163Z"
   },
   {
    "duration": 365,
    "start_time": "2024-07-11T01:01:45.013Z"
   },
   {
    "duration": 5565,
    "start_time": "2024-07-11T01:02:04.704Z"
   },
   {
    "duration": 56,
    "start_time": "2024-07-11T01:02:10.273Z"
   },
   {
    "duration": 39,
    "start_time": "2024-07-11T01:02:10.332Z"
   },
   {
    "duration": 36,
    "start_time": "2024-07-11T01:02:10.374Z"
   },
   {
    "duration": 9,
    "start_time": "2024-07-11T01:02:10.414Z"
   },
   {
    "duration": 21,
    "start_time": "2024-07-11T01:02:10.426Z"
   },
   {
    "duration": 18,
    "start_time": "2024-07-11T01:02:10.451Z"
   },
   {
    "duration": 14,
    "start_time": "2024-07-11T01:02:10.510Z"
   },
   {
    "duration": 10,
    "start_time": "2024-07-11T01:02:10.528Z"
   },
   {
    "duration": 14,
    "start_time": "2024-07-11T01:02:10.542Z"
   },
   {
    "duration": 51,
    "start_time": "2024-07-11T01:02:10.559Z"
   },
   {
    "duration": 7,
    "start_time": "2024-07-11T01:02:10.613Z"
   },
   {
    "duration": 11,
    "start_time": "2024-07-11T01:02:10.624Z"
   },
   {
    "duration": 13,
    "start_time": "2024-07-11T01:02:10.644Z"
   },
   {
    "duration": 55,
    "start_time": "2024-07-11T01:02:10.660Z"
   },
   {
    "duration": 4896,
    "start_time": "2024-07-11T01:02:10.719Z"
   },
   {
    "duration": 16,
    "start_time": "2024-07-11T01:02:15.618Z"
   },
   {
    "duration": 18,
    "start_time": "2024-07-11T01:02:15.637Z"
   },
   {
    "duration": 11,
    "start_time": "2024-07-11T01:02:15.659Z"
   },
   {
    "duration": 42,
    "start_time": "2024-07-11T01:02:15.672Z"
   },
   {
    "duration": 16,
    "start_time": "2024-07-11T01:02:15.718Z"
   },
   {
    "duration": 20,
    "start_time": "2024-07-11T01:02:15.737Z"
   },
   {
    "duration": 68,
    "start_time": "2024-07-11T01:02:15.760Z"
   },
   {
    "duration": 11,
    "start_time": "2024-07-11T01:02:15.832Z"
   },
   {
    "duration": 19,
    "start_time": "2024-07-11T01:02:15.848Z"
   },
   {
    "duration": 49,
    "start_time": "2024-07-11T01:02:15.870Z"
   },
   {
    "duration": 21,
    "start_time": "2024-07-11T01:02:15.922Z"
   },
   {
    "duration": 87,
    "start_time": "2024-07-11T01:02:15.947Z"
   },
   {
    "duration": 8,
    "start_time": "2024-07-11T01:02:16.037Z"
   },
   {
    "duration": 28,
    "start_time": "2024-07-11T01:02:16.048Z"
   },
   {
    "duration": 443,
    "start_time": "2024-07-11T01:02:16.110Z"
   },
   {
    "duration": 21,
    "start_time": "2024-07-11T01:02:16.557Z"
   },
   {
    "duration": 263,
    "start_time": "2024-07-11T01:02:16.582Z"
   },
   {
    "duration": 269,
    "start_time": "2024-07-11T01:02:16.849Z"
   },
   {
    "duration": 341,
    "start_time": "2024-07-11T01:02:17.121Z"
   },
   {
    "duration": 14,
    "start_time": "2024-07-11T01:02:17.465Z"
   },
   {
    "duration": 308,
    "start_time": "2024-07-11T01:02:17.482Z"
   },
   {
    "duration": 24,
    "start_time": "2024-07-11T01:02:17.794Z"
   },
   {
    "duration": 19,
    "start_time": "2024-07-11T01:02:17.823Z"
   },
   {
    "duration": 22,
    "start_time": "2024-07-11T01:02:17.848Z"
   },
   {
    "duration": 27,
    "start_time": "2024-07-11T01:02:17.908Z"
   },
   {
    "duration": 22,
    "start_time": "2024-07-11T01:02:17.938Z"
   },
   {
    "duration": 20,
    "start_time": "2024-07-11T01:02:17.964Z"
   },
   {
    "duration": 26,
    "start_time": "2024-07-11T01:02:17.989Z"
   },
   {
    "duration": 18,
    "start_time": "2024-07-11T01:02:18.019Z"
   },
   {
    "duration": 10,
    "start_time": "2024-07-11T01:02:18.041Z"
   },
   {
    "duration": 10,
    "start_time": "2024-07-11T01:02:18.054Z"
   },
   {
    "duration": 10,
    "start_time": "2024-07-11T01:02:52.388Z"
   },
   {
    "duration": 10,
    "start_time": "2024-07-11T01:04:15.748Z"
   },
   {
    "duration": 12,
    "start_time": "2024-07-11T01:05:40.886Z"
   },
   {
    "duration": 15,
    "start_time": "2024-07-11T01:06:15.391Z"
   },
   {
    "duration": 1540,
    "start_time": "2024-07-11T01:15:45.130Z"
   },
   {
    "duration": 79,
    "start_time": "2024-07-11T01:16:37.744Z"
   },
   {
    "duration": 32,
    "start_time": "2024-07-11T01:16:47.555Z"
   },
   {
    "duration": 14,
    "start_time": "2024-07-11T01:17:53.843Z"
   },
   {
    "duration": 96,
    "start_time": "2024-07-11T01:18:19.313Z"
   },
   {
    "duration": 77,
    "start_time": "2024-07-11T01:18:29.110Z"
   },
   {
    "duration": 101,
    "start_time": "2024-07-11T01:18:39.692Z"
   },
   {
    "duration": 13,
    "start_time": "2024-07-11T01:19:09.194Z"
   },
   {
    "duration": 101,
    "start_time": "2024-07-11T01:19:37.642Z"
   },
   {
    "duration": 15,
    "start_time": "2024-07-11T01:19:56.750Z"
   },
   {
    "duration": 18,
    "start_time": "2024-07-11T01:21:50.737Z"
   },
   {
    "duration": 80,
    "start_time": "2024-07-11T01:22:47.912Z"
   },
   {
    "duration": 17,
    "start_time": "2024-07-11T01:23:38.991Z"
   },
   {
    "duration": 8,
    "start_time": "2024-07-11T01:37:37.596Z"
   },
   {
    "duration": 141,
    "start_time": "2024-07-11T01:38:40.790Z"
   },
   {
    "duration": 6,
    "start_time": "2024-07-11T01:38:52.128Z"
   },
   {
    "duration": 7,
    "start_time": "2024-07-11T01:39:02.446Z"
   },
   {
    "duration": 8,
    "start_time": "2024-07-11T01:40:20.897Z"
   },
   {
    "duration": 16,
    "start_time": "2024-07-11T01:40:41.767Z"
   },
   {
    "duration": 19,
    "start_time": "2024-07-11T01:41:32.088Z"
   },
   {
    "duration": 10,
    "start_time": "2024-07-11T01:42:49.052Z"
   },
   {
    "duration": 8,
    "start_time": "2024-07-11T01:43:21.614Z"
   },
   {
    "duration": 29,
    "start_time": "2024-07-11T01:44:37.332Z"
   },
   {
    "duration": 26,
    "start_time": "2024-07-11T01:45:29.552Z"
   },
   {
    "duration": 23,
    "start_time": "2024-07-11T01:45:48.054Z"
   },
   {
    "duration": 19,
    "start_time": "2024-07-11T01:46:54.516Z"
   },
   {
    "duration": 10,
    "start_time": "2024-07-11T01:47:09.355Z"
   },
   {
    "duration": 28,
    "start_time": "2024-07-11T01:47:19.205Z"
   },
   {
    "duration": 13,
    "start_time": "2024-07-11T01:48:16.021Z"
   },
   {
    "duration": 9,
    "start_time": "2024-07-11T01:59:20.157Z"
   },
   {
    "duration": 9,
    "start_time": "2024-07-11T01:59:57.230Z"
   },
   {
    "duration": 17,
    "start_time": "2024-07-11T02:00:28.712Z"
   },
   {
    "duration": 7,
    "start_time": "2024-07-11T02:02:26.076Z"
   },
   {
    "duration": 6,
    "start_time": "2024-07-11T02:03:37.040Z"
   },
   {
    "duration": 7,
    "start_time": "2024-07-11T02:04:16.096Z"
   },
   {
    "duration": 8,
    "start_time": "2024-07-11T02:04:32.941Z"
   },
   {
    "duration": 6,
    "start_time": "2024-07-11T02:04:56.993Z"
   },
   {
    "duration": 15,
    "start_time": "2024-07-11T02:05:05.300Z"
   },
   {
    "duration": 7,
    "start_time": "2024-07-11T02:05:09.098Z"
   },
   {
    "duration": 6,
    "start_time": "2024-07-11T02:05:32.215Z"
   },
   {
    "duration": 6,
    "start_time": "2024-07-11T02:06:12.235Z"
   },
   {
    "duration": 6,
    "start_time": "2024-07-11T02:06:17.457Z"
   },
   {
    "duration": 6,
    "start_time": "2024-07-11T02:06:20.969Z"
   },
   {
    "duration": 16,
    "start_time": "2024-07-11T02:08:56.313Z"
   },
   {
    "duration": 15,
    "start_time": "2024-07-11T02:09:17.421Z"
   },
   {
    "duration": 317,
    "start_time": "2024-07-11T02:10:42.338Z"
   },
   {
    "duration": 16,
    "start_time": "2024-07-11T02:11:17.946Z"
   },
   {
    "duration": 7,
    "start_time": "2024-07-11T02:11:29.122Z"
   },
   {
    "duration": 7,
    "start_time": "2024-07-11T02:11:50.020Z"
   },
   {
    "duration": 5,
    "start_time": "2024-07-11T02:12:59.270Z"
   },
   {
    "duration": 6,
    "start_time": "2024-07-11T02:13:21.243Z"
   },
   {
    "duration": 6,
    "start_time": "2024-07-11T02:13:47.989Z"
   },
   {
    "duration": 6,
    "start_time": "2024-07-11T02:21:53.873Z"
   },
   {
    "duration": 8,
    "start_time": "2024-07-11T02:22:19.613Z"
   },
   {
    "duration": 17,
    "start_time": "2024-07-11T02:25:06.799Z"
   },
   {
    "duration": 5,
    "start_time": "2024-07-11T02:25:48.266Z"
   },
   {
    "duration": 7,
    "start_time": "2024-07-11T02:26:13.660Z"
   },
   {
    "duration": 8,
    "start_time": "2024-07-11T02:29:23.024Z"
   },
   {
    "duration": 7,
    "start_time": "2024-07-11T02:29:29.892Z"
   },
   {
    "duration": 1242,
    "start_time": "2024-07-11T02:53:28.067Z"
   },
   {
    "duration": 40,
    "start_time": "2024-07-11T02:53:29.313Z"
   },
   {
    "duration": 53,
    "start_time": "2024-07-11T02:53:29.356Z"
   },
   {
    "duration": 15,
    "start_time": "2024-07-11T02:53:29.411Z"
   },
   {
    "duration": 9,
    "start_time": "2024-07-11T02:53:29.432Z"
   },
   {
    "duration": 21,
    "start_time": "2024-07-11T02:53:29.444Z"
   },
   {
    "duration": 14,
    "start_time": "2024-07-11T02:53:29.509Z"
   },
   {
    "duration": 12,
    "start_time": "2024-07-11T02:53:29.527Z"
   },
   {
    "duration": 9,
    "start_time": "2024-07-11T02:53:29.542Z"
   },
   {
    "duration": 13,
    "start_time": "2024-07-11T02:53:29.555Z"
   },
   {
    "duration": 10,
    "start_time": "2024-07-11T02:53:29.610Z"
   },
   {
    "duration": 6,
    "start_time": "2024-07-11T02:53:29.624Z"
   },
   {
    "duration": 10,
    "start_time": "2024-07-11T02:53:29.633Z"
   },
   {
    "duration": 58,
    "start_time": "2024-07-11T02:53:29.651Z"
   },
   {
    "duration": 18,
    "start_time": "2024-07-11T02:53:29.711Z"
   },
   {
    "duration": 4617,
    "start_time": "2024-07-11T02:53:29.734Z"
   },
   {
    "duration": 13,
    "start_time": "2024-07-11T02:53:34.355Z"
   },
   {
    "duration": 38,
    "start_time": "2024-07-11T02:53:34.371Z"
   },
   {
    "duration": 10,
    "start_time": "2024-07-11T02:53:34.412Z"
   },
   {
    "duration": 14,
    "start_time": "2024-07-11T02:53:34.425Z"
   },
   {
    "duration": 12,
    "start_time": "2024-07-11T02:53:34.442Z"
   },
   {
    "duration": 56,
    "start_time": "2024-07-11T02:53:34.457Z"
   },
   {
    "duration": 25,
    "start_time": "2024-07-11T02:53:34.516Z"
   },
   {
    "duration": 13,
    "start_time": "2024-07-11T02:53:34.545Z"
   },
   {
    "duration": 64,
    "start_time": "2024-07-11T02:53:34.562Z"
   },
   {
    "duration": 16,
    "start_time": "2024-07-11T02:53:34.629Z"
   },
   {
    "duration": 15,
    "start_time": "2024-07-11T02:53:34.649Z"
   },
   {
    "duration": 118,
    "start_time": "2024-07-11T02:53:34.666Z"
   },
   {
    "duration": 23,
    "start_time": "2024-07-11T02:53:34.787Z"
   },
   {
    "duration": 27,
    "start_time": "2024-07-11T02:53:34.814Z"
   },
   {
    "duration": 447,
    "start_time": "2024-07-11T02:53:34.844Z"
   },
   {
    "duration": 31,
    "start_time": "2024-07-11T02:53:35.294Z"
   },
   {
    "duration": 314,
    "start_time": "2024-07-11T02:53:35.329Z"
   },
   {
    "duration": 244,
    "start_time": "2024-07-11T02:53:35.646Z"
   },
   {
    "duration": 325,
    "start_time": "2024-07-11T02:53:35.893Z"
   },
   {
    "duration": 13,
    "start_time": "2024-07-11T02:53:36.221Z"
   },
   {
    "duration": 285,
    "start_time": "2024-07-11T02:53:36.237Z"
   },
   {
    "duration": 18,
    "start_time": "2024-07-11T02:53:36.526Z"
   },
   {
    "duration": 15,
    "start_time": "2024-07-11T02:53:36.548Z"
   },
   {
    "duration": 49,
    "start_time": "2024-07-11T02:53:36.568Z"
   },
   {
    "duration": 16,
    "start_time": "2024-07-11T02:53:36.627Z"
   },
   {
    "duration": 11,
    "start_time": "2024-07-11T02:53:36.647Z"
   },
   {
    "duration": 50,
    "start_time": "2024-07-11T02:53:36.661Z"
   },
   {
    "duration": 12,
    "start_time": "2024-07-11T02:53:36.715Z"
   },
   {
    "duration": 17,
    "start_time": "2024-07-11T02:53:36.730Z"
   },
   {
    "duration": 10,
    "start_time": "2024-07-11T02:53:36.750Z"
   },
   {
    "duration": 51,
    "start_time": "2024-07-11T02:53:36.763Z"
   },
   {
    "duration": 10,
    "start_time": "2024-07-11T02:53:36.816Z"
   },
   {
    "duration": 16,
    "start_time": "2024-07-11T02:53:36.828Z"
   },
   {
    "duration": 62,
    "start_time": "2024-07-11T02:53:36.847Z"
   },
   {
    "duration": 6,
    "start_time": "2024-07-11T02:53:36.912Z"
   },
   {
    "duration": 8,
    "start_time": "2024-07-11T02:53:36.922Z"
   },
   {
    "duration": 19,
    "start_time": "2024-07-11T02:53:36.935Z"
   },
   {
    "duration": 52,
    "start_time": "2024-07-11T02:53:36.957Z"
   },
   {
    "duration": 7,
    "start_time": "2024-07-11T02:53:37.012Z"
   },
   {
    "duration": 8,
    "start_time": "2024-07-11T03:02:58.350Z"
   },
   {
    "duration": 8,
    "start_time": "2024-07-11T03:05:15.851Z"
   },
   {
    "duration": 14,
    "start_time": "2024-07-26T21:18:43.866Z"
   },
   {
    "duration": 5,
    "start_time": "2024-07-26T21:18:59.975Z"
   },
   {
    "duration": 5,
    "start_time": "2024-07-26T21:24:49.427Z"
   },
   {
    "duration": 4897,
    "start_time": "2024-07-26T21:26:36.154Z"
   },
   {
    "duration": 59,
    "start_time": "2024-07-26T21:26:41.055Z"
   },
   {
    "duration": 31,
    "start_time": "2024-07-26T21:26:41.117Z"
   },
   {
    "duration": 14,
    "start_time": "2024-07-26T21:26:41.153Z"
   },
   {
    "duration": 42,
    "start_time": "2024-07-26T21:26:41.171Z"
   },
   {
    "duration": 20,
    "start_time": "2024-07-26T21:26:41.216Z"
   },
   {
    "duration": 16,
    "start_time": "2024-07-26T21:26:41.238Z"
   },
   {
    "duration": 11,
    "start_time": "2024-07-26T21:26:41.257Z"
   },
   {
    "duration": 46,
    "start_time": "2024-07-26T21:26:41.272Z"
   },
   {
    "duration": 13,
    "start_time": "2024-07-26T21:26:41.328Z"
   },
   {
    "duration": 10,
    "start_time": "2024-07-26T21:26:41.344Z"
   },
   {
    "duration": 53,
    "start_time": "2024-07-26T21:26:41.359Z"
   },
   {
    "duration": 9,
    "start_time": "2024-07-26T21:26:41.416Z"
   },
   {
    "duration": 13,
    "start_time": "2024-07-26T21:26:41.427Z"
   },
   {
    "duration": 15,
    "start_time": "2024-07-26T21:26:41.445Z"
   },
   {
    "duration": 4592,
    "start_time": "2024-07-26T21:26:41.463Z"
   },
   {
    "duration": 12,
    "start_time": "2024-07-26T21:26:46.058Z"
   },
   {
    "duration": 14,
    "start_time": "2024-07-26T21:26:46.073Z"
   },
   {
    "duration": 9,
    "start_time": "2024-07-26T21:26:46.112Z"
   },
   {
    "duration": 14,
    "start_time": "2024-07-26T21:26:46.124Z"
   },
   {
    "duration": 13,
    "start_time": "2024-07-26T21:26:46.141Z"
   },
   {
    "duration": 58,
    "start_time": "2024-07-26T21:26:46.157Z"
   },
   {
    "duration": 23,
    "start_time": "2024-07-26T21:26:46.219Z"
   },
   {
    "duration": 10,
    "start_time": "2024-07-26T21:26:46.245Z"
   },
   {
    "duration": 17,
    "start_time": "2024-07-26T21:26:46.258Z"
   },
   {
    "duration": 15,
    "start_time": "2024-07-26T21:26:46.314Z"
   },
   {
    "duration": 15,
    "start_time": "2024-07-26T21:26:46.332Z"
   },
   {
    "duration": 97,
    "start_time": "2024-07-26T21:26:46.355Z"
   },
   {
    "duration": 6,
    "start_time": "2024-07-26T21:26:46.455Z"
   },
   {
    "duration": 55,
    "start_time": "2024-07-26T21:26:46.465Z"
   },
   {
    "duration": 429,
    "start_time": "2024-07-26T21:26:46.523Z"
   },
   {
    "duration": 18,
    "start_time": "2024-07-26T21:26:46.955Z"
   },
   {
    "duration": 231,
    "start_time": "2024-07-26T21:26:46.976Z"
   },
   {
    "duration": 244,
    "start_time": "2024-07-26T21:26:47.213Z"
   },
   {
    "duration": 327,
    "start_time": "2024-07-26T21:26:47.461Z"
   },
   {
    "duration": 13,
    "start_time": "2024-07-26T21:26:47.812Z"
   },
   {
    "duration": 397,
    "start_time": "2024-07-26T21:26:47.828Z"
   },
   {
    "duration": 15,
    "start_time": "2024-07-26T21:26:48.228Z"
   },
   {
    "duration": 14,
    "start_time": "2024-07-26T21:26:48.246Z"
   },
   {
    "duration": 50,
    "start_time": "2024-07-26T21:26:48.263Z"
   },
   {
    "duration": 17,
    "start_time": "2024-07-26T21:26:48.316Z"
   },
   {
    "duration": 10,
    "start_time": "2024-07-26T21:26:48.336Z"
   },
   {
    "duration": 11,
    "start_time": "2024-07-26T21:26:48.350Z"
   },
   {
    "duration": 55,
    "start_time": "2024-07-26T21:26:48.364Z"
   },
   {
    "duration": 17,
    "start_time": "2024-07-26T21:26:48.421Z"
   },
   {
    "duration": 9,
    "start_time": "2024-07-26T21:26:48.441Z"
   },
   {
    "duration": 10,
    "start_time": "2024-07-26T21:26:48.454Z"
   },
   {
    "duration": 51,
    "start_time": "2024-07-26T21:26:48.467Z"
   },
   {
    "duration": 15,
    "start_time": "2024-07-26T21:26:48.521Z"
   },
   {
    "duration": 18,
    "start_time": "2024-07-26T21:26:48.539Z"
   },
   {
    "duration": 8,
    "start_time": "2024-07-26T21:26:48.560Z"
   },
   {
    "duration": 6,
    "start_time": "2024-07-26T21:26:48.614Z"
   },
   {
    "duration": 17,
    "start_time": "2024-07-26T21:26:48.624Z"
   },
   {
    "duration": 7,
    "start_time": "2024-07-26T21:26:48.644Z"
   },
   {
    "duration": 7,
    "start_time": "2024-07-26T21:26:48.654Z"
   },
   {
    "duration": 8,
    "start_time": "2024-07-26T21:28:25.383Z"
   },
   {
    "duration": 6,
    "start_time": "2024-07-26T21:40:24.949Z"
   },
   {
    "duration": 1404,
    "start_time": "2024-07-26T21:40:32.640Z"
   },
   {
    "duration": 464,
    "start_time": "2024-07-26T21:41:02.216Z"
   },
   {
    "duration": 25,
    "start_time": "2024-07-26T21:43:35.847Z"
   },
   {
    "duration": 434,
    "start_time": "2024-07-26T21:44:59.665Z"
   },
   {
    "duration": 442,
    "start_time": "2024-07-26T21:45:17.039Z"
   },
   {
    "duration": 253,
    "start_time": "2024-07-26T21:46:45.383Z"
   },
   {
    "duration": 372,
    "start_time": "2024-07-26T21:47:21.568Z"
   },
   {
    "duration": 369,
    "start_time": "2024-07-26T21:47:56.786Z"
   },
   {
    "duration": 82,
    "start_time": "2024-07-26T21:56:25.105Z"
   },
   {
    "duration": 17,
    "start_time": "2024-07-26T21:57:10.633Z"
   },
   {
    "duration": 14,
    "start_time": "2024-07-26T21:57:40.051Z"
   },
   {
    "duration": 16,
    "start_time": "2024-07-26T21:59:20.298Z"
   },
   {
    "duration": 76,
    "start_time": "2024-07-26T22:01:36.643Z"
   },
   {
    "duration": 19,
    "start_time": "2024-07-26T22:02:45.716Z"
   },
   {
    "duration": 24,
    "start_time": "2024-07-26T22:03:13.240Z"
   },
   {
    "duration": 20,
    "start_time": "2024-07-26T22:12:40.417Z"
   },
   {
    "duration": 14,
    "start_time": "2024-07-26T22:12:57.593Z"
   },
   {
    "duration": 16,
    "start_time": "2024-07-26T22:15:23.910Z"
   },
   {
    "duration": 17,
    "start_time": "2024-07-26T22:16:26.905Z"
   },
   {
    "duration": 19,
    "start_time": "2024-07-26T22:16:51.541Z"
   },
   {
    "duration": 18,
    "start_time": "2024-07-26T22:17:07.967Z"
   },
   {
    "duration": 18,
    "start_time": "2024-07-26T22:17:34.002Z"
   },
   {
    "duration": 19,
    "start_time": "2024-07-26T22:18:01.645Z"
   },
   {
    "duration": 20,
    "start_time": "2024-07-26T22:18:08.399Z"
   },
   {
    "duration": 19,
    "start_time": "2024-07-26T22:18:19.169Z"
   },
   {
    "duration": 22,
    "start_time": "2024-07-26T22:23:18.664Z"
   },
   {
    "duration": 19,
    "start_time": "2024-07-26T22:23:32.635Z"
   },
   {
    "duration": 6,
    "start_time": "2024-07-26T22:27:20.702Z"
   },
   {
    "duration": 50,
    "start_time": "2024-07-26T22:27:29.575Z"
   },
   {
    "duration": 1714,
    "start_time": "2024-07-26T22:28:39.830Z"
   },
   {
    "duration": 1759,
    "start_time": "2024-07-26T22:29:01.941Z"
   },
   {
    "duration": 1619,
    "start_time": "2024-07-26T22:29:37.780Z"
   },
   {
    "duration": 22,
    "start_time": "2024-07-26T22:33:16.337Z"
   },
   {
    "duration": 21,
    "start_time": "2024-07-26T22:33:26.554Z"
   },
   {
    "duration": 20,
    "start_time": "2024-07-26T22:33:40.907Z"
   },
   {
    "duration": 336,
    "start_time": "2024-07-26T22:35:07.462Z"
   },
   {
    "duration": 37,
    "start_time": "2024-07-26T22:35:18.596Z"
   },
   {
    "duration": 36,
    "start_time": "2024-07-26T22:35:45.312Z"
   },
   {
    "duration": 32,
    "start_time": "2024-07-26T22:36:40.081Z"
   },
   {
    "duration": 32,
    "start_time": "2024-07-26T22:38:08.562Z"
   },
   {
    "duration": 33,
    "start_time": "2024-07-26T22:39:10.677Z"
   },
   {
    "duration": 9,
    "start_time": "2024-07-26T22:44:05.027Z"
   },
   {
    "duration": 32,
    "start_time": "2024-07-26T22:44:11.305Z"
   },
   {
    "duration": 21,
    "start_time": "2024-07-26T22:45:21.714Z"
   },
   {
    "duration": 38,
    "start_time": "2024-07-26T22:45:57.664Z"
   },
   {
    "duration": 37,
    "start_time": "2024-07-26T22:46:38.154Z"
   },
   {
    "duration": 20,
    "start_time": "2024-07-26T22:46:44.802Z"
   },
   {
    "duration": 36,
    "start_time": "2024-07-26T22:47:01.098Z"
   },
   {
    "duration": 20,
    "start_time": "2024-07-26T22:47:08.079Z"
   },
   {
    "duration": 308,
    "start_time": "2024-07-27T15:37:22.168Z"
   },
   {
    "duration": 5051,
    "start_time": "2024-07-27T15:37:29.818Z"
   },
   {
    "duration": 59,
    "start_time": "2024-07-27T15:37:34.872Z"
   },
   {
    "duration": 33,
    "start_time": "2024-07-27T15:37:34.934Z"
   },
   {
    "duration": 14,
    "start_time": "2024-07-27T15:37:34.972Z"
   },
   {
    "duration": 9,
    "start_time": "2024-07-27T15:37:35.009Z"
   },
   {
    "duration": 24,
    "start_time": "2024-07-27T15:37:35.022Z"
   },
   {
    "duration": 15,
    "start_time": "2024-07-27T15:37:35.050Z"
   },
   {
    "duration": 50,
    "start_time": "2024-07-27T15:37:35.069Z"
   },
   {
    "duration": 10,
    "start_time": "2024-07-27T15:37:35.122Z"
   },
   {
    "duration": 12,
    "start_time": "2024-07-27T15:37:35.139Z"
   },
   {
    "duration": 9,
    "start_time": "2024-07-27T15:37:35.154Z"
   },
   {
    "duration": 48,
    "start_time": "2024-07-27T15:37:35.166Z"
   },
   {
    "duration": 7,
    "start_time": "2024-07-27T15:37:35.221Z"
   },
   {
    "duration": 13,
    "start_time": "2024-07-27T15:37:35.231Z"
   },
   {
    "duration": 13,
    "start_time": "2024-07-27T15:37:35.247Z"
   },
   {
    "duration": 4655,
    "start_time": "2024-07-27T15:37:35.263Z"
   },
   {
    "duration": 13,
    "start_time": "2024-07-27T15:37:39.921Z"
   },
   {
    "duration": 12,
    "start_time": "2024-07-27T15:37:39.937Z"
   },
   {
    "duration": 9,
    "start_time": "2024-07-27T15:37:39.952Z"
   },
   {
    "duration": 52,
    "start_time": "2024-07-27T15:37:39.964Z"
   },
   {
    "duration": 12,
    "start_time": "2024-07-27T15:37:40.019Z"
   },
   {
    "duration": 19,
    "start_time": "2024-07-27T15:37:40.033Z"
   },
   {
    "duration": 67,
    "start_time": "2024-07-27T15:37:40.055Z"
   },
   {
    "duration": 9,
    "start_time": "2024-07-27T15:37:40.126Z"
   },
   {
    "duration": 17,
    "start_time": "2024-07-27T15:37:40.139Z"
   },
   {
    "duration": 14,
    "start_time": "2024-07-27T15:37:40.159Z"
   },
   {
    "duration": 462,
    "start_time": "2024-07-27T15:37:40.209Z"
   },
   {
    "duration": 29,
    "start_time": "2024-07-27T15:37:40.679Z"
   },
   {
    "duration": 377,
    "start_time": "2024-07-27T15:37:40.711Z"
   },
   {
    "duration": 31,
    "start_time": "2024-07-27T15:37:41.090Z"
   },
   {
    "duration": 1644,
    "start_time": "2024-07-27T15:37:41.124Z"
   },
   {
    "duration": 76,
    "start_time": "2024-07-27T15:37:42.771Z"
   },
   {
    "duration": 6,
    "start_time": "2024-07-27T15:37:42.850Z"
   },
   {
    "duration": 49,
    "start_time": "2024-07-27T15:37:42.860Z"
   },
   {
    "duration": 481,
    "start_time": "2024-07-27T15:37:42.912Z"
   },
   {
    "duration": 26,
    "start_time": "2024-07-27T15:37:43.396Z"
   },
   {
    "duration": 214,
    "start_time": "2024-07-27T15:37:43.426Z"
   },
   {
    "duration": 234,
    "start_time": "2024-07-27T15:37:43.643Z"
   },
   {
    "duration": 340,
    "start_time": "2024-07-27T15:37:43.881Z"
   },
   {
    "duration": 13,
    "start_time": "2024-07-27T15:37:44.224Z"
   },
   {
    "duration": 287,
    "start_time": "2024-07-27T15:37:44.241Z"
   },
   {
    "duration": 17,
    "start_time": "2024-07-27T15:37:44.531Z"
   },
   {
    "duration": 15,
    "start_time": "2024-07-27T15:37:44.551Z"
   },
   {
    "duration": 47,
    "start_time": "2024-07-27T15:37:44.571Z"
   },
   {
    "duration": 18,
    "start_time": "2024-07-27T15:37:44.621Z"
   },
   {
    "duration": 11,
    "start_time": "2024-07-27T15:37:44.642Z"
   },
   {
    "duration": 55,
    "start_time": "2024-07-27T15:37:44.657Z"
   },
   {
    "duration": 14,
    "start_time": "2024-07-27T15:37:44.717Z"
   },
   {
    "duration": 17,
    "start_time": "2024-07-27T15:37:44.736Z"
   },
   {
    "duration": 9,
    "start_time": "2024-07-27T15:37:44.756Z"
   },
   {
    "duration": 46,
    "start_time": "2024-07-27T15:37:44.768Z"
   },
   {
    "duration": 10,
    "start_time": "2024-07-27T15:37:44.818Z"
   },
   {
    "duration": 15,
    "start_time": "2024-07-27T15:37:44.832Z"
   },
   {
    "duration": 63,
    "start_time": "2024-07-27T15:37:44.850Z"
   },
   {
    "duration": 8,
    "start_time": "2024-07-27T15:37:44.917Z"
   },
   {
    "duration": 7,
    "start_time": "2024-07-27T15:37:44.933Z"
   },
   {
    "duration": 19,
    "start_time": "2024-07-27T15:37:44.943Z"
   },
   {
    "duration": 49,
    "start_time": "2024-07-27T15:37:44.965Z"
   },
   {
    "duration": 8,
    "start_time": "2024-07-27T15:37:45.017Z"
   },
   {
    "duration": 22,
    "start_time": "2024-07-27T15:37:55.201Z"
   },
   {
    "duration": 24,
    "start_time": "2024-07-27T15:39:28.741Z"
   },
   {
    "duration": 21,
    "start_time": "2024-07-27T15:39:53.656Z"
   },
   {
    "duration": 434,
    "start_time": "2024-07-27T15:40:15.304Z"
   },
   {
    "duration": 1246,
    "start_time": "2024-07-27T15:40:27.758Z"
   },
   {
    "duration": 22,
    "start_time": "2024-07-27T15:40:48.638Z"
   },
   {
    "duration": 89,
    "start_time": "2024-07-27T15:41:13.734Z"
   },
   {
    "duration": 505,
    "start_time": "2024-07-27T15:42:19.391Z"
   },
   {
    "duration": 427,
    "start_time": "2024-07-27T15:42:36.509Z"
   },
   {
    "duration": 254,
    "start_time": "2024-07-27T15:43:40.043Z"
   },
   {
    "duration": 402,
    "start_time": "2024-07-27T15:43:51.955Z"
   },
   {
    "duration": 9,
    "start_time": "2024-07-27T15:49:08.178Z"
   },
   {
    "duration": 420,
    "start_time": "2024-07-27T15:49:13.380Z"
   },
   {
    "duration": 20,
    "start_time": "2024-07-27T15:53:32.006Z"
   },
   {
    "duration": 24,
    "start_time": "2024-07-27T15:53:43.414Z"
   },
   {
    "duration": 21,
    "start_time": "2024-07-27T15:54:12.041Z"
   },
   {
    "duration": 115,
    "start_time": "2024-07-27T15:55:31.532Z"
   },
   {
    "duration": 369,
    "start_time": "2024-07-27T15:56:10.574Z"
   },
   {
    "duration": 25,
    "start_time": "2024-07-27T15:57:19.726Z"
   },
   {
    "duration": 6,
    "start_time": "2024-07-27T16:15:56.628Z"
   },
   {
    "duration": 25,
    "start_time": "2024-07-27T16:17:13.471Z"
   },
   {
    "duration": 23,
    "start_time": "2024-07-27T16:17:19.463Z"
   },
   {
    "duration": 1271,
    "start_time": "2024-07-27T16:20:01.598Z"
   },
   {
    "duration": 47,
    "start_time": "2024-07-27T16:20:02.873Z"
   },
   {
    "duration": 32,
    "start_time": "2024-07-27T16:20:02.923Z"
   },
   {
    "duration": 14,
    "start_time": "2024-07-27T16:20:02.959Z"
   },
   {
    "duration": 35,
    "start_time": "2024-07-27T16:20:02.976Z"
   },
   {
    "duration": 22,
    "start_time": "2024-07-27T16:20:03.014Z"
   },
   {
    "duration": 17,
    "start_time": "2024-07-27T16:20:03.039Z"
   },
   {
    "duration": 53,
    "start_time": "2024-07-27T16:20:03.060Z"
   },
   {
    "duration": 11,
    "start_time": "2024-07-27T16:20:03.116Z"
   },
   {
    "duration": 13,
    "start_time": "2024-07-27T16:20:03.134Z"
   },
   {
    "duration": 8,
    "start_time": "2024-07-27T16:20:03.150Z"
   },
   {
    "duration": 49,
    "start_time": "2024-07-27T16:20:03.162Z"
   },
   {
    "duration": 9,
    "start_time": "2024-07-27T16:20:03.215Z"
   },
   {
    "duration": 15,
    "start_time": "2024-07-27T16:20:03.227Z"
   },
   {
    "duration": 16,
    "start_time": "2024-07-27T16:20:03.245Z"
   },
   {
    "duration": 4552,
    "start_time": "2024-07-27T16:20:03.310Z"
   },
   {
    "duration": 12,
    "start_time": "2024-07-27T16:20:07.865Z"
   },
   {
    "duration": 32,
    "start_time": "2024-07-27T16:20:07.881Z"
   },
   {
    "duration": 11,
    "start_time": "2024-07-27T16:20:07.916Z"
   },
   {
    "duration": 11,
    "start_time": "2024-07-27T16:20:07.930Z"
   },
   {
    "duration": 13,
    "start_time": "2024-07-27T16:20:07.944Z"
   },
   {
    "duration": 64,
    "start_time": "2024-07-27T16:20:07.960Z"
   },
   {
    "duration": 24,
    "start_time": "2024-07-27T16:20:08.026Z"
   },
   {
    "duration": 10,
    "start_time": "2024-07-27T16:20:08.054Z"
   },
   {
    "duration": 53,
    "start_time": "2024-07-27T16:20:08.068Z"
   },
   {
    "duration": 17,
    "start_time": "2024-07-27T16:20:08.124Z"
   },
   {
    "duration": 485,
    "start_time": "2024-07-27T16:20:08.143Z"
   },
   {
    "duration": 16,
    "start_time": "2024-07-27T16:20:08.638Z"
   },
   {
    "duration": 451,
    "start_time": "2024-07-27T16:20:08.659Z"
   },
   {
    "duration": 28,
    "start_time": "2024-07-27T16:20:09.113Z"
   },
   {
    "duration": 395,
    "start_time": "2024-07-27T16:20:09.144Z"
   },
   {
    "duration": 70,
    "start_time": "2024-07-27T16:20:09.543Z"
   },
   {
    "duration": 6,
    "start_time": "2024-07-27T16:20:09.617Z"
   },
   {
    "duration": 24,
    "start_time": "2024-07-27T16:20:09.626Z"
   },
   {
    "duration": 368,
    "start_time": "2024-07-27T16:20:09.653Z"
   },
   {
    "duration": 11,
    "start_time": "2024-07-27T16:20:10.024Z"
   },
   {
    "duration": 232,
    "start_time": "2024-07-27T16:20:10.038Z"
   },
   {
    "duration": 245,
    "start_time": "2024-07-27T16:20:10.273Z"
   },
   {
    "duration": 104,
    "start_time": "2024-07-27T16:20:10.521Z"
   },
   {
    "duration": 7,
    "start_time": "2024-07-27T16:20:10.627Z"
   },
   {
    "duration": 268,
    "start_time": "2024-07-27T16:20:10.636Z"
   },
   {
    "duration": 15,
    "start_time": "2024-07-27T16:20:10.906Z"
   },
   {
    "duration": 17,
    "start_time": "2024-07-27T16:20:10.924Z"
   },
   {
    "duration": 14,
    "start_time": "2024-07-27T16:20:10.943Z"
   },
   {
    "duration": 57,
    "start_time": "2024-07-27T16:20:10.960Z"
   },
   {
    "duration": 10,
    "start_time": "2024-07-27T16:20:11.021Z"
   },
   {
    "duration": 10,
    "start_time": "2024-07-27T16:20:11.034Z"
   },
   {
    "duration": 10,
    "start_time": "2024-07-27T16:20:11.048Z"
   },
   {
    "duration": 60,
    "start_time": "2024-07-27T16:20:11.061Z"
   },
   {
    "duration": 10,
    "start_time": "2024-07-27T16:20:11.124Z"
   },
   {
    "duration": 8,
    "start_time": "2024-07-27T16:20:11.137Z"
   },
   {
    "duration": 8,
    "start_time": "2024-07-27T16:20:11.147Z"
   },
   {
    "duration": 60,
    "start_time": "2024-07-27T16:20:11.159Z"
   },
   {
    "duration": 16,
    "start_time": "2024-07-27T16:20:11.222Z"
   },
   {
    "duration": 8,
    "start_time": "2024-07-27T16:20:11.240Z"
   },
   {
    "duration": 6,
    "start_time": "2024-07-27T16:20:11.251Z"
   },
   {
    "duration": 61,
    "start_time": "2024-07-27T16:20:11.260Z"
   },
   {
    "duration": 8,
    "start_time": "2024-07-27T16:20:11.324Z"
   },
   {
    "duration": 7,
    "start_time": "2024-07-27T16:20:11.336Z"
   },
   {
    "duration": 8,
    "start_time": "2024-07-27T16:26:11.365Z"
   },
   {
    "duration": 337,
    "start_time": "2024-07-27T16:26:54.994Z"
   },
   {
    "duration": 14,
    "start_time": "2024-07-27T16:39:54.626Z"
   },
   {
    "duration": 4904,
    "start_time": "2024-07-27T18:16:00.556Z"
   },
   {
    "duration": 54,
    "start_time": "2024-07-27T18:16:05.463Z"
   },
   {
    "duration": 33,
    "start_time": "2024-07-27T18:16:05.519Z"
   },
   {
    "duration": 14,
    "start_time": "2024-07-27T18:16:05.556Z"
   },
   {
    "duration": 9,
    "start_time": "2024-07-27T18:16:05.575Z"
   },
   {
    "duration": 53,
    "start_time": "2024-07-27T18:16:05.588Z"
   },
   {
    "duration": 15,
    "start_time": "2024-07-27T18:16:05.644Z"
   },
   {
    "duration": 12,
    "start_time": "2024-07-27T18:16:05.662Z"
   },
   {
    "duration": 9,
    "start_time": "2024-07-27T18:16:05.678Z"
   },
   {
    "duration": 13,
    "start_time": "2024-07-27T18:16:05.727Z"
   },
   {
    "duration": 11,
    "start_time": "2024-07-27T18:16:05.743Z"
   },
   {
    "duration": 6,
    "start_time": "2024-07-27T18:16:05.757Z"
   },
   {
    "duration": 9,
    "start_time": "2024-07-27T18:16:05.766Z"
   },
   {
    "duration": 12,
    "start_time": "2024-07-27T18:16:05.825Z"
   },
   {
    "duration": 14,
    "start_time": "2024-07-27T18:16:05.840Z"
   },
   {
    "duration": 4606,
    "start_time": "2024-07-27T18:16:05.857Z"
   },
   {
    "duration": 14,
    "start_time": "2024-07-27T18:16:10.466Z"
   },
   {
    "duration": 12,
    "start_time": "2024-07-27T18:16:10.484Z"
   },
   {
    "duration": 9,
    "start_time": "2024-07-27T18:16:10.527Z"
   },
   {
    "duration": 12,
    "start_time": "2024-07-27T18:16:10.538Z"
   },
   {
    "duration": 11,
    "start_time": "2024-07-27T18:16:10.554Z"
   },
   {
    "duration": 61,
    "start_time": "2024-07-27T18:16:10.568Z"
   },
   {
    "duration": 22,
    "start_time": "2024-07-27T18:16:10.632Z"
   },
   {
    "duration": 10,
    "start_time": "2024-07-27T18:16:10.657Z"
   },
   {
    "duration": 17,
    "start_time": "2024-07-27T18:16:10.670Z"
   },
   {
    "duration": 14,
    "start_time": "2024-07-27T18:16:10.726Z"
   },
   {
    "duration": 483,
    "start_time": "2024-07-27T18:16:10.743Z"
   },
   {
    "duration": 16,
    "start_time": "2024-07-27T18:16:11.229Z"
   },
   {
    "duration": 393,
    "start_time": "2024-07-27T18:16:11.248Z"
   },
   {
    "duration": 26,
    "start_time": "2024-07-27T18:16:11.644Z"
   },
   {
    "duration": 396,
    "start_time": "2024-07-27T18:16:11.673Z"
   },
   {
    "duration": 66,
    "start_time": "2024-07-27T18:16:12.073Z"
   },
   {
    "duration": 7,
    "start_time": "2024-07-27T18:16:12.143Z"
   },
   {
    "duration": 25,
    "start_time": "2024-07-27T18:16:12.153Z"
   },
   {
    "duration": 381,
    "start_time": "2024-07-27T18:16:12.180Z"
   },
   {
    "duration": 11,
    "start_time": "2024-07-27T18:16:12.564Z"
   },
   {
    "duration": 234,
    "start_time": "2024-07-27T18:16:12.578Z"
   },
   {
    "duration": 242,
    "start_time": "2024-07-27T18:16:12.815Z"
   },
   {
    "duration": 107,
    "start_time": "2024-07-27T18:16:13.060Z"
   },
   {
    "duration": 333,
    "start_time": "2024-07-27T18:16:13.170Z"
   },
   {
    "duration": 22,
    "start_time": "2024-07-27T18:16:13.511Z"
   },
   {
    "duration": 14,
    "start_time": "2024-07-27T18:16:13.536Z"
   },
   {
    "duration": 14,
    "start_time": "2024-07-27T18:16:13.554Z"
   },
   {
    "duration": 56,
    "start_time": "2024-07-27T18:16:13.571Z"
   },
   {
    "duration": 12,
    "start_time": "2024-07-27T18:16:13.630Z"
   },
   {
    "duration": 11,
    "start_time": "2024-07-27T18:16:13.645Z"
   },
   {
    "duration": 10,
    "start_time": "2024-07-27T18:16:13.659Z"
   },
   {
    "duration": 56,
    "start_time": "2024-07-27T18:16:13.672Z"
   },
   {
    "duration": 9,
    "start_time": "2024-07-27T18:16:13.731Z"
   },
   {
    "duration": 8,
    "start_time": "2024-07-27T18:16:13.743Z"
   },
   {
    "duration": 8,
    "start_time": "2024-07-27T18:16:13.756Z"
   },
   {
    "duration": 61,
    "start_time": "2024-07-27T18:16:13.767Z"
   },
   {
    "duration": 18,
    "start_time": "2024-07-27T18:16:13.831Z"
   },
   {
    "duration": 6,
    "start_time": "2024-07-27T18:16:13.852Z"
   },
   {
    "duration": 6,
    "start_time": "2024-07-27T18:16:13.861Z"
   },
   {
    "duration": 59,
    "start_time": "2024-07-27T18:16:13.870Z"
   },
   {
    "duration": 9,
    "start_time": "2024-07-27T18:16:13.932Z"
   },
   {
    "duration": 7,
    "start_time": "2024-07-27T18:16:13.944Z"
   },
   {
    "duration": 15,
    "start_time": "2024-07-27T18:33:19.215Z"
   },
   {
    "duration": 18,
    "start_time": "2024-07-27T18:42:11.041Z"
   },
   {
    "duration": 5,
    "start_time": "2024-07-27T18:47:02.619Z"
   },
   {
    "duration": 39,
    "start_time": "2024-07-27T18:47:02.629Z"
   },
   {
    "duration": 64,
    "start_time": "2024-07-27T18:47:02.674Z"
   },
   {
    "duration": 12,
    "start_time": "2024-07-27T18:47:02.741Z"
   },
   {
    "duration": 10,
    "start_time": "2024-07-27T18:47:02.757Z"
   },
   {
    "duration": 58,
    "start_time": "2024-07-27T18:47:02.770Z"
   },
   {
    "duration": 17,
    "start_time": "2024-07-27T18:47:02.832Z"
   },
   {
    "duration": 13,
    "start_time": "2024-07-27T18:47:02.852Z"
   },
   {
    "duration": 11,
    "start_time": "2024-07-27T18:47:02.868Z"
   },
   {
    "duration": 50,
    "start_time": "2024-07-27T18:47:02.883Z"
   },
   {
    "duration": 8,
    "start_time": "2024-07-27T18:47:02.937Z"
   },
   {
    "duration": 8,
    "start_time": "2024-07-27T18:47:02.947Z"
   },
   {
    "duration": 8,
    "start_time": "2024-07-27T18:47:02.958Z"
   },
   {
    "duration": 55,
    "start_time": "2024-07-27T18:47:02.973Z"
   },
   {
    "duration": 15,
    "start_time": "2024-07-27T18:47:03.031Z"
   },
   {
    "duration": 4604,
    "start_time": "2024-07-27T18:47:03.049Z"
   },
   {
    "duration": 13,
    "start_time": "2024-07-27T18:47:07.656Z"
   },
   {
    "duration": 13,
    "start_time": "2024-07-27T18:47:07.672Z"
   },
   {
    "duration": 42,
    "start_time": "2024-07-27T18:47:07.688Z"
   },
   {
    "duration": 13,
    "start_time": "2024-07-27T18:47:07.733Z"
   },
   {
    "duration": 12,
    "start_time": "2024-07-27T18:47:07.749Z"
   },
   {
    "duration": 63,
    "start_time": "2024-07-27T18:47:07.763Z"
   },
   {
    "duration": 26,
    "start_time": "2024-07-27T18:47:07.829Z"
   },
   {
    "duration": 10,
    "start_time": "2024-07-27T18:47:07.858Z"
   },
   {
    "duration": 15,
    "start_time": "2024-07-27T18:47:07.871Z"
   },
   {
    "duration": 16,
    "start_time": "2024-07-27T18:47:07.926Z"
   },
   {
    "duration": 469,
    "start_time": "2024-07-27T18:47:07.945Z"
   },
   {
    "duration": 23,
    "start_time": "2024-07-27T18:47:08.417Z"
   },
   {
    "duration": 398,
    "start_time": "2024-07-27T18:47:08.443Z"
   },
   {
    "duration": 26,
    "start_time": "2024-07-27T18:47:08.844Z"
   },
   {
    "duration": 395,
    "start_time": "2024-07-27T18:47:08.872Z"
   },
   {
    "duration": 83,
    "start_time": "2024-07-27T18:47:09.270Z"
   },
   {
    "duration": 8,
    "start_time": "2024-07-27T18:47:09.356Z"
   },
   {
    "duration": 28,
    "start_time": "2024-07-27T18:47:09.368Z"
   },
   {
    "duration": 366,
    "start_time": "2024-07-27T18:47:09.399Z"
   },
   {
    "duration": 11,
    "start_time": "2024-07-27T18:47:09.768Z"
   },
   {
    "duration": 242,
    "start_time": "2024-07-27T18:47:09.785Z"
   },
   {
    "duration": 251,
    "start_time": "2024-07-27T18:47:10.031Z"
   },
   {
    "duration": 102,
    "start_time": "2024-07-27T18:47:10.286Z"
   },
   {
    "duration": 260,
    "start_time": "2024-07-27T18:47:10.391Z"
   },
   {
    "duration": 13,
    "start_time": "2024-07-27T18:47:10.660Z"
   },
   {
    "duration": 14,
    "start_time": "2024-07-27T18:47:10.676Z"
   },
   {
    "duration": 42,
    "start_time": "2024-07-27T18:47:10.693Z"
   },
   {
    "duration": 16,
    "start_time": "2024-07-27T18:47:10.738Z"
   },
   {
    "duration": 10,
    "start_time": "2024-07-27T18:47:10.757Z"
   },
   {
    "duration": 59,
    "start_time": "2024-07-27T18:47:10.770Z"
   },
   {
    "duration": 10,
    "start_time": "2024-07-27T18:47:10.832Z"
   },
   {
    "duration": 16,
    "start_time": "2024-07-27T18:47:10.846Z"
   },
   {
    "duration": 63,
    "start_time": "2024-07-27T18:47:10.866Z"
   },
   {
    "duration": 8,
    "start_time": "2024-07-27T18:47:10.932Z"
   },
   {
    "duration": 8,
    "start_time": "2024-07-27T18:47:10.944Z"
   },
   {
    "duration": 72,
    "start_time": "2024-07-27T18:47:10.956Z"
   },
   {
    "duration": 17,
    "start_time": "2024-07-27T18:47:11.031Z"
   },
   {
    "duration": 8,
    "start_time": "2024-07-27T18:47:11.051Z"
   },
   {
    "duration": 63,
    "start_time": "2024-07-27T18:47:11.062Z"
   },
   {
    "duration": 19,
    "start_time": "2024-07-27T18:47:11.128Z"
   },
   {
    "duration": 8,
    "start_time": "2024-07-27T18:47:11.150Z"
   },
   {
    "duration": 8,
    "start_time": "2024-07-27T18:47:11.161Z"
   },
   {
    "duration": 378,
    "start_time": "2024-07-27T18:48:15.568Z"
   },
   {
    "duration": 1297,
    "start_time": "2024-07-27T18:58:27.395Z"
   },
   {
    "duration": 47,
    "start_time": "2024-07-27T18:58:28.696Z"
   },
   {
    "duration": 34,
    "start_time": "2024-07-27T18:58:28.746Z"
   },
   {
    "duration": 43,
    "start_time": "2024-07-27T18:58:28.783Z"
   },
   {
    "duration": 10,
    "start_time": "2024-07-27T18:58:28.831Z"
   },
   {
    "duration": 25,
    "start_time": "2024-07-27T18:58:28.845Z"
   },
   {
    "duration": 17,
    "start_time": "2024-07-27T18:58:28.873Z"
   },
   {
    "duration": 14,
    "start_time": "2024-07-27T18:58:28.927Z"
   },
   {
    "duration": 11,
    "start_time": "2024-07-27T18:58:28.944Z"
   },
   {
    "duration": 13,
    "start_time": "2024-07-27T18:58:28.957Z"
   },
   {
    "duration": 52,
    "start_time": "2024-07-27T18:58:28.973Z"
   },
   {
    "duration": 6,
    "start_time": "2024-07-27T18:58:29.028Z"
   },
   {
    "duration": 11,
    "start_time": "2024-07-27T18:58:29.037Z"
   },
   {
    "duration": 13,
    "start_time": "2024-07-27T18:58:29.055Z"
   },
   {
    "duration": 56,
    "start_time": "2024-07-27T18:58:29.070Z"
   },
   {
    "duration": 4589,
    "start_time": "2024-07-27T18:58:29.130Z"
   },
   {
    "duration": 14,
    "start_time": "2024-07-27T18:58:33.725Z"
   },
   {
    "duration": 12,
    "start_time": "2024-07-27T18:58:33.743Z"
   },
   {
    "duration": 12,
    "start_time": "2024-07-27T18:58:33.759Z"
   },
   {
    "duration": 58,
    "start_time": "2024-07-27T18:58:33.774Z"
   },
   {
    "duration": 16,
    "start_time": "2024-07-27T18:58:33.835Z"
   },
   {
    "duration": 22,
    "start_time": "2024-07-27T18:58:33.859Z"
   },
   {
    "duration": 50,
    "start_time": "2024-07-27T18:58:33.884Z"
   },
   {
    "duration": 10,
    "start_time": "2024-07-27T18:58:33.938Z"
   },
   {
    "duration": 20,
    "start_time": "2024-07-27T18:58:33.952Z"
   },
   {
    "duration": 53,
    "start_time": "2024-07-27T18:58:33.976Z"
   },
   {
    "duration": 471,
    "start_time": "2024-07-27T18:58:34.032Z"
   },
   {
    "duration": 26,
    "start_time": "2024-07-27T18:58:34.506Z"
   },
   {
    "duration": 469,
    "start_time": "2024-07-27T18:58:34.534Z"
   },
   {
    "duration": 38,
    "start_time": "2024-07-27T18:58:35.006Z"
   },
   {
    "duration": 400,
    "start_time": "2024-07-27T18:58:35.048Z"
   },
   {
    "duration": 62,
    "start_time": "2024-07-27T18:58:35.454Z"
   },
   {
    "duration": 12,
    "start_time": "2024-07-27T18:58:35.519Z"
   },
   {
    "duration": 26,
    "start_time": "2024-07-27T18:58:35.535Z"
   },
   {
    "duration": 385,
    "start_time": "2024-07-27T18:58:35.564Z"
   },
   {
    "duration": 13,
    "start_time": "2024-07-27T18:58:35.952Z"
   },
   {
    "duration": 251,
    "start_time": "2024-07-27T18:58:35.969Z"
   },
   {
    "duration": 257,
    "start_time": "2024-07-27T18:58:36.227Z"
   },
   {
    "duration": 110,
    "start_time": "2024-07-27T18:58:36.488Z"
   },
   {
    "duration": 279,
    "start_time": "2024-07-27T18:58:36.601Z"
   },
   {
    "duration": 15,
    "start_time": "2024-07-27T18:58:36.890Z"
   },
   {
    "duration": 31,
    "start_time": "2024-07-27T18:58:36.908Z"
   },
   {
    "duration": 15,
    "start_time": "2024-07-27T18:58:36.943Z"
   },
   {
    "duration": 17,
    "start_time": "2024-07-27T18:58:36.962Z"
   },
   {
    "duration": 49,
    "start_time": "2024-07-27T18:58:36.983Z"
   },
   {
    "duration": 17,
    "start_time": "2024-07-27T18:58:37.035Z"
   },
   {
    "duration": 21,
    "start_time": "2024-07-27T18:58:37.055Z"
   },
   {
    "duration": 19,
    "start_time": "2024-07-27T18:58:37.082Z"
   },
   {
    "duration": 10,
    "start_time": "2024-07-27T18:58:37.130Z"
   },
   {
    "duration": 9,
    "start_time": "2024-07-27T18:58:37.143Z"
   },
   {
    "duration": 9,
    "start_time": "2024-07-27T18:58:37.155Z"
   },
   {
    "duration": 16,
    "start_time": "2024-07-27T18:58:37.167Z"
   },
   {
    "duration": 54,
    "start_time": "2024-07-27T18:58:37.185Z"
   },
   {
    "duration": 9,
    "start_time": "2024-07-27T18:58:37.245Z"
   },
   {
    "duration": 7,
    "start_time": "2024-07-27T18:58:37.256Z"
   },
   {
    "duration": 16,
    "start_time": "2024-07-27T18:58:37.266Z"
   },
   {
    "duration": 46,
    "start_time": "2024-07-27T18:58:37.286Z"
   },
   {
    "duration": 8,
    "start_time": "2024-07-27T18:58:37.336Z"
   }
  ],
  "kernelspec": {
   "display_name": "Python 3 (ipykernel)",
   "language": "python",
   "name": "python3"
  },
  "language_info": {
   "codemirror_mode": {
    "name": "ipython",
    "version": 3
   },
   "file_extension": ".py",
   "mimetype": "text/x-python",
   "name": "python",
   "nbconvert_exporter": "python",
   "pygments_lexer": "ipython3",
   "version": "3.9.19"
  },
  "toc": {
   "base_numbering": 1,
   "nav_menu": {},
   "number_sections": true,
   "sideBar": true,
   "skip_h1_title": true,
   "title_cell": "Table of Contents",
   "title_sidebar": "Contents",
   "toc_cell": false,
   "toc_position": {
    "height": "calc(100% - 180px)",
    "left": "10px",
    "top": "150px",
    "width": "289px"
   },
   "toc_section_display": true,
   "toc_window_display": true
  }
 },
 "nbformat": 4,
 "nbformat_minor": 2
}
