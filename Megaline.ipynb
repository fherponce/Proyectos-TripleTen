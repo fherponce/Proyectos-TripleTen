{
 "cells": [
  {
   "cell_type": "markdown",
   "metadata": {
    "id": "3rYiDeEH0q0f"
   },
   "source": [
    "# ¿Cuál es la mejor tarifa?\n",
    "\n",
    "Trabajas como analista para el operador de telecomunicaciones Megaline. La empresa ofrece a sus clientes dos tarifas de prepago, Surf y Ultimate. El departamento comercial quiere saber cuál de las tarifas genera más ingresos para poder ajustar el presupuesto de publicidad.\n",
    "\n",
    "Vas a realizar un análisis preliminar de las tarifas basado en una selección de clientes relativamente pequeña. Tendrás los datos de 500 clientes de Megaline: quiénes son los clientes, de dónde son, qué tarifa usan, así como la cantidad de llamadas que hicieron y los mensajes de texto que enviaron en 2018. Tu trabajo es analizar el comportamiento de los clientes y determinar qué tarifa de prepago genera más ingresos."
   ]
  },
  {
   "cell_type": "markdown",
   "metadata": {
    "id": "MQi4IPy70q0y"
   },
   "source": [
    "## Inicialización"
   ]
  },
  {
   "cell_type": "code",
   "execution_count": 107,
   "metadata": {
    "id": "MtYIuBxu0q0z"
   },
   "outputs": [],
   "source": [
    "# Cargar todas las librerías\n",
    "from scipy import stats as st\n",
    "import numpy as np\n",
    "import pandas as pd\n",
    "from matplotlib import pyplot as plt\n",
    "import seaborn as sns\n"
   ]
  },
  {
   "cell_type": "markdown",
   "metadata": {
    "id": "4ysWWC5i0q00"
   },
   "source": [
    "## Cargar datos"
   ]
  },
  {
   "cell_type": "code",
   "execution_count": 108,
   "metadata": {
    "id": "CCqPW7rS0q01"
   },
   "outputs": [],
   "source": [
    "# Carga los archivos de datos en diferentes DataFrames\n",
    "df_calls = pd.read_csv('/datasets/megaline_calls.csv', header= 'infer')\n",
    "df_internet = pd.read_csv('/datasets/megaline_internet.csv', header='infer')\n",
    "df_messages = pd.read_csv('/datasets/megaline_messages.csv', header = 'infer')\n",
    "df_plans = pd.read_csv('/datasets/megaline_plans.csv', header ='infer')\n",
    "df_users = pd.read_csv('/datasets/megaline_users.csv', header = 'infer')"
   ]
  },
  {
   "cell_type": "markdown",
   "metadata": {
    "id": "69qqoJ3r0q01"
   },
   "source": [
    "## Preparar los datos"
   ]
  },
  {
   "cell_type": "markdown",
   "metadata": {
    "id": "ohBhimvH0q01"
   },
   "source": [
    "### Tarifas"
   ]
  },
  {
   "cell_type": "code",
   "execution_count": 109,
   "metadata": {
    "id": "GptqP3Q40q02"
   },
   "outputs": [
    {
     "name": "stdout",
     "output_type": "stream",
     "text": [
      "<class 'pandas.core.frame.DataFrame'>\n",
      "RangeIndex: 2 entries, 0 to 1\n",
      "Data columns (total 8 columns):\n",
      " #   Column                 Non-Null Count  Dtype  \n",
      "---  ------                 --------------  -----  \n",
      " 0   messages_included      2 non-null      int64  \n",
      " 1   mb_per_month_included  2 non-null      int64  \n",
      " 2   minutes_included       2 non-null      int64  \n",
      " 3   usd_monthly_pay        2 non-null      int64  \n",
      " 4   usd_per_gb             2 non-null      int64  \n",
      " 5   usd_per_message        2 non-null      float64\n",
      " 6   usd_per_minute         2 non-null      float64\n",
      " 7   plan_name              2 non-null      object \n",
      "dtypes: float64(2), int64(5), object(1)\n",
      "memory usage: 256.0+ bytes\n",
      "\n",
      "0\n"
     ]
    }
   ],
   "source": [
    "# Imprime la información general/resumida sobre el DataFrame de las tarifas\n",
    "df_plans.info()\n",
    "print()\n",
    "print(df_plans.duplicated().sum())\n"
   ]
  },
  {
   "cell_type": "code",
   "execution_count": 110,
   "metadata": {
    "id": "64xzjwL70q02"
   },
   "outputs": [
    {
     "name": "stdout",
     "output_type": "stream",
     "text": [
      "   messages_included  mb_per_month_included  minutes_included  \\\n",
      "0                 50                  15360               500   \n",
      "1               1000                  30720              3000   \n",
      "\n",
      "   usd_monthly_pay  usd_per_gb  usd_per_message  usd_per_minute plan_name  \n",
      "0               20          10             0.03            0.03      surf  \n",
      "1               70           7             0.01            0.01  ultimate  \n"
     ]
    }
   ],
   "source": [
    "# Imprime una muestra de los datos para las tarifas\n",
    "print(df_plans.head())\n"
   ]
  },
  {
   "cell_type": "markdown",
   "metadata": {},
   "source": [
    "- **Notamos que este primer DataFrame es descriptivo sobre los planes, no tiene datos ausentes y al ser solo 2 filas podemos confirmar que no tiene duplicados** \n",
    "- **Los nombres de las filas ya estan en snake_case y los datos están en el formato correcto**"
   ]
  },
  {
   "cell_type": "markdown",
   "metadata": {
    "id": "R3C05i1l0q03"
   },
   "source": [
    "#### Corregir datos"
   ]
  },
  {
   "cell_type": "markdown",
   "metadata": {},
   "source": [
    "**No hay necesidad de corregir nada en este DataFrame**"
   ]
  },
  {
   "cell_type": "markdown",
   "metadata": {
    "id": "LJir7bml0q03"
   },
   "source": [
    "#### Enriquecer los datos"
   ]
  },
  {
   "cell_type": "markdown",
   "metadata": {},
   "source": [
    "**Debido a que Megaline cobra por GB, convertiremos los MB a GB para un mejor análisis, para lo cual agregarempos una columna con la información de los GB **"
   ]
  },
  {
   "cell_type": "code",
   "execution_count": 111,
   "metadata": {},
   "outputs": [
    {
     "name": "stdout",
     "output_type": "stream",
     "text": [
      "   messages_included  mb_per_month_included  minutes_included  \\\n",
      "0                 50                  15360               500   \n",
      "1               1000                  30720              3000   \n",
      "\n",
      "   usd_monthly_pay  usd_per_gb  usd_per_message  usd_per_minute plan_name  \\\n",
      "0               20          10             0.03            0.03      surf   \n",
      "1               70           7             0.01            0.01  ultimate   \n",
      "\n",
      "   gb_per_month_included  \n",
      "0                  15.36  \n",
      "1                  30.72  \n"
     ]
    }
   ],
   "source": [
    "#Transformar los MB a GB\n",
    "df_plans['gb_per_month_included'] = df_plans['mb_per_month_included'].astype('float')\n",
    "df_plans['gb_per_month_included'] = df_plans['mb_per_month_included'] / 1000  # Considerar 1024 \n",
    "print(df_plans)"
   ]
  },
  {
   "cell_type": "markdown",
   "metadata": {
    "id": "1n2X6WXf0q04"
   },
   "source": [
    "### Usuarios/as"
   ]
  },
  {
   "cell_type": "code",
   "execution_count": 112,
   "metadata": {
    "id": "2NgjWFqx0q05"
   },
   "outputs": [
    {
     "name": "stdout",
     "output_type": "stream",
     "text": [
      "<class 'pandas.core.frame.DataFrame'>\n",
      "RangeIndex: 500 entries, 0 to 499\n",
      "Data columns (total 8 columns):\n",
      " #   Column      Non-Null Count  Dtype \n",
      "---  ------      --------------  ----- \n",
      " 0   user_id     500 non-null    int64 \n",
      " 1   first_name  500 non-null    object\n",
      " 2   last_name   500 non-null    object\n",
      " 3   age         500 non-null    int64 \n",
      " 4   city        500 non-null    object\n",
      " 5   reg_date    500 non-null    object\n",
      " 6   plan        500 non-null    object\n",
      " 7   churn_date  34 non-null     object\n",
      "dtypes: int64(2), object(6)\n",
      "memory usage: 31.4+ KB\n",
      "\n",
      "0\n"
     ]
    }
   ],
   "source": [
    "# Imprime la información general/resumida sobre el DataFrame de usuarios\n",
    "df_users.info()\n",
    "print()\n",
    "print(df_users.duplicated().sum())\n"
   ]
  },
  {
   "cell_type": "code",
   "execution_count": 113,
   "metadata": {
    "id": "1IN1L9uh0q05"
   },
   "outputs": [
    {
     "name": "stdout",
     "output_type": "stream",
     "text": [
      "   user_id first_name  last_name  age                                    city  \\\n",
      "0     1000   Anamaria      Bauer   45   Atlanta-Sandy Springs-Roswell, GA MSA   \n",
      "1     1001     Mickey  Wilkerson   28         Seattle-Tacoma-Bellevue, WA MSA   \n",
      "2     1002     Carlee    Hoffman   36    Las Vegas-Henderson-Paradise, NV MSA   \n",
      "3     1003   Reynaldo    Jenkins   52                           Tulsa, OK MSA   \n",
      "4     1004    Leonila   Thompson   40         Seattle-Tacoma-Bellevue, WA MSA   \n",
      "5     1005      Livia    Shields   31     Dallas-Fort Worth-Arlington, TX MSA   \n",
      "6     1006     Jesusa   Bradford   73  San Francisco-Oakland-Berkeley, CA MSA   \n",
      "7     1007    Eusebio      Welch   42           Grand Rapids-Kentwood, MI MSA   \n",
      "8     1008      Emely    Hoffman   53       Orlando-Kissimmee-Sanford, FL MSA   \n",
      "9     1009      Gerry     Little   19  San Jose-Sunnyvale-Santa Clara, CA MSA   \n",
      "\n",
      "     reg_date      plan  churn_date  \n",
      "0  2018-12-24  ultimate         NaN  \n",
      "1  2018-08-13      surf         NaN  \n",
      "2  2018-10-21      surf         NaN  \n",
      "3  2018-01-28      surf         NaN  \n",
      "4  2018-05-23      surf         NaN  \n",
      "5  2018-11-29      surf         NaN  \n",
      "6  2018-11-27  ultimate  2018-12-18  \n",
      "7  2018-07-11      surf         NaN  \n",
      "8  2018-08-03  ultimate         NaN  \n",
      "9  2018-04-22      surf         NaN  \n"
     ]
    }
   ],
   "source": [
    "# Imprime una muestra de datos para usuarios\n",
    "print(df_users.head(10))\n"
   ]
  },
  {
   "cell_type": "markdown",
   "metadata": {},
   "source": [
    "- **No contamos con filas completas duplicadas, sin embargo se hará un análisis de la columna de user_id para asegurar que no tengamos duplicados, al ser el único valor que identifica de forma única, de esta forma podemos afirmar que no hay duplicados.**\n",
    "- **Tenemos valores ausentes en la columna de churn_date, se nos informa que es debido a que la tarifa se estaba usando cuando fue extraída esta base de dato, por lo que los sustituimos por una cadena vacía.**\n",
    "- **Los valores están en el formato requerido, sin embargo al necesitar un análisis mensual, cambiaremos el formato de reg_date a datetime**\n",
    "- **Haremos el cambio de nombre de la columna \"plan\" por plan_name para tener el mismo nombre en caso de necesitar la unión con el DataFrame df_plans.**\n"
   ]
  },
  {
   "cell_type": "markdown",
   "metadata": {
    "id": "BX5FQh_I0q06"
   },
   "source": [
    "#### Corregir los datos"
   ]
  },
  {
   "cell_type": "code",
   "execution_count": 114,
   "metadata": {
    "id": "yUqX-K0C0q07"
   },
   "outputs": [
    {
     "name": "stdout",
     "output_type": "stream",
     "text": [
      "0\n"
     ]
    }
   ],
   "source": [
    "print(df_users.duplicated(subset=['user_id']).sum()) #comprobar que no hay valores ausentes en user_id"
   ]
  },
  {
   "cell_type": "code",
   "execution_count": 115,
   "metadata": {},
   "outputs": [
    {
     "name": "stdout",
     "output_type": "stream",
     "text": [
      "[nan '2018-12-18' '2018-11-16' '2018-09-07' '2018-12-30' '2018-10-07'\n",
      " '2018-12-31' '2018-11-24' '2018-11-11' '2018-12-12' '2018-11-14'\n",
      " '2018-12-27' '2018-11-29' '2018-12-22' '2018-11-30' '2018-10-13'\n",
      " '2018-07-31' '2018-12-15' '2018-12-19' '2018-10-03' '2018-10-22'\n",
      " '2018-08-16' '2018-12-26' '2018-09-01' '2018-11-21' '2018-08-19'\n",
      " '2018-12-10' '2018-09-17' '2018-11-18' '2018-09-18']\n",
      "0               \n",
      "1               \n",
      "2               \n",
      "3               \n",
      "4               \n",
      "5               \n",
      "6     2018-12-18\n",
      "7               \n",
      "8               \n",
      "9               \n",
      "10              \n",
      "11              \n",
      "12    2018-11-16\n",
      "13              \n",
      "14              \n",
      "Name: churn_date, dtype: object\n"
     ]
    }
   ],
   "source": [
    "print(df_users['churn_date'].unique()) #asegurar que no hay otro valor además de fecha y NaN\n",
    "df_users['churn_date'] = df_users['churn_date'].fillna('') #sustituir valores ausentes por cadenas vacías\n",
    "print(df_users['churn_date'].head(15))"
   ]
  },
  {
   "cell_type": "markdown",
   "metadata": {
    "id": "ycwuARJp0q07"
   },
   "source": [
    "#### Enriquecer los datos"
   ]
  },
  {
   "cell_type": "markdown",
   "metadata": {},
   "source": [
    "**Consideramos que el cambio de tipo de dato y el cambio de nombre de la columna es un enriquecimiento, ya que no es un error del DataFrame, sin embargo es un cambio que será de utilidad más adelante**"
   ]
  },
  {
   "cell_type": "code",
   "execution_count": 116,
   "metadata": {
    "id": "iq0AaBS90q08"
   },
   "outputs": [
    {
     "name": "stdout",
     "output_type": "stream",
     "text": [
      "0   2018-12-24\n",
      "1   2018-08-13\n",
      "2   2018-10-21\n",
      "3   2018-01-28\n",
      "4   2018-05-23\n",
      "5   2018-11-29\n",
      "6   2018-11-27\n",
      "7   2018-07-11\n",
      "8   2018-08-03\n",
      "9   2018-04-22\n",
      "Name: reg_date, dtype: datetime64[ns]\n",
      "<class 'pandas.core.series.Series'>\n"
     ]
    }
   ],
   "source": [
    "#cambio de formato a datetime\n",
    "df_users['reg_date'] = pd.to_datetime(df_users['reg_date'], format= '%Y-%m-%d')\n",
    "print(df_users['reg_date'].head(10))\n",
    "print(type(df_users['reg_date']))"
   ]
  },
  {
   "cell_type": "code",
   "execution_count": 117,
   "metadata": {},
   "outputs": [
    {
     "name": "stdout",
     "output_type": "stream",
     "text": [
      "   user_id first_name  last_name  age                                   city  \\\n",
      "0     1000   Anamaria      Bauer   45  Atlanta-Sandy Springs-Roswell, GA MSA   \n",
      "1     1001     Mickey  Wilkerson   28        Seattle-Tacoma-Bellevue, WA MSA   \n",
      "2     1002     Carlee    Hoffman   36   Las Vegas-Henderson-Paradise, NV MSA   \n",
      "3     1003   Reynaldo    Jenkins   52                          Tulsa, OK MSA   \n",
      "4     1004    Leonila   Thompson   40        Seattle-Tacoma-Bellevue, WA MSA   \n",
      "\n",
      "    reg_date plan_name churn_date  \n",
      "0 2018-12-24  ultimate             \n",
      "1 2018-08-13      surf             \n",
      "2 2018-10-21      surf             \n",
      "3 2018-01-28      surf             \n",
      "4 2018-05-23      surf             \n"
     ]
    }
   ],
   "source": [
    "#cambio de nombre de la columna\n",
    "column_new_name1= {'plan':'plan_name'}\n",
    "df_users = df_users.rename(columns = column_new_name1)\n",
    "print(df_users.head())"
   ]
  },
  {
   "cell_type": "markdown",
   "metadata": {
    "id": "o7MeKCid0q08"
   },
   "source": [
    "### Llamadas"
   ]
  },
  {
   "cell_type": "code",
   "execution_count": 118,
   "metadata": {
    "id": "6dDlnoDm0q08"
   },
   "outputs": [
    {
     "name": "stdout",
     "output_type": "stream",
     "text": [
      "<class 'pandas.core.frame.DataFrame'>\n",
      "RangeIndex: 137735 entries, 0 to 137734\n",
      "Data columns (total 4 columns):\n",
      " #   Column     Non-Null Count   Dtype  \n",
      "---  ------     --------------   -----  \n",
      " 0   id         137735 non-null  object \n",
      " 1   user_id    137735 non-null  int64  \n",
      " 2   call_date  137735 non-null  object \n",
      " 3   duration   137735 non-null  float64\n",
      "dtypes: float64(1), int64(1), object(2)\n",
      "memory usage: 4.2+ MB\n",
      "\n",
      "0\n"
     ]
    }
   ],
   "source": [
    "# Imprime la información general/resumida sobre el DataFrame de las llamadas\n",
    "df_calls.info()\n",
    "print()\n",
    "print(df_calls.duplicated().sum())\n"
   ]
  },
  {
   "cell_type": "code",
   "execution_count": 119,
   "metadata": {
    "id": "kuh1vlNB0q09"
   },
   "outputs": [
    {
     "name": "stdout",
     "output_type": "stream",
     "text": [
      "         id  user_id   call_date  duration\n",
      "0   1000_93     1000  2018-12-27      8.52\n",
      "1  1000_145     1000  2018-12-27     13.66\n",
      "2  1000_247     1000  2018-12-27     14.48\n",
      "3  1000_309     1000  2018-12-28      5.76\n",
      "4  1000_380     1000  2018-12-30      4.22\n",
      "5  1000_388     1000  2018-12-31      2.20\n",
      "6  1000_510     1000  2018-12-27      5.75\n",
      "7  1000_521     1000  2018-12-28     14.18\n",
      "8  1000_530     1000  2018-12-28      5.77\n",
      "9  1000_544     1000  2018-12-26      4.40\n"
     ]
    }
   ],
   "source": [
    "# Imprime una muestra de datos para las llamadas\n",
    "print(df_calls.head(10))\n"
   ]
  },
  {
   "cell_type": "markdown",
   "metadata": {},
   "source": [
    "- **Podemos notar que no hay filas completas duplicadas, sin embargo se hará un análisis de la columna de 'id' para asegurar que no tengamos duplicados, al ser el único valor que identifica de forma única, de esta forma podemos afirmar que no hay duplicados.**\n",
    "- **Podemos confirmar que no tenemos datos ausentes en el DataFrame**\n",
    "- **Haremos el cambio de nombre de la columna de 'id' por 'call_id' para uso futuro evitar la confusión de id y para mejor identificación de 'duration' a 'call_duration'**\n",
    "- **Cambiaremos el formato de call_date a datetime para el análisis**\n",
    "- **Redondearemos la duración de llamadas de los decimales, ya que Megaline cobra por minuto, no por segundo**\n",
    "- **Podemos suponer que las llamadas de 0.0 fueron intentos de llamadas, pero no hubo respuesta**"
   ]
  },
  {
   "cell_type": "markdown",
   "metadata": {
    "id": "S7hzxmbX0q0-"
   },
   "source": [
    "#### Corregir los datos"
   ]
  },
  {
   "cell_type": "code",
   "execution_count": 120,
   "metadata": {
    "id": "S2r8xA4f0q0-"
   },
   "outputs": [
    {
     "name": "stdout",
     "output_type": "stream",
     "text": [
      "0\n"
     ]
    }
   ],
   "source": [
    "#comprobar que no haya duplicados en id\n",
    "print(df_calls.duplicated(subset=['id']).sum()) "
   ]
  },
  {
   "cell_type": "code",
   "execution_count": 121,
   "metadata": {
    "id": "iZ1avpA_0q0_"
   },
   "outputs": [
    {
     "name": "stdout",
     "output_type": "stream",
     "text": [
      "0   2018-12-27\n",
      "1   2018-12-27\n",
      "2   2018-12-27\n",
      "3   2018-12-28\n",
      "4   2018-12-30\n",
      "5   2018-12-31\n",
      "6   2018-12-27\n",
      "7   2018-12-28\n",
      "8   2018-12-28\n",
      "9   2018-12-26\n",
      "Name: call_date, dtype: datetime64[ns]\n",
      "<class 'pandas.core.series.Series'>\n"
     ]
    }
   ],
   "source": [
    "df_calls['call_date'] = pd.to_datetime(df_calls['call_date'], format= '%Y-%m-%d')\n",
    "print(df_calls['call_date'].head(10))\n",
    "print(type(df_calls['call_date']))"
   ]
  },
  {
   "cell_type": "code",
   "execution_count": 122,
   "metadata": {},
   "outputs": [
    {
     "name": "stdout",
     "output_type": "stream",
     "text": [
      "    call_id  user_id  call_date  call_duration\n",
      "0   1000_93     1000 2018-12-27           8.52\n",
      "1  1000_145     1000 2018-12-27          13.66\n",
      "2  1000_247     1000 2018-12-27          14.48\n",
      "3  1000_309     1000 2018-12-28           5.76\n",
      "4  1000_380     1000 2018-12-30           4.22\n"
     ]
    }
   ],
   "source": [
    "#cambio de nombre de la columna\n",
    "column_new_name2= {'id':'call_id',\n",
    "                  'duration': 'call_duration'}\n",
    "df_calls = df_calls.rename(columns = column_new_name2)\n",
    "print(df_calls.head())"
   ]
  },
  {
   "cell_type": "markdown",
   "metadata": {
    "id": "KrMgTrlG0q0_"
   },
   "source": [
    "#### Enriquecer los datos"
   ]
  },
  {
   "cell_type": "markdown",
   "metadata": {},
   "source": [
    "**Consideramos que agregar el nombre del plan será de utilidad más adelante, y agregamos la columna del redondeo**"
   ]
  },
  {
   "cell_type": "code",
   "execution_count": 123,
   "metadata": {},
   "outputs": [
    {
     "name": "stdout",
     "output_type": "stream",
     "text": [
      "     call_id  user_id  call_date  call_duration plan_name\n",
      "0    1000_93     1000 2018-12-27           8.52  ultimate\n",
      "1   1000_145     1000 2018-12-27          13.66  ultimate\n",
      "2   1000_247     1000 2018-12-27          14.48  ultimate\n",
      "3   1000_309     1000 2018-12-28           5.76  ultimate\n",
      "4   1000_380     1000 2018-12-30           4.22  ultimate\n",
      "5   1000_388     1000 2018-12-31           2.20  ultimate\n",
      "6   1000_510     1000 2018-12-27           5.75  ultimate\n",
      "7   1000_521     1000 2018-12-28          14.18  ultimate\n",
      "8   1000_530     1000 2018-12-28           5.77  ultimate\n",
      "9   1000_544     1000 2018-12-26           4.40  ultimate\n",
      "10  1000_693     1000 2018-12-31           4.31  ultimate\n",
      "11  1000_705     1000 2018-12-31          12.78  ultimate\n",
      "12  1000_735     1000 2018-12-29           1.70  ultimate\n",
      "13  1000_778     1000 2018-12-28           3.29  ultimate\n",
      "14  1000_826     1000 2018-12-26           9.96  ultimate\n",
      "15  1000_842     1000 2018-12-27           5.85  ultimate\n",
      "16    1001_0     1001 2018-09-06          10.06      surf\n",
      "17    1001_1     1001 2018-10-12           1.00      surf\n",
      "18    1001_2     1001 2018-10-17          15.83      surf\n",
      "19    1001_4     1001 2018-12-05           0.00      surf\n",
      "20    1001_5     1001 2018-12-13           6.27      surf\n",
      "21    1001_6     1001 2018-12-04           7.19      surf\n",
      "22    1001_8     1001 2018-11-17           2.45      surf\n",
      "23    1001_9     1001 2018-11-19           2.40      surf\n",
      "24   1001_11     1001 2018-11-09           1.00      surf\n",
      "25   1001_13     1001 2018-12-24           0.00      surf\n",
      "26   1001_19     1001 2018-11-15          30.00      surf\n",
      "27   1001_20     1001 2018-09-21           5.75      surf\n",
      "28   1001_23     1001 2018-10-27           0.98      surf\n",
      "29   1001_26     1001 2018-10-28           5.90      surf\n"
     ]
    }
   ],
   "source": [
    "df_calls = df_calls.merge(df_users, on='user_id')[['call_id','user_id','call_date','call_duration','plan_name']]\n",
    "print(df_calls.head(30))"
   ]
  },
  {
   "cell_type": "code",
   "execution_count": 124,
   "metadata": {},
   "outputs": [
    {
     "name": "stdout",
     "output_type": "stream",
     "text": [
      "     call_id  user_id  call_date  call_duration plan_name  \\\n",
      "0    1000_93     1000 2018-12-27           8.52  ultimate   \n",
      "1   1000_145     1000 2018-12-27          13.66  ultimate   \n",
      "2   1000_247     1000 2018-12-27          14.48  ultimate   \n",
      "3   1000_309     1000 2018-12-28           5.76  ultimate   \n",
      "4   1000_380     1000 2018-12-30           4.22  ultimate   \n",
      "5   1000_388     1000 2018-12-31           2.20  ultimate   \n",
      "6   1000_510     1000 2018-12-27           5.75  ultimate   \n",
      "7   1000_521     1000 2018-12-28          14.18  ultimate   \n",
      "8   1000_530     1000 2018-12-28           5.77  ultimate   \n",
      "9   1000_544     1000 2018-12-26           4.40  ultimate   \n",
      "10  1000_693     1000 2018-12-31           4.31  ultimate   \n",
      "11  1000_705     1000 2018-12-31          12.78  ultimate   \n",
      "12  1000_735     1000 2018-12-29           1.70  ultimate   \n",
      "13  1000_778     1000 2018-12-28           3.29  ultimate   \n",
      "14  1000_826     1000 2018-12-26           9.96  ultimate   \n",
      "15  1000_842     1000 2018-12-27           5.85  ultimate   \n",
      "16    1001_0     1001 2018-09-06          10.06      surf   \n",
      "17    1001_1     1001 2018-10-12           1.00      surf   \n",
      "18    1001_2     1001 2018-10-17          15.83      surf   \n",
      "19    1001_4     1001 2018-12-05           0.00      surf   \n",
      "20    1001_5     1001 2018-12-13           6.27      surf   \n",
      "21    1001_6     1001 2018-12-04           7.19      surf   \n",
      "22    1001_8     1001 2018-11-17           2.45      surf   \n",
      "23    1001_9     1001 2018-11-19           2.40      surf   \n",
      "24   1001_11     1001 2018-11-09           1.00      surf   \n",
      "25   1001_13     1001 2018-12-24           0.00      surf   \n",
      "26   1001_19     1001 2018-11-15          30.00      surf   \n",
      "27   1001_20     1001 2018-09-21           5.75      surf   \n",
      "28   1001_23     1001 2018-10-27           0.98      surf   \n",
      "29   1001_26     1001 2018-10-28           5.90      surf   \n",
      "\n",
      "    rounded_call_duration  \n",
      "0                       9  \n",
      "1                      14  \n",
      "2                      15  \n",
      "3                       6  \n",
      "4                       5  \n",
      "5                       3  \n",
      "6                       6  \n",
      "7                      15  \n",
      "8                       6  \n",
      "9                       5  \n",
      "10                      5  \n",
      "11                     13  \n",
      "12                      2  \n",
      "13                      4  \n",
      "14                     10  \n",
      "15                      6  \n",
      "16                     11  \n",
      "17                      1  \n",
      "18                     16  \n",
      "19                      0  \n",
      "20                      7  \n",
      "21                      8  \n",
      "22                      3  \n",
      "23                      3  \n",
      "24                      1  \n",
      "25                      0  \n",
      "26                     30  \n",
      "27                      6  \n",
      "28                      1  \n",
      "29                      6  \n"
     ]
    }
   ],
   "source": [
    "#Redondeamos los valores de la llamada hacia arriba\n",
    "column1= df_calls['call_duration'] \n",
    "redondeo = np.ceil(column1)\n",
    "df_calls['rounded_call_duration'] = redondeo\n",
    "df_calls['rounded_call_duration'] = df_calls['rounded_call_duration'].astype('int')\n",
    "print(df_calls.head(30))"
   ]
  },
  {
   "cell_type": "code",
   "execution_count": 125,
   "metadata": {},
   "outputs": [
    {
     "data": {
      "text/plain": [
       "True"
      ]
     },
     "execution_count": 125,
     "metadata": {},
     "output_type": "execute_result"
    }
   ],
   "source": [
    "#comprobamos que es seguro cambiar a int la nueva columna creada con los valores redondeaos \n",
    "np.array_equal(df_calls['rounded_call_duration'], df_calls['rounded_call_duration'].astype('int'))\n"
   ]
  },
  {
   "cell_type": "code",
   "execution_count": 126,
   "metadata": {},
   "outputs": [
    {
     "name": "stdout",
     "output_type": "stream",
     "text": [
      "call_id                  0\n",
      "user_id                  0\n",
      "call_date                0\n",
      "call_duration            0\n",
      "plan_name                0\n",
      "rounded_call_duration    0\n",
      "dtype: int64\n"
     ]
    }
   ],
   "source": [
    "print(df_calls.isna().sum()) #Nos aseguramos que no tenemos ausentes después de todos los movimientos "
   ]
  },
  {
   "cell_type": "markdown",
   "metadata": {
    "id": "mOUZSi180q0_"
   },
   "source": [
    "### Mensajes"
   ]
  },
  {
   "cell_type": "code",
   "execution_count": 127,
   "metadata": {
    "id": "R-bYJpdV0q1A"
   },
   "outputs": [
    {
     "name": "stdout",
     "output_type": "stream",
     "text": [
      "<class 'pandas.core.frame.DataFrame'>\n",
      "RangeIndex: 76051 entries, 0 to 76050\n",
      "Data columns (total 3 columns):\n",
      " #   Column        Non-Null Count  Dtype \n",
      "---  ------        --------------  ----- \n",
      " 0   id            76051 non-null  object\n",
      " 1   user_id       76051 non-null  int64 \n",
      " 2   message_date  76051 non-null  object\n",
      "dtypes: int64(1), object(2)\n",
      "memory usage: 1.7+ MB\n",
      "\n",
      "0\n"
     ]
    }
   ],
   "source": [
    "# Imprime la información general/resumida sobre el DataFrame de los mensajes\n",
    "df_messages.info()\n",
    "print()\n",
    "print(df_messages.duplicated().sum())"
   ]
  },
  {
   "cell_type": "code",
   "execution_count": 128,
   "metadata": {
    "id": "mCEl2iGE0q1A"
   },
   "outputs": [
    {
     "name": "stdout",
     "output_type": "stream",
     "text": [
      "         id  user_id message_date\n",
      "0  1000_125     1000   2018-12-27\n",
      "1  1000_160     1000   2018-12-31\n",
      "2  1000_223     1000   2018-12-31\n",
      "3  1000_251     1000   2018-12-27\n",
      "4  1000_255     1000   2018-12-26\n",
      "5  1000_346     1000   2018-12-29\n",
      "6  1000_386     1000   2018-12-30\n",
      "7  1000_413     1000   2018-12-31\n",
      "8  1000_502     1000   2018-12-27\n",
      "9  1000_525     1000   2018-12-28\n"
     ]
    }
   ],
   "source": [
    "# Imprime una muestra de datos para los mensajes\n",
    "print(df_messages.head(10))\n"
   ]
  },
  {
   "cell_type": "markdown",
   "metadata": {},
   "source": [
    "- **Podemos notar que no hay filas completas duplicadas, sin embargo se hará un análisis de la columna de 'id' para asegurar que no tengamos duplicados, al ser el único valor que identifica de forma única, de esta forma podemos afirmar que no hay duplicados.**\n",
    "- **Podemos confirmar que no tenemos datos ausentes en el DataFrame**\n",
    "- **Haremos el cambio de nombre de la columna de 'id' por 'message_id' para uso futuro evitar la confusión de id**\n",
    "- **Cambiaremos el formato de message_date a datetime para el análisis**"
   ]
  },
  {
   "cell_type": "markdown",
   "metadata": {
    "id": "Sprfak900q1B"
   },
   "source": [
    "#### Corregir los datos"
   ]
  },
  {
   "cell_type": "code",
   "execution_count": 129,
   "metadata": {
    "id": "vsllvkoa0q1B"
   },
   "outputs": [
    {
     "name": "stdout",
     "output_type": "stream",
     "text": [
      "0\n"
     ]
    }
   ],
   "source": [
    "#comprobar que no haya duplicados en id\n",
    "print(df_messages.duplicated(subset=['id']).sum()) "
   ]
  },
  {
   "cell_type": "code",
   "execution_count": 130,
   "metadata": {
    "id": "zYEXZac10q1C"
   },
   "outputs": [
    {
     "name": "stdout",
     "output_type": "stream",
     "text": [
      "0   2018-12-27\n",
      "1   2018-12-31\n",
      "2   2018-12-31\n",
      "3   2018-12-27\n",
      "4   2018-12-26\n",
      "5   2018-12-29\n",
      "6   2018-12-30\n",
      "7   2018-12-31\n",
      "8   2018-12-27\n",
      "9   2018-12-28\n",
      "Name: message_date, dtype: datetime64[ns]\n",
      "<class 'pandas.core.series.Series'>\n"
     ]
    }
   ],
   "source": [
    "#cambio de formato a datetime\n",
    "df_messages['message_date'] = pd.to_datetime(df_messages['message_date'], format= '%Y-%m-%d')\n",
    "print(df_messages['message_date'].head(10))\n",
    "print(type(df_messages['message_date']))"
   ]
  },
  {
   "cell_type": "code",
   "execution_count": 131,
   "metadata": {},
   "outputs": [
    {
     "name": "stdout",
     "output_type": "stream",
     "text": [
      "  message_id  user_id message_date\n",
      "0   1000_125     1000   2018-12-27\n",
      "1   1000_160     1000   2018-12-31\n",
      "2   1000_223     1000   2018-12-31\n",
      "3   1000_251     1000   2018-12-27\n",
      "4   1000_255     1000   2018-12-26\n"
     ]
    }
   ],
   "source": [
    "#cambio de nombre de la columna\n",
    "column_new_name3= {'id':'message_id'}\n",
    "df_messages = df_messages.rename(columns = column_new_name3)\n",
    "print(df_messages.head())"
   ]
  },
  {
   "cell_type": "markdown",
   "metadata": {
    "id": "HvLid7iD0q1B"
   },
   "source": [
    "#### Enriquecer los datos"
   ]
  },
  {
   "cell_type": "markdown",
   "metadata": {},
   "source": [
    "**Consideramos que agregar el nombre del plan será de utilidad más adelante**"
   ]
  },
  {
   "cell_type": "code",
   "execution_count": 132,
   "metadata": {},
   "outputs": [
    {
     "name": "stdout",
     "output_type": "stream",
     "text": [
      "  message_id  user_id message_date plan_name\n",
      "0   1000_125     1000   2018-12-27  ultimate\n",
      "1   1000_160     1000   2018-12-31  ultimate\n",
      "2   1000_223     1000   2018-12-31  ultimate\n",
      "3   1000_251     1000   2018-12-27  ultimate\n",
      "4   1000_255     1000   2018-12-26  ultimate\n"
     ]
    }
   ],
   "source": [
    "df_messages = df_messages.merge(df_users, on='user_id')[['message_id','user_id','message_date','plan_name']]\n",
    "print(df_messages.head())"
   ]
  },
  {
   "cell_type": "markdown",
   "metadata": {
    "id": "bStkaxn40q1C"
   },
   "source": [
    "### Internet"
   ]
  },
  {
   "cell_type": "code",
   "execution_count": 133,
   "metadata": {
    "id": "e-Uz5qyn0q1C"
   },
   "outputs": [
    {
     "name": "stdout",
     "output_type": "stream",
     "text": [
      "<class 'pandas.core.frame.DataFrame'>\n",
      "RangeIndex: 104825 entries, 0 to 104824\n",
      "Data columns (total 4 columns):\n",
      " #   Column        Non-Null Count   Dtype  \n",
      "---  ------        --------------   -----  \n",
      " 0   id            104825 non-null  object \n",
      " 1   user_id       104825 non-null  int64  \n",
      " 2   session_date  104825 non-null  object \n",
      " 3   mb_used       104825 non-null  float64\n",
      "dtypes: float64(1), int64(1), object(2)\n",
      "memory usage: 3.2+ MB\n",
      "\n",
      "0\n"
     ]
    }
   ],
   "source": [
    "# Imprime la información general/resumida sobre el DataFrame de internet\n",
    "df_internet.info()\n",
    "print()\n",
    "print(df_internet.duplicated().sum())\n"
   ]
  },
  {
   "cell_type": "code",
   "execution_count": 134,
   "metadata": {
    "id": "9r3x_XLw0q1C"
   },
   "outputs": [
    {
     "name": "stdout",
     "output_type": "stream",
     "text": [
      "         id  user_id session_date  mb_used\n",
      "0   1000_13     1000   2018-12-29    89.86\n",
      "1  1000_204     1000   2018-12-31     0.00\n",
      "2  1000_379     1000   2018-12-28   660.40\n",
      "3  1000_413     1000   2018-12-26   270.99\n",
      "4  1000_442     1000   2018-12-27   880.22\n"
     ]
    }
   ],
   "source": [
    "# Imprime una muestra de datos para el tráfico de internet\n",
    "print(df_internet.head())\n"
   ]
  },
  {
   "cell_type": "markdown",
   "metadata": {},
   "source": [
    "- **Podemos notar que no hay filas completas duplicadas, sin embargo se hará un análisis de la columna de 'id' para asegurar que no tengamos duplicados, al ser el único valor que identifica de forma única, de esta forma podemos afirmar que no hay duplicados.**\n",
    "- **Podemos confirmar que no tenemos datos ausentes en el DataFrame**\n",
    "- **Haremos el cambio de nombre de la columna de 'id' por 'session_id' para uso futuro evitar la confusión de id**\n",
    "- **Cambiaremos el formato de 'session_date' a datetime para el análisis**\n",
    "- **Cabe mencionar que los datos de internet son en mb tanto en este DataFrame como en df_plans, por lo que es necesario hacer la conversión a GB**"
   ]
  },
  {
   "cell_type": "markdown",
   "metadata": {
    "id": "yA0tkPFg0q1D"
   },
   "source": [
    "#### Corregir los datos"
   ]
  },
  {
   "cell_type": "code",
   "execution_count": 135,
   "metadata": {
    "id": "zVeanzdd0q1E"
   },
   "outputs": [
    {
     "name": "stdout",
     "output_type": "stream",
     "text": [
      "0\n"
     ]
    }
   ],
   "source": [
    "#comprobar que no haya duplicados en id\n",
    "print(df_internet.duplicated(subset=['id']).sum())"
   ]
  },
  {
   "cell_type": "code",
   "execution_count": 136,
   "metadata": {
    "id": "ESiYPIEK0q1E"
   },
   "outputs": [
    {
     "name": "stdout",
     "output_type": "stream",
     "text": [
      "0   2018-12-29\n",
      "1   2018-12-31\n",
      "2   2018-12-28\n",
      "3   2018-12-26\n",
      "4   2018-12-27\n",
      "5   2018-08-24\n",
      "6   2018-12-09\n",
      "7   2018-11-04\n",
      "8   2018-11-27\n",
      "9   2018-12-13\n",
      "Name: session_date, dtype: datetime64[ns]\n",
      "<class 'pandas.core.series.Series'>\n"
     ]
    }
   ],
   "source": [
    "#cambio de formato a datetime\n",
    "df_internet['session_date'] = pd.to_datetime(df_internet['session_date'], format= '%Y-%m-%d')\n",
    "print(df_internet['session_date'].head(10))\n",
    "print(type(df_internet['session_date']))"
   ]
  },
  {
   "cell_type": "code",
   "execution_count": 137,
   "metadata": {},
   "outputs": [
    {
     "name": "stdout",
     "output_type": "stream",
     "text": [
      "  session_id  user_id session_date  mb_used\n",
      "0    1000_13     1000   2018-12-29    89.86\n",
      "1   1000_204     1000   2018-12-31     0.00\n",
      "2   1000_379     1000   2018-12-28   660.40\n",
      "3   1000_413     1000   2018-12-26   270.99\n",
      "4   1000_442     1000   2018-12-27   880.22\n"
     ]
    }
   ],
   "source": [
    "#cambio de nombre de la columna\n",
    "column_new_name4= {'id':'session_id'}\n",
    "df_internet = df_internet.rename(columns = column_new_name4)\n",
    "print(df_internet.head())"
   ]
  },
  {
   "cell_type": "markdown",
   "metadata": {
    "id": "e8_mLF4a0q1E"
   },
   "source": [
    "#### Enriquecer los datos"
   ]
  },
  {
   "cell_type": "markdown",
   "metadata": {},
   "source": [
    "**Consideramos que agregar el nombre del plan será de utilidad más adelante**"
   ]
  },
  {
   "cell_type": "code",
   "execution_count": 138,
   "metadata": {},
   "outputs": [
    {
     "name": "stdout",
     "output_type": "stream",
     "text": [
      "   session_id  user_id session_date  mb_used plan_name\n",
      "0     1000_13     1000   2018-12-29    89.86  ultimate\n",
      "1    1000_204     1000   2018-12-31     0.00  ultimate\n",
      "2    1000_379     1000   2018-12-28   660.40  ultimate\n",
      "3    1000_413     1000   2018-12-26   270.99  ultimate\n",
      "4    1000_442     1000   2018-12-27   880.22  ultimate\n",
      "5      1001_0     1001   2018-08-24   284.68      surf\n",
      "6      1001_3     1001   2018-12-09   656.04      surf\n",
      "7      1001_4     1001   2018-11-04    16.97      surf\n",
      "8     1001_10     1001   2018-11-27   135.18      surf\n",
      "9     1001_15     1001   2018-12-13   761.92      surf\n",
      "10    1001_16     1001   2018-10-28   501.53      surf\n",
      "11    1001_17     1001   2018-09-05   727.29      surf\n",
      "12    1001_24     1001   2018-09-05   622.03      surf\n",
      "13    1001_25     1001   2018-10-14   310.43      surf\n",
      "14    1001_26     1001   2018-09-17     0.00      surf\n",
      "15    1001_27     1001   2018-12-13   149.17      surf\n",
      "16    1001_28     1001   2018-10-17     0.00      surf\n",
      "17    1001_29     1001   2018-10-09  1067.99      surf\n",
      "18    1001_30     1001   2018-12-27   157.20      surf\n",
      "19    1001_33     1001   2018-09-27   236.40      surf\n",
      "20    1001_34     1001   2018-09-18   299.66      surf\n",
      "21    1001_37     1001   2018-12-26   694.50      surf\n",
      "22    1001_38     1001   2018-11-25   288.27      surf\n",
      "23    1001_40     1001   2018-12-27   632.84      surf\n",
      "24    1001_42     1001   2018-12-03   474.35      surf\n",
      "25    1001_43     1001   2018-11-16   196.94      surf\n",
      "26    1001_44     1001   2018-09-27    44.91      surf\n",
      "27    1001_45     1001   2018-10-23   483.49      surf\n",
      "28    1001_47     1001   2018-12-07   317.01      surf\n",
      "29    1001_48     1001   2018-09-08   284.97      surf\n"
     ]
    }
   ],
   "source": [
    "df_internet = df_internet.merge(df_users, on='user_id')[['session_id','user_id','session_date','mb_used','plan_name']]\n",
    "print(df_internet.head(30))"
   ]
  },
  {
   "cell_type": "code",
   "execution_count": 139,
   "metadata": {},
   "outputs": [
    {
     "name": "stdout",
     "output_type": "stream",
     "text": [
      "   session_id  user_id session_date  mb_used plan_name  gb_used\n",
      "0     1000_13     1000   2018-12-29    89.86  ultimate        1\n",
      "1    1000_204     1000   2018-12-31     0.00  ultimate        0\n",
      "2    1000_379     1000   2018-12-28   660.40  ultimate        1\n",
      "3    1000_413     1000   2018-12-26   270.99  ultimate        1\n",
      "4    1000_442     1000   2018-12-27   880.22  ultimate        1\n",
      "5      1001_0     1001   2018-08-24   284.68      surf        1\n",
      "6      1001_3     1001   2018-12-09   656.04      surf        1\n",
      "7      1001_4     1001   2018-11-04    16.97      surf        1\n",
      "8     1001_10     1001   2018-11-27   135.18      surf        1\n",
      "9     1001_15     1001   2018-12-13   761.92      surf        1\n",
      "10    1001_16     1001   2018-10-28   501.53      surf        1\n",
      "11    1001_17     1001   2018-09-05   727.29      surf        1\n",
      "12    1001_24     1001   2018-09-05   622.03      surf        1\n",
      "13    1001_25     1001   2018-10-14   310.43      surf        1\n",
      "14    1001_26     1001   2018-09-17     0.00      surf        0\n",
      "15    1001_27     1001   2018-12-13   149.17      surf        1\n",
      "16    1001_28     1001   2018-10-17     0.00      surf        0\n",
      "17    1001_29     1001   2018-10-09  1067.99      surf        2\n",
      "18    1001_30     1001   2018-12-27   157.20      surf        1\n",
      "19    1001_33     1001   2018-09-27   236.40      surf        1\n",
      "20    1001_34     1001   2018-09-18   299.66      surf        1\n",
      "21    1001_37     1001   2018-12-26   694.50      surf        1\n",
      "22    1001_38     1001   2018-11-25   288.27      surf        1\n",
      "23    1001_40     1001   2018-12-27   632.84      surf        1\n",
      "24    1001_42     1001   2018-12-03   474.35      surf        1\n",
      "25    1001_43     1001   2018-11-16   196.94      surf        1\n",
      "26    1001_44     1001   2018-09-27    44.91      surf        1\n",
      "27    1001_45     1001   2018-10-23   483.49      surf        1\n",
      "28    1001_47     1001   2018-12-07   317.01      surf        1\n",
      "29    1001_48     1001   2018-09-08   284.97      surf        1\n"
     ]
    }
   ],
   "source": [
    "def redondear(mb): #Creamos una función para el redondeo de MB a GB\n",
    "    if mb == 0.00:\n",
    "        mb = mb\n",
    "    elif mb < 1024:\n",
    "        mb = 1000\n",
    "    elif mb < 2048:\n",
    "        mb = 2000\n",
    "    return mb\n",
    "our_column = df_internet['mb_used']\n",
    "our_function = {'mb_used': redondear}\n",
    "prueba4= our_column.agg(our_function) #aplicamos nuestra nueva función\n",
    "prueba5= prueba4.reset_index() #arrojaba un error de índice, resetamos el índice\n",
    "prueba5=prueba4['mb_used'] #extraemos la columna que nos interesa\n",
    "df_internet['gb_used']= prueba5 #Asignamos nuestro resultado a una nueva columna\n",
    "df_internet['gb_used'] = df_internet['gb_used']/ 1000\n",
    "df_internet['gb_used'] = df_internet['gb_used'].astype('int')\n",
    "print(df_internet.head(30))"
   ]
  },
  {
   "cell_type": "code",
   "execution_count": 140,
   "metadata": {},
   "outputs": [
    {
     "data": {
      "text/plain": [
       "True"
      ]
     },
     "execution_count": 140,
     "metadata": {},
     "output_type": "execute_result"
    }
   ],
   "source": [
    "#comprobamos que es seguro cambiar a int la nueva columna creada con los valores redondeaos \n",
    "np.array_equal(df_internet['gb_used'], df_internet['gb_used'].astype('int'))\n"
   ]
  },
  {
   "cell_type": "code",
   "execution_count": 141,
   "metadata": {},
   "outputs": [
    {
     "name": "stdout",
     "output_type": "stream",
     "text": [
      "session_id      0\n",
      "user_id         0\n",
      "session_date    0\n",
      "mb_used         0\n",
      "plan_name       0\n",
      "gb_used         0\n",
      "dtype: int64\n"
     ]
    }
   ],
   "source": [
    "print(df_internet.isna().sum()) #Nos aseguramos que no tenemos ausentes después de todos los movimientos "
   ]
  },
  {
   "cell_type": "markdown",
   "metadata": {
    "id": "3UA2cqIW0q1E"
   },
   "source": [
    "## Estudiar las condiciones de las tarifas"
   ]
  },
  {
   "cell_type": "code",
   "execution_count": 142,
   "metadata": {
    "id": "i409op8p0q1F"
   },
   "outputs": [
    {
     "name": "stdout",
     "output_type": "stream",
     "text": [
      "   messages_included  mb_per_month_included  minutes_included  \\\n",
      "0                 50                  15360               500   \n",
      "1               1000                  30720              3000   \n",
      "\n",
      "   usd_monthly_pay  usd_per_gb  usd_per_message  usd_per_minute plan_name  \\\n",
      "0               20          10             0.03            0.03      surf   \n",
      "1               70           7             0.01            0.01  ultimate   \n",
      "\n",
      "   gb_per_month_included  \n",
      "0                  15.36  \n",
      "1                  30.72  \n"
     ]
    }
   ],
   "source": [
    "# Imprime las condiciones de la tarifa y asegúrate de que te quedan claras\n",
    "print(df_plans)\n"
   ]
  },
  {
   "cell_type": "markdown",
   "metadata": {
    "id": "hMR1tP5d0q1F"
   },
   "source": [
    "## Agregar datos por usuario\n"
   ]
  },
  {
   "cell_type": "code",
   "execution_count": 143,
   "metadata": {
    "id": "A332cedB0q1G"
   },
   "outputs": [
    {
     "name": "stdout",
     "output_type": "stream",
     "text": [
      "month  user_id\n",
      "1      1077        42\n",
      "       1196        42\n",
      "       1362        42\n",
      "       1185        23\n",
      "       1042        18\n",
      "       1214         5\n",
      "2      1077       111\n",
      "       1362       106\n",
      "       1246        84\n",
      "       1196        78\n",
      "       1214        63\n",
      "       1185        61\n",
      "       1408        53\n",
      "       1138        42\n",
      "       1359        39\n",
      "       1042        37\n",
      "       1498        37\n",
      "       1171        31\n",
      "       1261        14\n",
      "       1155        11\n",
      "Name: user_id, dtype: int64\n"
     ]
    }
   ],
   "source": [
    "# Calcula el número de llamadas hechas por cada usuario al mes. Guarda el resultado.\n",
    "df_calls['month'] = df_calls['call_date'].dt.month\n",
    "monthly_calls = df_calls.reset_index().groupby(['month'])['user_id'].value_counts()\n",
    "print(monthly_calls.head(20))"
   ]
  },
  {
   "cell_type": "code",
   "execution_count": 144,
   "metadata": {
    "id": "aw2cmuql0q1G"
   },
   "outputs": [
    {
     "name": "stdout",
     "output_type": "stream",
     "text": [
      "month  user_id\n",
      "1      1042       114\n",
      "       1077       290\n",
      "       1185       181\n",
      "       1196       287\n",
      "       1214        16\n",
      "       1362       292\n",
      "2      1042       254\n",
      "       1077       776\n",
      "       1099        39\n",
      "       1138       307\n",
      "Name: rounded_call_duration, dtype: int64\n"
     ]
    }
   ],
   "source": [
    "# Calcula la cantidad de minutos usados por cada usuario al mes. Guarda el resultado.\n",
    "monthly_minutes = df_calls.reset_index().groupby(['month','user_id'])['rounded_call_duration'].sum()\n",
    "print(monthly_minutes.head(10))"
   ]
  },
  {
   "cell_type": "code",
   "execution_count": 145,
   "metadata": {
    "id": "CcQvNHn60q1G"
   },
   "outputs": [
    {
     "name": "stdout",
     "output_type": "stream",
     "text": [
      "month  user_id\n",
      "1      1077       37\n",
      "       1196       23\n",
      "       1362       21\n",
      "       1214        2\n",
      "2      1077       67\n",
      "       1362       58\n",
      "       1408       29\n",
      "       1246       26\n",
      "       1196       23\n",
      "       1214       15\n",
      "       1028       12\n",
      "       1261       11\n",
      "       1155        8\n",
      "       1138        7\n",
      "       1099        3\n",
      "3      1077       72\n",
      "       1028       66\n",
      "       1362       59\n",
      "       1261       54\n",
      "       1434       45\n",
      "Name: user_id, dtype: int64\n"
     ]
    }
   ],
   "source": [
    "# Calcula el número de mensajes enviados por cada usuario al mes. Guarda el resultado.\n",
    "df_messages['month'] = df_messages['message_date'].dt.month\n",
    "monthly_sms = df_messages.reset_index().groupby(['month'])['user_id']\n",
    "monthly_sms = monthly_sms.value_counts()\n",
    "print(monthly_sms.head(20))"
   ]
  },
  {
   "cell_type": "code",
   "execution_count": 146,
   "metadata": {
    "id": "H1AqN2eG0q1H"
   },
   "outputs": [
    {
     "name": "stdout",
     "output_type": "stream",
     "text": [
      "month  user_id\n",
      "1      1042        7\n",
      "       1077       22\n",
      "       1185       21\n",
      "       1196       14\n",
      "       1214        4\n",
      "       1362       21\n",
      "2      1028       23\n",
      "       1042       14\n",
      "       1077       39\n",
      "       1099        1\n",
      "Name: gb_used, dtype: int64\n"
     ]
    }
   ],
   "source": [
    "# Calcula el volumen del tráfico de Internet usado por cada usuario al mes. Guarda el resultado.\n",
    "df_internet['month'] = df_internet['session_date'].dt.month\n",
    "monthly_gb = df_internet.reset_index().groupby(['month','user_id'])['gb_used'].sum()\n",
    "print(monthly_gb.head(10))"
   ]
  },
  {
   "cell_type": "code",
   "execution_count": 147,
   "metadata": {
    "id": "FW99ykyf0q1H"
   },
   "outputs": [
    {
     "name": "stdout",
     "output_type": "stream",
     "text": [
      "         month  number_of_calls  number_of_sms  rounded_call_duration  gb_used\n",
      "user_id                                                                       \n",
      "1042         1             18.0            NaN                  114.0      7.0\n",
      "1077         1             42.0           37.0                  290.0     22.0\n",
      "1185         1             23.0            NaN                  181.0     21.0\n",
      "1196         1             42.0           23.0                  287.0     14.0\n",
      "1214         1              5.0            2.0                   16.0      4.0\n",
      "1362         1             42.0           21.0                  292.0     21.0\n",
      "1028         2              NaN           12.0                    NaN     23.0\n",
      "1042         2             37.0            NaN                  254.0     14.0\n",
      "1077         2            111.0           67.0                  776.0     39.0\n",
      "1099         2              7.0            3.0                   39.0      1.0\n",
      "1138         2             42.0            7.0                  307.0     43.0\n",
      "1155         2             11.0            8.0                   90.0     11.0\n",
      "1171         2             31.0            NaN                  253.0     46.0\n",
      "1185         2             61.0            NaN                  388.0     52.0\n",
      "1196         2             78.0           23.0                  519.0     42.0\n",
      "1214         2             63.0           15.0                  428.0     55.0\n",
      "1246         2             84.0           26.0                  621.0     56.0\n",
      "1261         2             14.0           11.0                   56.0     15.0\n",
      "1359         2             39.0            NaN                  266.0     44.0\n",
      "1362         2            106.0           58.0                  811.0     32.0\n"
     ]
    }
   ],
   "source": [
    "# Fusiona los datos de llamadas, minutos, mensajes e Internet con base en user_id y month\n",
    "monthly_data = pd.concat([monthly_calls,monthly_sms,monthly_minutes,monthly_gb], axis='columns').reset_index(level=['month'])\n",
    "monthly_data.columns = ['month','number_of_calls','number_of_sms','rounded_call_duration','gb_used']\n",
    "print(monthly_data.head(20))"
   ]
  },
  {
   "cell_type": "code",
   "execution_count": 148,
   "metadata": {
    "id": "0dNOXHag0q1H"
   },
   "outputs": [
    {
     "name": "stdout",
     "output_type": "stream",
     "text": [
      "      user_id  month  number_of_calls  number_of_sms  rounded_call_duration  \\\n",
      "0        1042      1             18.0            NaN                  114.0   \n",
      "1575     1196      1             42.0           23.0                  287.0   \n",
      "1576     1214      1              5.0            2.0                   16.0   \n",
      "1574     1185      1             23.0            NaN                  181.0   \n",
      "1573     1077      1             42.0           37.0                  290.0   \n",
      "1        1362      1             42.0           21.0                  292.0   \n",
      "5        1171      2             31.0            NaN                  253.0   \n",
      "4        1138      2             42.0            7.0                  307.0   \n",
      "3        1099      2              7.0            3.0                   39.0   \n",
      "1582     1214      2             63.0           15.0                  428.0   \n",
      "\n",
      "      gb_used                                             city plan_name  \\\n",
      "0         7.0  Philadelphia-Camden-Wilmington, PA-NJ-DE-MD MSA      surf   \n",
      "1575     14.0           Los Angeles-Long Beach-Anaheim, CA MSA  ultimate   \n",
      "1576      4.0           San Francisco-Oakland-Berkeley, CA MSA  ultimate   \n",
      "1574     21.0           Louisville/Jefferson County, KY-IN MSA  ultimate   \n",
      "1573     22.0            Charlotte-Concord-Gastonia, NC-SC MSA  ultimate   \n",
      "1        21.0                   Denver-Aurora-Lakewood, CO MSA      surf   \n",
      "5        46.0               Boston-Cambridge-Newton, MA-NH MSA      surf   \n",
      "4        43.0         Riverside-San Bernardino-Ontario, CA MSA      surf   \n",
      "3         1.0        New York-Newark-Jersey City, NY-NJ-PA MSA      surf   \n",
      "1582     55.0           San Francisco-Oakland-Berkeley, CA MSA  ultimate   \n",
      "\n",
      "      messages_included  minutes_included  usd_monthly_pay  usd_per_gb  \\\n",
      "0                    50               500               20          10   \n",
      "1575               1000              3000               70           7   \n",
      "1576               1000              3000               70           7   \n",
      "1574               1000              3000               70           7   \n",
      "1573               1000              3000               70           7   \n",
      "1                    50               500               20          10   \n",
      "5                    50               500               20          10   \n",
      "4                    50               500               20          10   \n",
      "3                    50               500               20          10   \n",
      "1582               1000              3000               70           7   \n",
      "\n",
      "      usd_per_message  usd_per_minute  gb_per_month_included  \n",
      "0                0.03            0.03                  15.36  \n",
      "1575             0.01            0.01                  30.72  \n",
      "1576             0.01            0.01                  30.72  \n",
      "1574             0.01            0.01                  30.72  \n",
      "1573             0.01            0.01                  30.72  \n",
      "1                0.03            0.03                  15.36  \n",
      "5                0.03            0.03                  15.36  \n",
      "4                0.03            0.03                  15.36  \n",
      "3                0.03            0.03                  15.36  \n",
      "1582             0.01            0.01                  30.72  \n"
     ]
    }
   ],
   "source": [
    "# Añade la información de la tarifa\n",
    "monthly_merged = monthly_data.merge(df_users, on='user_id',how='left')\n",
    "monthly_with_fee = monthly_merged.merge(df_plans, on='plan_name', how='outer')\n",
    "monthly_with_fee = monthly_with_fee.drop(['first_name','last_name','age','reg_date','churn_date','mb_per_month_included'],axis='columns')\n",
    "print(monthly_with_fee.sort_values(by='month').head(10))"
   ]
  },
  {
   "cell_type": "code",
   "execution_count": 149,
   "metadata": {},
   "outputs": [
    {
     "name": "stdout",
     "output_type": "stream",
     "text": [
      "user_id                  0\n",
      "month                    0\n",
      "number_of_calls          0\n",
      "number_of_sms            0\n",
      "rounded_call_duration    0\n",
      "gb_used                  0\n",
      "city                     0\n",
      "plan_name                0\n",
      "messages_included        0\n",
      "minutes_included         0\n",
      "usd_monthly_pay          0\n",
      "usd_per_gb               0\n",
      "usd_per_message          0\n",
      "usd_per_minute           0\n",
      "gb_per_month_included    0\n",
      "dtype: int64\n"
     ]
    }
   ],
   "source": [
    "#sustituimos los valores ausentes por 0 pero en un DataFrame nuevo, ya que en este caso significa que el usuario mando 0 mensajes, hizo 0 llamadas y utilizó 0 mb\n",
    "monthly_with_fees = monthly_with_fee.fillna(0)\n",
    "print(monthly_with_fees.isna().sum())"
   ]
  },
  {
   "cell_type": "code",
   "execution_count": 150,
   "metadata": {
    "id": "5FGCf_c60q1I"
   },
   "outputs": [
    {
     "name": "stdout",
     "output_type": "stream",
     "text": [
      "   user_id  month  number_of_calls  number_of_sms  rounded_call_duration  \\\n",
      "0     1042      1             18.0            0.0                  114.0   \n",
      "1     1362      1             42.0           21.0                  292.0   \n",
      "2     1042      2             37.0            0.0                  254.0   \n",
      "3     1099      2              7.0            3.0                   39.0   \n",
      "4     1138      2             42.0            7.0                  307.0   \n",
      "\n",
      "   gb_used                                             city plan_name  \\\n",
      "0      7.0  Philadelphia-Camden-Wilmington, PA-NJ-DE-MD MSA      surf   \n",
      "1     21.0                   Denver-Aurora-Lakewood, CO MSA      surf   \n",
      "2     14.0  Philadelphia-Camden-Wilmington, PA-NJ-DE-MD MSA      surf   \n",
      "3      1.0        New York-Newark-Jersey City, NY-NJ-PA MSA      surf   \n",
      "4     43.0         Riverside-San Bernardino-Ontario, CA MSA      surf   \n",
      "\n",
      "   messages_included  minutes_included  ...  usd_per_gb  usd_per_message  \\\n",
      "0                 50               500  ...          10             0.03   \n",
      "1                 50               500  ...          10             0.03   \n",
      "2                 50               500  ...          10             0.03   \n",
      "3                 50               500  ...          10             0.03   \n",
      "4                 50               500  ...          10             0.03   \n",
      "\n",
      "   usd_per_minute  gb_per_month_included  limit_minutes  limit_messages  \\\n",
      "0            0.03                  15.36          386.0            50.0   \n",
      "1            0.03                  15.36          208.0            29.0   \n",
      "2            0.03                  15.36          246.0            50.0   \n",
      "3            0.03                  15.36          461.0            47.0   \n",
      "4            0.03                  15.36          193.0            43.0   \n",
      "\n",
      "   limit_gb  charge_extra_min  charge_extra_sms  charge_extra_gb  \n",
      "0      8.36               0.0               0.0              0.0  \n",
      "1     -5.64               0.0               0.0             56.4  \n",
      "2      1.36               0.0               0.0              0.0  \n",
      "3     14.36               0.0               0.0              0.0  \n",
      "4    -27.64               0.0               0.0            276.4  \n",
      "\n",
      "[5 rows x 21 columns]\n"
     ]
    }
   ],
   "source": [
    "# Calcula el ingreso mensual para cada usuario\n",
    "#Restamos lo incluido menos lo consumido\n",
    "monthly_with_fees['limit_minutes'] = monthly_with_fees['minutes_included'] - monthly_with_fees['rounded_call_duration']\n",
    "monthly_with_fees['limit_messages'] = monthly_with_fees['messages_included'] - monthly_with_fees['number_of_sms']\n",
    "monthly_with_fees['limit_gb'] = monthly_with_fees['gb_per_month_included'] - monthly_with_fees['gb_used']\n",
    "\n",
    "#multiplicamos por el valor extra en caso de que hayan excedido su paquete\n",
    "monthly_with_fees['charge_extra_min'] = monthly_with_fees['limit_minutes'] * (-monthly_with_fees['usd_per_minute'])\n",
    "monthly_with_fees['charge_extra_min'] = monthly_with_fees['charge_extra_min'].where(monthly_with_fees['charge_extra_min'] > 0 ,'0')\n",
    "\n",
    "monthly_with_fees['charge_extra_sms'] = monthly_with_fees['limit_messages'] * (-monthly_with_fees['usd_per_message'])\n",
    "monthly_with_fees['charge_extra_sms'] = monthly_with_fees['charge_extra_sms'].where(monthly_with_fees['charge_extra_sms'] > 0 ,'0')\n",
    "\n",
    "monthly_with_fees['charge_extra_gb'] = monthly_with_fees['limit_gb'] * (-monthly_with_fees['usd_per_gb'])\n",
    "monthly_with_fees['charge_extra_gb'] = monthly_with_fees['charge_extra_gb'].where(monthly_with_fees['charge_extra_gb'] > 0 ,'0')\n",
    "\n",
    "#cambiar el formato de las nuevas columnas de cargo de object a float\n",
    "monthly_with_fees['charge_extra_min'] = monthly_with_fees['charge_extra_min'].astype('float')\n",
    "monthly_with_fees['charge_extra_sms'] = monthly_with_fees['charge_extra_sms'].astype('float')\n",
    "monthly_with_fees['charge_extra_gb'] = monthly_with_fees['charge_extra_gb'].astype('float')\n",
    "\n",
    "print(monthly_with_fees.head())"
   ]
  },
  {
   "cell_type": "code",
   "execution_count": 151,
   "metadata": {},
   "outputs": [
    {
     "name": "stdout",
     "output_type": "stream",
     "text": [
      "0        20.00\n",
      "1        76.40\n",
      "2        20.00\n",
      "3        20.00\n",
      "4       296.40\n",
      "         ...  \n",
      "2288     70.00\n",
      "2289    134.96\n",
      "2290    484.96\n",
      "2291    106.96\n",
      "2292     70.00\n",
      "Name: total_charge, Length: 2293, dtype: float64\n"
     ]
    }
   ],
   "source": [
    "#calculamos el total a pagar por usuario al mes sumando las tarifas extra de minutos, mensajes y mb\n",
    "monthly_with_fees['total_charge'] = monthly_with_fees['usd_monthly_pay'] + monthly_with_fees['charge_extra_min'] + monthly_with_fees['charge_extra_sms'] + monthly_with_fees['charge_extra_gb']\n",
    "print(monthly_with_fees['total_charge'])"
   ]
  },
  {
   "cell_type": "code",
   "execution_count": 152,
   "metadata": {},
   "outputs": [
    {
     "name": "stdout",
     "output_type": "stream",
     "text": [
      "<class 'pandas.core.frame.DataFrame'>\n",
      "Int64Index: 2293 entries, 0 to 2292\n",
      "Data columns (total 22 columns):\n",
      " #   Column                 Non-Null Count  Dtype  \n",
      "---  ------                 --------------  -----  \n",
      " 0   user_id                2293 non-null   int64  \n",
      " 1   month                  2293 non-null   int64  \n",
      " 2   number_of_calls        2293 non-null   float64\n",
      " 3   number_of_sms          2293 non-null   float64\n",
      " 4   rounded_call_duration  2293 non-null   float64\n",
      " 5   gb_used                2293 non-null   float64\n",
      " 6   city                   2293 non-null   object \n",
      " 7   plan_name              2293 non-null   object \n",
      " 8   messages_included      2293 non-null   int64  \n",
      " 9   minutes_included       2293 non-null   int64  \n",
      " 10  usd_monthly_pay        2293 non-null   int64  \n",
      " 11  usd_per_gb             2293 non-null   int64  \n",
      " 12  usd_per_message        2293 non-null   float64\n",
      " 13  usd_per_minute         2293 non-null   float64\n",
      " 14  gb_per_month_included  2293 non-null   float64\n",
      " 15  limit_minutes          2293 non-null   float64\n",
      " 16  limit_messages         2293 non-null   float64\n",
      " 17  limit_gb               2293 non-null   float64\n",
      " 18  charge_extra_min       2293 non-null   float64\n",
      " 19  charge_extra_sms       2293 non-null   float64\n",
      " 20  charge_extra_gb        2293 non-null   float64\n",
      " 21  total_charge           2293 non-null   float64\n",
      "dtypes: float64(14), int64(6), object(2)\n",
      "memory usage: 412.0+ KB\n"
     ]
    }
   ],
   "source": [
    "monthly_with_fees.info()"
   ]
  },
  {
   "cell_type": "markdown",
   "metadata": {
    "id": "-jtyHzJb0q1I"
   },
   "source": [
    "## Estudia el comportamiento de usuario"
   ]
  },
  {
   "cell_type": "markdown",
   "metadata": {
    "id": "vtW4CJEe0q1J"
   },
   "source": [
    "### Llamadas"
   ]
  },
  {
   "cell_type": "code",
   "execution_count": 153,
   "metadata": {
    "id": "Jf5v5--k0q1J"
   },
   "outputs": [
    {
     "name": "stdout",
     "output_type": "stream",
     "text": [
      "       ultimate      surf\n",
      "month                    \n",
      "1      6.910714  6.766667\n",
      "2      6.916667  7.303279\n",
      "3      6.614130  7.106742\n",
      "4      7.088176  7.191899\n",
      "5      7.054491  7.173700\n",
      "6      7.110522  7.251863\n",
      "7      7.276061  7.124836\n",
      "8      7.015709  7.124718\n",
      "9      7.166857  7.128537\n",
      "10     7.066706  7.120604\n",
      "11     7.138889  7.160421\n",
      "12     7.073878  7.239358\n",
      "El promedio anual del plan ultimate 7.036066746002386\n",
      "El promedio anual del plan surf 7.14105201143764\n"
     ]
    },
    {
     "data": {
      "image/png": "[encoded data removed]",
      "text/plain": [
       "<Figure size 640x480 with 1 Axes>"
      ]
     },
     "metadata": {},
     "output_type": "display_data"
    }
   ],
   "source": [
    "# Compara la duración promedio de llamadas por cada plan y por cada mes. Traza un gráfico de barras para visualizarla.\n",
    "average_call_ultimate = df_calls.query(\"plan_name == 'ultimate'\").groupby('month')['rounded_call_duration'].mean()\n",
    "\n",
    "average_call_surf = df_calls.query(\"plan_name == 'surf'\").groupby('month')['rounded_call_duration'].mean()\n",
    "\n",
    "average_call_plan = pd.concat([average_call_ultimate, average_call_surf], axis='columns')\n",
    "average_call_plan.columns = ['ultimate','surf']\n",
    "print(average_call_plan)\n",
    "print('El promedio anual del plan ultimate',average_call_plan['ultimate'].mean())\n",
    "print('El promedio anual del plan surf',average_call_plan['surf'].mean())\n",
    "\n",
    "average_call_plan.plot(y= ['ultimate','surf'],\n",
    "                      title= 'Average call duration per plan and per month',\n",
    "                      xlabel= 'Month',\n",
    "                      ylabel= 'Minutes',\n",
    "                      kind= 'bar')\n",
    "plt.legend(['Ultimate Plan','Surf Plan'])\n",
    "plt.show()"
   ]
  },
  {
   "cell_type": "code",
   "execution_count": 155,
   "metadata": {
    "id": "QoLqW1S_0q1J"
   },
   "outputs": [
    {
     "name": "stdout",
     "output_type": "stream",
     "text": [
      "         ultimate        surf\n",
      "month                        \n",
      "1      193.500000  203.000000\n",
      "2      403.142857  297.000000\n",
      "3      304.250000  330.000000\n",
      "4      336.857143  351.540000\n",
      "5      406.241379  399.584416\n",
      "6      370.957447  431.298969\n",
      "7      427.067797  449.983471\n",
      "8      421.436620  410.111111\n",
      "9      437.511628  414.226804\n",
      "10     450.735849  429.729958\n",
      "11     445.196850  423.325088\n",
      "12     459.099338  473.836478\n",
      "El promedio anual del plan ultimate 387.99974229608006\n",
      "El promedio anual del plan surf 384.4696912581946\n"
     ]
    },
    {
     "data": {
      "image/png": "[encoded data removed]",
      "text/plain": [
       "<Figure size 640x480 with 1 Axes>"
      ]
     },
     "metadata": {},
     "output_type": "display_data"
    }
   ],
   "source": [
    "# Compara el número de minutos mensuales que necesitan los usuarios de cada plan. Traza un histograma.\n",
    "average_min_ultimate = monthly_with_fees.query(\"plan_name == 'ultimate'\").groupby('month')['rounded_call_duration'].mean()\n",
    "\n",
    "average_min_surf = monthly_with_fees.query(\"plan_name == 'surf'\").groupby('month')['rounded_call_duration'].mean()\n",
    "\n",
    "average_min_plan = pd.concat([average_min_ultimate, average_min_surf], axis='columns')\n",
    "average_min_plan.columns = ['ultimate','surf']\n",
    "print(average_min_plan)\n",
    "print('El promedio anual del plan ultimate',average_min_plan['ultimate'].mean())\n",
    "print('El promedio anual del plan surf',average_min_plan['surf'].mean())\n",
    "\n",
    "average_min_ultimate.plot(kind='hist',\n",
    "                      bins=12,\n",
    "                      title= 'Average of minutes needed monthly per plan'\n",
    "                         )\n",
    "\n",
    "average_min_surf.plot(kind='hist',\n",
    "                      bins=12,\n",
    "                      alpha=0.3)\n",
    "\n",
    "plt.legend(['Ultimate Plan','Surf Plan'])\n",
    "plt.show()"
   ]
  },
  {
   "cell_type": "code",
   "execution_count": 156,
   "metadata": {
    "id": "oSndbAnt0q1K"
   },
   "outputs": [
    {
     "name": "stdout",
     "output_type": "stream",
     "text": [
      "month\n",
      "1     6.910714\n",
      "2     6.916667\n",
      "3     6.614130\n",
      "4     7.088176\n",
      "5     7.054491\n",
      "6     7.110522\n",
      "7     7.276061\n",
      "8     7.015709\n",
      "9     7.166857\n",
      "10    7.066706\n",
      "11    7.138889\n",
      "12    7.073878\n",
      "Name: rounded_call_duration, dtype: float64\n",
      "La varianza en el plan ultimate: 0.02538808705613074\n",
      "La desviación estándar en el plan ultimate: 0.1593363958928742\n",
      "\n",
      "month\n",
      "1     6.766667\n",
      "2     7.303279\n",
      "3     7.106742\n",
      "4     7.191899\n",
      "5     7.173700\n",
      "6     7.251863\n",
      "7     7.124836\n",
      "8     7.124718\n",
      "9     7.128537\n",
      "10    7.120604\n",
      "11    7.160421\n",
      "12    7.239358\n",
      "Name: rounded_call_duration, dtype: float64\n",
      "La varianza en el plan surf: 0.016227769247608492\n",
      "La desviación estándar en el plan surf: 0.1273882618124939\n"
     ]
    }
   ],
   "source": [
    "# Calcula la media y la varianza de la duración mensual de llamadas.\n",
    "print(average_call_ultimate)\n",
    "var_call_ultimate = np.var(average_call_ultimate)\n",
    "deviation_call_ultimate = np.sqrt(var_call_ultimate)\n",
    "print('La varianza en el plan ultimate:',var_call_ultimate)\n",
    "print('La desviación estándar en el plan ultimate:',deviation_call_ultimate)\n",
    "print()\n",
    "print(average_call_surf)\n",
    "var_call_surf = np.var(average_call_surf)\n",
    "deviation_call_surf = np.sqrt(var_call_surf)\n",
    "print('La varianza en el plan surf:',var_call_surf)\n",
    "print('La desviación estándar en el plan surf:',deviation_call_surf)"
   ]
  },
  {
   "cell_type": "code",
   "execution_count": 157,
   "metadata": {
    "id": "nZzoRUKc0q1K"
   },
   "outputs": [
    {
     "name": "stdout",
     "output_type": "stream",
     "text": [
      "El diagrama color naranja es del plan ultimate\n",
      "El diagrama color verde es del plan surf\n"
     ]
    },
    {
     "data": {
      "image/png": "[encoded data removed]",
      "text/plain": [
       "<Figure size 640x480 with 1 Axes>"
      ]
     },
     "metadata": {},
     "output_type": "display_data"
    }
   ],
   "source": [
    "# Traza un diagrama de caja para visualizar la distribución de la duración mensual de llamadas\n",
    "sns.boxplot(x=average_call_ultimate,\n",
    "            color = \"orange\") \n",
    "\n",
    "sns.boxplot(x=average_call_surf,\n",
    "            color= 'green',\n",
    "            linewidth = 2) \n",
    "print('El diagrama color naranja es del plan ultimate')\n",
    "print('El diagrama color verde es del plan surf')"
   ]
  },
  {
   "cell_type": "markdown",
   "metadata": {},
   "source": [
    "- **Podemos ver que 9 de 12 meses los usuarios del plan Surf su promedio de minutos duran más que los del plan Ultimate, sin embargo en ambos planes la duración en promedio es de 7 minutos**\n",
    "- **En cuanto a la cantidad de minutos usados al mes, podemos ver que en el caso del plan Ultimate se usan más minutos, al menos 8 de 12  meses tiene un promedio por arriba de 400minutos, teniendo en cuenta que tienen incluidos 3000minutos podríamos pensar que usarían mucho más. En el caso del plan Surf al tener incluidos 500, si están más cerca de su límite.**\n",
    "- **Vemos que el plan Surf está sesgado a la derecha e inluso su media es mayor que la media del plan Ultimate, basado en nuestro diagrama de caja podemos concluir que las llamadas de los usuarios del plan Surf son más largas que los del plan Ultimate**"
   ]
  },
  {
   "cell_type": "markdown",
   "metadata": {
    "id": "8idKy8Wh0q1L"
   },
   "source": [
    "### Mensajes"
   ]
  },
  {
   "cell_type": "code",
   "execution_count": 158,
   "metadata": {
    "id": "NXLxiTit0q1L"
   },
   "outputs": [
    {
     "name": "stdout",
     "output_type": "stream",
     "text": [
      "    month   ultimate       surf\n",
      "0       1  15.500000  10.500000\n",
      "1       2  21.571429  12.000000\n",
      "2       3  20.250000  15.260870\n",
      "3       4  22.047619  17.400000\n",
      "4       5  32.103448  24.012987\n",
      "5       6  29.340426  25.298969\n",
      "6       7  32.830508  27.033058\n",
      "7       8  38.478873  28.777778\n",
      "8       9  37.895349  30.762887\n",
      "9      10  39.443396  33.839662\n",
      "10     11  38.606299  32.385159\n",
      "11     12  45.006623  38.600629\n",
      "El promedio de mensajes anual del plan ultimate 31.08949749446805\n",
      "El promedio de mensajes anual del plan surf 24.655999855500053\n"
     ]
    },
    {
     "data": {
      "image/png": "[encoded data removed]",
      "text/plain": [
       "<Figure size 640x480 with 1 Axes>"
      ]
     },
     "metadata": {},
     "output_type": "display_data"
    }
   ],
   "source": [
    "# Comprara el número de mensajes que tienden a enviar cada mes los usuarios de cada plan\n",
    "average_sms_ultimate = monthly_with_fees.query(\"plan_name == 'ultimate'\").groupby('month')['number_of_sms'].mean()\n",
    "\n",
    "average_sms_surf = monthly_with_fees.query(\"plan_name == 'surf'\").groupby('month')['number_of_sms'].mean()\n",
    "\n",
    "average_sms_plan = pd.concat([average_sms_ultimate, average_sms_surf], axis='columns').reset_index()\n",
    "average_sms_plan.columns = ['month','ultimate','surf']\n",
    "print(average_sms_plan)\n",
    "print('El promedio de mensajes anual del plan ultimate',average_sms_plan['ultimate'].mean())\n",
    "print('El promedio de mensajes anual del plan surf',average_sms_plan['surf'].mean())\n",
    "\n",
    "average_sms_plan.plot(y= ['ultimate','surf'],\n",
    "                      title= 'Average number of messages per plan and per month',\n",
    "                      xlabel= 'Month',\n",
    "                      ylabel= 'Number of messages',\n",
    "                      kind= 'bar')\n",
    "plt.legend(['Ultimate Plan','Surf Plan'])\n",
    "plt.show()\n"
   ]
  },
  {
   "cell_type": "code",
   "execution_count": 159,
   "metadata": {
    "id": "GRI_R7xF0q1L"
   },
   "outputs": [
    {
     "name": "stdout",
     "output_type": "stream",
     "text": [
      "month\n",
      "1     15.500000\n",
      "2     21.571429\n",
      "3     20.250000\n",
      "4     22.047619\n",
      "5     32.103448\n",
      "6     29.340426\n",
      "7     32.830508\n",
      "8     38.478873\n",
      "9     37.895349\n",
      "10    39.443396\n",
      "11    38.606299\n",
      "12    45.006623\n",
      "Name: number_of_sms, dtype: float64\n",
      "La varianza en el plan ultimate: 80.07446628813626\n",
      "La desviación estándar en el plan ultimate: 8.948433733795891\n",
      "\n",
      "month\n",
      "1     10.500000\n",
      "2     12.000000\n",
      "3     15.260870\n",
      "4     17.400000\n",
      "5     24.012987\n",
      "6     25.298969\n",
      "7     27.033058\n",
      "8     28.777778\n",
      "9     30.762887\n",
      "10    33.839662\n",
      "11    32.385159\n",
      "12    38.600629\n",
      "Name: number_of_sms, dtype: float64\n",
      "La varianza en el plan surf: 75.06477581565973\n",
      "La desviación estándar en el plan surf: 8.663993064151178\n"
     ]
    }
   ],
   "source": [
    "# Calcula la varianza y la desviación estándar de los mensajes que tienden a enviar cada mes\n",
    "print(average_sms_ultimate)\n",
    "var_sms_ultimate = np.var(average_sms_ultimate)\n",
    "deviation_sms_ultimate = np.sqrt(var_sms_ultimate)\n",
    "print('La varianza en el plan ultimate:',var_sms_ultimate)\n",
    "print('La desviación estándar en el plan ultimate:',deviation_sms_ultimate)\n",
    "print()\n",
    "print(average_sms_surf)\n",
    "var_sms_surf = np.var(average_sms_surf)\n",
    "deviation_sms_surf = np.sqrt(var_sms_surf)\n",
    "print('La varianza en el plan surf:',var_sms_surf)\n",
    "print('La desviación estándar en el plan surf:',deviation_sms_surf)"
   ]
  },
  {
   "cell_type": "code",
   "execution_count": 160,
   "metadata": {
    "id": "dtFwCGAp0q1M"
   },
   "outputs": [
    {
     "name": "stdout",
     "output_type": "stream",
     "text": [
      "El diagrama color azul es del plan ultimate\n",
      "El diagrama color verde es del plan surf\n"
     ]
    },
    {
     "data": {
      "image/png": "[encoded data removed]",
      "text/plain": [
       "<Figure size 640x480 with 1 Axes>"
      ]
     },
     "metadata": {},
     "output_type": "display_data"
    }
   ],
   "source": [
    "# Traza un diagrama de caja para visualizar la distribución del promedio de los mensajes que tienden a enviar cada mes\n",
    "sns.boxplot(x= \"ultimate\",\n",
    "            data = average_sms_plan,\n",
    "            color= \"lightblue\",\n",
    "            linewidth = 4\n",
    "           )\n",
    "sns.boxplot(x= \"surf\", \n",
    "            data = average_sms_plan,\n",
    "           color = \"limegreen\")\n",
    "\n",
    "print('El diagrama color azul es del plan ultimate')\n",
    "print('El diagrama color verde es del plan surf')"
   ]
  },
  {
   "cell_type": "code",
   "execution_count": 161,
   "metadata": {},
   "outputs": [
    {
     "data": {
      "text/plain": [
       "Text(0.5, 1.0, '')"
      ]
     },
     "execution_count": 161,
     "metadata": {},
     "output_type": "execute_result"
    },
    {
     "data": {
      "image/png": "[encoded data removed]",
      "text/plain": [
       "<Figure size 600x600 with 1 Axes>"
      ]
     },
     "metadata": {},
     "output_type": "display_data"
    }
   ],
   "source": [
    "# Traza un diagrama de caja para visualizar la distribución de los mensajes en general\n",
    "ax = monthly_with_fees.boxplot(column=\"number_of_sms\", by=\"plan_name\", figsize=(6,6))\n",
    "ax.set_ylabel(\"Number of messages\")\n",
    "ax.set_title(\"\")"
   ]
  },
  {
   "cell_type": "markdown",
   "metadata": {},
   "source": [
    "- **Podemos observar que los usuarios del plan Ultimate enviaron más mensajes que los usuarios del plan Surf en todos los meses**\n",
    "- **Teniendo en cuenta que en el plan Ultimate tienen incluidos 1000sms y el máximo promedio que enviaron fueron 45, significa que no usan demasiado este beneficio**\n",
    "- **En cambio en el plan Surf tienen incluidos 50sms y su promedio máximo está por debajo de los 40 mensajes al mes, lo cual está más acorde con su uso y el beneficio que tienen**\n",
    "- **De acuerdo a nuestro diagrama de caja, podemos observar que la media del plan Ultimate es mayor que la del plan Surf, y teniendo en cuenta los valores mínimos y máximos de ambos, podemos concluir que los usuarios del plan Ultimate envían más mensajes**"
   ]
  },
  {
   "cell_type": "markdown",
   "metadata": {
    "id": "42YSypXz0q1M"
   },
   "source": [
    "### Internet"
   ]
  },
  {
   "cell_type": "code",
   "execution_count": 162,
   "metadata": {
    "id": "lSuKPtjh0q1M"
   },
   "outputs": [
    {
     "name": "stdout",
     "output_type": "stream",
     "text": [
      "    month   ultimate       surf\n",
      "0       1  15.250000  14.000000\n",
      "1       2  39.714286  30.000000\n",
      "2       3  40.250000  31.260870\n",
      "3       4  38.428571  28.880000\n",
      "4       5  39.310345  33.844156\n",
      "5       6  35.851064  37.515464\n",
      "6       7  39.644068  40.264463\n",
      "7       8  42.619718  40.277778\n",
      "8       9  40.465116  40.221649\n",
      "9      10  41.556604  41.987342\n",
      "10     11  40.732283  39.957597\n",
      "11     12  44.377483  43.949686\n",
      "El promedio de GB anual del plan ultimate 38.18329490563585\n",
      "El promedio de GB anual del plan surf 35.17991698991819\n"
     ]
    },
    {
     "data": {
      "image/png": "[encoded data removed]",
      "text/plain": [
       "<Figure size 640x480 with 1 Axes>"
      ]
     },
     "metadata": {},
     "output_type": "display_data"
    }
   ],
   "source": [
    "# Compara la cantidad de tráfico de Internet consumido por usuarios por plan\n",
    "average_gb_ultimate = monthly_with_fees.query(\"plan_name == 'ultimate'\").groupby('month')['gb_used'].mean()\n",
    "\n",
    "average_gb_surf = monthly_with_fees.query(\"plan_name == 'surf'\").groupby('month')['gb_used'].mean()\n",
    "\n",
    "average_gb_plan = pd.concat([average_gb_ultimate, average_gb_surf], axis='columns').reset_index()\n",
    "average_gb_plan.columns = ['month','ultimate','surf']\n",
    "print(average_gb_plan)\n",
    "print('El promedio de GB anual del plan ultimate',average_gb_plan['ultimate'].mean())\n",
    "print('El promedio de GB anual del plan surf',average_gb_plan['surf'].mean())\n",
    "\n",
    "average_gb_plan.plot(y= ['ultimate','surf'],\n",
    "                      title= 'Average GB used per plan and per month',\n",
    "                      xlabel= 'Month',\n",
    "                      ylabel= 'GB',\n",
    "                      kind= 'bar')\n",
    "plt.legend(['Ultimate Plan','Surf Plan'])\n",
    "plt.show()\n"
   ]
  },
  {
   "cell_type": "code",
   "execution_count": 163,
   "metadata": {
    "id": "wnh8jYXi0q1N"
   },
   "outputs": [
    {
     "name": "stdout",
     "output_type": "stream",
     "text": [
      "month\n",
      "1     15.250000\n",
      "2     39.714286\n",
      "3     40.250000\n",
      "4     38.428571\n",
      "5     39.310345\n",
      "6     35.851064\n",
      "7     39.644068\n",
      "8     42.619718\n",
      "9     40.465116\n",
      "10    41.556604\n",
      "11    40.732283\n",
      "12    44.377483\n",
      "Name: gb_used, dtype: float64\n",
      "La varianza en el plan ultimate: 51.882322316722735\n",
      "La desviación estándar en el plan ultimate: 7.202938450155099\n",
      "\n",
      "month\n",
      "1     14.000000\n",
      "2     30.000000\n",
      "3     31.260870\n",
      "4     28.880000\n",
      "5     33.844156\n",
      "6     37.515464\n",
      "7     40.264463\n",
      "8     40.277778\n",
      "9     40.221649\n",
      "10    41.987342\n",
      "11    39.957597\n",
      "12    43.949686\n",
      "Name: gb_used, dtype: float64\n",
      "La varianza en el plan surf: 63.42027546585198\n",
      "La desviación estándar en el plan surf: 7.963684791969857\n"
     ]
    }
   ],
   "source": [
    "# Calcula la varianza y la desviación estándar de la cantidad de tráfico de Internet consumido por usuarios por plan\n",
    "print(average_gb_ultimate)\n",
    "var_gb_ultimate = np.var(average_gb_ultimate)\n",
    "deviation_gb_ultimate = np.sqrt(var_gb_ultimate)\n",
    "print('La varianza en el plan ultimate:',var_gb_ultimate)\n",
    "print('La desviación estándar en el plan ultimate:',deviation_gb_ultimate)\n",
    "print()\n",
    "print(average_gb_surf)\n",
    "var_gb_surf = np.var(average_gb_surf)\n",
    "deviation_gb_surf = np.sqrt(var_gb_surf)\n",
    "print('La varianza en el plan surf:',var_gb_surf)\n",
    "print('La desviación estándar en el plan surf:',deviation_gb_surf)"
   ]
  },
  {
   "cell_type": "code",
   "execution_count": 164,
   "metadata": {
    "id": "5VlyJ9ry0q1N"
   },
   "outputs": [
    {
     "name": "stdout",
     "output_type": "stream",
     "text": [
      "El diagrama color azul es del plan ultimate\n",
      "El diagrama color verde es del plan surf\n"
     ]
    },
    {
     "data": {
      "image/png": "[encoded data removed]",
      "text/plain": [
       "<Figure size 640x480 with 1 Axes>"
      ]
     },
     "metadata": {},
     "output_type": "display_data"
    }
   ],
   "source": [
    "# Traza un diagrama de caja para visualizar la distribución del promedio de la cantidad de tráfico de Internet consumido por usuarios\n",
    "sns.boxplot(x= \"ultimate\",\n",
    "            data = average_gb_plan,\n",
    "            color= \"lightblue\",\n",
    "            linewidth = 4\n",
    "           )\n",
    "sns.boxplot(x= \"surf\", \n",
    "            data = average_gb_plan,\n",
    "           color = \"limegreen\")\n",
    "\n",
    "print('El diagrama color azul es del plan ultimate')\n",
    "print('El diagrama color verde es del plan surf')"
   ]
  },
  {
   "cell_type": "code",
   "execution_count": 165,
   "metadata": {},
   "outputs": [
    {
     "data": {
      "text/plain": [
       "Text(0.5, 1.0, '')"
      ]
     },
     "execution_count": 165,
     "metadata": {},
     "output_type": "execute_result"
    },
    {
     "data": {
      "image/png": "[encoded data removed]",
      "text/plain": [
       "<Figure size 600x600 with 1 Axes>"
      ]
     },
     "metadata": {},
     "output_type": "display_data"
    }
   ],
   "source": [
    "# Traza un diagrama de caja para visualizar la distribución de los MB usados en general\n",
    "ax = monthly_with_fees.boxplot(column=\"gb_used\", by=\"plan_name\", figsize=(6,6))\n",
    "ax.set_ylabel(\"GB\")\n",
    "ax.set_title(\"\")"
   ]
  },
  {
   "cell_type": "markdown",
   "metadata": {},
   "source": [
    "- **Podemos notar que los usuarios del plan Ultimate usaron más GB excepto en los meses de Junio, Julio y Septiembre**\n",
    "- **Teniendo en cuenta que los usuarios del plan Ultimate tienen 30GB incluidos, su promedio excede los 38GB**\n",
    "- **En el caso del plan Surf, tienen 15 GB incluidos, sólo en el mes de Enero no exceden, pero el resto del año exceden su paquete incluído al doble y casi al triple**\n",
    "- **De acuerdo a nuestro diagrama de caja de promedio, podemos notar que tanto la media y su valor mínimo son mayores en el plan Ultimate, sin embargo el valor máximo es del plan Surf, además que tenemos muchos valores atípicos en ambos planes**\n",
    "- **Al tener un diagrama general, tambíen podemos notar gracias a los valores atípicos que en el caso del Plan Surf, a pesar de tener incluidos solo 15GB, existen usuarios que exceden hasta 8 veces su límite**"
   ]
  },
  {
   "cell_type": "markdown",
   "metadata": {
    "id": "tCijq3260q1N"
   },
   "source": [
    "## Ingreso"
   ]
  },
  {
   "cell_type": "code",
   "execution_count": 166,
   "metadata": {},
   "outputs": [
    {
     "name": "stdout",
     "output_type": "stream",
     "text": [
      "El numero total de usuarios del plan ultimate 161\n",
      "El numero total de usuarios del plan ultimate 339\n"
     ]
    }
   ],
   "source": [
    "#Obtenemos el número total de usuarios por plan\n",
    "total_user_ultimate = df_users.query(\"plan_name == 'ultimate'\")['user_id'].count()\n",
    "total_user_surf = df_users.query(\"plan_name == 'surf'\")['user_id'].count()\n",
    "print('El numero total de usuarios del plan ultimate',total_user_ultimate)\n",
    "print('El numero total de usuarios del plan ultimate',total_user_surf)\n"
   ]
  },
  {
   "cell_type": "code",
   "execution_count": 167,
   "metadata": {
    "id": "tz-dq_V00q1O",
    "scrolled": true
   },
   "outputs": [
    {
     "name": "stdout",
     "output_type": "stream",
     "text": [
      "    month    ultimate        surf\n",
      "0       1   70.000000   48.200000\n",
      "1       2  160.400000  185.330000\n",
      "2       3  186.060000  204.150000\n",
      "3       4  157.733333  179.318600\n",
      "4       5  152.831724  223.004805\n",
      "5       6  141.864681  253.235052\n",
      "6       7  159.410169  282.112066\n",
      "7       8  170.488451  282.341049\n",
      "8       9  153.957674  277.015825\n",
      "9      10  160.336981  295.488734\n",
      "10     11  160.182047  276.514523\n",
      "11     12  178.966358  313.495409\n",
      "El promedio de cargo anual del plan ultimate 154.35261824406217\n",
      "El promedio de cargo anual del plan surf 235.0171719110274\n"
     ]
    },
    {
     "data": {
      "image/png": "[encoded data removed]",
      "text/plain": [
       "<Figure size 640x480 with 1 Axes>"
      ]
     },
     "metadata": {},
     "output_type": "display_data"
    }
   ],
   "source": [
    "#Promedio de la tarifa total que pagan los usuarios al mes por plan\n",
    "average_fee_ultimate = monthly_with_fees.query(\"plan_name == 'ultimate'\").groupby('month')['total_charge'].mean()\n",
    "\n",
    "average_fee_surf = monthly_with_fees.query(\"plan_name == 'surf'\").groupby('month')['total_charge'].mean()\n",
    "\n",
    "average_fee_plan = pd.concat([average_fee_ultimate, average_fee_surf], axis='columns').reset_index()\n",
    "average_fee_plan.columns = ['month','ultimate','surf']\n",
    "print(average_fee_plan)\n",
    "\n",
    "print('El promedio de cargo anual del plan ultimate',average_fee_plan['ultimate'].mean())\n",
    "print('El promedio de cargo anual del plan surf',average_fee_plan['surf'].mean())\n",
    "\n",
    "average_fee_plan.plot(y= ['ultimate','surf'],\n",
    "                      title= 'Average total income per plan and per month',\n",
    "                      xlabel= 'Month',\n",
    "                      ylabel= 'USD',\n",
    "                      kind= 'bar')\n",
    "plt.legend(['Ultimate Plan','Surf Plan'])\n",
    "plt.show()\n"
   ]
  },
  {
   "cell_type": "code",
   "execution_count": 168,
   "metadata": {
    "id": "0Y1v8ZUz0q1P"
   },
   "outputs": [
    {
     "name": "stdout",
     "output_type": "stream",
     "text": [
      "    month    ultimate        surf\n",
      "0       1    0.000000   28.200000\n",
      "1       2   90.400000  164.266667\n",
      "2       3  116.060000  183.426087\n",
      "3       4   87.733333  158.208000\n",
      "4       5   82.831724  201.220779\n",
      "5       6   71.864681  231.484536\n",
      "6       7   89.410169  259.768595\n",
      "7       8  100.488451  260.508642\n",
      "8       9   83.957674  255.393814\n",
      "9      10   90.336981  273.443038\n",
      "10     11   90.182047  254.552650\n",
      "11     12  108.966358  290.642767\n",
      "El promedio de cargo extra por GB anual del plan ultimate 84.35261824406227\n",
      "El promedio de cargo extra por GB anual del plan surf 213.42629798525203\n"
     ]
    },
    {
     "data": {
      "image/png": "[encoded data removed]",
      "text/plain": [
       "<Figure size 640x480 with 1 Axes>"
      ]
     },
     "metadata": {},
     "output_type": "display_data"
    }
   ],
   "source": [
    "#Promedio de la tarifa extra por GB que pagan los usuarios al mes por plan\n",
    "gb_fee_ultimate = monthly_with_fees.query(\"plan_name == 'ultimate'\").groupby('month')['charge_extra_gb'].mean()\n",
    "\n",
    "gb_fee_surf = monthly_with_fees.query(\"plan_name == 'surf'\").groupby('month')['charge_extra_gb'].mean()\n",
    "\n",
    "gb_fee_plan = pd.concat([gb_fee_ultimate, gb_fee_surf], axis='columns').reset_index()\n",
    "gb_fee_plan.columns = ['month','ultimate','surf']\n",
    "print(gb_fee_plan)\n",
    "\n",
    "print('El promedio de cargo extra por GB anual del plan ultimate',gb_fee_plan['ultimate'].mean())\n",
    "print('El promedio de cargo extra por GB anual del plan surf',gb_fee_plan['surf'].mean())\n",
    "\n",
    "gb_fee_plan.plot(y= ['ultimate','surf'],\n",
    "                      title= 'Average extra charge for GB per plan and per month',\n",
    "                      xlabel= 'Month',\n",
    "                      ylabel= 'USD',\n",
    "                      kind= 'bar')\n",
    "plt.legend(['Ultimate Plan','Surf Plan'])\n",
    "plt.show()"
   ]
  },
  {
   "cell_type": "code",
   "execution_count": 169,
   "metadata": {
    "id": "bYmwxyVh0q1P"
   },
   "outputs": [
    {
     "name": "stdout",
     "output_type": "stream",
     "text": [
      "    month  ultimate      surf\n",
      "0       1       0.0  0.000000\n",
      "1       2       0.0  1.036667\n",
      "2       3       0.0  0.706957\n",
      "3       4       0.0  1.058400\n",
      "4       5       0.0  1.658571\n",
      "5       6       0.0  1.601134\n",
      "6       7       0.0  2.198182\n",
      "7       8       0.0  1.652222\n",
      "8       9       0.0  1.435979\n",
      "9      10       0.0  1.794304\n",
      "10     11       0.0  1.751131\n",
      "11     12       0.0  2.533585\n",
      "El promedio de cargo por minuto extra anual del plan ultimate 0.0\n",
      "El promedio de cargo por minuto extra anual del plan surf 1.4522609587184439\n"
     ]
    },
    {
     "data": {
      "image/png": "[encoded data removed]",
      "text/plain": [
       "<Figure size 640x480 with 1 Axes>"
      ]
     },
     "metadata": {},
     "output_type": "display_data"
    }
   ],
   "source": [
    "#Promedio de la tarifa extra por cada minuto excedente que pagan los usuarios al mes por plan\n",
    "min_fee_ultimate = monthly_with_fees.query(\"plan_name == 'ultimate'\").groupby('month')['charge_extra_min'].mean()\n",
    "\n",
    "min_fee_surf = monthly_with_fees.query(\"plan_name == 'surf'\").groupby('month')['charge_extra_min'].mean()\n",
    "\n",
    "min_fee_plan = pd.concat([min_fee_ultimate, min_fee_surf], axis='columns').reset_index()\n",
    "min_fee_plan.columns = ['month','ultimate','surf']\n",
    "print(min_fee_plan)\n",
    "\n",
    "print('El promedio de cargo por minuto extra anual del plan ultimate',min_fee_plan['ultimate'].mean())\n",
    "print('El promedio de cargo por minuto extra anual del plan surf',min_fee_plan['surf'].mean())\n",
    "\n",
    "min_fee_plan.plot(y= ['ultimate','surf'],\n",
    "                      title= 'Average charge for extra minute per plan and per month',\n",
    "                      xlabel= 'Month',\n",
    "                      ylabel= 'USD',\n",
    "                      kind= 'bar')\n",
    "plt.legend(['Ultimate Plan','Surf Plan'])\n",
    "plt.show()"
   ]
  },
  {
   "cell_type": "code",
   "execution_count": 170,
   "metadata": {},
   "outputs": [
    {
     "name": "stdout",
     "output_type": "stream",
     "text": [
      "    month  ultimate      surf\n",
      "0       1       0.0  0.000000\n",
      "1       2       0.0  0.026667\n",
      "2       3       0.0  0.016957\n",
      "3       4       0.0  0.052200\n",
      "4       5       0.0  0.125455\n",
      "5       6       0.0  0.149381\n",
      "6       7       0.0  0.145289\n",
      "7       8       0.0  0.180185\n",
      "8       9       0.0  0.186031\n",
      "9      10       0.0  0.251392\n",
      "10     11       0.0  0.210742\n",
      "11     12       0.0  0.319057\n",
      "El promedio de cargo por mensaje extra anual del plan ultimate 0.0\n",
      "El promedio de cargo por mensaje extra anual del plan surf 0.13861296705706133\n"
     ]
    },
    {
     "data": {
      "image/png": "[encoded data removed]",
      "text/plain": [
       "<Figure size 640x480 with 1 Axes>"
      ]
     },
     "metadata": {},
     "output_type": "display_data"
    }
   ],
   "source": [
    "#Promedio de la tarifa extra por cada mensaje excedente que pagan los usuarios al mes por plan\n",
    "sms_fee_ultimate = monthly_with_fees.query(\"plan_name == 'ultimate'\").groupby('month')['charge_extra_sms'].mean()\n",
    "\n",
    "sms_fee_surf = monthly_with_fees.query(\"plan_name == 'surf'\").groupby('month')['charge_extra_sms'].mean()\n",
    "\n",
    "sms_fee_plan = pd.concat([sms_fee_ultimate, sms_fee_surf], axis='columns').reset_index()\n",
    "sms_fee_plan.columns = ['month','ultimate','surf']\n",
    "print(sms_fee_plan)\n",
    "\n",
    "print('El promedio de cargo por mensaje extra anual del plan ultimate',sms_fee_plan['ultimate'].mean())\n",
    "print('El promedio de cargo por mensaje extra anual del plan surf',sms_fee_plan['surf'].mean())\n",
    "\n",
    "sms_fee_plan.plot(y= ['ultimate','surf'],\n",
    "                      title= 'Average charge for extra message per plan and per month',\n",
    "                      xlabel= 'Month',\n",
    "                      ylabel= 'USD',\n",
    "                      kind= 'bar')\n",
    "plt.legend(['Ultimate Plan','Surf Plan'])\n",
    "plt.show()"
   ]
  },
  {
   "cell_type": "code",
   "execution_count": 171,
   "metadata": {},
   "outputs": [
    {
     "name": "stdout",
     "output_type": "stream",
     "text": [
      "month\n",
      "1      70.000000\n",
      "2     160.400000\n",
      "3     186.060000\n",
      "4     157.733333\n",
      "5     152.831724\n",
      "6     141.864681\n",
      "7     159.410169\n",
      "8     170.488451\n",
      "9     153.957674\n",
      "10    160.336981\n",
      "11    160.182047\n",
      "12    178.966358\n",
      "Name: total_charge, dtype: float64\n",
      "La varianza en el plan ultimate: 774.0595770175313\n",
      "La desviación estándar en el plan ultimate: 27.821926191720287\n",
      "\n",
      "month\n",
      "1      48.200000\n",
      "2     185.330000\n",
      "3     204.150000\n",
      "4     179.318600\n",
      "5     223.004805\n",
      "6     253.235052\n",
      "7     282.112066\n",
      "8     282.341049\n",
      "9     277.015825\n",
      "10    295.488734\n",
      "11    276.514523\n",
      "12    313.495409\n",
      "Name: total_charge, dtype: float64\n",
      "La varianza en el plan surf: 4971.650917750647\n",
      "La desviación estándar en el plan surf: 70.50993488687\n"
     ]
    }
   ],
   "source": [
    "# Calcula la varianza y la desviación estándar de la tarifa mensual por plan\n",
    "print(average_fee_ultimate)\n",
    "var_fee_ultimate = np.var(average_fee_ultimate)\n",
    "deviation_fee_ultimate = np.sqrt(var_fee_ultimate)\n",
    "print('La varianza en el plan ultimate:',var_fee_ultimate)\n",
    "print('La desviación estándar en el plan ultimate:',deviation_fee_ultimate)\n",
    "print()\n",
    "print(average_fee_surf)\n",
    "var_fee_surf = np.var(average_fee_surf)\n",
    "deviation_fee_surf = np.sqrt(var_fee_surf)\n",
    "print('La varianza en el plan surf:',var_fee_surf)\n",
    "print('La desviación estándar en el plan surf:',deviation_fee_surf)"
   ]
  },
  {
   "cell_type": "code",
   "execution_count": 172,
   "metadata": {},
   "outputs": [
    {
     "name": "stdout",
     "output_type": "stream",
     "text": [
      "El diagrama color azul es del plan ultimate\n",
      "El diagrama color verde es del plan surf\n"
     ]
    },
    {
     "data": {
      "image/png": "[encoded data removed]",
      "text/plain": [
       "<Figure size 640x480 with 1 Axes>"
      ]
     },
     "metadata": {},
     "output_type": "display_data"
    }
   ],
   "source": [
    "# Diagrama de caja para visualizar la distribución del promedio de la tarifa mensual por plan\n",
    "sns.boxplot(x= \"ultimate\",\n",
    "            data = average_fee_plan,\n",
    "            color= \"lightblue\"\n",
    "           )\n",
    "sns.boxplot(x= \"surf\", \n",
    "            data = average_fee_plan,\n",
    "           color = \"limegreen\")\n",
    "\n",
    "print('El diagrama color azul es del plan ultimate')\n",
    "print('El diagrama color verde es del plan surf')"
   ]
  },
  {
   "cell_type": "markdown",
   "metadata": {},
   "source": [
    "- **Podemos observar en la tarifa total que pagan en promedio los usuarios al mes, que exceptuando el mes de Enero, los usuarios del plan Surf pagaron más que los usuarios del Plan Ultimate, están pagando entre 10 y 15 veces su tarifa.**\n",
    "- **En el caso de los usuarios del plan Ultimate, exceptuando el mes de Enero, el resto del año en promedio están pagando el doble de su tarifa**\n",
    "- **Hemos realizado 3 tablas adicionales para identificar de donde viene ese costo extra que están pagando los usuarios:**\n",
    "  - **En el plan Ultimate no pagan ningun cargo extra por mensaje, o minuto, solo en el caso de GB, solo en 3 meses pagaron en promedio más de 100usd de extras**\n",
    "  - **En el caso del plan Surf, el cargo extra tanto de mensajes no excede 1USD, el cargo extra de minutos máximo es de 2USD, sin embargo, el cargo extra de GB incrementa su tarifa en un 1000%**"
   ]
  },
  {
   "cell_type": "markdown",
   "metadata": {
    "id": "ajJ7VKeI0q1Q"
   },
   "source": [
    "## Prueba las hipótesis estadísticas"
   ]
  },
  {
   "cell_type": "markdown",
   "metadata": {},
   "source": [
    "### Hipótesis 1 "
   ]
  },
  {
   "cell_type": "markdown",
   "metadata": {},
   "source": [
    "**Nuestra hipótesis nula es:**\n",
    "**El ingreso promedio de los usuarios de las tarifas Ultimate y Surf son iguales.**\n",
    "**Nuestra hipótesis alternativa es:**\n",
    "**El ingreso promedio de los usuarios de la tarifa Ultimate son mayores que los de la tarifa Surf.**"
   ]
  },
  {
   "cell_type": "code",
   "execution_count": 173,
   "metadata": {},
   "outputs": [
    {
     "name": "stdout",
     "output_type": "stream",
     "text": [
      "El promedio de cargo anual del plan ultimate 154.35261824406217\n",
      "El promedio de cargo anual del plan surf 235.0171719110274\n",
      "\n",
      "valor p:  0.003224600238669817\n",
      "Rechazamos la hipótesis nula\n"
     ]
    }
   ],
   "source": [
    "#Prueba las hipótesis\n",
    "#average_fee_ultimate es el valor promedio por mes del plan ultimate \n",
    "#average_fee_surf es el valor promedio por mes del plan surf\n",
    "\n",
    "alpha = 0.05\n",
    "results = st.ttest_ind(average_fee_ultimate , average_fee_surf,equal_var = False) \n",
    "\n",
    "print('El promedio de cargo anual del plan ultimate',average_fee_plan['ultimate'].mean())\n",
    "print('El promedio de cargo anual del plan surf',average_fee_plan['surf'].mean())\n",
    "print()\n",
    "\n",
    "print('valor p: ', results.pvalue) \n",
    "\n",
    "if results.pvalue < alpha:\n",
    "    print(\"Rechazamos la hipótesis nula\")\n",
    "else:\n",
    "    print(\"No podemos rechazar la hipótesis nula\")"
   ]
  },
  {
   "cell_type": "markdown",
   "metadata": {},
   "source": [
    "- **Existe un 0.3% que las tarifas son iguales, Podemos concluir que existe una diferencia significativa entre los importes promedio gastados.**\n",
    "- **Para las variables hemos utilizado la misma variable que usamos anteriormente para comparar el gasto promedio**\n",
    "- **Hemos realizado la hipótesis nula como igualdad debido al análisis anterior que muestra que el consumo es muy parecido**\n",
    "- **Confirmamos que el promedio de la tarifa del Plan Ultimate es menor que el de la tarifa Surf, por lo que rechazamos la hipótesis alternativa**"
   ]
  },
  {
   "cell_type": "markdown",
   "metadata": {},
   "source": [
    "### Hipótesis 2"
   ]
  },
  {
   "cell_type": "markdown",
   "metadata": {},
   "source": [
    "**Nuestra hipótesis nula:**\n",
    "**El ingreso promedio de los usuarios en el área de estados Nueva York-Nueva Jersey es diferente al de los usuarios de otras regiones.**\n",
    "\n",
    "**Nuestra hipótesis alternativa:**\n",
    "**El ingreso promedio de los usuarios en el área de estados Nueva York-Nueva Jersey es mayor al de los usuarios de otras regiones**"
   ]
  },
  {
   "cell_type": "code",
   "execution_count": 174,
   "metadata": {
    "id": "Cqcj7wrZ0q1S"
   },
   "outputs": [
    {
     "name": "stdout",
     "output_type": "stream",
     "text": [
      "El promedio de tarifa de los usuarios del área de NY-NJ es: 285.43783878573555\n",
      "El promedio de tarifa de los usuarios fuera del área de NY-NJ es: 237.99166765385814\n",
      "valor p:  0.09821524648892133\n",
      "No podemos rechazar la hipótesis nula\n"
     ]
    }
   ],
   "source": [
    "# Prueba las hipótesis\n",
    "city_users = monthly_with_fees.groupby('city')['total_charge'].mean().reset_index()\n",
    "\n",
    "ny_nj_cities = ['Albany-Schenectady-Troy, NY MSA',\n",
    "                'Buffalo-Cheektowaga, NY MSA',\n",
    "                'New York-Newark-Jersey City, NY-NJ-PA MSA',\n",
    "                'Rochester, NY MSA']\n",
    "ny_nj_users = city_users[city_users['city'].isin(ny_nj_cities)]\n",
    "other_city_users = city_users[~city_users['city'].isin(ny_nj_cities)]\n",
    "print('El promedio de tarifa de los usuarios del área de NY-NJ es:',ny_nj_users['total_charge'].mean())\n",
    "print('El promedio de tarifa de los usuarios fuera del área de NY-NJ es:',other_city_users['total_charge'].mean())\n",
    "\n",
    "alpha = 0.05\n",
    "results = st.ttest_ind(ny_nj_users['total_charge'] , other_city_users['total_charge']) \n",
    "\n",
    "print('valor p: ', results.pvalue/2) \n",
    "\n",
    "if results.pvalue/2 < alpha:\n",
    "    print(\"Rechazamos la hipótesis nula\")\n",
    "else:\n",
    "    print(\"No podemos rechazar la hipótesis nula\")\n",
    "\n"
   ]
  },
  {
   "cell_type": "markdown",
   "metadata": {},
   "source": [
    "- **Existe un 19.6% que las tarifas son diferentes, a pesar que es una probabilidad alta, podemos confirmar que en efecto son diferentes.**\n",
    "- **Sin embargo, tenemos un 9.8% que las tarifas de NY-NJ son mayores, y viendo el promedio podemos confirmar que en esta área los usuarios pagan más.**"
   ]
  },
  {
   "cell_type": "markdown",
   "metadata": {
    "id": "bbTR8UQO0q1T"
   },
   "source": [
    "## Conclusión general\n"
   ]
  },
  {
   "cell_type": "markdown",
   "metadata": {},
   "source": [
    "- **Pudimos observar que los usuarios del plan Surf hablan por teléfono que los usuarios del Plan Ultimate, teniendo una duración de llamada muy similar durante todo el año**\n",
    "    - **Los usuarios del plan Surf en promedio usan el  76.8% de sus minutos incluidos, comparando con los usuarios del plan Ultimate que usan aproximadamente sólo el 13%**\n",
    "- **Pudimos observar que los usuarios del plan Ultimate envían más mensajes de texto que los usuarios del Plan Surf**\n",
    "    - **Los usuarios del plan Surf usan el 48% de sus mensajes incluidos, sin embargo los usuarios del plan Ultimate están usando menos del 5% de sus mensajes incluidos**\n",
    "- **Para el uso de internet es donde podemos hacer una observación con mayor impacto, ya que los usuarios del plan Surf están usando en promedio el 233.16%, pudimos notar que pagan en promedio un cargo extra por exceso de GB del 1085%**\n",
    "    - **Los usuarios del plan Ultimate hacen un uso promedio del 126%% de sus GB incluidos**\n",
    "- **Esta muestra representa un 32.2% de usuarios del plan Ultimate y el 67.8% del plan Surf**\n",
    "\n",
    "- **Teniendo en cuenta lo anterior:**\n",
    "    - **Consideramos que se debe invertir más en la publicidad del plan Surf ya que la tarifa promedio de los usuarios del plan Surf es más alta que del plan Ultimate, los usuarios del plan Surf hacen mayor uso de sus beneficios y con el uso de los extra GB generan un ingreso que excede al del Plan Ultimate por un 66%, ademas que al representar un 67.8% del total de usuarios su ingreso tiene mayor impacto**\n",
    "    - **Enviar publicidad del plan Ultimate específicamente a los usuarios del plan surf que pagan cargos extra**"
   ]
  }
 ],
 "metadata": {
  "ExecuteTimeLog": [
   {
    "duration": 828,
    "start_time": "2021-11-16T09:21:11.304Z"
   },
   {
    "duration": 893,
    "start_time": "2021-11-16T09:21:17.728Z"
   },
   {
    "duration": 1150,
    "start_time": "2021-11-16T09:21:29.568Z"
   },
   {
    "duration": 3,
    "start_time": "2021-11-16T09:24:14.495Z"
   },
   {
    "duration": 120,
    "start_time": "2021-11-16T09:24:46.630Z"
   },
   {
    "duration": 3,
    "start_time": "2021-11-16T09:28:27.882Z"
   },
   {
    "duration": 4,
    "start_time": "2021-11-16T09:29:54.281Z"
   },
   {
    "duration": 3,
    "start_time": "2021-11-16T09:30:45.936Z"
   },
   {
    "duration": 4,
    "start_time": "2021-11-16T09:31:06.300Z"
   },
   {
    "duration": 113,
    "start_time": "2021-11-16T09:31:37.208Z"
   },
   {
    "duration": 143,
    "start_time": "2021-11-16T09:31:48.656Z"
   },
   {
    "duration": 98,
    "start_time": "2021-11-16T09:31:55.678Z"
   },
   {
    "duration": 3,
    "start_time": "2021-11-16T09:32:08.535Z"
   },
   {
    "duration": 111,
    "start_time": "2021-11-16T09:32:10.120Z"
   },
   {
    "duration": 3,
    "start_time": "2021-11-16T09:32:15.732Z"
   },
   {
    "duration": 4,
    "start_time": "2021-11-16T09:32:29.423Z"
   },
   {
    "duration": 3,
    "start_time": "2021-11-16T10:03:03.074Z"
   },
   {
    "duration": 3,
    "start_time": "2021-11-16T10:10:01.288Z"
   },
   {
    "duration": 3,
    "start_time": "2021-11-16T10:10:46.923Z"
   },
   {
    "duration": 121,
    "start_time": "2021-11-16T10:37:46.494Z"
   },
   {
    "duration": 125,
    "start_time": "2021-11-16T10:38:20.632Z"
   },
   {
    "duration": 112,
    "start_time": "2021-11-16T10:46:53.001Z"
   },
   {
    "duration": 110,
    "start_time": "2021-11-16T10:48:25.775Z"
   },
   {
    "duration": 3,
    "start_time": "2021-11-16T10:50:18.720Z"
   },
   {
    "duration": 4,
    "start_time": "2021-11-16T10:50:37.649Z"
   },
   {
    "duration": 2,
    "start_time": "2021-11-16T10:50:51.884Z"
   },
   {
    "duration": 3,
    "start_time": "2021-11-16T10:51:56.237Z"
   },
   {
    "duration": 101,
    "start_time": "2021-11-16T10:53:13.791Z"
   },
   {
    "duration": 3,
    "start_time": "2021-11-16T10:55:59.186Z"
   },
   {
    "duration": 3,
    "start_time": "2021-11-16T10:56:10.751Z"
   },
   {
    "duration": 3,
    "start_time": "2021-11-16T10:56:49.038Z"
   },
   {
    "duration": 3,
    "start_time": "2021-11-16T10:56:49.174Z"
   },
   {
    "duration": 4,
    "start_time": "2021-11-16T10:56:49.414Z"
   },
   {
    "duration": 3,
    "start_time": "2021-11-16T10:56:49.680Z"
   },
   {
    "duration": 3,
    "start_time": "2021-11-16T10:56:50.370Z"
   },
   {
    "duration": 114,
    "start_time": "2021-11-16T10:59:34.518Z"
   },
   {
    "duration": 3,
    "start_time": "2021-11-16T11:01:41.201Z"
   },
   {
    "duration": 116,
    "start_time": "2021-11-16T11:01:48.754Z"
   },
   {
    "duration": 3,
    "start_time": "2021-11-16T11:02:16.685Z"
   },
   {
    "duration": 3,
    "start_time": "2021-11-16T11:02:19.479Z"
   },
   {
    "duration": 3,
    "start_time": "2021-11-16T11:02:47.067Z"
   },
   {
    "duration": 3,
    "start_time": "2021-11-16T11:02:49.353Z"
   },
   {
    "duration": 3,
    "start_time": "2021-11-16T11:03:07.835Z"
   },
   {
    "duration": 3,
    "start_time": "2021-11-16T11:03:07.953Z"
   },
   {
    "duration": 112,
    "start_time": "2021-11-16T11:07:52.072Z"
   },
   {
    "duration": 187,
    "start_time": "2021-11-16T11:09:23.468Z"
   },
   {
    "duration": 4,
    "start_time": "2021-11-16T11:10:01.455Z"
   },
   {
    "duration": 3,
    "start_time": "2021-11-16T11:10:05.069Z"
   },
   {
    "duration": 4,
    "start_time": "2021-11-16T11:10:13.376Z"
   },
   {
    "duration": 3,
    "start_time": "2021-11-16T11:10:14.434Z"
   },
   {
    "duration": 3,
    "start_time": "2021-11-16T11:10:22.853Z"
   },
   {
    "duration": 4,
    "start_time": "2021-11-16T11:27:29.279Z"
   },
   {
    "duration": 4,
    "start_time": "2021-11-16T11:29:08.919Z"
   },
   {
    "duration": 118,
    "start_time": "2021-11-16T11:29:46.703Z"
   },
   {
    "duration": 437,
    "start_time": "2021-11-16T11:36:02.181Z"
   },
   {
    "duration": 157,
    "start_time": "2021-11-16T11:36:14.388Z"
   },
   {
    "duration": 207,
    "start_time": "2021-11-16T11:47:15.898Z"
   },
   {
    "duration": 3,
    "start_time": "2021-11-16T11:53:52.092Z"
   },
   {
    "duration": 3,
    "start_time": "2021-11-16T11:53:52.236Z"
   },
   {
    "duration": 3,
    "start_time": "2021-11-16T11:59:12.005Z"
   },
   {
    "duration": 112,
    "start_time": "2021-11-16T12:00:33.446Z"
   },
   {
    "duration": 3,
    "start_time": "2021-11-16T12:02:14.453Z"
   },
   {
    "duration": 3,
    "start_time": "2021-11-16T12:02:39.512Z"
   },
   {
    "duration": 106,
    "start_time": "2021-11-16T12:03:03.460Z"
   },
   {
    "duration": 3,
    "start_time": "2021-11-17T20:37:21.139Z"
   },
   {
    "duration": 3,
    "start_time": "2021-11-17T20:37:22.229Z"
   },
   {
    "duration": 3,
    "start_time": "2021-11-17T20:38:38.806Z"
   },
   {
    "duration": 3,
    "start_time": "2021-11-17T20:38:41.958Z"
   },
   {
    "duration": 3,
    "start_time": "2021-11-17T20:43:46.551Z"
   },
   {
    "duration": 4,
    "start_time": "2021-11-17T20:58:21.835Z"
   },
   {
    "duration": 3,
    "start_time": "2021-11-17T20:59:21.872Z"
   },
   {
    "duration": 4,
    "start_time": "2021-11-17T20:59:45.352Z"
   },
   {
    "duration": 4,
    "start_time": "2021-11-17T20:59:49.646Z"
   },
   {
    "duration": 159,
    "start_time": "2021-11-17T21:02:26.949Z"
   },
   {
    "duration": 3,
    "start_time": "2021-11-17T21:03:53.461Z"
   },
   {
    "duration": 3,
    "start_time": "2021-11-17T21:03:53.694Z"
   },
   {
    "duration": 3,
    "start_time": "2021-11-17T21:05:28.145Z"
   },
   {
    "duration": 116,
    "start_time": "2021-11-17T21:05:57.787Z"
   },
   {
    "duration": 3,
    "start_time": "2021-11-17T21:06:37.993Z"
   },
   {
    "duration": 3,
    "start_time": "2021-11-17T21:06:38.261Z"
   },
   {
    "duration": 3,
    "start_time": "2021-11-17T21:11:54.358Z"
   },
   {
    "duration": 3,
    "start_time": "2021-11-17T21:12:43.846Z"
   },
   {
    "duration": 4,
    "start_time": "2021-11-17T21:13:08.773Z"
   },
   {
    "duration": 3,
    "start_time": "2021-11-17T21:14:44.441Z"
   },
   {
    "duration": 3,
    "start_time": "2021-11-17T21:15:42.059Z"
   },
   {
    "duration": 4,
    "start_time": "2021-11-17T21:15:51.995Z"
   },
   {
    "duration": 3,
    "start_time": "2021-11-17T21:15:53.923Z"
   },
   {
    "duration": 3,
    "start_time": "2021-11-17T21:15:55.282Z"
   },
   {
    "duration": 3,
    "start_time": "2021-11-17T21:16:28.492Z"
   },
   {
    "duration": 3,
    "start_time": "2021-11-17T21:16:32.603Z"
   },
   {
    "duration": 3,
    "start_time": "2021-11-17T21:17:06.941Z"
   },
   {
    "duration": 98,
    "start_time": "2021-11-17T21:18:05.733Z"
   },
   {
    "duration": 4,
    "start_time": "2021-11-17T21:21:35.255Z"
   },
   {
    "duration": 3,
    "start_time": "2021-11-17T21:21:37.804Z"
   },
   {
    "duration": 4,
    "start_time": "2021-11-17T21:23:06.071Z"
   },
   {
    "duration": 3,
    "start_time": "2021-11-17T21:23:24.799Z"
   },
   {
    "duration": 3,
    "start_time": "2021-11-17T21:23:32.591Z"
   },
   {
    "duration": 98,
    "start_time": "2021-11-17T21:28:31.559Z"
   },
   {
    "duration": 3,
    "start_time": "2021-11-17T21:28:45.448Z"
   },
   {
    "duration": 3,
    "start_time": "2021-11-17T21:29:17.303Z"
   },
   {
    "duration": 3,
    "start_time": "2021-11-17T21:29:29.617Z"
   },
   {
    "duration": 3,
    "start_time": "2021-11-17T21:29:32.681Z"
   },
   {
    "duration": 3,
    "start_time": "2021-11-17T21:36:11.474Z"
   },
   {
    "duration": 3,
    "start_time": "2021-11-17T21:36:14.791Z"
   },
   {
    "duration": 3,
    "start_time": "2021-11-17T21:36:53.943Z"
   },
   {
    "duration": 3,
    "start_time": "2021-11-17T21:36:56.165Z"
   },
   {
    "duration": 4,
    "start_time": "2021-11-17T21:37:16.590Z"
   },
   {
    "duration": 3,
    "start_time": "2021-11-17T21:37:22.702Z"
   },
   {
    "duration": 4,
    "start_time": "2021-11-17T21:38:03.479Z"
   },
   {
    "duration": 3,
    "start_time": "2021-11-17T21:38:08.601Z"
   },
   {
    "duration": 3,
    "start_time": "2021-11-17T21:38:12.928Z"
   },
   {
    "duration": 3,
    "start_time": "2021-11-17T21:38:48.896Z"
   },
   {
    "duration": 2,
    "start_time": "2021-11-17T21:38:49.171Z"
   },
   {
    "duration": 4,
    "start_time": "2021-11-17T21:39:57.889Z"
   },
   {
    "duration": 3,
    "start_time": "2021-11-17T21:39:58.057Z"
   },
   {
    "duration": 3,
    "start_time": "2021-11-17T21:41:20.108Z"
   },
   {
    "duration": 3,
    "start_time": "2021-11-17T21:41:20.629Z"
   },
   {
    "duration": 3,
    "start_time": "2021-11-17T21:42:49.136Z"
   },
   {
    "duration": 3,
    "start_time": "2021-11-17T21:43:15.137Z"
   },
   {
    "duration": 4,
    "start_time": "2021-11-17T21:43:16.766Z"
   },
   {
    "duration": 4,
    "start_time": "2021-11-17T21:43:31.711Z"
   },
   {
    "duration": 3,
    "start_time": "2021-11-17T21:43:36.312Z"
   },
   {
    "duration": 4,
    "start_time": "2021-11-17T21:45:08.825Z"
   },
   {
    "duration": 4,
    "start_time": "2021-11-17T21:45:10.119Z"
   },
   {
    "duration": 4,
    "start_time": "2021-11-17T21:45:13.748Z"
   },
   {
    "duration": 3,
    "start_time": "2021-11-17T21:45:22.219Z"
   },
   {
    "duration": 3,
    "start_time": "2021-11-17T21:45:33.412Z"
   },
   {
    "duration": 2,
    "start_time": "2021-11-17T21:46:01.885Z"
   },
   {
    "duration": 3,
    "start_time": "2021-11-17T21:46:03.628Z"
   },
   {
    "duration": 107,
    "start_time": "2021-11-17T21:47:32.512Z"
   },
   {
    "duration": 103,
    "start_time": "2021-11-17T21:50:36.243Z"
   },
   {
    "duration": 3,
    "start_time": "2021-11-18T06:28:31.440Z"
   },
   {
    "duration": 3,
    "start_time": "2021-11-18T06:29:00.168Z"
   },
   {
    "duration": 3,
    "start_time": "2021-11-18T06:31:27.008Z"
   },
   {
    "duration": 2,
    "start_time": "2021-11-18T06:35:34.288Z"
   },
   {
    "duration": 2,
    "start_time": "2021-11-18T06:38:04.527Z"
   },
   {
    "duration": 4850,
    "start_time": "2024-06-08T02:42:23.140Z"
   },
   {
    "duration": 406,
    "start_time": "2024-06-08T02:42:31.903Z"
   },
   {
    "duration": 80,
    "start_time": "2024-06-08T02:42:36.067Z"
   },
   {
    "duration": 83,
    "start_time": "2024-06-08T02:42:39.796Z"
   },
   {
    "duration": 44,
    "start_time": "2024-06-08T02:42:43.035Z"
   },
   {
    "duration": 17,
    "start_time": "2024-06-08T02:42:45.357Z"
   },
   {
    "duration": 18,
    "start_time": "2024-06-08T02:42:47.726Z"
   },
   {
    "duration": 18,
    "start_time": "2024-06-08T03:13:10.501Z"
   },
   {
    "duration": 9,
    "start_time": "2024-06-08T03:13:15.921Z"
   },
   {
    "duration": 9,
    "start_time": "2024-06-08T03:21:26.465Z"
   },
   {
    "duration": 0,
    "start_time": "2024-06-08T03:21:26.477Z"
   },
   {
    "duration": 78,
    "start_time": "2024-06-08T03:21:52.323Z"
   },
   {
    "duration": 7,
    "start_time": "2024-06-08T03:21:54.931Z"
   },
   {
    "duration": 6,
    "start_time": "2024-06-08T03:22:30.628Z"
   },
   {
    "duration": 0,
    "start_time": "2024-06-08T03:22:30.638Z"
   },
   {
    "duration": 43,
    "start_time": "2024-06-08T03:22:46.784Z"
   },
   {
    "duration": 7,
    "start_time": "2024-06-08T03:23:10.159Z"
   },
   {
    "duration": 80,
    "start_time": "2024-06-08T03:23:10.170Z"
   },
   {
    "duration": 8,
    "start_time": "2024-06-08T03:23:10.253Z"
   },
   {
    "duration": 17,
    "start_time": "2024-06-08T03:23:52.654Z"
   },
   {
    "duration": 10,
    "start_time": "2024-06-08T03:23:56.137Z"
   },
   {
    "duration": 8,
    "start_time": "2024-06-08T03:24:02.061Z"
   },
   {
    "duration": 9,
    "start_time": "2024-06-08T03:24:11.983Z"
   },
   {
    "duration": 84,
    "start_time": "2024-06-08T03:24:22.147Z"
   },
   {
    "duration": 8,
    "start_time": "2024-06-08T03:24:25.090Z"
   },
   {
    "duration": 309,
    "start_time": "2024-06-09T00:10:40.259Z"
   },
   {
    "duration": 4,
    "start_time": "2024-06-09T00:28:50.241Z"
   },
   {
    "duration": 294,
    "start_time": "2024-06-09T00:28:50.249Z"
   },
   {
    "duration": 19,
    "start_time": "2024-06-09T00:28:50.545Z"
   },
   {
    "duration": 8,
    "start_time": "2024-06-09T00:28:50.569Z"
   },
   {
    "duration": 17,
    "start_time": "2024-06-09T00:28:50.583Z"
   },
   {
    "duration": 9,
    "start_time": "2024-06-09T00:28:50.603Z"
   },
   {
    "duration": 6,
    "start_time": "2024-06-09T00:28:50.615Z"
   },
   {
    "duration": 70,
    "start_time": "2024-06-09T00:28:50.668Z"
   },
   {
    "duration": 30,
    "start_time": "2024-06-09T00:28:50.742Z"
   },
   {
    "duration": 43,
    "start_time": "2024-06-09T00:28:50.776Z"
   },
   {
    "duration": 6,
    "start_time": "2024-06-09T00:28:50.823Z"
   },
   {
    "duration": 110,
    "start_time": "2024-06-09T00:28:50.831Z"
   },
   {
    "duration": 25,
    "start_time": "2024-06-09T00:28:50.944Z"
   },
   {
    "duration": 3,
    "start_time": "2024-06-09T00:28:50.976Z"
   },
   {
    "duration": 4,
    "start_time": "2024-06-09T00:28:50.982Z"
   },
   {
    "duration": 4,
    "start_time": "2024-06-09T00:28:50.989Z"
   },
   {
    "duration": 3,
    "start_time": "2024-06-09T00:28:50.996Z"
   },
   {
    "duration": 4,
    "start_time": "2024-06-09T00:28:51.003Z"
   },
   {
    "duration": 57,
    "start_time": "2024-06-09T00:28:51.011Z"
   },
   {
    "duration": 4,
    "start_time": "2024-06-09T00:28:51.071Z"
   },
   {
    "duration": 4,
    "start_time": "2024-06-09T00:28:51.078Z"
   },
   {
    "duration": 4,
    "start_time": "2024-06-09T00:28:51.085Z"
   },
   {
    "duration": 4,
    "start_time": "2024-06-09T00:28:51.093Z"
   },
   {
    "duration": 4,
    "start_time": "2024-06-09T00:28:51.100Z"
   },
   {
    "duration": 60,
    "start_time": "2024-06-09T00:28:51.108Z"
   },
   {
    "duration": 3,
    "start_time": "2024-06-09T00:28:51.172Z"
   },
   {
    "duration": 3,
    "start_time": "2024-06-09T00:28:51.178Z"
   },
   {
    "duration": 3,
    "start_time": "2024-06-09T00:28:51.185Z"
   },
   {
    "duration": 3,
    "start_time": "2024-06-09T00:28:51.191Z"
   },
   {
    "duration": 6,
    "start_time": "2024-06-09T00:33:11.862Z"
   },
   {
    "duration": 7,
    "start_time": "2024-06-09T00:35:29.126Z"
   },
   {
    "duration": 9,
    "start_time": "2024-06-09T00:37:36.405Z"
   },
   {
    "duration": 4,
    "start_time": "2024-06-09T00:49:03.788Z"
   },
   {
    "duration": 277,
    "start_time": "2024-06-09T00:49:03.796Z"
   },
   {
    "duration": 18,
    "start_time": "2024-06-09T00:49:04.076Z"
   },
   {
    "duration": 8,
    "start_time": "2024-06-09T00:49:04.097Z"
   },
   {
    "duration": 17,
    "start_time": "2024-06-09T00:49:04.110Z"
   },
   {
    "duration": 41,
    "start_time": "2024-06-09T00:49:04.130Z"
   },
   {
    "duration": 7,
    "start_time": "2024-06-09T00:49:04.174Z"
   },
   {
    "duration": 8,
    "start_time": "2024-06-09T00:49:04.184Z"
   },
   {
    "duration": 8,
    "start_time": "2024-06-09T00:49:04.195Z"
   },
   {
    "duration": 122,
    "start_time": "2024-06-09T00:49:04.206Z"
   },
   {
    "duration": 7,
    "start_time": "2024-06-09T00:49:04.331Z"
   },
   {
    "duration": 65,
    "start_time": "2024-06-09T00:49:04.341Z"
   },
   {
    "duration": 7,
    "start_time": "2024-06-09T00:49:04.409Z"
   },
   {
    "duration": 109,
    "start_time": "2024-06-09T00:49:04.422Z"
   },
   {
    "duration": 8,
    "start_time": "2024-06-09T00:49:04.534Z"
   },
   {
    "duration": 24,
    "start_time": "2024-06-09T00:49:04.545Z"
   },
   {
    "duration": 7,
    "start_time": "2024-06-09T00:49:04.573Z"
   },
   {
    "duration": 5,
    "start_time": "2024-06-09T00:49:04.584Z"
   },
   {
    "duration": 4,
    "start_time": "2024-06-09T00:49:04.592Z"
   },
   {
    "duration": 4,
    "start_time": "2024-06-09T00:49:04.600Z"
   },
   {
    "duration": 5,
    "start_time": "2024-06-09T00:49:04.610Z"
   },
   {
    "duration": 4,
    "start_time": "2024-06-09T00:49:04.668Z"
   },
   {
    "duration": 4,
    "start_time": "2024-06-09T00:49:04.675Z"
   },
   {
    "duration": 3,
    "start_time": "2024-06-09T00:49:04.682Z"
   },
   {
    "duration": 4,
    "start_time": "2024-06-09T00:49:04.689Z"
   },
   {
    "duration": 3,
    "start_time": "2024-06-09T00:49:04.696Z"
   },
   {
    "duration": 4,
    "start_time": "2024-06-09T00:49:04.702Z"
   },
   {
    "duration": 60,
    "start_time": "2024-06-09T00:49:04.709Z"
   },
   {
    "duration": 4,
    "start_time": "2024-06-09T00:49:04.771Z"
   },
   {
    "duration": 3,
    "start_time": "2024-06-09T00:49:04.779Z"
   },
   {
    "duration": 3,
    "start_time": "2024-06-09T00:49:04.785Z"
   },
   {
    "duration": 10,
    "start_time": "2024-06-09T00:54:20.640Z"
   },
   {
    "duration": 33,
    "start_time": "2024-06-09T00:59:00.997Z"
   },
   {
    "duration": 30,
    "start_time": "2024-06-09T01:01:04.302Z"
   },
   {
    "duration": 14,
    "start_time": "2024-06-09T01:02:28.961Z"
   },
   {
    "duration": 20,
    "start_time": "2024-06-09T01:04:47.255Z"
   },
   {
    "duration": 20,
    "start_time": "2024-06-09T01:06:43.459Z"
   },
   {
    "duration": 9,
    "start_time": "2024-06-09T01:07:41.295Z"
   },
   {
    "duration": 12,
    "start_time": "2024-06-09T01:11:48.663Z"
   },
   {
    "duration": 44,
    "start_time": "2024-06-09T01:13:58.040Z"
   },
   {
    "duration": 25,
    "start_time": "2024-06-09T01:15:59.928Z"
   },
   {
    "duration": 11,
    "start_time": "2024-06-09T01:16:55.547Z"
   },
   {
    "duration": 8,
    "start_time": "2024-06-09T01:30:32.939Z"
   },
   {
    "duration": 15,
    "start_time": "2024-06-09T01:37:45.312Z"
   },
   {
    "duration": 18,
    "start_time": "2024-06-09T01:37:57.815Z"
   },
   {
    "duration": 21,
    "start_time": "2024-06-09T01:38:08.937Z"
   },
   {
    "duration": 26,
    "start_time": "2024-06-09T01:38:35.484Z"
   },
   {
    "duration": 39,
    "start_time": "2024-06-09T01:39:51.447Z"
   },
   {
    "duration": 16,
    "start_time": "2024-06-09T01:39:57.796Z"
   },
   {
    "duration": 14,
    "start_time": "2024-06-09T01:40:06.418Z"
   },
   {
    "duration": 17,
    "start_time": "2024-06-09T01:40:10.357Z"
   },
   {
    "duration": 36,
    "start_time": "2024-06-09T01:53:02.702Z"
   },
   {
    "duration": 31,
    "start_time": "2024-06-09T01:53:25.723Z"
   },
   {
    "duration": 36,
    "start_time": "2024-06-09T01:54:34.838Z"
   },
   {
    "duration": 54,
    "start_time": "2024-06-09T01:54:50.339Z"
   },
   {
    "duration": 40,
    "start_time": "2024-06-09T01:55:05.978Z"
   },
   {
    "duration": 52,
    "start_time": "2024-06-09T01:56:55.463Z"
   },
   {
    "duration": 62,
    "start_time": "2024-06-09T01:57:05.871Z"
   },
   {
    "duration": 35,
    "start_time": "2024-06-09T01:58:37.628Z"
   },
   {
    "duration": 8,
    "start_time": "2024-06-09T01:59:08.004Z"
   },
   {
    "duration": 11,
    "start_time": "2024-06-09T01:59:22.065Z"
   },
   {
    "duration": 13,
    "start_time": "2024-06-09T02:04:09.793Z"
   },
   {
    "duration": 9,
    "start_time": "2024-06-09T02:11:10.028Z"
   },
   {
    "duration": 33,
    "start_time": "2024-06-09T02:16:12.717Z"
   },
   {
    "duration": 31,
    "start_time": "2024-06-09T02:16:43.467Z"
   },
   {
    "duration": 30,
    "start_time": "2024-06-09T02:16:54.456Z"
   },
   {
    "duration": 19,
    "start_time": "2024-06-09T02:19:28.215Z"
   },
   {
    "duration": 25,
    "start_time": "2024-06-09T02:22:17.951Z"
   },
   {
    "duration": 39,
    "start_time": "2024-06-09T02:22:48.255Z"
   },
   {
    "duration": 34,
    "start_time": "2024-06-09T02:23:09.232Z"
   },
   {
    "duration": 11,
    "start_time": "2024-06-09T02:29:55.641Z"
   },
   {
    "duration": 19,
    "start_time": "2024-06-09T02:33:35.841Z"
   },
   {
    "duration": 21,
    "start_time": "2024-06-09T02:34:39.454Z"
   },
   {
    "duration": 21,
    "start_time": "2024-06-09T02:39:00.988Z"
   },
   {
    "duration": 26,
    "start_time": "2024-06-09T02:42:09.928Z"
   },
   {
    "duration": 22,
    "start_time": "2024-06-09T02:44:04.905Z"
   },
   {
    "duration": 24,
    "start_time": "2024-06-09T02:44:26.279Z"
   },
   {
    "duration": 20,
    "start_time": "2024-06-09T02:45:07.209Z"
   },
   {
    "duration": 23,
    "start_time": "2024-06-09T02:45:57.770Z"
   },
   {
    "duration": 39,
    "start_time": "2024-06-09T02:50:35.376Z"
   },
   {
    "duration": 20,
    "start_time": "2024-06-09T02:50:47.724Z"
   },
   {
    "duration": 24,
    "start_time": "2024-06-09T02:51:04.548Z"
   },
   {
    "duration": 24,
    "start_time": "2024-06-09T02:51:15.759Z"
   },
   {
    "duration": 7,
    "start_time": "2024-06-09T02:51:47.182Z"
   },
   {
    "duration": 181,
    "start_time": "2024-06-09T02:52:06.374Z"
   },
   {
    "duration": 115,
    "start_time": "2024-06-09T03:00:06.641Z"
   },
   {
    "duration": 21,
    "start_time": "2024-06-09T03:02:01.108Z"
   },
   {
    "duration": 38,
    "start_time": "2024-06-09T03:02:37.425Z"
   },
   {
    "duration": 20,
    "start_time": "2024-06-09T03:03:13.724Z"
   },
   {
    "duration": 132,
    "start_time": "2024-06-09T03:03:57.417Z"
   },
   {
    "duration": 36,
    "start_time": "2024-06-09T03:06:40.171Z"
   },
   {
    "duration": 20,
    "start_time": "2024-06-09T03:08:19.526Z"
   },
   {
    "duration": 39,
    "start_time": "2024-06-09T03:11:25.718Z"
   },
   {
    "duration": 37,
    "start_time": "2024-06-09T03:12:03.632Z"
   },
   {
    "duration": 37,
    "start_time": "2024-06-09T03:12:30.948Z"
   },
   {
    "duration": 8,
    "start_time": "2024-06-09T03:17:17.896Z"
   },
   {
    "duration": 57,
    "start_time": "2024-06-09T03:17:29.145Z"
   },
   {
    "duration": 55,
    "start_time": "2024-06-09T03:17:52.372Z"
   },
   {
    "duration": 50,
    "start_time": "2024-06-09T03:18:10.748Z"
   },
   {
    "duration": 51,
    "start_time": "2024-06-09T03:19:55.789Z"
   },
   {
    "duration": 53,
    "start_time": "2024-06-09T03:20:28.561Z"
   },
   {
    "duration": 34,
    "start_time": "2024-06-09T03:20:37.645Z"
   },
   {
    "duration": 72,
    "start_time": "2024-06-09T03:23:02.196Z"
   },
   {
    "duration": 37,
    "start_time": "2024-06-09T03:23:36.977Z"
   },
   {
    "duration": 31,
    "start_time": "2024-06-09T03:23:42.785Z"
   },
   {
    "duration": 46,
    "start_time": "2024-06-09T03:24:07.852Z"
   },
   {
    "duration": 35,
    "start_time": "2024-06-09T03:24:17.579Z"
   },
   {
    "duration": 37,
    "start_time": "2024-06-09T03:24:33.178Z"
   },
   {
    "duration": 36,
    "start_time": "2024-06-09T03:26:49.251Z"
   },
   {
    "duration": 36,
    "start_time": "2024-06-09T03:27:01.494Z"
   },
   {
    "duration": 35,
    "start_time": "2024-06-09T03:27:14.760Z"
   },
   {
    "duration": 42,
    "start_time": "2024-06-09T03:30:55.336Z"
   },
   {
    "duration": 38,
    "start_time": "2024-06-09T03:31:13.207Z"
   },
   {
    "duration": 43,
    "start_time": "2024-06-09T03:31:42.768Z"
   },
   {
    "duration": 39,
    "start_time": "2024-06-09T03:32:38.709Z"
   },
   {
    "duration": 40,
    "start_time": "2024-06-09T03:35:32.348Z"
   },
   {
    "duration": 46,
    "start_time": "2024-06-09T03:35:56.520Z"
   },
   {
    "duration": 32,
    "start_time": "2024-06-09T03:36:07.125Z"
   },
   {
    "duration": 52,
    "start_time": "2024-06-09T03:37:33.911Z"
   },
   {
    "duration": 52,
    "start_time": "2024-06-09T03:37:43.864Z"
   },
   {
    "duration": 53,
    "start_time": "2024-06-09T03:38:09.864Z"
   },
   {
    "duration": 32,
    "start_time": "2024-06-09T03:38:24.440Z"
   },
   {
    "duration": 92,
    "start_time": "2024-06-09T03:42:15.550Z"
   },
   {
    "duration": 35,
    "start_time": "2024-06-09T03:42:23.718Z"
   },
   {
    "duration": 37,
    "start_time": "2024-06-09T03:42:34.328Z"
   },
   {
    "duration": 72,
    "start_time": "2024-06-09T03:48:39.909Z"
   },
   {
    "duration": 39,
    "start_time": "2024-06-09T03:48:58.128Z"
   },
   {
    "duration": 39,
    "start_time": "2024-06-09T03:49:23.696Z"
   },
   {
    "duration": 22,
    "start_time": "2024-06-09T03:50:45.408Z"
   },
   {
    "duration": 17,
    "start_time": "2024-06-09T03:50:54.168Z"
   },
   {
    "duration": 19,
    "start_time": "2024-06-09T03:52:50.257Z"
   },
   {
    "duration": 15,
    "start_time": "2024-06-09T03:54:35.478Z"
   },
   {
    "duration": 18,
    "start_time": "2024-06-09T03:55:06.157Z"
   },
   {
    "duration": 18,
    "start_time": "2024-06-09T03:56:29.859Z"
   },
   {
    "duration": 798,
    "start_time": "2024-06-09T03:59:36.465Z"
   },
   {
    "duration": 34,
    "start_time": "2024-06-09T04:00:02.702Z"
   },
   {
    "duration": 96,
    "start_time": "2024-06-09T04:00:42.124Z"
   },
   {
    "duration": 36,
    "start_time": "2024-06-09T04:00:57.443Z"
   },
   {
    "duration": 13,
    "start_time": "2024-06-09T04:02:28.965Z"
   },
   {
    "duration": 17,
    "start_time": "2024-06-09T04:02:36.269Z"
   },
   {
    "duration": 109,
    "start_time": "2024-06-09T04:07:12.805Z"
   },
   {
    "duration": 109,
    "start_time": "2024-06-09T04:08:23.070Z"
   },
   {
    "duration": 316,
    "start_time": "2024-06-09T04:10:05.828Z"
   },
   {
    "duration": 128,
    "start_time": "2024-06-09T04:10:33.211Z"
   },
   {
    "duration": 4,
    "start_time": "2024-06-09T04:10:47.333Z"
   },
   {
    "duration": 328,
    "start_time": "2024-06-09T04:10:47.344Z"
   },
   {
    "duration": 17,
    "start_time": "2024-06-09T04:10:47.675Z"
   },
   {
    "duration": 8,
    "start_time": "2024-06-09T04:10:47.695Z"
   },
   {
    "duration": 17,
    "start_time": "2024-06-09T04:10:47.708Z"
   },
   {
    "duration": 44,
    "start_time": "2024-06-09T04:10:47.729Z"
   },
   {
    "duration": 7,
    "start_time": "2024-06-09T04:10:47.776Z"
   },
   {
    "duration": 7,
    "start_time": "2024-06-09T04:10:47.787Z"
   },
   {
    "duration": 7,
    "start_time": "2024-06-09T04:10:47.797Z"
   },
   {
    "duration": 12,
    "start_time": "2024-06-09T04:10:47.808Z"
   },
   {
    "duration": 94,
    "start_time": "2024-06-09T04:10:47.873Z"
   },
   {
    "duration": 8,
    "start_time": "2024-06-09T04:10:47.971Z"
   },
   {
    "duration": 32,
    "start_time": "2024-06-09T04:10:47.982Z"
   },
   {
    "duration": 68,
    "start_time": "2024-06-09T04:10:48.018Z"
   },
   {
    "duration": 12,
    "start_time": "2024-06-09T04:10:48.088Z"
   },
   {
    "duration": 125,
    "start_time": "2024-06-09T04:10:48.104Z"
   },
   {
    "duration": 56,
    "start_time": "2024-06-09T04:10:48.233Z"
   },
   {
    "duration": 8,
    "start_time": "2024-06-09T04:10:48.292Z"
   },
   {
    "duration": 21,
    "start_time": "2024-06-09T04:10:48.302Z"
   },
   {
    "duration": 54,
    "start_time": "2024-06-09T04:10:48.325Z"
   },
   {
    "duration": 11,
    "start_time": "2024-06-09T04:10:48.382Z"
   },
   {
    "duration": 89,
    "start_time": "2024-06-09T04:10:48.397Z"
   },
   {
    "duration": 95,
    "start_time": "2024-06-09T04:10:48.489Z"
   },
   {
    "duration": 8,
    "start_time": "2024-06-09T04:10:48.588Z"
   },
   {
    "duration": 42,
    "start_time": "2024-06-09T04:10:48.599Z"
   },
   {
    "duration": 27,
    "start_time": "2024-06-09T04:10:48.669Z"
   },
   {
    "duration": 12,
    "start_time": "2024-06-09T04:10:48.700Z"
   },
   {
    "duration": 8,
    "start_time": "2024-06-09T04:10:48.715Z"
   },
   {
    "duration": 30,
    "start_time": "2024-06-09T04:10:48.771Z"
   },
   {
    "duration": 16,
    "start_time": "2024-06-09T04:10:48.804Z"
   },
   {
    "duration": 54,
    "start_time": "2024-06-09T04:10:48.823Z"
   },
   {
    "duration": 23,
    "start_time": "2024-06-09T04:10:48.880Z"
   },
   {
    "duration": 70,
    "start_time": "2024-06-09T04:10:48.906Z"
   },
   {
    "duration": 18,
    "start_time": "2024-06-09T04:10:48.979Z"
   },
   {
    "duration": 4,
    "start_time": "2024-06-09T04:10:49.000Z"
   },
   {
    "duration": 4,
    "start_time": "2024-06-09T04:10:49.008Z"
   },
   {
    "duration": 3,
    "start_time": "2024-06-09T04:10:49.016Z"
   },
   {
    "duration": 5,
    "start_time": "2024-06-09T04:10:49.068Z"
   },
   {
    "duration": 4,
    "start_time": "2024-06-09T04:10:49.076Z"
   },
   {
    "duration": 4,
    "start_time": "2024-06-09T04:10:49.083Z"
   },
   {
    "duration": 3,
    "start_time": "2024-06-09T04:10:49.091Z"
   },
   {
    "duration": 3,
    "start_time": "2024-06-09T04:10:49.098Z"
   },
   {
    "duration": 3,
    "start_time": "2024-06-09T04:10:49.105Z"
   },
   {
    "duration": 101,
    "start_time": "2024-06-09T04:11:49.451Z"
   },
   {
    "duration": 125,
    "start_time": "2024-06-09T04:12:21.023Z"
   },
   {
    "duration": 125,
    "start_time": "2024-06-09T04:12:26.438Z"
   },
   {
    "duration": 5,
    "start_time": "2024-06-09T04:12:45.162Z"
   },
   {
    "duration": 280,
    "start_time": "2024-06-09T04:12:45.170Z"
   },
   {
    "duration": 20,
    "start_time": "2024-06-09T04:12:45.453Z"
   },
   {
    "duration": 8,
    "start_time": "2024-06-09T04:12:45.476Z"
   },
   {
    "duration": 18,
    "start_time": "2024-06-09T04:12:45.489Z"
   },
   {
    "duration": 9,
    "start_time": "2024-06-09T04:12:45.509Z"
   },
   {
    "duration": 50,
    "start_time": "2024-06-09T04:12:45.520Z"
   },
   {
    "duration": 8,
    "start_time": "2024-06-09T04:12:45.573Z"
   },
   {
    "duration": 7,
    "start_time": "2024-06-09T04:12:45.585Z"
   },
   {
    "duration": 10,
    "start_time": "2024-06-09T04:12:45.595Z"
   },
   {
    "duration": 118,
    "start_time": "2024-06-09T04:12:45.608Z"
   },
   {
    "duration": 8,
    "start_time": "2024-06-09T04:12:45.729Z"
   },
   {
    "duration": 56,
    "start_time": "2024-06-09T04:12:45.741Z"
   },
   {
    "duration": 30,
    "start_time": "2024-06-09T04:12:45.804Z"
   },
   {
    "duration": 35,
    "start_time": "2024-06-09T04:12:45.837Z"
   },
   {
    "duration": 121,
    "start_time": "2024-06-09T04:12:45.875Z"
   },
   {
    "duration": 45,
    "start_time": "2024-06-09T04:12:45.999Z"
   },
   {
    "duration": 23,
    "start_time": "2024-06-09T04:12:46.047Z"
   },
   {
    "duration": 20,
    "start_time": "2024-06-09T04:12:46.074Z"
   },
   {
    "duration": 27,
    "start_time": "2024-06-09T04:12:46.098Z"
   },
   {
    "duration": 43,
    "start_time": "2024-06-09T04:12:46.127Z"
   },
   {
    "duration": 56,
    "start_time": "2024-06-09T04:12:46.174Z"
   },
   {
    "duration": 107,
    "start_time": "2024-06-09T04:12:46.234Z"
   },
   {
    "duration": 27,
    "start_time": "2024-06-09T04:12:46.345Z"
   },
   {
    "duration": 38,
    "start_time": "2024-06-09T04:12:46.375Z"
   },
   {
    "duration": 52,
    "start_time": "2024-06-09T04:12:46.416Z"
   },
   {
    "duration": 11,
    "start_time": "2024-06-09T04:12:46.471Z"
   },
   {
    "duration": 8,
    "start_time": "2024-06-09T04:12:46.485Z"
   },
   {
    "duration": 30,
    "start_time": "2024-06-09T04:12:46.496Z"
   },
   {
    "duration": 51,
    "start_time": "2024-06-09T04:12:46.528Z"
   },
   {
    "duration": 20,
    "start_time": "2024-06-09T04:12:46.581Z"
   },
   {
    "duration": 22,
    "start_time": "2024-06-09T04:12:46.605Z"
   },
   {
    "duration": 73,
    "start_time": "2024-06-09T04:12:46.630Z"
   },
   {
    "duration": 17,
    "start_time": "2024-06-09T04:12:46.706Z"
   },
   {
    "duration": 4,
    "start_time": "2024-06-09T04:12:46.726Z"
   },
   {
    "duration": 3,
    "start_time": "2024-06-09T04:12:46.767Z"
   },
   {
    "duration": 4,
    "start_time": "2024-06-09T04:12:46.773Z"
   },
   {
    "duration": 8,
    "start_time": "2024-06-09T04:12:46.781Z"
   },
   {
    "duration": 4,
    "start_time": "2024-06-09T04:12:46.791Z"
   },
   {
    "duration": 4,
    "start_time": "2024-06-09T04:12:46.798Z"
   },
   {
    "duration": 3,
    "start_time": "2024-06-09T04:12:46.810Z"
   },
   {
    "duration": 3,
    "start_time": "2024-06-09T04:12:46.817Z"
   },
   {
    "duration": 3,
    "start_time": "2024-06-09T04:12:46.867Z"
   },
   {
    "duration": 77,
    "start_time": "2024-06-09T04:15:43.140Z"
   },
   {
    "duration": 46,
    "start_time": "2024-06-09T04:16:49.605Z"
   },
   {
    "duration": 40,
    "start_time": "2024-06-09T04:17:04.578Z"
   },
   {
    "duration": 25,
    "start_time": "2024-06-09T04:18:02.308Z"
   },
   {
    "duration": 748,
    "start_time": "2024-06-09T04:18:18.902Z"
   },
   {
    "duration": 185,
    "start_time": "2024-06-09T04:18:41.556Z"
   },
   {
    "duration": 14,
    "start_time": "2024-06-09T04:19:07.078Z"
   },
   {
    "duration": 38,
    "start_time": "2024-06-09T04:19:16.030Z"
   },
   {
    "duration": 6158,
    "start_time": "2024-06-09T23:08:58.067Z"
   },
   {
    "duration": 414,
    "start_time": "2024-06-09T23:09:04.230Z"
   },
   {
    "duration": 23,
    "start_time": "2024-06-09T23:09:04.647Z"
   },
   {
    "duration": 11,
    "start_time": "2024-06-09T23:09:04.674Z"
   },
   {
    "duration": 21,
    "start_time": "2024-06-09T23:09:04.702Z"
   },
   {
    "duration": 9,
    "start_time": "2024-06-09T23:09:04.726Z"
   },
   {
    "duration": 6,
    "start_time": "2024-06-09T23:09:04.738Z"
   },
   {
    "duration": 53,
    "start_time": "2024-06-09T23:09:04.748Z"
   },
   {
    "duration": 9,
    "start_time": "2024-06-09T23:09:04.805Z"
   },
   {
    "duration": 10,
    "start_time": "2024-06-09T23:09:04.818Z"
   },
   {
    "duration": 114,
    "start_time": "2024-06-09T23:09:04.831Z"
   },
   {
    "duration": 8,
    "start_time": "2024-06-09T23:09:04.948Z"
   },
   {
    "duration": 60,
    "start_time": "2024-06-09T23:09:04.960Z"
   },
   {
    "duration": 32,
    "start_time": "2024-06-09T23:09:05.027Z"
   },
   {
    "duration": 39,
    "start_time": "2024-06-09T23:09:05.063Z"
   },
   {
    "duration": 111,
    "start_time": "2024-06-09T23:09:05.104Z"
   },
   {
    "duration": 48,
    "start_time": "2024-06-09T23:09:05.218Z"
   },
   {
    "duration": 36,
    "start_time": "2024-06-09T23:09:05.269Z"
   },
   {
    "duration": 24,
    "start_time": "2024-06-09T23:09:05.308Z"
   },
   {
    "duration": 21,
    "start_time": "2024-06-09T23:09:05.336Z"
   },
   {
    "duration": 46,
    "start_time": "2024-06-09T23:09:05.360Z"
   },
   {
    "duration": 50,
    "start_time": "2024-06-09T23:09:05.410Z"
   },
   {
    "duration": 103,
    "start_time": "2024-06-09T23:09:05.463Z"
   },
   {
    "duration": 9,
    "start_time": "2024-06-09T23:09:05.569Z"
   },
   {
    "duration": 39,
    "start_time": "2024-06-09T23:09:05.601Z"
   },
   {
    "duration": 26,
    "start_time": "2024-06-09T23:09:05.643Z"
   },
   {
    "duration": 38,
    "start_time": "2024-06-09T23:09:05.672Z"
   },
   {
    "duration": 93,
    "start_time": "2024-06-09T23:09:05.713Z"
   },
   {
    "duration": 8,
    "start_time": "2024-06-09T23:09:05.810Z"
   },
   {
    "duration": 31,
    "start_time": "2024-06-09T23:09:05.821Z"
   },
   {
    "duration": 52,
    "start_time": "2024-06-09T23:09:05.855Z"
   },
   {
    "duration": 21,
    "start_time": "2024-06-09T23:09:05.910Z"
   },
   {
    "duration": 30,
    "start_time": "2024-06-09T23:09:05.934Z"
   },
   {
    "duration": 67,
    "start_time": "2024-06-09T23:09:05.968Z"
   },
   {
    "duration": 4,
    "start_time": "2024-06-09T23:09:06.038Z"
   },
   {
    "duration": 5,
    "start_time": "2024-06-09T23:09:06.045Z"
   },
   {
    "duration": 6,
    "start_time": "2024-06-09T23:09:06.054Z"
   },
   {
    "duration": 39,
    "start_time": "2024-06-09T23:09:06.063Z"
   },
   {
    "duration": 5,
    "start_time": "2024-06-09T23:09:06.106Z"
   },
   {
    "duration": 3,
    "start_time": "2024-06-09T23:09:06.115Z"
   },
   {
    "duration": 4,
    "start_time": "2024-06-09T23:09:06.127Z"
   },
   {
    "duration": 4,
    "start_time": "2024-06-09T23:09:06.134Z"
   },
   {
    "duration": 4,
    "start_time": "2024-06-09T23:09:06.142Z"
   },
   {
    "duration": 5,
    "start_time": "2024-06-09T23:09:06.148Z"
   },
   {
    "duration": 26,
    "start_time": "2024-06-09T23:09:36.767Z"
   },
   {
    "duration": 1096,
    "start_time": "2024-06-09T23:10:29.693Z"
   },
   {
    "duration": 14,
    "start_time": "2024-06-09T23:11:02.229Z"
   },
   {
    "duration": 40,
    "start_time": "2024-06-09T23:11:06.711Z"
   },
   {
    "duration": 11,
    "start_time": "2024-06-09T23:12:30.669Z"
   },
   {
    "duration": 25,
    "start_time": "2024-06-09T23:15:48.928Z"
   },
   {
    "duration": 7,
    "start_time": "2024-06-09T23:16:23.114Z"
   },
   {
    "duration": 10,
    "start_time": "2024-06-09T23:16:37.191Z"
   },
   {
    "duration": 178,
    "start_time": "2024-06-09T23:16:54.513Z"
   },
   {
    "duration": 42,
    "start_time": "2024-06-09T23:18:03.508Z"
   },
   {
    "duration": 27,
    "start_time": "2024-06-09T23:18:44.043Z"
   },
   {
    "duration": 30,
    "start_time": "2024-06-09T23:19:13.033Z"
   },
   {
    "duration": 178,
    "start_time": "2024-06-09T23:19:26.026Z"
   },
   {
    "duration": 61,
    "start_time": "2024-06-09T23:20:24.601Z"
   },
   {
    "duration": 23,
    "start_time": "2024-06-09T23:21:44.779Z"
   },
   {
    "duration": 8,
    "start_time": "2024-06-09T23:22:33.053Z"
   },
   {
    "duration": 35,
    "start_time": "2024-06-09T23:22:45.505Z"
   },
   {
    "duration": 59,
    "start_time": "2024-06-09T23:23:18.859Z"
   },
   {
    "duration": 30,
    "start_time": "2024-06-09T23:23:51.882Z"
   },
   {
    "duration": 16,
    "start_time": "2024-06-09T23:23:54.572Z"
   },
   {
    "duration": 20,
    "start_time": "2024-06-09T23:23:58.944Z"
   },
   {
    "duration": 21,
    "start_time": "2024-06-09T23:24:02.275Z"
   },
   {
    "duration": 38,
    "start_time": "2024-06-09T23:25:44.603Z"
   },
   {
    "duration": 6,
    "start_time": "2024-06-09T23:29:03.992Z"
   },
   {
    "duration": 18,
    "start_time": "2024-06-09T23:29:20.143Z"
   },
   {
    "duration": 24,
    "start_time": "2024-06-09T23:29:36.291Z"
   },
   {
    "duration": 23,
    "start_time": "2024-06-09T23:31:01.649Z"
   },
   {
    "duration": 177,
    "start_time": "2024-06-09T23:31:36.142Z"
   },
   {
    "duration": 837,
    "start_time": "2024-06-09T23:33:50.267Z"
   },
   {
    "duration": 21,
    "start_time": "2024-06-09T23:36:13.517Z"
   },
   {
    "duration": 10,
    "start_time": "2024-06-09T23:40:08.558Z"
   },
   {
    "duration": 18,
    "start_time": "2024-06-09T23:41:18.499Z"
   },
   {
    "duration": 16,
    "start_time": "2024-06-09T23:41:29.683Z"
   },
   {
    "duration": 147,
    "start_time": "2024-06-09T23:42:14.175Z"
   },
   {
    "duration": 24,
    "start_time": "2024-06-09T23:42:34.181Z"
   },
   {
    "duration": 29,
    "start_time": "2024-06-09T23:43:28.394Z"
   },
   {
    "duration": 25,
    "start_time": "2024-06-09T23:44:34.150Z"
   },
   {
    "duration": 31,
    "start_time": "2024-06-09T23:45:03.902Z"
   },
   {
    "duration": 26,
    "start_time": "2024-06-09T23:45:46.806Z"
   },
   {
    "duration": 83,
    "start_time": "2024-06-09T23:46:10.728Z"
   },
   {
    "duration": 6,
    "start_time": "2024-06-09T23:47:29.120Z"
   },
   {
    "duration": 277,
    "start_time": "2024-06-09T23:48:15.554Z"
   },
   {
    "duration": 27,
    "start_time": "2024-06-09T23:48:31.507Z"
   },
   {
    "duration": 27,
    "start_time": "2024-06-09T23:49:11.882Z"
   },
   {
    "duration": 46,
    "start_time": "2024-06-09T23:49:57.704Z"
   },
   {
    "duration": 35,
    "start_time": "2024-06-09T23:50:03.616Z"
   },
   {
    "duration": 78,
    "start_time": "2024-06-09T23:53:34.111Z"
   },
   {
    "duration": 77,
    "start_time": "2024-06-09T23:54:43.245Z"
   },
   {
    "duration": 4,
    "start_time": "2024-06-09T23:54:57.135Z"
   },
   {
    "duration": 250,
    "start_time": "2024-06-09T23:54:57.182Z"
   },
   {
    "duration": 20,
    "start_time": "2024-06-09T23:54:57.435Z"
   },
   {
    "duration": 8,
    "start_time": "2024-06-09T23:54:57.458Z"
   },
   {
    "duration": 36,
    "start_time": "2024-06-09T23:54:57.471Z"
   },
   {
    "duration": 8,
    "start_time": "2024-06-09T23:54:58.935Z"
   },
   {
    "duration": 7,
    "start_time": "2024-06-09T23:54:58.947Z"
   },
   {
    "duration": 7,
    "start_time": "2024-06-09T23:54:58.957Z"
   },
   {
    "duration": 14,
    "start_time": "2024-06-09T23:54:58.967Z"
   },
   {
    "duration": 22,
    "start_time": "2024-06-09T23:54:58.986Z"
   },
   {
    "duration": 93,
    "start_time": "2024-06-09T23:54:59.012Z"
   },
   {
    "duration": 8,
    "start_time": "2024-06-09T23:54:59.108Z"
   },
   {
    "duration": 32,
    "start_time": "2024-06-09T23:54:59.120Z"
   },
   {
    "duration": 62,
    "start_time": "2024-06-09T23:54:59.155Z"
   },
   {
    "duration": 12,
    "start_time": "2024-06-09T23:54:59.220Z"
   },
   {
    "duration": 107,
    "start_time": "2024-06-09T23:54:59.239Z"
   },
   {
    "duration": 54,
    "start_time": "2024-06-09T23:54:59.349Z"
   },
   {
    "duration": 8,
    "start_time": "2024-06-09T23:54:59.406Z"
   },
   {
    "duration": 18,
    "start_time": "2024-06-09T23:54:59.421Z"
   },
   {
    "duration": 20,
    "start_time": "2024-06-09T23:54:59.442Z"
   },
   {
    "duration": 11,
    "start_time": "2024-06-09T23:54:59.502Z"
   },
   {
    "duration": 51,
    "start_time": "2024-06-09T23:54:59.516Z"
   },
   {
    "duration": 104,
    "start_time": "2024-06-09T23:54:59.570Z"
   },
   {
    "duration": 26,
    "start_time": "2024-06-09T23:54:59.677Z"
   },
   {
    "duration": 39,
    "start_time": "2024-06-09T23:54:59.707Z"
   },
   {
    "duration": 54,
    "start_time": "2024-06-09T23:54:59.750Z"
   },
   {
    "duration": 11,
    "start_time": "2024-06-09T23:54:59.809Z"
   },
   {
    "duration": 89,
    "start_time": "2024-06-09T23:54:59.823Z"
   },
   {
    "duration": 8,
    "start_time": "2024-06-09T23:54:59.915Z"
   },
   {
    "duration": 33,
    "start_time": "2024-06-09T23:54:59.927Z"
   },
   {
    "duration": 44,
    "start_time": "2024-06-09T23:54:59.963Z"
   },
   {
    "duration": 23,
    "start_time": "2024-06-09T23:55:00.010Z"
   },
   {
    "duration": 23,
    "start_time": "2024-06-09T23:55:00.036Z"
   },
   {
    "duration": 76,
    "start_time": "2024-06-09T23:55:00.061Z"
   },
   {
    "duration": 3,
    "start_time": "2024-06-09T23:55:00.140Z"
   },
   {
    "duration": 6,
    "start_time": "2024-06-09T23:55:00.147Z"
   },
   {
    "duration": 3,
    "start_time": "2024-06-09T23:55:00.156Z"
   },
   {
    "duration": 3,
    "start_time": "2024-06-09T23:55:00.163Z"
   },
   {
    "duration": 4,
    "start_time": "2024-06-09T23:55:00.203Z"
   },
   {
    "duration": 5,
    "start_time": "2024-06-09T23:55:00.211Z"
   },
   {
    "duration": 4,
    "start_time": "2024-06-09T23:55:00.220Z"
   },
   {
    "duration": 4,
    "start_time": "2024-06-09T23:55:00.227Z"
   },
   {
    "duration": 3,
    "start_time": "2024-06-09T23:55:00.234Z"
   },
   {
    "duration": 3,
    "start_time": "2024-06-09T23:55:00.241Z"
   },
   {
    "duration": 35,
    "start_time": "2024-06-10T00:04:05.205Z"
   },
   {
    "duration": 6,
    "start_time": "2024-06-10T00:05:29.405Z"
   },
   {
    "duration": 18,
    "start_time": "2024-06-10T00:05:35.795Z"
   },
   {
    "duration": 6,
    "start_time": "2024-06-10T00:14:18.134Z"
   },
   {
    "duration": 35,
    "start_time": "2024-06-10T00:14:40.945Z"
   },
   {
    "duration": 29,
    "start_time": "2024-06-10T00:15:35.401Z"
   },
   {
    "duration": 51,
    "start_time": "2024-06-10T00:17:16.205Z"
   },
   {
    "duration": 331,
    "start_time": "2024-06-10T00:17:28.939Z"
   },
   {
    "duration": 35,
    "start_time": "2024-06-10T00:17:49.430Z"
   },
   {
    "duration": 25,
    "start_time": "2024-06-10T00:18:11.569Z"
   },
   {
    "duration": 35,
    "start_time": "2024-06-10T00:18:17.594Z"
   },
   {
    "duration": 34,
    "start_time": "2024-06-10T00:18:21.858Z"
   },
   {
    "duration": 40,
    "start_time": "2024-06-10T00:18:26.328Z"
   },
   {
    "duration": 30,
    "start_time": "2024-06-10T00:18:31.508Z"
   },
   {
    "duration": 24,
    "start_time": "2024-06-10T00:18:56.167Z"
   },
   {
    "duration": 8,
    "start_time": "2024-06-10T00:19:07.072Z"
   },
   {
    "duration": 35,
    "start_time": "2024-06-10T00:20:00.000Z"
   },
   {
    "duration": 97,
    "start_time": "2024-06-10T00:20:18.219Z"
   },
   {
    "duration": 35,
    "start_time": "2024-06-10T00:20:33.436Z"
   },
   {
    "duration": 30,
    "start_time": "2024-06-10T00:20:56.513Z"
   },
   {
    "duration": 17,
    "start_time": "2024-06-10T00:21:02.855Z"
   },
   {
    "duration": 9,
    "start_time": "2024-06-10T00:21:18.982Z"
   },
   {
    "duration": 22,
    "start_time": "2024-06-10T00:21:25.282Z"
   },
   {
    "duration": 13,
    "start_time": "2024-06-10T00:22:01.755Z"
   },
   {
    "duration": 18,
    "start_time": "2024-06-10T00:22:29.205Z"
   },
   {
    "duration": 9,
    "start_time": "2024-06-10T00:24:12.022Z"
   },
   {
    "duration": 7,
    "start_time": "2024-06-10T00:25:41.057Z"
   },
   {
    "duration": 7,
    "start_time": "2024-06-10T00:25:51.623Z"
   },
   {
    "duration": 6,
    "start_time": "2024-06-10T00:26:49.398Z"
   },
   {
    "duration": 97,
    "start_time": "2024-06-10T00:27:09.690Z"
   },
   {
    "duration": 51,
    "start_time": "2024-06-10T00:29:07.200Z"
   },
   {
    "duration": 36,
    "start_time": "2024-06-10T00:29:15.320Z"
   },
   {
    "duration": 43,
    "start_time": "2024-06-10T00:33:31.968Z"
   },
   {
    "duration": 93,
    "start_time": "2024-06-10T00:33:41.660Z"
   },
   {
    "duration": 36,
    "start_time": "2024-06-10T00:33:51.057Z"
   },
   {
    "duration": 39,
    "start_time": "2024-06-10T00:40:41.676Z"
   },
   {
    "duration": 35,
    "start_time": "2024-06-10T00:40:59.876Z"
   },
   {
    "duration": 40,
    "start_time": "2024-06-10T00:40:59.914Z"
   },
   {
    "duration": 37,
    "start_time": "2024-06-10T00:41:04.615Z"
   },
   {
    "duration": 6,
    "start_time": "2024-06-10T00:41:48.191Z"
   },
   {
    "duration": 153,
    "start_time": "2024-06-10T00:46:42.724Z"
   },
   {
    "duration": 96,
    "start_time": "2024-06-10T00:46:54.872Z"
   },
   {
    "duration": 91,
    "start_time": "2024-06-10T00:47:09.271Z"
   },
   {
    "duration": 212,
    "start_time": "2024-06-10T00:47:43.955Z"
   },
   {
    "duration": 41,
    "start_time": "2024-06-10T00:48:00.310Z"
   },
   {
    "duration": 29,
    "start_time": "2024-06-10T00:48:07.016Z"
   },
   {
    "duration": 35,
    "start_time": "2024-06-10T00:48:34.724Z"
   },
   {
    "duration": 44,
    "start_time": "2024-06-10T00:48:48.024Z"
   },
   {
    "duration": 29,
    "start_time": "2024-06-10T00:49:03.278Z"
   },
   {
    "duration": 37,
    "start_time": "2024-06-10T00:50:22.222Z"
   },
   {
    "duration": 93,
    "start_time": "2024-06-10T00:50:45.333Z"
   },
   {
    "duration": 224,
    "start_time": "2024-06-10T00:52:46.066Z"
   },
   {
    "duration": 21,
    "start_time": "2024-06-10T00:53:16.558Z"
   },
   {
    "duration": 16,
    "start_time": "2024-06-10T00:53:36.479Z"
   },
   {
    "duration": 14,
    "start_time": "2024-06-10T00:54:58.563Z"
   },
   {
    "duration": 43,
    "start_time": "2024-06-10T00:55:20.659Z"
   },
   {
    "duration": 18,
    "start_time": "2024-06-10T00:55:27.982Z"
   },
   {
    "duration": 39,
    "start_time": "2024-06-10T00:55:36.546Z"
   },
   {
    "duration": 34,
    "start_time": "2024-06-10T00:56:20.055Z"
   },
   {
    "duration": 22,
    "start_time": "2024-06-10T00:56:42.346Z"
   },
   {
    "duration": 192,
    "start_time": "2024-06-10T00:57:06.780Z"
   },
   {
    "duration": 236,
    "start_time": "2024-06-10T00:57:28.253Z"
   },
   {
    "duration": 20,
    "start_time": "2024-06-10T00:57:50.461Z"
   },
   {
    "duration": 30,
    "start_time": "2024-06-10T00:57:58.867Z"
   },
   {
    "duration": 39,
    "start_time": "2024-06-10T00:58:09.176Z"
   },
   {
    "duration": 202,
    "start_time": "2024-06-10T00:58:53.991Z"
   },
   {
    "duration": 205,
    "start_time": "2024-06-10T00:59:11.558Z"
   },
   {
    "duration": 101,
    "start_time": "2024-06-10T01:04:24.579Z"
   },
   {
    "duration": 781,
    "start_time": "2024-06-10T01:04:48.360Z"
   },
   {
    "duration": 36,
    "start_time": "2024-06-10T01:04:59.479Z"
   },
   {
    "duration": 49,
    "start_time": "2024-06-10T01:09:51.970Z"
   },
   {
    "duration": 95,
    "start_time": "2024-06-10T01:10:44.308Z"
   },
   {
    "duration": 57,
    "start_time": "2024-06-10T01:12:05.946Z"
   },
   {
    "duration": 43,
    "start_time": "2024-06-10T01:14:30.561Z"
   },
   {
    "duration": 43,
    "start_time": "2024-06-10T01:15:10.796Z"
   },
   {
    "duration": 21,
    "start_time": "2024-06-10T01:15:25.423Z"
   },
   {
    "duration": 46,
    "start_time": "2024-06-10T01:15:51.392Z"
   },
   {
    "duration": 36,
    "start_time": "2024-06-10T01:16:37.705Z"
   },
   {
    "duration": 43,
    "start_time": "2024-06-10T01:17:47.480Z"
   },
   {
    "duration": 34,
    "start_time": "2024-06-10T01:17:57.055Z"
   },
   {
    "duration": 45,
    "start_time": "2024-06-10T01:18:09.249Z"
   },
   {
    "duration": 7,
    "start_time": "2024-06-10T01:19:31.806Z"
   },
   {
    "duration": 6,
    "start_time": "2024-06-10T01:19:42.122Z"
   },
   {
    "duration": 40,
    "start_time": "2024-06-10T01:19:54.976Z"
   },
   {
    "duration": 29,
    "start_time": "2024-06-10T01:20:15.319Z"
   },
   {
    "duration": 45,
    "start_time": "2024-06-10T01:21:03.134Z"
   },
   {
    "duration": 22,
    "start_time": "2024-06-10T01:21:22.085Z"
   },
   {
    "duration": 150,
    "start_time": "2024-06-10T01:22:24.983Z"
   },
   {
    "duration": 52,
    "start_time": "2024-06-10T01:22:51.825Z"
   },
   {
    "duration": 81,
    "start_time": "2024-06-10T01:22:58.336Z"
   },
   {
    "duration": 30,
    "start_time": "2024-06-10T01:23:07.153Z"
   },
   {
    "duration": 105,
    "start_time": "2024-06-10T01:24:35.429Z"
   },
   {
    "duration": 8,
    "start_time": "2024-06-10T01:31:49.312Z"
   },
   {
    "duration": 41,
    "start_time": "2024-06-10T01:31:55.490Z"
   },
   {
    "duration": 19,
    "start_time": "2024-06-10T01:33:29.653Z"
   },
   {
    "duration": 23,
    "start_time": "2024-06-10T01:33:40.054Z"
   },
   {
    "duration": 25,
    "start_time": "2024-06-10T01:33:47.173Z"
   },
   {
    "duration": 41,
    "start_time": "2024-06-10T01:33:51.631Z"
   },
   {
    "duration": 35,
    "start_time": "2024-06-10T01:34:03.073Z"
   },
   {
    "duration": 45,
    "start_time": "2024-06-10T01:34:12.519Z"
   },
   {
    "duration": 20,
    "start_time": "2024-06-10T01:34:21.389Z"
   },
   {
    "duration": 96,
    "start_time": "2024-06-10T01:34:44.126Z"
   },
   {
    "duration": 92,
    "start_time": "2024-06-10T01:34:52.110Z"
   },
   {
    "duration": 35,
    "start_time": "2024-06-10T01:34:59.415Z"
   },
   {
    "duration": 41,
    "start_time": "2024-06-10T01:35:21.928Z"
   },
   {
    "duration": 25,
    "start_time": "2024-06-10T01:35:28.743Z"
   },
   {
    "duration": 98,
    "start_time": "2024-06-10T01:38:55.267Z"
   },
   {
    "duration": 99,
    "start_time": "2024-06-10T01:39:09.270Z"
   },
   {
    "duration": 38,
    "start_time": "2024-06-10T01:39:21.829Z"
   },
   {
    "duration": 22,
    "start_time": "2024-06-10T01:39:38.299Z"
   },
   {
    "duration": 12,
    "start_time": "2024-06-10T01:43:06.656Z"
   },
   {
    "duration": 13,
    "start_time": "2024-06-10T01:44:03.612Z"
   },
   {
    "duration": 23,
    "start_time": "2024-06-10T01:44:15.159Z"
   },
   {
    "duration": 35,
    "start_time": "2024-06-10T01:44:42.650Z"
   },
   {
    "duration": 13,
    "start_time": "2024-06-10T01:44:55.326Z"
   },
   {
    "duration": 83,
    "start_time": "2024-06-10T01:46:02.361Z"
   },
   {
    "duration": 68,
    "start_time": "2024-06-10T01:46:22.563Z"
   },
   {
    "duration": 11,
    "start_time": "2024-06-10T01:47:01.563Z"
   },
   {
    "duration": 21,
    "start_time": "2024-06-10T01:47:04.639Z"
   },
   {
    "duration": 13,
    "start_time": "2024-06-10T01:48:52.259Z"
   },
   {
    "duration": 22,
    "start_time": "2024-06-10T01:49:34.024Z"
   },
   {
    "duration": 23,
    "start_time": "2024-06-10T01:50:42.430Z"
   },
   {
    "duration": 25,
    "start_time": "2024-06-10T01:50:51.440Z"
   },
   {
    "duration": 16,
    "start_time": "2024-06-10T01:52:30.206Z"
   },
   {
    "duration": 25,
    "start_time": "2024-06-10T01:52:40.501Z"
   },
   {
    "duration": 30,
    "start_time": "2024-06-10T01:54:57.515Z"
   },
   {
    "duration": 36,
    "start_time": "2024-06-10T01:56:25.022Z"
   },
   {
    "duration": 21,
    "start_time": "2024-06-10T01:56:37.237Z"
   },
   {
    "duration": 46,
    "start_time": "2024-06-10T01:56:42.573Z"
   },
   {
    "duration": 36,
    "start_time": "2024-06-10T01:57:33.458Z"
   },
   {
    "duration": 38,
    "start_time": "2024-06-10T01:57:48.925Z"
   },
   {
    "duration": 38,
    "start_time": "2024-06-10T01:58:06.327Z"
   },
   {
    "duration": 33,
    "start_time": "2024-06-10T02:00:14.449Z"
   },
   {
    "duration": 33,
    "start_time": "2024-06-10T02:00:52.221Z"
   },
   {
    "duration": 31,
    "start_time": "2024-06-10T02:01:48.452Z"
   },
   {
    "duration": 27,
    "start_time": "2024-06-10T02:02:15.012Z"
   },
   {
    "duration": 4,
    "start_time": "2024-06-10T02:07:13.023Z"
   },
   {
    "duration": 281,
    "start_time": "2024-06-10T02:09:56.496Z"
   },
   {
    "duration": 8,
    "start_time": "2024-06-10T02:12:45.610Z"
   },
   {
    "duration": 13,
    "start_time": "2024-06-10T02:14:35.917Z"
   },
   {
    "duration": 9,
    "start_time": "2024-06-10T02:15:45.497Z"
   },
   {
    "duration": 63,
    "start_time": "2024-06-10T02:17:28.943Z"
   },
   {
    "duration": 62,
    "start_time": "2024-06-10T02:18:04.059Z"
   },
   {
    "duration": 8,
    "start_time": "2024-06-10T02:22:45.735Z"
   },
   {
    "duration": 21,
    "start_time": "2024-06-10T02:27:19.370Z"
   },
   {
    "duration": 23,
    "start_time": "2024-06-10T02:28:37.617Z"
   },
   {
    "duration": 7,
    "start_time": "2024-06-10T02:40:09.367Z"
   },
   {
    "duration": 23,
    "start_time": "2024-06-10T02:51:52.791Z"
   },
   {
    "duration": 8,
    "start_time": "2024-06-10T02:52:04.448Z"
   },
   {
    "duration": 26,
    "start_time": "2024-06-10T02:56:01.471Z"
   },
   {
    "duration": 9,
    "start_time": "2024-06-10T02:56:10.649Z"
   },
   {
    "duration": 9,
    "start_time": "2024-06-10T02:56:30.850Z"
   },
   {
    "duration": 9,
    "start_time": "2024-06-10T03:00:06.843Z"
   },
   {
    "duration": 14,
    "start_time": "2024-06-10T03:00:55.949Z"
   },
   {
    "duration": 8,
    "start_time": "2024-06-10T03:01:04.279Z"
   },
   {
    "duration": 8,
    "start_time": "2024-06-10T03:03:37.985Z"
   },
   {
    "duration": 8,
    "start_time": "2024-06-10T03:03:45.347Z"
   },
   {
    "duration": 9,
    "start_time": "2024-06-10T03:04:40.139Z"
   },
   {
    "duration": 44,
    "start_time": "2024-06-10T03:05:17.539Z"
   },
   {
    "duration": 30,
    "start_time": "2024-06-10T03:08:43.861Z"
   },
   {
    "duration": 399,
    "start_time": "2024-06-10T03:10:23.254Z"
   },
   {
    "duration": 113,
    "start_time": "2024-06-10T03:11:43.922Z"
   },
   {
    "duration": 19,
    "start_time": "2024-06-10T03:12:43.704Z"
   },
   {
    "duration": 5,
    "start_time": "2024-06-10T03:15:18.826Z"
   },
   {
    "duration": 18,
    "start_time": "2024-06-10T03:15:21.889Z"
   },
   {
    "duration": 8,
    "start_time": "2024-06-10T03:15:48.885Z"
   },
   {
    "duration": 19,
    "start_time": "2024-06-10T03:15:51.798Z"
   },
   {
    "duration": 40,
    "start_time": "2024-06-10T03:16:40.757Z"
   },
   {
    "duration": 9,
    "start_time": "2024-06-10T03:17:12.593Z"
   },
   {
    "duration": 6,
    "start_time": "2024-06-10T03:26:22.809Z"
   },
   {
    "duration": 199,
    "start_time": "2024-06-10T03:26:40.951Z"
   },
   {
    "duration": 49,
    "start_time": "2024-06-10T03:27:05.485Z"
   },
   {
    "duration": 7,
    "start_time": "2024-06-10T03:27:56.124Z"
   },
   {
    "duration": 21,
    "start_time": "2024-06-10T03:29:30.450Z"
   },
   {
    "duration": 7,
    "start_time": "2024-06-10T03:30:39.678Z"
   },
   {
    "duration": 10,
    "start_time": "2024-06-10T03:31:57.863Z"
   },
   {
    "duration": 9,
    "start_time": "2024-06-10T03:32:40.724Z"
   },
   {
    "duration": 7,
    "start_time": "2024-06-10T03:32:45.192Z"
   },
   {
    "duration": 8,
    "start_time": "2024-06-10T03:32:49.316Z"
   },
   {
    "duration": 18,
    "start_time": "2024-06-10T03:33:07.808Z"
   },
   {
    "duration": 19,
    "start_time": "2024-06-10T03:33:18.209Z"
   },
   {
    "duration": 16,
    "start_time": "2024-06-10T03:33:40.633Z"
   },
   {
    "duration": 331,
    "start_time": "2024-06-10T22:40:19.218Z"
   },
   {
    "duration": 4806,
    "start_time": "2024-06-10T22:40:24.436Z"
   },
   {
    "duration": 404,
    "start_time": "2024-06-10T22:40:29.246Z"
   },
   {
    "duration": 18,
    "start_time": "2024-06-10T22:40:29.654Z"
   },
   {
    "duration": 10,
    "start_time": "2024-06-10T22:40:29.676Z"
   },
   {
    "duration": 45,
    "start_time": "2024-06-10T22:40:29.691Z"
   },
   {
    "duration": 8,
    "start_time": "2024-06-10T22:40:29.740Z"
   },
   {
    "duration": 6,
    "start_time": "2024-06-10T22:40:29.752Z"
   },
   {
    "duration": 7,
    "start_time": "2024-06-10T22:40:29.762Z"
   },
   {
    "duration": 8,
    "start_time": "2024-06-10T22:40:29.773Z"
   },
   {
    "duration": 10,
    "start_time": "2024-06-10T22:40:29.832Z"
   },
   {
    "duration": 100,
    "start_time": "2024-06-10T22:40:29.845Z"
   },
   {
    "duration": 7,
    "start_time": "2024-06-10T22:40:29.949Z"
   },
   {
    "duration": 36,
    "start_time": "2024-06-10T22:40:29.960Z"
   },
   {
    "duration": 56,
    "start_time": "2024-06-10T22:40:30.002Z"
   },
   {
    "duration": 12,
    "start_time": "2024-06-10T22:40:30.061Z"
   },
   {
    "duration": 130,
    "start_time": "2024-06-10T22:40:30.076Z"
   },
   {
    "duration": 51,
    "start_time": "2024-06-10T22:40:30.209Z"
   },
   {
    "duration": 6,
    "start_time": "2024-06-10T22:40:30.263Z"
   },
   {
    "duration": 19,
    "start_time": "2024-06-10T22:40:30.272Z"
   },
   {
    "duration": 58,
    "start_time": "2024-06-10T22:40:30.294Z"
   },
   {
    "duration": 11,
    "start_time": "2024-06-10T22:40:30.355Z"
   },
   {
    "duration": 81,
    "start_time": "2024-06-10T22:40:30.369Z"
   },
   {
    "duration": 90,
    "start_time": "2024-06-10T22:40:30.453Z"
   },
   {
    "duration": 8,
    "start_time": "2024-06-10T22:40:30.546Z"
   },
   {
    "duration": 44,
    "start_time": "2024-06-10T22:40:30.556Z"
   },
   {
    "duration": 45,
    "start_time": "2024-06-10T22:40:30.602Z"
   },
   {
    "duration": 12,
    "start_time": "2024-06-10T22:40:30.650Z"
   },
   {
    "duration": 98,
    "start_time": "2024-06-10T22:40:30.664Z"
   },
   {
    "duration": 8,
    "start_time": "2024-06-10T22:40:30.765Z"
   },
   {
    "duration": 60,
    "start_time": "2024-06-10T22:40:30.777Z"
   },
   {
    "duration": 20,
    "start_time": "2024-06-10T22:40:30.840Z"
   },
   {
    "duration": 23,
    "start_time": "2024-06-10T22:40:30.862Z"
   },
   {
    "duration": 57,
    "start_time": "2024-06-10T22:40:30.888Z"
   },
   {
    "duration": 39,
    "start_time": "2024-06-10T22:40:30.949Z"
   },
   {
    "duration": 54,
    "start_time": "2024-06-10T22:40:30.991Z"
   },
   {
    "duration": 11,
    "start_time": "2024-06-10T22:40:31.047Z"
   },
   {
    "duration": 32,
    "start_time": "2024-06-10T22:40:31.060Z"
   },
   {
    "duration": 41,
    "start_time": "2024-06-10T22:40:31.095Z"
   },
   {
    "duration": 19,
    "start_time": "2024-06-10T22:40:31.139Z"
   },
   {
    "duration": 7,
    "start_time": "2024-06-10T22:40:31.161Z"
   },
   {
    "duration": 3,
    "start_time": "2024-06-10T22:40:31.176Z"
   },
   {
    "duration": 3,
    "start_time": "2024-06-10T22:40:31.183Z"
   },
   {
    "duration": 4,
    "start_time": "2024-06-10T22:40:31.234Z"
   },
   {
    "duration": 3,
    "start_time": "2024-06-10T22:40:31.243Z"
   },
   {
    "duration": 3,
    "start_time": "2024-06-10T22:40:31.249Z"
   },
   {
    "duration": 3,
    "start_time": "2024-06-10T22:40:31.256Z"
   },
   {
    "duration": 4,
    "start_time": "2024-06-10T22:40:31.262Z"
   },
   {
    "duration": 9,
    "start_time": "2024-06-10T22:49:10.016Z"
   },
   {
    "duration": 9,
    "start_time": "2024-06-10T22:49:24.474Z"
   },
   {
    "duration": 1211,
    "start_time": "2024-06-10T22:53:49.410Z"
   },
   {
    "duration": 16,
    "start_time": "2024-06-10T22:54:14.290Z"
   },
   {
    "duration": 31,
    "start_time": "2024-06-10T22:57:02.301Z"
   },
   {
    "duration": 58,
    "start_time": "2024-06-10T23:04:25.347Z"
   },
   {
    "duration": 54,
    "start_time": "2024-06-10T23:04:39.168Z"
   },
   {
    "duration": 824,
    "start_time": "2024-06-10T23:04:45.746Z"
   },
   {
    "duration": 36,
    "start_time": "2024-06-10T23:05:15.982Z"
   },
   {
    "duration": 576,
    "start_time": "2024-06-10T23:08:47.990Z"
   },
   {
    "duration": 350,
    "start_time": "2024-06-10T23:09:04.160Z"
   },
   {
    "duration": 13,
    "start_time": "2024-06-10T23:10:36.140Z"
   },
   {
    "duration": 11,
    "start_time": "2024-06-10T23:10:48.504Z"
   },
   {
    "duration": 16,
    "start_time": "2024-06-10T23:11:27.714Z"
   },
   {
    "duration": 282,
    "start_time": "2024-06-10T23:16:05.583Z"
   },
   {
    "duration": 171,
    "start_time": "2024-06-10T23:16:37.549Z"
   },
   {
    "duration": 355,
    "start_time": "2024-06-10T23:20:05.587Z"
   },
   {
    "duration": 468,
    "start_time": "2024-06-10T23:20:21.844Z"
   },
   {
    "duration": 295,
    "start_time": "2024-06-10T23:21:26.208Z"
   },
   {
    "duration": 310,
    "start_time": "2024-06-10T23:21:42.178Z"
   },
   {
    "duration": 333,
    "start_time": "2024-06-10T23:22:26.806Z"
   },
   {
    "duration": 309,
    "start_time": "2024-06-10T23:27:13.696Z"
   },
   {
    "duration": 342,
    "start_time": "2024-06-10T23:27:32.493Z"
   },
   {
    "duration": 326,
    "start_time": "2024-06-10T23:27:40.174Z"
   },
   {
    "duration": 291,
    "start_time": "2024-06-10T23:28:13.578Z"
   },
   {
    "duration": 5,
    "start_time": "2024-06-10T23:37:03.649Z"
   },
   {
    "duration": 8,
    "start_time": "2024-06-10T23:39:12.268Z"
   },
   {
    "duration": 7,
    "start_time": "2024-06-10T23:39:17.121Z"
   },
   {
    "duration": 7,
    "start_time": "2024-06-10T23:40:51.424Z"
   },
   {
    "duration": 7,
    "start_time": "2024-06-10T23:40:57.412Z"
   },
   {
    "duration": 116,
    "start_time": "2024-06-10T23:42:48.448Z"
   },
   {
    "duration": 5,
    "start_time": "2024-06-10T23:42:51.368Z"
   },
   {
    "duration": 295,
    "start_time": "2024-06-10T23:42:51.377Z"
   },
   {
    "duration": 19,
    "start_time": "2024-06-10T23:42:51.676Z"
   },
   {
    "duration": 8,
    "start_time": "2024-06-10T23:42:51.699Z"
   },
   {
    "duration": 37,
    "start_time": "2024-06-10T23:42:51.713Z"
   },
   {
    "duration": 10,
    "start_time": "2024-06-10T23:42:51.754Z"
   },
   {
    "duration": 7,
    "start_time": "2024-06-10T23:42:51.768Z"
   },
   {
    "duration": 8,
    "start_time": "2024-06-10T23:42:51.778Z"
   },
   {
    "duration": 50,
    "start_time": "2024-06-10T23:42:51.789Z"
   },
   {
    "duration": 11,
    "start_time": "2024-06-10T23:42:51.843Z"
   },
   {
    "duration": 107,
    "start_time": "2024-06-10T23:42:51.858Z"
   },
   {
    "duration": 7,
    "start_time": "2024-06-10T23:42:51.968Z"
   },
   {
    "duration": 58,
    "start_time": "2024-06-10T23:42:51.978Z"
   },
   {
    "duration": 30,
    "start_time": "2024-06-10T23:42:52.047Z"
   },
   {
    "duration": 12,
    "start_time": "2024-06-10T23:42:52.080Z"
   },
   {
    "duration": 131,
    "start_time": "2024-06-10T23:42:52.095Z"
   },
   {
    "duration": 43,
    "start_time": "2024-06-10T23:42:52.232Z"
   },
   {
    "duration": 6,
    "start_time": "2024-06-10T23:42:52.279Z"
   },
   {
    "duration": 49,
    "start_time": "2024-06-10T23:42:52.288Z"
   },
   {
    "duration": 21,
    "start_time": "2024-06-10T23:42:52.340Z"
   },
   {
    "duration": 12,
    "start_time": "2024-06-10T23:42:52.363Z"
   },
   {
    "duration": 92,
    "start_time": "2024-06-10T23:42:52.378Z"
   },
   {
    "duration": 89,
    "start_time": "2024-06-10T23:42:52.472Z"
   },
   {
    "duration": 7,
    "start_time": "2024-06-10T23:42:52.564Z"
   },
   {
    "duration": 63,
    "start_time": "2024-06-10T23:42:52.574Z"
   },
   {
    "duration": 29,
    "start_time": "2024-06-10T23:42:52.640Z"
   },
   {
    "duration": 11,
    "start_time": "2024-06-10T23:42:52.672Z"
   },
   {
    "duration": 115,
    "start_time": "2024-06-10T23:42:52.686Z"
   },
   {
    "duration": 8,
    "start_time": "2024-06-10T23:42:52.804Z"
   },
   {
    "duration": 54,
    "start_time": "2024-06-10T23:42:52.815Z"
   },
   {
    "duration": 30,
    "start_time": "2024-06-10T23:42:52.872Z"
   },
   {
    "duration": 50,
    "start_time": "2024-06-10T23:42:52.905Z"
   },
   {
    "duration": 28,
    "start_time": "2024-06-10T23:42:52.958Z"
   },
   {
    "duration": 70,
    "start_time": "2024-06-10T23:42:52.989Z"
   },
   {
    "duration": 29,
    "start_time": "2024-06-10T23:42:53.062Z"
   },
   {
    "duration": 9,
    "start_time": "2024-06-10T23:42:53.093Z"
   },
   {
    "duration": 57,
    "start_time": "2024-06-10T23:42:53.105Z"
   },
   {
    "duration": 9,
    "start_time": "2024-06-10T23:42:53.165Z"
   },
   {
    "duration": 17,
    "start_time": "2024-06-10T23:42:53.177Z"
   },
   {
    "duration": 366,
    "start_time": "2024-06-10T23:42:53.232Z"
   },
   {
    "duration": 311,
    "start_time": "2024-06-10T23:42:53.605Z"
   },
   {
    "duration": 8,
    "start_time": "2024-06-10T23:42:53.932Z"
   },
   {
    "duration": 4,
    "start_time": "2024-06-10T23:42:53.945Z"
   },
   {
    "duration": 5,
    "start_time": "2024-06-10T23:42:53.953Z"
   },
   {
    "duration": 3,
    "start_time": "2024-06-10T23:42:53.962Z"
   },
   {
    "duration": 4,
    "start_time": "2024-06-10T23:42:53.969Z"
   },
   {
    "duration": 4,
    "start_time": "2024-06-10T23:42:53.977Z"
   },
   {
    "duration": 7,
    "start_time": "2024-06-10T23:46:50.918Z"
   },
   {
    "duration": 28,
    "start_time": "2024-06-10T23:47:09.651Z"
   },
   {
    "duration": 28,
    "start_time": "2024-06-10T23:47:26.574Z"
   },
   {
    "duration": 69,
    "start_time": "2024-06-10T23:51:11.443Z"
   },
   {
    "duration": 44,
    "start_time": "2024-06-10T23:52:23.875Z"
   },
   {
    "duration": 41,
    "start_time": "2024-06-10T23:52:34.643Z"
   },
   {
    "duration": 170,
    "start_time": "2024-06-10T23:52:47.510Z"
   },
   {
    "duration": 172,
    "start_time": "2024-06-11T00:03:22.272Z"
   },
   {
    "duration": 6,
    "start_time": "2024-06-11T00:05:18.114Z"
   },
   {
    "duration": 691,
    "start_time": "2024-06-11T00:05:33.049Z"
   },
   {
    "duration": 103,
    "start_time": "2024-06-11T00:05:45.031Z"
   },
   {
    "duration": 91,
    "start_time": "2024-06-11T00:05:56.030Z"
   },
   {
    "duration": 5,
    "start_time": "2024-06-11T00:06:12.731Z"
   },
   {
    "duration": 166,
    "start_time": "2024-06-11T00:06:17.101Z"
   },
   {
    "duration": 174,
    "start_time": "2024-06-11T00:06:26.655Z"
   },
   {
    "duration": 166,
    "start_time": "2024-06-11T00:06:38.371Z"
   },
   {
    "duration": 164,
    "start_time": "2024-06-11T00:06:45.638Z"
   },
   {
    "duration": 599,
    "start_time": "2024-06-11T00:06:50.324Z"
   },
   {
    "duration": 162,
    "start_time": "2024-06-11T00:06:57.744Z"
   },
   {
    "duration": 28,
    "start_time": "2024-06-11T00:08:16.029Z"
   },
   {
    "duration": 94,
    "start_time": "2024-06-11T00:08:27.068Z"
   },
   {
    "duration": 43,
    "start_time": "2024-06-11T00:08:44.533Z"
   },
   {
    "duration": 163,
    "start_time": "2024-06-11T00:09:19.406Z"
   },
   {
    "duration": 176,
    "start_time": "2024-06-11T00:10:01.818Z"
   },
   {
    "duration": 5,
    "start_time": "2024-06-11T00:14:02.916Z"
   },
   {
    "duration": 84,
    "start_time": "2024-06-11T00:14:08.224Z"
   },
   {
    "duration": 168,
    "start_time": "2024-06-11T00:14:27.196Z"
   },
   {
    "duration": 162,
    "start_time": "2024-06-11T00:14:39.053Z"
   },
   {
    "duration": 167,
    "start_time": "2024-06-11T00:15:05.678Z"
   },
   {
    "duration": 162,
    "start_time": "2024-06-11T00:16:42.496Z"
   },
   {
    "duration": 181,
    "start_time": "2024-06-11T00:17:21.952Z"
   },
   {
    "duration": 361,
    "start_time": "2024-06-11T00:21:16.968Z"
   },
   {
    "duration": 450,
    "start_time": "2024-06-11T00:26:34.516Z"
   },
   {
    "duration": 8,
    "start_time": "2024-06-11T00:32:50.397Z"
   },
   {
    "duration": 16,
    "start_time": "2024-06-11T00:46:36.863Z"
   },
   {
    "duration": 22,
    "start_time": "2024-06-11T00:47:52.333Z"
   },
   {
    "duration": 301,
    "start_time": "2024-06-11T00:48:43.275Z"
   },
   {
    "duration": 8,
    "start_time": "2024-06-11T00:55:17.944Z"
   },
   {
    "duration": 313,
    "start_time": "2024-06-11T00:56:37.188Z"
   },
   {
    "duration": 320,
    "start_time": "2024-06-11T00:56:57.549Z"
   },
   {
    "duration": 198,
    "start_time": "2024-06-11T01:05:04.554Z"
   },
   {
    "duration": 164,
    "start_time": "2024-06-11T01:06:57.629Z"
   },
   {
    "duration": 156,
    "start_time": "2024-06-11T01:07:10.462Z"
   },
   {
    "duration": 6,
    "start_time": "2024-06-11T01:08:01.199Z"
   },
   {
    "duration": 5,
    "start_time": "2024-06-11T01:08:16.102Z"
   },
   {
    "duration": 5,
    "start_time": "2024-06-11T01:08:28.829Z"
   },
   {
    "duration": 5,
    "start_time": "2024-06-11T01:08:32.467Z"
   },
   {
    "duration": 374,
    "start_time": "2024-06-11T01:08:38.140Z"
   },
   {
    "duration": 42,
    "start_time": "2024-06-11T01:09:00.112Z"
   },
   {
    "duration": 164,
    "start_time": "2024-06-11T01:10:18.875Z"
   },
   {
    "duration": 188,
    "start_time": "2024-06-11T01:11:22.118Z"
   },
   {
    "duration": 142,
    "start_time": "2024-06-11T01:13:01.099Z"
   },
   {
    "duration": 159,
    "start_time": "2024-06-11T01:13:32.388Z"
   },
   {
    "duration": 381,
    "start_time": "2024-06-11T01:14:20.866Z"
   },
   {
    "duration": 82,
    "start_time": "2024-06-11T01:14:27.245Z"
   },
   {
    "duration": 200,
    "start_time": "2024-06-11T01:14:44.899Z"
   },
   {
    "duration": 156,
    "start_time": "2024-06-11T01:15:16.502Z"
   },
   {
    "duration": 163,
    "start_time": "2024-06-11T01:16:20.400Z"
   },
   {
    "duration": 162,
    "start_time": "2024-06-11T01:16:52.117Z"
   },
   {
    "duration": 182,
    "start_time": "2024-06-11T01:16:58.704Z"
   },
   {
    "duration": 156,
    "start_time": "2024-06-11T01:17:03.696Z"
   },
   {
    "duration": 157,
    "start_time": "2024-06-11T01:17:12.055Z"
   },
   {
    "duration": 160,
    "start_time": "2024-06-11T01:17:29.203Z"
   },
   {
    "duration": 165,
    "start_time": "2024-06-11T01:17:46.116Z"
   },
   {
    "duration": 161,
    "start_time": "2024-06-11T01:17:51.882Z"
   },
   {
    "duration": 162,
    "start_time": "2024-06-11T01:18:09.712Z"
   },
   {
    "duration": 6,
    "start_time": "2024-06-11T01:20:00.397Z"
   },
   {
    "duration": 29,
    "start_time": "2024-06-11T01:20:04.794Z"
   },
   {
    "duration": 157,
    "start_time": "2024-06-11T01:20:21.072Z"
   },
   {
    "duration": 91,
    "start_time": "2024-06-11T01:20:48.472Z"
   },
   {
    "duration": 292,
    "start_time": "2024-06-11T01:21:03.010Z"
   },
   {
    "duration": 7,
    "start_time": "2024-06-11T01:21:15.001Z"
   },
   {
    "duration": 130,
    "start_time": "2024-06-11T01:21:21.084Z"
   },
   {
    "duration": 531,
    "start_time": "2024-06-11T01:22:08.971Z"
   },
   {
    "duration": 320,
    "start_time": "2024-06-11T01:22:40.531Z"
   },
   {
    "duration": 157,
    "start_time": "2024-06-11T01:22:57.582Z"
   },
   {
    "duration": 167,
    "start_time": "2024-06-11T01:23:04.544Z"
   },
   {
    "duration": 7,
    "start_time": "2024-06-11T01:23:23.726Z"
   },
   {
    "duration": 45,
    "start_time": "2024-06-11T01:23:27.596Z"
   },
   {
    "duration": 163,
    "start_time": "2024-06-11T01:23:51.542Z"
   },
   {
    "duration": 79,
    "start_time": "2024-06-11T01:26:45.796Z"
   },
   {
    "duration": 343,
    "start_time": "2024-06-11T01:26:57.819Z"
   },
   {
    "duration": 158,
    "start_time": "2024-06-11T01:32:58.195Z"
   },
   {
    "duration": 117,
    "start_time": "2024-06-11T01:33:12.574Z"
   },
   {
    "duration": 154,
    "start_time": "2024-06-11T01:33:20.446Z"
   },
   {
    "duration": 9,
    "start_time": "2024-06-11T01:40:40.337Z"
   },
   {
    "duration": 100,
    "start_time": "2024-06-11T01:43:00.457Z"
   },
   {
    "duration": 20,
    "start_time": "2024-06-11T01:44:08.986Z"
   },
   {
    "duration": 340,
    "start_time": "2024-06-11T01:44:57.756Z"
   },
   {
    "duration": 8,
    "start_time": "2024-06-11T01:46:51.572Z"
   },
   {
    "duration": 158,
    "start_time": "2024-06-11T01:48:16.469Z"
   },
   {
    "duration": 213,
    "start_time": "2024-06-11T01:52:59.137Z"
   },
   {
    "duration": 200,
    "start_time": "2024-06-11T01:56:14.670Z"
   },
   {
    "duration": 22,
    "start_time": "2024-06-11T02:22:21.187Z"
   },
   {
    "duration": 321,
    "start_time": "2024-06-11T02:27:10.995Z"
   },
   {
    "duration": 323,
    "start_time": "2024-06-11T02:30:16.782Z"
   },
   {
    "duration": 371,
    "start_time": "2024-06-11T02:32:20.762Z"
   },
   {
    "duration": 324,
    "start_time": "2024-06-11T02:33:59.428Z"
   },
   {
    "duration": 156,
    "start_time": "2024-06-11T02:55:02.894Z"
   },
   {
    "duration": 160,
    "start_time": "2024-06-11T02:56:50.330Z"
   },
   {
    "duration": 10,
    "start_time": "2024-06-11T03:00:46.554Z"
   },
   {
    "duration": 11,
    "start_time": "2024-06-11T03:12:38.384Z"
   },
   {
    "duration": 11,
    "start_time": "2024-06-11T03:13:13.144Z"
   },
   {
    "duration": 15,
    "start_time": "2024-06-11T03:14:01.811Z"
   },
   {
    "duration": 9,
    "start_time": "2024-06-11T03:15:24.251Z"
   },
   {
    "duration": 6,
    "start_time": "2024-06-11T03:15:33.377Z"
   },
   {
    "duration": 8,
    "start_time": "2024-06-11T03:15:55.193Z"
   },
   {
    "duration": 16,
    "start_time": "2024-06-11T03:16:06.413Z"
   },
   {
    "duration": 15,
    "start_time": "2024-06-11T03:21:22.755Z"
   },
   {
    "duration": 7,
    "start_time": "2024-06-11T03:40:17.273Z"
   },
   {
    "duration": 4,
    "start_time": "2024-06-11T03:45:52.938Z"
   },
   {
    "duration": 293,
    "start_time": "2024-06-11T03:45:52.946Z"
   },
   {
    "duration": 20,
    "start_time": "2024-06-11T03:45:53.242Z"
   },
   {
    "duration": 8,
    "start_time": "2024-06-11T03:45:53.265Z"
   },
   {
    "duration": 55,
    "start_time": "2024-06-11T03:45:53.279Z"
   },
   {
    "duration": 10,
    "start_time": "2024-06-11T03:45:53.338Z"
   },
   {
    "duration": 7,
    "start_time": "2024-06-11T03:45:53.351Z"
   },
   {
    "duration": 9,
    "start_time": "2024-06-11T03:45:53.361Z"
   },
   {
    "duration": 11,
    "start_time": "2024-06-11T03:45:53.373Z"
   },
   {
    "duration": 55,
    "start_time": "2024-06-11T03:45:53.387Z"
   },
   {
    "duration": 96,
    "start_time": "2024-06-11T03:45:53.445Z"
   },
   {
    "duration": 8,
    "start_time": "2024-06-11T03:45:53.544Z"
   },
   {
    "duration": 32,
    "start_time": "2024-06-11T03:45:53.560Z"
   },
   {
    "duration": 66,
    "start_time": "2024-06-11T03:45:53.595Z"
   },
   {
    "duration": 12,
    "start_time": "2024-06-11T03:45:53.664Z"
   },
   {
    "duration": 125,
    "start_time": "2024-06-11T03:45:53.680Z"
   },
   {
    "duration": 55,
    "start_time": "2024-06-11T03:45:53.808Z"
   },
   {
    "duration": 7,
    "start_time": "2024-06-11T03:45:53.866Z"
   },
   {
    "duration": 56,
    "start_time": "2024-06-11T03:45:53.877Z"
   },
   {
    "duration": 20,
    "start_time": "2024-06-11T03:45:53.936Z"
   },
   {
    "duration": 10,
    "start_time": "2024-06-11T03:45:53.959Z"
   },
   {
    "duration": 82,
    "start_time": "2024-06-11T03:45:53.971Z"
   },
   {
    "duration": 89,
    "start_time": "2024-06-11T03:45:54.056Z"
   },
   {
    "duration": 8,
    "start_time": "2024-06-11T03:45:54.147Z"
   },
   {
    "duration": 39,
    "start_time": "2024-06-11T03:45:54.158Z"
   },
   {
    "duration": 53,
    "start_time": "2024-06-11T03:45:54.200Z"
   },
   {
    "duration": 11,
    "start_time": "2024-06-11T03:45:54.256Z"
   },
   {
    "duration": 106,
    "start_time": "2024-06-11T03:45:54.271Z"
   },
   {
    "duration": 9,
    "start_time": "2024-06-11T03:45:54.380Z"
   },
   {
    "duration": 57,
    "start_time": "2024-06-11T03:45:54.392Z"
   },
   {
    "duration": 21,
    "start_time": "2024-06-11T03:45:54.452Z"
   },
   {
    "duration": 23,
    "start_time": "2024-06-11T03:45:54.476Z"
   },
   {
    "duration": 54,
    "start_time": "2024-06-11T03:45:54.502Z"
   },
   {
    "duration": 38,
    "start_time": "2024-06-11T03:45:54.559Z"
   },
   {
    "duration": 55,
    "start_time": "2024-06-11T03:45:54.600Z"
   },
   {
    "duration": 9,
    "start_time": "2024-06-11T03:45:54.658Z"
   },
   {
    "duration": 66,
    "start_time": "2024-06-11T03:45:54.677Z"
   },
   {
    "duration": 9,
    "start_time": "2024-06-11T03:45:54.746Z"
   },
   {
    "duration": 17,
    "start_time": "2024-06-11T03:45:54.758Z"
   },
   {
    "duration": 398,
    "start_time": "2024-06-11T03:45:54.778Z"
   },
   {
    "duration": 342,
    "start_time": "2024-06-11T03:45:55.179Z"
   },
   {
    "duration": 12,
    "start_time": "2024-06-11T03:45:55.524Z"
   },
   {
    "duration": 388,
    "start_time": "2024-06-11T03:45:55.539Z"
   },
   {
    "duration": 305,
    "start_time": "2024-06-11T03:45:55.934Z"
   },
   {
    "duration": 9,
    "start_time": "2024-06-11T03:45:56.242Z"
   },
   {
    "duration": 187,
    "start_time": "2024-06-11T03:45:56.254Z"
   },
   {
    "duration": 222,
    "start_time": "2024-06-11T03:45:56.444Z"
   },
   {
    "duration": 332,
    "start_time": "2024-06-11T03:45:56.670Z"
   },
   {
    "duration": 10,
    "start_time": "2024-06-11T03:45:57.004Z"
   },
   {
    "duration": 185,
    "start_time": "2024-06-11T03:45:57.033Z"
   },
   {
    "duration": 229,
    "start_time": "2024-06-11T03:45:57.220Z"
   },
   {
    "duration": 358,
    "start_time": "2024-06-11T03:45:57.453Z"
   },
   {
    "duration": 306,
    "start_time": "2024-06-11T03:45:57.814Z"
   },
   {
    "duration": 329,
    "start_time": "2024-06-11T03:45:58.134Z"
   },
   {
    "duration": 328,
    "start_time": "2024-06-11T03:45:58.465Z"
   },
   {
    "duration": 10,
    "start_time": "2024-06-11T03:45:58.796Z"
   },
   {
    "duration": 176,
    "start_time": "2024-06-11T03:45:58.809Z"
   },
   {
    "duration": 6,
    "start_time": "2024-06-11T03:45:58.988Z"
   },
   {
    "duration": 4,
    "start_time": "2024-06-11T03:45:58.997Z"
   },
   {
    "duration": 6,
    "start_time": "2024-06-11T03:53:51.677Z"
   },
   {
    "duration": 6,
    "start_time": "2024-06-11T03:54:28.278Z"
   },
   {
    "duration": 6,
    "start_time": "2024-06-11T03:57:58.701Z"
   },
   {
    "duration": 9,
    "start_time": "2024-06-11T04:04:06.597Z"
   },
   {
    "duration": 8,
    "start_time": "2024-06-11T04:05:05.352Z"
   },
   {
    "duration": 8,
    "start_time": "2024-06-11T04:05:10.534Z"
   },
   {
    "duration": 9,
    "start_time": "2024-06-11T04:06:23.745Z"
   },
   {
    "duration": 10,
    "start_time": "2024-06-11T04:11:29.685Z"
   },
   {
    "duration": 7,
    "start_time": "2024-06-11T04:11:58.877Z"
   },
   {
    "duration": 14,
    "start_time": "2024-06-11T04:12:07.784Z"
   },
   {
    "duration": 29,
    "start_time": "2024-06-11T04:14:22.066Z"
   },
   {
    "duration": 7,
    "start_time": "2024-06-11T04:15:44.743Z"
   },
   {
    "duration": 12,
    "start_time": "2024-06-11T04:16:06.860Z"
   },
   {
    "duration": 24,
    "start_time": "2024-06-11T04:16:58.102Z"
   },
   {
    "duration": 11,
    "start_time": "2024-06-11T04:17:25.469Z"
   },
   {
    "duration": 13,
    "start_time": "2024-06-11T04:22:39.085Z"
   },
   {
    "duration": 14,
    "start_time": "2024-06-11T04:23:39.148Z"
   },
   {
    "duration": 658,
    "start_time": "2024-06-11T04:26:07.268Z"
   },
   {
    "duration": 9,
    "start_time": "2024-06-11T04:26:51.035Z"
   },
   {
    "duration": 7,
    "start_time": "2024-06-11T04:27:37.212Z"
   },
   {
    "duration": 91,
    "start_time": "2024-06-11T04:28:48.761Z"
   },
   {
    "duration": 13,
    "start_time": "2024-06-11T04:30:13.421Z"
   },
   {
    "duration": 13,
    "start_time": "2024-06-11T04:32:10.050Z"
   },
   {
    "duration": 7,
    "start_time": "2024-06-11T04:34:14.065Z"
   },
   {
    "duration": 14,
    "start_time": "2024-06-11T04:39:56.613Z"
   },
   {
    "duration": 7,
    "start_time": "2024-06-11T05:06:14.137Z"
   },
   {
    "duration": 298,
    "start_time": "2024-06-11T05:06:27.191Z"
   },
   {
    "duration": 10,
    "start_time": "2024-06-11T05:06:57.956Z"
   },
   {
    "duration": 11,
    "start_time": "2024-06-11T05:07:38.999Z"
   },
   {
    "duration": 6,
    "start_time": "2024-06-11T05:12:42.334Z"
   },
   {
    "duration": 305,
    "start_time": "2024-06-11T05:12:42.344Z"
   },
   {
    "duration": 15,
    "start_time": "2024-06-11T05:12:42.652Z"
   },
   {
    "duration": 9,
    "start_time": "2024-06-11T05:12:42.670Z"
   },
   {
    "duration": 16,
    "start_time": "2024-06-11T05:12:42.684Z"
   },
   {
    "duration": 9,
    "start_time": "2024-06-11T05:12:42.732Z"
   },
   {
    "duration": 7,
    "start_time": "2024-06-11T05:12:42.744Z"
   },
   {
    "duration": 8,
    "start_time": "2024-06-11T05:12:42.754Z"
   },
   {
    "duration": 8,
    "start_time": "2024-06-11T05:12:42.765Z"
   },
   {
    "duration": 57,
    "start_time": "2024-06-11T05:12:42.777Z"
   },
   {
    "duration": 71,
    "start_time": "2024-06-11T05:12:42.836Z"
   },
   {
    "duration": 8,
    "start_time": "2024-06-11T05:12:42.932Z"
   },
   {
    "duration": 32,
    "start_time": "2024-06-11T05:12:42.943Z"
   },
   {
    "duration": 66,
    "start_time": "2024-06-11T05:12:42.983Z"
   },
   {
    "duration": 12,
    "start_time": "2024-06-11T05:12:43.052Z"
   },
   {
    "duration": 118,
    "start_time": "2024-06-11T05:12:43.066Z"
   },
   {
    "duration": 56,
    "start_time": "2024-06-11T05:12:43.190Z"
   },
   {
    "duration": 7,
    "start_time": "2024-06-11T05:12:43.248Z"
   },
   {
    "duration": 20,
    "start_time": "2024-06-11T05:12:43.259Z"
   },
   {
    "duration": 53,
    "start_time": "2024-06-11T05:12:43.282Z"
   },
   {
    "duration": 9,
    "start_time": "2024-06-11T05:12:43.340Z"
   },
   {
    "duration": 53,
    "start_time": "2024-06-11T05:12:43.352Z"
   },
   {
    "duration": 75,
    "start_time": "2024-06-11T05:12:43.434Z"
   },
   {
    "duration": 8,
    "start_time": "2024-06-11T05:12:43.532Z"
   },
   {
    "duration": 37,
    "start_time": "2024-06-11T05:12:43.543Z"
   },
   {
    "duration": 57,
    "start_time": "2024-06-11T05:12:43.583Z"
   },
   {
    "duration": 11,
    "start_time": "2024-06-11T05:12:43.643Z"
   },
   {
    "duration": 94,
    "start_time": "2024-06-11T05:12:43.658Z"
   },
   {
    "duration": 8,
    "start_time": "2024-06-11T05:12:43.755Z"
   },
   {
    "duration": 39,
    "start_time": "2024-06-11T05:12:43.766Z"
   },
   {
    "duration": 21,
    "start_time": "2024-06-11T05:12:43.832Z"
   },
   {
    "duration": 24,
    "start_time": "2024-06-11T05:12:43.855Z"
   },
   {
    "duration": 54,
    "start_time": "2024-06-11T05:12:43.882Z"
   },
   {
    "duration": 39,
    "start_time": "2024-06-11T05:12:43.939Z"
   },
   {
    "duration": 53,
    "start_time": "2024-06-11T05:12:43.981Z"
   },
   {
    "duration": 9,
    "start_time": "2024-06-11T05:12:44.037Z"
   },
   {
    "duration": 42,
    "start_time": "2024-06-11T05:12:44.049Z"
   },
   {
    "duration": 39,
    "start_time": "2024-06-11T05:12:44.095Z"
   },
   {
    "duration": 25,
    "start_time": "2024-06-11T05:12:44.137Z"
   },
   {
    "duration": 374,
    "start_time": "2024-06-11T05:12:44.166Z"
   },
   {
    "duration": 317,
    "start_time": "2024-06-11T05:12:44.550Z"
   },
   {
    "duration": 9,
    "start_time": "2024-06-11T05:12:44.870Z"
   },
   {
    "duration": 495,
    "start_time": "2024-06-11T05:12:44.882Z"
   },
   {
    "duration": 606,
    "start_time": "2024-06-11T05:12:45.434Z"
   },
   {
    "duration": 11,
    "start_time": "2024-06-11T05:12:46.043Z"
   },
   {
    "duration": 380,
    "start_time": "2024-06-11T05:12:46.058Z"
   },
   {
    "duration": 313,
    "start_time": "2024-06-11T05:12:46.441Z"
   },
   {
    "duration": 338,
    "start_time": "2024-06-11T05:12:46.756Z"
   },
   {
    "duration": 10,
    "start_time": "2024-06-11T05:12:47.097Z"
   },
   {
    "duration": 191,
    "start_time": "2024-06-11T05:12:47.111Z"
   },
   {
    "duration": 227,
    "start_time": "2024-06-11T05:12:47.305Z"
   },
   {
    "duration": 12,
    "start_time": "2024-06-11T05:12:47.535Z"
   },
   {
    "duration": 355,
    "start_time": "2024-06-11T05:12:47.550Z"
   },
   {
    "duration": 300,
    "start_time": "2024-06-11T05:12:47.908Z"
   },
   {
    "duration": 347,
    "start_time": "2024-06-11T05:12:48.212Z"
   },
   {
    "duration": 334,
    "start_time": "2024-06-11T05:12:48.562Z"
   },
   {
    "duration": 9,
    "start_time": "2024-06-11T05:12:48.899Z"
   },
   {
    "duration": 176,
    "start_time": "2024-06-11T05:12:48.911Z"
   },
   {
    "duration": 8,
    "start_time": "2024-06-11T05:12:49.089Z"
   },
   {
    "duration": 34,
    "start_time": "2024-06-11T05:12:49.101Z"
   },
   {
    "duration": 12,
    "start_time": "2024-06-11T05:16:48.438Z"
   },
   {
    "duration": 4,
    "start_time": "2024-06-11T23:33:05.269Z"
   },
   {
    "duration": 295,
    "start_time": "2024-06-11T23:33:05.277Z"
   },
   {
    "duration": 18,
    "start_time": "2024-06-11T23:33:05.575Z"
   },
   {
    "duration": 21,
    "start_time": "2024-06-11T23:33:05.596Z"
   },
   {
    "duration": 22,
    "start_time": "2024-06-11T23:33:05.623Z"
   },
   {
    "duration": 14,
    "start_time": "2024-06-11T23:33:05.650Z"
   },
   {
    "duration": 45,
    "start_time": "2024-06-11T23:33:05.667Z"
   },
   {
    "duration": 7,
    "start_time": "2024-06-11T23:33:05.716Z"
   },
   {
    "duration": 11,
    "start_time": "2024-06-11T23:33:05.726Z"
   },
   {
    "duration": 12,
    "start_time": "2024-06-11T23:33:05.740Z"
   },
   {
    "duration": 113,
    "start_time": "2024-06-11T23:33:05.755Z"
   },
   {
    "duration": 7,
    "start_time": "2024-06-11T23:33:05.872Z"
   },
   {
    "duration": 53,
    "start_time": "2024-06-11T23:33:05.882Z"
   },
   {
    "duration": 31,
    "start_time": "2024-06-11T23:33:05.942Z"
   },
   {
    "duration": 40,
    "start_time": "2024-06-11T23:33:05.976Z"
   },
   {
    "duration": 111,
    "start_time": "2024-06-11T23:33:06.019Z"
   },
   {
    "duration": 41,
    "start_time": "2024-06-11T23:33:06.133Z"
   },
   {
    "duration": 7,
    "start_time": "2024-06-11T23:33:06.177Z"
   },
   {
    "duration": 23,
    "start_time": "2024-06-11T23:33:06.213Z"
   },
   {
    "duration": 21,
    "start_time": "2024-06-11T23:33:06.239Z"
   },
   {
    "duration": 10,
    "start_time": "2024-06-11T23:33:06.263Z"
   },
   {
    "duration": 59,
    "start_time": "2024-06-11T23:33:06.314Z"
   },
   {
    "duration": 91,
    "start_time": "2024-06-11T23:33:06.376Z"
   },
   {
    "duration": 7,
    "start_time": "2024-06-11T23:33:06.470Z"
   },
   {
    "duration": 67,
    "start_time": "2024-06-11T23:33:06.480Z"
   },
   {
    "duration": 26,
    "start_time": "2024-06-11T23:33:06.550Z"
   },
   {
    "duration": 35,
    "start_time": "2024-06-11T23:33:06.579Z"
   },
   {
    "duration": 73,
    "start_time": "2024-06-11T23:33:06.617Z"
   },
   {
    "duration": 9,
    "start_time": "2024-06-11T23:33:06.714Z"
   },
   {
    "duration": 48,
    "start_time": "2024-06-11T23:33:06.727Z"
   },
   {
    "duration": 23,
    "start_time": "2024-06-11T23:33:06.811Z"
   },
   {
    "duration": 26,
    "start_time": "2024-06-11T23:33:06.836Z"
   },
   {
    "duration": 57,
    "start_time": "2024-06-11T23:33:06.866Z"
   },
   {
    "duration": 143,
    "start_time": "2024-06-11T23:33:06.926Z"
   },
   {
    "duration": 40,
    "start_time": "2024-06-11T23:33:07.072Z"
   },
   {
    "duration": 9,
    "start_time": "2024-06-11T23:33:07.115Z"
   },
   {
    "duration": 38,
    "start_time": "2024-06-11T23:33:07.128Z"
   },
   {
    "duration": 49,
    "start_time": "2024-06-11T23:33:07.169Z"
   },
   {
    "duration": 17,
    "start_time": "2024-06-11T23:33:07.222Z"
   },
   {
    "duration": 393,
    "start_time": "2024-06-11T23:33:07.242Z"
   },
   {
    "duration": 332,
    "start_time": "2024-06-11T23:33:07.645Z"
   },
   {
    "duration": 8,
    "start_time": "2024-06-11T23:33:07.980Z"
   },
   {
    "duration": 204,
    "start_time": "2024-06-11T23:33:07.992Z"
   },
   {
    "duration": 328,
    "start_time": "2024-06-11T23:33:08.199Z"
   },
   {
    "duration": 10,
    "start_time": "2024-06-11T23:33:08.530Z"
   },
   {
    "duration": 191,
    "start_time": "2024-06-11T23:33:08.543Z"
   },
   {
    "duration": 229,
    "start_time": "2024-06-11T23:33:08.737Z"
   },
   {
    "duration": 336,
    "start_time": "2024-06-11T23:33:08.972Z"
   },
   {
    "duration": 9,
    "start_time": "2024-06-11T23:33:09.313Z"
   },
   {
    "duration": 194,
    "start_time": "2024-06-11T23:33:09.326Z"
   },
   {
    "duration": 228,
    "start_time": "2024-06-11T23:33:09.523Z"
   },
   {
    "duration": 13,
    "start_time": "2024-06-11T23:33:09.754Z"
   },
   {
    "duration": 362,
    "start_time": "2024-06-11T23:33:09.770Z"
   },
   {
    "duration": 340,
    "start_time": "2024-06-11T23:33:10.135Z"
   },
   {
    "duration": 337,
    "start_time": "2024-06-11T23:33:10.479Z"
   },
   {
    "duration": 362,
    "start_time": "2024-06-11T23:33:10.819Z"
   },
   {
    "duration": 10,
    "start_time": "2024-06-11T23:33:11.184Z"
   },
   {
    "duration": 168,
    "start_time": "2024-06-11T23:33:11.211Z"
   },
   {
    "duration": 8,
    "start_time": "2024-06-11T23:33:11.382Z"
   },
   {
    "duration": 15,
    "start_time": "2024-06-11T23:33:11.413Z"
   },
   {
    "duration": 11,
    "start_time": "2024-06-11T23:43:22.553Z"
   },
   {
    "duration": 10,
    "start_time": "2024-06-11T23:44:15.038Z"
   },
   {
    "duration": 11,
    "start_time": "2024-06-11T23:45:02.586Z"
   },
   {
    "duration": 5,
    "start_time": "2024-06-12T01:53:29.051Z"
   },
   {
    "duration": 275,
    "start_time": "2024-06-12T01:53:29.060Z"
   },
   {
    "duration": 17,
    "start_time": "2024-06-12T01:53:29.338Z"
   },
   {
    "duration": 9,
    "start_time": "2024-06-12T01:53:29.360Z"
   },
   {
    "duration": 41,
    "start_time": "2024-06-12T01:53:29.373Z"
   },
   {
    "duration": 20,
    "start_time": "2024-06-12T01:53:29.417Z"
   },
   {
    "duration": 9,
    "start_time": "2024-06-12T01:53:29.440Z"
   },
   {
    "duration": 7,
    "start_time": "2024-06-12T01:53:29.453Z"
   },
   {
    "duration": 50,
    "start_time": "2024-06-12T01:53:29.462Z"
   },
   {
    "duration": 8,
    "start_time": "2024-06-12T01:53:29.517Z"
   },
   {
    "duration": 11,
    "start_time": "2024-06-12T01:53:29.529Z"
   },
   {
    "duration": 120,
    "start_time": "2024-06-12T01:53:29.544Z"
   },
   {
    "duration": 7,
    "start_time": "2024-06-12T01:53:29.667Z"
   },
   {
    "duration": 68,
    "start_time": "2024-06-12T01:53:29.677Z"
   },
   {
    "duration": 33,
    "start_time": "2024-06-12T01:53:29.748Z"
   },
   {
    "duration": 34,
    "start_time": "2024-06-12T01:53:29.784Z"
   },
   {
    "duration": 116,
    "start_time": "2024-06-12T01:53:29.822Z"
   },
   {
    "duration": 46,
    "start_time": "2024-06-12T01:53:29.941Z"
   },
   {
    "duration": 28,
    "start_time": "2024-06-12T01:53:29.990Z"
   },
   {
    "duration": 23,
    "start_time": "2024-06-12T01:53:30.022Z"
   },
   {
    "duration": 22,
    "start_time": "2024-06-12T01:53:30.048Z"
   },
   {
    "duration": 47,
    "start_time": "2024-06-12T01:53:30.072Z"
   },
   {
    "duration": 55,
    "start_time": "2024-06-12T01:53:30.122Z"
   },
   {
    "duration": 101,
    "start_time": "2024-06-12T01:53:30.180Z"
   },
   {
    "duration": 28,
    "start_time": "2024-06-12T01:53:30.284Z"
   },
   {
    "duration": 40,
    "start_time": "2024-06-12T01:53:30.315Z"
   },
   {
    "duration": 27,
    "start_time": "2024-06-12T01:53:30.358Z"
   },
   {
    "duration": 11,
    "start_time": "2024-06-12T01:53:30.418Z"
   },
   {
    "duration": 96,
    "start_time": "2024-06-12T01:53:30.432Z"
   },
   {
    "duration": 8,
    "start_time": "2024-06-12T01:53:30.531Z"
   },
   {
    "duration": 42,
    "start_time": "2024-06-12T01:53:30.543Z"
   },
   {
    "duration": 21,
    "start_time": "2024-06-12T01:53:30.613Z"
   },
   {
    "duration": 23,
    "start_time": "2024-06-12T01:53:30.637Z"
   },
   {
    "duration": 59,
    "start_time": "2024-06-12T01:53:30.663Z"
   },
   {
    "duration": 44,
    "start_time": "2024-06-12T01:53:30.725Z"
   },
   {
    "duration": 54,
    "start_time": "2024-06-12T01:53:30.772Z"
   },
   {
    "duration": 10,
    "start_time": "2024-06-12T01:53:30.829Z"
   },
   {
    "duration": 37,
    "start_time": "2024-06-12T01:53:30.843Z"
   },
   {
    "duration": 10,
    "start_time": "2024-06-12T01:53:30.911Z"
   },
   {
    "duration": 19,
    "start_time": "2024-06-12T01:53:30.926Z"
   },
   {
    "duration": 396,
    "start_time": "2024-06-12T01:53:30.948Z"
   },
   {
    "duration": 328,
    "start_time": "2024-06-12T01:53:31.347Z"
   },
   {
    "duration": 9,
    "start_time": "2024-06-12T01:53:31.678Z"
   },
   {
    "duration": 193,
    "start_time": "2024-06-12T01:53:31.690Z"
   },
   {
    "duration": 326,
    "start_time": "2024-06-12T01:53:31.886Z"
   },
   {
    "duration": 12,
    "start_time": "2024-06-12T01:53:32.216Z"
   },
   {
    "duration": 196,
    "start_time": "2024-06-12T01:53:32.232Z"
   },
   {
    "duration": 218,
    "start_time": "2024-06-12T01:53:32.430Z"
   },
   {
    "duration": 343,
    "start_time": "2024-06-12T01:53:32.651Z"
   },
   {
    "duration": 18,
    "start_time": "2024-06-12T01:53:33.000Z"
   },
   {
    "duration": 183,
    "start_time": "2024-06-12T01:53:33.023Z"
   },
   {
    "duration": 254,
    "start_time": "2024-06-12T01:53:33.213Z"
   },
   {
    "duration": 11,
    "start_time": "2024-06-12T01:53:33.475Z"
   },
   {
    "duration": 367,
    "start_time": "2024-06-12T01:53:33.489Z"
   },
   {
    "duration": 318,
    "start_time": "2024-06-12T01:53:33.860Z"
   },
   {
    "duration": 349,
    "start_time": "2024-06-12T01:53:34.182Z"
   },
   {
    "duration": 319,
    "start_time": "2024-06-12T01:53:34.534Z"
   },
   {
    "duration": 9,
    "start_time": "2024-06-12T01:53:34.856Z"
   },
   {
    "duration": 175,
    "start_time": "2024-06-12T01:53:34.869Z"
   },
   {
    "duration": 8,
    "start_time": "2024-06-12T01:53:35.049Z"
   },
   {
    "duration": 14,
    "start_time": "2024-06-12T01:53:35.061Z"
   },
   {
    "duration": 145,
    "start_time": "2024-06-12T01:54:14.432Z"
   },
   {
    "duration": 1317,
    "start_time": "2024-06-12T01:54:50.589Z"
   },
   {
    "duration": 268,
    "start_time": "2024-06-12T01:54:51.914Z"
   },
   {
    "duration": 20,
    "start_time": "2024-06-12T01:54:52.184Z"
   },
   {
    "duration": 15,
    "start_time": "2024-06-12T01:54:52.206Z"
   },
   {
    "duration": 13,
    "start_time": "2024-06-12T01:54:52.227Z"
   },
   {
    "duration": 18,
    "start_time": "2024-06-12T01:54:52.243Z"
   },
   {
    "duration": 54,
    "start_time": "2024-06-12T01:54:52.265Z"
   },
   {
    "duration": 7,
    "start_time": "2024-06-12T01:54:52.322Z"
   },
   {
    "duration": 8,
    "start_time": "2024-06-12T01:54:52.332Z"
   },
   {
    "duration": 8,
    "start_time": "2024-06-12T01:54:52.343Z"
   },
   {
    "duration": 59,
    "start_time": "2024-06-12T01:54:52.354Z"
   },
   {
    "duration": 78,
    "start_time": "2024-06-12T01:54:52.416Z"
   },
   {
    "duration": 8,
    "start_time": "2024-06-12T01:54:52.513Z"
   },
   {
    "duration": 36,
    "start_time": "2024-06-12T01:54:52.527Z"
   },
   {
    "duration": 64,
    "start_time": "2024-06-12T01:54:52.566Z"
   },
   {
    "duration": 14,
    "start_time": "2024-06-12T01:54:52.633Z"
   },
   {
    "duration": 136,
    "start_time": "2024-06-12T01:54:52.650Z"
   },
   {
    "duration": 56,
    "start_time": "2024-06-12T01:54:52.789Z"
   },
   {
    "duration": 8,
    "start_time": "2024-06-12T01:54:54.257Z"
   },
   {
    "duration": 21,
    "start_time": "2024-06-12T01:54:54.269Z"
   },
   {
    "duration": 22,
    "start_time": "2024-06-12T01:54:54.293Z"
   },
   {
    "duration": 10,
    "start_time": "2024-06-12T01:54:54.319Z"
   },
   {
    "duration": 84,
    "start_time": "2024-06-12T01:54:54.333Z"
   },
   {
    "duration": 75,
    "start_time": "2024-06-12T01:54:54.420Z"
   },
   {
    "duration": 8,
    "start_time": "2024-06-12T01:54:54.512Z"
   },
   {
    "duration": 40,
    "start_time": "2024-06-12T01:54:54.523Z"
   },
   {
    "duration": 52,
    "start_time": "2024-06-12T01:54:54.566Z"
   },
   {
    "duration": 12,
    "start_time": "2024-06-12T01:54:54.621Z"
   },
   {
    "duration": 101,
    "start_time": "2024-06-12T01:54:54.636Z"
   },
   {
    "duration": 8,
    "start_time": "2024-06-12T01:54:54.740Z"
   },
   {
    "duration": 61,
    "start_time": "2024-06-12T01:54:54.751Z"
   },
   {
    "duration": 27,
    "start_time": "2024-06-12T01:54:54.819Z"
   },
   {
    "duration": 28,
    "start_time": "2024-06-12T01:54:54.849Z"
   },
   {
    "duration": 59,
    "start_time": "2024-06-12T01:54:54.881Z"
   },
   {
    "duration": 43,
    "start_time": "2024-06-12T01:54:54.944Z"
   },
   {
    "duration": 29,
    "start_time": "2024-06-12T01:54:55.013Z"
   },
   {
    "duration": 9,
    "start_time": "2024-06-12T01:54:55.045Z"
   },
   {
    "duration": 74,
    "start_time": "2024-06-12T01:54:55.058Z"
   },
   {
    "duration": 12,
    "start_time": "2024-06-12T01:54:55.135Z"
   },
   {
    "duration": 22,
    "start_time": "2024-06-12T01:54:55.151Z"
   },
   {
    "duration": 468,
    "start_time": "2024-06-12T01:54:55.176Z"
   },
   {
    "duration": 315,
    "start_time": "2024-06-12T01:54:55.648Z"
   },
   {
    "duration": 10,
    "start_time": "2024-06-12T01:54:55.966Z"
   },
   {
    "duration": 183,
    "start_time": "2024-06-12T01:54:55.979Z"
   },
   {
    "duration": 343,
    "start_time": "2024-06-12T01:54:56.165Z"
   },
   {
    "duration": 9,
    "start_time": "2024-06-12T01:54:56.514Z"
   },
   {
    "duration": 190,
    "start_time": "2024-06-12T01:54:56.526Z"
   },
   {
    "duration": 219,
    "start_time": "2024-06-12T01:54:56.719Z"
   },
   {
    "duration": 344,
    "start_time": "2024-06-12T01:54:56.941Z"
   },
   {
    "duration": 10,
    "start_time": "2024-06-12T01:54:57.289Z"
   },
   {
    "duration": 202,
    "start_time": "2024-06-12T01:54:57.301Z"
   },
   {
    "duration": 225,
    "start_time": "2024-06-12T01:54:57.513Z"
   },
   {
    "duration": 11,
    "start_time": "2024-06-12T01:54:57.745Z"
   },
   {
    "duration": 335,
    "start_time": "2024-06-12T01:54:57.761Z"
   },
   {
    "duration": 321,
    "start_time": "2024-06-12T01:54:58.099Z"
   },
   {
    "duration": 419,
    "start_time": "2024-06-12T01:54:58.423Z"
   },
   {
    "duration": 321,
    "start_time": "2024-06-12T01:54:58.845Z"
   },
   {
    "duration": 9,
    "start_time": "2024-06-12T01:54:59.169Z"
   },
   {
    "duration": 173,
    "start_time": "2024-06-12T01:54:59.180Z"
   },
   {
    "duration": 11,
    "start_time": "2024-06-12T01:54:59.356Z"
   },
   {
    "duration": 44,
    "start_time": "2024-06-12T01:54:59.371Z"
   },
   {
    "duration": 80,
    "start_time": "2024-06-12T02:00:15.338Z"
   },
   {
    "duration": 12,
    "start_time": "2024-06-12T02:01:57.398Z"
   },
   {
    "duration": 10,
    "start_time": "2024-06-12T02:02:06.747Z"
   },
   {
    "duration": 1228,
    "start_time": "2024-06-12T02:07:26.539Z"
   },
   {
    "duration": 290,
    "start_time": "2024-06-12T02:07:27.771Z"
   },
   {
    "duration": 23,
    "start_time": "2024-06-12T02:07:28.063Z"
   },
   {
    "duration": 27,
    "start_time": "2024-06-12T02:07:28.089Z"
   },
   {
    "duration": 13,
    "start_time": "2024-06-12T02:07:28.120Z"
   },
   {
    "duration": 17,
    "start_time": "2024-06-12T02:07:28.136Z"
   },
   {
    "duration": 10,
    "start_time": "2024-06-12T02:07:28.156Z"
   },
   {
    "duration": 44,
    "start_time": "2024-06-12T02:07:28.169Z"
   },
   {
    "duration": 8,
    "start_time": "2024-06-12T02:07:28.217Z"
   },
   {
    "duration": 9,
    "start_time": "2024-06-12T02:07:28.227Z"
   },
   {
    "duration": 9,
    "start_time": "2024-06-12T02:07:28.239Z"
   },
   {
    "duration": 127,
    "start_time": "2024-06-12T02:07:28.251Z"
   },
   {
    "duration": 7,
    "start_time": "2024-06-12T02:07:28.381Z"
   },
   {
    "duration": 40,
    "start_time": "2024-06-12T02:07:28.416Z"
   },
   {
    "duration": 55,
    "start_time": "2024-06-12T02:07:28.460Z"
   },
   {
    "duration": 13,
    "start_time": "2024-06-12T02:07:28.518Z"
   },
   {
    "duration": 126,
    "start_time": "2024-06-12T02:07:28.534Z"
   },
   {
    "duration": 2544,
    "start_time": "2024-06-12T02:07:28.663Z"
   },
   {
    "duration": 1,
    "start_time": "2024-06-12T02:07:31.214Z"
   },
   {
    "duration": 0,
    "start_time": "2024-06-12T02:07:31.216Z"
   },
   {
    "duration": 0,
    "start_time": "2024-06-12T02:07:31.219Z"
   },
   {
    "duration": 0,
    "start_time": "2024-06-12T02:07:31.221Z"
   },
   {
    "duration": 0,
    "start_time": "2024-06-12T02:07:31.224Z"
   },
   {
    "duration": 0,
    "start_time": "2024-06-12T02:07:31.226Z"
   },
   {
    "duration": 0,
    "start_time": "2024-06-12T02:07:31.229Z"
   },
   {
    "duration": 0,
    "start_time": "2024-06-12T02:07:31.231Z"
   },
   {
    "duration": 0,
    "start_time": "2024-06-12T02:07:31.233Z"
   },
   {
    "duration": 0,
    "start_time": "2024-06-12T02:07:31.236Z"
   },
   {
    "duration": 0,
    "start_time": "2024-06-12T02:07:31.238Z"
   },
   {
    "duration": 0,
    "start_time": "2024-06-12T02:07:31.240Z"
   },
   {
    "duration": 0,
    "start_time": "2024-06-12T02:07:31.243Z"
   },
   {
    "duration": 0,
    "start_time": "2024-06-12T02:07:31.246Z"
   },
   {
    "duration": 0,
    "start_time": "2024-06-12T02:07:31.248Z"
   },
   {
    "duration": 0,
    "start_time": "2024-06-12T02:07:31.250Z"
   },
   {
    "duration": 0,
    "start_time": "2024-06-12T02:07:31.252Z"
   },
   {
    "duration": 0,
    "start_time": "2024-06-12T02:07:31.254Z"
   },
   {
    "duration": 0,
    "start_time": "2024-06-12T02:07:31.312Z"
   },
   {
    "duration": 0,
    "start_time": "2024-06-12T02:07:31.320Z"
   },
   {
    "duration": 0,
    "start_time": "2024-06-12T02:07:31.322Z"
   },
   {
    "duration": 0,
    "start_time": "2024-06-12T02:07:31.325Z"
   },
   {
    "duration": 0,
    "start_time": "2024-06-12T02:07:31.328Z"
   },
   {
    "duration": 0,
    "start_time": "2024-06-12T02:07:31.330Z"
   },
   {
    "duration": 0,
    "start_time": "2024-06-12T02:07:31.331Z"
   },
   {
    "duration": 0,
    "start_time": "2024-06-12T02:07:31.334Z"
   },
   {
    "duration": 0,
    "start_time": "2024-06-12T02:07:31.336Z"
   },
   {
    "duration": 0,
    "start_time": "2024-06-12T02:07:31.338Z"
   },
   {
    "duration": 0,
    "start_time": "2024-06-12T02:07:31.339Z"
   },
   {
    "duration": 0,
    "start_time": "2024-06-12T02:07:31.341Z"
   },
   {
    "duration": 0,
    "start_time": "2024-06-12T02:07:31.343Z"
   },
   {
    "duration": 0,
    "start_time": "2024-06-12T02:07:31.345Z"
   },
   {
    "duration": 0,
    "start_time": "2024-06-12T02:07:31.347Z"
   },
   {
    "duration": 0,
    "start_time": "2024-06-12T02:07:31.349Z"
   },
   {
    "duration": 0,
    "start_time": "2024-06-12T02:07:31.352Z"
   },
   {
    "duration": 0,
    "start_time": "2024-06-12T02:07:31.354Z"
   },
   {
    "duration": 0,
    "start_time": "2024-06-12T02:07:31.413Z"
   },
   {
    "duration": 0,
    "start_time": "2024-06-12T02:07:31.416Z"
   },
   {
    "duration": 0,
    "start_time": "2024-06-12T02:07:31.418Z"
   },
   {
    "duration": 0,
    "start_time": "2024-06-12T02:07:31.421Z"
   },
   {
    "duration": 0,
    "start_time": "2024-06-12T02:07:31.423Z"
   },
   {
    "duration": 0,
    "start_time": "2024-06-12T02:07:31.425Z"
   },
   {
    "duration": 0,
    "start_time": "2024-06-12T02:07:31.427Z"
   },
   {
    "duration": 0,
    "start_time": "2024-06-12T02:07:31.429Z"
   },
   {
    "duration": 83,
    "start_time": "2024-06-12T02:08:29.539Z"
   },
   {
    "duration": 35,
    "start_time": "2024-06-12T02:09:19.983Z"
   },
   {
    "duration": 7,
    "start_time": "2024-06-12T02:12:40.506Z"
   },
   {
    "duration": 7,
    "start_time": "2024-06-12T02:12:56.863Z"
   },
   {
    "duration": 13,
    "start_time": "2024-06-12T02:13:55.088Z"
   },
   {
    "duration": 13,
    "start_time": "2024-06-12T02:15:31.687Z"
   },
   {
    "duration": 5,
    "start_time": "2024-06-12T02:15:55.847Z"
   },
   {
    "duration": 266,
    "start_time": "2024-06-12T02:15:55.856Z"
   },
   {
    "duration": 17,
    "start_time": "2024-06-12T02:15:56.125Z"
   },
   {
    "duration": 8,
    "start_time": "2024-06-12T02:15:56.145Z"
   },
   {
    "duration": 12,
    "start_time": "2024-06-12T02:15:56.159Z"
   },
   {
    "duration": 54,
    "start_time": "2024-06-12T02:15:56.173Z"
   },
   {
    "duration": 8,
    "start_time": "2024-06-12T02:15:56.231Z"
   },
   {
    "duration": 7,
    "start_time": "2024-06-12T02:15:56.243Z"
   },
   {
    "duration": 8,
    "start_time": "2024-06-12T02:15:56.253Z"
   },
   {
    "duration": 55,
    "start_time": "2024-06-12T02:15:56.263Z"
   },
   {
    "duration": 11,
    "start_time": "2024-06-12T02:15:56.323Z"
   },
   {
    "duration": 111,
    "start_time": "2024-06-12T02:15:56.338Z"
   },
   {
    "duration": 8,
    "start_time": "2024-06-12T02:15:56.455Z"
   },
   {
    "duration": 56,
    "start_time": "2024-06-12T02:15:56.465Z"
   },
   {
    "duration": 31,
    "start_time": "2024-06-12T02:15:56.524Z"
   },
   {
    "duration": 15,
    "start_time": "2024-06-12T02:15:56.557Z"
   },
   {
    "duration": 143,
    "start_time": "2024-06-12T02:15:56.575Z"
   },
   {
    "duration": 14,
    "start_time": "2024-06-12T02:15:56.721Z"
   },
   {
    "duration": 52,
    "start_time": "2024-06-12T02:15:56.738Z"
   },
   {
    "duration": 6,
    "start_time": "2024-06-12T02:15:56.814Z"
   },
   {
    "duration": 19,
    "start_time": "2024-06-12T02:15:56.823Z"
   },
   {
    "duration": 19,
    "start_time": "2024-06-12T02:15:56.845Z"
   },
   {
    "duration": 51,
    "start_time": "2024-06-12T02:15:56.867Z"
   },
   {
    "duration": 51,
    "start_time": "2024-06-12T02:15:56.921Z"
   },
   {
    "duration": 102,
    "start_time": "2024-06-12T02:15:56.975Z"
   },
   {
    "duration": 7,
    "start_time": "2024-06-12T02:15:57.080Z"
   },
   {
    "duration": 47,
    "start_time": "2024-06-12T02:15:57.112Z"
   },
   {
    "duration": 25,
    "start_time": "2024-06-12T02:15:57.162Z"
   },
   {
    "duration": 13,
    "start_time": "2024-06-12T02:15:57.212Z"
   },
   {
    "duration": 99,
    "start_time": "2024-06-12T02:15:57.228Z"
   },
   {
    "duration": 10,
    "start_time": "2024-06-12T02:15:57.330Z"
   },
   {
    "duration": 69,
    "start_time": "2024-06-12T02:15:57.344Z"
   },
   {
    "duration": 24,
    "start_time": "2024-06-12T02:15:57.416Z"
   },
   {
    "duration": 25,
    "start_time": "2024-06-12T02:15:57.444Z"
   },
   {
    "duration": 60,
    "start_time": "2024-06-12T02:15:57.472Z"
   },
   {
    "duration": 40,
    "start_time": "2024-06-12T02:15:57.535Z"
   },
   {
    "duration": 47,
    "start_time": "2024-06-12T02:15:57.584Z"
   },
   {
    "duration": 10,
    "start_time": "2024-06-12T02:15:57.634Z"
   },
   {
    "duration": 65,
    "start_time": "2024-06-12T02:15:57.647Z"
   },
   {
    "duration": 9,
    "start_time": "2024-06-12T02:15:57.716Z"
   },
   {
    "duration": 19,
    "start_time": "2024-06-12T02:15:57.728Z"
   },
   {
    "duration": 390,
    "start_time": "2024-06-12T02:15:57.750Z"
   },
   {
    "duration": 325,
    "start_time": "2024-06-12T02:15:58.143Z"
   },
   {
    "duration": 10,
    "start_time": "2024-06-12T02:15:58.472Z"
   },
   {
    "duration": 189,
    "start_time": "2024-06-12T02:15:58.485Z"
   },
   {
    "duration": 318,
    "start_time": "2024-06-12T02:15:58.677Z"
   },
   {
    "duration": 14,
    "start_time": "2024-06-12T02:15:58.998Z"
   },
   {
    "duration": 183,
    "start_time": "2024-06-12T02:15:59.016Z"
   },
   {
    "duration": 214,
    "start_time": "2024-06-12T02:15:59.202Z"
   },
   {
    "duration": 348,
    "start_time": "2024-06-12T02:15:59.420Z"
   },
   {
    "duration": 9,
    "start_time": "2024-06-12T02:15:59.770Z"
   },
   {
    "duration": 181,
    "start_time": "2024-06-12T02:15:59.781Z"
   },
   {
    "duration": 224,
    "start_time": "2024-06-12T02:15:59.965Z"
   },
   {
    "duration": 11,
    "start_time": "2024-06-12T02:16:00.191Z"
   },
   {
    "duration": 343,
    "start_time": "2024-06-12T02:16:00.205Z"
   },
   {
    "duration": 325,
    "start_time": "2024-06-12T02:16:00.552Z"
   },
   {
    "duration": 461,
    "start_time": "2024-06-12T02:16:00.880Z"
   },
   {
    "duration": 329,
    "start_time": "2024-06-12T02:16:01.344Z"
   },
   {
    "duration": 9,
    "start_time": "2024-06-12T02:16:01.676Z"
   },
   {
    "duration": 203,
    "start_time": "2024-06-12T02:16:01.688Z"
   },
   {
    "duration": 21,
    "start_time": "2024-06-12T02:16:01.894Z"
   },
   {
    "duration": 15,
    "start_time": "2024-06-12T02:16:01.918Z"
   },
   {
    "duration": 310,
    "start_time": "2024-06-12T02:27:58.503Z"
   },
   {
    "duration": 4,
    "start_time": "2024-06-12T02:28:04.097Z"
   },
   {
    "duration": 279,
    "start_time": "2024-06-12T02:28:04.106Z"
   },
   {
    "duration": 26,
    "start_time": "2024-06-12T02:28:04.387Z"
   },
   {
    "duration": 8,
    "start_time": "2024-06-12T02:28:04.416Z"
   },
   {
    "duration": 11,
    "start_time": "2024-06-12T02:28:04.429Z"
   },
   {
    "duration": 18,
    "start_time": "2024-06-12T02:28:04.444Z"
   },
   {
    "duration": 56,
    "start_time": "2024-06-12T02:28:04.464Z"
   },
   {
    "duration": 7,
    "start_time": "2024-06-12T02:28:04.524Z"
   },
   {
    "duration": 9,
    "start_time": "2024-06-12T02:28:04.535Z"
   },
   {
    "duration": 9,
    "start_time": "2024-06-12T02:28:04.548Z"
   },
   {
    "duration": 60,
    "start_time": "2024-06-12T02:28:04.561Z"
   },
   {
    "duration": 104,
    "start_time": "2024-06-12T02:28:04.624Z"
   },
   {
    "duration": 8,
    "start_time": "2024-06-12T02:28:04.735Z"
   },
   {
    "duration": 34,
    "start_time": "2024-06-12T02:28:04.746Z"
   },
   {
    "duration": 31,
    "start_time": "2024-06-12T02:28:04.813Z"
   },
   {
    "duration": 14,
    "start_time": "2024-06-12T02:28:04.847Z"
   },
   {
    "duration": 137,
    "start_time": "2024-06-12T02:28:04.864Z"
   },
   {
    "duration": 18,
    "start_time": "2024-06-12T02:28:05.004Z"
   },
   {
    "duration": 42,
    "start_time": "2024-06-12T02:28:05.025Z"
   },
   {
    "duration": 8,
    "start_time": "2024-06-12T02:28:05.070Z"
   },
   {
    "duration": 19,
    "start_time": "2024-06-12T02:28:05.113Z"
   },
   {
    "duration": 20,
    "start_time": "2024-06-12T02:28:05.135Z"
   },
   {
    "duration": 11,
    "start_time": "2024-06-12T02:28:05.158Z"
   },
   {
    "duration": 50,
    "start_time": "2024-06-12T02:28:05.211Z"
   },
   {
    "duration": 104,
    "start_time": "2024-06-12T02:28:05.265Z"
   },
   {
    "duration": 8,
    "start_time": "2024-06-12T02:28:05.372Z"
   },
   {
    "duration": 59,
    "start_time": "2024-06-12T02:28:05.383Z"
   },
   {
    "duration": 25,
    "start_time": "2024-06-12T02:28:05.445Z"
   },
   {
    "duration": 43,
    "start_time": "2024-06-12T02:28:05.473Z"
   },
   {
    "duration": 73,
    "start_time": "2024-06-12T02:28:05.520Z"
   },
   {
    "duration": 6,
    "start_time": "2024-06-12T02:28:05.612Z"
   },
   {
    "duration": 0,
    "start_time": "2024-06-12T02:28:05.624Z"
   },
   {
    "duration": 0,
    "start_time": "2024-06-12T02:28:05.627Z"
   },
   {
    "duration": 0,
    "start_time": "2024-06-12T02:28:05.629Z"
   },
   {
    "duration": 0,
    "start_time": "2024-06-12T02:28:05.631Z"
   },
   {
    "duration": 0,
    "start_time": "2024-06-12T02:28:05.633Z"
   },
   {
    "duration": 0,
    "start_time": "2024-06-12T02:28:05.635Z"
   },
   {
    "duration": 1,
    "start_time": "2024-06-12T02:28:05.636Z"
   },
   {
    "duration": 0,
    "start_time": "2024-06-12T02:28:05.638Z"
   },
   {
    "duration": 0,
    "start_time": "2024-06-12T02:28:05.640Z"
   },
   {
    "duration": 0,
    "start_time": "2024-06-12T02:28:05.642Z"
   },
   {
    "duration": 0,
    "start_time": "2024-06-12T02:28:05.646Z"
   },
   {
    "duration": 0,
    "start_time": "2024-06-12T02:28:05.649Z"
   },
   {
    "duration": 1,
    "start_time": "2024-06-12T02:28:05.650Z"
   },
   {
    "duration": 0,
    "start_time": "2024-06-12T02:28:05.653Z"
   },
   {
    "duration": 0,
    "start_time": "2024-06-12T02:28:05.655Z"
   },
   {
    "duration": 0,
    "start_time": "2024-06-12T02:28:05.657Z"
   },
   {
    "duration": 0,
    "start_time": "2024-06-12T02:28:05.659Z"
   },
   {
    "duration": 0,
    "start_time": "2024-06-12T02:28:05.714Z"
   },
   {
    "duration": 0,
    "start_time": "2024-06-12T02:28:05.717Z"
   },
   {
    "duration": 0,
    "start_time": "2024-06-12T02:28:05.719Z"
   },
   {
    "duration": 0,
    "start_time": "2024-06-12T02:28:05.721Z"
   },
   {
    "duration": 0,
    "start_time": "2024-06-12T02:28:05.724Z"
   },
   {
    "duration": 0,
    "start_time": "2024-06-12T02:28:05.726Z"
   },
   {
    "duration": 0,
    "start_time": "2024-06-12T02:28:05.729Z"
   },
   {
    "duration": 0,
    "start_time": "2024-06-12T02:28:05.731Z"
   },
   {
    "duration": 0,
    "start_time": "2024-06-12T02:28:05.733Z"
   },
   {
    "duration": 0,
    "start_time": "2024-06-12T02:28:05.735Z"
   },
   {
    "duration": 0,
    "start_time": "2024-06-12T02:28:05.738Z"
   },
   {
    "duration": 0,
    "start_time": "2024-06-12T02:28:05.740Z"
   },
   {
    "duration": 0,
    "start_time": "2024-06-12T02:28:05.742Z"
   },
   {
    "duration": 0,
    "start_time": "2024-06-12T02:28:05.744Z"
   },
   {
    "duration": 0,
    "start_time": "2024-06-12T02:28:05.746Z"
   },
   {
    "duration": 5,
    "start_time": "2024-06-12T02:30:51.079Z"
   },
   {
    "duration": 48,
    "start_time": "2024-06-12T02:33:05.159Z"
   },
   {
    "duration": 48,
    "start_time": "2024-06-12T02:33:30.488Z"
   },
   {
    "duration": 59,
    "start_time": "2024-06-12T02:33:58.664Z"
   },
   {
    "duration": 77,
    "start_time": "2024-06-12T02:34:10.294Z"
   },
   {
    "duration": 431,
    "start_time": "2024-06-12T02:36:07.815Z"
   },
   {
    "duration": 426,
    "start_time": "2024-06-12T02:36:27.622Z"
   },
   {
    "duration": 444,
    "start_time": "2024-06-12T02:37:02.624Z"
   },
   {
    "duration": 460,
    "start_time": "2024-06-12T02:37:39.800Z"
   },
   {
    "duration": 65,
    "start_time": "2024-06-12T02:38:32.956Z"
   },
   {
    "duration": 429,
    "start_time": "2024-06-12T02:39:15.594Z"
   },
   {
    "duration": 62,
    "start_time": "2024-06-12T02:39:54.736Z"
   },
   {
    "duration": 64,
    "start_time": "2024-06-12T02:40:09.588Z"
   },
   {
    "duration": 66,
    "start_time": "2024-06-12T02:41:15.212Z"
   },
   {
    "duration": 85,
    "start_time": "2024-06-12T02:41:48.104Z"
   },
   {
    "duration": 71,
    "start_time": "2024-06-12T02:44:05.398Z"
   },
   {
    "duration": 20,
    "start_time": "2024-06-12T02:45:14.468Z"
   },
   {
    "duration": 19,
    "start_time": "2024-06-12T02:46:01.675Z"
   },
   {
    "duration": 8,
    "start_time": "2024-06-12T02:46:13.221Z"
   },
   {
    "duration": 37,
    "start_time": "2024-06-12T02:46:22.448Z"
   },
   {
    "duration": 23,
    "start_time": "2024-06-12T02:47:02.675Z"
   },
   {
    "duration": 24,
    "start_time": "2024-06-12T02:47:13.285Z"
   },
   {
    "duration": 72,
    "start_time": "2024-06-12T02:48:15.216Z"
   },
   {
    "duration": 25,
    "start_time": "2024-06-12T02:48:36.366Z"
   },
   {
    "duration": 30,
    "start_time": "2024-06-12T02:49:44.733Z"
   },
   {
    "duration": 48,
    "start_time": "2024-06-12T02:49:46.941Z"
   },
   {
    "duration": 32,
    "start_time": "2024-06-12T02:50:04.319Z"
   },
   {
    "duration": 11,
    "start_time": "2024-06-12T02:50:43.143Z"
   },
   {
    "duration": 35,
    "start_time": "2024-06-12T02:51:01.517Z"
   },
   {
    "duration": 5,
    "start_time": "2024-06-12T02:53:09.638Z"
   },
   {
    "duration": 12,
    "start_time": "2024-06-12T02:53:16.224Z"
   },
   {
    "duration": 31,
    "start_time": "2024-06-12T02:53:30.030Z"
   },
   {
    "duration": 9,
    "start_time": "2024-06-12T02:53:42.205Z"
   },
   {
    "duration": 28,
    "start_time": "2024-06-12T02:54:39.529Z"
   },
   {
    "duration": 13,
    "start_time": "2024-06-12T03:01:26.213Z"
   },
   {
    "duration": 11,
    "start_time": "2024-06-12T03:02:08.561Z"
   },
   {
    "duration": 36,
    "start_time": "2024-06-12T03:02:17.436Z"
   },
   {
    "duration": 34,
    "start_time": "2024-06-12T03:07:25.063Z"
   },
   {
    "duration": 8,
    "start_time": "2024-06-12T03:08:30.805Z"
   },
   {
    "duration": 19,
    "start_time": "2024-06-12T03:08:35.840Z"
   },
   {
    "duration": 352,
    "start_time": "2024-06-12T03:09:13.334Z"
   },
   {
    "duration": 265,
    "start_time": "2024-06-12T03:11:50.648Z"
   },
   {
    "duration": 28,
    "start_time": "2024-06-12T03:13:17.836Z"
   },
   {
    "duration": 337,
    "start_time": "2024-06-12T03:14:35.596Z"
   },
   {
    "duration": 302,
    "start_time": "2024-06-12T03:15:02.615Z"
   },
   {
    "duration": 10,
    "start_time": "2024-06-12T03:15:36.802Z"
   },
   {
    "duration": 162,
    "start_time": "2024-06-12T03:15:43.523Z"
   },
   {
    "duration": 304,
    "start_time": "2024-06-12T03:18:35.577Z"
   },
   {
    "duration": 9,
    "start_time": "2024-06-12T03:18:39.345Z"
   },
   {
    "duration": 162,
    "start_time": "2024-06-12T03:18:42.502Z"
   },
   {
    "duration": 199,
    "start_time": "2024-06-12T03:18:46.042Z"
   },
   {
    "duration": 301,
    "start_time": "2024-06-12T03:19:37.124Z"
   },
   {
    "duration": 8,
    "start_time": "2024-06-12T03:20:22.990Z"
   },
   {
    "duration": 172,
    "start_time": "2024-06-12T03:20:34.197Z"
   },
   {
    "duration": 193,
    "start_time": "2024-06-12T03:20:50.741Z"
   },
   {
    "duration": 11,
    "start_time": "2024-06-12T03:26:40.139Z"
   },
   {
    "duration": 298,
    "start_time": "2024-06-12T03:28:32.148Z"
   },
   {
    "duration": 304,
    "start_time": "2024-06-12T03:29:49.711Z"
   },
   {
    "duration": 303,
    "start_time": "2024-06-12T03:30:21.678Z"
   },
   {
    "duration": 319,
    "start_time": "2024-06-12T03:30:35.273Z"
   },
   {
    "duration": 10,
    "start_time": "2024-06-12T03:31:01.412Z"
   },
   {
    "duration": 150,
    "start_time": "2024-06-12T03:31:12.345Z"
   },
   {
    "duration": 7,
    "start_time": "2024-06-12T03:40:07.096Z"
   },
   {
    "duration": 14,
    "start_time": "2024-06-12T03:42:17.785Z"
   },
   {
    "duration": 398,
    "start_time": "2024-06-12T12:16:31.016Z"
   },
   {
    "duration": 5425,
    "start_time": "2024-06-12T12:16:35.180Z"
   },
   {
    "duration": 423,
    "start_time": "2024-06-12T12:16:40.609Z"
   },
   {
    "duration": 20,
    "start_time": "2024-06-12T12:16:41.036Z"
   },
   {
    "duration": 11,
    "start_time": "2024-06-12T12:16:41.063Z"
   },
   {
    "duration": 1663,
    "start_time": "2024-06-12T12:16:41.078Z"
   },
   {
    "duration": 0,
    "start_time": "2024-06-12T12:16:42.749Z"
   },
   {
    "duration": 0,
    "start_time": "2024-06-12T12:16:42.753Z"
   },
   {
    "duration": 0,
    "start_time": "2024-06-12T12:16:42.756Z"
   },
   {
    "duration": 0,
    "start_time": "2024-06-12T12:16:42.759Z"
   },
   {
    "duration": 0,
    "start_time": "2024-06-12T12:16:42.761Z"
   },
   {
    "duration": 1,
    "start_time": "2024-06-12T12:16:42.763Z"
   },
   {
    "duration": 0,
    "start_time": "2024-06-12T12:16:42.767Z"
   },
   {
    "duration": 0,
    "start_time": "2024-06-12T12:16:42.769Z"
   },
   {
    "duration": 0,
    "start_time": "2024-06-12T12:16:42.772Z"
   },
   {
    "duration": 0,
    "start_time": "2024-06-12T12:16:42.775Z"
   },
   {
    "duration": 0,
    "start_time": "2024-06-12T12:16:42.777Z"
   },
   {
    "duration": 0,
    "start_time": "2024-06-12T12:16:42.780Z"
   },
   {
    "duration": 0,
    "start_time": "2024-06-12T12:16:42.824Z"
   },
   {
    "duration": 0,
    "start_time": "2024-06-12T12:16:42.827Z"
   },
   {
    "duration": 0,
    "start_time": "2024-06-12T12:16:42.829Z"
   },
   {
    "duration": 0,
    "start_time": "2024-06-12T12:16:42.831Z"
   },
   {
    "duration": 0,
    "start_time": "2024-06-12T12:16:42.834Z"
   },
   {
    "duration": 0,
    "start_time": "2024-06-12T12:16:42.837Z"
   },
   {
    "duration": 0,
    "start_time": "2024-06-12T12:16:42.839Z"
   },
   {
    "duration": 0,
    "start_time": "2024-06-12T12:16:42.841Z"
   },
   {
    "duration": 0,
    "start_time": "2024-06-12T12:16:42.844Z"
   },
   {
    "duration": 0,
    "start_time": "2024-06-12T12:16:42.846Z"
   },
   {
    "duration": 0,
    "start_time": "2024-06-12T12:16:42.849Z"
   },
   {
    "duration": 0,
    "start_time": "2024-06-12T12:16:42.852Z"
   },
   {
    "duration": 0,
    "start_time": "2024-06-12T12:16:42.855Z"
   },
   {
    "duration": 0,
    "start_time": "2024-06-12T12:16:42.858Z"
   },
   {
    "duration": 0,
    "start_time": "2024-06-12T12:16:42.859Z"
   },
   {
    "duration": 0,
    "start_time": "2024-06-12T12:16:42.861Z"
   },
   {
    "duration": 0,
    "start_time": "2024-06-12T12:16:42.864Z"
   },
   {
    "duration": 0,
    "start_time": "2024-06-12T12:16:42.867Z"
   },
   {
    "duration": 0,
    "start_time": "2024-06-12T12:16:42.868Z"
   },
   {
    "duration": 0,
    "start_time": "2024-06-12T12:16:42.869Z"
   },
   {
    "duration": 0,
    "start_time": "2024-06-12T12:16:42.926Z"
   },
   {
    "duration": 0,
    "start_time": "2024-06-12T12:16:42.927Z"
   },
   {
    "duration": 0,
    "start_time": "2024-06-12T12:16:42.937Z"
   },
   {
    "duration": 0,
    "start_time": "2024-06-12T12:16:42.939Z"
   },
   {
    "duration": 0,
    "start_time": "2024-06-12T12:16:42.941Z"
   },
   {
    "duration": 0,
    "start_time": "2024-06-12T12:16:42.944Z"
   },
   {
    "duration": 0,
    "start_time": "2024-06-12T12:16:42.947Z"
   },
   {
    "duration": 0,
    "start_time": "2024-06-12T12:16:42.949Z"
   },
   {
    "duration": 0,
    "start_time": "2024-06-12T12:16:42.952Z"
   },
   {
    "duration": 0,
    "start_time": "2024-06-12T12:16:42.954Z"
   },
   {
    "duration": 0,
    "start_time": "2024-06-12T12:16:42.957Z"
   },
   {
    "duration": 0,
    "start_time": "2024-06-12T12:16:42.960Z"
   },
   {
    "duration": 0,
    "start_time": "2024-06-12T12:16:42.962Z"
   },
   {
    "duration": 0,
    "start_time": "2024-06-12T12:16:42.964Z"
   },
   {
    "duration": 0,
    "start_time": "2024-06-12T12:16:42.967Z"
   },
   {
    "duration": 0,
    "start_time": "2024-06-12T12:16:42.969Z"
   },
   {
    "duration": 0,
    "start_time": "2024-06-12T12:16:42.971Z"
   },
   {
    "duration": 0,
    "start_time": "2024-06-12T12:16:42.972Z"
   },
   {
    "duration": 0,
    "start_time": "2024-06-12T12:16:43.022Z"
   },
   {
    "duration": 0,
    "start_time": "2024-06-12T12:16:43.029Z"
   },
   {
    "duration": 0,
    "start_time": "2024-06-12T12:16:43.033Z"
   },
   {
    "duration": 0,
    "start_time": "2024-06-12T12:16:43.036Z"
   },
   {
    "duration": 0,
    "start_time": "2024-06-12T12:16:43.038Z"
   },
   {
    "duration": 0,
    "start_time": "2024-06-12T12:16:43.041Z"
   },
   {
    "duration": 0,
    "start_time": "2024-06-12T12:16:43.042Z"
   },
   {
    "duration": 0,
    "start_time": "2024-06-12T12:16:43.047Z"
   },
   {
    "duration": 0,
    "start_time": "2024-06-12T12:16:43.049Z"
   },
   {
    "duration": 0,
    "start_time": "2024-06-12T12:16:43.051Z"
   },
   {
    "duration": 13,
    "start_time": "2024-06-12T12:17:08.192Z"
   },
   {
    "duration": 22,
    "start_time": "2024-06-12T12:17:16.042Z"
   },
   {
    "duration": 10,
    "start_time": "2024-06-12T12:17:19.059Z"
   },
   {
    "duration": 7,
    "start_time": "2024-06-12T12:17:23.676Z"
   },
   {
    "duration": 12,
    "start_time": "2024-06-12T12:17:25.327Z"
   },
   {
    "duration": 9,
    "start_time": "2024-06-12T12:17:28.191Z"
   },
   {
    "duration": 11,
    "start_time": "2024-06-12T12:17:30.810Z"
   },
   {
    "duration": 102,
    "start_time": "2024-06-12T12:17:33.880Z"
   },
   {
    "duration": 9,
    "start_time": "2024-06-12T12:17:36.642Z"
   },
   {
    "duration": 44,
    "start_time": "2024-06-12T12:17:46.194Z"
   },
   {
    "duration": 53,
    "start_time": "2024-06-12T12:17:47.324Z"
   },
   {
    "duration": 20,
    "start_time": "2024-06-12T12:17:50.075Z"
   },
   {
    "duration": 126,
    "start_time": "2024-06-12T12:17:54.559Z"
   },
   {
    "duration": 21,
    "start_time": "2024-06-12T12:18:09.341Z"
   },
   {
    "duration": 11,
    "start_time": "2024-06-12T12:19:53.377Z"
   },
   {
    "duration": 18,
    "start_time": "2024-06-12T12:20:21.742Z"
   },
   {
    "duration": 31,
    "start_time": "2024-06-12T12:20:27.310Z"
   },
   {
    "duration": 49,
    "start_time": "2024-06-12T12:20:30.143Z"
   },
   {
    "duration": 9,
    "start_time": "2024-06-12T12:20:32.479Z"
   },
   {
    "duration": 22,
    "start_time": "2024-06-12T12:20:35.130Z"
   },
   {
    "duration": 28,
    "start_time": "2024-06-12T12:20:37.176Z"
   },
   {
    "duration": 16,
    "start_time": "2024-06-12T12:20:40.657Z"
   },
   {
    "duration": 69,
    "start_time": "2024-06-12T12:20:44.008Z"
   },
   {
    "duration": 111,
    "start_time": "2024-06-12T12:20:46.326Z"
   },
   {
    "duration": 8,
    "start_time": "2024-06-12T12:20:49.109Z"
   },
   {
    "duration": 63,
    "start_time": "2024-06-12T12:20:52.093Z"
   },
   {
    "duration": 38,
    "start_time": "2024-06-12T12:20:53.643Z"
   },
   {
    "duration": 13,
    "start_time": "2024-06-12T12:20:58.775Z"
   },
   {
    "duration": 97,
    "start_time": "2024-06-12T12:21:01.627Z"
   },
   {
    "duration": 101,
    "start_time": "2024-06-12T12:22:03.703Z"
   },
   {
    "duration": 9,
    "start_time": "2024-06-12T12:26:16.979Z"
   },
   {
    "duration": 88,
    "start_time": "2024-06-12T12:26:38.679Z"
   },
   {
    "duration": 17,
    "start_time": "2024-06-12T12:26:43.926Z"
   },
   {
    "duration": 9,
    "start_time": "2024-06-12T12:26:46.712Z"
   },
   {
    "duration": 40,
    "start_time": "2024-06-12T12:26:50.460Z"
   },
   {
    "duration": 24,
    "start_time": "2024-06-12T12:26:53.980Z"
   },
   {
    "duration": 34,
    "start_time": "2024-06-12T12:26:58.861Z"
   },
   {
    "duration": 27,
    "start_time": "2024-06-12T12:27:10.662Z"
   },
   {
    "duration": 46,
    "start_time": "2024-06-12T12:27:15.142Z"
   },
   {
    "duration": 40,
    "start_time": "2024-06-12T12:27:22.343Z"
   },
   {
    "duration": 33,
    "start_time": "2024-06-12T12:27:31.027Z"
   },
   {
    "duration": 12,
    "start_time": "2024-06-12T12:27:39.427Z"
   },
   {
    "duration": 41,
    "start_time": "2024-06-12T12:28:34.551Z"
   },
   {
    "duration": 4,
    "start_time": "2024-06-12T12:50:41.390Z"
   },
   {
    "duration": 354,
    "start_time": "2024-06-12T12:50:41.399Z"
   },
   {
    "duration": 21,
    "start_time": "2024-06-12T12:50:41.757Z"
   },
   {
    "duration": 10,
    "start_time": "2024-06-12T12:50:41.782Z"
   },
   {
    "duration": 36,
    "start_time": "2024-06-12T12:50:41.795Z"
   },
   {
    "duration": 19,
    "start_time": "2024-06-12T12:50:41.835Z"
   },
   {
    "duration": 9,
    "start_time": "2024-06-12T12:50:41.858Z"
   },
   {
    "duration": 52,
    "start_time": "2024-06-12T12:50:41.871Z"
   },
   {
    "duration": 8,
    "start_time": "2024-06-12T12:50:41.927Z"
   },
   {
    "duration": 8,
    "start_time": "2024-06-12T12:50:41.942Z"
   },
   {
    "duration": 11,
    "start_time": "2024-06-12T12:50:41.953Z"
   },
   {
    "duration": 125,
    "start_time": "2024-06-12T12:50:41.967Z"
   },
   {
    "duration": 9,
    "start_time": "2024-06-12T12:50:42.095Z"
   },
   {
    "duration": 35,
    "start_time": "2024-06-12T12:50:42.124Z"
   },
   {
    "duration": 61,
    "start_time": "2024-06-12T12:50:42.163Z"
   },
   {
    "duration": 14,
    "start_time": "2024-06-12T12:50:42.227Z"
   },
   {
    "duration": 130,
    "start_time": "2024-06-12T12:50:42.244Z"
   },
   {
    "duration": 16,
    "start_time": "2024-06-12T12:50:42.377Z"
   },
   {
    "duration": 30,
    "start_time": "2024-06-12T12:50:42.397Z"
   },
   {
    "duration": 19,
    "start_time": "2024-06-12T12:50:42.431Z"
   },
   {
    "duration": 78,
    "start_time": "2024-06-12T12:50:42.453Z"
   },
   {
    "duration": 8,
    "start_time": "2024-06-12T12:50:42.535Z"
   },
   {
    "duration": 22,
    "start_time": "2024-06-12T12:50:42.547Z"
   },
   {
    "duration": 61,
    "start_time": "2024-06-12T12:50:42.573Z"
   },
   {
    "duration": 11,
    "start_time": "2024-06-12T12:50:42.638Z"
   },
   {
    "duration": 87,
    "start_time": "2024-06-12T12:50:42.652Z"
   },
   {
    "duration": 113,
    "start_time": "2024-06-12T12:50:42.742Z"
   },
   {
    "duration": 8,
    "start_time": "2024-06-12T12:50:42.867Z"
   },
   {
    "duration": 78,
    "start_time": "2024-06-12T12:50:42.879Z"
   },
   {
    "duration": 26,
    "start_time": "2024-06-12T12:50:42.960Z"
   },
   {
    "duration": 36,
    "start_time": "2024-06-12T12:50:42.989Z"
   },
   {
    "duration": 76,
    "start_time": "2024-06-12T12:50:43.029Z"
   },
   {
    "duration": 80,
    "start_time": "2024-06-12T12:50:43.125Z"
   },
   {
    "duration": 7,
    "start_time": "2024-06-12T12:50:43.224Z"
   },
   {
    "duration": 16,
    "start_time": "2024-06-12T12:50:43.234Z"
   },
   {
    "duration": 9,
    "start_time": "2024-06-12T12:50:43.253Z"
   },
   {
    "duration": 83,
    "start_time": "2024-06-12T12:50:43.266Z"
   },
   {
    "duration": 22,
    "start_time": "2024-06-12T12:50:43.353Z"
   },
   {
    "duration": 49,
    "start_time": "2024-06-12T12:50:43.378Z"
   },
   {
    "duration": 27,
    "start_time": "2024-06-12T12:50:43.430Z"
   },
   {
    "duration": 75,
    "start_time": "2024-06-12T12:50:43.460Z"
   },
   {
    "duration": 32,
    "start_time": "2024-06-12T12:50:43.538Z"
   },
   {
    "duration": 14,
    "start_time": "2024-06-12T12:50:43.573Z"
   },
   {
    "duration": 81,
    "start_time": "2024-06-12T12:50:43.590Z"
   },
   {
    "duration": 10,
    "start_time": "2024-06-12T12:50:43.675Z"
   },
   {
    "duration": 56,
    "start_time": "2024-06-12T12:50:43.689Z"
   },
   {
    "duration": 427,
    "start_time": "2024-06-12T12:50:43.749Z"
   },
   {
    "duration": 276,
    "start_time": "2024-06-12T12:50:44.182Z"
   },
   {
    "duration": 0,
    "start_time": "2024-06-12T12:50:44.461Z"
   },
   {
    "duration": 0,
    "start_time": "2024-06-12T12:50:44.464Z"
   },
   {
    "duration": 0,
    "start_time": "2024-06-12T12:50:44.466Z"
   },
   {
    "duration": 0,
    "start_time": "2024-06-12T12:50:44.468Z"
   },
   {
    "duration": 0,
    "start_time": "2024-06-12T12:50:44.472Z"
   },
   {
    "duration": 0,
    "start_time": "2024-06-12T12:50:44.475Z"
   },
   {
    "duration": 0,
    "start_time": "2024-06-12T12:50:44.477Z"
   },
   {
    "duration": 0,
    "start_time": "2024-06-12T12:50:44.482Z"
   },
   {
    "duration": 0,
    "start_time": "2024-06-12T12:50:44.484Z"
   },
   {
    "duration": 0,
    "start_time": "2024-06-12T12:50:44.523Z"
   },
   {
    "duration": 0,
    "start_time": "2024-06-12T12:50:44.526Z"
   },
   {
    "duration": 0,
    "start_time": "2024-06-12T12:50:44.528Z"
   },
   {
    "duration": 0,
    "start_time": "2024-06-12T12:50:44.530Z"
   },
   {
    "duration": 0,
    "start_time": "2024-06-12T12:50:44.532Z"
   },
   {
    "duration": 0,
    "start_time": "2024-06-12T12:50:44.534Z"
   },
   {
    "duration": 0,
    "start_time": "2024-06-12T12:50:44.536Z"
   },
   {
    "duration": 0,
    "start_time": "2024-06-12T12:50:44.539Z"
   },
   {
    "duration": 0,
    "start_time": "2024-06-12T12:50:44.541Z"
   },
   {
    "duration": 0,
    "start_time": "2024-06-12T12:50:44.543Z"
   },
   {
    "duration": 79,
    "start_time": "2024-06-12T12:51:32.803Z"
   },
   {
    "duration": 9,
    "start_time": "2024-06-12T12:52:00.987Z"
   },
   {
    "duration": 77,
    "start_time": "2024-06-12T12:53:50.572Z"
   },
   {
    "duration": 9,
    "start_time": "2024-06-12T12:54:06.620Z"
   },
   {
    "duration": 40,
    "start_time": "2024-06-12T12:54:11.622Z"
   },
   {
    "duration": 4,
    "start_time": "2024-06-12T12:54:36.527Z"
   },
   {
    "duration": 360,
    "start_time": "2024-06-12T12:54:36.535Z"
   },
   {
    "duration": 28,
    "start_time": "2024-06-12T12:54:36.898Z"
   },
   {
    "duration": 9,
    "start_time": "2024-06-12T12:54:36.931Z"
   },
   {
    "duration": 10,
    "start_time": "2024-06-12T12:54:36.944Z"
   },
   {
    "duration": 17,
    "start_time": "2024-06-12T12:54:36.959Z"
   },
   {
    "duration": 8,
    "start_time": "2024-06-12T12:54:37.022Z"
   },
   {
    "duration": 10,
    "start_time": "2024-06-12T12:54:37.033Z"
   },
   {
    "duration": 13,
    "start_time": "2024-06-12T12:54:37.046Z"
   },
   {
    "duration": 14,
    "start_time": "2024-06-12T12:54:37.065Z"
   },
   {
    "duration": 43,
    "start_time": "2024-06-12T12:54:37.084Z"
   },
   {
    "duration": 105,
    "start_time": "2024-06-12T12:54:37.131Z"
   },
   {
    "duration": 9,
    "start_time": "2024-06-12T12:54:37.239Z"
   },
   {
    "duration": 36,
    "start_time": "2024-06-12T12:54:37.250Z"
   },
   {
    "duration": 61,
    "start_time": "2024-06-12T12:54:37.290Z"
   },
   {
    "duration": 13,
    "start_time": "2024-06-12T12:54:37.356Z"
   },
   {
    "duration": 127,
    "start_time": "2024-06-12T12:54:37.372Z"
   },
   {
    "duration": 22,
    "start_time": "2024-06-12T12:54:37.502Z"
   },
   {
    "duration": 7,
    "start_time": "2024-06-12T12:54:37.528Z"
   },
   {
    "duration": 19,
    "start_time": "2024-06-12T12:54:37.538Z"
   },
   {
    "duration": 85,
    "start_time": "2024-06-12T12:54:37.560Z"
   },
   {
    "duration": 7,
    "start_time": "2024-06-12T12:54:37.648Z"
   },
   {
    "duration": 21,
    "start_time": "2024-06-12T12:54:37.658Z"
   },
   {
    "duration": 49,
    "start_time": "2024-06-12T12:54:37.682Z"
   },
   {
    "duration": 14,
    "start_time": "2024-06-12T12:54:37.733Z"
   },
   {
    "duration": 78,
    "start_time": "2024-06-12T12:54:37.751Z"
   },
   {
    "duration": 104,
    "start_time": "2024-06-12T12:54:37.834Z"
   },
   {
    "duration": 9,
    "start_time": "2024-06-12T12:54:37.949Z"
   },
   {
    "duration": 64,
    "start_time": "2024-06-12T12:54:37.961Z"
   },
   {
    "duration": 25,
    "start_time": "2024-06-12T12:54:38.027Z"
   },
   {
    "duration": 12,
    "start_time": "2024-06-12T12:54:38.055Z"
   },
   {
    "duration": 109,
    "start_time": "2024-06-12T12:54:38.069Z"
   },
   {
    "duration": 84,
    "start_time": "2024-06-12T12:54:38.181Z"
   },
   {
    "duration": 8,
    "start_time": "2024-06-12T12:54:38.268Z"
   },
   {
    "duration": 45,
    "start_time": "2024-06-12T12:54:38.280Z"
   },
   {
    "duration": 8,
    "start_time": "2024-06-12T12:54:38.328Z"
   },
   {
    "duration": 39,
    "start_time": "2024-06-12T12:54:38.340Z"
   },
   {
    "duration": 53,
    "start_time": "2024-06-12T12:54:38.382Z"
   },
   {
    "duration": 24,
    "start_time": "2024-06-12T12:54:38.437Z"
   },
   {
    "duration": 27,
    "start_time": "2024-06-12T12:54:38.464Z"
   },
   {
    "duration": 43,
    "start_time": "2024-06-12T12:54:38.523Z"
   },
   {
    "duration": 59,
    "start_time": "2024-06-12T12:54:38.569Z"
   },
   {
    "duration": 10,
    "start_time": "2024-06-12T12:54:38.632Z"
   },
   {
    "duration": 41,
    "start_time": "2024-06-12T12:54:38.646Z"
   },
   {
    "duration": 39,
    "start_time": "2024-06-12T12:54:38.691Z"
   },
   {
    "duration": 18,
    "start_time": "2024-06-12T12:54:38.733Z"
   },
   {
    "duration": 419,
    "start_time": "2024-06-12T12:54:38.754Z"
   },
   {
    "duration": 72,
    "start_time": "2024-06-12T12:54:39.177Z"
   },
   {
    "duration": 0,
    "start_time": "2024-06-12T12:54:39.252Z"
   },
   {
    "duration": 0,
    "start_time": "2024-06-12T12:54:39.254Z"
   },
   {
    "duration": 0,
    "start_time": "2024-06-12T12:54:39.256Z"
   },
   {
    "duration": 0,
    "start_time": "2024-06-12T12:54:39.258Z"
   },
   {
    "duration": 0,
    "start_time": "2024-06-12T12:54:39.260Z"
   },
   {
    "duration": 1,
    "start_time": "2024-06-12T12:54:39.263Z"
   },
   {
    "duration": 0,
    "start_time": "2024-06-12T12:54:39.266Z"
   },
   {
    "duration": 0,
    "start_time": "2024-06-12T12:54:39.269Z"
   },
   {
    "duration": 0,
    "start_time": "2024-06-12T12:54:39.272Z"
   },
   {
    "duration": 0,
    "start_time": "2024-06-12T12:54:39.274Z"
   },
   {
    "duration": 0,
    "start_time": "2024-06-12T12:54:39.277Z"
   },
   {
    "duration": 0,
    "start_time": "2024-06-12T12:54:39.280Z"
   },
   {
    "duration": 0,
    "start_time": "2024-06-12T12:54:39.282Z"
   },
   {
    "duration": 0,
    "start_time": "2024-06-12T12:54:39.323Z"
   },
   {
    "duration": 0,
    "start_time": "2024-06-12T12:54:39.325Z"
   },
   {
    "duration": 0,
    "start_time": "2024-06-12T12:54:39.327Z"
   },
   {
    "duration": 0,
    "start_time": "2024-06-12T12:54:39.330Z"
   },
   {
    "duration": 0,
    "start_time": "2024-06-12T12:54:39.332Z"
   },
   {
    "duration": 0,
    "start_time": "2024-06-12T12:54:39.335Z"
   },
   {
    "duration": 333,
    "start_time": "2024-06-12T12:55:35.301Z"
   },
   {
    "duration": 9,
    "start_time": "2024-06-12T12:55:40.713Z"
   },
   {
    "duration": 186,
    "start_time": "2024-06-12T12:55:44.214Z"
   },
   {
    "duration": 441,
    "start_time": "2024-06-12T12:55:52.682Z"
   },
   {
    "duration": 8,
    "start_time": "2024-06-12T12:55:55.435Z"
   },
   {
    "duration": 165,
    "start_time": "2024-06-12T12:55:58.198Z"
   },
   {
    "duration": 227,
    "start_time": "2024-06-12T12:56:01.115Z"
   },
   {
    "duration": 329,
    "start_time": "2024-06-12T12:56:12.813Z"
   },
   {
    "duration": 9,
    "start_time": "2024-06-12T12:56:16.833Z"
   },
   {
    "duration": 166,
    "start_time": "2024-06-12T12:56:25.681Z"
   },
   {
    "duration": 217,
    "start_time": "2024-06-12T12:59:36.998Z"
   },
   {
    "duration": 12,
    "start_time": "2024-06-12T13:07:04.731Z"
   },
   {
    "duration": 338,
    "start_time": "2024-06-12T13:07:10.533Z"
   },
   {
    "duration": 324,
    "start_time": "2024-06-12T13:07:22.649Z"
   },
   {
    "duration": 344,
    "start_time": "2024-06-12T13:07:31.500Z"
   },
   {
    "duration": 319,
    "start_time": "2024-06-12T13:07:48.004Z"
   },
   {
    "duration": 8,
    "start_time": "2024-06-12T13:09:34.202Z"
   },
   {
    "duration": 148,
    "start_time": "2024-06-12T13:09:38.216Z"
   },
   {
    "duration": 8,
    "start_time": "2024-06-12T13:11:44.083Z"
   },
   {
    "duration": 15,
    "start_time": "2024-06-12T13:28:20.886Z"
   },
   {
    "duration": 12,
    "start_time": "2024-06-13T03:05:34.338Z"
   }
  ],
  "colab": {
   "provenance": []
  },
  "kernelspec": {
   "display_name": "Python 3 (ipykernel)",
   "language": "python",
   "name": "python3"
  },
  "language_info": {
   "codemirror_mode": {
    "name": "ipython",
    "version": 3
   },
   "file_extension": ".py",
   "mimetype": "text/x-python",
   "name": "python",
   "nbconvert_exporter": "python",
   "pygments_lexer": "ipython3",
   "version": "3.9.19"
  },
  "toc": {
   "base_numbering": 1,
   "nav_menu": {},
   "number_sections": true,
   "sideBar": true,
   "skip_h1_title": false,
   "title_cell": "Table of Contents",
   "title_sidebar": "Contents",
   "toc_cell": false,
   "toc_position": {
    "height": "calc(100% - 180px)",
    "left": "10px",
    "top": "150px",
    "width": "196px"
   },
   "toc_section_display": true,
   "toc_window_display": true
  }
 },
 "nbformat": 4,
 "nbformat_minor": 1
}
